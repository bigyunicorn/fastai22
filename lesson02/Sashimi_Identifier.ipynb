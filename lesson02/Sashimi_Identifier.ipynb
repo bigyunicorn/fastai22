{
  "nbformat": 4,
  "nbformat_minor": 0,
  "metadata": {
    "colab": {
      "provenance": [],
      "authorship_tag": "ABX9TyNkYzsk1tLw5dqITK+jgykU",
      "include_colab_link": true
    },
    "kernelspec": {
      "name": "python3",
      "display_name": "Python 3"
    },
    "language_info": {
      "name": "python"
    }
  },
  "cells": [
    {
      "cell_type": "markdown",
      "metadata": {
        "id": "view-in-github",
        "colab_type": "text"
      },
      "source": [
        "<a href=\"https://colab.research.google.com/github/bigyunicorn/fastai22/blob/main/lesson02/Sashimi_Identifier.ipynb\" target=\"_parent\"><img src=\"https://colab.research.google.com/assets/colab-badge.svg\" alt=\"Open In Colab\"/></a>"
      ]
    },
    {
      "cell_type": "code",
      "execution_count": null,
      "metadata": {
        "colab": {
          "base_uri": "https://localhost:8080/"
        },
        "id": "s52gXFCHUDlj",
        "outputId": "a4b4c49c-b2aa-44a7-83d6-b28a75001ae7"
      },
      "outputs": [
        {
          "output_type": "stream",
          "name": "stdout",
          "text": [
            "\u001b[2K     \u001b[90m━━━━━━━━━━━━━━━━━━━━━━━━━━━━━━━━━━━━━━━━\u001b[0m \u001b[32m17.3/17.3 MB\u001b[0m \u001b[31m46.3 MB/s\u001b[0m eta \u001b[36m0:00:00\u001b[0m\n",
            "\u001b[2K     \u001b[90m━━━━━━━━━━━━━━━━━━━━━━━━━━━━━━━━━━━━━━━━\u001b[0m \u001b[32m64.8/64.8 kB\u001b[0m \u001b[31m4.8 MB/s\u001b[0m eta \u001b[36m0:00:00\u001b[0m\n",
            "\u001b[2K     \u001b[90m━━━━━━━━━━━━━━━━━━━━━━━━━━━━━━━━━━━━━━━\u001b[0m \u001b[32m135.6/135.6 kB\u001b[0m \u001b[31m3.7 MB/s\u001b[0m eta \u001b[36m0:00:00\u001b[0m\n",
            "\u001b[?25h  Preparing metadata (setup.py) ... \u001b[?25l\u001b[?25hdone\n",
            "\u001b[2K     \u001b[90m━━━━━━━━━━━━━━━━━━━━━━━━━━━━━━━━━━━━━━\u001b[0m \u001b[32m224.5/224.5 kB\u001b[0m \u001b[31m10.5 MB/s\u001b[0m eta \u001b[36m0:00:00\u001b[0m\n",
            "\u001b[2K     \u001b[90m━━━━━━━━━━━━━━━━━━━━━━━━━━━━━━━━━━━━━━━\u001b[0m \u001b[32m129.9/129.9 kB\u001b[0m \u001b[31m3.6 MB/s\u001b[0m eta \u001b[36m0:00:00\u001b[0m\n",
            "\u001b[2K     \u001b[90m━━━━━━━━━━━━━━━━━━━━━━━━━━━━━━━━━━━━━━━━\u001b[0m \u001b[32m1.0/1.0 MB\u001b[0m \u001b[31m7.5 MB/s\u001b[0m eta \u001b[36m0:00:00\u001b[0m\n",
            "\u001b[2K     \u001b[90m━━━━━━━━━━━━━━━━━━━━━━━━━━━━━━━━━━━━━━━━\u001b[0m \u001b[32m75.3/75.3 kB\u001b[0m \u001b[31m4.5 MB/s\u001b[0m eta \u001b[36m0:00:00\u001b[0m\n",
            "\u001b[2K     \u001b[90m━━━━━━━━━━━━━━━━━━━━━━━━━━━━━━━━━━━━━━━\u001b[0m \u001b[32m50.5/50.5 kB\u001b[0m \u001b[31m990.2 kB/s\u001b[0m eta \u001b[36m0:00:00\u001b[0m\n",
            "\u001b[2K     \u001b[90m━━━━━━━━━━━━━━━━━━━━━━━━━━━━━━━━━━━━━━━\u001b[0m \u001b[32m286.7/286.7 kB\u001b[0m \u001b[31m9.7 MB/s\u001b[0m eta \u001b[36m0:00:00\u001b[0m\n",
            "\u001b[2K     \u001b[90m━━━━━━━━━━━━━━━━━━━━━━━━━━━━━━━━━━━━━━━━\u001b[0m \u001b[32m45.7/45.7 kB\u001b[0m \u001b[31m3.4 MB/s\u001b[0m eta \u001b[36m0:00:00\u001b[0m\n",
            "\u001b[2K     \u001b[90m━━━━━━━━━━━━━━━━━━━━━━━━━━━━━━━━━━━━━━━━\u001b[0m \u001b[32m58.3/58.3 kB\u001b[0m \u001b[31m4.4 MB/s\u001b[0m eta \u001b[36m0:00:00\u001b[0m\n",
            "\u001b[2K     \u001b[90m━━━━━━━━━━━━━━━━━━━━━━━━━━━━━━━━━━━━━━━━\u001b[0m \u001b[32m57.0/57.0 kB\u001b[0m \u001b[31m2.0 MB/s\u001b[0m eta \u001b[36m0:00:00\u001b[0m\n",
            "\u001b[2K     \u001b[90m━━━━━━━━━━━━━━━━━━━━━━━━━━━━━━━━━━━━━━━━\u001b[0m \u001b[32m58.1/58.1 kB\u001b[0m \u001b[31m1.4 MB/s\u001b[0m eta \u001b[36m0:00:00\u001b[0m\n",
            "\u001b[2K     \u001b[90m━━━━━━━━━━━━━━━━━━━━━━━━━━━━━━━━━━━━━━━━\u001b[0m \u001b[32m82.1/82.1 kB\u001b[0m \u001b[31m5.7 MB/s\u001b[0m eta \u001b[36m0:00:00\u001b[0m\n",
            "\u001b[2K     \u001b[90m━━━━━━━━━━━━━━━━━━━━━━━━━━━━━━━━━━━━━━━\u001b[0m \u001b[32m114.5/114.5 kB\u001b[0m \u001b[31m4.0 MB/s\u001b[0m eta \u001b[36m0:00:00\u001b[0m\n",
            "\u001b[2K     \u001b[90m━━━━━━━━━━━━━━━━━━━━━━━━━━━━━━━━━━━━━━━\u001b[0m \u001b[32m149.6/149.6 kB\u001b[0m \u001b[31m9.8 MB/s\u001b[0m eta \u001b[36m0:00:00\u001b[0m\n",
            "\u001b[2K     \u001b[90m━━━━━━━━━━━━━━━━━━━━━━━━━━━━━━━━━━━━━━━\u001b[0m \u001b[32m268.8/268.8 kB\u001b[0m \u001b[31m7.1 MB/s\u001b[0m eta \u001b[36m0:00:00\u001b[0m\n",
            "\u001b[2K     \u001b[90m━━━━━━━━━━━━━━━━━━━━━━━━━━━━━━━━━━━━━━━━\u001b[0m \u001b[32m66.9/66.9 kB\u001b[0m \u001b[31m4.2 MB/s\u001b[0m eta \u001b[36m0:00:00\u001b[0m\n",
            "\u001b[2K     \u001b[90m━━━━━━━━━━━━━━━━━━━━━━━━━━━━━━━━━━━━━━━━\u001b[0m \u001b[32m70.6/70.6 kB\u001b[0m \u001b[31m5.7 MB/s\u001b[0m eta \u001b[36m0:00:00\u001b[0m\n",
            "\u001b[2K     \u001b[90m━━━━━━━━━━━━━━━━━━━━━━━━━━━━━━━━━━━━━━━━\u001b[0m \u001b[32m58.3/58.3 kB\u001b[0m \u001b[31m4.0 MB/s\u001b[0m eta \u001b[36m0:00:00\u001b[0m\n",
            "\u001b[2K     \u001b[90m━━━━━━━━━━━━━━━━━━━━━━━━━━━━━━━━━━━━━━━━\u001b[0m \u001b[32m1.6/1.6 MB\u001b[0m \u001b[31m51.1 MB/s\u001b[0m eta \u001b[36m0:00:00\u001b[0m\n",
            "\u001b[?25h  Building wheel for ffmpy (setup.py) ... \u001b[?25l\u001b[?25hdone\n"
          ]
        }
      ],
      "source": [
        "!pip install -Uqq fastai gradio nbdev"
      ]
    },
    {
      "cell_type": "code",
      "source": [
        "!pip show fastai gradio nbdev"
      ],
      "metadata": {
        "colab": {
          "base_uri": "https://localhost:8080/"
        },
        "id": "ExtQfuu5WDQ6",
        "outputId": "b95901b1-f656-4f06-e1c2-c71f8e47b280"
      },
      "execution_count": null,
      "outputs": [
        {
          "output_type": "stream",
          "name": "stdout",
          "text": [
            "Name: fastai\n",
            "Version: 2.7.12\n",
            "Summary: fastai simplifies training fast and accurate neural nets using modern best practices\n",
            "Home-page: https://github.com/fastai/fastai\n",
            "Author: Jeremy Howard, Sylvain Gugger, and contributors\n",
            "Author-email: info@fast.ai\n",
            "License: Apache Software License 2.0\n",
            "Location: /usr/local/lib/python3.10/dist-packages\n",
            "Requires: fastcore, fastdownload, fastprogress, matplotlib, packaging, pandas, pillow, pip, pyyaml, requests, scikit-learn, scipy, spacy, torch, torchvision\n",
            "Required-by: \n",
            "---\n",
            "Name: gradio\n",
            "Version: 3.28.1\n",
            "Summary: Python library for easily interacting with trained machine learning models\n",
            "Home-page: \n",
            "Author: \n",
            "Author-email: Abubakar Abid <team@gradio.app>, Ali Abid <team@gradio.app>, Ali Abdalla <team@gradio.app>, Dawood Khan <team@gradio.app>, Ahsen Khaliq <team@gradio.app>, Pete Allen <team@gradio.app>, Ömer Faruk Özdemir <team@gradio.app>\n",
            "License: \n",
            "Location: /usr/local/lib/python3.10/dist-packages\n",
            "Requires: aiofiles, aiohttp, altair, fastapi, ffmpy, gradio-client, httpx, huggingface-hub, jinja2, markdown-it-py, markupsafe, matplotlib, mdit-py-plugins, numpy, orjson, pandas, pillow, pydantic, pydub, python-multipart, pyyaml, requests, semantic-version, typing-extensions, uvicorn, websockets\n",
            "Required-by: \n",
            "---\n",
            "Name: nbdev\n",
            "Version: 2.3.12\n",
            "Summary: Create delightful software with Jupyter Notebooks\n",
            "Home-page: https://github.com/fastai/nbdev\n",
            "Author: Jeremy Howard and Hamel Husain\n",
            "Author-email: j@fast.ai\n",
            "License: Apache Software License 2.0\n",
            "Location: /usr/local/lib/python3.10/dist-packages\n",
            "Requires: asttokens, astunparse, execnb, fastcore, ghapi, PyYAML, watchdog\n",
            "Required-by: \n"
          ]
        }
      ]
    },
    {
      "cell_type": "code",
      "source": [
        "#|default_exp app"
      ],
      "metadata": {
        "id": "o01bxDivZR2i"
      },
      "execution_count": null,
      "outputs": []
    },
    {
      "cell_type": "code",
      "source": [
        "#|export\n",
        "from fastai.vision.all import *\n",
        "import gradio as gr"
      ],
      "metadata": {
        "id": "I2yKD4iDUIDz"
      },
      "execution_count": null,
      "outputs": []
    },
    {
      "cell_type": "code",
      "source": [
        "dest = Path()\n",
        "dest.ls(file_exts='.pkl')"
      ],
      "metadata": {
        "colab": {
          "base_uri": "https://localhost:8080/"
        },
        "id": "WiB92T3GWPKl",
        "outputId": "311cf954-096d-46fd-9243-61d623999c92"
      },
      "execution_count": null,
      "outputs": [
        {
          "output_type": "execute_result",
          "data": {
            "text/plain": [
              "(#0) []"
            ]
          },
          "metadata": {},
          "execution_count": 5
        }
      ]
    },
    {
      "cell_type": "code",
      "source": [
        "#|export\n",
        "# first load the learner\n",
        "learner = load_learner ('./sashimiModel.pkl')"
      ],
      "metadata": {
        "id": "Fxpy983uU6-p"
      },
      "execution_count": null,
      "outputs": []
    },
    {
      "cell_type": "code",
      "source": [
        "learner.dls.vocab"
      ],
      "metadata": {
        "colab": {
          "base_uri": "https://localhost:8080/"
        },
        "id": "d2qP3dOaXn4u",
        "outputId": "fcf864da-5e65-4e6b-cb55-5b9bbf83b2cb"
      },
      "execution_count": null,
      "outputs": [
        {
          "output_type": "execute_result",
          "data": {
            "text/plain": [
              "['Ahi-YellowfinAndBigeyeTuna', 'Ebi-SweetShrimpOrPrawns', 'Hamachi-Yellowtail', 'Hamadai-RedSnapper', 'Hotate-Scallops', 'Ika-Squid', 'Katsuo-BonitoOrSkipjackTuna', 'Maguro-BluefinTuna', 'Saba-JapaneseMackerel', 'Sake-Salmon']"
            ]
          },
          "metadata": {},
          "execution_count": 8
        }
      ]
    },
    {
      "cell_type": "code",
      "source": [
        "m = learner.model\n",
        "m"
      ],
      "metadata": {
        "colab": {
          "base_uri": "https://localhost:8080/"
        },
        "id": "9H7aQfC0shuH",
        "outputId": "3186eee3-0aef-4261-b2b5-81e9ae64a74b"
      },
      "execution_count": null,
      "outputs": [
        {
          "output_type": "execute_result",
          "data": {
            "text/plain": [
              "Sequential(\n",
              "  (0): Sequential(\n",
              "    (0): Conv2d(3, 64, kernel_size=(7, 7), stride=(2, 2), padding=(3, 3), bias=False)\n",
              "    (1): BatchNorm2d(64, eps=1e-05, momentum=0.1, affine=True, track_running_stats=True)\n",
              "    (2): ReLU(inplace=True)\n",
              "    (3): MaxPool2d(kernel_size=3, stride=2, padding=1, dilation=1, ceil_mode=False)\n",
              "    (4): Sequential(\n",
              "      (0): BasicBlock(\n",
              "        (conv1): Conv2d(64, 64, kernel_size=(3, 3), stride=(1, 1), padding=(1, 1), bias=False)\n",
              "        (bn1): BatchNorm2d(64, eps=1e-05, momentum=0.1, affine=True, track_running_stats=True)\n",
              "        (relu): ReLU(inplace=True)\n",
              "        (conv2): Conv2d(64, 64, kernel_size=(3, 3), stride=(1, 1), padding=(1, 1), bias=False)\n",
              "        (bn2): BatchNorm2d(64, eps=1e-05, momentum=0.1, affine=True, track_running_stats=True)\n",
              "      )\n",
              "      (1): BasicBlock(\n",
              "        (conv1): Conv2d(64, 64, kernel_size=(3, 3), stride=(1, 1), padding=(1, 1), bias=False)\n",
              "        (bn1): BatchNorm2d(64, eps=1e-05, momentum=0.1, affine=True, track_running_stats=True)\n",
              "        (relu): ReLU(inplace=True)\n",
              "        (conv2): Conv2d(64, 64, kernel_size=(3, 3), stride=(1, 1), padding=(1, 1), bias=False)\n",
              "        (bn2): BatchNorm2d(64, eps=1e-05, momentum=0.1, affine=True, track_running_stats=True)\n",
              "      )\n",
              "    )\n",
              "    (5): Sequential(\n",
              "      (0): BasicBlock(\n",
              "        (conv1): Conv2d(64, 128, kernel_size=(3, 3), stride=(2, 2), padding=(1, 1), bias=False)\n",
              "        (bn1): BatchNorm2d(128, eps=1e-05, momentum=0.1, affine=True, track_running_stats=True)\n",
              "        (relu): ReLU(inplace=True)\n",
              "        (conv2): Conv2d(128, 128, kernel_size=(3, 3), stride=(1, 1), padding=(1, 1), bias=False)\n",
              "        (bn2): BatchNorm2d(128, eps=1e-05, momentum=0.1, affine=True, track_running_stats=True)\n",
              "        (downsample): Sequential(\n",
              "          (0): Conv2d(64, 128, kernel_size=(1, 1), stride=(2, 2), bias=False)\n",
              "          (1): BatchNorm2d(128, eps=1e-05, momentum=0.1, affine=True, track_running_stats=True)\n",
              "        )\n",
              "      )\n",
              "      (1): BasicBlock(\n",
              "        (conv1): Conv2d(128, 128, kernel_size=(3, 3), stride=(1, 1), padding=(1, 1), bias=False)\n",
              "        (bn1): BatchNorm2d(128, eps=1e-05, momentum=0.1, affine=True, track_running_stats=True)\n",
              "        (relu): ReLU(inplace=True)\n",
              "        (conv2): Conv2d(128, 128, kernel_size=(3, 3), stride=(1, 1), padding=(1, 1), bias=False)\n",
              "        (bn2): BatchNorm2d(128, eps=1e-05, momentum=0.1, affine=True, track_running_stats=True)\n",
              "      )\n",
              "    )\n",
              "    (6): Sequential(\n",
              "      (0): BasicBlock(\n",
              "        (conv1): Conv2d(128, 256, kernel_size=(3, 3), stride=(2, 2), padding=(1, 1), bias=False)\n",
              "        (bn1): BatchNorm2d(256, eps=1e-05, momentum=0.1, affine=True, track_running_stats=True)\n",
              "        (relu): ReLU(inplace=True)\n",
              "        (conv2): Conv2d(256, 256, kernel_size=(3, 3), stride=(1, 1), padding=(1, 1), bias=False)\n",
              "        (bn2): BatchNorm2d(256, eps=1e-05, momentum=0.1, affine=True, track_running_stats=True)\n",
              "        (downsample): Sequential(\n",
              "          (0): Conv2d(128, 256, kernel_size=(1, 1), stride=(2, 2), bias=False)\n",
              "          (1): BatchNorm2d(256, eps=1e-05, momentum=0.1, affine=True, track_running_stats=True)\n",
              "        )\n",
              "      )\n",
              "      (1): BasicBlock(\n",
              "        (conv1): Conv2d(256, 256, kernel_size=(3, 3), stride=(1, 1), padding=(1, 1), bias=False)\n",
              "        (bn1): BatchNorm2d(256, eps=1e-05, momentum=0.1, affine=True, track_running_stats=True)\n",
              "        (relu): ReLU(inplace=True)\n",
              "        (conv2): Conv2d(256, 256, kernel_size=(3, 3), stride=(1, 1), padding=(1, 1), bias=False)\n",
              "        (bn2): BatchNorm2d(256, eps=1e-05, momentum=0.1, affine=True, track_running_stats=True)\n",
              "      )\n",
              "    )\n",
              "    (7): Sequential(\n",
              "      (0): BasicBlock(\n",
              "        (conv1): Conv2d(256, 512, kernel_size=(3, 3), stride=(2, 2), padding=(1, 1), bias=False)\n",
              "        (bn1): BatchNorm2d(512, eps=1e-05, momentum=0.1, affine=True, track_running_stats=True)\n",
              "        (relu): ReLU(inplace=True)\n",
              "        (conv2): Conv2d(512, 512, kernel_size=(3, 3), stride=(1, 1), padding=(1, 1), bias=False)\n",
              "        (bn2): BatchNorm2d(512, eps=1e-05, momentum=0.1, affine=True, track_running_stats=True)\n",
              "        (downsample): Sequential(\n",
              "          (0): Conv2d(256, 512, kernel_size=(1, 1), stride=(2, 2), bias=False)\n",
              "          (1): BatchNorm2d(512, eps=1e-05, momentum=0.1, affine=True, track_running_stats=True)\n",
              "        )\n",
              "      )\n",
              "      (1): BasicBlock(\n",
              "        (conv1): Conv2d(512, 512, kernel_size=(3, 3), stride=(1, 1), padding=(1, 1), bias=False)\n",
              "        (bn1): BatchNorm2d(512, eps=1e-05, momentum=0.1, affine=True, track_running_stats=True)\n",
              "        (relu): ReLU(inplace=True)\n",
              "        (conv2): Conv2d(512, 512, kernel_size=(3, 3), stride=(1, 1), padding=(1, 1), bias=False)\n",
              "        (bn2): BatchNorm2d(512, eps=1e-05, momentum=0.1, affine=True, track_running_stats=True)\n",
              "      )\n",
              "    )\n",
              "  )\n",
              "  (1): Sequential(\n",
              "    (0): AdaptiveConcatPool2d(\n",
              "      (ap): AdaptiveAvgPool2d(output_size=1)\n",
              "      (mp): AdaptiveMaxPool2d(output_size=1)\n",
              "    )\n",
              "    (1): fastai.layers.Flatten(full=False)\n",
              "    (2): BatchNorm1d(1024, eps=1e-05, momentum=0.1, affine=True, track_running_stats=True)\n",
              "    (3): Dropout(p=0.25, inplace=False)\n",
              "    (4): Linear(in_features=1024, out_features=512, bias=False)\n",
              "    (5): ReLU(inplace=True)\n",
              "    (6): BatchNorm1d(512, eps=1e-05, momentum=0.1, affine=True, track_running_stats=True)\n",
              "    (7): Dropout(p=0.5, inplace=False)\n",
              "    (8): Linear(in_features=512, out_features=10, bias=False)\n",
              "  )\n",
              ")"
            ]
          },
          "metadata": {},
          "execution_count": 9
        }
      ]
    },
    {
      "cell_type": "code",
      "source": [
        "l = m.get_submodule('0.4.0')\n",
        "list(l.parameters())"
      ],
      "metadata": {
        "colab": {
          "base_uri": "https://localhost:8080/"
        },
        "id": "_jomeOavtGD8",
        "outputId": "e1c392b4-7ae3-4866-d0dc-2adc7c4602c6"
      },
      "execution_count": null,
      "outputs": [
        {
          "output_type": "execute_result",
          "data": {
            "text/plain": [
              "[Parameter containing:\n",
              " tensor([[[[ 5.7561e-02, -9.5155e-02, -2.0370e-02],\n",
              "           [-7.4588e-02, -7.9938e-01, -2.1302e-01],\n",
              "           [ 6.5478e-02, -9.6671e-02, -1.2317e-02]],\n",
              " \n",
              "          [[-6.9056e-03,  1.4349e-02,  5.7810e-04],\n",
              "           [ 4.1316e-02, -1.6109e-01, -2.3092e-02],\n",
              "           [ 3.2495e-03,  7.1361e-03,  7.1627e-02]],\n",
              " \n",
              "          [[-2.3627e-09, -3.9269e-08, -3.2971e-08],\n",
              "           [ 2.1737e-08,  8.3298e-09,  1.2542e-08],\n",
              "           [ 1.1381e-08,  8.8094e-09,  1.5505e-08]],\n",
              " \n",
              "          ...,\n",
              " \n",
              "          [[-3.6993e-02,  1.8161e-02, -2.9494e-02],\n",
              "           [-9.8725e-02, -4.3794e-02, -5.2828e-02],\n",
              "           [-7.9733e-02,  2.9288e-02,  4.0731e-03]],\n",
              " \n",
              "          [[ 1.7033e-02,  1.4048e-02,  9.7362e-03],\n",
              "           [ 1.4349e-02, -5.8730e-04, -2.2019e-02],\n",
              "           [ 1.2429e-02,  3.5503e-02, -2.2305e-02]],\n",
              " \n",
              "          [[-2.2539e-02, -2.5354e-02, -2.3619e-02],\n",
              "           [ 6.0824e-02, -9.6808e-02,  2.4089e-02],\n",
              "           [-1.2765e-02,  9.2305e-02,  4.0252e-03]]],\n",
              " \n",
              " \n",
              "         [[[ 2.2153e-02,  4.2197e-02, -1.6405e-02],\n",
              "           [-2.9577e-02,  5.6922e-02,  2.5568e-02],\n",
              "           [ 4.3638e-03,  5.1170e-02,  1.0459e-02]],\n",
              " \n",
              "          [[ 2.5223e-02,  5.4287e-02,  5.3820e-02],\n",
              "           [-2.8353e-02, -2.0137e-01, -5.6359e-02],\n",
              "           [ 5.6669e-02,  7.4086e-02,  2.1474e-02]],\n",
              " \n",
              "          [[-3.1457e-08,  3.5335e-08,  5.3790e-08],\n",
              "           [-2.6896e-08,  5.1529e-08,  5.4479e-08],\n",
              "           [-3.8486e-08, -1.1234e-08, -7.5785e-09]],\n",
              " \n",
              "          ...,\n",
              " \n",
              "          [[-1.2743e-01,  4.3678e-02, -6.5529e-02],\n",
              "           [-6.0327e-02,  1.6006e-01, -7.6124e-03],\n",
              "           [-9.4114e-02,  5.0852e-02, -7.8091e-02]],\n",
              " \n",
              "          [[-3.3441e-02,  1.6117e-03, -8.8980e-03],\n",
              "           [ 1.5471e-02, -5.8374e-02, -2.7561e-02],\n",
              "           [ 1.2961e-02, -3.0411e-02, -2.2987e-03]],\n",
              " \n",
              "          [[-4.2751e-03,  3.4646e-02,  3.9336e-03],\n",
              "           [ 5.4420e-02, -1.2312e-02,  3.2991e-02],\n",
              "           [ 2.5202e-04,  1.5970e-02,  1.2758e-01]]],\n",
              " \n",
              " \n",
              "         [[[-3.5237e-02,  8.1139e-03,  2.0333e-02],\n",
              "           [ 1.7416e-02, -2.4216e-02, -1.6756e-04],\n",
              "           [-2.4993e-04,  2.8030e-02, -2.4163e-03]],\n",
              " \n",
              "          [[-2.3726e-02, -3.1658e-03, -5.7257e-03],\n",
              "           [-1.1568e-02,  1.7867e-03,  2.1074e-02],\n",
              "           [ 4.3984e-03, -4.6409e-02, -7.2937e-02]],\n",
              " \n",
              "          [[ 3.1002e-08,  5.3567e-08,  3.1872e-08],\n",
              "           [-1.6063e-08, -1.8072e-08, -1.9507e-09],\n",
              "           [-5.8339e-08, -4.5365e-08, -1.2395e-08]],\n",
              " \n",
              "          ...,\n",
              " \n",
              "          [[-2.0043e-03, -2.6819e-02, -4.3776e-02],\n",
              "           [ 2.4533e-02, -2.8358e-02, -3.5831e-02],\n",
              "           [-1.1682e-04, -2.4589e-02, -2.0035e-02]],\n",
              " \n",
              "          [[ 2.1516e-02,  2.2336e-03, -2.5922e-02],\n",
              "           [ 2.3244e-02, -7.9998e-03, -2.1907e-03],\n",
              "           [-5.7596e-03, -2.7033e-02, -1.4573e-02]],\n",
              " \n",
              "          [[-1.9591e-02,  2.7999e-02, -1.9988e-02],\n",
              "           [ 6.3318e-02, -3.9024e-02, -3.2761e-03],\n",
              "           [-2.7331e-02,  1.1466e-02, -3.1229e-03]]],\n",
              " \n",
              " \n",
              "         ...,\n",
              " \n",
              " \n",
              "         [[[ 4.3758e-03, -7.6403e-03, -6.4877e-02],\n",
              "           [ 1.3965e-02, -2.2683e-02, -4.6336e-02],\n",
              "           [ 2.7891e-02,  1.6240e-02, -1.3223e-02]],\n",
              " \n",
              "          [[ 4.7398e-02, -2.4921e-02, -2.7519e-02],\n",
              "           [ 7.0236e-02,  4.3770e-03, -1.0786e-01],\n",
              "           [ 1.7592e-02,  4.5729e-02,  8.0224e-03]],\n",
              " \n",
              "          [[ 2.6680e-09,  2.7670e-08,  2.4701e-08],\n",
              "           [ 6.3904e-09,  4.1020e-08,  3.3631e-08],\n",
              "           [ 5.8334e-09,  1.3333e-08,  9.6602e-09]],\n",
              " \n",
              "          ...,\n",
              " \n",
              "          [[ 4.6398e-03,  4.7144e-02, -8.6458e-03],\n",
              "           [-6.3257e-03,  5.9563e-02,  5.8651e-03],\n",
              "           [-2.0238e-02,  4.3305e-02,  4.5560e-03]],\n",
              " \n",
              "          [[ 9.4281e-04, -5.9172e-03, -6.9897e-03],\n",
              "           [ 5.9733e-03,  7.2682e-03, -1.1811e-02],\n",
              "           [-1.1519e-03,  5.1948e-03, -1.9828e-02]],\n",
              " \n",
              "          [[ 1.7507e-02,  4.4605e-02, -2.6520e-02],\n",
              "           [ 2.2165e-02,  4.5986e-02,  2.3530e-02],\n",
              "           [ 1.8187e-02,  5.9844e-02,  1.7309e-02]]],\n",
              " \n",
              " \n",
              "         [[[-2.8965e-02,  3.6014e-03, -1.7291e-02],\n",
              "           [-2.3554e-02,  2.2926e-02, -3.8061e-02],\n",
              "           [-1.0211e-02, -4.2687e-03, -2.3484e-02]],\n",
              " \n",
              "          [[-4.9471e-02, -3.1483e-03, -1.5240e-02],\n",
              "           [-1.3369e-02,  5.4963e-02,  1.1336e-02],\n",
              "           [-2.3483e-02, -2.8400e-02, -6.6267e-02]],\n",
              " \n",
              "          [[-4.9804e-08, -2.8210e-08, -2.0583e-08],\n",
              "           [-5.2388e-08, -2.8522e-08, -3.5099e-08],\n",
              "           [-3.2170e-08, -3.4109e-08, -4.3153e-08]],\n",
              " \n",
              "          ...,\n",
              " \n",
              "          [[ 3.4926e-03,  2.6571e-02, -1.1068e-02],\n",
              "           [ 7.1204e-03,  3.7923e-02, -3.2355e-02],\n",
              "           [ 4.1393e-02,  3.2331e-02,  2.9215e-03]],\n",
              " \n",
              "          [[-6.5753e-03,  1.6504e-02,  2.1787e-02],\n",
              "           [-1.2212e-02,  2.2424e-02,  1.2677e-02],\n",
              "           [-8.8736e-03,  1.3420e-03, -5.1918e-03]],\n",
              " \n",
              "          [[-2.4087e-03,  7.2798e-02, -7.6902e-03],\n",
              "           [-4.2173e-02,  7.9833e-02, -2.7649e-02],\n",
              "           [ 4.7040e-03, -5.6576e-02, -8.2279e-02]]],\n",
              " \n",
              " \n",
              "         [[[ 5.2098e-02,  3.3827e-03, -3.3301e-02],\n",
              "           [ 3.0992e-02,  1.6152e-02,  1.7192e-02],\n",
              "           [ 1.4497e-02,  2.4315e-02, -1.9879e-03]],\n",
              " \n",
              "          [[-2.4828e-02,  8.1584e-03, -6.1517e-02],\n",
              "           [-1.6141e-02,  5.5244e-02, -6.5177e-02],\n",
              "           [-2.4700e-02,  9.9629e-04,  3.2381e-02]],\n",
              " \n",
              "          [[ 1.8496e-08,  5.2797e-09,  4.1819e-08],\n",
              "           [ 3.7489e-08,  2.5450e-08,  3.0419e-08],\n",
              "           [ 1.1246e-08, -5.6955e-09, -2.0007e-08]],\n",
              " \n",
              "          ...,\n",
              " \n",
              "          [[ 7.2167e-03, -4.1002e-02, -1.0018e-02],\n",
              "           [ 2.5990e-02, -6.3796e-02,  1.3316e-02],\n",
              "           [ 2.9834e-02, -7.9228e-03,  1.3989e-02]],\n",
              " \n",
              "          [[-2.6099e-03,  2.1981e-02, -2.0033e-02],\n",
              "           [-5.9515e-02,  4.3768e-02,  2.6717e-02],\n",
              "           [-1.7564e-02,  2.4527e-02,  2.4719e-02]],\n",
              " \n",
              "          [[ 3.5793e-02, -7.0375e-02,  3.8744e-03],\n",
              "           [-2.9894e-02,  9.2724e-02,  1.9268e-02],\n",
              "           [-2.9155e-02, -9.7564e-03, -7.3526e-02]]]], requires_grad=True),\n",
              " Parameter containing:\n",
              " tensor([0.3096, 0.2145, 0.2366, 0.4259, 0.5123, 0.2193, 0.2205, 0.2300, 0.2632,\n",
              "         0.2684, 0.2137, 0.4603, 0.2666, 0.2310, 0.3887, 0.2381, 0.2667, 0.3625,\n",
              "         0.3474, 0.2487, 0.3305, 0.5347, 0.6441, 0.2278, 0.4492, 0.3097, 0.2599,\n",
              "         0.4657, 0.2176, 0.2852, 0.3427, 0.4424, 0.4445, 0.4510, 0.5499, 0.5101,\n",
              "         0.2577, 0.2637, 0.5662, 0.6406, 0.2229, 0.1987, 0.2458, 0.2239, 0.2136,\n",
              "         0.1982, 0.6357, 0.3109, 0.5042, 0.2400, 0.3074, 0.3748, 0.3796, 0.4291,\n",
              "         0.2994, 0.3328, 0.2589, 0.3345, 0.2002, 0.4346, 0.1688, 0.5151, 0.2603,\n",
              "         0.3246], requires_grad=True),\n",
              " Parameter containing:\n",
              " tensor([ 0.1659,  0.2422,  0.1797, -0.0441, -0.2065,  0.1600,  0.2921,  0.0908,\n",
              "          0.1117,  0.0885,  0.1109, -0.2034,  0.1546,  0.0849, -0.1109,  0.0647,\n",
              "          0.0772, -0.2082, -0.0208,  0.1400,  0.0417, -0.2826, -0.3257, -0.0030,\n",
              "         -0.4367, -0.1235,  0.1279, -0.0865,  0.1210, -0.0839, -0.5314, -0.0781,\n",
              "         -0.3880, -0.0536, -0.1831, -0.1880,  0.1323,  0.0037, -0.2696, -0.2989,\n",
              "          0.1387,  0.2593,  0.1375,  0.0057,  0.0140,  0.3290, -0.2726, -0.0180,\n",
              "         -0.2471,  0.1585,  0.0173, -0.0903, -0.1900, -0.0779,  0.1707, -0.4827,\n",
              "          0.0614, -0.0681,  0.3128, -0.5069,  0.3141, -0.2617, -0.1561,  0.0052],\n",
              "        requires_grad=True),\n",
              " Parameter containing:\n",
              " tensor([[[[ 2.5905e-02, -1.0469e-01, -4.8663e-03],\n",
              "           [-8.6215e-02, -3.3025e-01, -1.0280e-01],\n",
              "           [-5.7481e-02, -1.9079e-01, -5.4678e-02]],\n",
              " \n",
              "          [[-1.6990e-02,  2.1333e-02, -2.1244e-03],\n",
              "           [-3.2666e-03,  4.5056e-02, -1.1416e-02],\n",
              "           [-5.9542e-02,  6.4881e-03,  2.9303e-03]],\n",
              " \n",
              "          [[-4.4270e-03,  1.9770e-02,  1.3299e-02],\n",
              "           [ 1.3112e-02, -7.6604e-03,  1.2031e-02],\n",
              "           [ 1.3521e-02,  1.1198e-02,  5.6331e-03]],\n",
              " \n",
              "          ...,\n",
              " \n",
              "          [[ 1.2417e-03, -7.7606e-03,  2.0742e-02],\n",
              "           [-4.0058e-02, -4.0418e-02, -3.4838e-02],\n",
              "           [-2.0264e-02, -9.5657e-03,  1.3951e-02]],\n",
              " \n",
              "          [[-2.4041e-03,  3.2259e-02, -4.2153e-03],\n",
              "           [ 8.5512e-03,  1.0531e-02,  1.9212e-03],\n",
              "           [-1.2755e-02, -1.0239e-02,  4.6681e-03]],\n",
              " \n",
              "          [[ 1.5335e-02,  2.1272e-02, -7.2968e-03],\n",
              "           [-1.4177e-02,  4.5932e-02,  2.1141e-02],\n",
              "           [ 3.1299e-02,  6.6402e-02,  2.1360e-02]]],\n",
              " \n",
              " \n",
              "         [[[ 5.3495e-02,  4.0539e-02,  9.6743e-03],\n",
              "           [ 3.2924e-02, -2.3421e-02,  3.4715e-02],\n",
              "           [-1.2843e-02,  5.0060e-02,  5.4566e-02]],\n",
              " \n",
              "          [[ 2.8771e-02,  4.3404e-02,  2.8319e-02],\n",
              "           [ 2.8824e-02, -3.5463e-02, -5.2718e-02],\n",
              "           [-5.5112e-02, -7.1917e-02, -8.3044e-02]],\n",
              " \n",
              "          [[ 9.5156e-02,  1.2534e-01, -6.4088e-02],\n",
              "           [-4.1330e-02, -1.0707e-03,  5.1249e-02],\n",
              "           [-1.1331e-01, -7.9973e-02,  1.4361e-01]],\n",
              " \n",
              "          ...,\n",
              " \n",
              "          [[-7.7688e-03,  2.0534e-02,  1.9399e-02],\n",
              "           [-6.6459e-03,  1.1509e-04,  4.8178e-03],\n",
              "           [-6.1706e-03, -9.1817e-03, -2.1236e-04]],\n",
              " \n",
              "          [[-2.6079e-02, -2.4601e-02,  4.0970e-02],\n",
              "           [-1.9075e-02, -1.0172e-02,  3.3049e-02],\n",
              "           [ 5.5231e-03,  8.8002e-04,  5.5830e-04]],\n",
              " \n",
              "          [[ 7.7952e-03,  2.6433e-02,  6.3500e-02],\n",
              "           [-3.0568e-02,  2.4967e-02,  1.2907e-02],\n",
              "           [-2.0923e-02, -7.6563e-03, -3.8722e-02]]],\n",
              " \n",
              " \n",
              "         [[[ 1.0927e-02, -1.4379e-02,  1.5732e-02],\n",
              "           [ 1.6780e-02,  4.4630e-02,  6.3232e-02],\n",
              "           [ 3.4084e-02,  7.3115e-02,  5.9183e-02]],\n",
              " \n",
              "          [[ 2.2953e-03,  7.7625e-03,  2.0290e-02],\n",
              "           [ 2.0329e-02,  4.0029e-02,  3.4698e-02],\n",
              "           [-4.7428e-02, -3.7247e-02,  1.4451e-02]],\n",
              " \n",
              "          [[-2.2748e-02, -1.8986e-02, -8.4317e-03],\n",
              "           [-9.9008e-04,  2.1530e-02,  6.3856e-03],\n",
              "           [-9.3914e-03,  2.7378e-03, -3.1141e-02]],\n",
              " \n",
              "          ...,\n",
              " \n",
              "          [[-7.7029e-03, -1.6100e-02, -7.1515e-04],\n",
              "           [-5.6569e-03,  1.4243e-02,  4.4988e-02],\n",
              "           [-9.3475e-03,  2.2346e-02,  4.1710e-02]],\n",
              " \n",
              "          [[ 2.5729e-02,  4.8251e-02,  7.9162e-02],\n",
              "           [-4.4725e-03,  3.9553e-03,  4.1682e-02],\n",
              "           [ 7.9880e-04, -1.0574e-02,  9.1699e-03]],\n",
              " \n",
              "          [[-3.3953e-02,  9.4016e-03,  4.1760e-02],\n",
              "           [-1.6474e-02,  4.0851e-03,  6.2478e-02],\n",
              "           [-3.1061e-02, -3.5478e-03,  7.0892e-02]]],\n",
              " \n",
              " \n",
              "         ...,\n",
              " \n",
              " \n",
              "         [[[ 4.4884e-05, -8.8818e-03, -2.5859e-03],\n",
              "           [ 3.0702e-03,  1.1619e-02,  1.5262e-02],\n",
              "           [ 3.5865e-03,  8.0807e-05,  1.6393e-02]],\n",
              " \n",
              "          [[-2.6281e-02,  2.2039e-02, -5.9911e-02],\n",
              "           [ 4.4512e-02,  1.3200e-01, -9.0955e-03],\n",
              "           [ 5.4304e-02,  1.3723e-01,  2.7501e-02]],\n",
              " \n",
              "          [[ 1.7255e-02,  3.8918e-03,  1.5092e-02],\n",
              "           [ 1.2193e-02,  1.1415e-02,  3.4834e-02],\n",
              "           [ 8.3272e-03, -2.0643e-02,  2.7350e-02]],\n",
              " \n",
              "          ...,\n",
              " \n",
              "          [[-1.0062e-02, -1.0446e-02,  2.8419e-02],\n",
              "           [-2.5127e-02, -2.2207e-02,  3.7182e-02],\n",
              "           [-3.8163e-02, -4.6560e-02,  1.5656e-02]],\n",
              " \n",
              "          [[-2.5840e-03, -2.4317e-02,  1.0563e-02],\n",
              "           [-2.1759e-02, -4.3940e-02, -7.1864e-03],\n",
              "           [-2.5242e-02, -5.9510e-02, -2.5621e-02]],\n",
              " \n",
              "          [[ 2.8651e-02,  2.7900e-04,  1.1513e-03],\n",
              "           [ 3.7916e-02, -1.1078e-03,  9.6575e-03],\n",
              "           [ 3.9335e-02,  1.0212e-02,  1.0499e-02]]],\n",
              " \n",
              " \n",
              "         [[[-7.8244e-03,  7.2517e-03,  2.1557e-02],\n",
              "           [-5.9925e-02,  1.5424e-03,  9.7454e-02],\n",
              "           [-5.9995e-02, -2.1633e-02,  3.6953e-02]],\n",
              " \n",
              "          [[ 2.7972e-02,  2.6257e-02, -2.3017e-02],\n",
              "           [ 5.1820e-02, -2.0092e-03, -1.0940e-01],\n",
              "           [-3.2725e-02, -6.2102e-03,  8.0679e-03]],\n",
              " \n",
              "          [[-1.7987e-02, -1.9468e-02,  4.3224e-02],\n",
              "           [ 4.6189e-02,  2.9503e-02,  4.0884e-02],\n",
              "           [ 6.0703e-03, -6.5572e-03, -6.4063e-03]],\n",
              " \n",
              "          ...,\n",
              " \n",
              "          [[ 2.2216e-02,  8.4276e-03,  3.7239e-03],\n",
              "           [ 1.7643e-02,  2.1994e-02, -4.4093e-03],\n",
              "           [ 2.1255e-02,  3.4610e-02, -1.6247e-02]],\n",
              " \n",
              "          [[ 3.7992e-02,  4.8274e-02, -9.5619e-02],\n",
              "           [ 1.8762e-02,  1.1199e-02, -7.6402e-02],\n",
              "           [ 4.5675e-03,  3.2014e-02, -7.4858e-02]],\n",
              " \n",
              "          [[-1.8974e-02, -3.2578e-02, -3.8233e-02],\n",
              "           [ 1.0847e-02,  2.3522e-03, -7.5023e-02],\n",
              "           [ 3.3369e-02,  3.5625e-02, -1.9162e-03]]],\n",
              " \n",
              " \n",
              "         [[[-1.3324e-01,  7.4653e-02, -3.8038e-03],\n",
              "           [ 9.1412e-02,  8.2435e-02,  3.9493e-02],\n",
              "           [-1.8041e-02, -5.9858e-02,  8.9395e-02]],\n",
              " \n",
              "          [[ 1.5551e-02, -4.1706e-02,  1.0492e-02],\n",
              "           [ 7.1295e-03,  3.1859e-02,  1.1003e-03],\n",
              "           [-2.0846e-02, -3.5644e-03, -7.0151e-02]],\n",
              " \n",
              "          [[-6.6250e-02,  1.0618e-01,  1.9645e-02],\n",
              "           [ 5.4909e-02, -1.5561e-01, -1.8799e-02],\n",
              "           [-4.3333e-03,  4.4809e-02, -2.4728e-02]],\n",
              " \n",
              "          ...,\n",
              " \n",
              "          [[-6.1682e-02, -4.5490e-02, -9.1523e-03],\n",
              "           [ 4.3879e-02,  4.5655e-02, -7.0114e-02],\n",
              "           [ 1.1306e-02,  4.4643e-02, -4.5948e-02]],\n",
              " \n",
              "          [[ 4.3353e-03,  2.3269e-02, -2.1864e-02],\n",
              "           [-8.0241e-02, -5.7522e-02, -9.8591e-03],\n",
              "           [-3.3224e-02, -1.1467e-01, -2.3863e-02]],\n",
              " \n",
              "          [[-6.3712e-02, -2.4291e-02, -4.8857e-02],\n",
              "           [-6.1490e-02,  1.0345e-01,  6.0533e-03],\n",
              "           [ 8.1936e-02, -3.0288e-02, -4.6059e-03]]]], requires_grad=True),\n",
              " Parameter containing:\n",
              " tensor([0.2503, 0.2208, 0.2757, 0.6062, 0.2652, 0.2941, 0.1149, 0.4422, 0.2871,\n",
              "         0.2974, 0.2513, 0.4111, 0.4856, 0.3391, 0.4671, 0.1779, 0.2175, 0.5026,\n",
              "         0.2260, 0.3658, 0.4875, 0.4586, 0.4639, 0.2204, 0.1516, 0.2771, 0.3804,\n",
              "         0.2803, 0.2373, 0.3948, 0.3036, 0.3161, 0.2038, 0.2324, 0.2005, 0.1670,\n",
              "         0.4680, 0.3467, 0.3413, 0.2280, 0.2481, 0.2363, 0.2720, 0.4646, 0.3443,\n",
              "         0.2465, 0.4672, 0.2802, 0.6231, 0.4136, 0.3411, 0.4221, 0.1166, 0.2981,\n",
              "         0.5797, 0.2802, 0.4694, 0.4522, 0.4309, 0.2759, 0.3429, 0.1133, 0.5056,\n",
              "         0.4381], requires_grad=True),\n",
              " Parameter containing:\n",
              " tensor([ 2.2797e-01,  9.4833e-03, -6.7238e-02, -6.9141e-02,  3.6039e-01,\n",
              "         -2.0107e-01, -4.4980e-04,  2.3941e-02,  3.9675e-01,  3.6731e-02,\n",
              "          7.6845e-03,  2.7557e-01, -7.0053e-02, -2.3902e-01, -7.9813e-02,\n",
              "         -9.3597e-02, -1.4580e-01,  3.7715e-02, -3.6178e-01, -3.9539e-01,\n",
              "         -4.0610e-01,  3.2693e-03, -2.7855e-01, -3.4830e-02, -7.0269e-02,\n",
              "          2.1019e-01, -5.7279e-03, -1.9785e-01, -2.8017e-01, -1.7514e-02,\n",
              "          2.6553e-01, -8.8080e-02, -2.1024e-01, -1.2997e-01,  1.7121e-01,\n",
              "          5.4141e-02, -2.2348e-01, -4.8203e-02,  2.4555e-01,  2.0866e-01,\n",
              "          1.6305e-01,  1.1463e-01,  1.1428e-01, -1.4859e-01, -3.1017e-02,\n",
              "         -3.0470e-01,  4.9089e-01,  1.0881e-01,  1.2206e-02,  9.9806e-02,\n",
              "          4.1557e-01, -1.4232e-02,  2.3314e-02,  9.9580e-02, -1.7374e-01,\n",
              "          1.0050e-01, -1.4649e-01, -2.2740e-01,  1.3569e-01,  2.0105e-01,\n",
              "         -5.7885e-02,  2.3450e-01, -1.1330e-01,  3.0946e-01],\n",
              "        requires_grad=True)]"
            ]
          },
          "metadata": {},
          "execution_count": 13
        }
      ]
    },
    {
      "cell_type": "code",
      "source": [
        "(pred,idx,probs) = learner.predict('dalle_EngawaAndHotate.png')\n",
        "pred,idx,probs"
      ],
      "metadata": {
        "id": "K_GILWJAWcoK"
      },
      "execution_count": null,
      "outputs": []
    },
    {
      "cell_type": "code",
      "source": [
        "#|export\n",
        "# combine with gradio. \n",
        "categories = ['Ahi(Yellowfin & Bigeye Tuna)', 'Ebi(Sweet Shrimp/Prawns)', 'Hamachi(Yellowtail)', 'Hamadai(Red Snapper)', 'Hotate(Scallops)', 'Ika(Squid)', 'Katsuo(Bonito/Skipjack Tuna)', 'Maguro(Bluefin Tuna)', 'Saba(Japanese Mackerel)', 'Sake(Salmon)']\n",
        "def sashimiIentifer(input_imgFilePath):\n",
        "    (pred,idx,probs) = learner.predict(input_imgFilePath)\n",
        "    return dict(zip(categories, map(float, probs)))\n",
        "  \n",
        "img_examples1 = [\"Hotate_Scallops.jpg\", \"Ahi_YellowfinAndBigeyeTuna_Sashimi.jpg\", \"dalle_EngawaAndHotate.png\"]\n",
        "img_examples2 = [ \"dalle_EngawaAndHotate.png\"]\n",
        "iface = gr.Interface(fn=sashimiIentifer, inputs=\"image\", outputs=\"label\", examples =[img_examples1,img_examples2], title=\"Sashimi Identier\", description=\"This app identifies which sashimi it is based on the given image\")\n",
        "iface.launch()"
      ],
      "metadata": {
        "id": "8frQ1XRxZjkK"
      },
      "execution_count": null,
      "outputs": []
    },
    {
      "cell_type": "code",
      "source": [
        "categories = ['Ahi(Yellowfin & Bigeye Tuna)', 'Ebi(Sweet Shrimp/Prawns)', 'Hamachi(Yellowtail)', 'Hamadai(Red Snapper)', 'Hotate(Scallops)', 'Ika(Squid)', 'Katsuo(Bonito/Skipjack Tuna)', 'Maguro(Bluefin Tuna)', 'Saba(Japanese Mackerel)', 'Sake(Salmon)']\n",
        "\n",
        "def sashimiIentifer(input_imgFilePath):\n",
        "  (pred,idx,probs) = learner.predict(input_imgFilePath)\n",
        "  return dict(zip(categories, map(float, probs)))\n",
        "\n",
        "img_examples1 = [\"Hotate_Scallops.jpg\", \"Ahi_YellowfinAndBigeyeTuna_Sashimi.jpg\"]\n",
        "img_examples2 = [ \"dalle_EngawaAndHotate.png\"]\n",
        "\n",
        "demo = gr.Blocks()\n",
        "\n",
        "with demo:\n",
        "  with gr.Row():\n",
        "    input = gr.inputs.Image(shape=(192,192))\n",
        "    output = gr.outputs.Label()\n",
        "  with gr.Tab(\"Example Images from Web\"):\n",
        "    examplesFromBrowser = gr.Examples(examples=img_examples1, inputs=input)\n",
        "  with gr.Tab(\"Example Images generated by AI\"):\n",
        "    examplesFromAI = gr.Examples(examples=img_examples2,inputs=input)\n",
        "  input.change(fn=sashimiIentifer, inputs=input, outputs=output)\n",
        "\n",
        "demo.launch()"
      ],
      "metadata": {
        "id": "pNAdIFvx60Kp"
      },
      "execution_count": null,
      "outputs": []
    },
    {
      "cell_type": "code",
      "source": [
        "# then export the code as a python script as app.py\n",
        "# change my app.py with this code. \n",
        "# Important note: first do git lfs - i can ask chat gpt how to explain it further \n",
        "# then commit all image files and models\n",
        "# and app.py"
      ],
      "metadata": {
        "id": "vDv5FLJJq71X"
      },
      "execution_count": null,
      "outputs": []
    },
    {
      "cell_type": "code",
      "source": [
        "%notebook -e sashimiIdentier.ipynb"
      ],
      "metadata": {
        "id": "aD9AKItey5wa"
      },
      "execution_count": null,
      "outputs": []
    },
    {
      "cell_type": "code",
      "source": [
        "from nbdev.export import nb_export\n",
        "nb_export('sashimiIdentier.ipynb', '.') "
      ],
      "metadata": {
        "id": "MCFdxRtBy7Vo"
      },
      "execution_count": null,
      "outputs": []
    },
    {
      "cell_type": "code",
      "source": [
        "!cat app.py"
      ],
      "metadata": {
        "id": "iC588au8zNuL"
      },
      "execution_count": null,
      "outputs": []
    },
    {
      "cell_type": "markdown",
      "source": [
        "Check the app in my hugging face space! https://huggingface.co/spaces/bigyunicorn/sashimi_identifier"
      ],
      "metadata": {
        "id": "e3a-XgExFlUY"
      }
    }
  ]
}