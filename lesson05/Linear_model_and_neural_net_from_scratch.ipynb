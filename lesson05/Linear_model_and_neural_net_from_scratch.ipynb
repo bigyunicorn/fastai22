{
  "cells": [
    {
      "attachments": {},
      "cell_type": "markdown",
      "metadata": {
        "colab_type": "text",
        "id": "view-in-github"
      },
      "source": [
        "<a href=\"https://colab.research.google.com/github/bigyunicorn/fastai22/blob/main/lesson05/Linear_model_and_neural_net_from_scratch.ipynb\" target=\"_parent\"><img src=\"https://colab.research.google.com/assets/colab-badge.svg\" alt=\"Open In Colab\"/></a>"
      ]
    },
    {
      "attachments": {},
      "cell_type": "markdown",
      "metadata": {
        "id": "5TUy79xz5MYT"
      },
      "source": [
        "I have been following Jeremy's notebook using the github copilot on Github codespace. \n",
        "I have been found this method is quite effective so I am sharing my process here. \n",
        "___\n",
        "#### Tips for taking the FastAI course.\n",
        "- Watch a lecture e2e one time.\n",
        "- Copy each given Kaggle notebook to your Kaggle, and follow through each code on your own.\n",
        "- Think about main steps from the notebook and write those down in a separate noteplace.  (I usually use these main steps as the title of each section).\n",
        "- Expand each of the main steps and break it down smaller steps so you can easily ask the copilot to write the code.\n",
        "- Reproduce the results on Github codespace with assistance from Copilot. \n",
        "- Publish your notebook to github.\n"
      ]
    },
    {
      "attachments": {},
      "cell_type": "markdown",
      "metadata": {
        "id": "v1TL39r47gBN"
      },
      "source": [
        "# A few key points from the lesson 05\n",
        "\n",
        "\n",
        "* To me, the purpose of the chapter 5 is to show how to create a deep learning model from the scratch by setting up a linear model and a neural net first and then expanding them to create a deep learning model.\n",
        "* We are simply using plain python and pytroch to create the model so that we can understand the pains of not using the framework such as FastAI.\n",
        " - In the chapter 4, we used the hugging face library to train the existing model. For the previous chapters, we used fastai. But here, we are only relying on python and pytorch (To be 100% correct, we use the fast ai library once to create a validation set. We learned about how to create a meaningful validation set from the scratch in [Iterate like a grandmaster](https://www.kaggle.com/code/jhoward/iterate-like-a-grandmaster/#Creating-a-validation-set)).\n",
        "- Spoiler: It is painful as we need to figure out how to do initialization, normalization and learning rate from the scratch. The cost of this pain is that it is making hard for people to experiment more.\n",
        "- We will go through the same procdess but using the framework in our [second notebook](https://www.kaggle.com/code/jhoward/why-you-should-use-a-framework)\n",
        "\n",
        "# Important Context\n",
        "* The given problem we are going to use:\n",
        "  - We are tasked to predict which passengers survived the Titanic shipwreck.\n",
        "  - This is a very beginner frinedly kaggle competition. [Titanic - Machine Learning from Disaster](https://www.kaggle.com/competitions/titanic/overview/evaluation).\n",
        "  - You can find the data here: https://www.kaggle.com/competitions/titanic/data\n",
        "  - The metric(evaluation) we are going to use is accuracy. You can find the information in the [evaluation](https://www.kaggle.com/competitions/titanic/overview/evaluation) tab.\n",
        "* This is the same data we used for the [Lesson 03](https://course.fast.ai/Lessons/lesson3.html) where we created a neural net from the scratch in the excel.\n",
        "  - You can find my notes for this lesson here: https://github.com/bigyunicorn/fastai22/blob/main/lesson03/titanic-data-visualization.ipynb\n",
        "\n"
      ]
    },
    {
      "attachments": {},
      "cell_type": "markdown",
      "metadata": {},
      "source": [
        "### Miscellanous side notes: Google Colab vs Github Codespaces Pros & Cons\n",
        "- Google Colab pros: \n",
        "  - Specialized for juptyer notebook-like experiments. \n",
        "  - Free/Paid Gpu Support is there. \n",
        "\n",
        "- Google Colab Cons:\n",
        "  - You always need to give a permission to connect with your google drive.\n",
        "  - Files are not saved. \n",
        "  - No coding copilot like support (Codey is coming soon)\n",
        "\n",
        "- Github CodeSpaces Pros: \n",
        "  - you can use copilot. \n",
        "  - Files are saved. \n",
        "  - Easy usage with github using the git CLI.\n",
        "\n",
        "- Github CodeSpaces cons:\n",
        "  - You need to specify some setups (but noe: you can use Jupyter notebook template)\n",
        "  - No GPU support yet.\n"
      ]
    },
    {
      "attachments": {},
      "cell_type": "markdown",
      "metadata": {
        "id": "b871Ta7-C4U4"
      },
      "source": [
        "## Set up:\n",
        "- Make sure your kernel is running on GPU.\n",
        "- Get Kaggle API key from Kaggle (it will download kaggle.json).\n",
        "- Copy the key value and put it in the right below cell.\n",
        "- More details: https://www.kaggle.com/code/jhoward/getting-started-with-nlp-for-absolute-beginners#Introduction"
      ]
    },
    {
      "cell_type": "code",
      "execution_count": 2,
      "metadata": {
        "id": "9AvIARfEDJZ-"
      },
      "outputs": [],
      "source": [
        "creds = '{\"username\":\"<your kaggle user name>\",\"key\":\"<your kaggle api key>\"}'"
      ]
    },
    {
      "cell_type": "code",
      "execution_count": 4,
      "metadata": {
        "id": "hZlA_uZkjbu9"
      },
      "outputs": [],
      "source": [
        "# only need to run once.\n",
        "from pathlib import Path\n",
        "\n",
        "cred_path = Path('~/.kaggle/kaggle.json').expanduser()\n",
        "if not cred_path.exists():\n",
        "    cred_path.parent.mkdir(exist_ok=True)\n",
        "    cred_path.write_text(creds)\n",
        "    cred_path.chmod(0o600)"
      ]
    },
    {
      "attachments": {},
      "cell_type": "markdown",
      "metadata": {
        "id": "1VL3cBKiDvdu"
      },
      "source": [
        "Okay, now ready to use Kaggle API to download the dataset!\n",
        "\n",
        "Let's first install the kaggle package."
      ]
    },
    {
      "attachments": {},
      "cell_type": "markdown",
      "metadata": {
        "id": "Z8SadZ6QFCc4"
      },
      "source": [
        "## Step 1: Get the dataset from Kaggle"
      ]
    },
    {
      "cell_type": "code",
      "execution_count": 5,
      "metadata": {
        "colab": {
          "base_uri": "https://localhost:8080/"
        },
        "id": "wUsfjsdJio36",
        "outputId": "e3642186-69b1-4214-d21b-30508fe75ab8"
      },
      "outputs": [
        {
          "name": "stdout",
          "output_type": "stream",
          "text": [
            "Requirement already satisfied: kaggle in /usr/local/python/3.10.8/lib/python3.10/site-packages (1.5.13)\n",
            "Requirement already satisfied: six>=1.10 in /home/codespace/.local/lib/python3.10/site-packages (from kaggle) (1.16.0)\n",
            "Requirement already satisfied: certifi in /home/codespace/.local/lib/python3.10/site-packages (from kaggle) (2023.5.7)\n",
            "Requirement already satisfied: python-dateutil in /home/codespace/.local/lib/python3.10/site-packages (from kaggle) (2.8.2)\n",
            "Requirement already satisfied: requests in /home/codespace/.local/lib/python3.10/site-packages (from kaggle) (2.31.0)\n",
            "Requirement already satisfied: tqdm in /usr/local/python/3.10.8/lib/python3.10/site-packages (from kaggle) (4.64.0)\n",
            "Requirement already satisfied: python-slugify in /usr/local/python/3.10.8/lib/python3.10/site-packages (from kaggle) (8.0.1)\n",
            "Requirement already satisfied: urllib3 in /home/codespace/.local/lib/python3.10/site-packages (from kaggle) (2.0.3)\n",
            "Requirement already satisfied: text-unidecode>=1.3 in /usr/local/python/3.10.8/lib/python3.10/site-packages (from python-slugify->kaggle) (1.3)\n",
            "Requirement already satisfied: charset-normalizer<4,>=2 in /home/codespace/.local/lib/python3.10/site-packages (from requests->kaggle) (3.1.0)\n",
            "Requirement already satisfied: idna<4,>=2.5 in /home/codespace/.local/lib/python3.10/site-packages (from requests->kaggle) (3.4)\n",
            "Note: you may need to restart the kernel to use updated packages.\n"
          ]
        }
      ],
      "source": [
        "# install the kaggle package so we can use its API.\n",
        "%pip install kaggle"
      ]
    },
    {
      "cell_type": "code",
      "execution_count": 6,
      "metadata": {
        "colab": {
          "base_uri": "https://localhost:8080/"
        },
        "id": "RZ6xR4dGlbRQ",
        "outputId": "fd9556ab-85fd-4304-c2ee-351fda728c46"
      },
      "outputs": [],
      "source": [
        "# The below is useful code to fetch dataset we are interested in from Kaggle.\n",
        "# you can use the same code if you are on kaggle.\n",
        "import os\n",
        "from pathlib import Path\n",
        "\n",
        "iskaggle = os.environ.get('KAGGLE_KERNEL_RUN_TYPE', '')\n",
        "if iskaggle: path = Path('../input/titanic')\n",
        "else:\n",
        "    path = Path('titanic') #kaggle dataset data tab has this name at the end.\n",
        "    if not path.exists():\n",
        "        import zipfile,kaggle\n",
        "        kaggle.api.competition_download_cli(str(path)) # this is the kagglge python library API\n",
        "        zipfile.ZipFile(f'{path}.zip').extractall(path) # extract all files from zip"
      ]
    },
    {
      "attachments": {},
      "cell_type": "markdown",
      "metadata": {
        "id": "2C-lenLkkTSA"
      },
      "source": [
        "Note: the below is a bsh command to download the data. Github copilot might recommend this line.\n",
        "\n",
        "`!kaggle competitions download -c titanic`"
      ]
    },
    {
      "attachments": {},
      "cell_type": "markdown",
      "metadata": {
        "id": "aasabkylFh4h"
      },
      "source": [
        "## Step 2: Check the dataset structure and explore the data."
      ]
    },
    {
      "attachments": {},
      "cell_type": "markdown",
      "metadata": {},
      "source": [
        "The key ideas from this step are:\n",
        "- Open the csv file using pandas\n",
        "- Understand the data (check categorical, continuous data columns using pandas' describe method)\n",
        "- Clean up the data (filling out the missing fields with the most commonly appeared words, normalize the data, convert the categorical data to the format that makes senese using pandas' get_dummies, etc)\n",
        "- Create tensors for independent & dependent variables*."
      ]
    },
    {
      "cell_type": "code",
      "execution_count": 7,
      "metadata": {
        "colab": {
          "base_uri": "https://localhost:8080/"
        },
        "id": "0OTWXZFXB9xo",
        "outputId": "500f8ac4-4bc8-4b10-839c-c5a612561b0a"
      },
      "outputs": [
        {
          "name": "stdout",
          "output_type": "stream",
          "text": [
            "gender_submission.csv  test.csv  train.csv\n"
          ]
        }
      ],
      "source": [
        "# Now, let's see the file structure of Kaggle downloaded dataset\n",
        "!ls {path}"
      ]
    },
    {
      "attachments": {},
      "cell_type": "markdown",
      "metadata": {
        "id": "d7FKegt4CwCd"
      },
      "source": [
        "Once I confirmed that the files are in csv, I am going to use pandas, as it is a library that has many useful functions for handling csv files. In this codespace, pandas library is in requirements.txt, so I can skip `pip install pandas` and directly import the library as pd.(If you use Google Colab, it already installed pandas)"
      ]
    },
    {
      "cell_type": "code",
      "execution_count": 8,
      "metadata": {
        "id": "TCXPyGv-CKtB"
      },
      "outputs": [],
      "source": [
        "import pandas as pd"
      ]
    },
    {
      "cell_type": "code",
      "execution_count": 9,
      "metadata": {},
      "outputs": [],
      "source": [
        "# read the train.csv using pandas\n",
        "df = pd.read_csv(path/'train.csv')"
      ]
    },
    {
      "cell_type": "code",
      "execution_count": 10,
      "metadata": {},
      "outputs": [
        {
          "data": {
            "text/html": [
              "<div>\n",
              "<style scoped>\n",
              "    .dataframe tbody tr th:only-of-type {\n",
              "        vertical-align: middle;\n",
              "    }\n",
              "\n",
              "    .dataframe tbody tr th {\n",
              "        vertical-align: top;\n",
              "    }\n",
              "\n",
              "    .dataframe thead th {\n",
              "        text-align: right;\n",
              "    }\n",
              "</style>\n",
              "<table border=\"1\" class=\"dataframe\">\n",
              "  <thead>\n",
              "    <tr style=\"text-align: right;\">\n",
              "      <th></th>\n",
              "      <th>PassengerId</th>\n",
              "      <th>Survived</th>\n",
              "      <th>Pclass</th>\n",
              "      <th>Name</th>\n",
              "      <th>Sex</th>\n",
              "      <th>Age</th>\n",
              "      <th>SibSp</th>\n",
              "      <th>Parch</th>\n",
              "      <th>Ticket</th>\n",
              "      <th>Fare</th>\n",
              "      <th>Cabin</th>\n",
              "      <th>Embarked</th>\n",
              "    </tr>\n",
              "  </thead>\n",
              "  <tbody>\n",
              "    <tr>\n",
              "      <th>0</th>\n",
              "      <td>1</td>\n",
              "      <td>0</td>\n",
              "      <td>3</td>\n",
              "      <td>Braund, Mr. Owen Harris</td>\n",
              "      <td>male</td>\n",
              "      <td>22.0</td>\n",
              "      <td>1</td>\n",
              "      <td>0</td>\n",
              "      <td>A/5 21171</td>\n",
              "      <td>7.2500</td>\n",
              "      <td>NaN</td>\n",
              "      <td>S</td>\n",
              "    </tr>\n",
              "    <tr>\n",
              "      <th>1</th>\n",
              "      <td>2</td>\n",
              "      <td>1</td>\n",
              "      <td>1</td>\n",
              "      <td>Cumings, Mrs. John Bradley (Florence Briggs Th...</td>\n",
              "      <td>female</td>\n",
              "      <td>38.0</td>\n",
              "      <td>1</td>\n",
              "      <td>0</td>\n",
              "      <td>PC 17599</td>\n",
              "      <td>71.2833</td>\n",
              "      <td>C85</td>\n",
              "      <td>C</td>\n",
              "    </tr>\n",
              "    <tr>\n",
              "      <th>2</th>\n",
              "      <td>3</td>\n",
              "      <td>1</td>\n",
              "      <td>3</td>\n",
              "      <td>Heikkinen, Miss. Laina</td>\n",
              "      <td>female</td>\n",
              "      <td>26.0</td>\n",
              "      <td>0</td>\n",
              "      <td>0</td>\n",
              "      <td>STON/O2. 3101282</td>\n",
              "      <td>7.9250</td>\n",
              "      <td>NaN</td>\n",
              "      <td>S</td>\n",
              "    </tr>\n",
              "    <tr>\n",
              "      <th>3</th>\n",
              "      <td>4</td>\n",
              "      <td>1</td>\n",
              "      <td>1</td>\n",
              "      <td>Futrelle, Mrs. Jacques Heath (Lily May Peel)</td>\n",
              "      <td>female</td>\n",
              "      <td>35.0</td>\n",
              "      <td>1</td>\n",
              "      <td>0</td>\n",
              "      <td>113803</td>\n",
              "      <td>53.1000</td>\n",
              "      <td>C123</td>\n",
              "      <td>S</td>\n",
              "    </tr>\n",
              "    <tr>\n",
              "      <th>4</th>\n",
              "      <td>5</td>\n",
              "      <td>0</td>\n",
              "      <td>3</td>\n",
              "      <td>Allen, Mr. William Henry</td>\n",
              "      <td>male</td>\n",
              "      <td>35.0</td>\n",
              "      <td>0</td>\n",
              "      <td>0</td>\n",
              "      <td>373450</td>\n",
              "      <td>8.0500</td>\n",
              "      <td>NaN</td>\n",
              "      <td>S</td>\n",
              "    </tr>\n",
              "    <tr>\n",
              "      <th>...</th>\n",
              "      <td>...</td>\n",
              "      <td>...</td>\n",
              "      <td>...</td>\n",
              "      <td>...</td>\n",
              "      <td>...</td>\n",
              "      <td>...</td>\n",
              "      <td>...</td>\n",
              "      <td>...</td>\n",
              "      <td>...</td>\n",
              "      <td>...</td>\n",
              "      <td>...</td>\n",
              "      <td>...</td>\n",
              "    </tr>\n",
              "    <tr>\n",
              "      <th>886</th>\n",
              "      <td>887</td>\n",
              "      <td>0</td>\n",
              "      <td>2</td>\n",
              "      <td>Montvila, Rev. Juozas</td>\n",
              "      <td>male</td>\n",
              "      <td>27.0</td>\n",
              "      <td>0</td>\n",
              "      <td>0</td>\n",
              "      <td>211536</td>\n",
              "      <td>13.0000</td>\n",
              "      <td>NaN</td>\n",
              "      <td>S</td>\n",
              "    </tr>\n",
              "    <tr>\n",
              "      <th>887</th>\n",
              "      <td>888</td>\n",
              "      <td>1</td>\n",
              "      <td>1</td>\n",
              "      <td>Graham, Miss. Margaret Edith</td>\n",
              "      <td>female</td>\n",
              "      <td>19.0</td>\n",
              "      <td>0</td>\n",
              "      <td>0</td>\n",
              "      <td>112053</td>\n",
              "      <td>30.0000</td>\n",
              "      <td>B42</td>\n",
              "      <td>S</td>\n",
              "    </tr>\n",
              "    <tr>\n",
              "      <th>888</th>\n",
              "      <td>889</td>\n",
              "      <td>0</td>\n",
              "      <td>3</td>\n",
              "      <td>Johnston, Miss. Catherine Helen \"Carrie\"</td>\n",
              "      <td>female</td>\n",
              "      <td>NaN</td>\n",
              "      <td>1</td>\n",
              "      <td>2</td>\n",
              "      <td>W./C. 6607</td>\n",
              "      <td>23.4500</td>\n",
              "      <td>NaN</td>\n",
              "      <td>S</td>\n",
              "    </tr>\n",
              "    <tr>\n",
              "      <th>889</th>\n",
              "      <td>890</td>\n",
              "      <td>1</td>\n",
              "      <td>1</td>\n",
              "      <td>Behr, Mr. Karl Howell</td>\n",
              "      <td>male</td>\n",
              "      <td>26.0</td>\n",
              "      <td>0</td>\n",
              "      <td>0</td>\n",
              "      <td>111369</td>\n",
              "      <td>30.0000</td>\n",
              "      <td>C148</td>\n",
              "      <td>C</td>\n",
              "    </tr>\n",
              "    <tr>\n",
              "      <th>890</th>\n",
              "      <td>891</td>\n",
              "      <td>0</td>\n",
              "      <td>3</td>\n",
              "      <td>Dooley, Mr. Patrick</td>\n",
              "      <td>male</td>\n",
              "      <td>32.0</td>\n",
              "      <td>0</td>\n",
              "      <td>0</td>\n",
              "      <td>370376</td>\n",
              "      <td>7.7500</td>\n",
              "      <td>NaN</td>\n",
              "      <td>Q</td>\n",
              "    </tr>\n",
              "  </tbody>\n",
              "</table>\n",
              "<p>891 rows × 12 columns</p>\n",
              "</div>"
            ],
            "text/plain": [
              "     PassengerId  Survived  Pclass  \\\n",
              "0              1         0       3   \n",
              "1              2         1       1   \n",
              "2              3         1       3   \n",
              "3              4         1       1   \n",
              "4              5         0       3   \n",
              "..           ...       ...     ...   \n",
              "886          887         0       2   \n",
              "887          888         1       1   \n",
              "888          889         0       3   \n",
              "889          890         1       1   \n",
              "890          891         0       3   \n",
              "\n",
              "                                                  Name     Sex   Age  SibSp  \\\n",
              "0                              Braund, Mr. Owen Harris    male  22.0      1   \n",
              "1    Cumings, Mrs. John Bradley (Florence Briggs Th...  female  38.0      1   \n",
              "2                               Heikkinen, Miss. Laina  female  26.0      0   \n",
              "3         Futrelle, Mrs. Jacques Heath (Lily May Peel)  female  35.0      1   \n",
              "4                             Allen, Mr. William Henry    male  35.0      0   \n",
              "..                                                 ...     ...   ...    ...   \n",
              "886                              Montvila, Rev. Juozas    male  27.0      0   \n",
              "887                       Graham, Miss. Margaret Edith  female  19.0      0   \n",
              "888           Johnston, Miss. Catherine Helen \"Carrie\"  female   NaN      1   \n",
              "889                              Behr, Mr. Karl Howell    male  26.0      0   \n",
              "890                                Dooley, Mr. Patrick    male  32.0      0   \n",
              "\n",
              "     Parch            Ticket     Fare Cabin Embarked  \n",
              "0        0         A/5 21171   7.2500   NaN        S  \n",
              "1        0          PC 17599  71.2833   C85        C  \n",
              "2        0  STON/O2. 3101282   7.9250   NaN        S  \n",
              "3        0            113803  53.1000  C123        S  \n",
              "4        0            373450   8.0500   NaN        S  \n",
              "..     ...               ...      ...   ...      ...  \n",
              "886      0            211536  13.0000   NaN        S  \n",
              "887      0            112053  30.0000   B42        S  \n",
              "888      2        W./C. 6607  23.4500   NaN        S  \n",
              "889      0            111369  30.0000  C148        C  \n",
              "890      0            370376   7.7500   NaN        Q  \n",
              "\n",
              "[891 rows x 12 columns]"
            ]
          },
          "execution_count": 10,
          "metadata": {},
          "output_type": "execute_result"
        }
      ],
      "source": [
        "# print out dataframe (df)\n",
        "df"
      ]
    },
    {
      "attachments": {},
      "cell_type": "markdown",
      "metadata": {},
      "source": [
        "Let's explore the data a bit more to feel the data intuitively. "
      ]
    },
    {
      "cell_type": "code",
      "execution_count": 11,
      "metadata": {},
      "outputs": [
        {
          "data": {
            "text/html": [
              "<div>\n",
              "<style scoped>\n",
              "    .dataframe tbody tr th:only-of-type {\n",
              "        vertical-align: middle;\n",
              "    }\n",
              "\n",
              "    .dataframe tbody tr th {\n",
              "        vertical-align: top;\n",
              "    }\n",
              "\n",
              "    .dataframe thead th {\n",
              "        text-align: right;\n",
              "    }\n",
              "</style>\n",
              "<table border=\"1\" class=\"dataframe\">\n",
              "  <thead>\n",
              "    <tr style=\"text-align: right;\">\n",
              "      <th></th>\n",
              "      <th>Name</th>\n",
              "      <th>Sex</th>\n",
              "      <th>Ticket</th>\n",
              "      <th>Cabin</th>\n",
              "      <th>Embarked</th>\n",
              "    </tr>\n",
              "  </thead>\n",
              "  <tbody>\n",
              "    <tr>\n",
              "      <th>count</th>\n",
              "      <td>891</td>\n",
              "      <td>891</td>\n",
              "      <td>891</td>\n",
              "      <td>204</td>\n",
              "      <td>889</td>\n",
              "    </tr>\n",
              "    <tr>\n",
              "      <th>unique</th>\n",
              "      <td>891</td>\n",
              "      <td>2</td>\n",
              "      <td>681</td>\n",
              "      <td>147</td>\n",
              "      <td>3</td>\n",
              "    </tr>\n",
              "    <tr>\n",
              "      <th>top</th>\n",
              "      <td>Braund, Mr. Owen Harris</td>\n",
              "      <td>male</td>\n",
              "      <td>347082</td>\n",
              "      <td>B96 B98</td>\n",
              "      <td>S</td>\n",
              "    </tr>\n",
              "    <tr>\n",
              "      <th>freq</th>\n",
              "      <td>1</td>\n",
              "      <td>577</td>\n",
              "      <td>7</td>\n",
              "      <td>4</td>\n",
              "      <td>644</td>\n",
              "    </tr>\n",
              "  </tbody>\n",
              "</table>\n",
              "</div>"
            ],
            "text/plain": [
              "                           Name   Sex  Ticket    Cabin Embarked\n",
              "count                       891   891     891      204      889\n",
              "unique                      891     2     681      147        3\n",
              "top     Braund, Mr. Owen Harris  male  347082  B96 B98        S\n",
              "freq                          1   577       7        4      644"
            ]
          },
          "execution_count": 11,
          "metadata": {},
          "output_type": "execute_result"
        }
      ],
      "source": [
        "df.describe(include='object')"
      ]
    },
    {
      "cell_type": "code",
      "execution_count": 12,
      "metadata": {},
      "outputs": [
        {
          "data": {
            "text/html": [
              "<div>\n",
              "<style scoped>\n",
              "    .dataframe tbody tr th:only-of-type {\n",
              "        vertical-align: middle;\n",
              "    }\n",
              "\n",
              "    .dataframe tbody tr th {\n",
              "        vertical-align: top;\n",
              "    }\n",
              "\n",
              "    .dataframe thead th {\n",
              "        text-align: right;\n",
              "    }\n",
              "</style>\n",
              "<table border=\"1\" class=\"dataframe\">\n",
              "  <thead>\n",
              "    <tr style=\"text-align: right;\">\n",
              "      <th></th>\n",
              "      <th>PassengerId</th>\n",
              "      <th>Survived</th>\n",
              "      <th>Pclass</th>\n",
              "      <th>Age</th>\n",
              "      <th>SibSp</th>\n",
              "      <th>Parch</th>\n",
              "      <th>Fare</th>\n",
              "    </tr>\n",
              "  </thead>\n",
              "  <tbody>\n",
              "    <tr>\n",
              "      <th>count</th>\n",
              "      <td>891.000000</td>\n",
              "      <td>891.000000</td>\n",
              "      <td>891.000000</td>\n",
              "      <td>714.000000</td>\n",
              "      <td>891.000000</td>\n",
              "      <td>891.000000</td>\n",
              "      <td>891.000000</td>\n",
              "    </tr>\n",
              "    <tr>\n",
              "      <th>mean</th>\n",
              "      <td>446.000000</td>\n",
              "      <td>0.383838</td>\n",
              "      <td>2.308642</td>\n",
              "      <td>29.699118</td>\n",
              "      <td>0.523008</td>\n",
              "      <td>0.381594</td>\n",
              "      <td>32.204208</td>\n",
              "    </tr>\n",
              "    <tr>\n",
              "      <th>std</th>\n",
              "      <td>257.353842</td>\n",
              "      <td>0.486592</td>\n",
              "      <td>0.836071</td>\n",
              "      <td>14.526497</td>\n",
              "      <td>1.102743</td>\n",
              "      <td>0.806057</td>\n",
              "      <td>49.693429</td>\n",
              "    </tr>\n",
              "    <tr>\n",
              "      <th>min</th>\n",
              "      <td>1.000000</td>\n",
              "      <td>0.000000</td>\n",
              "      <td>1.000000</td>\n",
              "      <td>0.420000</td>\n",
              "      <td>0.000000</td>\n",
              "      <td>0.000000</td>\n",
              "      <td>0.000000</td>\n",
              "    </tr>\n",
              "    <tr>\n",
              "      <th>25%</th>\n",
              "      <td>223.500000</td>\n",
              "      <td>0.000000</td>\n",
              "      <td>2.000000</td>\n",
              "      <td>20.125000</td>\n",
              "      <td>0.000000</td>\n",
              "      <td>0.000000</td>\n",
              "      <td>7.910400</td>\n",
              "    </tr>\n",
              "    <tr>\n",
              "      <th>50%</th>\n",
              "      <td>446.000000</td>\n",
              "      <td>0.000000</td>\n",
              "      <td>3.000000</td>\n",
              "      <td>28.000000</td>\n",
              "      <td>0.000000</td>\n",
              "      <td>0.000000</td>\n",
              "      <td>14.454200</td>\n",
              "    </tr>\n",
              "    <tr>\n",
              "      <th>75%</th>\n",
              "      <td>668.500000</td>\n",
              "      <td>1.000000</td>\n",
              "      <td>3.000000</td>\n",
              "      <td>38.000000</td>\n",
              "      <td>1.000000</td>\n",
              "      <td>0.000000</td>\n",
              "      <td>31.000000</td>\n",
              "    </tr>\n",
              "    <tr>\n",
              "      <th>max</th>\n",
              "      <td>891.000000</td>\n",
              "      <td>1.000000</td>\n",
              "      <td>3.000000</td>\n",
              "      <td>80.000000</td>\n",
              "      <td>8.000000</td>\n",
              "      <td>6.000000</td>\n",
              "      <td>512.329200</td>\n",
              "    </tr>\n",
              "  </tbody>\n",
              "</table>\n",
              "</div>"
            ],
            "text/plain": [
              "       PassengerId    Survived      Pclass         Age       SibSp  \\\n",
              "count   891.000000  891.000000  891.000000  714.000000  891.000000   \n",
              "mean    446.000000    0.383838    2.308642   29.699118    0.523008   \n",
              "std     257.353842    0.486592    0.836071   14.526497    1.102743   \n",
              "min       1.000000    0.000000    1.000000    0.420000    0.000000   \n",
              "25%     223.500000    0.000000    2.000000   20.125000    0.000000   \n",
              "50%     446.000000    0.000000    3.000000   28.000000    0.000000   \n",
              "75%     668.500000    1.000000    3.000000   38.000000    1.000000   \n",
              "max     891.000000    1.000000    3.000000   80.000000    8.000000   \n",
              "\n",
              "            Parch        Fare  \n",
              "count  891.000000  891.000000  \n",
              "mean     0.381594   32.204208  \n",
              "std      0.806057   49.693429  \n",
              "min      0.000000    0.000000  \n",
              "25%      0.000000    7.910400  \n",
              "50%      0.000000   14.454200  \n",
              "75%      0.000000   31.000000  \n",
              "max      6.000000  512.329200  "
            ]
          },
          "execution_count": 12,
          "metadata": {},
          "output_type": "execute_result"
        }
      ],
      "source": [
        "df.describe(include='number')"
      ]
    },
    {
      "attachments": {},
      "cell_type": "markdown",
      "metadata": {},
      "source": [
        "What are some interesting facts about the data? Seems like.. `Fare` has a wide range. Also `Age` has also a wide range of distribution. Maybe I might want to noramlize the data in those columns. "
      ]
    },
    {
      "attachments": {},
      "cell_type": "markdown",
      "metadata": {},
      "source": [
        "First, let's check whether they are any missing variables. "
      ]
    },
    {
      "cell_type": "code",
      "execution_count": 13,
      "metadata": {},
      "outputs": [
        {
          "data": {
            "text/plain": [
              "PassengerId      0\n",
              "Survived         0\n",
              "Pclass           0\n",
              "Name             0\n",
              "Sex              0\n",
              "Age            177\n",
              "SibSp            0\n",
              "Parch            0\n",
              "Ticket           0\n",
              "Fare             0\n",
              "Cabin          687\n",
              "Embarked         2\n",
              "dtype: int64"
            ]
          },
          "execution_count": 13,
          "metadata": {},
          "output_type": "execute_result"
        }
      ],
      "source": [
        "# check any missing values.\n",
        "df.isnull().sum()"
      ]
    },
    {
      "attachments": {},
      "cell_type": "markdown",
      "metadata": {},
      "source": [
        "Seem like `Age` and `Cabin` have the most number of missing values. I probably want to fill those missing fields with the most common values. Let's figure out the most common values.\n",
        "\n",
        "Jeremy's tips:\n",
        "- We'll need to replace the missing values with something. \n",
        "- It doesn't generally matter too much what we choose. We'll use the most common value (the \"mode\"). \n",
        "- We can use the mode function for that. One wrinkle is that it returns more than one row in the case of ties, so we just grab the first row with iloc[0]:"
      ]
    },
    {
      "cell_type": "code",
      "execution_count": 14,
      "metadata": {},
      "outputs": [
        {
          "data": {
            "text/html": [
              "<div>\n",
              "<style scoped>\n",
              "    .dataframe tbody tr th:only-of-type {\n",
              "        vertical-align: middle;\n",
              "    }\n",
              "\n",
              "    .dataframe tbody tr th {\n",
              "        vertical-align: top;\n",
              "    }\n",
              "\n",
              "    .dataframe thead th {\n",
              "        text-align: right;\n",
              "    }\n",
              "</style>\n",
              "<table border=\"1\" class=\"dataframe\">\n",
              "  <thead>\n",
              "    <tr style=\"text-align: right;\">\n",
              "      <th></th>\n",
              "      <th>PassengerId</th>\n",
              "      <th>Survived</th>\n",
              "      <th>Pclass</th>\n",
              "      <th>Name</th>\n",
              "      <th>Sex</th>\n",
              "      <th>Age</th>\n",
              "      <th>SibSp</th>\n",
              "      <th>Parch</th>\n",
              "      <th>Ticket</th>\n",
              "      <th>Fare</th>\n",
              "      <th>Cabin</th>\n",
              "      <th>Embarked</th>\n",
              "    </tr>\n",
              "  </thead>\n",
              "  <tbody>\n",
              "    <tr>\n",
              "      <th>0</th>\n",
              "      <td>1</td>\n",
              "      <td>0.0</td>\n",
              "      <td>3.0</td>\n",
              "      <td>Abbing, Mr. Anthony</td>\n",
              "      <td>male</td>\n",
              "      <td>24.0</td>\n",
              "      <td>0.0</td>\n",
              "      <td>0.0</td>\n",
              "      <td>1601</td>\n",
              "      <td>8.05</td>\n",
              "      <td>B96 B98</td>\n",
              "      <td>S</td>\n",
              "    </tr>\n",
              "    <tr>\n",
              "      <th>1</th>\n",
              "      <td>2</td>\n",
              "      <td>NaN</td>\n",
              "      <td>NaN</td>\n",
              "      <td>Abbott, Mr. Rossmore Edward</td>\n",
              "      <td>NaN</td>\n",
              "      <td>NaN</td>\n",
              "      <td>NaN</td>\n",
              "      <td>NaN</td>\n",
              "      <td>347082</td>\n",
              "      <td>NaN</td>\n",
              "      <td>C23 C25 C27</td>\n",
              "      <td>NaN</td>\n",
              "    </tr>\n",
              "    <tr>\n",
              "      <th>2</th>\n",
              "      <td>3</td>\n",
              "      <td>NaN</td>\n",
              "      <td>NaN</td>\n",
              "      <td>Abbott, Mrs. Stanton (Rosa Hunt)</td>\n",
              "      <td>NaN</td>\n",
              "      <td>NaN</td>\n",
              "      <td>NaN</td>\n",
              "      <td>NaN</td>\n",
              "      <td>CA. 2343</td>\n",
              "      <td>NaN</td>\n",
              "      <td>G6</td>\n",
              "      <td>NaN</td>\n",
              "    </tr>\n",
              "    <tr>\n",
              "      <th>3</th>\n",
              "      <td>4</td>\n",
              "      <td>NaN</td>\n",
              "      <td>NaN</td>\n",
              "      <td>Abelson, Mr. Samuel</td>\n",
              "      <td>NaN</td>\n",
              "      <td>NaN</td>\n",
              "      <td>NaN</td>\n",
              "      <td>NaN</td>\n",
              "      <td>NaN</td>\n",
              "      <td>NaN</td>\n",
              "      <td>NaN</td>\n",
              "      <td>NaN</td>\n",
              "    </tr>\n",
              "    <tr>\n",
              "      <th>4</th>\n",
              "      <td>5</td>\n",
              "      <td>NaN</td>\n",
              "      <td>NaN</td>\n",
              "      <td>Abelson, Mrs. Samuel (Hannah Wizosky)</td>\n",
              "      <td>NaN</td>\n",
              "      <td>NaN</td>\n",
              "      <td>NaN</td>\n",
              "      <td>NaN</td>\n",
              "      <td>NaN</td>\n",
              "      <td>NaN</td>\n",
              "      <td>NaN</td>\n",
              "      <td>NaN</td>\n",
              "    </tr>\n",
              "    <tr>\n",
              "      <th>...</th>\n",
              "      <td>...</td>\n",
              "      <td>...</td>\n",
              "      <td>...</td>\n",
              "      <td>...</td>\n",
              "      <td>...</td>\n",
              "      <td>...</td>\n",
              "      <td>...</td>\n",
              "      <td>...</td>\n",
              "      <td>...</td>\n",
              "      <td>...</td>\n",
              "      <td>...</td>\n",
              "      <td>...</td>\n",
              "    </tr>\n",
              "    <tr>\n",
              "      <th>886</th>\n",
              "      <td>887</td>\n",
              "      <td>NaN</td>\n",
              "      <td>NaN</td>\n",
              "      <td>de Mulder, Mr. Theodore</td>\n",
              "      <td>NaN</td>\n",
              "      <td>NaN</td>\n",
              "      <td>NaN</td>\n",
              "      <td>NaN</td>\n",
              "      <td>NaN</td>\n",
              "      <td>NaN</td>\n",
              "      <td>NaN</td>\n",
              "      <td>NaN</td>\n",
              "    </tr>\n",
              "    <tr>\n",
              "      <th>887</th>\n",
              "      <td>888</td>\n",
              "      <td>NaN</td>\n",
              "      <td>NaN</td>\n",
              "      <td>de Pelsmaeker, Mr. Alfons</td>\n",
              "      <td>NaN</td>\n",
              "      <td>NaN</td>\n",
              "      <td>NaN</td>\n",
              "      <td>NaN</td>\n",
              "      <td>NaN</td>\n",
              "      <td>NaN</td>\n",
              "      <td>NaN</td>\n",
              "      <td>NaN</td>\n",
              "    </tr>\n",
              "    <tr>\n",
              "      <th>888</th>\n",
              "      <td>889</td>\n",
              "      <td>NaN</td>\n",
              "      <td>NaN</td>\n",
              "      <td>del Carlo, Mr. Sebastiano</td>\n",
              "      <td>NaN</td>\n",
              "      <td>NaN</td>\n",
              "      <td>NaN</td>\n",
              "      <td>NaN</td>\n",
              "      <td>NaN</td>\n",
              "      <td>NaN</td>\n",
              "      <td>NaN</td>\n",
              "      <td>NaN</td>\n",
              "    </tr>\n",
              "    <tr>\n",
              "      <th>889</th>\n",
              "      <td>890</td>\n",
              "      <td>NaN</td>\n",
              "      <td>NaN</td>\n",
              "      <td>van Billiard, Mr. Austin Blyler</td>\n",
              "      <td>NaN</td>\n",
              "      <td>NaN</td>\n",
              "      <td>NaN</td>\n",
              "      <td>NaN</td>\n",
              "      <td>NaN</td>\n",
              "      <td>NaN</td>\n",
              "      <td>NaN</td>\n",
              "      <td>NaN</td>\n",
              "    </tr>\n",
              "    <tr>\n",
              "      <th>890</th>\n",
              "      <td>891</td>\n",
              "      <td>NaN</td>\n",
              "      <td>NaN</td>\n",
              "      <td>van Melkebeke, Mr. Philemon</td>\n",
              "      <td>NaN</td>\n",
              "      <td>NaN</td>\n",
              "      <td>NaN</td>\n",
              "      <td>NaN</td>\n",
              "      <td>NaN</td>\n",
              "      <td>NaN</td>\n",
              "      <td>NaN</td>\n",
              "      <td>NaN</td>\n",
              "    </tr>\n",
              "  </tbody>\n",
              "</table>\n",
              "<p>891 rows × 12 columns</p>\n",
              "</div>"
            ],
            "text/plain": [
              "     PassengerId  Survived  Pclass                                   Name  \\\n",
              "0              1       0.0     3.0                    Abbing, Mr. Anthony   \n",
              "1              2       NaN     NaN            Abbott, Mr. Rossmore Edward   \n",
              "2              3       NaN     NaN       Abbott, Mrs. Stanton (Rosa Hunt)   \n",
              "3              4       NaN     NaN                    Abelson, Mr. Samuel   \n",
              "4              5       NaN     NaN  Abelson, Mrs. Samuel (Hannah Wizosky)   \n",
              "..           ...       ...     ...                                    ...   \n",
              "886          887       NaN     NaN                de Mulder, Mr. Theodore   \n",
              "887          888       NaN     NaN              de Pelsmaeker, Mr. Alfons   \n",
              "888          889       NaN     NaN              del Carlo, Mr. Sebastiano   \n",
              "889          890       NaN     NaN        van Billiard, Mr. Austin Blyler   \n",
              "890          891       NaN     NaN            van Melkebeke, Mr. Philemon   \n",
              "\n",
              "      Sex   Age  SibSp  Parch    Ticket  Fare        Cabin Embarked  \n",
              "0    male  24.0    0.0    0.0      1601  8.05      B96 B98        S  \n",
              "1     NaN   NaN    NaN    NaN    347082   NaN  C23 C25 C27      NaN  \n",
              "2     NaN   NaN    NaN    NaN  CA. 2343   NaN           G6      NaN  \n",
              "3     NaN   NaN    NaN    NaN       NaN   NaN          NaN      NaN  \n",
              "4     NaN   NaN    NaN    NaN       NaN   NaN          NaN      NaN  \n",
              "..    ...   ...    ...    ...       ...   ...          ...      ...  \n",
              "886   NaN   NaN    NaN    NaN       NaN   NaN          NaN      NaN  \n",
              "887   NaN   NaN    NaN    NaN       NaN   NaN          NaN      NaN  \n",
              "888   NaN   NaN    NaN    NaN       NaN   NaN          NaN      NaN  \n",
              "889   NaN   NaN    NaN    NaN       NaN   NaN          NaN      NaN  \n",
              "890   NaN   NaN    NaN    NaN       NaN   NaN          NaN      NaN  \n",
              "\n",
              "[891 rows x 12 columns]"
            ]
          },
          "execution_count": 14,
          "metadata": {},
          "output_type": "execute_result"
        }
      ],
      "source": [
        "# Let's see the common value of each column using padnas's mode function.\n",
        "df.mode()"
      ]
    },
    {
      "attachments": {},
      "cell_type": "markdown",
      "metadata": {},
      "source": [
        "oh when I do mode, I get a table. I think it is because the values for `Name` are all unique. Let's try only numerical values. "
      ]
    },
    {
      "cell_type": "code",
      "execution_count": 15,
      "metadata": {},
      "outputs": [
        {
          "data": {
            "text/html": [
              "<div>\n",
              "<style scoped>\n",
              "    .dataframe tbody tr th:only-of-type {\n",
              "        vertical-align: middle;\n",
              "    }\n",
              "\n",
              "    .dataframe tbody tr th {\n",
              "        vertical-align: top;\n",
              "    }\n",
              "\n",
              "    .dataframe thead th {\n",
              "        text-align: right;\n",
              "    }\n",
              "</style>\n",
              "<table border=\"1\" class=\"dataframe\">\n",
              "  <thead>\n",
              "    <tr style=\"text-align: right;\">\n",
              "      <th></th>\n",
              "      <th>PassengerId</th>\n",
              "      <th>Survived</th>\n",
              "      <th>Pclass</th>\n",
              "      <th>Age</th>\n",
              "      <th>SibSp</th>\n",
              "      <th>Parch</th>\n",
              "      <th>Fare</th>\n",
              "    </tr>\n",
              "  </thead>\n",
              "  <tbody>\n",
              "    <tr>\n",
              "      <th>0</th>\n",
              "      <td>1</td>\n",
              "      <td>0.0</td>\n",
              "      <td>3.0</td>\n",
              "      <td>24.0</td>\n",
              "      <td>0.0</td>\n",
              "      <td>0.0</td>\n",
              "      <td>8.05</td>\n",
              "    </tr>\n",
              "    <tr>\n",
              "      <th>1</th>\n",
              "      <td>2</td>\n",
              "      <td>NaN</td>\n",
              "      <td>NaN</td>\n",
              "      <td>NaN</td>\n",
              "      <td>NaN</td>\n",
              "      <td>NaN</td>\n",
              "      <td>NaN</td>\n",
              "    </tr>\n",
              "    <tr>\n",
              "      <th>2</th>\n",
              "      <td>3</td>\n",
              "      <td>NaN</td>\n",
              "      <td>NaN</td>\n",
              "      <td>NaN</td>\n",
              "      <td>NaN</td>\n",
              "      <td>NaN</td>\n",
              "      <td>NaN</td>\n",
              "    </tr>\n",
              "    <tr>\n",
              "      <th>3</th>\n",
              "      <td>4</td>\n",
              "      <td>NaN</td>\n",
              "      <td>NaN</td>\n",
              "      <td>NaN</td>\n",
              "      <td>NaN</td>\n",
              "      <td>NaN</td>\n",
              "      <td>NaN</td>\n",
              "    </tr>\n",
              "    <tr>\n",
              "      <th>4</th>\n",
              "      <td>5</td>\n",
              "      <td>NaN</td>\n",
              "      <td>NaN</td>\n",
              "      <td>NaN</td>\n",
              "      <td>NaN</td>\n",
              "      <td>NaN</td>\n",
              "      <td>NaN</td>\n",
              "    </tr>\n",
              "    <tr>\n",
              "      <th>...</th>\n",
              "      <td>...</td>\n",
              "      <td>...</td>\n",
              "      <td>...</td>\n",
              "      <td>...</td>\n",
              "      <td>...</td>\n",
              "      <td>...</td>\n",
              "      <td>...</td>\n",
              "    </tr>\n",
              "    <tr>\n",
              "      <th>886</th>\n",
              "      <td>887</td>\n",
              "      <td>NaN</td>\n",
              "      <td>NaN</td>\n",
              "      <td>NaN</td>\n",
              "      <td>NaN</td>\n",
              "      <td>NaN</td>\n",
              "      <td>NaN</td>\n",
              "    </tr>\n",
              "    <tr>\n",
              "      <th>887</th>\n",
              "      <td>888</td>\n",
              "      <td>NaN</td>\n",
              "      <td>NaN</td>\n",
              "      <td>NaN</td>\n",
              "      <td>NaN</td>\n",
              "      <td>NaN</td>\n",
              "      <td>NaN</td>\n",
              "    </tr>\n",
              "    <tr>\n",
              "      <th>888</th>\n",
              "      <td>889</td>\n",
              "      <td>NaN</td>\n",
              "      <td>NaN</td>\n",
              "      <td>NaN</td>\n",
              "      <td>NaN</td>\n",
              "      <td>NaN</td>\n",
              "      <td>NaN</td>\n",
              "    </tr>\n",
              "    <tr>\n",
              "      <th>889</th>\n",
              "      <td>890</td>\n",
              "      <td>NaN</td>\n",
              "      <td>NaN</td>\n",
              "      <td>NaN</td>\n",
              "      <td>NaN</td>\n",
              "      <td>NaN</td>\n",
              "      <td>NaN</td>\n",
              "    </tr>\n",
              "    <tr>\n",
              "      <th>890</th>\n",
              "      <td>891</td>\n",
              "      <td>NaN</td>\n",
              "      <td>NaN</td>\n",
              "      <td>NaN</td>\n",
              "      <td>NaN</td>\n",
              "      <td>NaN</td>\n",
              "      <td>NaN</td>\n",
              "    </tr>\n",
              "  </tbody>\n",
              "</table>\n",
              "<p>891 rows × 7 columns</p>\n",
              "</div>"
            ],
            "text/plain": [
              "     PassengerId  Survived  Pclass   Age  SibSp  Parch  Fare\n",
              "0              1       0.0     3.0  24.0    0.0    0.0  8.05\n",
              "1              2       NaN     NaN   NaN    NaN    NaN   NaN\n",
              "2              3       NaN     NaN   NaN    NaN    NaN   NaN\n",
              "3              4       NaN     NaN   NaN    NaN    NaN   NaN\n",
              "4              5       NaN     NaN   NaN    NaN    NaN   NaN\n",
              "..           ...       ...     ...   ...    ...    ...   ...\n",
              "886          887       NaN     NaN   NaN    NaN    NaN   NaN\n",
              "887          888       NaN     NaN   NaN    NaN    NaN   NaN\n",
              "888          889       NaN     NaN   NaN    NaN    NaN   NaN\n",
              "889          890       NaN     NaN   NaN    NaN    NaN   NaN\n",
              "890          891       NaN     NaN   NaN    NaN    NaN   NaN\n",
              "\n",
              "[891 rows x 7 columns]"
            ]
          },
          "execution_count": 15,
          "metadata": {},
          "output_type": "execute_result"
        }
      ],
      "source": [
        "# Get the most common value of columns that are numeric.\n",
        "df.mode(numeric_only=True)"
      ]
    },
    {
      "attachments": {},
      "cell_type": "markdown",
      "metadata": {},
      "source": [
        "Huh, still not returning one value. It seems like because there are many competing values. Let's get the first element if there are multiple elements that appear most commonly."
      ]
    },
    {
      "cell_type": "code",
      "execution_count": 16,
      "metadata": {},
      "outputs": [
        {
          "data": {
            "text/plain": [
              "PassengerId                      1\n",
              "Survived                       0.0\n",
              "Pclass                         3.0\n",
              "Name           Abbing, Mr. Anthony\n",
              "Sex                           male\n",
              "Age                           24.0\n",
              "SibSp                          0.0\n",
              "Parch                          0.0\n",
              "Ticket                        1601\n",
              "Fare                          8.05\n",
              "Cabin                      B96 B98\n",
              "Embarked                         S\n",
              "Name: 0, dtype: object"
            ]
          },
          "execution_count": 16,
          "metadata": {},
          "output_type": "execute_result"
        }
      ],
      "source": [
        "df.mode().iloc[0]"
      ]
    },
    {
      "cell_type": "code",
      "execution_count": 17,
      "metadata": {},
      "outputs": [],
      "source": [
        "# substitue missing fields with the most common value.\n",
        "df = df.fillna(df.mode().iloc[0])"
      ]
    },
    {
      "cell_type": "code",
      "execution_count": 18,
      "metadata": {},
      "outputs": [
        {
          "data": {
            "text/plain": [
              "<Axes: >"
            ]
          },
          "execution_count": 18,
          "metadata": {},
          "output_type": "execute_result"
        },
        {
          "data": {
            "image/png": "[encoded data removed]",
            "text/plain": [
              "<Figure size 640x480 with 1 Axes>"
            ]
          },
          "metadata": {},
          "output_type": "display_data"
        }
      ],
      "source": [
        "# Let's see the distribution of age.\n",
        "df.Age.hist()"
      ]
    },
    {
      "attachments": {},
      "cell_type": "markdown",
      "metadata": {},
      "source": [
        "Not too bad, but still I think it will be better to do some normalization."
      ]
    },
    {
      "cell_type": "code",
      "execution_count": 19,
      "metadata": {},
      "outputs": [],
      "source": [
        "# Divde the age by its max value to normalize it.\n",
        "# Later note: we will skip this part as we will need to do this normliazation for outher data as well..\n",
        "# df.Age = df.Age / df.Age.max()"
      ]
    },
    {
      "cell_type": "code",
      "execution_count": 20,
      "metadata": {},
      "outputs": [
        {
          "data": {
            "text/plain": [
              "<Axes: >"
            ]
          },
          "execution_count": 20,
          "metadata": {},
          "output_type": "execute_result"
        },
        {
          "data": {
            "image/png": "[encoded data removed]",
            "text/plain": [
              "<Figure size 640x480 with 1 Axes>"
            ]
          },
          "metadata": {},
          "output_type": "display_data"
        }
      ],
      "source": [
        "# Let's see the distribution of fare.\n",
        "df.Fare.hist()"
      ]
    },
    {
      "attachments": {},
      "cell_type": "markdown",
      "metadata": {},
      "source": [
        "Oo yeah, let's definitely normalize this data as it can cause problems for our model, because once that column is multiplied by a coefficient later, the few rows with really big values will dominate the result.\n",
        "\n",
        "Let's take the log of the data."
      ]
    },
    {
      "cell_type": "code",
      "execution_count": 21,
      "metadata": {},
      "outputs": [],
      "source": [
        "# Take the log of fare to make it more normal.\n",
        "import numpy as np\n",
        "df.Fare = np.log(df.Fare+1) # the copilot recommended 1e-3, but it was still a bit not enough to make it normal."
      ]
    },
    {
      "cell_type": "code",
      "execution_count": 22,
      "metadata": {},
      "outputs": [
        {
          "data": {
            "text/html": [
              "<div>\n",
              "<style scoped>\n",
              "    .dataframe tbody tr th:only-of-type {\n",
              "        vertical-align: middle;\n",
              "    }\n",
              "\n",
              "    .dataframe tbody tr th {\n",
              "        vertical-align: top;\n",
              "    }\n",
              "\n",
              "    .dataframe thead th {\n",
              "        text-align: right;\n",
              "    }\n",
              "</style>\n",
              "<table border=\"1\" class=\"dataframe\">\n",
              "  <thead>\n",
              "    <tr style=\"text-align: right;\">\n",
              "      <th></th>\n",
              "      <th>PassengerId</th>\n",
              "      <th>Survived</th>\n",
              "      <th>Pclass</th>\n",
              "      <th>Name</th>\n",
              "      <th>Sex</th>\n",
              "      <th>Age</th>\n",
              "      <th>SibSp</th>\n",
              "      <th>Parch</th>\n",
              "      <th>Ticket</th>\n",
              "      <th>Fare</th>\n",
              "      <th>Cabin</th>\n",
              "      <th>Embarked</th>\n",
              "    </tr>\n",
              "  </thead>\n",
              "  <tbody>\n",
              "    <tr>\n",
              "      <th>0</th>\n",
              "      <td>1</td>\n",
              "      <td>0</td>\n",
              "      <td>3</td>\n",
              "      <td>Braund, Mr. Owen Harris</td>\n",
              "      <td>male</td>\n",
              "      <td>22.0</td>\n",
              "      <td>1</td>\n",
              "      <td>0</td>\n",
              "      <td>A/5 21171</td>\n",
              "      <td>2.110213</td>\n",
              "      <td>B96 B98</td>\n",
              "      <td>S</td>\n",
              "    </tr>\n",
              "    <tr>\n",
              "      <th>1</th>\n",
              "      <td>2</td>\n",
              "      <td>1</td>\n",
              "      <td>1</td>\n",
              "      <td>Cumings, Mrs. John Bradley (Florence Briggs Th...</td>\n",
              "      <td>female</td>\n",
              "      <td>38.0</td>\n",
              "      <td>1</td>\n",
              "      <td>0</td>\n",
              "      <td>PC 17599</td>\n",
              "      <td>4.280593</td>\n",
              "      <td>C85</td>\n",
              "      <td>C</td>\n",
              "    </tr>\n",
              "    <tr>\n",
              "      <th>2</th>\n",
              "      <td>3</td>\n",
              "      <td>1</td>\n",
              "      <td>3</td>\n",
              "      <td>Heikkinen, Miss. Laina</td>\n",
              "      <td>female</td>\n",
              "      <td>26.0</td>\n",
              "      <td>0</td>\n",
              "      <td>0</td>\n",
              "      <td>STON/O2. 3101282</td>\n",
              "      <td>2.188856</td>\n",
              "      <td>B96 B98</td>\n",
              "      <td>S</td>\n",
              "    </tr>\n",
              "    <tr>\n",
              "      <th>3</th>\n",
              "      <td>4</td>\n",
              "      <td>1</td>\n",
              "      <td>1</td>\n",
              "      <td>Futrelle, Mrs. Jacques Heath (Lily May Peel)</td>\n",
              "      <td>female</td>\n",
              "      <td>35.0</td>\n",
              "      <td>1</td>\n",
              "      <td>0</td>\n",
              "      <td>113803</td>\n",
              "      <td>3.990834</td>\n",
              "      <td>C123</td>\n",
              "      <td>S</td>\n",
              "    </tr>\n",
              "    <tr>\n",
              "      <th>4</th>\n",
              "      <td>5</td>\n",
              "      <td>0</td>\n",
              "      <td>3</td>\n",
              "      <td>Allen, Mr. William Henry</td>\n",
              "      <td>male</td>\n",
              "      <td>35.0</td>\n",
              "      <td>0</td>\n",
              "      <td>0</td>\n",
              "      <td>373450</td>\n",
              "      <td>2.202765</td>\n",
              "      <td>B96 B98</td>\n",
              "      <td>S</td>\n",
              "    </tr>\n",
              "    <tr>\n",
              "      <th>...</th>\n",
              "      <td>...</td>\n",
              "      <td>...</td>\n",
              "      <td>...</td>\n",
              "      <td>...</td>\n",
              "      <td>...</td>\n",
              "      <td>...</td>\n",
              "      <td>...</td>\n",
              "      <td>...</td>\n",
              "      <td>...</td>\n",
              "      <td>...</td>\n",
              "      <td>...</td>\n",
              "      <td>...</td>\n",
              "    </tr>\n",
              "    <tr>\n",
              "      <th>886</th>\n",
              "      <td>887</td>\n",
              "      <td>0</td>\n",
              "      <td>2</td>\n",
              "      <td>Montvila, Rev. Juozas</td>\n",
              "      <td>male</td>\n",
              "      <td>27.0</td>\n",
              "      <td>0</td>\n",
              "      <td>0</td>\n",
              "      <td>211536</td>\n",
              "      <td>2.639057</td>\n",
              "      <td>B96 B98</td>\n",
              "      <td>S</td>\n",
              "    </tr>\n",
              "    <tr>\n",
              "      <th>887</th>\n",
              "      <td>888</td>\n",
              "      <td>1</td>\n",
              "      <td>1</td>\n",
              "      <td>Graham, Miss. Margaret Edith</td>\n",
              "      <td>female</td>\n",
              "      <td>19.0</td>\n",
              "      <td>0</td>\n",
              "      <td>0</td>\n",
              "      <td>112053</td>\n",
              "      <td>3.433987</td>\n",
              "      <td>B42</td>\n",
              "      <td>S</td>\n",
              "    </tr>\n",
              "    <tr>\n",
              "      <th>888</th>\n",
              "      <td>889</td>\n",
              "      <td>0</td>\n",
              "      <td>3</td>\n",
              "      <td>Johnston, Miss. Catherine Helen \"Carrie\"</td>\n",
              "      <td>female</td>\n",
              "      <td>24.0</td>\n",
              "      <td>1</td>\n",
              "      <td>2</td>\n",
              "      <td>W./C. 6607</td>\n",
              "      <td>3.196630</td>\n",
              "      <td>B96 B98</td>\n",
              "      <td>S</td>\n",
              "    </tr>\n",
              "    <tr>\n",
              "      <th>889</th>\n",
              "      <td>890</td>\n",
              "      <td>1</td>\n",
              "      <td>1</td>\n",
              "      <td>Behr, Mr. Karl Howell</td>\n",
              "      <td>male</td>\n",
              "      <td>26.0</td>\n",
              "      <td>0</td>\n",
              "      <td>0</td>\n",
              "      <td>111369</td>\n",
              "      <td>3.433987</td>\n",
              "      <td>C148</td>\n",
              "      <td>C</td>\n",
              "    </tr>\n",
              "    <tr>\n",
              "      <th>890</th>\n",
              "      <td>891</td>\n",
              "      <td>0</td>\n",
              "      <td>3</td>\n",
              "      <td>Dooley, Mr. Patrick</td>\n",
              "      <td>male</td>\n",
              "      <td>32.0</td>\n",
              "      <td>0</td>\n",
              "      <td>0</td>\n",
              "      <td>370376</td>\n",
              "      <td>2.169054</td>\n",
              "      <td>B96 B98</td>\n",
              "      <td>Q</td>\n",
              "    </tr>\n",
              "  </tbody>\n",
              "</table>\n",
              "<p>891 rows × 12 columns</p>\n",
              "</div>"
            ],
            "text/plain": [
              "     PassengerId  Survived  Pclass  \\\n",
              "0              1         0       3   \n",
              "1              2         1       1   \n",
              "2              3         1       3   \n",
              "3              4         1       1   \n",
              "4              5         0       3   \n",
              "..           ...       ...     ...   \n",
              "886          887         0       2   \n",
              "887          888         1       1   \n",
              "888          889         0       3   \n",
              "889          890         1       1   \n",
              "890          891         0       3   \n",
              "\n",
              "                                                  Name     Sex   Age  SibSp  \\\n",
              "0                              Braund, Mr. Owen Harris    male  22.0      1   \n",
              "1    Cumings, Mrs. John Bradley (Florence Briggs Th...  female  38.0      1   \n",
              "2                               Heikkinen, Miss. Laina  female  26.0      0   \n",
              "3         Futrelle, Mrs. Jacques Heath (Lily May Peel)  female  35.0      1   \n",
              "4                             Allen, Mr. William Henry    male  35.0      0   \n",
              "..                                                 ...     ...   ...    ...   \n",
              "886                              Montvila, Rev. Juozas    male  27.0      0   \n",
              "887                       Graham, Miss. Margaret Edith  female  19.0      0   \n",
              "888           Johnston, Miss. Catherine Helen \"Carrie\"  female  24.0      1   \n",
              "889                              Behr, Mr. Karl Howell    male  26.0      0   \n",
              "890                                Dooley, Mr. Patrick    male  32.0      0   \n",
              "\n",
              "     Parch            Ticket      Fare    Cabin Embarked  \n",
              "0        0         A/5 21171  2.110213  B96 B98        S  \n",
              "1        0          PC 17599  4.280593      C85        C  \n",
              "2        0  STON/O2. 3101282  2.188856  B96 B98        S  \n",
              "3        0            113803  3.990834     C123        S  \n",
              "4        0            373450  2.202765  B96 B98        S  \n",
              "..     ...               ...       ...      ...      ...  \n",
              "886      0            211536  2.639057  B96 B98        S  \n",
              "887      0            112053  3.433987      B42        S  \n",
              "888      2        W./C. 6607  3.196630  B96 B98        S  \n",
              "889      0            111369  3.433987     C148        C  \n",
              "890      0            370376  2.169054  B96 B98        Q  \n",
              "\n",
              "[891 rows x 12 columns]"
            ]
          },
          "execution_count": 22,
          "metadata": {},
          "output_type": "execute_result"
        }
      ],
      "source": [
        "df # print out the dataframe to see how the data looks like. \n",
        "# Note `Fare` is still not in 0-1 range yet even after taking log.Age is now really big.\n",
        "# This tells us that we might want to noramlize the data later. "
      ]
    },
    {
      "attachments": {},
      "cell_type": "markdown",
      "metadata": {},
      "source": [
        "Let's quickly check the features of numerical and categorical data."
      ]
    },
    {
      "cell_type": "code",
      "execution_count": 23,
      "metadata": {},
      "outputs": [
        {
          "data": {
            "text/html": [
              "<div>\n",
              "<style scoped>\n",
              "    .dataframe tbody tr th:only-of-type {\n",
              "        vertical-align: middle;\n",
              "    }\n",
              "\n",
              "    .dataframe tbody tr th {\n",
              "        vertical-align: top;\n",
              "    }\n",
              "\n",
              "    .dataframe thead th {\n",
              "        text-align: right;\n",
              "    }\n",
              "</style>\n",
              "<table border=\"1\" class=\"dataframe\">\n",
              "  <thead>\n",
              "    <tr style=\"text-align: right;\">\n",
              "      <th></th>\n",
              "      <th>PassengerId</th>\n",
              "      <th>Survived</th>\n",
              "      <th>Pclass</th>\n",
              "      <th>Age</th>\n",
              "      <th>SibSp</th>\n",
              "      <th>Parch</th>\n",
              "      <th>Fare</th>\n",
              "    </tr>\n",
              "  </thead>\n",
              "  <tbody>\n",
              "    <tr>\n",
              "      <th>count</th>\n",
              "      <td>891.000000</td>\n",
              "      <td>891.000000</td>\n",
              "      <td>891.000000</td>\n",
              "      <td>891.000000</td>\n",
              "      <td>891.000000</td>\n",
              "      <td>891.000000</td>\n",
              "      <td>891.000000</td>\n",
              "    </tr>\n",
              "    <tr>\n",
              "      <th>mean</th>\n",
              "      <td>446.000000</td>\n",
              "      <td>0.383838</td>\n",
              "      <td>2.308642</td>\n",
              "      <td>28.566970</td>\n",
              "      <td>0.523008</td>\n",
              "      <td>0.381594</td>\n",
              "      <td>2.962246</td>\n",
              "    </tr>\n",
              "    <tr>\n",
              "      <th>std</th>\n",
              "      <td>257.353842</td>\n",
              "      <td>0.486592</td>\n",
              "      <td>0.836071</td>\n",
              "      <td>13.199572</td>\n",
              "      <td>1.102743</td>\n",
              "      <td>0.806057</td>\n",
              "      <td>0.969048</td>\n",
              "    </tr>\n",
              "    <tr>\n",
              "      <th>min</th>\n",
              "      <td>1.000000</td>\n",
              "      <td>0.000000</td>\n",
              "      <td>1.000000</td>\n",
              "      <td>0.420000</td>\n",
              "      <td>0.000000</td>\n",
              "      <td>0.000000</td>\n",
              "      <td>0.000000</td>\n",
              "    </tr>\n",
              "    <tr>\n",
              "      <th>25%</th>\n",
              "      <td>223.500000</td>\n",
              "      <td>0.000000</td>\n",
              "      <td>2.000000</td>\n",
              "      <td>22.000000</td>\n",
              "      <td>0.000000</td>\n",
              "      <td>0.000000</td>\n",
              "      <td>2.187218</td>\n",
              "    </tr>\n",
              "    <tr>\n",
              "      <th>50%</th>\n",
              "      <td>446.000000</td>\n",
              "      <td>0.000000</td>\n",
              "      <td>3.000000</td>\n",
              "      <td>24.000000</td>\n",
              "      <td>0.000000</td>\n",
              "      <td>0.000000</td>\n",
              "      <td>2.737881</td>\n",
              "    </tr>\n",
              "    <tr>\n",
              "      <th>75%</th>\n",
              "      <td>668.500000</td>\n",
              "      <td>1.000000</td>\n",
              "      <td>3.000000</td>\n",
              "      <td>35.000000</td>\n",
              "      <td>1.000000</td>\n",
              "      <td>0.000000</td>\n",
              "      <td>3.465736</td>\n",
              "    </tr>\n",
              "    <tr>\n",
              "      <th>max</th>\n",
              "      <td>891.000000</td>\n",
              "      <td>1.000000</td>\n",
              "      <td>3.000000</td>\n",
              "      <td>80.000000</td>\n",
              "      <td>8.000000</td>\n",
              "      <td>6.000000</td>\n",
              "      <td>6.240917</td>\n",
              "    </tr>\n",
              "  </tbody>\n",
              "</table>\n",
              "</div>"
            ],
            "text/plain": [
              "       PassengerId    Survived      Pclass         Age       SibSp  \\\n",
              "count   891.000000  891.000000  891.000000  891.000000  891.000000   \n",
              "mean    446.000000    0.383838    2.308642   28.566970    0.523008   \n",
              "std     257.353842    0.486592    0.836071   13.199572    1.102743   \n",
              "min       1.000000    0.000000    1.000000    0.420000    0.000000   \n",
              "25%     223.500000    0.000000    2.000000   22.000000    0.000000   \n",
              "50%     446.000000    0.000000    3.000000   24.000000    0.000000   \n",
              "75%     668.500000    1.000000    3.000000   35.000000    1.000000   \n",
              "max     891.000000    1.000000    3.000000   80.000000    8.000000   \n",
              "\n",
              "            Parch        Fare  \n",
              "count  891.000000  891.000000  \n",
              "mean     0.381594    2.962246  \n",
              "std      0.806057    0.969048  \n",
              "min      0.000000    0.000000  \n",
              "25%      0.000000    2.187218  \n",
              "50%      0.000000    2.737881  \n",
              "75%      0.000000    3.465736  \n",
              "max      6.000000    6.240917  "
            ]
          },
          "execution_count": 23,
          "metadata": {},
          "output_type": "execute_result"
        }
      ],
      "source": [
        "df.describe(include='number')"
      ]
    },
    {
      "cell_type": "code",
      "execution_count": 24,
      "metadata": {},
      "outputs": [
        {
          "data": {
            "text/plain": [
              "[1, 2, 3]"
            ]
          },
          "execution_count": 24,
          "metadata": {},
          "output_type": "execute_result"
        }
      ],
      "source": [
        "# Pclass seems to have only three values. Let's check.\n",
        "pclasses = sorted(df.Pclass.unique())\n",
        "pclasses"
      ]
    },
    {
      "cell_type": "code",
      "execution_count": 25,
      "metadata": {},
      "outputs": [
        {
          "data": {
            "text/html": [
              "<div>\n",
              "<style scoped>\n",
              "    .dataframe tbody tr th:only-of-type {\n",
              "        vertical-align: middle;\n",
              "    }\n",
              "\n",
              "    .dataframe tbody tr th {\n",
              "        vertical-align: top;\n",
              "    }\n",
              "\n",
              "    .dataframe thead th {\n",
              "        text-align: right;\n",
              "    }\n",
              "</style>\n",
              "<table border=\"1\" class=\"dataframe\">\n",
              "  <thead>\n",
              "    <tr style=\"text-align: right;\">\n",
              "      <th></th>\n",
              "      <th>Name</th>\n",
              "      <th>Sex</th>\n",
              "      <th>Ticket</th>\n",
              "      <th>Cabin</th>\n",
              "      <th>Embarked</th>\n",
              "    </tr>\n",
              "  </thead>\n",
              "  <tbody>\n",
              "    <tr>\n",
              "      <th>count</th>\n",
              "      <td>891</td>\n",
              "      <td>891</td>\n",
              "      <td>891</td>\n",
              "      <td>891</td>\n",
              "      <td>891</td>\n",
              "    </tr>\n",
              "    <tr>\n",
              "      <th>unique</th>\n",
              "      <td>891</td>\n",
              "      <td>2</td>\n",
              "      <td>681</td>\n",
              "      <td>147</td>\n",
              "      <td>3</td>\n",
              "    </tr>\n",
              "    <tr>\n",
              "      <th>top</th>\n",
              "      <td>Braund, Mr. Owen Harris</td>\n",
              "      <td>male</td>\n",
              "      <td>347082</td>\n",
              "      <td>B96 B98</td>\n",
              "      <td>S</td>\n",
              "    </tr>\n",
              "    <tr>\n",
              "      <th>freq</th>\n",
              "      <td>1</td>\n",
              "      <td>577</td>\n",
              "      <td>7</td>\n",
              "      <td>691</td>\n",
              "      <td>646</td>\n",
              "    </tr>\n",
              "  </tbody>\n",
              "</table>\n",
              "</div>"
            ],
            "text/plain": [
              "                           Name   Sex  Ticket    Cabin Embarked\n",
              "count                       891   891     891      891      891\n",
              "unique                      891     2     681      147        3\n",
              "top     Braund, Mr. Owen Harris  male  347082  B96 B98        S\n",
              "freq                          1   577       7      691      646"
            ]
          },
          "execution_count": 25,
          "metadata": {},
          "output_type": "execute_result"
        }
      ],
      "source": [
        "# describe cateogorical columns\n",
        "df.describe(include='object')"
      ]
    },
    {
      "attachments": {},
      "cell_type": "markdown",
      "metadata": {},
      "source": [
        "Okay now.. we want to use Sex, Embarked information, but they are not numeric. We need to change them to be numerical because\n",
        "we can't multiply strings like male or S by coefficients. \n",
        "How can we do that? \n",
        "\n",
        "We can create dummy variables. \n",
        "- A dummy variable is a column that contains a 1 where a particular column contains a particular value, or a 0 otherwise. \n",
        "- Pandas can create these automatically using get_dummies, which also remove the original columns. \n",
        "\n",
        "One constraint is: if a column has so many unique values, using dummy variables isn't too meaningful. So we won't use dummy variables columns suc as `Name`, `Ticket`, `cabin`. So we will use this for `Sex` and `Embarked`. \n",
        "\n",
        "The other interesting fact is that we can use this for the numerical column whose value is not necessarily meaningful to multiply by. In our case, that's `Pclass`. So we are going to aslo create dummy variables for `Pclass` as well. "
      ]
    },
    {
      "cell_type": "code",
      "execution_count": 26,
      "metadata": {},
      "outputs": [
        {
          "data": {
            "text/plain": [
              "Index(['PassengerId', 'Survived', 'Name', 'Age', 'SibSp', 'Parch', 'Ticket',\n",
              "       'Fare', 'Cabin', 'Sex_female', 'Sex_male', 'Pclass_1', 'Pclass_2',\n",
              "       'Pclass_3', 'Embarked_C', 'Embarked_Q', 'Embarked_S'],\n",
              "      dtype='object')"
            ]
          },
          "execution_count": 26,
          "metadata": {},
          "output_type": "execute_result"
        }
      ],
      "source": [
        "# create dummy variables for `Sex`, `Embarked`, `Pclass` columns using pandas get_dummies function.\n",
        "df = pd.get_dummies(df, columns=[\"Sex\",\"Pclass\",\"Embarked\"])\n",
        "df.columns"
      ]
    },
    {
      "cell_type": "code",
      "execution_count": 27,
      "metadata": {},
      "outputs": [
        {
          "data": {
            "text/html": [
              "<div>\n",
              "<style scoped>\n",
              "    .dataframe tbody tr th:only-of-type {\n",
              "        vertical-align: middle;\n",
              "    }\n",
              "\n",
              "    .dataframe tbody tr th {\n",
              "        vertical-align: top;\n",
              "    }\n",
              "\n",
              "    .dataframe thead th {\n",
              "        text-align: right;\n",
              "    }\n",
              "</style>\n",
              "<table border=\"1\" class=\"dataframe\">\n",
              "  <thead>\n",
              "    <tr style=\"text-align: right;\">\n",
              "      <th></th>\n",
              "      <th>Sex_male</th>\n",
              "      <th>Sex_female</th>\n",
              "      <th>Pclass_1</th>\n",
              "      <th>Pclass_2</th>\n",
              "      <th>Pclass_3</th>\n",
              "      <th>Embarked_C</th>\n",
              "      <th>Embarked_Q</th>\n",
              "      <th>Embarked_S</th>\n",
              "    </tr>\n",
              "  </thead>\n",
              "  <tbody>\n",
              "    <tr>\n",
              "      <th>0</th>\n",
              "      <td>1</td>\n",
              "      <td>0</td>\n",
              "      <td>0</td>\n",
              "      <td>0</td>\n",
              "      <td>1</td>\n",
              "      <td>0</td>\n",
              "      <td>0</td>\n",
              "      <td>1</td>\n",
              "    </tr>\n",
              "    <tr>\n",
              "      <th>1</th>\n",
              "      <td>0</td>\n",
              "      <td>1</td>\n",
              "      <td>1</td>\n",
              "      <td>0</td>\n",
              "      <td>0</td>\n",
              "      <td>1</td>\n",
              "      <td>0</td>\n",
              "      <td>0</td>\n",
              "    </tr>\n",
              "    <tr>\n",
              "      <th>2</th>\n",
              "      <td>0</td>\n",
              "      <td>1</td>\n",
              "      <td>0</td>\n",
              "      <td>0</td>\n",
              "      <td>1</td>\n",
              "      <td>0</td>\n",
              "      <td>0</td>\n",
              "      <td>1</td>\n",
              "    </tr>\n",
              "    <tr>\n",
              "      <th>3</th>\n",
              "      <td>0</td>\n",
              "      <td>1</td>\n",
              "      <td>1</td>\n",
              "      <td>0</td>\n",
              "      <td>0</td>\n",
              "      <td>0</td>\n",
              "      <td>0</td>\n",
              "      <td>1</td>\n",
              "    </tr>\n",
              "    <tr>\n",
              "      <th>4</th>\n",
              "      <td>1</td>\n",
              "      <td>0</td>\n",
              "      <td>0</td>\n",
              "      <td>0</td>\n",
              "      <td>1</td>\n",
              "      <td>0</td>\n",
              "      <td>0</td>\n",
              "      <td>1</td>\n",
              "    </tr>\n",
              "  </tbody>\n",
              "</table>\n",
              "</div>"
            ],
            "text/plain": [
              "   Sex_male  Sex_female  Pclass_1  Pclass_2  Pclass_3  Embarked_C  Embarked_Q  \\\n",
              "0         1           0         0         0         1           0           0   \n",
              "1         0           1         1         0         0           1           0   \n",
              "2         0           1         0         0         1           0           0   \n",
              "3         0           1         1         0         0           0           0   \n",
              "4         1           0         0         0         1           0           0   \n",
              "\n",
              "   Embarked_S  \n",
              "0           1  \n",
              "1           0  \n",
              "2           1  \n",
              "3           1  \n",
              "4           1  "
            ]
          },
          "execution_count": 27,
          "metadata": {},
          "output_type": "execute_result"
        }
      ],
      "source": [
        "added_cols = ['Sex_male', 'Sex_female', 'Pclass_1', 'Pclass_2', 'Pclass_3', 'Embarked_C', 'Embarked_Q', 'Embarked_S']\n",
        "df[added_cols].head()"
      ]
    },
    {
      "attachments": {},
      "cell_type": "markdown",
      "metadata": {},
      "source": [
        "Okay now we have the data ready, let's think about three important things about the data. \n",
        "- inputs (independent variables)\n",
        "- predictions  (≠ labels).\n",
        "- labels  (dependent variable(s))\n",
        "\n",
        "A: Our inputs are going to be: total 12.\n",
        "- (1) Age\n",
        "- (2) SibSp\n",
        "- (3) Parch\n",
        "- (4) Fare\n",
        "- (5) Sex_female\n",
        "- (6) Sex_male\n",
        "- (7) Pclass_1\n",
        "- (8) Pclass_2\n",
        "- (9) Pclass_3\n",
        "- (10) Embarked_C\n",
        "- (11) Embarked_Q\n",
        "- (12) Embarked_S\n",
        "\n",
        "B: Our predictions are going to be the probabiliy of the survival. \n",
        "\n",
        "C: The labels is in the `Survived` column."
      ]
    },
    {
      "attachments": {},
      "cell_type": "markdown",
      "metadata": {},
      "source": [
        "The independent & dependent variables need to be tensors so that we can use them to create our model. Let's try to create that. "
      ]
    },
    {
      "cell_type": "code",
      "execution_count": 28,
      "metadata": {},
      "outputs": [],
      "source": [
        "independent_variables_columns = [\"Age\", \"SibSp\", \"Parch\", \"Fare\"] + added_cols\n",
        "\n",
        "# create a tensor using the independent variables columns.\n",
        "import torch\n",
        "t_indep = torch.tensor(df[independent_variables_columns].values, dtype=torch.float32)\n",
        "\n",
        "# create a tensor suing the dependent variable column.\n",
        "t_dep = torch.tensor(df.Survived.values, dtype=torch.float32)"
      ]
    },
    {
      "cell_type": "code",
      "execution_count": 29,
      "metadata": {},
      "outputs": [
        {
          "data": {
            "text/plain": [
              "(torch.Size([891, 12]), torch.Size([891]))"
            ]
          },
          "execution_count": 29,
          "metadata": {},
          "output_type": "execute_result"
        }
      ],
      "source": [
        "# check the shape of the independent tensor & dependent tensor.\n",
        "t_indep.shape, t_dep.shape"
      ]
    },
    {
      "cell_type": "code",
      "execution_count": 30,
      "metadata": {},
      "outputs": [
        {
          "data": {
            "text/plain": [
              "tensor([[22.0000,  1.0000,  0.0000,  2.1102,  1.0000,  0.0000,  0.0000,  0.0000,\n",
              "          1.0000,  0.0000,  0.0000,  1.0000],\n",
              "        [38.0000,  1.0000,  0.0000,  4.2806,  0.0000,  1.0000,  1.0000,  0.0000,\n",
              "          0.0000,  1.0000,  0.0000,  0.0000],\n",
              "        [26.0000,  0.0000,  0.0000,  2.1889,  0.0000,  1.0000,  0.0000,  0.0000,\n",
              "          1.0000,  0.0000,  0.0000,  1.0000],\n",
              "        [35.0000,  1.0000,  0.0000,  3.9908,  0.0000,  1.0000,  1.0000,  0.0000,\n",
              "          0.0000,  0.0000,  0.0000,  1.0000],\n",
              "        [35.0000,  0.0000,  0.0000,  2.2028,  1.0000,  0.0000,  0.0000,  0.0000,\n",
              "          1.0000,  0.0000,  0.0000,  1.0000]])"
            ]
          },
          "execution_count": 30,
          "metadata": {},
          "output_type": "execute_result"
        }
      ],
      "source": [
        "t_indep[:5]"
      ]
    },
    {
      "cell_type": "code",
      "execution_count": 31,
      "metadata": {},
      "outputs": [
        {
          "data": {
            "text/plain": [
              "(tensor([80.0000,  8.0000,  6.0000,  6.2409,  1.0000,  1.0000,  1.0000,  1.0000,\n",
              "          1.0000,  1.0000,  1.0000,  1.0000]),\n",
              " torch.Size([12]),\n",
              " tensor([630, 159, 678, 258,   0,   1,   1,   9,   0,   1,   5,   0]))"
            ]
          },
          "execution_count": 31,
          "metadata": {},
          "output_type": "execute_result"
        }
      ],
      "source": [
        "# This is a side note to see how to use max function of pytorch across all columns. \n",
        "# For my example, I only used this max function to noramlize age based on the lecture from Lesson 03. \n",
        "# But technically we can use it to divide each column by its max value. \n",
        "\n",
        "# Get the max of each column of t_indep.\n",
        "vals,indices = t_indep.max(dim=0) # vals is the max value of each column, indices is the index of the max value of each column.\n",
        "vals, vals.shape, indices # vals, indices are vectors. \n"
      ]
    },
    {
      "cell_type": "code",
      "execution_count": 32,
      "metadata": {},
      "outputs": [
        {
          "data": {
            "text/plain": [
              "tensor([[0.2750, 0.1250, 0.0000,  ..., 0.0000, 0.0000, 1.0000],\n",
              "        [0.4750, 0.1250, 0.0000,  ..., 1.0000, 0.0000, 0.0000],\n",
              "        [0.3250, 0.0000, 0.0000,  ..., 0.0000, 0.0000, 1.0000],\n",
              "        ...,\n",
              "        [0.3000, 0.1250, 0.3333,  ..., 0.0000, 0.0000, 1.0000],\n",
              "        [0.3250, 0.0000, 0.0000,  ..., 1.0000, 0.0000, 0.0000],\n",
              "        [0.4000, 0.0000, 0.0000,  ..., 0.0000, 1.0000, 0.0000]])"
            ]
          },
          "execution_count": 32,
          "metadata": {},
          "output_type": "execute_result"
        }
      ],
      "source": [
        "# Divide each column of t_indep by its max value.\n",
        "t_indep = t_indep / vals\n",
        "t_indep"
      ]
    },
    {
      "attachments": {},
      "cell_type": "markdown",
      "metadata": {},
      "source": [
        "What is cool about the above line? Because it talks about numpy's broadcasting feature!\n",
        "If you think about it, t_indep is matrix and vals is a vector.\n",
        "\n",
        "So basically, we are dividing a matrix by a vector. It is possible because we are using the braodcasting feature (many programing langues have this feature).\n",
        "\n",
        "What is this broadcasting feature about? How does it work? \n",
        "From Jeremy's explanation - \n",
        "- This feature allows our machine thinks that there is a separate copy of the vector for every row of the matrix, and divides each row of the matrix by the vector. \n",
        "- In practice, this does not create any copies, and does this operation in a highly otpimized way, taking full advantage of modern CPUs or GPUs. \n",
        "- Broadcasting is one of the most important techniques for making your code concise, maintainable, and fast, so it's well worth studying and practicing."
      ]
    },
    {
      "attachments": {},
      "cell_type": "markdown",
      "metadata": {},
      "source": [
        "Another thing to think about is how we want to create a training set and a validation set. Quickly skimming through data in the training.csv and the test.csv, I think the easiest choice of creating a validation set (random splitter) is okay. But let's see whether we will stick to this."
      ]
    },
    {
      "attachments": {},
      "cell_type": "markdown",
      "metadata": {},
      "source": [
        "## Setting up a linear model\n",
        "\n",
        "In this section, we are going to create a linear model from the scratch. This means we are creating a model with one layer (output layer). \n",
        "\n",
        "The below image shows what the linear model looks like: \n",
        "[TBD: put the screenshot of the image]"
      ]
    },
    {
      "attachments": {},
      "cell_type": "markdown",
      "metadata": {},
      "source": [
        "The high level process of a setting up a linear model is like below. Please note, this process does not include the training part (as such we don't actually work on creating training & validation set and coming up with metrics yet). We will hand that part separateyl.\n",
        "- (1) Initialize Coefficients: Create the number of coefficients that correspond to the number of inputs & initialize with random values. \n",
        "- (2) Calculate a prediction per row: Multiply each element of the inputs with the each corresponding element of coefficients and add them up.\n",
        "- (3) Calculate the total loss using the prediction and the loss of each row and summing the results up.\n",
        "- (4) Take the gradient descent of the loss function\n",
        "- (5) Use the grad values of the coefficients, update the coefficients. "
      ]
    },
    {
      "cell_type": "code",
      "execution_count": 33,
      "metadata": {},
      "outputs": [
        {
          "data": {
            "text/plain": [
              "(tensor([ 0.1681, -0.2407,  0.4483,  0.1766, -0.1443,  0.3300,  0.2960, -0.3719,\n",
              "         -0.0702,  0.1998, -0.2471,  0.0225]),\n",
              " torch.Size([12]))"
            ]
          },
          "execution_count": 33,
          "metadata": {},
          "output_type": "execute_result"
        }
      ],
      "source": [
        "# create coeff tensor with random values. The size of coeff tensor should be the same as the number of independent variables. \n",
        "# we want the random values to be between -0.5 and 0.5 based on Jeremy's recommendation; \n",
        "# He got this number after multiple experiments.To focus on our essence of the practice of building a linear model, we will take his recommendation.\n",
        "\n",
        "t_coeff = torch.rand(len(independent_variables_columns)) - 0.5\n",
        "t_coeff, t_coeff.shape\n"
      ]
    },
    {
      "attachments": {
        "image.png": {
          "image/png": "[encoded data removed]"
        }
      },
      "cell_type": "markdown",
      "metadata": {},
      "source": [
        "### Notes: A few things that I initially did and were incorrect. \n",
        "\n",
        "(1) Initally, I kept getting values that were outside of [-0.5, 0.5] as I used torch.randn to initizlie random values. \n",
        "```\n",
        "t_coeff = torch.randn(len(independent_variables_columns)) - 0.5\n",
        "t_coeff, t_coeff.shape\n",
        "```\n",
        "- This is indeed sneaky. I was not aware of this. The code itself was generated by Copilot and without having much knowedge in pytorch, this was hard to catch. \n",
        "\n",
        "- This made the values for the predictions outside of 0,1 range. \n",
        "![image.png](attachment:image.png)\n",
        "\n",
        "(2) I set the tensor's requires_grad_ attribute while I was initializing them. \n",
        "```\n",
        "t_coeff = torch.randn(len(independent_variables_columns), requires_grad_) - 0.5\n",
        "t_coeff, t_coeff.shape\n",
        "```\n",
        "- The problem with this choice was that when I tried to print grad of coeffs, I was getting the following error.\n",
        "\".grad attribute of a non-leaf tensor being accessed.\"\n",
        "- And the solution here: https://discuss.pytorch.org/t/grad-attribute-of-a-non-leaf-tensor-being-accessed/82313/2"
      ]
    },
    {
      "cell_type": "code",
      "execution_count": 34,
      "metadata": {},
      "outputs": [
        {
          "data": {
            "text/plain": [
              "tensor([[ 0.0462, -0.0301,  0.0000,  0.0597, -0.1443,  0.0000,  0.0000, -0.0000,\n",
              "         -0.0702,  0.0000, -0.0000,  0.0225],\n",
              "        [ 0.0798, -0.0301,  0.0000,  0.1212, -0.0000,  0.3300,  0.2960, -0.0000,\n",
              "         -0.0000,  0.1998, -0.0000,  0.0000],\n",
              "        [ 0.0546, -0.0000,  0.0000,  0.0620, -0.0000,  0.3300,  0.0000, -0.0000,\n",
              "         -0.0702,  0.0000, -0.0000,  0.0225],\n",
              "        [ 0.0735, -0.0301,  0.0000,  0.1130, -0.0000,  0.3300,  0.2960, -0.0000,\n",
              "         -0.0000,  0.0000, -0.0000,  0.0225],\n",
              "        [ 0.0735, -0.0000,  0.0000,  0.0623, -0.1443,  0.0000,  0.0000, -0.0000,\n",
              "         -0.0702,  0.0000, -0.0000,  0.0225],\n",
              "        [ 0.0504, -0.0000,  0.0000,  0.0636, -0.1443,  0.0000,  0.0000, -0.0000,\n",
              "         -0.0702,  0.0000, -0.2471,  0.0000],\n",
              "        [ 0.1135, -0.0000,  0.0000,  0.1123, -0.1443,  0.0000,  0.2960, -0.0000,\n",
              "         -0.0000,  0.0000, -0.0000,  0.0225],\n",
              "        [ 0.0042, -0.0903,  0.0747,  0.0876, -0.1443,  0.0000,  0.0000, -0.0000,\n",
              "         -0.0702,  0.0000, -0.0000,  0.0225],\n",
              "        [ 0.0567, -0.0000,  0.1494,  0.0706, -0.0000,  0.3300,  0.0000, -0.0000,\n",
              "         -0.0702,  0.0000, -0.0000,  0.0225],\n",
              "        [ 0.0294, -0.0301,  0.0000,  0.0973, -0.0000,  0.3300,  0.0000, -0.3719,\n",
              "         -0.0000,  0.1998, -0.0000,  0.0000]])"
            ]
          },
          "execution_count": 34,
          "metadata": {},
          "output_type": "execute_result"
        }
      ],
      "source": [
        "# multiply the independent tensor with coeff tensor.\n",
        "(t_indep*t_coeff)[:10]"
      ]
    },
    {
      "cell_type": "code",
      "execution_count": 35,
      "metadata": {},
      "outputs": [
        {
          "data": {
            "text/plain": [
              "tensor([-0.1161,  0.9967,  0.3989,  0.8050, -0.0561, -0.3476,  0.4000, -0.1157,\n",
              "         0.5591,  0.2545])"
            ]
          },
          "execution_count": 35,
          "metadata": {},
          "output_type": "execute_result"
        }
      ],
      "source": [
        "# calculate the prediction of each row by summing up the values of each row.\n",
        "t_pred = (t_indep*t_coeff).sum(axis=1) #I can use dim=1 as well.\n",
        "t_pred[:10]"
      ]
    },
    {
      "attachments": {},
      "cell_type": "markdown",
      "metadata": {},
      "source": [
        "Okay now we calculated the prediction of each row with randomly initialized coefficients as a starting point. \n",
        "\n",
        "To create a more meaningful model, we need to update these coefficients. To update the coefficients, we need to do gradient descent of the loss function. \n",
        "\n",
        "Let's define our loss function, which returns the total loss of the dataset. The simpliest way is to caculate the error between the prediction and the label per row and summing the loss up. "
      ]
    },
    {
      "cell_type": "code",
      "execution_count": 36,
      "metadata": {},
      "outputs": [
        {
          "data": {
            "text/plain": [
              "(tensor(0.3832), torch.Size([]))"
            ]
          },
          "execution_count": 36,
          "metadata": {},
          "output_type": "execute_result"
        }
      ],
      "source": [
        "# calculate loss by taking the absolute value of the difference between the preidictions and the dependents and take the average.\n",
        "t_loss = (t_pred - t_dep).abs().mean()\n",
        "t_loss, t_loss.shape # scalar value."
      ]
    },
    {
      "attachments": {},
      "cell_type": "markdown",
      "metadata": {},
      "source": [
        "So now we have a way to calculate preidctions and the los, let's create functions to get each of them. "
      ]
    },
    {
      "cell_type": "code",
      "execution_count": 37,
      "metadata": {},
      "outputs": [],
      "source": [
        "# define a function that takes in coefficients, independent variables, and return the predictions.\n",
        "def calc_preds(t_indep, t_coeff):\n",
        "    return (t_indep * t_coeff).sum(axis =1)\n",
        "\n",
        "# define a function that takes in predictions and dependents, and return the loss.\n",
        "def calc_loss(t_pred, t_dep):\n",
        "    return (t_pred - t_dep).abs().mean()\n",
        "\n",
        "# update calc_loss function to use calc_preds function to calculate the preidctions.\n",
        "def calc_loss(t_indep, t_dep, t_coeff):\n",
        "    return (calc_preds(t_indep, t_coeff) - t_dep).abs().mean()"
      ]
    },
    {
      "attachments": {},
      "cell_type": "markdown",
      "metadata": {},
      "source": [
        "Okay, now let's do a single epoch (as we are going to use the entire data) of graident descent.\n",
        "\n",
        "Major 5 steps invovled here - \n",
        "- (1) Call `requires_grad_()` on our coefficients. \n",
        "- (2) Calculate the loss.\n",
        "- (3) Calculate the gradient.\n",
        "- (4) Update the parameters using the gradient and the learning rate. \n",
        "- (5) Set the `.grad` values to be zero as we want to calculate `.grad` independently from the previous run."
      ]
    },
    {
      "cell_type": "code",
      "execution_count": 38,
      "metadata": {},
      "outputs": [
        {
          "data": {
            "text/plain": [
              "tensor([ 0.1681, -0.2407,  0.4483,  0.1766, -0.1443,  0.3300,  0.2960, -0.3719,\n",
              "        -0.0702,  0.1998, -0.2471,  0.0225], requires_grad=True)"
            ]
          },
          "execution_count": 38,
          "metadata": {},
          "output_type": "execute_result"
        }
      ],
      "source": [
        "# track gradient of coeff tensor.\n",
        "t_coeff.requires_grad_()"
      ]
    },
    {
      "cell_type": "code",
      "execution_count": 39,
      "metadata": {},
      "outputs": [
        {
          "data": {
            "text/plain": [
              "tensor(0.3832, grad_fn=<MeanBackward0>)"
            ]
          },
          "execution_count": 39,
          "metadata": {},
          "output_type": "execute_result"
        }
      ],
      "source": [
        "# Calculate the loss \n",
        "t_loss = calc_loss(t_indep, t_dep, t_coeff)\n",
        "t_loss"
      ]
    },
    {
      "cell_type": "code",
      "execution_count": 40,
      "metadata": {},
      "outputs": [],
      "source": [
        "# calculate the gradient of the loss.\n",
        "t_loss.backward()"
      ]
    },
    {
      "cell_type": "code",
      "execution_count": 41,
      "metadata": {},
      "outputs": [],
      "source": [
        "# Update the parameters using the gradient and the learning rate\n",
        "with torch.no_grad():\n",
        "    t_coeff -= t_coeff.grad * 1e-5\n",
        "    # set the gradient to zero so that it doesn't accumulate.\n",
        "    t_coeff.grad.zero_()"
      ]
    },
    {
      "cell_type": "code",
      "execution_count": 42,
      "metadata": {},
      "outputs": [],
      "source": [
        "# We just completed one gradient step. Let's make it a function.\n",
        "def step(t_indep, t_dep, t_coeff, lr):\n",
        "    t_coeff.requires_grad_()\n",
        "    t_loss = calc_loss(t_indep, t_dep, t_coeff)\n",
        "    t_loss.backward()\n",
        "    with torch.no_grad():\n",
        "        t_coeff -= t_coeff.grad * 1e-5\n",
        "        t_coeff.grad.zero_()"
      ]
    },
    {
      "cell_type": "code",
      "execution_count": 43,
      "metadata": {},
      "outputs": [],
      "source": [
        "# update the step function to use tensor substract function.\n",
        "def one_epoch(t_indep, t_dep, t_coeff, lr):\n",
        "    t_loss = calc_loss(t_indep, t_dep, t_coeff)\n",
        "    t_loss.backward()\n",
        "    with torch.no_grad():\n",
        "        t_coeff.sub_(t_coeff.grad * lr) # Updating coefficients; Note that a.sub_(b) subtracts b from a in-place In PyTorch, any method that ends in _ changes its object in-place\n",
        "        t_coeff.grad.zero_() # Similarly, a.zero_() sets all elements of a tensor to zero.\n",
        "    print(f\"{t_loss:.3f}\", end=\"; \")"
      ]
    },
    {
      "attachments": {},
      "cell_type": "markdown",
      "metadata": {},
      "source": [
        "Okay so we just did the gradient step for one epoch (the entire training dataset). \n",
        "Let's now train this linear model. To do training, we need a training data set and a validation dataset. "
      ]
    },
    {
      "attachments": {},
      "cell_type": "markdown",
      "metadata": {},
      "source": [
        "## Train a linear model\n",
        "As I briefly mentioned above, we are going to create a training dataset and a validation dataset because we do need the validation set for calculating our metrics. \n",
        "\n",
        "We are going to use FastAI randomsplitter. \n",
        "\n",
        "- To do training, we need to remember two important components.\n",
        "    - Having training and validation sets.\n",
        "        - Training set is important to do everything that we did for one single epcoh. We will do a few more epochs.\n",
        "            - At each epoch, we want to know how well the model is doing. This is going to be judged by a metric.\n",
        "        - Validation set is important to calculate the metric.\n",
        "            - Validation independent variables are going to be fed to the model that now has fixed weights, and using the validation dependent variables (labels), we will calculate the performance.\n",
        "            - For each epoch (which is temporarily done with weight update), we can calculate the metric using the predictions & the validation depdendent variables.\n",
        "    - Metrics.\n",
        "        - For Titanic data set, it is going to be measured by accuracy metrics.\n",
        "        - As it is a kaggle competition, it is given. But otherwise, we need to think hard about it.\n",
        "    - For setting up the model, knowing my independent variables, predictions and dependent variables is enough.\n",
        "    - But for training, we want to iterate through a few times with the metric per epoch.\n"
      ]
    },
    {
      "cell_type": "code",
      "execution_count": 44,
      "metadata": {},
      "outputs": [
        {
          "data": {
            "text/plain": [
              "(713, 178)"
            ]
          },
          "execution_count": 44,
          "metadata": {},
          "output_type": "execute_result"
        }
      ],
      "source": [
        "# Create a training dataset and a validation dataset using the fastai randomsplitter. \n",
        "\n",
        "from fastai.data.transforms import RandomSplitter\n",
        "trn_split,val_split=RandomSplitter(seed=42)(df) # seed is set to 42 to make sure we get the same result every time we run this code.\n",
        "\n",
        "#trn_split, val_split: index of training set and validation set. Both are type L.\n",
        "type(trn_split), type(val_split)\n",
        "\n",
        "# print out the length of each set\n",
        "len(trn_split), len(val_split)"
      ]
    },
    {
      "cell_type": "code",
      "execution_count": 45,
      "metadata": {},
      "outputs": [
        {
          "data": {
            "text/plain": [
              "(torch.Size([713, 12]),\n",
              " torch.Size([713]),\n",
              " torch.Size([178, 12]),\n",
              " torch.Size([178]))"
            ]
          },
          "execution_count": 45,
          "metadata": {},
          "output_type": "execute_result"
        }
      ],
      "source": [
        "# Split the independent tensor and dependent tensor into training and validation set.\n",
        "t_indep_trn = t_indep[trn_split]\n",
        "t_dep_trn = t_dep[trn_split]\n",
        "t_indep_val = t_indep[val_split]\n",
        "t_dep_val = t_dep[val_split]\n",
        "\n",
        "# print out all the shapes to make sure we split the data correctly.\n",
        "t_indep_trn.shape, t_dep_trn.shape, t_indep_val.shape, t_dep_val.shape"
      ]
    },
    {
      "attachments": {},
      "cell_type": "markdown",
      "metadata": {},
      "source": [
        "As we want to train our linear model, we want to do the gradient descent step a few times so that we can update our coefficients to make them more meaningful. \n",
        "\n",
        "Main key steps to train a model. \n",
        "- (0) Randomly initialize coefficients and assign `.grad` attribute. \n",
        "- (1) For # of epochs you chose, take the gradient descent step. \n",
        "  - In each gradient descent step:\n",
        "    - Calculate predictions with the inputs and the coefficients. \n",
        "    - calculate the loss using the predictions and the dependent variables.  \n",
        "    - Take the gradient descent step on the loss. \n",
        "    - Update the parameters using the learning rate and the gradient descent. \n",
        "    - zero 'grad' of coefficients. "
      ]
    },
    {
      "cell_type": "code",
      "execution_count": 46,
      "metadata": {},
      "outputs": [],
      "source": [
        "# Create a function to train model that accepts the number of epochs, learning rate, and the independent and dependent tensors.\n",
        "def train_model(epochs, lr, t_indep, t_dep):\n",
        "    # initialize the coeff tensor with random values.\n",
        "    t_coeff = torch.rand(len(independent_variables_columns)) - 0.5\n",
        "    # require gradient tracking.\n",
        "    t_coeff.requires_grad_()\n",
        "    # loop through the number of epochs.\n",
        "    for i in range(epochs):\n",
        "        # calculate the predictions and the loss.\n",
        "        t_pred = calc_preds(t_indep, t_coeff)\n",
        "        t_loss = calc_loss(t_pred, t_dep)\n",
        "        # calculate the gradient and update the coeff tensor.\n",
        "        t_loss.backward()\n",
        "        with torch.no_grad():\n",
        "            t_coeff -= t_coeff.grad * lr\n",
        "            t_coeff.grad.zero_()"
      ]
    },
    {
      "cell_type": "code",
      "execution_count": 47,
      "metadata": {},
      "outputs": [],
      "source": [
        "# update train_model to use one_epoch function in the loop.\n",
        "def train_model(epochs, lr, independent_variables, dependent_variables):\n",
        "    torch.manual_seed(442)\n",
        "    # initialize the coeff tensor with random values.\n",
        "    coefficients = torch.rand(len(independent_variables_columns)) - 0.5\n",
        "    # require gradient tracking.\n",
        "    coefficients.requires_grad_()\n",
        "    # loop through the number of epochs.\n",
        "    for i in range(epochs):\n",
        "        # calculate the predictions and the loss.\n",
        "        one_epoch(independent_variables, dependent_variables, coefficients, lr)\n",
        "    # return the coeff tensor.\n",
        "    return t_coeff"
      ]
    },
    {
      "cell_type": "code",
      "execution_count": 48,
      "metadata": {},
      "outputs": [
        {
          "name": "stdout",
          "output_type": "stream",
          "text": [
            "0.536; 0.502; 0.477; 0.454; 0.431; 0.409; 0.388; 0.367; 0.349; 0.336; 0.330; 0.326; 0.329; 0.304; 0.314; 0.296; 0.300; 0.289; 0.292; 0.284; 0.290; 0.288; 0.295; 0.281; 0.285; 0.282; 0.285; 0.279; 0.278; 0.283; 0.294; 0.279; 0.282; 0.283; 0.305; 0.279; 0.287; 0.277; 0.293; 0.280; 0.307; 0.272; 0.288; 0.271; 0.294; 0.282; 0.311; 0.269; 0.289; 0.269; "
          ]
        }
      ],
      "source": [
        "# call train_modl with training dataset.\n",
        "coeffs = train_model(50, 0.2, t_indep_trn, t_dep_trn)"
      ]
    },
    {
      "cell_type": "code",
      "execution_count": 49,
      "metadata": {},
      "outputs": [
        {
          "data": {
            "text/plain": [
              "{'Age': tensor(0.1681),\n",
              " 'SibSp': tensor(-0.2407),\n",
              " 'Parch': tensor(0.4483),\n",
              " 'Fare': tensor(0.1766),\n",
              " 'Sex_male': tensor(-0.1443),\n",
              " 'Sex_female': tensor(0.3300),\n",
              " 'Pclass_1': tensor(0.2960),\n",
              " 'Pclass_2': tensor(-0.3719),\n",
              " 'Pclass_3': tensor(-0.0702),\n",
              " 'Embarked_C': tensor(0.1998),\n",
              " 'Embarked_Q': tensor(-0.2471),\n",
              " 'Embarked_S': tensor(0.0226)}"
            ]
          },
          "execution_count": 49,
          "metadata": {},
          "output_type": "execute_result"
        }
      ],
      "source": [
        "def show_coeffs(): return dict(zip(independent_variables_columns, coeffs.requires_grad_(False)))\n",
        "show_coeffs()"
      ]
    },
    {
      "attachments": {},
      "cell_type": "markdown",
      "metadata": {},
      "source": [
        "Okay so now we finished the training. But to really understand that our model is improving per epoch, we need to use the metric. \n",
        "\n",
        "Our metric is accuracy as this Kaggle competition requires it. Let's calculate the accuracy to think about how to define the accuracy function. "
      ]
    },
    {
      "cell_type": "code",
      "execution_count": 50,
      "metadata": {},
      "outputs": [
        {
          "data": {
            "text/plain": [
              "tensor([-0.1652, -0.3498,  0.0953, -0.3338, -0.3664, -0.3648,  0.6182,  0.1142,\n",
              "        -0.0814,  0.6438])"
            ]
          },
          "execution_count": 50,
          "metadata": {},
          "output_type": "execute_result"
        }
      ],
      "source": [
        "# calculate predictions from the validation dataset.\n",
        "t_pred_val = calc_preds(t_indep_val, coeffs)\n",
        "t_pred_val[:10]"
      ]
    },
    {
      "attachments": {},
      "cell_type": "markdown",
      "metadata": {},
      "source": [
        "As you cans see, t_pred is a tensor of values have some negative values and also some values that are greater than 1.\n",
        "\n",
        "When we are calculating the prediction, let's make sure that each pred is between 0 and 1. We will use sigmoid function to do so. But let's revisit this part after we define the accuracy function. "
      ]
    },
    {
      "cell_type": "code",
      "execution_count": 51,
      "metadata": {},
      "outputs": [
        {
          "data": {
            "text/plain": [
              "tensor(0.7079)"
            ]
          },
          "execution_count": 51,
          "metadata": {},
          "output_type": "execute_result"
        }
      ],
      "source": [
        "# calculate the accuracy using t_pred_val and t_dep_val.\n",
        "accuracy = ((t_pred_val > 0.5) == t_dep_val).float().mean()\n",
        "accuracy"
      ]
    },
    {
      "cell_type": "code",
      "execution_count": 52,
      "metadata": {},
      "outputs": [],
      "source": [
        "# define calculating accuracy function using calc_preds function.\n",
        "def calc_accuracy(t_indep, t_dep, t_coeff):\n",
        "    t_pred = calc_preds(t_indep, t_coeff)\n",
        "    return ((t_pred > 0.5) == t_dep).float().mean()"
      ]
    },
    {
      "attachments": {},
      "cell_type": "markdown",
      "metadata": {},
      "source": [
        "Let's update our train_model function to apply sigmoid on our prediction."
      ]
    },
    {
      "cell_type": "code",
      "execution_count": 53,
      "metadata": {},
      "outputs": [],
      "source": [
        "# update calc_pred function to apply sigmoid function on our predictions.\n",
        "def calc_preds(t_indep, t_coeff):\n",
        "    return torch.sigmoid((t_indep * t_coeff).sum(axis =1))"
      ]
    },
    {
      "cell_type": "code",
      "execution_count": 54,
      "metadata": {},
      "outputs": [
        {
          "name": "stdout",
          "output_type": "stream",
          "text": [
            "0.510; 0.506; 0.502; 0.497; 0.493; 0.489; 0.485; 0.481; 0.477; 0.472; 0.468; 0.464; 0.460; 0.457; 0.453; 0.449; 0.446; 0.442; 0.439; 0.435; 0.432; 0.429; 0.426; 0.423; 0.420; 0.417; 0.414; 0.411; 0.409; 0.406; 0.404; 0.401; 0.399; 0.397; 0.394; 0.392; 0.390; 0.388; 0.386; 0.384; 0.382; 0.380; 0.379; 0.377; 0.375; 0.374; 0.372; 0.370; 0.369; 0.367; "
          ]
        }
      ],
      "source": [
        "# train model with trianing dataset.\n",
        "coeffs = train_model(50, 0.2, t_indep_trn, t_dep_trn)"
      ]
    },
    {
      "cell_type": "code",
      "execution_count": 55,
      "metadata": {},
      "outputs": [
        {
          "data": {
            "text/plain": [
              "tensor(0.7528)"
            ]
          },
          "execution_count": 55,
          "metadata": {},
          "output_type": "execute_result"
        }
      ],
      "source": [
        "# using calc_accuracy, calculate the accuracy of the model. \n",
        "acc = calc_accuracy(t_indep_val, t_dep_val, coeffs)\n",
        "acc"
      ]
    },
    {
      "cell_type": "code",
      "execution_count": 56,
      "metadata": {},
      "outputs": [
        {
          "data": {
            "text/plain": [
              "{'Age': tensor(0.1681),\n",
              " 'SibSp': tensor(-0.2407),\n",
              " 'Parch': tensor(0.4483),\n",
              " 'Fare': tensor(0.1766),\n",
              " 'Sex_male': tensor(-0.1443),\n",
              " 'Sex_female': tensor(0.3300),\n",
              " 'Pclass_1': tensor(0.2960),\n",
              " 'Pclass_2': tensor(-0.3719),\n",
              " 'Pclass_3': tensor(-0.0702),\n",
              " 'Embarked_C': tensor(0.1998),\n",
              " 'Embarked_Q': tensor(-0.2471),\n",
              " 'Embarked_S': tensor(0.0226)}"
            ]
          },
          "execution_count": 56,
          "metadata": {},
          "output_type": "execute_result"
        }
      ],
      "source": [
        "show_coeffs()"
      ]
    },
    {
      "attachments": {},
      "cell_type": "markdown",
      "metadata": {},
      "source": [
        "Hmm.. the accuracy ain't that good. Also the result does not quite make sense. As we expect the female & Pclass_1 have higher accuracy, but they don't.  I think there are some set ups that I didn't do correctly.\n",
        "But I got the point of every single line and was able to figure out my logical loops while I was trying to set this linear model by myself. So I am going to move on to the next section, which is using the linear model for the test dataset. "
      ]
    },
    {
      "attachments": {},
      "cell_type": "markdown",
      "metadata": {},
      "source": [
        "# Submit the result to Kaggle\n",
        "This is reading test.csv file which is the test data set.\n",
        "We will mainly do three things.\n",
        "(1) Pre-process the data exactl the same way we did for the training dataset.\n",
        "(2) Put the indepent variables of the test data to our linear model to get prediction.\n",
        "(3) And if the prediction is >0.5, mark it as survived. "
      ]
    },
    {
      "cell_type": "code",
      "execution_count": 57,
      "metadata": {},
      "outputs": [
        {
          "data": {
            "text/html": [
              "<div>\n",
              "<style scoped>\n",
              "    .dataframe tbody tr th:only-of-type {\n",
              "        vertical-align: middle;\n",
              "    }\n",
              "\n",
              "    .dataframe tbody tr th {\n",
              "        vertical-align: top;\n",
              "    }\n",
              "\n",
              "    .dataframe thead th {\n",
              "        text-align: right;\n",
              "    }\n",
              "</style>\n",
              "<table border=\"1\" class=\"dataframe\">\n",
              "  <thead>\n",
              "    <tr style=\"text-align: right;\">\n",
              "      <th></th>\n",
              "      <th>PassengerId</th>\n",
              "      <th>Pclass</th>\n",
              "      <th>Name</th>\n",
              "      <th>Sex</th>\n",
              "      <th>Age</th>\n",
              "      <th>SibSp</th>\n",
              "      <th>Parch</th>\n",
              "      <th>Ticket</th>\n",
              "      <th>Fare</th>\n",
              "      <th>Cabin</th>\n",
              "      <th>Embarked</th>\n",
              "    </tr>\n",
              "  </thead>\n",
              "  <tbody>\n",
              "    <tr>\n",
              "      <th>0</th>\n",
              "      <td>892</td>\n",
              "      <td>3</td>\n",
              "      <td>Kelly, Mr. James</td>\n",
              "      <td>male</td>\n",
              "      <td>34.5</td>\n",
              "      <td>0</td>\n",
              "      <td>0</td>\n",
              "      <td>330911</td>\n",
              "      <td>7.8292</td>\n",
              "      <td>NaN</td>\n",
              "      <td>Q</td>\n",
              "    </tr>\n",
              "    <tr>\n",
              "      <th>1</th>\n",
              "      <td>893</td>\n",
              "      <td>3</td>\n",
              "      <td>Wilkes, Mrs. James (Ellen Needs)</td>\n",
              "      <td>female</td>\n",
              "      <td>47.0</td>\n",
              "      <td>1</td>\n",
              "      <td>0</td>\n",
              "      <td>363272</td>\n",
              "      <td>7.0000</td>\n",
              "      <td>NaN</td>\n",
              "      <td>S</td>\n",
              "    </tr>\n",
              "    <tr>\n",
              "      <th>2</th>\n",
              "      <td>894</td>\n",
              "      <td>2</td>\n",
              "      <td>Myles, Mr. Thomas Francis</td>\n",
              "      <td>male</td>\n",
              "      <td>62.0</td>\n",
              "      <td>0</td>\n",
              "      <td>0</td>\n",
              "      <td>240276</td>\n",
              "      <td>9.6875</td>\n",
              "      <td>NaN</td>\n",
              "      <td>Q</td>\n",
              "    </tr>\n",
              "    <tr>\n",
              "      <th>3</th>\n",
              "      <td>895</td>\n",
              "      <td>3</td>\n",
              "      <td>Wirz, Mr. Albert</td>\n",
              "      <td>male</td>\n",
              "      <td>27.0</td>\n",
              "      <td>0</td>\n",
              "      <td>0</td>\n",
              "      <td>315154</td>\n",
              "      <td>8.6625</td>\n",
              "      <td>NaN</td>\n",
              "      <td>S</td>\n",
              "    </tr>\n",
              "    <tr>\n",
              "      <th>4</th>\n",
              "      <td>896</td>\n",
              "      <td>3</td>\n",
              "      <td>Hirvonen, Mrs. Alexander (Helga E Lindqvist)</td>\n",
              "      <td>female</td>\n",
              "      <td>22.0</td>\n",
              "      <td>1</td>\n",
              "      <td>1</td>\n",
              "      <td>3101298</td>\n",
              "      <td>12.2875</td>\n",
              "      <td>NaN</td>\n",
              "      <td>S</td>\n",
              "    </tr>\n",
              "    <tr>\n",
              "      <th>...</th>\n",
              "      <td>...</td>\n",
              "      <td>...</td>\n",
              "      <td>...</td>\n",
              "      <td>...</td>\n",
              "      <td>...</td>\n",
              "      <td>...</td>\n",
              "      <td>...</td>\n",
              "      <td>...</td>\n",
              "      <td>...</td>\n",
              "      <td>...</td>\n",
              "      <td>...</td>\n",
              "    </tr>\n",
              "    <tr>\n",
              "      <th>413</th>\n",
              "      <td>1305</td>\n",
              "      <td>3</td>\n",
              "      <td>Spector, Mr. Woolf</td>\n",
              "      <td>male</td>\n",
              "      <td>NaN</td>\n",
              "      <td>0</td>\n",
              "      <td>0</td>\n",
              "      <td>A.5. 3236</td>\n",
              "      <td>8.0500</td>\n",
              "      <td>NaN</td>\n",
              "      <td>S</td>\n",
              "    </tr>\n",
              "    <tr>\n",
              "      <th>414</th>\n",
              "      <td>1306</td>\n",
              "      <td>1</td>\n",
              "      <td>Oliva y Ocana, Dona. Fermina</td>\n",
              "      <td>female</td>\n",
              "      <td>39.0</td>\n",
              "      <td>0</td>\n",
              "      <td>0</td>\n",
              "      <td>PC 17758</td>\n",
              "      <td>108.9000</td>\n",
              "      <td>C105</td>\n",
              "      <td>C</td>\n",
              "    </tr>\n",
              "    <tr>\n",
              "      <th>415</th>\n",
              "      <td>1307</td>\n",
              "      <td>3</td>\n",
              "      <td>Saether, Mr. Simon Sivertsen</td>\n",
              "      <td>male</td>\n",
              "      <td>38.5</td>\n",
              "      <td>0</td>\n",
              "      <td>0</td>\n",
              "      <td>SOTON/O.Q. 3101262</td>\n",
              "      <td>7.2500</td>\n",
              "      <td>NaN</td>\n",
              "      <td>S</td>\n",
              "    </tr>\n",
              "    <tr>\n",
              "      <th>416</th>\n",
              "      <td>1308</td>\n",
              "      <td>3</td>\n",
              "      <td>Ware, Mr. Frederick</td>\n",
              "      <td>male</td>\n",
              "      <td>NaN</td>\n",
              "      <td>0</td>\n",
              "      <td>0</td>\n",
              "      <td>359309</td>\n",
              "      <td>8.0500</td>\n",
              "      <td>NaN</td>\n",
              "      <td>S</td>\n",
              "    </tr>\n",
              "    <tr>\n",
              "      <th>417</th>\n",
              "      <td>1309</td>\n",
              "      <td>3</td>\n",
              "      <td>Peter, Master. Michael J</td>\n",
              "      <td>male</td>\n",
              "      <td>NaN</td>\n",
              "      <td>1</td>\n",
              "      <td>1</td>\n",
              "      <td>2668</td>\n",
              "      <td>22.3583</td>\n",
              "      <td>NaN</td>\n",
              "      <td>C</td>\n",
              "    </tr>\n",
              "  </tbody>\n",
              "</table>\n",
              "<p>418 rows × 11 columns</p>\n",
              "</div>"
            ],
            "text/plain": [
              "     PassengerId  Pclass                                          Name  \\\n",
              "0            892       3                              Kelly, Mr. James   \n",
              "1            893       3              Wilkes, Mrs. James (Ellen Needs)   \n",
              "2            894       2                     Myles, Mr. Thomas Francis   \n",
              "3            895       3                              Wirz, Mr. Albert   \n",
              "4            896       3  Hirvonen, Mrs. Alexander (Helga E Lindqvist)   \n",
              "..           ...     ...                                           ...   \n",
              "413         1305       3                            Spector, Mr. Woolf   \n",
              "414         1306       1                  Oliva y Ocana, Dona. Fermina   \n",
              "415         1307       3                  Saether, Mr. Simon Sivertsen   \n",
              "416         1308       3                           Ware, Mr. Frederick   \n",
              "417         1309       3                      Peter, Master. Michael J   \n",
              "\n",
              "        Sex   Age  SibSp  Parch              Ticket      Fare Cabin Embarked  \n",
              "0      male  34.5      0      0              330911    7.8292   NaN        Q  \n",
              "1    female  47.0      1      0              363272    7.0000   NaN        S  \n",
              "2      male  62.0      0      0              240276    9.6875   NaN        Q  \n",
              "3      male  27.0      0      0              315154    8.6625   NaN        S  \n",
              "4    female  22.0      1      1             3101298   12.2875   NaN        S  \n",
              "..      ...   ...    ...    ...                 ...       ...   ...      ...  \n",
              "413    male   NaN      0      0           A.5. 3236    8.0500   NaN        S  \n",
              "414  female  39.0      0      0            PC 17758  108.9000  C105        C  \n",
              "415    male  38.5      0      0  SOTON/O.Q. 3101262    7.2500   NaN        S  \n",
              "416    male   NaN      0      0              359309    8.0500   NaN        S  \n",
              "417    male   NaN      1      1                2668   22.3583   NaN        C  \n",
              "\n",
              "[418 rows x 11 columns]"
            ]
          },
          "execution_count": 57,
          "metadata": {},
          "output_type": "execute_result"
        }
      ],
      "source": [
        "# read test.csv file\n",
        "df_test = pd.read_csv(path/'test.csv')\n",
        "\n",
        "# print out the test dataframe.\n",
        "df_test"
      ]
    },
    {
      "cell_type": "code",
      "execution_count": 58,
      "metadata": {},
      "outputs": [
        {
          "data": {
            "text/plain": [
              "PassengerId      0\n",
              "Pclass           0\n",
              "Name             0\n",
              "Sex              0\n",
              "Age             86\n",
              "SibSp            0\n",
              "Parch            0\n",
              "Ticket           0\n",
              "Fare             1\n",
              "Cabin          327\n",
              "Embarked         0\n",
              "dtype: int64"
            ]
          },
          "execution_count": 58,
          "metadata": {},
          "output_type": "execute_result"
        }
      ],
      "source": [
        "# check the missing values.\n",
        "df_test.isnull().sum()"
      ]
    },
    {
      "cell_type": "code",
      "execution_count": 59,
      "metadata": {},
      "outputs": [],
      "source": [
        "# `Fare` column has a missing value. Let's fill it with 0 to avoid problems.\n",
        "df_test['Fare'] = df_test.Fare.fillna(0)"
      ]
    },
    {
      "cell_type": "code",
      "execution_count": 60,
      "metadata": {},
      "outputs": [],
      "source": [
        "# substitue missing fields with the most common value.\n",
        "mode = df_test.mode().iloc[0] #please check the last section of the notebook. Heads-up: Jeremy still uses the same mode with the training dataset. \n",
        "df_test.fillna(mode, inplace=True)\n",
        "\n",
        "# pre-process the data\n",
        "df_test['LogFare'] = np.log(df_test['Fare']+1)\n",
        "df_test = pd.get_dummies(df_test, columns=[\"Sex\",\"Pclass\",\"Embarked\"])\n",
        "\n",
        "# Create independent variables tensor for the test dataset. \n",
        "tst_indep = torch.tensor(df_test[independent_variables_columns].values, dtype=torch.float)\n",
        "vals,indices =tst_indep.max(dim=0)\n",
        "tst_indep = tst_indep / vals"
      ]
    },
    {
      "cell_type": "code",
      "execution_count": 61,
      "metadata": {},
      "outputs": [
        {
          "data": {
            "text/plain": [
              "tensor([[0.4539, 0.0000, 0.0000, 0.0153, 1.0000, 0.0000, 0.0000, 0.0000, 1.0000,\n",
              "         0.0000, 1.0000, 0.0000],\n",
              "        [0.6184, 0.1250, 0.0000, 0.0137, 0.0000, 1.0000, 0.0000, 0.0000, 1.0000,\n",
              "         0.0000, 0.0000, 1.0000],\n",
              "        [0.8158, 0.0000, 0.0000, 0.0189, 1.0000, 0.0000, 0.0000, 1.0000, 0.0000,\n",
              "         0.0000, 1.0000, 0.0000],\n",
              "        [0.3553, 0.0000, 0.0000, 0.0169, 1.0000, 0.0000, 0.0000, 0.0000, 1.0000,\n",
              "         0.0000, 0.0000, 1.0000],\n",
              "        [0.2895, 0.1250, 0.1111, 0.0240, 0.0000, 1.0000, 0.0000, 0.0000, 1.0000,\n",
              "         0.0000, 0.0000, 1.0000],\n",
              "        [0.1842, 0.0000, 0.0000, 0.0180, 1.0000, 0.0000, 0.0000, 0.0000, 1.0000,\n",
              "         0.0000, 0.0000, 1.0000],\n",
              "        [0.3947, 0.0000, 0.0000, 0.0149, 0.0000, 1.0000, 0.0000, 0.0000, 1.0000,\n",
              "         0.0000, 1.0000, 0.0000],\n",
              "        [0.3421, 0.1250, 0.1111, 0.0566, 1.0000, 0.0000, 0.0000, 1.0000, 0.0000,\n",
              "         0.0000, 0.0000, 1.0000],\n",
              "        [0.2368, 0.0000, 0.0000, 0.0141, 0.0000, 1.0000, 0.0000, 0.0000, 1.0000,\n",
              "         1.0000, 0.0000, 0.0000],\n",
              "        [0.2763, 0.2500, 0.0000, 0.0471, 1.0000, 0.0000, 0.0000, 0.0000, 1.0000,\n",
              "         0.0000, 0.0000, 1.0000]])"
            ]
          },
          "execution_count": 61,
          "metadata": {},
          "output_type": "execute_result"
        }
      ],
      "source": [
        "tst_indep[:10]"
      ]
    },
    {
      "cell_type": "code",
      "execution_count": 62,
      "metadata": {},
      "outputs": [
        {
          "data": {
            "text/plain": [
              "tensor([0.4055, 0.5887, 0.3491, 0.4677, 0.5878, 0.4606, 0.5204, 0.3998, 0.6229,\n",
              "        0.4508])"
            ]
          },
          "execution_count": 62,
          "metadata": {},
          "output_type": "execute_result"
        }
      ],
      "source": [
        "# calculate the predictions using the test dataset.\n",
        "tst_preds = calc_preds(tst_indep, coeffs)\n",
        "\n",
        "tst_preds[:10]"
      ]
    },
    {
      "cell_type": "code",
      "execution_count": 63,
      "metadata": {},
      "outputs": [],
      "source": [
        "# tomorrow: finish chapter 5 using the chat gpt. \n",
        "# morning: finish setting up the models from the scratch; need to rethink the part, \n",
        "# we might want to redefine the function as it is and think about why that is the best. \n",
        "# afternoon: finish up the multiplication & deep learing aspect. \n",
        "# evening: try with the framework, and see what parts are really helpful. \n",
        "# Sunday morning: watch the lecture 6. (watch lecture, follow through the lecture and construct the notion page, and write down)\n",
        "# Plan for the week (goals for the work, how I am going to pick it up, write down the insta post\n",
        "# plan for resting for the july 4th week. Planning with Kuan. "
      ]
    },
    {
      "cell_type": "code",
      "execution_count": 64,
      "metadata": {},
      "outputs": [
        {
          "data": {
            "text/plain": [
              "0      0\n",
              "1      1\n",
              "2      0\n",
              "3      0\n",
              "4      1\n",
              "      ..\n",
              "413    0\n",
              "414    1\n",
              "415    0\n",
              "416    0\n",
              "417    1\n",
              "Name: Survived, Length: 418, dtype: int32"
            ]
          },
          "execution_count": 64,
          "metadata": {},
          "output_type": "execute_result"
        }
      ],
      "source": [
        "# set tst_df['Survived'] to 0 or 1 based on the predictions.\n",
        "df_test['Survived'] = (tst_preds > 0.5).int()\n",
        "\n",
        "df_test['Survived'] # the first column is the id."
      ]
    },
    {
      "cell_type": "code",
      "execution_count": 65,
      "metadata": {},
      "outputs": [],
      "source": [
        "sub_df = df_test[['PassengerId','Survived']]  \n",
        "# when we select columns of the dataframe by name, we need to use double brackets."
      ]
    },
    {
      "cell_type": "code",
      "execution_count": 66,
      "metadata": {},
      "outputs": [
        {
          "data": {
            "text/html": [
              "<div>\n",
              "<style scoped>\n",
              "    .dataframe tbody tr th:only-of-type {\n",
              "        vertical-align: middle;\n",
              "    }\n",
              "\n",
              "    .dataframe tbody tr th {\n",
              "        vertical-align: top;\n",
              "    }\n",
              "\n",
              "    .dataframe thead th {\n",
              "        text-align: right;\n",
              "    }\n",
              "</style>\n",
              "<table border=\"1\" class=\"dataframe\">\n",
              "  <thead>\n",
              "    <tr style=\"text-align: right;\">\n",
              "      <th></th>\n",
              "      <th>PassengerId</th>\n",
              "      <th>Survived</th>\n",
              "    </tr>\n",
              "  </thead>\n",
              "  <tbody>\n",
              "    <tr>\n",
              "      <th>count</th>\n",
              "      <td>418.000000</td>\n",
              "      <td>418.000000</td>\n",
              "    </tr>\n",
              "    <tr>\n",
              "      <th>mean</th>\n",
              "      <td>1100.500000</td>\n",
              "      <td>0.564593</td>\n",
              "    </tr>\n",
              "    <tr>\n",
              "      <th>std</th>\n",
              "      <td>120.810458</td>\n",
              "      <td>0.496404</td>\n",
              "    </tr>\n",
              "    <tr>\n",
              "      <th>min</th>\n",
              "      <td>892.000000</td>\n",
              "      <td>0.000000</td>\n",
              "    </tr>\n",
              "    <tr>\n",
              "      <th>25%</th>\n",
              "      <td>996.250000</td>\n",
              "      <td>0.000000</td>\n",
              "    </tr>\n",
              "    <tr>\n",
              "      <th>50%</th>\n",
              "      <td>1100.500000</td>\n",
              "      <td>1.000000</td>\n",
              "    </tr>\n",
              "    <tr>\n",
              "      <th>75%</th>\n",
              "      <td>1204.750000</td>\n",
              "      <td>1.000000</td>\n",
              "    </tr>\n",
              "    <tr>\n",
              "      <th>max</th>\n",
              "      <td>1309.000000</td>\n",
              "      <td>1.000000</td>\n",
              "    </tr>\n",
              "  </tbody>\n",
              "</table>\n",
              "</div>"
            ],
            "text/plain": [
              "       PassengerId    Survived\n",
              "count   418.000000  418.000000\n",
              "mean   1100.500000    0.564593\n",
              "std     120.810458    0.496404\n",
              "min     892.000000    0.000000\n",
              "25%     996.250000    0.000000\n",
              "50%    1100.500000    1.000000\n",
              "75%    1204.750000    1.000000\n",
              "max    1309.000000    1.000000"
            ]
          },
          "execution_count": 66,
          "metadata": {},
          "output_type": "execute_result"
        }
      ],
      "source": [
        "sub_df.describe()"
      ]
    },
    {
      "cell_type": "code",
      "execution_count": 67,
      "metadata": {},
      "outputs": [],
      "source": [
        "# convert the dataframe to csv file.\n",
        "sub_df.to_csv('submission.csv', index=False)"
      ]
    },
    {
      "cell_type": "code",
      "execution_count": 68,
      "metadata": {},
      "outputs": [
        {
          "name": "stdout",
          "output_type": "stream",
          "text": [
            "PassengerId,Survived\n",
            "892,0\n",
            "893,1\n",
            "894,0\n",
            "895,0\n",
            "896,1\n",
            "897,0\n",
            "898,1\n",
            "899,0\n",
            "900,1\n"
          ]
        }
      ],
      "source": [
        "# print out the first few rows of the file.\n",
        "!head submission.csv"
      ]
    },
    {
      "attachments": {},
      "cell_type": "markdown",
      "metadata": {},
      "source": [
        "# Using matrix product\n",
        "So far we defined the following functions to train a linear model. \n",
        "\n"
      ]
    },
    {
      "cell_type": "code",
      "execution_count": 69,
      "metadata": {},
      "outputs": [],
      "source": [
        "# define a function that takes in coefficients, independent variables, and return the predictions with the sigmoid activation function.\n",
        "def calc_preds(t_indep, t_coeff):\n",
        "    return torch.sigmoid((t_indep * t_coeff).sum(axis =1))\n",
        "\n",
        "# update calc_loss function to use calc_preds function to calculate the preidctions.\n",
        "def calc_loss(t_indep, t_dep, t_coeff):\n",
        "    return (calc_preds(t_indep, t_coeff) - t_dep).abs().mean()\n",
        "\n",
        "# update the step function to use tensor substract function.\n",
        "def one_epoch(t_indep, t_dep, t_coeff, lr):\n",
        "    t_loss = calc_loss(t_indep, t_dep, t_coeff)\n",
        "    t_loss.backward()\n",
        "    with torch.no_grad():\n",
        "        t_coeff.sub_(t_coeff.grad * lr) # Updating coefficients; Note that a.sub_(b) subtracts b from a in-place In PyTorch, any method that ends in _ changes its object in-place\n",
        "        t_coeff.grad.zero_() # Similarly, a.zero_() sets all elements of a tensor to zero.\n",
        "    print(f\"{t_loss:.3f}\", end=\"; \")\n",
        "\n",
        "# update train_model to use one_epoch function in the loop.\n",
        "def train_model(epochs, lr, independent_variables, dependent_variables):\n",
        "    torch.manual_seed(442)\n",
        "    # initialize the coeff tensor with random values.\n",
        "    coefficients = torch.rand(len(independent_variables_columns)) - 0.5\n",
        "    print(\"coefficients matrix shape: \", coefficients.shape) # this is a vector.\n",
        "    # require gradient tracking.\n",
        "    coefficients.requires_grad_()\n",
        "\n",
        "    # loop through the number of epochs.\n",
        "    for i in range(epochs):\n",
        "        # calculate the predictions and the loss.\n",
        "        one_epoch(independent_variables, dependent_variables, coefficients, lr)\n",
        "    # return the coeff tensor.\n",
        "    return t_coeff\n",
        "\n",
        "def calc_accuracy(t_indep, t_dep, t_coeff):\n",
        "    t_pred = calc_preds(t_indep, t_coeff)\n",
        "    return ((t_pred > 0.5) == t_dep).float().mean()\n",
        "\n",
        "def show_coeffs(): return dict(zip(independent_variables_columns, coeffs.requires_grad_(False)))"
      ]
    },
    {
      "attachments": {
        "image-2.png": {
          "image/png": "[encoded data removed]"
        }
      },
      "cell_type": "markdown",
      "metadata": {},
      "source": [
        "As you can see, Jeremy intentionally used the elementwise operation in `calc_pred`. \n",
        "![image-2.png](attachment:image-2.png)\n",
        "\n",
        "Now in this section, we are going to update this function to use the numpy's matrix multiplication. "
      ]
    },
    {
      "cell_type": "code",
      "execution_count": 70,
      "metadata": {},
      "outputs": [
        {
          "name": "stdout",
          "output_type": "stream",
          "text": [
            "original preds shape:  torch.Size([713])\n"
          ]
        },
        {
          "data": {
            "text/plain": [
              "(tensor([0.5041, 0.4219, 0.4822, 0.4803, 0.5892, 0.5540, 0.7301, 0.4822, 0.4822,\n",
              "         0.6077]),\n",
              " None)"
            ]
          },
          "execution_count": 70,
          "metadata": {},
          "output_type": "execute_result"
        }
      ],
      "source": [
        "# first let's call the existing calc_preds with the training dataset.\n",
        "original_preds = calc_preds(t_indep_trn, coeffs)\n",
        "original_preds[:10], print(\"original preds shape: \", original_preds.shape) # this is a vector."
      ]
    },
    {
      "cell_type": "code",
      "execution_count": 71,
      "metadata": {},
      "outputs": [],
      "source": [
        "# update calc_preds to use numpy matrix multiplication.\n",
        "def calc_preds(t_indep, t_coeff):\n",
        "    return torch.sigmoid(t_indep @ t_coeff)"
      ]
    },
    {
      "cell_type": "code",
      "execution_count": 72,
      "metadata": {},
      "outputs": [
        {
          "name": "stdout",
          "output_type": "stream",
          "text": [
            "new preds shape:  torch.Size([713])\n"
          ]
        },
        {
          "data": {
            "text/plain": [
              "(tensor([0.5041, 0.4219, 0.4822, 0.4803, 0.5892, 0.5540, 0.7301, 0.4822, 0.4822,\n",
              "         0.6077]),\n",
              " None)"
            ]
          },
          "execution_count": 72,
          "metadata": {},
          "output_type": "execute_result"
        }
      ],
      "source": [
        "# call calc_preds with the training dataset.\n",
        "new_preds = calc_preds(t_indep_trn, coeffs)\n",
        "new_preds[:10], print(\"new preds shape: \", new_preds.shape) # this is a vector."
      ]
    },
    {
      "attachments": {},
      "cell_type": "markdown",
      "metadata": {},
      "source": [
        "As you can see we just proved that the matrix multiplication produces the exactly the same results. \n",
        "Okay now, then let's train the model and see what happens. "
      ]
    },
    {
      "cell_type": "code",
      "execution_count": 73,
      "metadata": {},
      "outputs": [
        {
          "name": "stdout",
          "output_type": "stream",
          "text": [
            "training data independent variables tensor shape:  torch.Size([713, 12])\n",
            "training data dependent variables tensor shape:  torch.Size([713])\n",
            "coefficients matrix shape:  torch.Size([12])\n",
            "0.510; 0.506; 0.502; 0.497; 0.493; 0.489; 0.485; 0.481; 0.477; 0.472; 0.468; 0.464; 0.460; 0.457; 0.453; 0.449; 0.446; 0.442; 0.439; 0.435; 0.432; 0.429; 0.426; 0.423; 0.420; 0.417; 0.414; 0.411; 0.409; 0.406; 0.404; 0.401; 0.399; 0.397; 0.394; 0.392; 0.390; 0.388; 0.386; 0.384; 0.382; 0.380; 0.379; 0.377; 0.375; 0.374; 0.372; 0.370; 0.369; 0.367; "
          ]
        }
      ],
      "source": [
        "# train model with trianing dataset.\n",
        "print(\"training data independent variables tensor shape: \", t_indep_trn.shape)\n",
        "print(\"training data dependent variables tensor shape: \", t_dep_trn.shape) # this is a vector.\n",
        "\n",
        "coeffs = train_model(50, 0.2, t_indep_trn, t_dep_trn)"
      ]
    },
    {
      "cell_type": "code",
      "execution_count": 74,
      "metadata": {},
      "outputs": [
        {
          "data": {
            "text/plain": [
              "tensor(0.7528)"
            ]
          },
          "execution_count": 74,
          "metadata": {},
          "output_type": "execute_result"
        }
      ],
      "source": [
        "# calc accuracy using the validation dataset.\n",
        "acc = calc_accuracy(t_indep_val, t_dep_val, coeffs)\n",
        "acc"
      ]
    },
    {
      "attachments": {},
      "cell_type": "markdown",
      "metadata": {},
      "source": [
        "Okay we just confirmed that the accuracy and coefficents haven't changed. But why did Jeremy have a section to update the code to use matrix multiplication?\n",
        "\n",
        "We will see the why in the next section."
      ]
    },
    {
      "attachments": {},
      "cell_type": "markdown",
      "metadata": {},
      "source": [
        "# Create a neural network\n",
        "This section is the essence part of this notebook. We want to create a neural network. \n",
        "To create a neural network, a few major things to note. \n",
        "\n",
        "- (1) A neural network can identify non-linear relationship as it uses a non linear function. --> we will use ReLu as an activation function.\n",
        "- (2) Because we can use a non-linear function, we can combine several non-linear functions, and use the results from each of the function to calculate the final output. --> introduce a hidden layer with one or more functions. "
      ]
    },
    {
      "attachments": {},
      "cell_type": "markdown",
      "metadata": {},
      "source": [
        "For this experiment, let's create a neural network with one hidden layer ( so the neural net will have total 2 layers, including the out put layer part). And let's assume this hidden layer size is `n_hidden`. This `n_hidden` can be considered as # of outputs. \n",
        "\n",
        "The below is the visualization of this neural net. \n",
        "\n",
        "With this additional new layer, it means we need to introduce two coefficient matrix. \n",
        "- (1) The first layer coefficient matrix will be: [# of independent columns,  n_hidden]\n",
        "- (2) The second layer coefficient matrix will be: [n_hidden, 1] as the size of the output layer is 1. \n",
        "- (3) Also, we want to add the bias in the hidden layer\n",
        "With this inforamtion let's create a function that returns the two coefficient matrices and a constant. "
      ]
    },
    {
      "attachments": {},
      "cell_type": "markdown",
      "metadata": {},
      "source": [
        "A few key points for the functions that need to be updated:\n",
        "- initializing coefficients (we need to initialize each layer of matrix)\n",
        "- calculating predictions needs to be updated to apply each hidden layer's activication function. \n",
        "- updating coefficietns (each layer needs to get updated)\n"
      ]
    },
    {
      "cell_type": "code",
      "execution_count": 106,
      "metadata": {},
      "outputs": [],
      "source": [
        "# define init_coeffs function that takes in the number of hidden layers and return the initialized coefficients.\n",
        "def init_coeffs(n_hidden=20):\n",
        "    layer1 = (torch.rand(len(independent_variables_columns), n_hidden)-0.5)\n",
        "    layer2 = torch.rand(n_hidden, 1)-0.3\n",
        "    const = torch.rand(1)[0] # for const, we want to return scalar value, not a tensor.\n",
        "    return layer1.requires_grad_(),layer2.requires_grad_(),const.requires_grad_()"
      ]
    },
    {
      "cell_type": "code",
      "execution_count": 127,
      "metadata": {},
      "outputs": [],
      "source": [
        "# define calc_preds function that takes in the independent variables tensor and the coefficients and return the predictions.\n",
        "# use Relu as an activation function for the first layer and sigmoid for the second layer.\n",
        "def calc_preds(t_indep, coeffs):\n",
        "    \n",
        "    layer1,layer2,const = coeffs\n",
        "    # first layer\n",
        "    t_pred1 = torch.relu(t_indep @ layer1)\n",
        "    # second layer\n",
        "    t_pred2 = torch.sigmoid(t_pred1 @ layer2 + const)\n",
        "    return t_pred2\n"
      ]
    },
    {
      "attachments": {},
      "cell_type": "markdown",
      "metadata": {},
      "source": [
        "Now we need to update our code related to updating coefficients because we now have multiple (two) coefficient matricies. "
      ]
    },
    {
      "cell_type": "code",
      "execution_count": 89,
      "metadata": {},
      "outputs": [],
      "source": [
        "# define update_coeffs function.\n",
        "# This is for the linear model\n",
        "def update_coeffs(coeffs,lr):\n",
        "    coeffs.sub_(coeffs.grad * lr) # Updating coefficients; Note that a.sub_(b) subtracts b from a in-place In PyTorch, any method that ends in _ changes its object in-place\n",
        "    coeffs.grad.zero_() # Similarly, a.zero_() sets all elements of a tensor to zero."
      ]
    },
    {
      "cell_type": "code",
      "execution_count": 90,
      "metadata": {},
      "outputs": [],
      "source": [
        "# update one_epoch function to use update_coeffs. \n",
        "def one_epoch(t_indep, t_dep, t_coeff, lr):\n",
        "    t_loss = calc_loss(t_indep, t_dep, t_coeff)\n",
        "    t_loss.backward()\n",
        "    with torch.no_grad():\n",
        "        update_coeffs(t_coeff, lr)\n",
        "    print(f\"{t_loss:.3f}\", end=\"; \")"
      ]
    },
    {
      "cell_type": "code",
      "execution_count": 99,
      "metadata": {},
      "outputs": [],
      "source": [
        "# But now we have multiple coeffs. We need to update all of them.\n",
        "# Update update_coeffs function to use update_coeffs for each layer.\n",
        "def update_coeffs(coeffs, lr):\n",
        "    for layer in coeffs:\n",
        "        layer.sub_(layer.grad * lr)\n",
        "        layer.grad.zero_()"
      ]
    },
    {
      "cell_type": "code",
      "execution_count": 115,
      "metadata": {},
      "outputs": [],
      "source": [
        "# update train_model to use init_coeffs.\n",
        "def train_model(epochs, lr, independent_variables, dependent_variables):\n",
        "    torch.manual_seed(442) \n",
        "    # initialize the coeff tensor with random values.\n",
        "    coefficients = init_coeffs() # return a tuple.\n",
        "\n",
        "    # loop through the number of epochs.\n",
        "    for i in range(epochs):\n",
        "        # calculate the predictions and the loss.\n",
        "        one_epoch(independent_variables, dependent_variables, coefficients, lr)\n",
        "    # return the coeff tensor.\n",
        "    return coefficients"
      ]
    },
    {
      "cell_type": "code",
      "execution_count": 121,
      "metadata": {},
      "outputs": [
        {
          "data": {
            "text/plain": [
              "(torch.Size([713]), torch.Size([178]))"
            ]
          },
          "execution_count": 121,
          "metadata": {},
          "output_type": "execute_result"
        }
      ],
      "source": [
        "t_dep_trn.shape, t_dep_val.shape"
      ]
    },
    {
      "cell_type": "code",
      "execution_count": 122,
      "metadata": {},
      "outputs": [
        {
          "data": {
            "text/plain": [
              "(torch.Size([713, 1]), torch.Size([178, 1]))"
            ]
          },
          "execution_count": 122,
          "metadata": {},
          "output_type": "execute_result"
        }
      ],
      "source": [
        "# update t_dep_trn and t_dep_val to be column vectors. \n",
        "# This is important because when we calculate the loss, the prediction will be a matrix, and we want to do calculation for (one prediction, the corresponding loss) per row. \n",
        "# If I don't change the labels as column vectors, the calculation seems to get messed up.\n",
        "t_dep_trn = t_dep_trn.unsqueeze(1)\n",
        "t_dep_val = t_dep_val.unsqueeze(1)\n",
        "t_dep_trn.shape, t_dep_val.shape"
      ]
    },
    {
      "cell_type": "code",
      "execution_count": 130,
      "metadata": {},
      "outputs": [
        {
          "name": "stdout",
          "output_type": "stream",
          "text": [
            "0.555; 0.552; 0.549; 0.545; 0.542; 0.538; 0.535; 0.531; 0.527; 0.523; 0.520; 0.516; 0.512; 0.508; 0.504; 0.500; 0.495; 0.491; 0.486; 0.481; 0.476; 0.471; 0.466; 0.461; 0.455; 0.450; 0.444; 0.438; 0.432; 0.426; 0.420; 0.414; 0.408; 0.402; 0.396; 0.390; 0.384; 0.378; 0.373; 0.367; 0.362; 0.357; 0.352; 0.348; 0.343; 0.339; 0.335; 0.332; 0.328; 0.324; "
          ]
        },
        {
          "data": {
            "text/plain": [
              "(tensor([[-4.5853e-01,  1.0426e-01,  2.4090e-01, -1.9521e-01, -2.1070e-01,\n",
              "          -3.1164e-01,  4.4190e-01,  2.8866e-01,  2.5833e-01, -4.2684e-01,\n",
              "           2.5781e-01,  4.2777e-01,  1.7258e-01,  2.6989e-01, -3.5917e-01,\n",
              "           7.2862e-02, -1.8454e-01, -2.6862e-01,  1.3081e-02,  1.5912e-01],\n",
              "         [-4.9976e-02,  3.0546e-01, -1.4874e-01, -2.5044e-01,  3.4766e-01,\n",
              "           1.2993e-01,  2.3154e-01, -2.6829e-01,  4.0398e-01, -2.6920e-01,\n",
              "          -2.2488e-01,  1.2889e-01,  4.0729e-01,  2.8331e-01,  8.2803e-02,\n",
              "          -3.6765e-02,  4.2182e-01, -3.4110e-01, -4.5323e-01,  1.5821e-01],\n",
              "         [-4.5991e-01, -3.0769e-01, -1.2971e-01, -8.2239e-02,  4.7349e-01,\n",
              "           3.9771e-01, -4.8640e-01,  2.0583e-01, -3.0268e-01,  4.1987e-01,\n",
              "           1.1356e-01,  8.5837e-02, -1.7075e-01, -1.8230e-01,  4.8532e-01,\n",
              "          -2.4889e-01, -2.4274e-01, -7.6547e-02,  3.3529e-01, -4.9774e-01],\n",
              "         [-2.3297e-01,  5.4008e-02, -4.6703e-01,  4.0232e-01, -7.2006e-02,\n",
              "           3.4772e-01, -3.8779e-01,  9.1014e-02, -3.0751e-01,  5.6073e-02,\n",
              "          -1.1677e-01, -2.1368e-02, -1.3129e-01,  4.3579e-01,  3.6902e-01,\n",
              "           5.3638e-01,  4.7708e-03, -3.2912e-01,  1.3876e-01,  4.2394e-01],\n",
              "         [ 5.6482e-02, -2.0552e-01, -4.2970e-01,  9.4157e-02, -4.8515e-02,\n",
              "           2.2091e-01, -2.1414e-01, -5.7862e-01,  1.3658e-01,  5.5716e-02,\n",
              "           4.0936e-01, -6.7894e-02,  4.4638e-01, -3.2363e-01,  1.5900e-01,\n",
              "           5.8274e-01, -3.0269e-01,  2.1331e-01, -9.6808e-02,  5.4633e-01],\n",
              "         [ 3.1519e-01, -2.6092e-01, -3.2545e-01, -3.8668e-01,  2.8962e-02,\n",
              "          -2.9435e-01, -3.8867e-01, -2.8090e-01, -1.7673e-01,  4.3073e-01,\n",
              "          -4.0843e-01, -3.7030e-01, -4.1948e-01,  5.4806e-01,  6.6577e-02,\n",
              "          -3.3945e-01,  2.9942e-01,  1.1645e-01, -6.8429e-02,  1.9234e-01],\n",
              "         [ 1.4975e-01, -1.3072e-01, -3.6656e-01, -1.9602e-01,  2.4375e-01,\n",
              "          -3.2714e-01,  2.1727e-02,  1.7356e-01, -1.5003e-01,  4.5191e-01,\n",
              "          -1.7550e-02, -2.8210e-01, -3.9743e-01,  1.3430e-01,  4.5648e-04,\n",
              "           2.7111e-01,  9.3630e-02,  2.6909e-01, -2.2659e-01, -3.4897e-01],\n",
              "         [-3.7661e-02,  2.8458e-01, -1.9016e-01, -4.1342e-01, -2.0876e-01,\n",
              "          -1.3315e-01, -1.4062e-01, -7.8908e-02, -3.3814e-01,  1.2186e-01,\n",
              "          -2.4320e-01,  1.7901e-01, -2.2618e-01,  9.6731e-02, -1.8356e-01,\n",
              "           5.7529e-02,  3.4801e-01, -3.3777e-01, -1.6633e-01, -1.1341e-01],\n",
              "         [-5.3972e-02,  3.4211e-01, -3.2991e-01,  5.4525e-01,  6.9953e-01,\n",
              "           7.7107e-02,  3.4643e-01,  2.6127e-01,  4.4010e-02,  1.1211e-01,\n",
              "           2.4230e-01,  2.2525e-01, -4.6504e-01, -4.2100e-01, -3.7033e-01,\n",
              "           8.5975e-02, -2.4234e-01,  1.8336e-01, -5.1843e-01, -2.9822e-01],\n",
              "         [ 3.3835e-01, -3.9554e-01,  2.6947e-01,  4.4358e-01, -1.0132e-01,\n",
              "          -2.6276e-01, -9.2383e-02, -4.7137e-01,  3.0111e-01, -1.9082e-01,\n",
              "          -5.2446e-02, -2.8962e-01, -2.0788e-01,  4.7877e-01, -1.5489e-01,\n",
              "          -3.6464e-01,  3.5684e-01, -1.1152e-01, -4.0499e-01,  3.4676e-01],\n",
              "         [ 1.7694e-01,  1.1075e-02, -4.7962e-01,  2.9070e-01,  7.3257e-02,\n",
              "           5.1075e-02, -2.6453e-01,  2.9834e-02, -3.9427e-01,  3.7163e-01,\n",
              "           4.2227e-01,  2.8093e-01, -2.1271e-01, -3.9946e-01, -2.9778e-01,\n",
              "           4.1983e-01, -8.5179e-02, -4.9421e-01,  3.1741e-01, -4.1081e-01],\n",
              "         [-4.0856e-01,  1.3182e-01, -4.3064e-01, -4.1396e-01,  1.8084e-01,\n",
              "          -6.0816e-02, -2.0743e-01,  2.0221e-01, -4.4065e-01, -2.2090e-01,\n",
              "           3.0530e-01,  4.8095e-01, -4.1984e-01, -2.4918e-01, -4.1208e-01,\n",
              "           2.5902e-01,  2.9270e-01, -3.2803e-01,  4.2302e-01,  2.3729e-01]],\n",
              "        requires_grad=True),\n",
              " tensor([[ 0.6153],\n",
              "         [ 0.0193],\n",
              "         [ 0.0943],\n",
              "         [-0.2667],\n",
              "         [-0.4844],\n",
              "         [-0.0849],\n",
              "         [ 0.2985],\n",
              "         [ 0.1887],\n",
              "         [ 0.5417],\n",
              "         [ 0.3299],\n",
              "         [-0.4154],\n",
              "         [-0.4508],\n",
              "         [-0.0753],\n",
              "         [ 0.6082],\n",
              "         [-0.1412],\n",
              "         [-0.6228],\n",
              "         [ 0.7140],\n",
              "         [ 0.6112],\n",
              "         [ 0.4945],\n",
              "         [-0.4861]], requires_grad=True),\n",
              " tensor(0.1722, requires_grad=True))"
            ]
          },
          "execution_count": 130,
          "metadata": {},
          "output_type": "execute_result"
        }
      ],
      "source": [
        "# train the model with the training dataset.\n",
        "coeffs = train_model(50, 0.2, t_indep_trn, t_dep_trn)\n",
        "coeffs"
      ]
    },
    {
      "cell_type": "code",
      "execution_count": 131,
      "metadata": {},
      "outputs": [
        {
          "data": {
            "text/plain": [
              "tensor(0.8034)"
            ]
          },
          "execution_count": 131,
          "metadata": {},
          "output_type": "execute_result"
        }
      ],
      "source": [
        "# calculate accuracy.\n",
        "acc = calc_accuracy(t_indep_val, t_dep_val, coeffs) #redefine calc_accuracy for validation set as for this one, we don't need to have it. \n",
        "acc"
      ]
    },
    {
      "attachments": {},
      "cell_type": "markdown",
      "metadata": {},
      "source": [
        "# Deep Learning\n",
        "The neural net in the previous section only uses one hidden layer, so it doesn't count as \"deep\" learning. So to do deep learning, let's use two hidden layers (so make it total 3 layers of neural net). We are going to use a similar process that we did to create a neural network. \n",
        "\n",
        "For creating a neural network, we had to changes in three functions.\n",
        "- initializing coefficients (we need to initialize each layer of matrix)\n",
        "- calculating predictions needs to be updated to apply each hidden layer's activication function. \n",
        "- updating coefficietns (each layer needs to get updated)\n",
        "\n",
        "Let's see what changes we need to make for our case. "
      ]
    },
    {
      "cell_type": "code",
      "execution_count": 133,
      "metadata": {},
      "outputs": [],
      "source": [
        "def init_coeffs():\n",
        "    hiddens = [10, 10]  # <-- set this to the size of each hidden layer you want\n",
        "\n",
        "    sizes = [len(independent_variables_columns)] + hiddens + [1] # <-- this is the size of each layer\n",
        "    n = len(sizes)\n",
        "    layers = [(torch.rand(sizes[i], sizes[i+1])-0.3)/sizes[i+1]*4 for i in range(n-1)] # <-- this is the weight matrix for each layer\n",
        "    consts = [(torch.rand(1)[0]-0.5)*0.1 for i in range(n-1)] # <-- this is the bias for each layer\n",
        "    for l in layers+consts: l.requires_grad_()\n",
        "    return layers,consts"
      ]
    },
    {
      "cell_type": "code",
      "execution_count": 137,
      "metadata": {},
      "outputs": [],
      "source": [
        "def calc_preds(t_indep, coeffs):\n",
        "    layers,consts = coeffs # <-- unpack the coefficients; contains two layers of coefficients, and constants.\n",
        "    n = len(layers)\n",
        "    res = t_indep\n",
        "    for i,l in enumerate(layers): # python enumerate(iterator) - you can get the counter and the value.\n",
        "        res = res@l + consts[i] # each layer@corresponding weights + corresponding bias.\n",
        "        if i!=n-1: res =torch.relu(res) # <-- relu for all but the last layer\n",
        "    return torch.sigmoid(res) # <-- sigmoid for the last layer"
      ]
    },
    {
      "cell_type": "code",
      "execution_count": 135,
      "metadata": {},
      "outputs": [],
      "source": [
        "def update_coeffs(coeffs, lr):\n",
        "    layers,consts = coeffs\n",
        "    for layer in layers+consts:\n",
        "        layer.sub_(layer.grad * lr)\n",
        "        layer.grad.zero_()"
      ]
    },
    {
      "cell_type": "code",
      "execution_count": 138,
      "metadata": {},
      "outputs": [
        {
          "name": "stdout",
          "output_type": "stream",
          "text": [
            "0.521; 0.496; 0.475; 0.461; 0.447; 0.433; 0.419; 0.405; 0.392; 0.379; 0.367; 0.357; 0.348; 0.339; 0.331; 0.323; 0.315; 0.307; 0.299; 0.292; 0.285; 0.279; 0.273; 0.268; 0.264; 0.259; 0.256; 0.252; 0.249; 0.247; 0.244; 0.242; 0.240; 0.238; 0.237; 0.235; 0.234; 0.233; 0.231; 0.230; 0.229; 0.229; 0.228; 0.227; 0.226; 0.226; 0.225; 0.224; 0.224; 0.223; "
          ]
        }
      ],
      "source": [
        "# train the model with the training dataset.\n",
        "coeffs = train_model(50, 0.2, t_indep_trn, t_dep_trn)"
      ]
    },
    {
      "cell_type": "code",
      "execution_count": 139,
      "metadata": {},
      "outputs": [
        {
          "data": {
            "text/plain": [
              "tensor(0.7921)"
            ]
          },
          "execution_count": 139,
          "metadata": {},
          "output_type": "execute_result"
        }
      ],
      "source": [
        "# calculate accuracy.\n",
        "acc = calc_accuracy(t_indep_val, t_dep_val, coeffs)\n",
        "acc"
      ]
    },
    {
      "attachments": {},
      "cell_type": "markdown",
      "metadata": {},
      "source": [
        "# Our model from the scratch vs real ones\n",
        "- If we look through the source code in real like:\n",
        "    - The \"real\" deep learning models that are used in research and industry look very similar to this, and in fact if you look inside the source code of any deep learning model you'll recognise the basic steps are the same.\n",
        "- The biggest differences in practical models to what we have above are:\n",
        "    - How initialization and normalization is done to ensure the model trains correctly every time\n",
        "    - Regularization (to avoid over-fitting)\n",
        "    - Modifying the neural net itself to take advantage of knowledge of the problem domain\n",
        "    - Doing gradient descent steps on smaller batches, rather than the whole dataset.\n",
        "        - We did the gradient descent steps for the entire dataset."
      ]
    },
    {
      "attachments": {},
      "cell_type": "markdown",
      "metadata": {},
      "source": [
        "# Important Last Notes\n",
        "- Checking the most commonly appeared element in the test data set:\n",
        "  - Jeremy still used df.mode() instead of df_test.mode() because of the following reason. \n",
        "    - \"It's actually really important that you use the same replacement value in each dataset. So you should indeed use the training set modes for replacement in the test set.\n",
        "      - That's because \"missingness\" may turn out to have some meaning / predictiveness. Therefore a model may learn to recognise that missingness but looking at the replacement value. If the replacement value changes in a new dataset, the model will no longer work correctly.\n",
        "      - This is a more general issue -- any preprocessing you do on the training set, such as normalisation, should use the exact same values (not just the same process) on the validation/test sets (and in production)\"\n",
        "  - Question on the Kaggle Notebook comment section: https://www.kaggle.com/code/jhoward/linear-model-and-neural-net-from-scratch/comments#1871618\n",
        "\n",
        "- Why Jeremy used the terms 'coefficients' and 'consts' instead of 'weights' and 'bias'? \n",
        "    - Because we are using the linear model. \n",
        "    - In the linear model, we are multiplying each input by a coefficient and adding a constant. \n",
        "    - In the neural net, we are multiplying each input by a weight and adding a bias. \n",
        "    - So technically we should use weights and bias. But for the learning purpose, he just used the same terms. \n",
        "\n",
        "- When to add conts/bias? \n",
        "  - Constant explanation:  https://forums.fast.ai/t/lesson-5-official-topic/96491/132?u=bigyuns\n",
        "  - But please note, in the deep learning example he added constant also to the first layer. \n",
        "  - I think it is probably becuase to make code easier + bias in first layer might not make that difference.\n",
        "\n",
        "- **When it is better to use neural net over the linear one.\n",
        "  - Deep learning is not necessarily always the right choice when the data is not complex.\n",
        "  - For data types that have very consistent structure (ex: images, natural language text document), quite often we can just use the model\n",
        "  - Tabular data: normally think hard about feature engineering to get good results.*\n",
        "  - But always before we do go hard on the tabular data, make sure we have a base line model.\n",
        "\n",
        "- My Two Cents After Carefully going through creating a neural net from the scratch.\n",
        "  - It is quite hard to debug. \n",
        "  - It is hard to know what number to use to do normalization,what constants to put etc."
      ]
    },
    {
      "cell_type": "markdown",
      "metadata": {},
      "source": []
    }
  ],
  "metadata": {
    "accelerator": "GPU",
    "colab": {
      "authorship_tag": "ABX9TyNmj/sqz3ZinWLQnMniaN4B",
      "gpuType": "A100",
      "include_colab_link": true,
      "provenance": []
    },
    "kernelspec": {
      "display_name": "Python 3",
      "name": "python3"
    },
    "language_info": {
      "codemirror_mode": {
        "name": "ipython",
        "version": 3
      },
      "file_extension": ".py",
      "mimetype": "text/x-python",
      "name": "python",
      "nbconvert_exporter": "python",
      "pygments_lexer": "ipython3",
      "version": "3.10.8"
    }
  },
  "nbformat": 4,
  "nbformat_minor": 0
}
