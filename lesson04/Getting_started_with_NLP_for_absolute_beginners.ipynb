{
  "nbformat": 4,
  "nbformat_minor": 0,
  "metadata": {
    "colab": {
      "provenance": [],
      "gpuType": "T4",
      "authorship_tag": "ABX9TyN9lwPXD3nvp6rnXdEDqemG",
      "include_colab_link": true
    },
    "kernelspec": {
      "name": "python3",
      "display_name": "Python 3"
    },
    "language_info": {
      "name": "python"
    },
    "accelerator": "GPU",
    "gpuClass": "standard",
    "widgets": {
      "application/vnd.jupyter.widget-state+json": {
        "923360d9a1994d11a2474afd66b6182b": {
          "model_module": "@jupyter-widgets/controls",
          "model_name": "HBoxModel",
          "model_module_version": "1.5.0",
          "state": {
            "_dom_classes": [],
            "_model_module": "@jupyter-widgets/controls",
            "_model_module_version": "1.5.0",
            "_model_name": "HBoxModel",
            "_view_count": null,
            "_view_module": "@jupyter-widgets/controls",
            "_view_module_version": "1.5.0",
            "_view_name": "HBoxView",
            "box_style": "",
            "children": [
              "IPY_MODEL_258d780cb3054930b2ffad1c2347da24",
              "IPY_MODEL_93a9ac00e13c4961b256977eb057aa7a",
              "IPY_MODEL_67289556523247c6ba2535545d441283"
            ],
            "layout": "IPY_MODEL_3baa6917ab7e4a89afcc4541cabe7003"
          }
        },
        "258d780cb3054930b2ffad1c2347da24": {
          "model_module": "@jupyter-widgets/controls",
          "model_name": "HTMLModel",
          "model_module_version": "1.5.0",
          "state": {
            "_dom_classes": [],
            "_model_module": "@jupyter-widgets/controls",
            "_model_module_version": "1.5.0",
            "_model_name": "HTMLModel",
            "_view_count": null,
            "_view_module": "@jupyter-widgets/controls",
            "_view_module_version": "1.5.0",
            "_view_name": "HTMLView",
            "description": "",
            "description_tooltip": null,
            "layout": "IPY_MODEL_6770a09c41b04b2087aedea4ed2efc6f",
            "placeholder": "​",
            "style": "IPY_MODEL_08b75aaf87ae437f866fc409027a7d9e",
            "value": "Downloading (…)okenizer_config.json: 100%"
          }
        },
        "93a9ac00e13c4961b256977eb057aa7a": {
          "model_module": "@jupyter-widgets/controls",
          "model_name": "FloatProgressModel",
          "model_module_version": "1.5.0",
          "state": {
            "_dom_classes": [],
            "_model_module": "@jupyter-widgets/controls",
            "_model_module_version": "1.5.0",
            "_model_name": "FloatProgressModel",
            "_view_count": null,
            "_view_module": "@jupyter-widgets/controls",
            "_view_module_version": "1.5.0",
            "_view_name": "ProgressView",
            "bar_style": "success",
            "description": "",
            "description_tooltip": null,
            "layout": "IPY_MODEL_a6de2cea629a418e946511c6828b0610",
            "max": 52,
            "min": 0,
            "orientation": "horizontal",
            "style": "IPY_MODEL_e5d73a00ce6b430e82cd27035d7ca9e7",
            "value": 52
          }
        },
        "67289556523247c6ba2535545d441283": {
          "model_module": "@jupyter-widgets/controls",
          "model_name": "HTMLModel",
          "model_module_version": "1.5.0",
          "state": {
            "_dom_classes": [],
            "_model_module": "@jupyter-widgets/controls",
            "_model_module_version": "1.5.0",
            "_model_name": "HTMLModel",
            "_view_count": null,
            "_view_module": "@jupyter-widgets/controls",
            "_view_module_version": "1.5.0",
            "_view_name": "HTMLView",
            "description": "",
            "description_tooltip": null,
            "layout": "IPY_MODEL_0012f4015e6f44a09cfcd031afa882c8",
            "placeholder": "​",
            "style": "IPY_MODEL_a324f1944a734bbbbbfacdeacf37d304",
            "value": " 52.0/52.0 [00:00&lt;00:00, 1.54kB/s]"
          }
        },
        "3baa6917ab7e4a89afcc4541cabe7003": {
          "model_module": "@jupyter-widgets/base",
          "model_name": "LayoutModel",
          "model_module_version": "1.2.0",
          "state": {
            "_model_module": "@jupyter-widgets/base",
            "_model_module_version": "1.2.0",
            "_model_name": "LayoutModel",
            "_view_count": null,
            "_view_module": "@jupyter-widgets/base",
            "_view_module_version": "1.2.0",
            "_view_name": "LayoutView",
            "align_content": null,
            "align_items": null,
            "align_self": null,
            "border": null,
            "bottom": null,
            "display": null,
            "flex": null,
            "flex_flow": null,
            "grid_area": null,
            "grid_auto_columns": null,
            "grid_auto_flow": null,
            "grid_auto_rows": null,
            "grid_column": null,
            "grid_gap": null,
            "grid_row": null,
            "grid_template_areas": null,
            "grid_template_columns": null,
            "grid_template_rows": null,
            "height": null,
            "justify_content": null,
            "justify_items": null,
            "left": null,
            "margin": null,
            "max_height": null,
            "max_width": null,
            "min_height": null,
            "min_width": null,
            "object_fit": null,
            "object_position": null,
            "order": null,
            "overflow": null,
            "overflow_x": null,
            "overflow_y": null,
            "padding": null,
            "right": null,
            "top": null,
            "visibility": null,
            "width": null
          }
        },
        "6770a09c41b04b2087aedea4ed2efc6f": {
          "model_module": "@jupyter-widgets/base",
          "model_name": "LayoutModel",
          "model_module_version": "1.2.0",
          "state": {
            "_model_module": "@jupyter-widgets/base",
            "_model_module_version": "1.2.0",
            "_model_name": "LayoutModel",
            "_view_count": null,
            "_view_module": "@jupyter-widgets/base",
            "_view_module_version": "1.2.0",
            "_view_name": "LayoutView",
            "align_content": null,
            "align_items": null,
            "align_self": null,
            "border": null,
            "bottom": null,
            "display": null,
            "flex": null,
            "flex_flow": null,
            "grid_area": null,
            "grid_auto_columns": null,
            "grid_auto_flow": null,
            "grid_auto_rows": null,
            "grid_column": null,
            "grid_gap": null,
            "grid_row": null,
            "grid_template_areas": null,
            "grid_template_columns": null,
            "grid_template_rows": null,
            "height": null,
            "justify_content": null,
            "justify_items": null,
            "left": null,
            "margin": null,
            "max_height": null,
            "max_width": null,
            "min_height": null,
            "min_width": null,
            "object_fit": null,
            "object_position": null,
            "order": null,
            "overflow": null,
            "overflow_x": null,
            "overflow_y": null,
            "padding": null,
            "right": null,
            "top": null,
            "visibility": null,
            "width": null
          }
        },
        "08b75aaf87ae437f866fc409027a7d9e": {
          "model_module": "@jupyter-widgets/controls",
          "model_name": "DescriptionStyleModel",
          "model_module_version": "1.5.0",
          "state": {
            "_model_module": "@jupyter-widgets/controls",
            "_model_module_version": "1.5.0",
            "_model_name": "DescriptionStyleModel",
            "_view_count": null,
            "_view_module": "@jupyter-widgets/base",
            "_view_module_version": "1.2.0",
            "_view_name": "StyleView",
            "description_width": ""
          }
        },
        "a6de2cea629a418e946511c6828b0610": {
          "model_module": "@jupyter-widgets/base",
          "model_name": "LayoutModel",
          "model_module_version": "1.2.0",
          "state": {
            "_model_module": "@jupyter-widgets/base",
            "_model_module_version": "1.2.0",
            "_model_name": "LayoutModel",
            "_view_count": null,
            "_view_module": "@jupyter-widgets/base",
            "_view_module_version": "1.2.0",
            "_view_name": "LayoutView",
            "align_content": null,
            "align_items": null,
            "align_self": null,
            "border": null,
            "bottom": null,
            "display": null,
            "flex": null,
            "flex_flow": null,
            "grid_area": null,
            "grid_auto_columns": null,
            "grid_auto_flow": null,
            "grid_auto_rows": null,
            "grid_column": null,
            "grid_gap": null,
            "grid_row": null,
            "grid_template_areas": null,
            "grid_template_columns": null,
            "grid_template_rows": null,
            "height": null,
            "justify_content": null,
            "justify_items": null,
            "left": null,
            "margin": null,
            "max_height": null,
            "max_width": null,
            "min_height": null,
            "min_width": null,
            "object_fit": null,
            "object_position": null,
            "order": null,
            "overflow": null,
            "overflow_x": null,
            "overflow_y": null,
            "padding": null,
            "right": null,
            "top": null,
            "visibility": null,
            "width": null
          }
        },
        "e5d73a00ce6b430e82cd27035d7ca9e7": {
          "model_module": "@jupyter-widgets/controls",
          "model_name": "ProgressStyleModel",
          "model_module_version": "1.5.0",
          "state": {
            "_model_module": "@jupyter-widgets/controls",
            "_model_module_version": "1.5.0",
            "_model_name": "ProgressStyleModel",
            "_view_count": null,
            "_view_module": "@jupyter-widgets/base",
            "_view_module_version": "1.2.0",
            "_view_name": "StyleView",
            "bar_color": null,
            "description_width": ""
          }
        },
        "0012f4015e6f44a09cfcd031afa882c8": {
          "model_module": "@jupyter-widgets/base",
          "model_name": "LayoutModel",
          "model_module_version": "1.2.0",
          "state": {
            "_model_module": "@jupyter-widgets/base",
            "_model_module_version": "1.2.0",
            "_model_name": "LayoutModel",
            "_view_count": null,
            "_view_module": "@jupyter-widgets/base",
            "_view_module_version": "1.2.0",
            "_view_name": "LayoutView",
            "align_content": null,
            "align_items": null,
            "align_self": null,
            "border": null,
            "bottom": null,
            "display": null,
            "flex": null,
            "flex_flow": null,
            "grid_area": null,
            "grid_auto_columns": null,
            "grid_auto_flow": null,
            "grid_auto_rows": null,
            "grid_column": null,
            "grid_gap": null,
            "grid_row": null,
            "grid_template_areas": null,
            "grid_template_columns": null,
            "grid_template_rows": null,
            "height": null,
            "justify_content": null,
            "justify_items": null,
            "left": null,
            "margin": null,
            "max_height": null,
            "max_width": null,
            "min_height": null,
            "min_width": null,
            "object_fit": null,
            "object_position": null,
            "order": null,
            "overflow": null,
            "overflow_x": null,
            "overflow_y": null,
            "padding": null,
            "right": null,
            "top": null,
            "visibility": null,
            "width": null
          }
        },
        "a324f1944a734bbbbbfacdeacf37d304": {
          "model_module": "@jupyter-widgets/controls",
          "model_name": "DescriptionStyleModel",
          "model_module_version": "1.5.0",
          "state": {
            "_model_module": "@jupyter-widgets/controls",
            "_model_module_version": "1.5.0",
            "_model_name": "DescriptionStyleModel",
            "_view_count": null,
            "_view_module": "@jupyter-widgets/base",
            "_view_module_version": "1.2.0",
            "_view_name": "StyleView",
            "description_width": ""
          }
        },
        "e795a374859848a7a641ffcade1cf651": {
          "model_module": "@jupyter-widgets/controls",
          "model_name": "HBoxModel",
          "model_module_version": "1.5.0",
          "state": {
            "_dom_classes": [],
            "_model_module": "@jupyter-widgets/controls",
            "_model_module_version": "1.5.0",
            "_model_name": "HBoxModel",
            "_view_count": null,
            "_view_module": "@jupyter-widgets/controls",
            "_view_module_version": "1.5.0",
            "_view_name": "HBoxView",
            "box_style": "",
            "children": [
              "IPY_MODEL_7a17d96d46e9432f80386881e7897c7f",
              "IPY_MODEL_095ab35cc9324d5fbd9503738ca13c9c",
              "IPY_MODEL_107c68aaf8fc435d808176282b2f3167"
            ],
            "layout": "IPY_MODEL_515bbaaa0d0b4916897eb0679d718e5f"
          }
        },
        "7a17d96d46e9432f80386881e7897c7f": {
          "model_module": "@jupyter-widgets/controls",
          "model_name": "HTMLModel",
          "model_module_version": "1.5.0",
          "state": {
            "_dom_classes": [],
            "_model_module": "@jupyter-widgets/controls",
            "_model_module_version": "1.5.0",
            "_model_name": "HTMLModel",
            "_view_count": null,
            "_view_module": "@jupyter-widgets/controls",
            "_view_module_version": "1.5.0",
            "_view_name": "HTMLView",
            "description": "",
            "description_tooltip": null,
            "layout": "IPY_MODEL_7e1d6df971a441c3a07c6592c2a86a79",
            "placeholder": "​",
            "style": "IPY_MODEL_81cc75936d494cc89d7694b38d68b88e",
            "value": "Downloading (…)lve/main/config.json: 100%"
          }
        },
        "095ab35cc9324d5fbd9503738ca13c9c": {
          "model_module": "@jupyter-widgets/controls",
          "model_name": "FloatProgressModel",
          "model_module_version": "1.5.0",
          "state": {
            "_dom_classes": [],
            "_model_module": "@jupyter-widgets/controls",
            "_model_module_version": "1.5.0",
            "_model_name": "FloatProgressModel",
            "_view_count": null,
            "_view_module": "@jupyter-widgets/controls",
            "_view_module_version": "1.5.0",
            "_view_name": "ProgressView",
            "bar_style": "success",
            "description": "",
            "description_tooltip": null,
            "layout": "IPY_MODEL_346e9d7a31e14d1780b3b65b70f3fe09",
            "max": 578,
            "min": 0,
            "orientation": "horizontal",
            "style": "IPY_MODEL_49200f448f224971b8d861c7c8d4e6a4",
            "value": 578
          }
        },
        "107c68aaf8fc435d808176282b2f3167": {
          "model_module": "@jupyter-widgets/controls",
          "model_name": "HTMLModel",
          "model_module_version": "1.5.0",
          "state": {
            "_dom_classes": [],
            "_model_module": "@jupyter-widgets/controls",
            "_model_module_version": "1.5.0",
            "_model_name": "HTMLModel",
            "_view_count": null,
            "_view_module": "@jupyter-widgets/controls",
            "_view_module_version": "1.5.0",
            "_view_name": "HTMLView",
            "description": "",
            "description_tooltip": null,
            "layout": "IPY_MODEL_ceb7e649064447a89be0dadc5723121f",
            "placeholder": "​",
            "style": "IPY_MODEL_bd55b0fd7e654a48ba9127b1e0d654c9",
            "value": " 578/578 [00:00&lt;00:00, 31.7kB/s]"
          }
        },
        "515bbaaa0d0b4916897eb0679d718e5f": {
          "model_module": "@jupyter-widgets/base",
          "model_name": "LayoutModel",
          "model_module_version": "1.2.0",
          "state": {
            "_model_module": "@jupyter-widgets/base",
            "_model_module_version": "1.2.0",
            "_model_name": "LayoutModel",
            "_view_count": null,
            "_view_module": "@jupyter-widgets/base",
            "_view_module_version": "1.2.0",
            "_view_name": "LayoutView",
            "align_content": null,
            "align_items": null,
            "align_self": null,
            "border": null,
            "bottom": null,
            "display": null,
            "flex": null,
            "flex_flow": null,
            "grid_area": null,
            "grid_auto_columns": null,
            "grid_auto_flow": null,
            "grid_auto_rows": null,
            "grid_column": null,
            "grid_gap": null,
            "grid_row": null,
            "grid_template_areas": null,
            "grid_template_columns": null,
            "grid_template_rows": null,
            "height": null,
            "justify_content": null,
            "justify_items": null,
            "left": null,
            "margin": null,
            "max_height": null,
            "max_width": null,
            "min_height": null,
            "min_width": null,
            "object_fit": null,
            "object_position": null,
            "order": null,
            "overflow": null,
            "overflow_x": null,
            "overflow_y": null,
            "padding": null,
            "right": null,
            "top": null,
            "visibility": null,
            "width": null
          }
        },
        "7e1d6df971a441c3a07c6592c2a86a79": {
          "model_module": "@jupyter-widgets/base",
          "model_name": "LayoutModel",
          "model_module_version": "1.2.0",
          "state": {
            "_model_module": "@jupyter-widgets/base",
            "_model_module_version": "1.2.0",
            "_model_name": "LayoutModel",
            "_view_count": null,
            "_view_module": "@jupyter-widgets/base",
            "_view_module_version": "1.2.0",
            "_view_name": "LayoutView",
            "align_content": null,
            "align_items": null,
            "align_self": null,
            "border": null,
            "bottom": null,
            "display": null,
            "flex": null,
            "flex_flow": null,
            "grid_area": null,
            "grid_auto_columns": null,
            "grid_auto_flow": null,
            "grid_auto_rows": null,
            "grid_column": null,
            "grid_gap": null,
            "grid_row": null,
            "grid_template_areas": null,
            "grid_template_columns": null,
            "grid_template_rows": null,
            "height": null,
            "justify_content": null,
            "justify_items": null,
            "left": null,
            "margin": null,
            "max_height": null,
            "max_width": null,
            "min_height": null,
            "min_width": null,
            "object_fit": null,
            "object_position": null,
            "order": null,
            "overflow": null,
            "overflow_x": null,
            "overflow_y": null,
            "padding": null,
            "right": null,
            "top": null,
            "visibility": null,
            "width": null
          }
        },
        "81cc75936d494cc89d7694b38d68b88e": {
          "model_module": "@jupyter-widgets/controls",
          "model_name": "DescriptionStyleModel",
          "model_module_version": "1.5.0",
          "state": {
            "_model_module": "@jupyter-widgets/controls",
            "_model_module_version": "1.5.0",
            "_model_name": "DescriptionStyleModel",
            "_view_count": null,
            "_view_module": "@jupyter-widgets/base",
            "_view_module_version": "1.2.0",
            "_view_name": "StyleView",
            "description_width": ""
          }
        },
        "346e9d7a31e14d1780b3b65b70f3fe09": {
          "model_module": "@jupyter-widgets/base",
          "model_name": "LayoutModel",
          "model_module_version": "1.2.0",
          "state": {
            "_model_module": "@jupyter-widgets/base",
            "_model_module_version": "1.2.0",
            "_model_name": "LayoutModel",
            "_view_count": null,
            "_view_module": "@jupyter-widgets/base",
            "_view_module_version": "1.2.0",
            "_view_name": "LayoutView",
            "align_content": null,
            "align_items": null,
            "align_self": null,
            "border": null,
            "bottom": null,
            "display": null,
            "flex": null,
            "flex_flow": null,
            "grid_area": null,
            "grid_auto_columns": null,
            "grid_auto_flow": null,
            "grid_auto_rows": null,
            "grid_column": null,
            "grid_gap": null,
            "grid_row": null,
            "grid_template_areas": null,
            "grid_template_columns": null,
            "grid_template_rows": null,
            "height": null,
            "justify_content": null,
            "justify_items": null,
            "left": null,
            "margin": null,
            "max_height": null,
            "max_width": null,
            "min_height": null,
            "min_width": null,
            "object_fit": null,
            "object_position": null,
            "order": null,
            "overflow": null,
            "overflow_x": null,
            "overflow_y": null,
            "padding": null,
            "right": null,
            "top": null,
            "visibility": null,
            "width": null
          }
        },
        "49200f448f224971b8d861c7c8d4e6a4": {
          "model_module": "@jupyter-widgets/controls",
          "model_name": "ProgressStyleModel",
          "model_module_version": "1.5.0",
          "state": {
            "_model_module": "@jupyter-widgets/controls",
            "_model_module_version": "1.5.0",
            "_model_name": "ProgressStyleModel",
            "_view_count": null,
            "_view_module": "@jupyter-widgets/base",
            "_view_module_version": "1.2.0",
            "_view_name": "StyleView",
            "bar_color": null,
            "description_width": ""
          }
        },
        "ceb7e649064447a89be0dadc5723121f": {
          "model_module": "@jupyter-widgets/base",
          "model_name": "LayoutModel",
          "model_module_version": "1.2.0",
          "state": {
            "_model_module": "@jupyter-widgets/base",
            "_model_module_version": "1.2.0",
            "_model_name": "LayoutModel",
            "_view_count": null,
            "_view_module": "@jupyter-widgets/base",
            "_view_module_version": "1.2.0",
            "_view_name": "LayoutView",
            "align_content": null,
            "align_items": null,
            "align_self": null,
            "border": null,
            "bottom": null,
            "display": null,
            "flex": null,
            "flex_flow": null,
            "grid_area": null,
            "grid_auto_columns": null,
            "grid_auto_flow": null,
            "grid_auto_rows": null,
            "grid_column": null,
            "grid_gap": null,
            "grid_row": null,
            "grid_template_areas": null,
            "grid_template_columns": null,
            "grid_template_rows": null,
            "height": null,
            "justify_content": null,
            "justify_items": null,
            "left": null,
            "margin": null,
            "max_height": null,
            "max_width": null,
            "min_height": null,
            "min_width": null,
            "object_fit": null,
            "object_position": null,
            "order": null,
            "overflow": null,
            "overflow_x": null,
            "overflow_y": null,
            "padding": null,
            "right": null,
            "top": null,
            "visibility": null,
            "width": null
          }
        },
        "bd55b0fd7e654a48ba9127b1e0d654c9": {
          "model_module": "@jupyter-widgets/controls",
          "model_name": "DescriptionStyleModel",
          "model_module_version": "1.5.0",
          "state": {
            "_model_module": "@jupyter-widgets/controls",
            "_model_module_version": "1.5.0",
            "_model_name": "DescriptionStyleModel",
            "_view_count": null,
            "_view_module": "@jupyter-widgets/base",
            "_view_module_version": "1.2.0",
            "_view_name": "StyleView",
            "description_width": ""
          }
        },
        "c273eaf421624292a5983133b696ed9b": {
          "model_module": "@jupyter-widgets/controls",
          "model_name": "HBoxModel",
          "model_module_version": "1.5.0",
          "state": {
            "_dom_classes": [],
            "_model_module": "@jupyter-widgets/controls",
            "_model_module_version": "1.5.0",
            "_model_name": "HBoxModel",
            "_view_count": null,
            "_view_module": "@jupyter-widgets/controls",
            "_view_module_version": "1.5.0",
            "_view_name": "HBoxView",
            "box_style": "",
            "children": [
              "IPY_MODEL_58a57689ffbd4219b2be0a9c45ae4449",
              "IPY_MODEL_c17c37fd128c4695805b1a018a5016bd",
              "IPY_MODEL_caa3086c13f64adba7ed15f187a6471a"
            ],
            "layout": "IPY_MODEL_50e765cf634743b78d4c2d7cc0c319fe"
          }
        },
        "58a57689ffbd4219b2be0a9c45ae4449": {
          "model_module": "@jupyter-widgets/controls",
          "model_name": "HTMLModel",
          "model_module_version": "1.5.0",
          "state": {
            "_dom_classes": [],
            "_model_module": "@jupyter-widgets/controls",
            "_model_module_version": "1.5.0",
            "_model_name": "HTMLModel",
            "_view_count": null,
            "_view_module": "@jupyter-widgets/controls",
            "_view_module_version": "1.5.0",
            "_view_name": "HTMLView",
            "description": "",
            "description_tooltip": null,
            "layout": "IPY_MODEL_0d0f52cbb76a40ad9eeba7dd36425ff9",
            "placeholder": "​",
            "style": "IPY_MODEL_b8de2c659f9041d98f30904b978b3aaa",
            "value": "Downloading spm.model: 100%"
          }
        },
        "c17c37fd128c4695805b1a018a5016bd": {
          "model_module": "@jupyter-widgets/controls",
          "model_name": "FloatProgressModel",
          "model_module_version": "1.5.0",
          "state": {
            "_dom_classes": [],
            "_model_module": "@jupyter-widgets/controls",
            "_model_module_version": "1.5.0",
            "_model_name": "FloatProgressModel",
            "_view_count": null,
            "_view_module": "@jupyter-widgets/controls",
            "_view_module_version": "1.5.0",
            "_view_name": "ProgressView",
            "bar_style": "success",
            "description": "",
            "description_tooltip": null,
            "layout": "IPY_MODEL_46527240e3f64edb8e3f77f9bb682b07",
            "max": 2464616,
            "min": 0,
            "orientation": "horizontal",
            "style": "IPY_MODEL_07783eea6791427ab31e10e81ea3e8e0",
            "value": 2464616
          }
        },
        "caa3086c13f64adba7ed15f187a6471a": {
          "model_module": "@jupyter-widgets/controls",
          "model_name": "HTMLModel",
          "model_module_version": "1.5.0",
          "state": {
            "_dom_classes": [],
            "_model_module": "@jupyter-widgets/controls",
            "_model_module_version": "1.5.0",
            "_model_name": "HTMLModel",
            "_view_count": null,
            "_view_module": "@jupyter-widgets/controls",
            "_view_module_version": "1.5.0",
            "_view_name": "HTMLView",
            "description": "",
            "description_tooltip": null,
            "layout": "IPY_MODEL_cf963c4fa1ee45f787df3d60605f8988",
            "placeholder": "​",
            "style": "IPY_MODEL_92df38320dda41d0a801fb72c9c8ee57",
            "value": " 2.46M/2.46M [00:00&lt;00:00, 19.4MB/s]"
          }
        },
        "50e765cf634743b78d4c2d7cc0c319fe": {
          "model_module": "@jupyter-widgets/base",
          "model_name": "LayoutModel",
          "model_module_version": "1.2.0",
          "state": {
            "_model_module": "@jupyter-widgets/base",
            "_model_module_version": "1.2.0",
            "_model_name": "LayoutModel",
            "_view_count": null,
            "_view_module": "@jupyter-widgets/base",
            "_view_module_version": "1.2.0",
            "_view_name": "LayoutView",
            "align_content": null,
            "align_items": null,
            "align_self": null,
            "border": null,
            "bottom": null,
            "display": null,
            "flex": null,
            "flex_flow": null,
            "grid_area": null,
            "grid_auto_columns": null,
            "grid_auto_flow": null,
            "grid_auto_rows": null,
            "grid_column": null,
            "grid_gap": null,
            "grid_row": null,
            "grid_template_areas": null,
            "grid_template_columns": null,
            "grid_template_rows": null,
            "height": null,
            "justify_content": null,
            "justify_items": null,
            "left": null,
            "margin": null,
            "max_height": null,
            "max_width": null,
            "min_height": null,
            "min_width": null,
            "object_fit": null,
            "object_position": null,
            "order": null,
            "overflow": null,
            "overflow_x": null,
            "overflow_y": null,
            "padding": null,
            "right": null,
            "top": null,
            "visibility": null,
            "width": null
          }
        },
        "0d0f52cbb76a40ad9eeba7dd36425ff9": {
          "model_module": "@jupyter-widgets/base",
          "model_name": "LayoutModel",
          "model_module_version": "1.2.0",
          "state": {
            "_model_module": "@jupyter-widgets/base",
            "_model_module_version": "1.2.0",
            "_model_name": "LayoutModel",
            "_view_count": null,
            "_view_module": "@jupyter-widgets/base",
            "_view_module_version": "1.2.0",
            "_view_name": "LayoutView",
            "align_content": null,
            "align_items": null,
            "align_self": null,
            "border": null,
            "bottom": null,
            "display": null,
            "flex": null,
            "flex_flow": null,
            "grid_area": null,
            "grid_auto_columns": null,
            "grid_auto_flow": null,
            "grid_auto_rows": null,
            "grid_column": null,
            "grid_gap": null,
            "grid_row": null,
            "grid_template_areas": null,
            "grid_template_columns": null,
            "grid_template_rows": null,
            "height": null,
            "justify_content": null,
            "justify_items": null,
            "left": null,
            "margin": null,
            "max_height": null,
            "max_width": null,
            "min_height": null,
            "min_width": null,
            "object_fit": null,
            "object_position": null,
            "order": null,
            "overflow": null,
            "overflow_x": null,
            "overflow_y": null,
            "padding": null,
            "right": null,
            "top": null,
            "visibility": null,
            "width": null
          }
        },
        "b8de2c659f9041d98f30904b978b3aaa": {
          "model_module": "@jupyter-widgets/controls",
          "model_name": "DescriptionStyleModel",
          "model_module_version": "1.5.0",
          "state": {
            "_model_module": "@jupyter-widgets/controls",
            "_model_module_version": "1.5.0",
            "_model_name": "DescriptionStyleModel",
            "_view_count": null,
            "_view_module": "@jupyter-widgets/base",
            "_view_module_version": "1.2.0",
            "_view_name": "StyleView",
            "description_width": ""
          }
        },
        "46527240e3f64edb8e3f77f9bb682b07": {
          "model_module": "@jupyter-widgets/base",
          "model_name": "LayoutModel",
          "model_module_version": "1.2.0",
          "state": {
            "_model_module": "@jupyter-widgets/base",
            "_model_module_version": "1.2.0",
            "_model_name": "LayoutModel",
            "_view_count": null,
            "_view_module": "@jupyter-widgets/base",
            "_view_module_version": "1.2.0",
            "_view_name": "LayoutView",
            "align_content": null,
            "align_items": null,
            "align_self": null,
            "border": null,
            "bottom": null,
            "display": null,
            "flex": null,
            "flex_flow": null,
            "grid_area": null,
            "grid_auto_columns": null,
            "grid_auto_flow": null,
            "grid_auto_rows": null,
            "grid_column": null,
            "grid_gap": null,
            "grid_row": null,
            "grid_template_areas": null,
            "grid_template_columns": null,
            "grid_template_rows": null,
            "height": null,
            "justify_content": null,
            "justify_items": null,
            "left": null,
            "margin": null,
            "max_height": null,
            "max_width": null,
            "min_height": null,
            "min_width": null,
            "object_fit": null,
            "object_position": null,
            "order": null,
            "overflow": null,
            "overflow_x": null,
            "overflow_y": null,
            "padding": null,
            "right": null,
            "top": null,
            "visibility": null,
            "width": null
          }
        },
        "07783eea6791427ab31e10e81ea3e8e0": {
          "model_module": "@jupyter-widgets/controls",
          "model_name": "ProgressStyleModel",
          "model_module_version": "1.5.0",
          "state": {
            "_model_module": "@jupyter-widgets/controls",
            "_model_module_version": "1.5.0",
            "_model_name": "ProgressStyleModel",
            "_view_count": null,
            "_view_module": "@jupyter-widgets/base",
            "_view_module_version": "1.2.0",
            "_view_name": "StyleView",
            "bar_color": null,
            "description_width": ""
          }
        },
        "cf963c4fa1ee45f787df3d60605f8988": {
          "model_module": "@jupyter-widgets/base",
          "model_name": "LayoutModel",
          "model_module_version": "1.2.0",
          "state": {
            "_model_module": "@jupyter-widgets/base",
            "_model_module_version": "1.2.0",
            "_model_name": "LayoutModel",
            "_view_count": null,
            "_view_module": "@jupyter-widgets/base",
            "_view_module_version": "1.2.0",
            "_view_name": "LayoutView",
            "align_content": null,
            "align_items": null,
            "align_self": null,
            "border": null,
            "bottom": null,
            "display": null,
            "flex": null,
            "flex_flow": null,
            "grid_area": null,
            "grid_auto_columns": null,
            "grid_auto_flow": null,
            "grid_auto_rows": null,
            "grid_column": null,
            "grid_gap": null,
            "grid_row": null,
            "grid_template_areas": null,
            "grid_template_columns": null,
            "grid_template_rows": null,
            "height": null,
            "justify_content": null,
            "justify_items": null,
            "left": null,
            "margin": null,
            "max_height": null,
            "max_width": null,
            "min_height": null,
            "min_width": null,
            "object_fit": null,
            "object_position": null,
            "order": null,
            "overflow": null,
            "overflow_x": null,
            "overflow_y": null,
            "padding": null,
            "right": null,
            "top": null,
            "visibility": null,
            "width": null
          }
        },
        "92df38320dda41d0a801fb72c9c8ee57": {
          "model_module": "@jupyter-widgets/controls",
          "model_name": "DescriptionStyleModel",
          "model_module_version": "1.5.0",
          "state": {
            "_model_module": "@jupyter-widgets/controls",
            "_model_module_version": "1.5.0",
            "_model_name": "DescriptionStyleModel",
            "_view_count": null,
            "_view_module": "@jupyter-widgets/base",
            "_view_module_version": "1.2.0",
            "_view_name": "StyleView",
            "description_width": ""
          }
        },
        "4eaecd460fd247dc932c3f5eadce97e0": {
          "model_module": "@jupyter-widgets/controls",
          "model_name": "HBoxModel",
          "model_module_version": "1.5.0",
          "state": {
            "_dom_classes": [],
            "_model_module": "@jupyter-widgets/controls",
            "_model_module_version": "1.5.0",
            "_model_name": "HBoxModel",
            "_view_count": null,
            "_view_module": "@jupyter-widgets/controls",
            "_view_module_version": "1.5.0",
            "_view_name": "HBoxView",
            "box_style": "",
            "children": [
              "IPY_MODEL_05e356555de844dd8da087014dada0ca",
              "IPY_MODEL_8e04df68c91d48b4aad144d4421a8c0c",
              "IPY_MODEL_efc99621520b422caf8447aecc3b379d"
            ],
            "layout": "IPY_MODEL_07940b19548b421aa9005635093b6b33"
          }
        },
        "05e356555de844dd8da087014dada0ca": {
          "model_module": "@jupyter-widgets/controls",
          "model_name": "HTMLModel",
          "model_module_version": "1.5.0",
          "state": {
            "_dom_classes": [],
            "_model_module": "@jupyter-widgets/controls",
            "_model_module_version": "1.5.0",
            "_model_name": "HTMLModel",
            "_view_count": null,
            "_view_module": "@jupyter-widgets/controls",
            "_view_module_version": "1.5.0",
            "_view_name": "HTMLView",
            "description": "",
            "description_tooltip": null,
            "layout": "IPY_MODEL_2af3fe1565ed4b58914d71301198ca1a",
            "placeholder": "​",
            "style": "IPY_MODEL_188f63156f0648d1874fbdb0c9c7172f",
            "value": "Map:  99%"
          }
        },
        "8e04df68c91d48b4aad144d4421a8c0c": {
          "model_module": "@jupyter-widgets/controls",
          "model_name": "FloatProgressModel",
          "model_module_version": "1.5.0",
          "state": {
            "_dom_classes": [],
            "_model_module": "@jupyter-widgets/controls",
            "_model_module_version": "1.5.0",
            "_model_name": "FloatProgressModel",
            "_view_count": null,
            "_view_module": "@jupyter-widgets/controls",
            "_view_module_version": "1.5.0",
            "_view_name": "ProgressView",
            "bar_style": "",
            "description": "",
            "description_tooltip": null,
            "layout": "IPY_MODEL_c69891c17a6d43348caea0498d71849b",
            "max": 36473,
            "min": 0,
            "orientation": "horizontal",
            "style": "IPY_MODEL_5cc99b7fccb8467588e185db63c33c67",
            "value": 36473
          }
        },
        "efc99621520b422caf8447aecc3b379d": {
          "model_module": "@jupyter-widgets/controls",
          "model_name": "HTMLModel",
          "model_module_version": "1.5.0",
          "state": {
            "_dom_classes": [],
            "_model_module": "@jupyter-widgets/controls",
            "_model_module_version": "1.5.0",
            "_model_name": "HTMLModel",
            "_view_count": null,
            "_view_module": "@jupyter-widgets/controls",
            "_view_module_version": "1.5.0",
            "_view_name": "HTMLView",
            "description": "",
            "description_tooltip": null,
            "layout": "IPY_MODEL_f6067d20148a4ddb858feeee4b9ef28d",
            "placeholder": "​",
            "style": "IPY_MODEL_ac1fd65b74d84d94bfd7cdfac8a7f7bf",
            "value": " 36000/36473 [00:04&lt;00:00, 8222.32 examples/s]"
          }
        },
        "07940b19548b421aa9005635093b6b33": {
          "model_module": "@jupyter-widgets/base",
          "model_name": "LayoutModel",
          "model_module_version": "1.2.0",
          "state": {
            "_model_module": "@jupyter-widgets/base",
            "_model_module_version": "1.2.0",
            "_model_name": "LayoutModel",
            "_view_count": null,
            "_view_module": "@jupyter-widgets/base",
            "_view_module_version": "1.2.0",
            "_view_name": "LayoutView",
            "align_content": null,
            "align_items": null,
            "align_self": null,
            "border": null,
            "bottom": null,
            "display": null,
            "flex": null,
            "flex_flow": null,
            "grid_area": null,
            "grid_auto_columns": null,
            "grid_auto_flow": null,
            "grid_auto_rows": null,
            "grid_column": null,
            "grid_gap": null,
            "grid_row": null,
            "grid_template_areas": null,
            "grid_template_columns": null,
            "grid_template_rows": null,
            "height": null,
            "justify_content": null,
            "justify_items": null,
            "left": null,
            "margin": null,
            "max_height": null,
            "max_width": null,
            "min_height": null,
            "min_width": null,
            "object_fit": null,
            "object_position": null,
            "order": null,
            "overflow": null,
            "overflow_x": null,
            "overflow_y": null,
            "padding": null,
            "right": null,
            "top": null,
            "visibility": "hidden",
            "width": null
          }
        },
        "2af3fe1565ed4b58914d71301198ca1a": {
          "model_module": "@jupyter-widgets/base",
          "model_name": "LayoutModel",
          "model_module_version": "1.2.0",
          "state": {
            "_model_module": "@jupyter-widgets/base",
            "_model_module_version": "1.2.0",
            "_model_name": "LayoutModel",
            "_view_count": null,
            "_view_module": "@jupyter-widgets/base",
            "_view_module_version": "1.2.0",
            "_view_name": "LayoutView",
            "align_content": null,
            "align_items": null,
            "align_self": null,
            "border": null,
            "bottom": null,
            "display": null,
            "flex": null,
            "flex_flow": null,
            "grid_area": null,
            "grid_auto_columns": null,
            "grid_auto_flow": null,
            "grid_auto_rows": null,
            "grid_column": null,
            "grid_gap": null,
            "grid_row": null,
            "grid_template_areas": null,
            "grid_template_columns": null,
            "grid_template_rows": null,
            "height": null,
            "justify_content": null,
            "justify_items": null,
            "left": null,
            "margin": null,
            "max_height": null,
            "max_width": null,
            "min_height": null,
            "min_width": null,
            "object_fit": null,
            "object_position": null,
            "order": null,
            "overflow": null,
            "overflow_x": null,
            "overflow_y": null,
            "padding": null,
            "right": null,
            "top": null,
            "visibility": null,
            "width": null
          }
        },
        "188f63156f0648d1874fbdb0c9c7172f": {
          "model_module": "@jupyter-widgets/controls",
          "model_name": "DescriptionStyleModel",
          "model_module_version": "1.5.0",
          "state": {
            "_model_module": "@jupyter-widgets/controls",
            "_model_module_version": "1.5.0",
            "_model_name": "DescriptionStyleModel",
            "_view_count": null,
            "_view_module": "@jupyter-widgets/base",
            "_view_module_version": "1.2.0",
            "_view_name": "StyleView",
            "description_width": ""
          }
        },
        "c69891c17a6d43348caea0498d71849b": {
          "model_module": "@jupyter-widgets/base",
          "model_name": "LayoutModel",
          "model_module_version": "1.2.0",
          "state": {
            "_model_module": "@jupyter-widgets/base",
            "_model_module_version": "1.2.0",
            "_model_name": "LayoutModel",
            "_view_count": null,
            "_view_module": "@jupyter-widgets/base",
            "_view_module_version": "1.2.0",
            "_view_name": "LayoutView",
            "align_content": null,
            "align_items": null,
            "align_self": null,
            "border": null,
            "bottom": null,
            "display": null,
            "flex": null,
            "flex_flow": null,
            "grid_area": null,
            "grid_auto_columns": null,
            "grid_auto_flow": null,
            "grid_auto_rows": null,
            "grid_column": null,
            "grid_gap": null,
            "grid_row": null,
            "grid_template_areas": null,
            "grid_template_columns": null,
            "grid_template_rows": null,
            "height": null,
            "justify_content": null,
            "justify_items": null,
            "left": null,
            "margin": null,
            "max_height": null,
            "max_width": null,
            "min_height": null,
            "min_width": null,
            "object_fit": null,
            "object_position": null,
            "order": null,
            "overflow": null,
            "overflow_x": null,
            "overflow_y": null,
            "padding": null,
            "right": null,
            "top": null,
            "visibility": null,
            "width": null
          }
        },
        "5cc99b7fccb8467588e185db63c33c67": {
          "model_module": "@jupyter-widgets/controls",
          "model_name": "ProgressStyleModel",
          "model_module_version": "1.5.0",
          "state": {
            "_model_module": "@jupyter-widgets/controls",
            "_model_module_version": "1.5.0",
            "_model_name": "ProgressStyleModel",
            "_view_count": null,
            "_view_module": "@jupyter-widgets/base",
            "_view_module_version": "1.2.0",
            "_view_name": "StyleView",
            "bar_color": null,
            "description_width": ""
          }
        },
        "f6067d20148a4ddb858feeee4b9ef28d": {
          "model_module": "@jupyter-widgets/base",
          "model_name": "LayoutModel",
          "model_module_version": "1.2.0",
          "state": {
            "_model_module": "@jupyter-widgets/base",
            "_model_module_version": "1.2.0",
            "_model_name": "LayoutModel",
            "_view_count": null,
            "_view_module": "@jupyter-widgets/base",
            "_view_module_version": "1.2.0",
            "_view_name": "LayoutView",
            "align_content": null,
            "align_items": null,
            "align_self": null,
            "border": null,
            "bottom": null,
            "display": null,
            "flex": null,
            "flex_flow": null,
            "grid_area": null,
            "grid_auto_columns": null,
            "grid_auto_flow": null,
            "grid_auto_rows": null,
            "grid_column": null,
            "grid_gap": null,
            "grid_row": null,
            "grid_template_areas": null,
            "grid_template_columns": null,
            "grid_template_rows": null,
            "height": null,
            "justify_content": null,
            "justify_items": null,
            "left": null,
            "margin": null,
            "max_height": null,
            "max_width": null,
            "min_height": null,
            "min_width": null,
            "object_fit": null,
            "object_position": null,
            "order": null,
            "overflow": null,
            "overflow_x": null,
            "overflow_y": null,
            "padding": null,
            "right": null,
            "top": null,
            "visibility": null,
            "width": null
          }
        },
        "ac1fd65b74d84d94bfd7cdfac8a7f7bf": {
          "model_module": "@jupyter-widgets/controls",
          "model_name": "DescriptionStyleModel",
          "model_module_version": "1.5.0",
          "state": {
            "_model_module": "@jupyter-widgets/controls",
            "_model_module_version": "1.5.0",
            "_model_name": "DescriptionStyleModel",
            "_view_count": null,
            "_view_module": "@jupyter-widgets/base",
            "_view_module_version": "1.2.0",
            "_view_name": "StyleView",
            "description_width": ""
          }
        },
        "d4f1a72d336549e2a6064c5902bf81bf": {
          "model_module": "@jupyter-widgets/controls",
          "model_name": "HBoxModel",
          "model_module_version": "1.5.0",
          "state": {
            "_dom_classes": [],
            "_model_module": "@jupyter-widgets/controls",
            "_model_module_version": "1.5.0",
            "_model_name": "HBoxModel",
            "_view_count": null,
            "_view_module": "@jupyter-widgets/controls",
            "_view_module_version": "1.5.0",
            "_view_name": "HBoxView",
            "box_style": "",
            "children": [
              "IPY_MODEL_4cd20cbb5a2342d2a250375753c01daa",
              "IPY_MODEL_29ded2e9e6d546249991b1114b67365e",
              "IPY_MODEL_2ccc39af8dc84bf3abd96a168ee1eeb3"
            ],
            "layout": "IPY_MODEL_ae8d4199205441ef90553ae3b9765798"
          }
        },
        "4cd20cbb5a2342d2a250375753c01daa": {
          "model_module": "@jupyter-widgets/controls",
          "model_name": "HTMLModel",
          "model_module_version": "1.5.0",
          "state": {
            "_dom_classes": [],
            "_model_module": "@jupyter-widgets/controls",
            "_model_module_version": "1.5.0",
            "_model_name": "HTMLModel",
            "_view_count": null,
            "_view_module": "@jupyter-widgets/controls",
            "_view_module_version": "1.5.0",
            "_view_name": "HTMLView",
            "description": "",
            "description_tooltip": null,
            "layout": "IPY_MODEL_10029551b1ec4f36b60cd1f18f460a02",
            "placeholder": "​",
            "style": "IPY_MODEL_d93e71a22c3649278daf68cd340bb9c8",
            "value": "Map:   0%"
          }
        },
        "29ded2e9e6d546249991b1114b67365e": {
          "model_module": "@jupyter-widgets/controls",
          "model_name": "FloatProgressModel",
          "model_module_version": "1.5.0",
          "state": {
            "_dom_classes": [],
            "_model_module": "@jupyter-widgets/controls",
            "_model_module_version": "1.5.0",
            "_model_name": "FloatProgressModel",
            "_view_count": null,
            "_view_module": "@jupyter-widgets/controls",
            "_view_module_version": "1.5.0",
            "_view_name": "ProgressView",
            "bar_style": "",
            "description": "",
            "description_tooltip": null,
            "layout": "IPY_MODEL_643f17687a6944c1a07e1310585aaad6",
            "max": 36,
            "min": 0,
            "orientation": "horizontal",
            "style": "IPY_MODEL_03a64e971fc944dda083f027aab0694e",
            "value": 36
          }
        },
        "2ccc39af8dc84bf3abd96a168ee1eeb3": {
          "model_module": "@jupyter-widgets/controls",
          "model_name": "HTMLModel",
          "model_module_version": "1.5.0",
          "state": {
            "_dom_classes": [],
            "_model_module": "@jupyter-widgets/controls",
            "_model_module_version": "1.5.0",
            "_model_name": "HTMLModel",
            "_view_count": null,
            "_view_module": "@jupyter-widgets/controls",
            "_view_module_version": "1.5.0",
            "_view_name": "HTMLView",
            "description": "",
            "description_tooltip": null,
            "layout": "IPY_MODEL_b113f8d168fc4fc5b88509a0ea1d31e7",
            "placeholder": "​",
            "style": "IPY_MODEL_415eb536e81d40ab9686bd1e0ef6a75e",
            "value": " 0/36 [00:00&lt;?, ? examples/s]"
          }
        },
        "ae8d4199205441ef90553ae3b9765798": {
          "model_module": "@jupyter-widgets/base",
          "model_name": "LayoutModel",
          "model_module_version": "1.2.0",
          "state": {
            "_model_module": "@jupyter-widgets/base",
            "_model_module_version": "1.2.0",
            "_model_name": "LayoutModel",
            "_view_count": null,
            "_view_module": "@jupyter-widgets/base",
            "_view_module_version": "1.2.0",
            "_view_name": "LayoutView",
            "align_content": null,
            "align_items": null,
            "align_self": null,
            "border": null,
            "bottom": null,
            "display": null,
            "flex": null,
            "flex_flow": null,
            "grid_area": null,
            "grid_auto_columns": null,
            "grid_auto_flow": null,
            "grid_auto_rows": null,
            "grid_column": null,
            "grid_gap": null,
            "grid_row": null,
            "grid_template_areas": null,
            "grid_template_columns": null,
            "grid_template_rows": null,
            "height": null,
            "justify_content": null,
            "justify_items": null,
            "left": null,
            "margin": null,
            "max_height": null,
            "max_width": null,
            "min_height": null,
            "min_width": null,
            "object_fit": null,
            "object_position": null,
            "order": null,
            "overflow": null,
            "overflow_x": null,
            "overflow_y": null,
            "padding": null,
            "right": null,
            "top": null,
            "visibility": "hidden",
            "width": null
          }
        },
        "10029551b1ec4f36b60cd1f18f460a02": {
          "model_module": "@jupyter-widgets/base",
          "model_name": "LayoutModel",
          "model_module_version": "1.2.0",
          "state": {
            "_model_module": "@jupyter-widgets/base",
            "_model_module_version": "1.2.0",
            "_model_name": "LayoutModel",
            "_view_count": null,
            "_view_module": "@jupyter-widgets/base",
            "_view_module_version": "1.2.0",
            "_view_name": "LayoutView",
            "align_content": null,
            "align_items": null,
            "align_self": null,
            "border": null,
            "bottom": null,
            "display": null,
            "flex": null,
            "flex_flow": null,
            "grid_area": null,
            "grid_auto_columns": null,
            "grid_auto_flow": null,
            "grid_auto_rows": null,
            "grid_column": null,
            "grid_gap": null,
            "grid_row": null,
            "grid_template_areas": null,
            "grid_template_columns": null,
            "grid_template_rows": null,
            "height": null,
            "justify_content": null,
            "justify_items": null,
            "left": null,
            "margin": null,
            "max_height": null,
            "max_width": null,
            "min_height": null,
            "min_width": null,
            "object_fit": null,
            "object_position": null,
            "order": null,
            "overflow": null,
            "overflow_x": null,
            "overflow_y": null,
            "padding": null,
            "right": null,
            "top": null,
            "visibility": null,
            "width": null
          }
        },
        "d93e71a22c3649278daf68cd340bb9c8": {
          "model_module": "@jupyter-widgets/controls",
          "model_name": "DescriptionStyleModel",
          "model_module_version": "1.5.0",
          "state": {
            "_model_module": "@jupyter-widgets/controls",
            "_model_module_version": "1.5.0",
            "_model_name": "DescriptionStyleModel",
            "_view_count": null,
            "_view_module": "@jupyter-widgets/base",
            "_view_module_version": "1.2.0",
            "_view_name": "StyleView",
            "description_width": ""
          }
        },
        "643f17687a6944c1a07e1310585aaad6": {
          "model_module": "@jupyter-widgets/base",
          "model_name": "LayoutModel",
          "model_module_version": "1.2.0",
          "state": {
            "_model_module": "@jupyter-widgets/base",
            "_model_module_version": "1.2.0",
            "_model_name": "LayoutModel",
            "_view_count": null,
            "_view_module": "@jupyter-widgets/base",
            "_view_module_version": "1.2.0",
            "_view_name": "LayoutView",
            "align_content": null,
            "align_items": null,
            "align_self": null,
            "border": null,
            "bottom": null,
            "display": null,
            "flex": null,
            "flex_flow": null,
            "grid_area": null,
            "grid_auto_columns": null,
            "grid_auto_flow": null,
            "grid_auto_rows": null,
            "grid_column": null,
            "grid_gap": null,
            "grid_row": null,
            "grid_template_areas": null,
            "grid_template_columns": null,
            "grid_template_rows": null,
            "height": null,
            "justify_content": null,
            "justify_items": null,
            "left": null,
            "margin": null,
            "max_height": null,
            "max_width": null,
            "min_height": null,
            "min_width": null,
            "object_fit": null,
            "object_position": null,
            "order": null,
            "overflow": null,
            "overflow_x": null,
            "overflow_y": null,
            "padding": null,
            "right": null,
            "top": null,
            "visibility": null,
            "width": null
          }
        },
        "03a64e971fc944dda083f027aab0694e": {
          "model_module": "@jupyter-widgets/controls",
          "model_name": "ProgressStyleModel",
          "model_module_version": "1.5.0",
          "state": {
            "_model_module": "@jupyter-widgets/controls",
            "_model_module_version": "1.5.0",
            "_model_name": "ProgressStyleModel",
            "_view_count": null,
            "_view_module": "@jupyter-widgets/base",
            "_view_module_version": "1.2.0",
            "_view_name": "StyleView",
            "bar_color": null,
            "description_width": ""
          }
        },
        "b113f8d168fc4fc5b88509a0ea1d31e7": {
          "model_module": "@jupyter-widgets/base",
          "model_name": "LayoutModel",
          "model_module_version": "1.2.0",
          "state": {
            "_model_module": "@jupyter-widgets/base",
            "_model_module_version": "1.2.0",
            "_model_name": "LayoutModel",
            "_view_count": null,
            "_view_module": "@jupyter-widgets/base",
            "_view_module_version": "1.2.0",
            "_view_name": "LayoutView",
            "align_content": null,
            "align_items": null,
            "align_self": null,
            "border": null,
            "bottom": null,
            "display": null,
            "flex": null,
            "flex_flow": null,
            "grid_area": null,
            "grid_auto_columns": null,
            "grid_auto_flow": null,
            "grid_auto_rows": null,
            "grid_column": null,
            "grid_gap": null,
            "grid_row": null,
            "grid_template_areas": null,
            "grid_template_columns": null,
            "grid_template_rows": null,
            "height": null,
            "justify_content": null,
            "justify_items": null,
            "left": null,
            "margin": null,
            "max_height": null,
            "max_width": null,
            "min_height": null,
            "min_width": null,
            "object_fit": null,
            "object_position": null,
            "order": null,
            "overflow": null,
            "overflow_x": null,
            "overflow_y": null,
            "padding": null,
            "right": null,
            "top": null,
            "visibility": null,
            "width": null
          }
        },
        "415eb536e81d40ab9686bd1e0ef6a75e": {
          "model_module": "@jupyter-widgets/controls",
          "model_name": "DescriptionStyleModel",
          "model_module_version": "1.5.0",
          "state": {
            "_model_module": "@jupyter-widgets/controls",
            "_model_module_version": "1.5.0",
            "_model_name": "DescriptionStyleModel",
            "_view_count": null,
            "_view_module": "@jupyter-widgets/base",
            "_view_module_version": "1.2.0",
            "_view_name": "StyleView",
            "description_width": ""
          }
        },
        "f72edc5f64aa4c0dba3ee999c358f073": {
          "model_module": "@jupyter-widgets/controls",
          "model_name": "HBoxModel",
          "model_module_version": "1.5.0",
          "state": {
            "_dom_classes": [],
            "_model_module": "@jupyter-widgets/controls",
            "_model_module_version": "1.5.0",
            "_model_name": "HBoxModel",
            "_view_count": null,
            "_view_module": "@jupyter-widgets/controls",
            "_view_module_version": "1.5.0",
            "_view_name": "HBoxView",
            "box_style": "",
            "children": [
              "IPY_MODEL_5f71b841a4e24d599849a705c9e0b51b",
              "IPY_MODEL_61936ab561c3436e9aa8c4ede1a03f87",
              "IPY_MODEL_e716ade8d2464643b07ef129e4861d93"
            ],
            "layout": "IPY_MODEL_113dd742f2c34e0bb40007e7e724e6c9"
          }
        },
        "5f71b841a4e24d599849a705c9e0b51b": {
          "model_module": "@jupyter-widgets/controls",
          "model_name": "HTMLModel",
          "model_module_version": "1.5.0",
          "state": {
            "_dom_classes": [],
            "_model_module": "@jupyter-widgets/controls",
            "_model_module_version": "1.5.0",
            "_model_name": "HTMLModel",
            "_view_count": null,
            "_view_module": "@jupyter-widgets/controls",
            "_view_module_version": "1.5.0",
            "_view_name": "HTMLView",
            "description": "",
            "description_tooltip": null,
            "layout": "IPY_MODEL_2d2d2a2a3bdd41559b080205cdefe7c2",
            "placeholder": "​",
            "style": "IPY_MODEL_50dd879bdd934e2891f30ed35914809f",
            "value": "Creating CSV from Arrow format: 100%"
          }
        },
        "61936ab561c3436e9aa8c4ede1a03f87": {
          "model_module": "@jupyter-widgets/controls",
          "model_name": "FloatProgressModel",
          "model_module_version": "1.5.0",
          "state": {
            "_dom_classes": [],
            "_model_module": "@jupyter-widgets/controls",
            "_model_module_version": "1.5.0",
            "_model_name": "FloatProgressModel",
            "_view_count": null,
            "_view_module": "@jupyter-widgets/controls",
            "_view_module_version": "1.5.0",
            "_view_name": "ProgressView",
            "bar_style": "success",
            "description": "",
            "description_tooltip": null,
            "layout": "IPY_MODEL_8db26df1f8554aaea674e461bf1a24cc",
            "max": 1,
            "min": 0,
            "orientation": "horizontal",
            "style": "IPY_MODEL_c7bd57604e294e039792172bb3738d0f",
            "value": 1
          }
        },
        "e716ade8d2464643b07ef129e4861d93": {
          "model_module": "@jupyter-widgets/controls",
          "model_name": "HTMLModel",
          "model_module_version": "1.5.0",
          "state": {
            "_dom_classes": [],
            "_model_module": "@jupyter-widgets/controls",
            "_model_module_version": "1.5.0",
            "_model_name": "HTMLModel",
            "_view_count": null,
            "_view_module": "@jupyter-widgets/controls",
            "_view_module_version": "1.5.0",
            "_view_name": "HTMLView",
            "description": "",
            "description_tooltip": null,
            "layout": "IPY_MODEL_107835b70eb94b8aa7e19e96d186bf6c",
            "placeholder": "​",
            "style": "IPY_MODEL_56378cb34ef64deda887c2111be44a26",
            "value": " 1/1 [00:00&lt;00:00, 20.92ba/s]"
          }
        },
        "113dd742f2c34e0bb40007e7e724e6c9": {
          "model_module": "@jupyter-widgets/base",
          "model_name": "LayoutModel",
          "model_module_version": "1.2.0",
          "state": {
            "_model_module": "@jupyter-widgets/base",
            "_model_module_version": "1.2.0",
            "_model_name": "LayoutModel",
            "_view_count": null,
            "_view_module": "@jupyter-widgets/base",
            "_view_module_version": "1.2.0",
            "_view_name": "LayoutView",
            "align_content": null,
            "align_items": null,
            "align_self": null,
            "border": null,
            "bottom": null,
            "display": null,
            "flex": null,
            "flex_flow": null,
            "grid_area": null,
            "grid_auto_columns": null,
            "grid_auto_flow": null,
            "grid_auto_rows": null,
            "grid_column": null,
            "grid_gap": null,
            "grid_row": null,
            "grid_template_areas": null,
            "grid_template_columns": null,
            "grid_template_rows": null,
            "height": null,
            "justify_content": null,
            "justify_items": null,
            "left": null,
            "margin": null,
            "max_height": null,
            "max_width": null,
            "min_height": null,
            "min_width": null,
            "object_fit": null,
            "object_position": null,
            "order": null,
            "overflow": null,
            "overflow_x": null,
            "overflow_y": null,
            "padding": null,
            "right": null,
            "top": null,
            "visibility": null,
            "width": null
          }
        },
        "2d2d2a2a3bdd41559b080205cdefe7c2": {
          "model_module": "@jupyter-widgets/base",
          "model_name": "LayoutModel",
          "model_module_version": "1.2.0",
          "state": {
            "_model_module": "@jupyter-widgets/base",
            "_model_module_version": "1.2.0",
            "_model_name": "LayoutModel",
            "_view_count": null,
            "_view_module": "@jupyter-widgets/base",
            "_view_module_version": "1.2.0",
            "_view_name": "LayoutView",
            "align_content": null,
            "align_items": null,
            "align_self": null,
            "border": null,
            "bottom": null,
            "display": null,
            "flex": null,
            "flex_flow": null,
            "grid_area": null,
            "grid_auto_columns": null,
            "grid_auto_flow": null,
            "grid_auto_rows": null,
            "grid_column": null,
            "grid_gap": null,
            "grid_row": null,
            "grid_template_areas": null,
            "grid_template_columns": null,
            "grid_template_rows": null,
            "height": null,
            "justify_content": null,
            "justify_items": null,
            "left": null,
            "margin": null,
            "max_height": null,
            "max_width": null,
            "min_height": null,
            "min_width": null,
            "object_fit": null,
            "object_position": null,
            "order": null,
            "overflow": null,
            "overflow_x": null,
            "overflow_y": null,
            "padding": null,
            "right": null,
            "top": null,
            "visibility": null,
            "width": null
          }
        },
        "50dd879bdd934e2891f30ed35914809f": {
          "model_module": "@jupyter-widgets/controls",
          "model_name": "DescriptionStyleModel",
          "model_module_version": "1.5.0",
          "state": {
            "_model_module": "@jupyter-widgets/controls",
            "_model_module_version": "1.5.0",
            "_model_name": "DescriptionStyleModel",
            "_view_count": null,
            "_view_module": "@jupyter-widgets/base",
            "_view_module_version": "1.2.0",
            "_view_name": "StyleView",
            "description_width": ""
          }
        },
        "8db26df1f8554aaea674e461bf1a24cc": {
          "model_module": "@jupyter-widgets/base",
          "model_name": "LayoutModel",
          "model_module_version": "1.2.0",
          "state": {
            "_model_module": "@jupyter-widgets/base",
            "_model_module_version": "1.2.0",
            "_model_name": "LayoutModel",
            "_view_count": null,
            "_view_module": "@jupyter-widgets/base",
            "_view_module_version": "1.2.0",
            "_view_name": "LayoutView",
            "align_content": null,
            "align_items": null,
            "align_self": null,
            "border": null,
            "bottom": null,
            "display": null,
            "flex": null,
            "flex_flow": null,
            "grid_area": null,
            "grid_auto_columns": null,
            "grid_auto_flow": null,
            "grid_auto_rows": null,
            "grid_column": null,
            "grid_gap": null,
            "grid_row": null,
            "grid_template_areas": null,
            "grid_template_columns": null,
            "grid_template_rows": null,
            "height": null,
            "justify_content": null,
            "justify_items": null,
            "left": null,
            "margin": null,
            "max_height": null,
            "max_width": null,
            "min_height": null,
            "min_width": null,
            "object_fit": null,
            "object_position": null,
            "order": null,
            "overflow": null,
            "overflow_x": null,
            "overflow_y": null,
            "padding": null,
            "right": null,
            "top": null,
            "visibility": null,
            "width": null
          }
        },
        "c7bd57604e294e039792172bb3738d0f": {
          "model_module": "@jupyter-widgets/controls",
          "model_name": "ProgressStyleModel",
          "model_module_version": "1.5.0",
          "state": {
            "_model_module": "@jupyter-widgets/controls",
            "_model_module_version": "1.5.0",
            "_model_name": "ProgressStyleModel",
            "_view_count": null,
            "_view_module": "@jupyter-widgets/base",
            "_view_module_version": "1.2.0",
            "_view_name": "StyleView",
            "bar_color": null,
            "description_width": ""
          }
        },
        "107835b70eb94b8aa7e19e96d186bf6c": {
          "model_module": "@jupyter-widgets/base",
          "model_name": "LayoutModel",
          "model_module_version": "1.2.0",
          "state": {
            "_model_module": "@jupyter-widgets/base",
            "_model_module_version": "1.2.0",
            "_model_name": "LayoutModel",
            "_view_count": null,
            "_view_module": "@jupyter-widgets/base",
            "_view_module_version": "1.2.0",
            "_view_name": "LayoutView",
            "align_content": null,
            "align_items": null,
            "align_self": null,
            "border": null,
            "bottom": null,
            "display": null,
            "flex": null,
            "flex_flow": null,
            "grid_area": null,
            "grid_auto_columns": null,
            "grid_auto_flow": null,
            "grid_auto_rows": null,
            "grid_column": null,
            "grid_gap": null,
            "grid_row": null,
            "grid_template_areas": null,
            "grid_template_columns": null,
            "grid_template_rows": null,
            "height": null,
            "justify_content": null,
            "justify_items": null,
            "left": null,
            "margin": null,
            "max_height": null,
            "max_width": null,
            "min_height": null,
            "min_width": null,
            "object_fit": null,
            "object_position": null,
            "order": null,
            "overflow": null,
            "overflow_x": null,
            "overflow_y": null,
            "padding": null,
            "right": null,
            "top": null,
            "visibility": null,
            "width": null
          }
        },
        "56378cb34ef64deda887c2111be44a26": {
          "model_module": "@jupyter-widgets/controls",
          "model_name": "DescriptionStyleModel",
          "model_module_version": "1.5.0",
          "state": {
            "_model_module": "@jupyter-widgets/controls",
            "_model_module_version": "1.5.0",
            "_model_name": "DescriptionStyleModel",
            "_view_count": null,
            "_view_module": "@jupyter-widgets/base",
            "_view_module_version": "1.2.0",
            "_view_name": "StyleView",
            "description_width": ""
          }
        }
      }
    }
  },
  "cells": [
    {
      "cell_type": "markdown",
      "metadata": {
        "id": "view-in-github",
        "colab_type": "text"
      },
      "source": [
        "<a href=\"https://colab.research.google.com/github/bigyunicorn/fastai22/blob/main/lesson04/Getting_started_with_NLP_for_absolute_beginners.ipynb\" target=\"_parent\"><img src=\"https://colab.research.google.com/assets/colab-badge.svg\" alt=\"Open In Colab\"/></a>"
      ]
    },
    {
      "cell_type": "code",
      "source": [
        "# This is very specific to Google Colab to use HuggingFace(HF) tokenizer.\n",
        "# We absolutely need to use tokenizer for this notebook.\n",
        "# For the smooth experiment, I decided to put this code at the top so you can simply install it and restart the kernel as we need to do so.\n",
        "# Check this github ticket for more details: https://github.com/huggingface/transformers/issues/9750\n",
        "\n",
        "# Please restart your kernal after installing sentencepiece package.\n",
        "!pip install sentencepiece"
      ],
      "metadata": {
        "colab": {
          "base_uri": "https://localhost:8080/"
        },
        "id": "q_yFT0TxRZpM",
        "outputId": "3c79d7d7-1de2-4a13-ca5f-284bed273115"
      },
      "execution_count": 1,
      "outputs": [
        {
          "output_type": "stream",
          "name": "stdout",
          "text": [
            "Looking in indexes: https://pypi.org/simple, https://us-python.pkg.dev/colab-wheels/public/simple/\n",
            "Requirement already satisfied: sentencepiece in /usr/local/lib/python3.10/dist-packages (0.1.99)\n"
          ]
        }
      ]
    },
    {
      "cell_type": "markdown",
      "source": [
        "# Background\n",
        "I reorganized Jeremy's Notebook for [FastAI lesson04](https://www.kaggle.com/code/jhoward/getting-started-with-nlp-for-absolute-beginners#Training) so that my future self can easily recall the content and leverage it in the future.\n",
        "\n",
        "I am mainly focusing on the high level key points from the notes. All the code is directly coming from the Jeremy's notebook.\n",
        "\n",
        "___\n",
        "#### Notes:\n",
        "I wanted to use the coding aspect leveraing an AI coding tool such as copilot or codey. Unfortunately, I do not have the access to the GPU supported GitHub Codespce or the access to Codey in Google Colab as of now (06/21/23).\n",
        "\n",
        "I am planning to try it once either of the feature is available to me. I've tried creating [my notebook](https://github.com/bigyunicorn/fastai22/blob/main/lesson03/neural-network-from-scratch.ipynb) from the scratch by using github copilot for FastAI lesson 03. It was very helpful as I could focus on the essense of each notebook that Jeremy goes over in the lecture without worrying about the syntax too much.\n",
        "\n",
        "I highly recommend trying this method out to others if you have access.\n",
        "___\n",
        "#### Tips for taking the FastAI course.\n",
        "- Watch a lecture e2e one time.\n",
        "- Copy each given notebook and follow through on your own.\n",
        "- Think about main steps from the notebook and write those down (I usually use these main steps as the title of each section).\n",
        "- Expand each of the main steps and break it down smaller steps so you can easily ask the copilot to write the code.\n",
        "- Reproduce the results.\n",
        "- Publish your notebook to github.\n"
      ],
      "metadata": {
        "id": "5TUy79xz5MYT"
      }
    },
    {
      "cell_type": "markdown",
      "source": [
        "# A few key points from the lesson 04\n",
        "\n",
        "\n",
        "*   This notebook focuses on the e2e process of downloading an NLP dataset,\n",
        "* pre-processing the data to feed it to a model,\n",
        "* how to use HuggingFace transformer APIs to access to a pre-trained model, and\n",
        "* fine-tune our model with our data to solve the given problem.\n",
        "\n",
        "\n",
        "# Important Context\n",
        "* The given problem we are going to use:\n",
        "  - We are tasked with comparing two words or short phrases, and scoring them based on whether they're similar or not, based on which patent class they were used in. ([U.S. Patent Phrase to Phrase Matching](https://www.kaggle.com/competitions/us-patent-phrase-to-phrase-matching/data))\n",
        "     - Check the `data` tab in the kaggle dataset/competition to understand how the data looks like. But basically,\n",
        "     - Two words/short phrases are: `anchor` and `target`.\n",
        "     - Similarity: `score` column.\n",
        "     - Patent class: `context`.\n",
        "  - We are basically creating a predictive model that accepts texts as input and return a certain category (ex: 1, 0.75, 0.5, 0.25).\n",
        "* Interesting thing to know:  \n",
        "  - Language model is a model that predicts a word that will come next. But with our creativity, we can turn this model to solve a classification problem.\n",
        "  - To do so, we modify the given input in a way that can turn the problem to a classification problem.\n",
        "  - The method we are using is: we create a new column that contains the text that combines the values of columns we are interested in as the data seem to provide useful information to our model.\n"
      ],
      "metadata": {
        "id": "v1TL39r47gBN"
      }
    },
    {
      "cell_type": "markdown",
      "source": [
        "# A. Get the dataset and get familiar with the dataset.\n",
        "In this section, I am going to do the following steps to get the data that I need.\n",
        "- (1) Get the dataset from Kaggle\n",
        "    - Install the kaggle python package to use kaggle API to fetch the data.\n",
        "    - unzip the dataset\n",
        "- (2) Check the dataset structure & explore the data.\n",
        "  - If the file type is csv, use the pandas library to\n",
        "    - read the csv file.\n",
        "    - check the dataset description.\n",
        "        - understand the data features based on the description.\n",
        "- (3) Convert the input (each row) so that we can solve the problem as a NLP classifier.\n",
        "    - create a new column (input) that combines columns that need.\n",
        "    - Get the first few columns of the column."
      ],
      "metadata": {
        "id": "Ux70RTMf-qJY"
      }
    },
    {
      "cell_type": "markdown",
      "source": [
        "## Set up:\n",
        "- Make sure your kernel is running on GPU.\n",
        "- Get Kaggle API key from Kaggle (it will download kaggle.json).\n",
        "- Copy the key value and put it in the right below cell.\n",
        "- More details: https://www.kaggle.com/code/jhoward/getting-started-with-nlp-for-absolute-beginners#Introduction"
      ],
      "metadata": {
        "id": "b871Ta7-C4U4"
      }
    },
    {
      "cell_type": "code",
      "source": [
        "creds = '{\"username\":\"<your kaggle user name>\",\"key\":\"<your kaggle api key>\"}'"
      ],
      "metadata": {
        "id": "9AvIARfEDJZ-"
      },
      "execution_count": 2,
      "outputs": []
    },
    {
      "cell_type": "code",
      "source": [
        "# Remove this code when I am pushing it.\n",
        "creds = '{\"username\":\"bigyunicorn\",\"key\":\"82491e77e52a6a2821291545601d7f27\"}'"
      ],
      "metadata": {
        "id": "2L93KYStDPOY"
      },
      "execution_count": 3,
      "outputs": []
    },
    {
      "cell_type": "code",
      "source": [
        "# only need to run once.\n",
        "from pathlib import Path\n",
        "\n",
        "cred_path = Path('~/.kaggle/kaggle.json').expanduser()\n",
        "if not cred_path.exists():\n",
        "    cred_path.parent.mkdir(exist_ok=True)\n",
        "    cred_path.write_text(creds)\n",
        "    cred_path.chmod(0o600)"
      ],
      "metadata": {
        "id": "hZlA_uZkjbu9"
      },
      "execution_count": 4,
      "outputs": []
    },
    {
      "cell_type": "markdown",
      "source": [
        "Okay, now ready to use Kaggle API to download the dataset!\n",
        "\n",
        "Let's first install the kaggle package."
      ],
      "metadata": {
        "id": "1VL3cBKiDvdu"
      }
    },
    {
      "cell_type": "markdown",
      "source": [
        "## Step 1: Get the dataset from Kaggle"
      ],
      "metadata": {
        "id": "Z8SadZ6QFCc4"
      }
    },
    {
      "cell_type": "code",
      "execution_count": 5,
      "metadata": {
        "id": "wUsfjsdJio36",
        "colab": {
          "base_uri": "https://localhost:8080/"
        },
        "outputId": "12306d11-a0e6-4543-f2ba-912db6ada91d"
      },
      "outputs": [
        {
          "output_type": "stream",
          "name": "stdout",
          "text": [
            "Looking in indexes: https://pypi.org/simple, https://us-python.pkg.dev/colab-wheels/public/simple/\n",
            "Requirement already satisfied: kaggle in /usr/local/lib/python3.10/dist-packages (1.5.13)\n",
            "Requirement already satisfied: six>=1.10 in /usr/local/lib/python3.10/dist-packages (from kaggle) (1.16.0)\n",
            "Requirement already satisfied: certifi in /usr/local/lib/python3.10/dist-packages (from kaggle) (2022.12.7)\n",
            "Requirement already satisfied: python-dateutil in /usr/local/lib/python3.10/dist-packages (from kaggle) (2.8.2)\n",
            "Requirement already satisfied: requests in /usr/local/lib/python3.10/dist-packages (from kaggle) (2.27.1)\n",
            "Requirement already satisfied: tqdm in /usr/local/lib/python3.10/dist-packages (from kaggle) (4.65.0)\n",
            "Requirement already satisfied: python-slugify in /usr/local/lib/python3.10/dist-packages (from kaggle) (8.0.1)\n",
            "Requirement already satisfied: urllib3 in /usr/local/lib/python3.10/dist-packages (from kaggle) (1.26.15)\n",
            "Requirement already satisfied: text-unidecode>=1.3 in /usr/local/lib/python3.10/dist-packages (from python-slugify->kaggle) (1.3)\n",
            "Requirement already satisfied: charset-normalizer~=2.0.0 in /usr/local/lib/python3.10/dist-packages (from requests->kaggle) (2.0.12)\n",
            "Requirement already satisfied: idna<4,>=2.5 in /usr/local/lib/python3.10/dist-packages (from requests->kaggle) (3.4)\n"
          ]
        }
      ],
      "source": [
        "# install the kaggle package so we can use its API.\n",
        "!pip install kaggle"
      ]
    },
    {
      "cell_type": "code",
      "source": [
        "# The below is useful code to fetch dataset we are interested in from Kaggle.\n",
        "# you can use the same code if you are on kaggle.\n",
        "import os\n",
        "from pathlib import Path\n",
        "\n",
        "iskaggle = os.environ.get('KAGGLE_KERNEL_RUN_TYPE', '')\n",
        "if iskaggle: path = Path('../input/titanic')\n",
        "else:\n",
        "    path = Path('us-patent-phrase-to-phrase-matching') #kaggle dataset data tab has this name at the end.\n",
        "    if not path.exists():\n",
        "        import zipfile,kaggle\n",
        "        kaggle.api.competition_download_cli(str(path)) # this is the kagglge python library API\n",
        "        zipfile.ZipFile(f'{path}.zip').extractall(path) # extract all files from zip"
      ],
      "metadata": {
        "id": "RZ6xR4dGlbRQ"
      },
      "execution_count": 6,
      "outputs": []
    },
    {
      "cell_type": "markdown",
      "source": [
        "Note: the below is a bsh command to download the data. Github copilot might recommend this line.\n",
        "\n",
        "`!kaggle competitions download -c us-patent-phrase-to-phrase-matching`\n",
        "\n",
        "What i just did above is loading the kaggle dataset to google colab. The reason I chose this is a) I prefer google colab over kaggle and b) I think i have flexibility to get more GPU if i need to."
      ],
      "metadata": {
        "id": "2C-lenLkkTSA"
      }
    },
    {
      "cell_type": "markdown",
      "source": [
        "## Step 2: Check the dataset structure and explore the data."
      ],
      "metadata": {
        "id": "aasabkylFh4h"
      }
    },
    {
      "cell_type": "code",
      "source": [
        "# Now, let's see the file structure of Kaggle downloaded dataset\n",
        "!ls {path}"
      ],
      "metadata": {
        "colab": {
          "base_uri": "https://localhost:8080/"
        },
        "id": "0OTWXZFXB9xo",
        "outputId": "81401b15-62b2-4deb-8a31-6188894b0bac"
      },
      "execution_count": 7,
      "outputs": [
        {
          "output_type": "stream",
          "name": "stdout",
          "text": [
            "sample_submission.csv  test.csv  train.csv\n"
          ]
        }
      ]
    },
    {
      "cell_type": "markdown",
      "source": [
        "Once I confirmed that the files are in csv, I am going to use pandas, as it is for handling csv files. Google Colab already installed pandas so I can skip `pip install pandas` and directly import the library as pd."
      ],
      "metadata": {
        "id": "d7FKegt4CwCd"
      }
    },
    {
      "cell_type": "code",
      "source": [
        "import pandas as pd # Colab has it installed already."
      ],
      "metadata": {
        "id": "TCXPyGv-CKtB"
      },
      "execution_count": 9,
      "outputs": []
    },
    {
      "cell_type": "markdown",
      "source": [
        "Then we are going to read the csv file into this notebook."
      ],
      "metadata": {
        "id": "3At6FDmWCmEV"
      }
    },
    {
      "cell_type": "code",
      "source": [
        "df = pd.read_csv(path/'train.csv')"
      ],
      "metadata": {
        "id": "eRMhyogWDEbL"
      },
      "execution_count": 10,
      "outputs": []
    },
    {
      "cell_type": "code",
      "source": [
        "df"
      ],
      "metadata": {
        "colab": {
          "base_uri": "https://localhost:8080/",
          "height": 424
        },
        "id": "Byu_e6WNDG8l",
        "outputId": "7ba76c46-1f8c-4b4a-a96e-10575a86a398"
      },
      "execution_count": 11,
      "outputs": [
        {
          "output_type": "execute_result",
          "data": {
            "text/plain": [
              "                     id        anchor                  target context  score\n",
              "0      37d61fd2272659b1     abatement  abatement of pollution     A47   0.50\n",
              "1      7b9652b17b68b7a4     abatement          act of abating     A47   0.75\n",
              "2      36d72442aefd8232     abatement         active catalyst     A47   0.25\n",
              "3      5296b0c19e1ce60e     abatement     eliminating process     A47   0.50\n",
              "4      54c1e3b9184cb5b6     abatement           forest region     A47   0.00\n",
              "...                 ...           ...                     ...     ...    ...\n",
              "36468  8e1386cbefd7f245  wood article          wooden article     B44   1.00\n",
              "36469  42d9e032d1cd3242  wood article              wooden box     B44   0.50\n",
              "36470  208654ccb9e14fa3  wood article           wooden handle     B44   0.50\n",
              "36471  756ec035e694722b  wood article         wooden material     B44   0.75\n",
              "36472  8d135da0b55b8c88  wood article        wooden substrate     B44   0.50\n",
              "\n",
              "[36473 rows x 5 columns]"
            ],
            "text/html": [
              "\n",
              "  <div id=\"df-5a9045c1-d49d-45fe-b11c-16bdb928fb1d\">\n",
              "    <div class=\"colab-df-container\">\n",
              "      <div>\n",
              "<style scoped>\n",
              "    .dataframe tbody tr th:only-of-type {\n",
              "        vertical-align: middle;\n",
              "    }\n",
              "\n",
              "    .dataframe tbody tr th {\n",
              "        vertical-align: top;\n",
              "    }\n",
              "\n",
              "    .dataframe thead th {\n",
              "        text-align: right;\n",
              "    }\n",
              "</style>\n",
              "<table border=\"1\" class=\"dataframe\">\n",
              "  <thead>\n",
              "    <tr style=\"text-align: right;\">\n",
              "      <th></th>\n",
              "      <th>id</th>\n",
              "      <th>anchor</th>\n",
              "      <th>target</th>\n",
              "      <th>context</th>\n",
              "      <th>score</th>\n",
              "    </tr>\n",
              "  </thead>\n",
              "  <tbody>\n",
              "    <tr>\n",
              "      <th>0</th>\n",
              "      <td>37d61fd2272659b1</td>\n",
              "      <td>abatement</td>\n",
              "      <td>abatement of pollution</td>\n",
              "      <td>A47</td>\n",
              "      <td>0.50</td>\n",
              "    </tr>\n",
              "    <tr>\n",
              "      <th>1</th>\n",
              "      <td>7b9652b17b68b7a4</td>\n",
              "      <td>abatement</td>\n",
              "      <td>act of abating</td>\n",
              "      <td>A47</td>\n",
              "      <td>0.75</td>\n",
              "    </tr>\n",
              "    <tr>\n",
              "      <th>2</th>\n",
              "      <td>36d72442aefd8232</td>\n",
              "      <td>abatement</td>\n",
              "      <td>active catalyst</td>\n",
              "      <td>A47</td>\n",
              "      <td>0.25</td>\n",
              "    </tr>\n",
              "    <tr>\n",
              "      <th>3</th>\n",
              "      <td>5296b0c19e1ce60e</td>\n",
              "      <td>abatement</td>\n",
              "      <td>eliminating process</td>\n",
              "      <td>A47</td>\n",
              "      <td>0.50</td>\n",
              "    </tr>\n",
              "    <tr>\n",
              "      <th>4</th>\n",
              "      <td>54c1e3b9184cb5b6</td>\n",
              "      <td>abatement</td>\n",
              "      <td>forest region</td>\n",
              "      <td>A47</td>\n",
              "      <td>0.00</td>\n",
              "    </tr>\n",
              "    <tr>\n",
              "      <th>...</th>\n",
              "      <td>...</td>\n",
              "      <td>...</td>\n",
              "      <td>...</td>\n",
              "      <td>...</td>\n",
              "      <td>...</td>\n",
              "    </tr>\n",
              "    <tr>\n",
              "      <th>36468</th>\n",
              "      <td>8e1386cbefd7f245</td>\n",
              "      <td>wood article</td>\n",
              "      <td>wooden article</td>\n",
              "      <td>B44</td>\n",
              "      <td>1.00</td>\n",
              "    </tr>\n",
              "    <tr>\n",
              "      <th>36469</th>\n",
              "      <td>42d9e032d1cd3242</td>\n",
              "      <td>wood article</td>\n",
              "      <td>wooden box</td>\n",
              "      <td>B44</td>\n",
              "      <td>0.50</td>\n",
              "    </tr>\n",
              "    <tr>\n",
              "      <th>36470</th>\n",
              "      <td>208654ccb9e14fa3</td>\n",
              "      <td>wood article</td>\n",
              "      <td>wooden handle</td>\n",
              "      <td>B44</td>\n",
              "      <td>0.50</td>\n",
              "    </tr>\n",
              "    <tr>\n",
              "      <th>36471</th>\n",
              "      <td>756ec035e694722b</td>\n",
              "      <td>wood article</td>\n",
              "      <td>wooden material</td>\n",
              "      <td>B44</td>\n",
              "      <td>0.75</td>\n",
              "    </tr>\n",
              "    <tr>\n",
              "      <th>36472</th>\n",
              "      <td>8d135da0b55b8c88</td>\n",
              "      <td>wood article</td>\n",
              "      <td>wooden substrate</td>\n",
              "      <td>B44</td>\n",
              "      <td>0.50</td>\n",
              "    </tr>\n",
              "  </tbody>\n",
              "</table>\n",
              "<p>36473 rows × 5 columns</p>\n",
              "</div>\n",
              "      <button class=\"colab-df-convert\" onclick=\"convertToInteractive('df-5a9045c1-d49d-45fe-b11c-16bdb928fb1d')\"\n",
              "              title=\"Convert this dataframe to an interactive table.\"\n",
              "              style=\"display:none;\">\n",
              "        \n",
              "  <svg xmlns=\"http://www.w3.org/2000/svg\" height=\"24px\"viewBox=\"0 0 24 24\"\n",
              "       width=\"24px\">\n",
              "    <path d=\"M0 0h24v24H0V0z\" fill=\"none\"/>\n",
              "    <path d=\"M18.56 5.44l.94 2.06.94-2.06 2.06-.94-2.06-.94-.94-2.06-.94 2.06-2.06.94zm-11 1L8.5 8.5l.94-2.06 2.06-.94-2.06-.94L8.5 2.5l-.94 2.06-2.06.94zm10 10l.94 2.06.94-2.06 2.06-.94-2.06-.94-.94-2.06-.94 2.06-2.06.94z\"/><path d=\"M17.41 7.96l-1.37-1.37c-.4-.4-.92-.59-1.43-.59-.52 0-1.04.2-1.43.59L10.3 9.45l-7.72 7.72c-.78.78-.78 2.05 0 2.83L4 21.41c.39.39.9.59 1.41.59.51 0 1.02-.2 1.41-.59l7.78-7.78 2.81-2.81c.8-.78.8-2.07 0-2.86zM5.41 20L4 18.59l7.72-7.72 1.47 1.35L5.41 20z\"/>\n",
              "  </svg>\n",
              "      </button>\n",
              "      \n",
              "  <style>\n",
              "    .colab-df-container {\n",
              "      display:flex;\n",
              "      flex-wrap:wrap;\n",
              "      gap: 12px;\n",
              "    }\n",
              "\n",
              "    .colab-df-convert {\n",
              "      background-color: #E8F0FE;\n",
              "      border: none;\n",
              "      border-radius: 50%;\n",
              "      cursor: pointer;\n",
              "      display: none;\n",
              "      fill: #1967D2;\n",
              "      height: 32px;\n",
              "      padding: 0 0 0 0;\n",
              "      width: 32px;\n",
              "    }\n",
              "\n",
              "    .colab-df-convert:hover {\n",
              "      background-color: #E2EBFA;\n",
              "      box-shadow: 0px 1px 2px rgba(60, 64, 67, 0.3), 0px 1px 3px 1px rgba(60, 64, 67, 0.15);\n",
              "      fill: #174EA6;\n",
              "    }\n",
              "\n",
              "    [theme=dark] .colab-df-convert {\n",
              "      background-color: #3B4455;\n",
              "      fill: #D2E3FC;\n",
              "    }\n",
              "\n",
              "    [theme=dark] .colab-df-convert:hover {\n",
              "      background-color: #434B5C;\n",
              "      box-shadow: 0px 1px 3px 1px rgba(0, 0, 0, 0.15);\n",
              "      filter: drop-shadow(0px 1px 2px rgba(0, 0, 0, 0.3));\n",
              "      fill: #FFFFFF;\n",
              "    }\n",
              "  </style>\n",
              "\n",
              "      <script>\n",
              "        const buttonEl =\n",
              "          document.querySelector('#df-5a9045c1-d49d-45fe-b11c-16bdb928fb1d button.colab-df-convert');\n",
              "        buttonEl.style.display =\n",
              "          google.colab.kernel.accessAllowed ? 'block' : 'none';\n",
              "\n",
              "        async function convertToInteractive(key) {\n",
              "          const element = document.querySelector('#df-5a9045c1-d49d-45fe-b11c-16bdb928fb1d');\n",
              "          const dataTable =\n",
              "            await google.colab.kernel.invokeFunction('convertToInteractive',\n",
              "                                                     [key], {});\n",
              "          if (!dataTable) return;\n",
              "\n",
              "          const docLinkHtml = 'Like what you see? Visit the ' +\n",
              "            '<a target=\"_blank\" href=https://colab.research.google.com/notebooks/data_table.ipynb>data table notebook</a>'\n",
              "            + ' to learn more about interactive tables.';\n",
              "          element.innerHTML = '';\n",
              "          dataTable['output_type'] = 'display_data';\n",
              "          await google.colab.output.renderOutput(dataTable, element);\n",
              "          const docLink = document.createElement('div');\n",
              "          docLink.innerHTML = docLinkHtml;\n",
              "          element.appendChild(docLink);\n",
              "        }\n",
              "      </script>\n",
              "    </div>\n",
              "  </div>\n",
              "  "
            ]
          },
          "metadata": {},
          "execution_count": 11
        }
      ]
    },
    {
      "cell_type": "markdown",
      "source": [
        "By default describe method only includes numerical value. By having object, I can include string."
      ],
      "metadata": {
        "id": "NhOGrlxHFE-D"
      }
    },
    {
      "cell_type": "code",
      "source": [
        "df.describe(include='object')"
      ],
      "metadata": {
        "colab": {
          "base_uri": "https://localhost:8080/",
          "height": 175
        },
        "id": "WrNMnpKYDHtw",
        "outputId": "31f6e259-dac0-4512-e88f-297aa11e0ad0"
      },
      "execution_count": 12,
      "outputs": [
        {
          "output_type": "execute_result",
          "data": {
            "text/plain": [
              "                      id                       anchor       target context\n",
              "count              36473                        36473        36473   36473\n",
              "unique             36473                          733        29340     106\n",
              "top     37d61fd2272659b1  component composite coating  composition     H01\n",
              "freq                   1                          152           24    2186"
            ],
            "text/html": [
              "\n",
              "  <div id=\"df-6aaacd21-9a4c-4ff1-b79d-4a8f680adf92\">\n",
              "    <div class=\"colab-df-container\">\n",
              "      <div>\n",
              "<style scoped>\n",
              "    .dataframe tbody tr th:only-of-type {\n",
              "        vertical-align: middle;\n",
              "    }\n",
              "\n",
              "    .dataframe tbody tr th {\n",
              "        vertical-align: top;\n",
              "    }\n",
              "\n",
              "    .dataframe thead th {\n",
              "        text-align: right;\n",
              "    }\n",
              "</style>\n",
              "<table border=\"1\" class=\"dataframe\">\n",
              "  <thead>\n",
              "    <tr style=\"text-align: right;\">\n",
              "      <th></th>\n",
              "      <th>id</th>\n",
              "      <th>anchor</th>\n",
              "      <th>target</th>\n",
              "      <th>context</th>\n",
              "    </tr>\n",
              "  </thead>\n",
              "  <tbody>\n",
              "    <tr>\n",
              "      <th>count</th>\n",
              "      <td>36473</td>\n",
              "      <td>36473</td>\n",
              "      <td>36473</td>\n",
              "      <td>36473</td>\n",
              "    </tr>\n",
              "    <tr>\n",
              "      <th>unique</th>\n",
              "      <td>36473</td>\n",
              "      <td>733</td>\n",
              "      <td>29340</td>\n",
              "      <td>106</td>\n",
              "    </tr>\n",
              "    <tr>\n",
              "      <th>top</th>\n",
              "      <td>37d61fd2272659b1</td>\n",
              "      <td>component composite coating</td>\n",
              "      <td>composition</td>\n",
              "      <td>H01</td>\n",
              "    </tr>\n",
              "    <tr>\n",
              "      <th>freq</th>\n",
              "      <td>1</td>\n",
              "      <td>152</td>\n",
              "      <td>24</td>\n",
              "      <td>2186</td>\n",
              "    </tr>\n",
              "  </tbody>\n",
              "</table>\n",
              "</div>\n",
              "      <button class=\"colab-df-convert\" onclick=\"convertToInteractive('df-6aaacd21-9a4c-4ff1-b79d-4a8f680adf92')\"\n",
              "              title=\"Convert this dataframe to an interactive table.\"\n",
              "              style=\"display:none;\">\n",
              "        \n",
              "  <svg xmlns=\"http://www.w3.org/2000/svg\" height=\"24px\"viewBox=\"0 0 24 24\"\n",
              "       width=\"24px\">\n",
              "    <path d=\"M0 0h24v24H0V0z\" fill=\"none\"/>\n",
              "    <path d=\"M18.56 5.44l.94 2.06.94-2.06 2.06-.94-2.06-.94-.94-2.06-.94 2.06-2.06.94zm-11 1L8.5 8.5l.94-2.06 2.06-.94-2.06-.94L8.5 2.5l-.94 2.06-2.06.94zm10 10l.94 2.06.94-2.06 2.06-.94-2.06-.94-.94-2.06-.94 2.06-2.06.94z\"/><path d=\"M17.41 7.96l-1.37-1.37c-.4-.4-.92-.59-1.43-.59-.52 0-1.04.2-1.43.59L10.3 9.45l-7.72 7.72c-.78.78-.78 2.05 0 2.83L4 21.41c.39.39.9.59 1.41.59.51 0 1.02-.2 1.41-.59l7.78-7.78 2.81-2.81c.8-.78.8-2.07 0-2.86zM5.41 20L4 18.59l7.72-7.72 1.47 1.35L5.41 20z\"/>\n",
              "  </svg>\n",
              "      </button>\n",
              "      \n",
              "  <style>\n",
              "    .colab-df-container {\n",
              "      display:flex;\n",
              "      flex-wrap:wrap;\n",
              "      gap: 12px;\n",
              "    }\n",
              "\n",
              "    .colab-df-convert {\n",
              "      background-color: #E8F0FE;\n",
              "      border: none;\n",
              "      border-radius: 50%;\n",
              "      cursor: pointer;\n",
              "      display: none;\n",
              "      fill: #1967D2;\n",
              "      height: 32px;\n",
              "      padding: 0 0 0 0;\n",
              "      width: 32px;\n",
              "    }\n",
              "\n",
              "    .colab-df-convert:hover {\n",
              "      background-color: #E2EBFA;\n",
              "      box-shadow: 0px 1px 2px rgba(60, 64, 67, 0.3), 0px 1px 3px 1px rgba(60, 64, 67, 0.15);\n",
              "      fill: #174EA6;\n",
              "    }\n",
              "\n",
              "    [theme=dark] .colab-df-convert {\n",
              "      background-color: #3B4455;\n",
              "      fill: #D2E3FC;\n",
              "    }\n",
              "\n",
              "    [theme=dark] .colab-df-convert:hover {\n",
              "      background-color: #434B5C;\n",
              "      box-shadow: 0px 1px 3px 1px rgba(0, 0, 0, 0.15);\n",
              "      filter: drop-shadow(0px 1px 2px rgba(0, 0, 0, 0.3));\n",
              "      fill: #FFFFFF;\n",
              "    }\n",
              "  </style>\n",
              "\n",
              "      <script>\n",
              "        const buttonEl =\n",
              "          document.querySelector('#df-6aaacd21-9a4c-4ff1-b79d-4a8f680adf92 button.colab-df-convert');\n",
              "        buttonEl.style.display =\n",
              "          google.colab.kernel.accessAllowed ? 'block' : 'none';\n",
              "\n",
              "        async function convertToInteractive(key) {\n",
              "          const element = document.querySelector('#df-6aaacd21-9a4c-4ff1-b79d-4a8f680adf92');\n",
              "          const dataTable =\n",
              "            await google.colab.kernel.invokeFunction('convertToInteractive',\n",
              "                                                     [key], {});\n",
              "          if (!dataTable) return;\n",
              "\n",
              "          const docLinkHtml = 'Like what you see? Visit the ' +\n",
              "            '<a target=\"_blank\" href=https://colab.research.google.com/notebooks/data_table.ipynb>data table notebook</a>'\n",
              "            + ' to learn more about interactive tables.';\n",
              "          element.innerHTML = '';\n",
              "          dataTable['output_type'] = 'display_data';\n",
              "          await google.colab.output.renderOutput(dataTable, element);\n",
              "          const docLink = document.createElement('div');\n",
              "          docLink.innerHTML = docLinkHtml;\n",
              "          element.appendChild(docLink);\n",
              "        }\n",
              "      </script>\n",
              "    </div>\n",
              "  </div>\n",
              "  "
            ]
          },
          "metadata": {},
          "execution_count": 12
        }
      ]
    },
    {
      "cell_type": "markdown",
      "source": [
        "We will learn more about how to explore data in my separate notebook that will cover Jeremy's notebook, [Iterate like a grandmaster!](https://www.kaggle.com/code/jhoward/iterate-like-a-grandmaster/comments). At this point, just get an idea over columns that we care."
      ],
      "metadata": {
        "id": "pLzoidV6Fz18"
      }
    },
    {
      "cell_type": "markdown",
      "source": [
        "## Step 3: Convert the input (each row) so that we can solve the problem as a NLP classifier."
      ],
      "metadata": {
        "id": "25d_cb_mHDEW"
      }
    },
    {
      "cell_type": "markdown",
      "source": [
        "As an effort to convert the problem into NLP classification problem, we are going to concatenate each column value and create a new string per each row. This new string will be saved as a separate column called 'input'.\n",
        "\n",
        "The separator (ex: TEXT1, TEXT2, etc) was randomly chosen :). Spoiler: we will exlore different separators in another notebook."
      ],
      "metadata": {
        "id": "ne1YrypcDMGv"
      }
    },
    {
      "cell_type": "code",
      "source": [
        "df['input'] = \"TEXT1: \" + df.context +\"; TEXT2: \" + df.target+ \"; ANC1: \" + df.anchor"
      ],
      "metadata": {
        "id": "NEtHR6jHEvXg"
      },
      "execution_count": 13,
      "outputs": []
    },
    {
      "cell_type": "code",
      "source": [
        "# Let's see a few first rows of this column.\n",
        "df.input.head() # dotted notation is one way to access a column in dataframe."
      ],
      "metadata": {
        "colab": {
          "base_uri": "https://localhost:8080/"
        },
        "id": "PsTBXezaGrxY",
        "outputId": "6e83fcb9-5989-443a-ed01-920423eee942"
      },
      "execution_count": 14,
      "outputs": [
        {
          "output_type": "execute_result",
          "data": {
            "text/plain": [
              "0    TEXT1: A47; TEXT2: abatement of pollution; ANC...\n",
              "1    TEXT1: A47; TEXT2: act of abating; ANC1: abate...\n",
              "2    TEXT1: A47; TEXT2: active catalyst; ANC1: abat...\n",
              "3    TEXT1: A47; TEXT2: eliminating process; ANC1: ...\n",
              "4    TEXT1: A47; TEXT2: forest region; ANC1: abatement\n",
              "Name: input, dtype: object"
            ]
          },
          "metadata": {},
          "execution_count": 14
        }
      ]
    },
    {
      "cell_type": "code",
      "source": [
        "df['input'].head() # Btw, We can also access it like a dictionary"
      ],
      "metadata": {
        "colab": {
          "base_uri": "https://localhost:8080/"
        },
        "id": "0FopzneEGthV",
        "outputId": "ceec8bfa-0b40-4131-d30a-ce609d1c9b79"
      },
      "execution_count": 15,
      "outputs": [
        {
          "output_type": "execute_result",
          "data": {
            "text/plain": [
              "0    TEXT1: A47; TEXT2: abatement of pollution; ANC...\n",
              "1    TEXT1: A47; TEXT2: act of abating; ANC1: abate...\n",
              "2    TEXT1: A47; TEXT2: active catalyst; ANC1: abat...\n",
              "3    TEXT1: A47; TEXT2: eliminating process; ANC1: ...\n",
              "4    TEXT1: A47; TEXT2: forest region; ANC1: abatement\n",
              "Name: input, dtype: object"
            ]
          },
          "metadata": {},
          "execution_count": 15
        }
      ]
    },
    {
      "cell_type": "markdown",
      "source": [
        "# B. Fine-tune an NLP Model with our data.\n",
        "\n",
        "In this section, I am going to do the following steps to fine-tune an NLP model with our data.\n",
        "- (1) Choose an NLP model that I want to use.\n",
        "- (2) Get a tokenizer object for the model by using the hugging face transformer’s autoknezier.\n",
        "- (3) Prepare the inputs and the labels.\n",
        "- (4) Prepare the training set and validation set.\n",
        "- (5) Decide what metrics to use.\n",
        "- (6) Train the model with our pre-processed data.\n",
        "- (7) Prepare the test set and do inference using the test data set.\n",
        "- (8) Expansion: What we can do to improve the metrics?  "
      ],
      "metadata": {
        "id": "G7Au2hnnMa9C"
      }
    },
    {
      "cell_type": "markdown",
      "source": [
        "## Set up\n",
        "\n",
        "In this chapter, the way we are going to use is using [HuggingFace Transformers](https://huggingface.co/docs/transformers/index) library. This library provides a simple API to apply a wide range of state-of-the art pretrained NLP [models](https://huggingface.co/models) to perform tasks (ex: text classification, summarization, translation and more).\n",
        "\n",
        "As such, we need to understand how this Transformers library API works.\n",
        "\n",
        "First and foremost, it accepts the data in the type called Dataset.\n"
      ],
      "metadata": {
        "id": "Ea92SpI0Gx_B"
      }
    },
    {
      "cell_type": "markdown",
      "source": [
        "A lot of utilites to work on Dataset are available via [Datasets Huggingface library](https://huggingface.co/docs/datasets/index).\n",
        "\n",
        "Datasets library does provide a way to load the csv data simliar to Pands. According to ChatGPT, pandas is a good chocie for a small and simple CSV files (simple in a sense that the data that the file contains are straightforward data type unlike JSONs). As for our data, we confirmed that it is pretty small and the data itself is pretty primitive datatype, we decide to load csv files via pandas.\n",
        "\n",
        "This means we need to convert Dataframe object to Dataset.\n"
      ],
      "metadata": {
        "id": "HiMp82lNOUjK"
      }
    },
    {
      "cell_type": "code",
      "source": [
        " #installing huggingface dataset libraries; https://huggingface.co/docs/datasets/index\n",
        "!pip install -q datasets"
      ],
      "metadata": {
        "id": "ndjXwvjClzI6"
      },
      "execution_count": 16,
      "outputs": []
    },
    {
      "cell_type": "code",
      "source": [
        "# Convert panda's dataframe to HuggingFace Datset type.\n",
        "from datasets import Dataset\n",
        "ds = Dataset.from_pandas(df)"
      ],
      "metadata": {
        "id": "m7AeRvuDHIcJ"
      },
      "execution_count": 17,
      "outputs": []
    },
    {
      "cell_type": "code",
      "source": [
        "# Let's see how Dataset object looks like.\n",
        "ds"
      ],
      "metadata": {
        "colab": {
          "base_uri": "https://localhost:8080/"
        },
        "id": "08gwleN2NtBg",
        "outputId": "0fd8df18-79ec-4142-bf68-78ce05008654"
      },
      "execution_count": 18,
      "outputs": [
        {
          "output_type": "execute_result",
          "data": {
            "text/plain": [
              "Dataset({\n",
              "    features: ['id', 'anchor', 'target', 'context', 'score', 'input'],\n",
              "    num_rows: 36473\n",
              "})"
            ]
          },
          "metadata": {},
          "execution_count": 18
        }
      ]
    },
    {
      "cell_type": "code",
      "source": [
        "# Let's see how the `input` column looks like in this Dataset ds\n",
        "# because each row in this column is the input we are going to give it to our model.\n",
        "# printing out only five rows as the whole set is pretty large.\n",
        "ds['input'][0:5]"
      ],
      "metadata": {
        "colab": {
          "base_uri": "https://localhost:8080/"
        },
        "id": "FSU_avGXXe6K",
        "outputId": "ac1ca810-42ed-4073-c77e-88e4990a15d0"
      },
      "execution_count": 19,
      "outputs": [
        {
          "output_type": "execute_result",
          "data": {
            "text/plain": [
              "['TEXT1: A47; TEXT2: abatement of pollution; ANC1: abatement',\n",
              " 'TEXT1: A47; TEXT2: act of abating; ANC1: abatement',\n",
              " 'TEXT1: A47; TEXT2: active catalyst; ANC1: abatement',\n",
              " 'TEXT1: A47; TEXT2: eliminating process; ANC1: abatement',\n",
              " 'TEXT1: A47; TEXT2: forest region; ANC1: abatement']"
            ]
          },
          "metadata": {},
          "execution_count": 19
        }
      ]
    },
    {
      "cell_type": "markdown",
      "source": [
        "## Step 1: Choose an NLP model that I want to use.\n",
        "As you can see, each input is in a text. The deep learning model expects its inputs to be in numerical value. As such, we need to some how represent this data as numbers.\n",
        "\n",
        "To convert the text data to be numeric value, we need to go through two processes: tokenization and numericalization.  \n",
        "\n",
        "\n",
        "*   Tokenization: Split each text up into words (or actually, as we'll see, into tokens)\n",
        "*   Numericliazion: Convert each word (or token) into a number. (input ids)"
      ],
      "metadata": {
        "id": "8V_kYxIROHR_"
      }
    },
    {
      "cell_type": "markdown",
      "source": [
        " How these processes are handled are very specific to models. So we need to choose a model first before we are going to go through this tokenization & numericliazation process.\n",
        "\n",
        "In this chapter, Jeremy chooses [microsoft/deberta-v3-small](https://huggingface.co/microsoft/deberta-v3-small).\n",
        "\n",
        "I was mainly curious about how to choose a model. And for me, the way I think it will work is checking the available models on HuggingFace. The list of models is available on Transformers documentation. ([link](https://huggingface.co/docs/transformers/v4.28.1/en/model_doc/deberta#overview)).\n",
        "\n",
        "How to find the full name is just using the name and search it and it will pop up. I think if the model is poular enough, i think there wil be a link (ALl model pages) that I can check out. I believe it is the same as the search results.\n",
        "\n",
        "![image.png](data:image/png;base64,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)"
      ],
      "metadata": {
        "id": "1PLLS13TNu8t"
      }
    },
    {
      "cell_type": "code",
      "source": [
        "model_nm = 'microsoft/deberta-v3-small'"
      ],
      "metadata": {
        "id": "kRd_FDY-SCVw"
      },
      "execution_count": 20,
      "outputs": []
    },
    {
      "cell_type": "markdown",
      "source": [
        "## Step 2:Get a tokenizer object for the model by using the hugging face transformer’s autoknezier.\n",
        "\n",
        "Remember why we chose the model? It is because we want to token the input. But how do we know the right way to tokenize the input for microsoft/deberta-v3-small?\n",
        "\n",
        "This is where HuggingFace Transformers' library [**AutoTokenizer**](https://huggingface.co/docs/transformers/main/en/model_doc/auto#transformers.AutoTokenizer) class is useful.\n",
        "\n",
        "It is a class from Transformers library that provides a convenient way to automatically load the appropriate tokenizer for a given pre-trained model.\n",
        "\n",
        "To use it, let's first install HuggingFace transformers."
      ],
      "metadata": {
        "id": "wZf-085cUWmq"
      }
    },
    {
      "cell_type": "code",
      "source": [
        "!pip install transformers[torch] # Google colab explicitly ask to install the transformers in this way as of 06/21/23."
      ],
      "metadata": {
        "colab": {
          "base_uri": "https://localhost:8080/"
        },
        "id": "7zCQKVLoVu54",
        "outputId": "15d8618a-81ac-410a-cae8-db40470ba911"
      },
      "execution_count": 21,
      "outputs": [
        {
          "output_type": "stream",
          "name": "stdout",
          "text": [
            "Looking in indexes: https://pypi.org/simple, https://us-python.pkg.dev/colab-wheels/public/simple/\n",
            "Requirement already satisfied: transformers[torch] in /usr/local/lib/python3.10/dist-packages (4.30.2)\n",
            "Requirement already satisfied: filelock in /usr/local/lib/python3.10/dist-packages (from transformers[torch]) (3.12.0)\n",
            "Requirement already satisfied: huggingface-hub<1.0,>=0.14.1 in /usr/local/lib/python3.10/dist-packages (from transformers[torch]) (0.15.1)\n",
            "Requirement already satisfied: numpy>=1.17 in /usr/local/lib/python3.10/dist-packages (from transformers[torch]) (1.22.4)\n",
            "Requirement already satisfied: packaging>=20.0 in /usr/local/lib/python3.10/dist-packages (from transformers[torch]) (23.1)\n",
            "Requirement already satisfied: pyyaml>=5.1 in /usr/local/lib/python3.10/dist-packages (from transformers[torch]) (6.0)\n",
            "Requirement already satisfied: regex!=2019.12.17 in /usr/local/lib/python3.10/dist-packages (from transformers[torch]) (2022.10.31)\n",
            "Requirement already satisfied: requests in /usr/local/lib/python3.10/dist-packages (from transformers[torch]) (2.27.1)\n",
            "Requirement already satisfied: tokenizers!=0.11.3,<0.14,>=0.11.1 in /usr/local/lib/python3.10/dist-packages (from transformers[torch]) (0.13.3)\n",
            "Requirement already satisfied: safetensors>=0.3.1 in /usr/local/lib/python3.10/dist-packages (from transformers[torch]) (0.3.1)\n",
            "Requirement already satisfied: tqdm>=4.27 in /usr/local/lib/python3.10/dist-packages (from transformers[torch]) (4.65.0)\n",
            "Requirement already satisfied: torch!=1.12.0,>=1.9 in /usr/local/lib/python3.10/dist-packages (from transformers[torch]) (2.0.1+cu118)\n",
            "Requirement already satisfied: accelerate>=0.20.2 in /usr/local/lib/python3.10/dist-packages (from transformers[torch]) (0.20.3)\n",
            "Requirement already satisfied: psutil in /usr/local/lib/python3.10/dist-packages (from accelerate>=0.20.2->transformers[torch]) (5.9.5)\n",
            "Requirement already satisfied: fsspec in /usr/local/lib/python3.10/dist-packages (from huggingface-hub<1.0,>=0.14.1->transformers[torch]) (2023.4.0)\n",
            "Requirement already satisfied: typing-extensions>=3.7.4.3 in /usr/local/lib/python3.10/dist-packages (from huggingface-hub<1.0,>=0.14.1->transformers[torch]) (4.5.0)\n",
            "Requirement already satisfied: sympy in /usr/local/lib/python3.10/dist-packages (from torch!=1.12.0,>=1.9->transformers[torch]) (1.11.1)\n",
            "Requirement already satisfied: networkx in /usr/local/lib/python3.10/dist-packages (from torch!=1.12.0,>=1.9->transformers[torch]) (3.1)\n",
            "Requirement already satisfied: jinja2 in /usr/local/lib/python3.10/dist-packages (from torch!=1.12.0,>=1.9->transformers[torch]) (3.1.2)\n",
            "Requirement already satisfied: triton==2.0.0 in /usr/local/lib/python3.10/dist-packages (from torch!=1.12.0,>=1.9->transformers[torch]) (2.0.0)\n",
            "Requirement already satisfied: cmake in /usr/local/lib/python3.10/dist-packages (from triton==2.0.0->torch!=1.12.0,>=1.9->transformers[torch]) (3.25.2)\n",
            "Requirement already satisfied: lit in /usr/local/lib/python3.10/dist-packages (from triton==2.0.0->torch!=1.12.0,>=1.9->transformers[torch]) (16.0.5)\n",
            "Requirement already satisfied: urllib3<1.27,>=1.21.1 in /usr/local/lib/python3.10/dist-packages (from requests->transformers[torch]) (1.26.15)\n",
            "Requirement already satisfied: certifi>=2017.4.17 in /usr/local/lib/python3.10/dist-packages (from requests->transformers[torch]) (2022.12.7)\n",
            "Requirement already satisfied: charset-normalizer~=2.0.0 in /usr/local/lib/python3.10/dist-packages (from requests->transformers[torch]) (2.0.12)\n",
            "Requirement already satisfied: idna<4,>=2.5 in /usr/local/lib/python3.10/dist-packages (from requests->transformers[torch]) (3.4)\n",
            "Requirement already satisfied: MarkupSafe>=2.0 in /usr/local/lib/python3.10/dist-packages (from jinja2->torch!=1.12.0,>=1.9->transformers[torch]) (2.1.2)\n",
            "Requirement already satisfied: mpmath>=0.19 in /usr/local/lib/python3.10/dist-packages (from sympy->torch!=1.12.0,>=1.9->transformers[torch]) (1.3.0)\n"
          ]
        }
      ]
    },
    {
      "cell_type": "code",
      "source": [
        "# Create HF AutoTokenizer to get the tokenizer object specific to the model we chose.\n",
        "from transformers import AutoTokenizer\n",
        "tokz = AutoTokenizer.from_pretrained(model_nm)"
      ],
      "metadata": {
        "colab": {
          "base_uri": "https://localhost:8080/",
          "height": 202,
          "referenced_widgets": [
            "923360d9a1994d11a2474afd66b6182b",
            "258d780cb3054930b2ffad1c2347da24",
            "93a9ac00e13c4961b256977eb057aa7a",
            "67289556523247c6ba2535545d441283",
            "3baa6917ab7e4a89afcc4541cabe7003",
            "6770a09c41b04b2087aedea4ed2efc6f",
            "08b75aaf87ae437f866fc409027a7d9e",
            "a6de2cea629a418e946511c6828b0610",
            "e5d73a00ce6b430e82cd27035d7ca9e7",
            "0012f4015e6f44a09cfcd031afa882c8",
            "a324f1944a734bbbbbfacdeacf37d304",
            "e795a374859848a7a641ffcade1cf651",
            "7a17d96d46e9432f80386881e7897c7f",
            "095ab35cc9324d5fbd9503738ca13c9c",
            "107c68aaf8fc435d808176282b2f3167",
            "515bbaaa0d0b4916897eb0679d718e5f",
            "7e1d6df971a441c3a07c6592c2a86a79",
            "81cc75936d494cc89d7694b38d68b88e",
            "346e9d7a31e14d1780b3b65b70f3fe09",
            "49200f448f224971b8d861c7c8d4e6a4",
            "ceb7e649064447a89be0dadc5723121f",
            "bd55b0fd7e654a48ba9127b1e0d654c9",
            "c273eaf421624292a5983133b696ed9b",
            "58a57689ffbd4219b2be0a9c45ae4449",
            "c17c37fd128c4695805b1a018a5016bd",
            "caa3086c13f64adba7ed15f187a6471a",
            "50e765cf634743b78d4c2d7cc0c319fe",
            "0d0f52cbb76a40ad9eeba7dd36425ff9",
            "b8de2c659f9041d98f30904b978b3aaa",
            "46527240e3f64edb8e3f77f9bb682b07",
            "07783eea6791427ab31e10e81ea3e8e0",
            "cf963c4fa1ee45f787df3d60605f8988",
            "92df38320dda41d0a801fb72c9c8ee57"
          ]
        },
        "id": "R10xvJbiVJJ0",
        "outputId": "6f99fe10-071b-4740-e66f-cb55dd4a2b54"
      },
      "execution_count": 23,
      "outputs": [
        {
          "output_type": "display_data",
          "data": {
            "text/plain": [
              "Downloading (…)okenizer_config.json:   0%|          | 0.00/52.0 [00:00<?, ?B/s]"
            ],
            "application/vnd.jupyter.widget-view+json": {
              "version_major": 2,
              "version_minor": 0,
              "model_id": "923360d9a1994d11a2474afd66b6182b"
            }
          },
          "metadata": {}
        },
        {
          "output_type": "display_data",
          "data": {
            "text/plain": [
              "Downloading (…)lve/main/config.json:   0%|          | 0.00/578 [00:00<?, ?B/s]"
            ],
            "application/vnd.jupyter.widget-view+json": {
              "version_major": 2,
              "version_minor": 0,
              "model_id": "e795a374859848a7a641ffcade1cf651"
            }
          },
          "metadata": {}
        },
        {
          "output_type": "display_data",
          "data": {
            "text/plain": [
              "Downloading spm.model:   0%|          | 0.00/2.46M [00:00<?, ?B/s]"
            ],
            "application/vnd.jupyter.widget-view+json": {
              "version_major": 2,
              "version_minor": 0,
              "model_id": "c273eaf421624292a5983133b696ed9b"
            }
          },
          "metadata": {}
        },
        {
          "output_type": "stream",
          "name": "stderr",
          "text": [
            "Special tokens have been added in the vocabulary, make sure the associated word embeddings are fine-tuned or trained.\n",
            "/usr/local/lib/python3.10/dist-packages/transformers/convert_slow_tokenizer.py:454: UserWarning: The sentencepiece tokenizer that you are converting to a fast tokenizer uses the byte fallback option which is not implemented in the fast tokenizers. In practice this means that the fast version of the tokenizer can produce unknown tokens whereas the sentencepiece version would have converted these unknown tokens into a sequence of byte tokens matching the original piece of text.\n",
            "  warnings.warn(\n",
            "Special tokens have been added in the vocabulary, make sure the associated word embeddings are fine-tuned or trained.\n"
          ]
        }
      ]
    },
    {
      "cell_type": "code",
      "source": [
        "# Let's see what HF tokenizer object for our model looks like.\n",
        "tokz"
      ],
      "metadata": {
        "colab": {
          "base_uri": "https://localhost:8080/"
        },
        "id": "B82HkFchVUEr",
        "outputId": "3fc4778c-1fbb-4d91-b5b8-57e05b021a5c"
      },
      "execution_count": 24,
      "outputs": [
        {
          "output_type": "execute_result",
          "data": {
            "text/plain": [
              "DebertaV2TokenizerFast(name_or_path='microsoft/deberta-v3-small', vocab_size=128000, model_max_length=1000000000000000019884624838656, is_fast=True, padding_side='right', truncation_side='right', special_tokens={'bos_token': '[CLS]', 'eos_token': '[SEP]', 'unk_token': '[UNK]', 'sep_token': '[SEP]', 'pad_token': '[PAD]', 'cls_token': '[CLS]', 'mask_token': '[MASK]'}, clean_up_tokenization_spaces=True)"
            ]
          },
          "metadata": {},
          "execution_count": 24
        }
      ]
    },
    {
      "cell_type": "code",
      "source": [
        "# The tokenizer has a method calls `tokenize`, which accetps a text that we want to tokenize.\n",
        "tokz.tokenize(\"hi my name is Yunny, and this is my own GoogleColab based on my own understanding.\")"
      ],
      "metadata": {
        "colab": {
          "base_uri": "https://localhost:8080/"
        },
        "id": "FB56_k95W-3F",
        "outputId": "06ee787f-974e-4014-f119-07f3823c4f0b"
      },
      "execution_count": 25,
      "outputs": [
        {
          "output_type": "execute_result",
          "data": {
            "text/plain": [
              "['▁hi',\n",
              " '▁my',\n",
              " '▁name',\n",
              " '▁is',\n",
              " '▁Yun',\n",
              " 'ny',\n",
              " ',',\n",
              " '▁and',\n",
              " '▁this',\n",
              " '▁is',\n",
              " '▁my',\n",
              " '▁own',\n",
              " '▁Google',\n",
              " 'Cola',\n",
              " 'b',\n",
              " '▁based',\n",
              " '▁on',\n",
              " '▁my',\n",
              " '▁own',\n",
              " '▁understanding',\n",
              " '.']"
            ]
          },
          "metadata": {},
          "execution_count": 25
        }
      ]
    },
    {
      "cell_type": "markdown",
      "source": [
        "If we put the text directly as a tokz parameter, we will see three dictionaries.\n",
        "`input_ids`, `token_type_ids`, and `attention_mask`.\n",
        "\n",
        "\n",
        "The numerical representation of each token is in `input_ids`, and this is what we want to get."
      ],
      "metadata": {
        "id": "JRkKx-nRUnvS"
      }
    },
    {
      "cell_type": "code",
      "source": [
        "tokz(\"hi my name is Yunny, and this is my own GoogleColab based on my own understanding.\")"
      ],
      "metadata": {
        "colab": {
          "base_uri": "https://localhost:8080/"
        },
        "id": "0_8tIB94Jyk6",
        "outputId": "87e00e8f-1c9b-496d-e22a-5e6517bec800"
      },
      "execution_count": 29,
      "outputs": [
        {
          "output_type": "execute_result",
          "data": {
            "text/plain": [
              "{'input_ids': [1, 8595, 312, 601, 269, 25263, 7087, 261, 263, 291, 269, 312, 451, 1354, 22110, 1285, 636, 277, 312, 451, 1507, 260, 2], 'token_type_ids': [0, 0, 0, 0, 0, 0, 0, 0, 0, 0, 0, 0, 0, 0, 0, 0, 0, 0, 0, 0, 0, 0, 0], 'attention_mask': [1, 1, 1, 1, 1, 1, 1, 1, 1, 1, 1, 1, 1, 1, 1, 1, 1, 1, 1, 1, 1, 1, 1]}"
            ]
          },
          "metadata": {},
          "execution_count": 29
        }
      ]
    },
    {
      "cell_type": "markdown",
      "source": [
        "## Step 3: Prepare the inputs and the labels.\n",
        "Aight so now we have a tokenizer for the model we are going to use!\n",
        "\n",
        "### 3-(1): Prepare the inputs.\n",
        "Now we want to tokenize & get `input_ids` for every single row in `input` column of the dataset.\n",
        "\n",
        "When we apply a function to every element in the iterable, we can use python `map` function.\n",
        "`map(fun, iter)`.\n",
        "\n",
        "HF introduced [`map` utility method](https://huggingface.co/docs/datasets/process#map) that we can levearge for HF dataset.  \n",
        "\n",
        "```\n",
        " The primary purpose of map() is to speed up processing functions. It allows you to apply a processing function to each example in a dataset, independently or in batches. This function can even create new rows and columns.\n",
        "```\n",
        "This class needs a single function that will be applied to each element or per batch.\n",
        "\n",
        "So let's create a function that creates a tokz object for each row in `input` column. One tip here is that we have so many rows. So applying the function for each can take time. As such we are going to apply this per batch by using `batched=True`."
      ],
      "metadata": {
        "id": "_10kq6ZtXLoY"
      }
    },
    {
      "cell_type": "code",
      "source": [
        "# Define a function that we want to apply per element or per batch of a datset.\n",
        "def tok_func(x): return tokz(x[\"input\"])"
      ],
      "metadata": {
        "id": "nkOc1l6bXELF"
      },
      "execution_count": 31,
      "outputs": []
    },
    {
      "cell_type": "code",
      "source": [
        "# Note: ds.map creates a new dataset.\n",
        "# This new dataset is called `tok_ds` which has the inputs as the numerical values.\n",
        "tok_ds = ds.map(tok_func, batched=True)"
      ],
      "metadata": {
        "colab": {
          "base_uri": "https://localhost:8080/",
          "height": 17,
          "referenced_widgets": [
            "4eaecd460fd247dc932c3f5eadce97e0",
            "05e356555de844dd8da087014dada0ca",
            "8e04df68c91d48b4aad144d4421a8c0c",
            "efc99621520b422caf8447aecc3b379d",
            "07940b19548b421aa9005635093b6b33",
            "2af3fe1565ed4b58914d71301198ca1a",
            "188f63156f0648d1874fbdb0c9c7172f",
            "c69891c17a6d43348caea0498d71849b",
            "5cc99b7fccb8467588e185db63c33c67",
            "f6067d20148a4ddb858feeee4b9ef28d",
            "ac1fd65b74d84d94bfd7cdfac8a7f7bf"
          ]
        },
        "id": "2VtLG3uwXbtr",
        "outputId": "f2879aae-8b82-4a7f-a30f-0bbe6804dcd9"
      },
      "execution_count": 33,
      "outputs": [
        {
          "output_type": "display_data",
          "data": {
            "text/plain": [
              "Map:   0%|          | 0/36473 [00:00<?, ? examples/s]"
            ],
            "application/vnd.jupyter.widget-view+json": {
              "version_major": 2,
              "version_minor": 0,
              "model_id": "4eaecd460fd247dc932c3f5eadce97e0"
            }
          },
          "metadata": {}
        }
      ]
    },
    {
      "cell_type": "code",
      "source": [
        "# You will see there are a few new columns. One of them is `input_ids`.\n",
        "tok_ds"
      ],
      "metadata": {
        "colab": {
          "base_uri": "https://localhost:8080/"
        },
        "id": "94fsBM50av8Z",
        "outputId": "0159a056-2814-4ed8-fd7d-7e6e94b640a1"
      },
      "execution_count": 34,
      "outputs": [
        {
          "output_type": "execute_result",
          "data": {
            "text/plain": [
              "Dataset({\n",
              "    features: ['id', 'anchor', 'target', 'context', 'score', 'input', 'input_ids', 'token_type_ids', 'attention_mask'],\n",
              "    num_rows: 36473\n",
              "})"
            ]
          },
          "metadata": {},
          "execution_count": 34
        }
      ]
    },
    {
      "cell_type": "code",
      "source": [
        "row = tok_ds[0]\n",
        "row['input']"
      ],
      "metadata": {
        "colab": {
          "base_uri": "https://localhost:8080/",
          "height": 35
        },
        "id": "bTvtwtlyar4x",
        "outputId": "2649a451-ca74-44a5-f181-21204b7b3760"
      },
      "execution_count": 35,
      "outputs": [
        {
          "output_type": "execute_result",
          "data": {
            "text/plain": [
              "'TEXT1: A47; TEXT2: abatement of pollution; ANC1: abatement'"
            ],
            "application/vnd.google.colaboratory.intrinsic+json": {
              "type": "string"
            }
          },
          "metadata": {},
          "execution_count": 35
        }
      ]
    },
    {
      "cell_type": "code",
      "source": [
        "# row[`input_ids`] will have the list of the tokenized & numericalized values that correspond to the text in row[`input`]\n",
        "row['input_ids']"
      ],
      "metadata": {
        "colab": {
          "base_uri": "https://localhost:8080/"
        },
        "id": "UatZUri6auIZ",
        "outputId": "2b3831a1-eee5-46ba-df29-dd9ced132a75"
      },
      "execution_count": 36,
      "outputs": [
        {
          "output_type": "execute_result",
          "data": {
            "text/plain": [
              "[1,\n",
              " 54453,\n",
              " 435,\n",
              " 294,\n",
              " 336,\n",
              " 5753,\n",
              " 346,\n",
              " 54453,\n",
              " 445,\n",
              " 294,\n",
              " 47284,\n",
              " 265,\n",
              " 6435,\n",
              " 346,\n",
              " 23702,\n",
              " 435,\n",
              " 294,\n",
              " 47284,\n",
              " 2]"
            ]
          },
          "metadata": {},
          "execution_count": 36
        }
      ]
    },
    {
      "cell_type": "code",
      "source": [
        "# you can see each tokenized word & corresponding numerical value by uncommenting below code.\n",
        "# tokz.vocab"
      ],
      "metadata": {
        "id": "BK0Uvvp-tq6R"
      },
      "execution_count": 39,
      "outputs": []
    },
    {
      "cell_type": "code",
      "source": [
        "# you can see a specific word's numericalized value by\n",
        "tokz.vocab['▁of']"
      ],
      "metadata": {
        "colab": {
          "base_uri": "https://localhost:8080/"
        },
        "id": "FuJgufnrWB31",
        "outputId": "8e4a6068-d26e-466b-b2b8-6298e12e7ba1"
      },
      "execution_count": 44,
      "outputs": [
        {
          "output_type": "execute_result",
          "data": {
            "text/plain": [
              "265"
            ]
          },
          "metadata": {},
          "execution_count": 44
        }
      ]
    },
    {
      "cell_type": "markdown",
      "source": [
        "### 3-(2): Prepare the labels.\n",
        "Transformers always assumes that your labels has the column name **labels**, but in our dataset it's currently score. Therefore, we need to rename it:"
      ],
      "metadata": {
        "id": "YCBDoFVRuR24"
      }
    },
    {
      "cell_type": "code",
      "source": [
        "tok_ds = tok_ds.rename_columns({'score':'labels'})"
      ],
      "metadata": {
        "id": "HTq0PDQPttHm"
      },
      "execution_count": 46,
      "outputs": []
    },
    {
      "cell_type": "code",
      "source": [
        "# Double confirm that the `score` column is labled as `labels`.\n",
        "tok_ds"
      ],
      "metadata": {
        "colab": {
          "base_uri": "https://localhost:8080/"
        },
        "id": "tvpUE_sMuNAK",
        "outputId": "cb01cd46-3d5a-469e-9cd8-866a437799da"
      },
      "execution_count": 47,
      "outputs": [
        {
          "output_type": "execute_result",
          "data": {
            "text/plain": [
              "Dataset({\n",
              "    features: ['id', 'anchor', 'target', 'context', 'labels', 'input', 'input_ids', 'token_type_ids', 'attention_mask'],\n",
              "    num_rows: 36473\n",
              "})"
            ]
          },
          "metadata": {},
          "execution_count": 47
        }
      ]
    },
    {
      "cell_type": "markdown",
      "source": [
        "## Step 4: Prepare the training set, validation set and the test set.\n",
        "\n",
        "Okay now so far.. what we did are:\n",
        "(1) Choose an NLP model that I want to use.\n",
        "(2) Get a tokenizer object for the model by using the hugging face transformer’s autoknezier.\n",
        "(3) Prepare the inputs and the labels.\n",
        "\n",
        "Now the next step is.. we need to split the data for training between training and validation to avoid making our model from underfitting or overfitting into our training data.\n"
      ],
      "metadata": {
        "id": "y9i1z6Dnuj6q"
      }
    },
    {
      "cell_type": "markdown",
      "source": [
        "In Transformers library, it uses DatasetDict for holding training and validation sets."
      ],
      "metadata": {
        "id": "4pXssgtRumn3"
      }
    },
    {
      "cell_type": "code",
      "source": [
        "# Save 25% of the training data for the validation.\n",
        "dds = tok_ds.train_test_split(0.25, seed=42)"
      ],
      "metadata": {
        "id": "v5DzZMFavT9W"
      },
      "execution_count": 48,
      "outputs": []
    },
    {
      "cell_type": "code",
      "source": [
        "dds"
      ],
      "metadata": {
        "colab": {
          "base_uri": "https://localhost:8080/"
        },
        "id": "SixwxqtOvXqL",
        "outputId": "8e9dbab7-6b2a-43ed-b138-79b03bfe2c73"
      },
      "execution_count": 49,
      "outputs": [
        {
          "output_type": "execute_result",
          "data": {
            "text/plain": [
              "DatasetDict({\n",
              "    train: Dataset({\n",
              "        features: ['id', 'anchor', 'target', 'context', 'labels', 'input', 'input_ids', 'token_type_ids', 'attention_mask'],\n",
              "        num_rows: 27354\n",
              "    })\n",
              "    test: Dataset({\n",
              "        features: ['id', 'anchor', 'target', 'context', 'labels', 'input', 'input_ids', 'token_type_ids', 'attention_mask'],\n",
              "        num_rows: 9119\n",
              "    })\n",
              "})"
            ]
          },
          "metadata": {},
          "execution_count": 49
        }
      ]
    },
    {
      "cell_type": "markdown",
      "source": [
        "### Useful references\n",
        "\n",
        "- The importance of critical thinking in choosing the validation set: [[Rachel’s Post]](https://www.fast.ai/posts/2017-11-13-validation-sets.html)\n",
        "- Validation set: a part of training data that is not used for training, but only to calculate our metric.\n",
        "- Test Set: the data that is not used at all for training and validation.\n",
        "    - In this specific kaggle data, it is in a different file.\n",
        "    - We will use it only when we are using our model to predict the data to see how well our model is actually doing for the data that it hasn't seen.\n",
        "    - We will create a test set at the last step.\n",
        "\n",
        "  \n",
        "- Why do we need the validation set? : it is to check whether our model is underfit (the function is far from representing the data) or over fit (only working well with the given data).\n",
        "\n",
        "\n",
        "- Why do we need a test set?: To ensure our model is generalized enough; it is possible that we might find some factors that optimize the metrics with the validation data, but not necessarily improving our model’s performance in real life. It is one more guardrail to guarantee the performance.\n",
        "\n",
        "- Transformers uses a `DatasetDict` for holding your training and validation sets."
      ],
      "metadata": {
        "id": "I1cLzjOSXE8q"
      }
    },
    {
      "cell_type": "markdown",
      "source": [
        "## Step 5: Decide what metrics to use.\n",
        "Okay now we have training set and validation set. Let's figure out a metric. So make sure to check each competition's evaluation part.\n",
        "\n",
        "At least for kaggle, it is given. You can usually check how each competition is going to evaluate the model's performance in the [`evaluation` tab](https://www.kaggle.com/competitions/us-patent-phrase-to-phrase-matching/overview/evaluation). In real life, it is our job to define and it can be harder.\n",
        "\n"
      ],
      "metadata": {
        "id": "c3RkJBds05ye"
      }
    },
    {
      "cell_type": "markdown",
      "source": [
        "For this particular competition, they are evaluating each model's prediction and the actual result on the Pearson correlation coefficient (r).\n",
        "\n",
        "I don't know the details about this from mathematically perspective, but the important information for me is that it tells me how two variables are related. -1 means perfect inverse correlation and +1 is perfect positive correlation. (Jeremy covers more details and help you to build the intuitive sense by using the California Housing Dataset in the notebook. So feel free to check it out).\n",
        "\n",
        "To calculate Pearson correlation coefficient, we need numpy library as we are going to use np.corrcoef function."
      ],
      "metadata": {
        "id": "u5JZh6_61dw8"
      }
    },
    {
      "cell_type": "code",
      "source": [
        "import numpy as np\n",
        "\n",
        "def corr(x,y):\n",
        "  return np.corrcoef(x,y)[0][1]"
      ],
      "metadata": {
        "id": "r2X7JNEyw7Lz"
      },
      "execution_count": 51,
      "outputs": []
    },
    {
      "cell_type": "code",
      "source": [
        "def corr_d(eval_pred):\n",
        "  return {'pearson': corr(*eval_pred)} #the * in front of the variable gives the flexibility of # of parmaeters."
      ],
      "metadata": {
        "id": "kSWDpH-5xX7I"
      },
      "execution_count": 53,
      "outputs": []
    },
    {
      "cell_type": "markdown",
      "source": [
        "Please note, that np.corrcoef expects both parameters to have the same dimension.\n",
        "Some models can return a result in a different format from the the dimension of the labels.\n",
        "\n",
        "Ex:\n",
        "![image.png](data:image/png;base64,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)\n"
      ],
      "metadata": {
        "id": "sABYXEbkZaf_"
      }
    },
    {
      "cell_type": "markdown",
      "source": [
        "In that case, we need to update corr_d function so we can resize the predictions tensor. Check out the solution here: https://www.kaggle.com/code/jhoward/iterate-like-a-grandmaster/comments#1802586"
      ],
      "metadata": {
        "id": "_496qZpSZld3"
      }
    },
    {
      "cell_type": "markdown",
      "source": [
        "## Step 6: Train the model with our pre-processed data.\n",
        "\n",
        "Now, we have the inputs & the labels ready, the model is ready, the training & the validation sets are ready, and the metrics is ready. So I think we are ready to ensemble altogether and train the model.\n",
        "\n",
        "The big idea here is -\n",
        "- We are going to use Transformers’ trainer object to train our model.\n",
        "- For the trainer object, we need `TrainingArguments`.\n",
        "- Choose relevant hyper parameters.\n",
        "    - Batch size that fits our GPU (starts with 128)\n",
        "    - Small number of epochs so we can run the experiments quickly. (choose 3 or 4)\n",
        "    - learning rate (`lr = 8e-5`)"
      ],
      "metadata": {
        "id": "G44uU_YtZ68v"
      }
    },
    {
      "cell_type": "code",
      "source": [
        "# Define hyper parameters\n",
        "bs = 128\n",
        "epochs = 4 # start small as the whole point is having a baseline.\n",
        "lr = 8e-5"
      ],
      "metadata": {
        "id": "o9F0IKZhxb7Y"
      },
      "execution_count": 56,
      "outputs": []
    },
    {
      "cell_type": "code",
      "source": [
        "from transformers import TrainingArguments,Trainer\n",
        "\n",
        "# Construct TrainingArgument with batch size, # of epochs and learning rate.\n",
        "args = TrainingArguments('outputs', learning_rate=lr, warmup_ratio=0.1, lr_scheduler_type='cosine', fp16=True,\n",
        "    evaluation_strategy=\"epoch\", per_device_train_batch_size=bs, per_device_eval_batch_size=bs*2,\n",
        "    num_train_epochs=epochs, weight_decay=0.01, report_to='none') #similar to data block + dataloaders"
      ],
      "metadata": {
        "id": "X7_OPlOSx9nR"
      },
      "execution_count": 59,
      "outputs": []
    },
    {
      "cell_type": "code",
      "source": [
        "from transformers import AutoModelForSequenceClassification\n",
        "\n",
        "# HF Trainer is similar to FastAI's learner (model, data, metrics).\n",
        "# It combines the model, the data, training & validation sets, and the metrics.\n",
        "model = AutoModelForSequenceClassification.from_pretrained(model_nm, num_labels=1)\n",
        "trainer = Trainer(model, args, train_dataset=dds['train'], eval_dataset=dds['test'],\n",
        "                  tokenizer=tokz, compute_metrics=corr_d)"
      ],
      "metadata": {
        "colab": {
          "base_uri": "https://localhost:8080/"
        },
        "id": "DARglUdcyCrN",
        "outputId": "f9319e05-19e9-48e9-ed45-3ca65a453315"
      },
      "execution_count": 61,
      "outputs": [
        {
          "output_type": "stream",
          "name": "stderr",
          "text": [
            "Some weights of the model checkpoint at microsoft/deberta-v3-small were not used when initializing DebertaV2ForSequenceClassification: ['mask_predictions.LayerNorm.bias', 'lm_predictions.lm_head.dense.bias', 'mask_predictions.LayerNorm.weight', 'lm_predictions.lm_head.LayerNorm.weight', 'mask_predictions.dense.weight', 'mask_predictions.classifier.bias', 'lm_predictions.lm_head.LayerNorm.bias', 'mask_predictions.dense.bias', 'lm_predictions.lm_head.bias', 'lm_predictions.lm_head.dense.weight', 'mask_predictions.classifier.weight']\n",
            "- This IS expected if you are initializing DebertaV2ForSequenceClassification from the checkpoint of a model trained on another task or with another architecture (e.g. initializing a BertForSequenceClassification model from a BertForPreTraining model).\n",
            "- This IS NOT expected if you are initializing DebertaV2ForSequenceClassification from the checkpoint of a model that you expect to be exactly identical (initializing a BertForSequenceClassification model from a BertForSequenceClassification model).\n",
            "Some weights of DebertaV2ForSequenceClassification were not initialized from the model checkpoint at microsoft/deberta-v3-small and are newly initialized: ['classifier.bias', 'classifier.weight', 'pooler.dense.bias', 'pooler.dense.weight']\n",
            "You should probably TRAIN this model on a down-stream task to be able to use it for predictions and inference.\n"
          ]
        }
      ]
    },
    {
      "cell_type": "code",
      "source": [
        "trainer.train() # This is the same as the FastAI's learner.learn method."
      ],
      "metadata": {
        "colab": {
          "base_uri": "https://localhost:8080/",
          "height": 308
        },
        "id": "uJvSNIiryhKf",
        "outputId": "4647f34b-0432-4dc8-fae7-02f284c5cecb"
      },
      "execution_count": 62,
      "outputs": [
        {
          "output_type": "stream",
          "name": "stderr",
          "text": [
            "/usr/local/lib/python3.10/dist-packages/transformers/optimization.py:411: FutureWarning: This implementation of AdamW is deprecated and will be removed in a future version. Use the PyTorch implementation torch.optim.AdamW instead, or set `no_deprecation_warning=True` to disable this warning\n",
            "  warnings.warn(\n",
            "You're using a DebertaV2TokenizerFast tokenizer. Please note that with a fast tokenizer, using the `__call__` method is faster than using a method to encode the text followed by a call to the `pad` method to get a padded encoding.\n"
          ]
        },
        {
          "output_type": "display_data",
          "data": {
            "text/plain": [
              "<IPython.core.display.HTML object>"
            ],
            "text/html": [
              "\n",
              "    <div>\n",
              "      \n",
              "      <progress value='856' max='856' style='width:300px; height:20px; vertical-align: middle;'></progress>\n",
              "      [856/856 03:34, Epoch 4/4]\n",
              "    </div>\n",
              "    <table border=\"1\" class=\"dataframe\">\n",
              "  <thead>\n",
              " <tr style=\"text-align: left;\">\n",
              "      <th>Epoch</th>\n",
              "      <th>Training Loss</th>\n",
              "      <th>Validation Loss</th>\n",
              "      <th>Pearson</th>\n",
              "    </tr>\n",
              "  </thead>\n",
              "  <tbody>\n",
              "    <tr>\n",
              "      <td>1</td>\n",
              "      <td>No log</td>\n",
              "      <td>0.026781</td>\n",
              "      <td>0.795968</td>\n",
              "    </tr>\n",
              "    <tr>\n",
              "      <td>2</td>\n",
              "      <td>No log</td>\n",
              "      <td>0.024363</td>\n",
              "      <td>0.822365</td>\n",
              "    </tr>\n",
              "    <tr>\n",
              "      <td>3</td>\n",
              "      <td>0.035900</td>\n",
              "      <td>0.023251</td>\n",
              "      <td>0.830641</td>\n",
              "    </tr>\n",
              "    <tr>\n",
              "      <td>4</td>\n",
              "      <td>0.035900</td>\n",
              "      <td>0.022834</td>\n",
              "      <td>0.831326</td>\n",
              "    </tr>\n",
              "  </tbody>\n",
              "</table><p>"
            ]
          },
          "metadata": {}
        },
        {
          "output_type": "execute_result",
          "data": {
            "text/plain": [
              "TrainOutput(global_step=856, training_loss=0.02660899574511519, metrics={'train_runtime': 217.7599, 'train_samples_per_second': 502.462, 'train_steps_per_second': 3.931, 'total_flos': 716605488222960.0, 'train_loss': 0.02660899574511519, 'epoch': 4.0})"
            ]
          },
          "metadata": {},
          "execution_count": 62
        }
      ]
    },
    {
      "cell_type": "markdown",
      "source": [
        "While you are training, if you hit OutOfMemory error with CUDA, try to empty the cache or decrease the batch size.\n",
        "\n",
        "Ex:\n",
        "\"OutOfMemoryError: CUDA out of memory. Tried to allocate 20.00 MiB (GPU 0; 14.75 GiB total capacity; 13.70 GiB already allocated; 6.81 MiB free; 13.96 GiB reserved in total by PyTorch) If reserved memory is >> allocated memory try setting max_split_size_mb to avoid fragmentation. See documentation for Memory Management and PYTORCH_CUDA_ALLOC_CONF site:stackoverflow.com\"\n",
        "\n",
        "Solution:  https://medium.com/@snk.nitin/how-to-solve-cuda-out-of-memory-error-850bb247cfb2 / https://stackoverflow.com/questions/59129812/how-to-avoid-cuda-out-of-memory-in-pytorch\n",
        "\n",
        "Some code:\n",
        "```\n",
        "import torch\n",
        "torch.cuda.empty_cache()\n",
        "torch.cuda.memory_summary(device=None, abbreviated=False)\n",
        "```"
      ],
      "metadata": {
        "id": "d_HoIrswc3wY"
      }
    },
    {
      "cell_type": "markdown",
      "source": [
        "# C. Inference\n",
        "Now we completed the training our model. This means we fine-tuned the NLP model (language model) with our data (US patent) so we can use it for finding the similarity between two words/phrases.\n",
        "\n",
        "But how do we know that this model is generalized enough so it can work well with the data that it hasn't never seen?\n",
        "\n",
        "This is where the concept of `test set` comes in. The kaggle competition usually provides a separate file `test.csv` exactly for this purpose.\n",
        "\n",
        "We need to do a similar process we did with the training data. We need to repet Step 2 & Step 3 in the Section A.\n",
        "\n",
        "Then we can skip the whole section B as the purpose is to use the already fine-tuned NLP model."
      ],
      "metadata": {
        "id": "qu7yNQPVecSz"
      }
    },
    {
      "cell_type": "markdown",
      "source": [
        "## Step 1: Get the test set data & transform the data in a way that the model can use.\n",
        "\n",
        "(1) Read the csv file and explore the data.\n",
        "(2) Create a column that contains inputs that will be tokenized & numericalized and then passed to our model.\n"
      ],
      "metadata": {
        "id": "kKnhLthndoIA"
      }
    },
    {
      "cell_type": "code",
      "source": [
        "eval_df = pd.read_csv(path/'test.csv')\n",
        "eval_df.describe()"
      ],
      "metadata": {
        "colab": {
          "base_uri": "https://localhost:8080/",
          "height": 175
        },
        "id": "pPuy_swrv9Vn",
        "outputId": "d0c82fe6-6d30-4806-a3c1-bd0c1e3335f6"
      },
      "execution_count": 63,
      "outputs": [
        {
          "output_type": "execute_result",
          "data": {
            "text/plain": [
              "                      id      anchor                         target context\n",
              "count                 36          36                             36      36\n",
              "unique                36          34                             36      29\n",
              "top     4112d61851461f60  el display  inorganic photoconductor drum     G02\n",
              "freq                   1           2                              1       3"
            ],
            "text/html": [
              "\n",
              "  <div id=\"df-2937999e-24ae-40ab-81a1-fbc8b138a8f4\">\n",
              "    <div class=\"colab-df-container\">\n",
              "      <div>\n",
              "<style scoped>\n",
              "    .dataframe tbody tr th:only-of-type {\n",
              "        vertical-align: middle;\n",
              "    }\n",
              "\n",
              "    .dataframe tbody tr th {\n",
              "        vertical-align: top;\n",
              "    }\n",
              "\n",
              "    .dataframe thead th {\n",
              "        text-align: right;\n",
              "    }\n",
              "</style>\n",
              "<table border=\"1\" class=\"dataframe\">\n",
              "  <thead>\n",
              "    <tr style=\"text-align: right;\">\n",
              "      <th></th>\n",
              "      <th>id</th>\n",
              "      <th>anchor</th>\n",
              "      <th>target</th>\n",
              "      <th>context</th>\n",
              "    </tr>\n",
              "  </thead>\n",
              "  <tbody>\n",
              "    <tr>\n",
              "      <th>count</th>\n",
              "      <td>36</td>\n",
              "      <td>36</td>\n",
              "      <td>36</td>\n",
              "      <td>36</td>\n",
              "    </tr>\n",
              "    <tr>\n",
              "      <th>unique</th>\n",
              "      <td>36</td>\n",
              "      <td>34</td>\n",
              "      <td>36</td>\n",
              "      <td>29</td>\n",
              "    </tr>\n",
              "    <tr>\n",
              "      <th>top</th>\n",
              "      <td>4112d61851461f60</td>\n",
              "      <td>el display</td>\n",
              "      <td>inorganic photoconductor drum</td>\n",
              "      <td>G02</td>\n",
              "    </tr>\n",
              "    <tr>\n",
              "      <th>freq</th>\n",
              "      <td>1</td>\n",
              "      <td>2</td>\n",
              "      <td>1</td>\n",
              "      <td>3</td>\n",
              "    </tr>\n",
              "  </tbody>\n",
              "</table>\n",
              "</div>\n",
              "      <button class=\"colab-df-convert\" onclick=\"convertToInteractive('df-2937999e-24ae-40ab-81a1-fbc8b138a8f4')\"\n",
              "              title=\"Convert this dataframe to an interactive table.\"\n",
              "              style=\"display:none;\">\n",
              "        \n",
              "  <svg xmlns=\"http://www.w3.org/2000/svg\" height=\"24px\"viewBox=\"0 0 24 24\"\n",
              "       width=\"24px\">\n",
              "    <path d=\"M0 0h24v24H0V0z\" fill=\"none\"/>\n",
              "    <path d=\"M18.56 5.44l.94 2.06.94-2.06 2.06-.94-2.06-.94-.94-2.06-.94 2.06-2.06.94zm-11 1L8.5 8.5l.94-2.06 2.06-.94-2.06-.94L8.5 2.5l-.94 2.06-2.06.94zm10 10l.94 2.06.94-2.06 2.06-.94-2.06-.94-.94-2.06-.94 2.06-2.06.94z\"/><path d=\"M17.41 7.96l-1.37-1.37c-.4-.4-.92-.59-1.43-.59-.52 0-1.04.2-1.43.59L10.3 9.45l-7.72 7.72c-.78.78-.78 2.05 0 2.83L4 21.41c.39.39.9.59 1.41.59.51 0 1.02-.2 1.41-.59l7.78-7.78 2.81-2.81c.8-.78.8-2.07 0-2.86zM5.41 20L4 18.59l7.72-7.72 1.47 1.35L5.41 20z\"/>\n",
              "  </svg>\n",
              "      </button>\n",
              "      \n",
              "  <style>\n",
              "    .colab-df-container {\n",
              "      display:flex;\n",
              "      flex-wrap:wrap;\n",
              "      gap: 12px;\n",
              "    }\n",
              "\n",
              "    .colab-df-convert {\n",
              "      background-color: #E8F0FE;\n",
              "      border: none;\n",
              "      border-radius: 50%;\n",
              "      cursor: pointer;\n",
              "      display: none;\n",
              "      fill: #1967D2;\n",
              "      height: 32px;\n",
              "      padding: 0 0 0 0;\n",
              "      width: 32px;\n",
              "    }\n",
              "\n",
              "    .colab-df-convert:hover {\n",
              "      background-color: #E2EBFA;\n",
              "      box-shadow: 0px 1px 2px rgba(60, 64, 67, 0.3), 0px 1px 3px 1px rgba(60, 64, 67, 0.15);\n",
              "      fill: #174EA6;\n",
              "    }\n",
              "\n",
              "    [theme=dark] .colab-df-convert {\n",
              "      background-color: #3B4455;\n",
              "      fill: #D2E3FC;\n",
              "    }\n",
              "\n",
              "    [theme=dark] .colab-df-convert:hover {\n",
              "      background-color: #434B5C;\n",
              "      box-shadow: 0px 1px 3px 1px rgba(0, 0, 0, 0.15);\n",
              "      filter: drop-shadow(0px 1px 2px rgba(0, 0, 0, 0.3));\n",
              "      fill: #FFFFFF;\n",
              "    }\n",
              "  </style>\n",
              "\n",
              "      <script>\n",
              "        const buttonEl =\n",
              "          document.querySelector('#df-2937999e-24ae-40ab-81a1-fbc8b138a8f4 button.colab-df-convert');\n",
              "        buttonEl.style.display =\n",
              "          google.colab.kernel.accessAllowed ? 'block' : 'none';\n",
              "\n",
              "        async function convertToInteractive(key) {\n",
              "          const element = document.querySelector('#df-2937999e-24ae-40ab-81a1-fbc8b138a8f4');\n",
              "          const dataTable =\n",
              "            await google.colab.kernel.invokeFunction('convertToInteractive',\n",
              "                                                     [key], {});\n",
              "          if (!dataTable) return;\n",
              "\n",
              "          const docLinkHtml = 'Like what you see? Visit the ' +\n",
              "            '<a target=\"_blank\" href=https://colab.research.google.com/notebooks/data_table.ipynb>data table notebook</a>'\n",
              "            + ' to learn more about interactive tables.';\n",
              "          element.innerHTML = '';\n",
              "          dataTable['output_type'] = 'display_data';\n",
              "          await google.colab.output.renderOutput(dataTable, element);\n",
              "          const docLink = document.createElement('div');\n",
              "          docLink.innerHTML = docLinkHtml;\n",
              "          element.appendChild(docLink);\n",
              "        }\n",
              "      </script>\n",
              "    </div>\n",
              "  </div>\n",
              "  "
            ]
          },
          "metadata": {},
          "execution_count": 63
        }
      ]
    },
    {
      "cell_type": "code",
      "source": [
        "eval_df['input'] = 'TEXT1: ' + eval_df.context + '; TEXT2: ' + eval_df.target + '; ANC1: ' + eval_df.anchor\n",
        "eval_ds = Dataset.from_pandas(eval_df).map(tok_func, batched=True)"
      ],
      "metadata": {
        "colab": {
          "base_uri": "https://localhost:8080/",
          "height": 17,
          "referenced_widgets": [
            "d4f1a72d336549e2a6064c5902bf81bf",
            "4cd20cbb5a2342d2a250375753c01daa",
            "29ded2e9e6d546249991b1114b67365e",
            "2ccc39af8dc84bf3abd96a168ee1eeb3",
            "ae8d4199205441ef90553ae3b9765798",
            "10029551b1ec4f36b60cd1f18f460a02",
            "d93e71a22c3649278daf68cd340bb9c8",
            "643f17687a6944c1a07e1310585aaad6",
            "03a64e971fc944dda083f027aab0694e",
            "b113f8d168fc4fc5b88509a0ea1d31e7",
            "415eb536e81d40ab9686bd1e0ef6a75e"
          ]
        },
        "id": "edBY69NS35KF",
        "outputId": "57a2261a-2b8b-48ed-bc6e-924a249012fe"
      },
      "execution_count": 64,
      "outputs": [
        {
          "output_type": "display_data",
          "data": {
            "text/plain": [
              "Map:   0%|          | 0/36 [00:00<?, ? examples/s]"
            ],
            "application/vnd.jupyter.widget-view+json": {
              "version_major": 2,
              "version_minor": 0,
              "model_id": "d4f1a72d336549e2a6064c5902bf81bf"
            }
          },
          "metadata": {}
        }
      ]
    },
    {
      "cell_type": "markdown",
      "source": [
        "## Step 2: Inference & Apply an output layer activiation function, if needed.\n"
      ],
      "metadata": {
        "id": "S4TM0pKoe9RF"
      }
    },
    {
      "cell_type": "code",
      "source": [
        "# Our trained model is in trainer.\n",
        "preds = trainer.predict(eval_ds).predictions.astype(float)"
      ],
      "metadata": {
        "id": "pqWjSuduyiSO",
        "colab": {
          "base_uri": "https://localhost:8080/",
          "height": 17
        },
        "outputId": "7ae7fb3e-4acf-4d73-9115-20f5b33a9535"
      },
      "execution_count": 66,
      "outputs": [
        {
          "output_type": "display_data",
          "data": {
            "text/plain": [
              "<IPython.core.display.HTML object>"
            ],
            "text/html": []
          },
          "metadata": {}
        }
      ]
    },
    {
      "cell_type": "code",
      "source": [
        "# Check the predictions from our model.\n",
        "preds"
      ],
      "metadata": {
        "colab": {
          "base_uri": "https://localhost:8080/"
        },
        "id": "iqqZOEOdfJlP",
        "outputId": "6b9cf9cc-414b-4ee4-fb7e-93a31c49fa0c"
      },
      "execution_count": 67,
      "outputs": [
        {
          "output_type": "execute_result",
          "data": {
            "text/plain": [
              "array([[ 0.61523438],\n",
              "       [ 0.65673828],\n",
              "       [ 0.49121094],\n",
              "       [ 0.31567383],\n",
              "       [-0.01277924],\n",
              "       [ 0.54785156],\n",
              "       [ 0.52197266],\n",
              "       [-0.04959106],\n",
              "       [ 0.22583008],\n",
              "       [ 1.09863281],\n",
              "       [ 0.19311523],\n",
              "       [ 0.24401855],\n",
              "       [ 0.75292969],\n",
              "       [ 0.94189453],\n",
              "       [ 0.75      ],\n",
              "       [ 0.48583984],\n",
              "       [ 0.28295898],\n",
              "       [-0.02966309],\n",
              "       [ 0.65527344],\n",
              "       [ 0.32299805],\n",
              "       [ 0.34716797],\n",
              "       [ 0.19787598],\n",
              "       [ 0.17565918],\n",
              "       [ 0.24194336],\n",
              "       [ 0.59375   ],\n",
              "       [-0.02738953],\n",
              "       [-0.02792358],\n",
              "       [-0.03012085],\n",
              "       [-0.02604675],\n",
              "       [ 0.62548828],\n",
              "       [ 0.32006836],\n",
              "       [-0.01899719],\n",
              "       [ 0.72070312],\n",
              "       [ 0.51123047],\n",
              "       [ 0.4543457 ],\n",
              "       [ 0.17810059]])"
            ]
          },
          "metadata": {},
          "execution_count": 67
        }
      ]
    },
    {
      "cell_type": "markdown",
      "source": [
        "Hmm.. there are some negative values and there are some values that are greater than 1.  \n",
        "\n",
        "In our problem, it does not make sense. So let's apply a function that can make the predictions more sense in our context.\n",
        "\n",
        "This case is simple; any values should be between 0 and 1 (inclusive). If not, choose the edge value that is close to it. This means any negative value will be zero. Anything above 1, will be 1."
      ],
      "metadata": {
        "id": "suIYQyFifSuE"
      }
    },
    {
      "cell_type": "code",
      "source": [
        "preds = np.clip(preds, 0, 1) #this is simliar to using sigmoid function."
      ],
      "metadata": {
        "id": "L-uuk-dpym4z"
      },
      "execution_count": 68,
      "outputs": []
    },
    {
      "cell_type": "code",
      "source": [
        "preds"
      ],
      "metadata": {
        "id": "i8UrABXXyn_S",
        "colab": {
          "base_uri": "https://localhost:8080/"
        },
        "outputId": "15d083ee-e803-43e2-8ada-053a44c963dd"
      },
      "execution_count": 69,
      "outputs": [
        {
          "output_type": "execute_result",
          "data": {
            "text/plain": [
              "array([[0.61523438],\n",
              "       [0.65673828],\n",
              "       [0.49121094],\n",
              "       [0.31567383],\n",
              "       [0.        ],\n",
              "       [0.54785156],\n",
              "       [0.52197266],\n",
              "       [0.        ],\n",
              "       [0.22583008],\n",
              "       [1.        ],\n",
              "       [0.19311523],\n",
              "       [0.24401855],\n",
              "       [0.75292969],\n",
              "       [0.94189453],\n",
              "       [0.75      ],\n",
              "       [0.48583984],\n",
              "       [0.28295898],\n",
              "       [0.        ],\n",
              "       [0.65527344],\n",
              "       [0.32299805],\n",
              "       [0.34716797],\n",
              "       [0.19787598],\n",
              "       [0.17565918],\n",
              "       [0.24194336],\n",
              "       [0.59375   ],\n",
              "       [0.        ],\n",
              "       [0.        ],\n",
              "       [0.        ],\n",
              "       [0.        ],\n",
              "       [0.62548828],\n",
              "       [0.32006836],\n",
              "       [0.        ],\n",
              "       [0.72070312],\n",
              "       [0.51123047],\n",
              "       [0.4543457 ],\n",
              "       [0.17810059]])"
            ]
          },
          "metadata": {},
          "execution_count": 69
        }
      ]
    },
    {
      "cell_type": "markdown",
      "source": [
        "## Step 3: [Optional] Submit the predictions data to Kaggle or at least as a CSV file."
      ],
      "metadata": {
        "id": "ISnwGJhSfwuB"
      }
    },
    {
      "cell_type": "code",
      "source": [
        "import datasets\n",
        "\n",
        "submission = datasets.Dataset.from_dict({\n",
        "    'id': eval_ds['id'],\n",
        "    'score': preds\n",
        "})\n",
        "\n",
        "submission.to_csv('submission.csv', index=False)\n",
        "\n",
        "# in google colab, you will see a new file titled `submission.csv`."
      ],
      "metadata": {
        "id": "NtI8qWl34JAR",
        "colab": {
          "base_uri": "https://localhost:8080/",
          "height": 66,
          "referenced_widgets": [
            "f72edc5f64aa4c0dba3ee999c358f073",
            "5f71b841a4e24d599849a705c9e0b51b",
            "61936ab561c3436e9aa8c4ede1a03f87",
            "e716ade8d2464643b07ef129e4861d93",
            "113dd742f2c34e0bb40007e7e724e6c9",
            "2d2d2a2a3bdd41559b080205cdefe7c2",
            "50dd879bdd934e2891f30ed35914809f",
            "8db26df1f8554aaea674e461bf1a24cc",
            "c7bd57604e294e039792172bb3738d0f",
            "107835b70eb94b8aa7e19e96d186bf6c",
            "56378cb34ef64deda887c2111be44a26"
          ]
        },
        "outputId": "c43120b2-f4bf-4fde-b55e-ccf33fc92e39"
      },
      "execution_count": 71,
      "outputs": [
        {
          "output_type": "display_data",
          "data": {
            "text/plain": [
              "Creating CSV from Arrow format:   0%|          | 0/1 [00:00<?, ?ba/s]"
            ],
            "application/vnd.jupyter.widget-view+json": {
              "version_major": 2,
              "version_minor": 0,
              "model_id": "f72edc5f64aa4c0dba3ee999c358f073"
            }
          },
          "metadata": {}
        },
        {
          "output_type": "execute_result",
          "data": {
            "text/plain": [
              "1007"
            ]
          },
          "metadata": {},
          "execution_count": 71
        }
      ]
    }
  ]
}