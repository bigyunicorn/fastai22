{
  "nbformat": 4,
  "nbformat_minor": 0,
  "metadata": {
    "colab": {
      "provenance": [],
      "gpuType": "T4",
      "authorship_tag": "ABX9TyONjMpezdufqDtlI0/0Ksw+",
      "include_colab_link": true
    },
    "kernelspec": {
      "name": "python3",
      "display_name": "Python 3"
    },
    "language_info": {
      "name": "python"
    },
    "accelerator": "GPU",
    "gpuClass": "standard",
    "widgets": {
      "application/vnd.jupyter.widget-state+json": {
        "11f89dd0aa2f4b75bb8335676c63d610": {
          "model_module": "@jupyter-widgets/controls",
          "model_name": "HBoxModel",
          "model_module_version": "1.5.0",
          "state": {
            "_dom_classes": [],
            "_model_module": "@jupyter-widgets/controls",
            "_model_module_version": "1.5.0",
            "_model_name": "HBoxModel",
            "_view_count": null,
            "_view_module": "@jupyter-widgets/controls",
            "_view_module_version": "1.5.0",
            "_view_name": "HBoxView",
            "box_style": "",
            "children": [
              "IPY_MODEL_3d368b6daee54471b24011c488a24376",
              "IPY_MODEL_d70bafefb091430987bc22bfba7eaf53",
              "IPY_MODEL_b0051d94159c499ab7c2534d33285797"
            ],
            "layout": "IPY_MODEL_3bd45bd81f794874ae17c9960cd90194"
          }
        },
        "3d368b6daee54471b24011c488a24376": {
          "model_module": "@jupyter-widgets/controls",
          "model_name": "HTMLModel",
          "model_module_version": "1.5.0",
          "state": {
            "_dom_classes": [],
            "_model_module": "@jupyter-widgets/controls",
            "_model_module_version": "1.5.0",
            "_model_name": "HTMLModel",
            "_view_count": null,
            "_view_module": "@jupyter-widgets/controls",
            "_view_module_version": "1.5.0",
            "_view_name": "HTMLView",
            "description": "",
            "description_tooltip": null,
            "layout": "IPY_MODEL_50501ef91e3345debb148bc374de3411",
            "placeholder": "​",
            "style": "IPY_MODEL_f9bccaf0f9a94f1eb1dbcb29c1db3348",
            "value": "Downloading (…)okenizer_config.json: 100%"
          }
        },
        "d70bafefb091430987bc22bfba7eaf53": {
          "model_module": "@jupyter-widgets/controls",
          "model_name": "FloatProgressModel",
          "model_module_version": "1.5.0",
          "state": {
            "_dom_classes": [],
            "_model_module": "@jupyter-widgets/controls",
            "_model_module_version": "1.5.0",
            "_model_name": "FloatProgressModel",
            "_view_count": null,
            "_view_module": "@jupyter-widgets/controls",
            "_view_module_version": "1.5.0",
            "_view_name": "ProgressView",
            "bar_style": "success",
            "description": "",
            "description_tooltip": null,
            "layout": "IPY_MODEL_c30b7e7a7ca6495d9f8f95616c80dbd4",
            "max": 52,
            "min": 0,
            "orientation": "horizontal",
            "style": "IPY_MODEL_ba32919546604cd1a7d0e93aa533ef9f",
            "value": 52
          }
        },
        "b0051d94159c499ab7c2534d33285797": {
          "model_module": "@jupyter-widgets/controls",
          "model_name": "HTMLModel",
          "model_module_version": "1.5.0",
          "state": {
            "_dom_classes": [],
            "_model_module": "@jupyter-widgets/controls",
            "_model_module_version": "1.5.0",
            "_model_name": "HTMLModel",
            "_view_count": null,
            "_view_module": "@jupyter-widgets/controls",
            "_view_module_version": "1.5.0",
            "_view_name": "HTMLView",
            "description": "",
            "description_tooltip": null,
            "layout": "IPY_MODEL_35898d00fcd940ff94e30a4b3aea4f19",
            "placeholder": "​",
            "style": "IPY_MODEL_ba93678cc6d54ee2926712cd4afdf0c7",
            "value": " 52.0/52.0 [00:00&lt;00:00, 3.73kB/s]"
          }
        },
        "3bd45bd81f794874ae17c9960cd90194": {
          "model_module": "@jupyter-widgets/base",
          "model_name": "LayoutModel",
          "model_module_version": "1.2.0",
          "state": {
            "_model_module": "@jupyter-widgets/base",
            "_model_module_version": "1.2.0",
            "_model_name": "LayoutModel",
            "_view_count": null,
            "_view_module": "@jupyter-widgets/base",
            "_view_module_version": "1.2.0",
            "_view_name": "LayoutView",
            "align_content": null,
            "align_items": null,
            "align_self": null,
            "border": null,
            "bottom": null,
            "display": null,
            "flex": null,
            "flex_flow": null,
            "grid_area": null,
            "grid_auto_columns": null,
            "grid_auto_flow": null,
            "grid_auto_rows": null,
            "grid_column": null,
            "grid_gap": null,
            "grid_row": null,
            "grid_template_areas": null,
            "grid_template_columns": null,
            "grid_template_rows": null,
            "height": null,
            "justify_content": null,
            "justify_items": null,
            "left": null,
            "margin": null,
            "max_height": null,
            "max_width": null,
            "min_height": null,
            "min_width": null,
            "object_fit": null,
            "object_position": null,
            "order": null,
            "overflow": null,
            "overflow_x": null,
            "overflow_y": null,
            "padding": null,
            "right": null,
            "top": null,
            "visibility": null,
            "width": null
          }
        },
        "50501ef91e3345debb148bc374de3411": {
          "model_module": "@jupyter-widgets/base",
          "model_name": "LayoutModel",
          "model_module_version": "1.2.0",
          "state": {
            "_model_module": "@jupyter-widgets/base",
            "_model_module_version": "1.2.0",
            "_model_name": "LayoutModel",
            "_view_count": null,
            "_view_module": "@jupyter-widgets/base",
            "_view_module_version": "1.2.0",
            "_view_name": "LayoutView",
            "align_content": null,
            "align_items": null,
            "align_self": null,
            "border": null,
            "bottom": null,
            "display": null,
            "flex": null,
            "flex_flow": null,
            "grid_area": null,
            "grid_auto_columns": null,
            "grid_auto_flow": null,
            "grid_auto_rows": null,
            "grid_column": null,
            "grid_gap": null,
            "grid_row": null,
            "grid_template_areas": null,
            "grid_template_columns": null,
            "grid_template_rows": null,
            "height": null,
            "justify_content": null,
            "justify_items": null,
            "left": null,
            "margin": null,
            "max_height": null,
            "max_width": null,
            "min_height": null,
            "min_width": null,
            "object_fit": null,
            "object_position": null,
            "order": null,
            "overflow": null,
            "overflow_x": null,
            "overflow_y": null,
            "padding": null,
            "right": null,
            "top": null,
            "visibility": null,
            "width": null
          }
        },
        "f9bccaf0f9a94f1eb1dbcb29c1db3348": {
          "model_module": "@jupyter-widgets/controls",
          "model_name": "DescriptionStyleModel",
          "model_module_version": "1.5.0",
          "state": {
            "_model_module": "@jupyter-widgets/controls",
            "_model_module_version": "1.5.0",
            "_model_name": "DescriptionStyleModel",
            "_view_count": null,
            "_view_module": "@jupyter-widgets/base",
            "_view_module_version": "1.2.0",
            "_view_name": "StyleView",
            "description_width": ""
          }
        },
        "c30b7e7a7ca6495d9f8f95616c80dbd4": {
          "model_module": "@jupyter-widgets/base",
          "model_name": "LayoutModel",
          "model_module_version": "1.2.0",
          "state": {
            "_model_module": "@jupyter-widgets/base",
            "_model_module_version": "1.2.0",
            "_model_name": "LayoutModel",
            "_view_count": null,
            "_view_module": "@jupyter-widgets/base",
            "_view_module_version": "1.2.0",
            "_view_name": "LayoutView",
            "align_content": null,
            "align_items": null,
            "align_self": null,
            "border": null,
            "bottom": null,
            "display": null,
            "flex": null,
            "flex_flow": null,
            "grid_area": null,
            "grid_auto_columns": null,
            "grid_auto_flow": null,
            "grid_auto_rows": null,
            "grid_column": null,
            "grid_gap": null,
            "grid_row": null,
            "grid_template_areas": null,
            "grid_template_columns": null,
            "grid_template_rows": null,
            "height": null,
            "justify_content": null,
            "justify_items": null,
            "left": null,
            "margin": null,
            "max_height": null,
            "max_width": null,
            "min_height": null,
            "min_width": null,
            "object_fit": null,
            "object_position": null,
            "order": null,
            "overflow": null,
            "overflow_x": null,
            "overflow_y": null,
            "padding": null,
            "right": null,
            "top": null,
            "visibility": null,
            "width": null
          }
        },
        "ba32919546604cd1a7d0e93aa533ef9f": {
          "model_module": "@jupyter-widgets/controls",
          "model_name": "ProgressStyleModel",
          "model_module_version": "1.5.0",
          "state": {
            "_model_module": "@jupyter-widgets/controls",
            "_model_module_version": "1.5.0",
            "_model_name": "ProgressStyleModel",
            "_view_count": null,
            "_view_module": "@jupyter-widgets/base",
            "_view_module_version": "1.2.0",
            "_view_name": "StyleView",
            "bar_color": null,
            "description_width": ""
          }
        },
        "35898d00fcd940ff94e30a4b3aea4f19": {
          "model_module": "@jupyter-widgets/base",
          "model_name": "LayoutModel",
          "model_module_version": "1.2.0",
          "state": {
            "_model_module": "@jupyter-widgets/base",
            "_model_module_version": "1.2.0",
            "_model_name": "LayoutModel",
            "_view_count": null,
            "_view_module": "@jupyter-widgets/base",
            "_view_module_version": "1.2.0",
            "_view_name": "LayoutView",
            "align_content": null,
            "align_items": null,
            "align_self": null,
            "border": null,
            "bottom": null,
            "display": null,
            "flex": null,
            "flex_flow": null,
            "grid_area": null,
            "grid_auto_columns": null,
            "grid_auto_flow": null,
            "grid_auto_rows": null,
            "grid_column": null,
            "grid_gap": null,
            "grid_row": null,
            "grid_template_areas": null,
            "grid_template_columns": null,
            "grid_template_rows": null,
            "height": null,
            "justify_content": null,
            "justify_items": null,
            "left": null,
            "margin": null,
            "max_height": null,
            "max_width": null,
            "min_height": null,
            "min_width": null,
            "object_fit": null,
            "object_position": null,
            "order": null,
            "overflow": null,
            "overflow_x": null,
            "overflow_y": null,
            "padding": null,
            "right": null,
            "top": null,
            "visibility": null,
            "width": null
          }
        },
        "ba93678cc6d54ee2926712cd4afdf0c7": {
          "model_module": "@jupyter-widgets/controls",
          "model_name": "DescriptionStyleModel",
          "model_module_version": "1.5.0",
          "state": {
            "_model_module": "@jupyter-widgets/controls",
            "_model_module_version": "1.5.0",
            "_model_name": "DescriptionStyleModel",
            "_view_count": null,
            "_view_module": "@jupyter-widgets/base",
            "_view_module_version": "1.2.0",
            "_view_name": "StyleView",
            "description_width": ""
          }
        },
        "3301f69803d541b0a64a87318ac3e543": {
          "model_module": "@jupyter-widgets/controls",
          "model_name": "HBoxModel",
          "model_module_version": "1.5.0",
          "state": {
            "_dom_classes": [],
            "_model_module": "@jupyter-widgets/controls",
            "_model_module_version": "1.5.0",
            "_model_name": "HBoxModel",
            "_view_count": null,
            "_view_module": "@jupyter-widgets/controls",
            "_view_module_version": "1.5.0",
            "_view_name": "HBoxView",
            "box_style": "",
            "children": [
              "IPY_MODEL_9856fc853ca9479c9d0278aea979064b",
              "IPY_MODEL_3b2d854c0c0448ed90c3adeec7abf4bc",
              "IPY_MODEL_043bd471688c44c1aa15b3dcca92f0f7"
            ],
            "layout": "IPY_MODEL_972b545fafdc4d95aa9f8d18ac84f9e3"
          }
        },
        "9856fc853ca9479c9d0278aea979064b": {
          "model_module": "@jupyter-widgets/controls",
          "model_name": "HTMLModel",
          "model_module_version": "1.5.0",
          "state": {
            "_dom_classes": [],
            "_model_module": "@jupyter-widgets/controls",
            "_model_module_version": "1.5.0",
            "_model_name": "HTMLModel",
            "_view_count": null,
            "_view_module": "@jupyter-widgets/controls",
            "_view_module_version": "1.5.0",
            "_view_name": "HTMLView",
            "description": "",
            "description_tooltip": null,
            "layout": "IPY_MODEL_2ace16c7b64546399a9ee455f4830e5b",
            "placeholder": "​",
            "style": "IPY_MODEL_a88ea5cb3725422a84d1855a02343390",
            "value": "Downloading (…)lve/main/config.json: 100%"
          }
        },
        "3b2d854c0c0448ed90c3adeec7abf4bc": {
          "model_module": "@jupyter-widgets/controls",
          "model_name": "FloatProgressModel",
          "model_module_version": "1.5.0",
          "state": {
            "_dom_classes": [],
            "_model_module": "@jupyter-widgets/controls",
            "_model_module_version": "1.5.0",
            "_model_name": "FloatProgressModel",
            "_view_count": null,
            "_view_module": "@jupyter-widgets/controls",
            "_view_module_version": "1.5.0",
            "_view_name": "ProgressView",
            "bar_style": "success",
            "description": "",
            "description_tooltip": null,
            "layout": "IPY_MODEL_6cf5a2d27cee4e6792f564664005ea51",
            "max": 578,
            "min": 0,
            "orientation": "horizontal",
            "style": "IPY_MODEL_c40d384a47f448709fcda8e9a3f2c6a5",
            "value": 578
          }
        },
        "043bd471688c44c1aa15b3dcca92f0f7": {
          "model_module": "@jupyter-widgets/controls",
          "model_name": "HTMLModel",
          "model_module_version": "1.5.0",
          "state": {
            "_dom_classes": [],
            "_model_module": "@jupyter-widgets/controls",
            "_model_module_version": "1.5.0",
            "_model_name": "HTMLModel",
            "_view_count": null,
            "_view_module": "@jupyter-widgets/controls",
            "_view_module_version": "1.5.0",
            "_view_name": "HTMLView",
            "description": "",
            "description_tooltip": null,
            "layout": "IPY_MODEL_4d46635738ec40498aa80839b8a5f90a",
            "placeholder": "​",
            "style": "IPY_MODEL_ccae21cb64f24b01b2b6f5445f88a8da",
            "value": " 578/578 [00:00&lt;00:00, 43.6kB/s]"
          }
        },
        "972b545fafdc4d95aa9f8d18ac84f9e3": {
          "model_module": "@jupyter-widgets/base",
          "model_name": "LayoutModel",
          "model_module_version": "1.2.0",
          "state": {
            "_model_module": "@jupyter-widgets/base",
            "_model_module_version": "1.2.0",
            "_model_name": "LayoutModel",
            "_view_count": null,
            "_view_module": "@jupyter-widgets/base",
            "_view_module_version": "1.2.0",
            "_view_name": "LayoutView",
            "align_content": null,
            "align_items": null,
            "align_self": null,
            "border": null,
            "bottom": null,
            "display": null,
            "flex": null,
            "flex_flow": null,
            "grid_area": null,
            "grid_auto_columns": null,
            "grid_auto_flow": null,
            "grid_auto_rows": null,
            "grid_column": null,
            "grid_gap": null,
            "grid_row": null,
            "grid_template_areas": null,
            "grid_template_columns": null,
            "grid_template_rows": null,
            "height": null,
            "justify_content": null,
            "justify_items": null,
            "left": null,
            "margin": null,
            "max_height": null,
            "max_width": null,
            "min_height": null,
            "min_width": null,
            "object_fit": null,
            "object_position": null,
            "order": null,
            "overflow": null,
            "overflow_x": null,
            "overflow_y": null,
            "padding": null,
            "right": null,
            "top": null,
            "visibility": null,
            "width": null
          }
        },
        "2ace16c7b64546399a9ee455f4830e5b": {
          "model_module": "@jupyter-widgets/base",
          "model_name": "LayoutModel",
          "model_module_version": "1.2.0",
          "state": {
            "_model_module": "@jupyter-widgets/base",
            "_model_module_version": "1.2.0",
            "_model_name": "LayoutModel",
            "_view_count": null,
            "_view_module": "@jupyter-widgets/base",
            "_view_module_version": "1.2.0",
            "_view_name": "LayoutView",
            "align_content": null,
            "align_items": null,
            "align_self": null,
            "border": null,
            "bottom": null,
            "display": null,
            "flex": null,
            "flex_flow": null,
            "grid_area": null,
            "grid_auto_columns": null,
            "grid_auto_flow": null,
            "grid_auto_rows": null,
            "grid_column": null,
            "grid_gap": null,
            "grid_row": null,
            "grid_template_areas": null,
            "grid_template_columns": null,
            "grid_template_rows": null,
            "height": null,
            "justify_content": null,
            "justify_items": null,
            "left": null,
            "margin": null,
            "max_height": null,
            "max_width": null,
            "min_height": null,
            "min_width": null,
            "object_fit": null,
            "object_position": null,
            "order": null,
            "overflow": null,
            "overflow_x": null,
            "overflow_y": null,
            "padding": null,
            "right": null,
            "top": null,
            "visibility": null,
            "width": null
          }
        },
        "a88ea5cb3725422a84d1855a02343390": {
          "model_module": "@jupyter-widgets/controls",
          "model_name": "DescriptionStyleModel",
          "model_module_version": "1.5.0",
          "state": {
            "_model_module": "@jupyter-widgets/controls",
            "_model_module_version": "1.5.0",
            "_model_name": "DescriptionStyleModel",
            "_view_count": null,
            "_view_module": "@jupyter-widgets/base",
            "_view_module_version": "1.2.0",
            "_view_name": "StyleView",
            "description_width": ""
          }
        },
        "6cf5a2d27cee4e6792f564664005ea51": {
          "model_module": "@jupyter-widgets/base",
          "model_name": "LayoutModel",
          "model_module_version": "1.2.0",
          "state": {
            "_model_module": "@jupyter-widgets/base",
            "_model_module_version": "1.2.0",
            "_model_name": "LayoutModel",
            "_view_count": null,
            "_view_module": "@jupyter-widgets/base",
            "_view_module_version": "1.2.0",
            "_view_name": "LayoutView",
            "align_content": null,
            "align_items": null,
            "align_self": null,
            "border": null,
            "bottom": null,
            "display": null,
            "flex": null,
            "flex_flow": null,
            "grid_area": null,
            "grid_auto_columns": null,
            "grid_auto_flow": null,
            "grid_auto_rows": null,
            "grid_column": null,
            "grid_gap": null,
            "grid_row": null,
            "grid_template_areas": null,
            "grid_template_columns": null,
            "grid_template_rows": null,
            "height": null,
            "justify_content": null,
            "justify_items": null,
            "left": null,
            "margin": null,
            "max_height": null,
            "max_width": null,
            "min_height": null,
            "min_width": null,
            "object_fit": null,
            "object_position": null,
            "order": null,
            "overflow": null,
            "overflow_x": null,
            "overflow_y": null,
            "padding": null,
            "right": null,
            "top": null,
            "visibility": null,
            "width": null
          }
        },
        "c40d384a47f448709fcda8e9a3f2c6a5": {
          "model_module": "@jupyter-widgets/controls",
          "model_name": "ProgressStyleModel",
          "model_module_version": "1.5.0",
          "state": {
            "_model_module": "@jupyter-widgets/controls",
            "_model_module_version": "1.5.0",
            "_model_name": "ProgressStyleModel",
            "_view_count": null,
            "_view_module": "@jupyter-widgets/base",
            "_view_module_version": "1.2.0",
            "_view_name": "StyleView",
            "bar_color": null,
            "description_width": ""
          }
        },
        "4d46635738ec40498aa80839b8a5f90a": {
          "model_module": "@jupyter-widgets/base",
          "model_name": "LayoutModel",
          "model_module_version": "1.2.0",
          "state": {
            "_model_module": "@jupyter-widgets/base",
            "_model_module_version": "1.2.0",
            "_model_name": "LayoutModel",
            "_view_count": null,
            "_view_module": "@jupyter-widgets/base",
            "_view_module_version": "1.2.0",
            "_view_name": "LayoutView",
            "align_content": null,
            "align_items": null,
            "align_self": null,
            "border": null,
            "bottom": null,
            "display": null,
            "flex": null,
            "flex_flow": null,
            "grid_area": null,
            "grid_auto_columns": null,
            "grid_auto_flow": null,
            "grid_auto_rows": null,
            "grid_column": null,
            "grid_gap": null,
            "grid_row": null,
            "grid_template_areas": null,
            "grid_template_columns": null,
            "grid_template_rows": null,
            "height": null,
            "justify_content": null,
            "justify_items": null,
            "left": null,
            "margin": null,
            "max_height": null,
            "max_width": null,
            "min_height": null,
            "min_width": null,
            "object_fit": null,
            "object_position": null,
            "order": null,
            "overflow": null,
            "overflow_x": null,
            "overflow_y": null,
            "padding": null,
            "right": null,
            "top": null,
            "visibility": null,
            "width": null
          }
        },
        "ccae21cb64f24b01b2b6f5445f88a8da": {
          "model_module": "@jupyter-widgets/controls",
          "model_name": "DescriptionStyleModel",
          "model_module_version": "1.5.0",
          "state": {
            "_model_module": "@jupyter-widgets/controls",
            "_model_module_version": "1.5.0",
            "_model_name": "DescriptionStyleModel",
            "_view_count": null,
            "_view_module": "@jupyter-widgets/base",
            "_view_module_version": "1.2.0",
            "_view_name": "StyleView",
            "description_width": ""
          }
        },
        "412522ba367c47fc917bb7ff3eec22ff": {
          "model_module": "@jupyter-widgets/controls",
          "model_name": "HBoxModel",
          "model_module_version": "1.5.0",
          "state": {
            "_dom_classes": [],
            "_model_module": "@jupyter-widgets/controls",
            "_model_module_version": "1.5.0",
            "_model_name": "HBoxModel",
            "_view_count": null,
            "_view_module": "@jupyter-widgets/controls",
            "_view_module_version": "1.5.0",
            "_view_name": "HBoxView",
            "box_style": "",
            "children": [
              "IPY_MODEL_37a0eebaf9054550a1854e703c6cbe6d",
              "IPY_MODEL_19d8c36e37d7401cb067e09dbb57eebe",
              "IPY_MODEL_a99a61a3f13242f5ac5b41faf3fb83c6"
            ],
            "layout": "IPY_MODEL_473bd798988e4302ba16263795b744ce"
          }
        },
        "37a0eebaf9054550a1854e703c6cbe6d": {
          "model_module": "@jupyter-widgets/controls",
          "model_name": "HTMLModel",
          "model_module_version": "1.5.0",
          "state": {
            "_dom_classes": [],
            "_model_module": "@jupyter-widgets/controls",
            "_model_module_version": "1.5.0",
            "_model_name": "HTMLModel",
            "_view_count": null,
            "_view_module": "@jupyter-widgets/controls",
            "_view_module_version": "1.5.0",
            "_view_name": "HTMLView",
            "description": "",
            "description_tooltip": null,
            "layout": "IPY_MODEL_40896c2ce33e43f3ae0ccac969141a85",
            "placeholder": "​",
            "style": "IPY_MODEL_383cb9341bdc4750942ea88a81776827",
            "value": "Downloading spm.model: 100%"
          }
        },
        "19d8c36e37d7401cb067e09dbb57eebe": {
          "model_module": "@jupyter-widgets/controls",
          "model_name": "FloatProgressModel",
          "model_module_version": "1.5.0",
          "state": {
            "_dom_classes": [],
            "_model_module": "@jupyter-widgets/controls",
            "_model_module_version": "1.5.0",
            "_model_name": "FloatProgressModel",
            "_view_count": null,
            "_view_module": "@jupyter-widgets/controls",
            "_view_module_version": "1.5.0",
            "_view_name": "ProgressView",
            "bar_style": "success",
            "description": "",
            "description_tooltip": null,
            "layout": "IPY_MODEL_72f2becc1da94bd29d79b1d30340b607",
            "max": 2464616,
            "min": 0,
            "orientation": "horizontal",
            "style": "IPY_MODEL_047ef66c7573471d85593d379cdc6597",
            "value": 2464616
          }
        },
        "a99a61a3f13242f5ac5b41faf3fb83c6": {
          "model_module": "@jupyter-widgets/controls",
          "model_name": "HTMLModel",
          "model_module_version": "1.5.0",
          "state": {
            "_dom_classes": [],
            "_model_module": "@jupyter-widgets/controls",
            "_model_module_version": "1.5.0",
            "_model_name": "HTMLModel",
            "_view_count": null,
            "_view_module": "@jupyter-widgets/controls",
            "_view_module_version": "1.5.0",
            "_view_name": "HTMLView",
            "description": "",
            "description_tooltip": null,
            "layout": "IPY_MODEL_d4250ee35e3f477bb92a0f866f918766",
            "placeholder": "​",
            "style": "IPY_MODEL_fcd7b32a14ca4506baf121feee3e1b66",
            "value": " 2.46M/2.46M [00:00&lt;00:00, 15.1MB/s]"
          }
        },
        "473bd798988e4302ba16263795b744ce": {
          "model_module": "@jupyter-widgets/base",
          "model_name": "LayoutModel",
          "model_module_version": "1.2.0",
          "state": {
            "_model_module": "@jupyter-widgets/base",
            "_model_module_version": "1.2.0",
            "_model_name": "LayoutModel",
            "_view_count": null,
            "_view_module": "@jupyter-widgets/base",
            "_view_module_version": "1.2.0",
            "_view_name": "LayoutView",
            "align_content": null,
            "align_items": null,
            "align_self": null,
            "border": null,
            "bottom": null,
            "display": null,
            "flex": null,
            "flex_flow": null,
            "grid_area": null,
            "grid_auto_columns": null,
            "grid_auto_flow": null,
            "grid_auto_rows": null,
            "grid_column": null,
            "grid_gap": null,
            "grid_row": null,
            "grid_template_areas": null,
            "grid_template_columns": null,
            "grid_template_rows": null,
            "height": null,
            "justify_content": null,
            "justify_items": null,
            "left": null,
            "margin": null,
            "max_height": null,
            "max_width": null,
            "min_height": null,
            "min_width": null,
            "object_fit": null,
            "object_position": null,
            "order": null,
            "overflow": null,
            "overflow_x": null,
            "overflow_y": null,
            "padding": null,
            "right": null,
            "top": null,
            "visibility": null,
            "width": null
          }
        },
        "40896c2ce33e43f3ae0ccac969141a85": {
          "model_module": "@jupyter-widgets/base",
          "model_name": "LayoutModel",
          "model_module_version": "1.2.0",
          "state": {
            "_model_module": "@jupyter-widgets/base",
            "_model_module_version": "1.2.0",
            "_model_name": "LayoutModel",
            "_view_count": null,
            "_view_module": "@jupyter-widgets/base",
            "_view_module_version": "1.2.0",
            "_view_name": "LayoutView",
            "align_content": null,
            "align_items": null,
            "align_self": null,
            "border": null,
            "bottom": null,
            "display": null,
            "flex": null,
            "flex_flow": null,
            "grid_area": null,
            "grid_auto_columns": null,
            "grid_auto_flow": null,
            "grid_auto_rows": null,
            "grid_column": null,
            "grid_gap": null,
            "grid_row": null,
            "grid_template_areas": null,
            "grid_template_columns": null,
            "grid_template_rows": null,
            "height": null,
            "justify_content": null,
            "justify_items": null,
            "left": null,
            "margin": null,
            "max_height": null,
            "max_width": null,
            "min_height": null,
            "min_width": null,
            "object_fit": null,
            "object_position": null,
            "order": null,
            "overflow": null,
            "overflow_x": null,
            "overflow_y": null,
            "padding": null,
            "right": null,
            "top": null,
            "visibility": null,
            "width": null
          }
        },
        "383cb9341bdc4750942ea88a81776827": {
          "model_module": "@jupyter-widgets/controls",
          "model_name": "DescriptionStyleModel",
          "model_module_version": "1.5.0",
          "state": {
            "_model_module": "@jupyter-widgets/controls",
            "_model_module_version": "1.5.0",
            "_model_name": "DescriptionStyleModel",
            "_view_count": null,
            "_view_module": "@jupyter-widgets/base",
            "_view_module_version": "1.2.0",
            "_view_name": "StyleView",
            "description_width": ""
          }
        },
        "72f2becc1da94bd29d79b1d30340b607": {
          "model_module": "@jupyter-widgets/base",
          "model_name": "LayoutModel",
          "model_module_version": "1.2.0",
          "state": {
            "_model_module": "@jupyter-widgets/base",
            "_model_module_version": "1.2.0",
            "_model_name": "LayoutModel",
            "_view_count": null,
            "_view_module": "@jupyter-widgets/base",
            "_view_module_version": "1.2.0",
            "_view_name": "LayoutView",
            "align_content": null,
            "align_items": null,
            "align_self": null,
            "border": null,
            "bottom": null,
            "display": null,
            "flex": null,
            "flex_flow": null,
            "grid_area": null,
            "grid_auto_columns": null,
            "grid_auto_flow": null,
            "grid_auto_rows": null,
            "grid_column": null,
            "grid_gap": null,
            "grid_row": null,
            "grid_template_areas": null,
            "grid_template_columns": null,
            "grid_template_rows": null,
            "height": null,
            "justify_content": null,
            "justify_items": null,
            "left": null,
            "margin": null,
            "max_height": null,
            "max_width": null,
            "min_height": null,
            "min_width": null,
            "object_fit": null,
            "object_position": null,
            "order": null,
            "overflow": null,
            "overflow_x": null,
            "overflow_y": null,
            "padding": null,
            "right": null,
            "top": null,
            "visibility": null,
            "width": null
          }
        },
        "047ef66c7573471d85593d379cdc6597": {
          "model_module": "@jupyter-widgets/controls",
          "model_name": "ProgressStyleModel",
          "model_module_version": "1.5.0",
          "state": {
            "_model_module": "@jupyter-widgets/controls",
            "_model_module_version": "1.5.0",
            "_model_name": "ProgressStyleModel",
            "_view_count": null,
            "_view_module": "@jupyter-widgets/base",
            "_view_module_version": "1.2.0",
            "_view_name": "StyleView",
            "bar_color": null,
            "description_width": ""
          }
        },
        "d4250ee35e3f477bb92a0f866f918766": {
          "model_module": "@jupyter-widgets/base",
          "model_name": "LayoutModel",
          "model_module_version": "1.2.0",
          "state": {
            "_model_module": "@jupyter-widgets/base",
            "_model_module_version": "1.2.0",
            "_model_name": "LayoutModel",
            "_view_count": null,
            "_view_module": "@jupyter-widgets/base",
            "_view_module_version": "1.2.0",
            "_view_name": "LayoutView",
            "align_content": null,
            "align_items": null,
            "align_self": null,
            "border": null,
            "bottom": null,
            "display": null,
            "flex": null,
            "flex_flow": null,
            "grid_area": null,
            "grid_auto_columns": null,
            "grid_auto_flow": null,
            "grid_auto_rows": null,
            "grid_column": null,
            "grid_gap": null,
            "grid_row": null,
            "grid_template_areas": null,
            "grid_template_columns": null,
            "grid_template_rows": null,
            "height": null,
            "justify_content": null,
            "justify_items": null,
            "left": null,
            "margin": null,
            "max_height": null,
            "max_width": null,
            "min_height": null,
            "min_width": null,
            "object_fit": null,
            "object_position": null,
            "order": null,
            "overflow": null,
            "overflow_x": null,
            "overflow_y": null,
            "padding": null,
            "right": null,
            "top": null,
            "visibility": null,
            "width": null
          }
        },
        "fcd7b32a14ca4506baf121feee3e1b66": {
          "model_module": "@jupyter-widgets/controls",
          "model_name": "DescriptionStyleModel",
          "model_module_version": "1.5.0",
          "state": {
            "_model_module": "@jupyter-widgets/controls",
            "_model_module_version": "1.5.0",
            "_model_name": "DescriptionStyleModel",
            "_view_count": null,
            "_view_module": "@jupyter-widgets/base",
            "_view_module_version": "1.2.0",
            "_view_name": "StyleView",
            "description_width": ""
          }
        },
        "3d56743a122f4ddab82bcb6cda8f4c45": {
          "model_module": "@jupyter-widgets/controls",
          "model_name": "HBoxModel",
          "model_module_version": "1.5.0",
          "state": {
            "_dom_classes": [],
            "_model_module": "@jupyter-widgets/controls",
            "_model_module_version": "1.5.0",
            "_model_name": "HBoxModel",
            "_view_count": null,
            "_view_module": "@jupyter-widgets/controls",
            "_view_module_version": "1.5.0",
            "_view_name": "HBoxView",
            "box_style": "",
            "children": [
              "IPY_MODEL_ffe9a15d03c74588bad0bbe04bb85935",
              "IPY_MODEL_f980d028d48c4f7199a9cd4651a1d286",
              "IPY_MODEL_b1c3845debec46328ca435f29a8da411"
            ],
            "layout": "IPY_MODEL_77b85d7da087410999457fe06b622c49"
          }
        },
        "ffe9a15d03c74588bad0bbe04bb85935": {
          "model_module": "@jupyter-widgets/controls",
          "model_name": "HTMLModel",
          "model_module_version": "1.5.0",
          "state": {
            "_dom_classes": [],
            "_model_module": "@jupyter-widgets/controls",
            "_model_module_version": "1.5.0",
            "_model_name": "HTMLModel",
            "_view_count": null,
            "_view_module": "@jupyter-widgets/controls",
            "_view_module_version": "1.5.0",
            "_view_name": "HTMLView",
            "description": "",
            "description_tooltip": null,
            "layout": "IPY_MODEL_98056b387b824fa8835b81c8cb6e1bc8",
            "placeholder": "​",
            "style": "IPY_MODEL_73e25d4c34c6402aa2640e89f1a623a2",
            "value": "Downloading (…)okenizer_config.json: 100%"
          }
        },
        "f980d028d48c4f7199a9cd4651a1d286": {
          "model_module": "@jupyter-widgets/controls",
          "model_name": "FloatProgressModel",
          "model_module_version": "1.5.0",
          "state": {
            "_dom_classes": [],
            "_model_module": "@jupyter-widgets/controls",
            "_model_module_version": "1.5.0",
            "_model_name": "FloatProgressModel",
            "_view_count": null,
            "_view_module": "@jupyter-widgets/controls",
            "_view_module_version": "1.5.0",
            "_view_name": "ProgressView",
            "bar_style": "success",
            "description": "",
            "description_tooltip": null,
            "layout": "IPY_MODEL_72d41d03f20344d79ea690b5e04b0626",
            "max": 52,
            "min": 0,
            "orientation": "horizontal",
            "style": "IPY_MODEL_a421b2f090c9452f93c61de10107585b",
            "value": 52
          }
        },
        "b1c3845debec46328ca435f29a8da411": {
          "model_module": "@jupyter-widgets/controls",
          "model_name": "HTMLModel",
          "model_module_version": "1.5.0",
          "state": {
            "_dom_classes": [],
            "_model_module": "@jupyter-widgets/controls",
            "_model_module_version": "1.5.0",
            "_model_name": "HTMLModel",
            "_view_count": null,
            "_view_module": "@jupyter-widgets/controls",
            "_view_module_version": "1.5.0",
            "_view_name": "HTMLView",
            "description": "",
            "description_tooltip": null,
            "layout": "IPY_MODEL_4e62b9f192b2460b9f9ca3d983ca3f06",
            "placeholder": "​",
            "style": "IPY_MODEL_e0cb584d11ca4c21ae5ea6a1c05d8e9b",
            "value": " 52.0/52.0 [00:00&lt;00:00, 3.59kB/s]"
          }
        },
        "77b85d7da087410999457fe06b622c49": {
          "model_module": "@jupyter-widgets/base",
          "model_name": "LayoutModel",
          "model_module_version": "1.2.0",
          "state": {
            "_model_module": "@jupyter-widgets/base",
            "_model_module_version": "1.2.0",
            "_model_name": "LayoutModel",
            "_view_count": null,
            "_view_module": "@jupyter-widgets/base",
            "_view_module_version": "1.2.0",
            "_view_name": "LayoutView",
            "align_content": null,
            "align_items": null,
            "align_self": null,
            "border": null,
            "bottom": null,
            "display": null,
            "flex": null,
            "flex_flow": null,
            "grid_area": null,
            "grid_auto_columns": null,
            "grid_auto_flow": null,
            "grid_auto_rows": null,
            "grid_column": null,
            "grid_gap": null,
            "grid_row": null,
            "grid_template_areas": null,
            "grid_template_columns": null,
            "grid_template_rows": null,
            "height": null,
            "justify_content": null,
            "justify_items": null,
            "left": null,
            "margin": null,
            "max_height": null,
            "max_width": null,
            "min_height": null,
            "min_width": null,
            "object_fit": null,
            "object_position": null,
            "order": null,
            "overflow": null,
            "overflow_x": null,
            "overflow_y": null,
            "padding": null,
            "right": null,
            "top": null,
            "visibility": null,
            "width": null
          }
        },
        "98056b387b824fa8835b81c8cb6e1bc8": {
          "model_module": "@jupyter-widgets/base",
          "model_name": "LayoutModel",
          "model_module_version": "1.2.0",
          "state": {
            "_model_module": "@jupyter-widgets/base",
            "_model_module_version": "1.2.0",
            "_model_name": "LayoutModel",
            "_view_count": null,
            "_view_module": "@jupyter-widgets/base",
            "_view_module_version": "1.2.0",
            "_view_name": "LayoutView",
            "align_content": null,
            "align_items": null,
            "align_self": null,
            "border": null,
            "bottom": null,
            "display": null,
            "flex": null,
            "flex_flow": null,
            "grid_area": null,
            "grid_auto_columns": null,
            "grid_auto_flow": null,
            "grid_auto_rows": null,
            "grid_column": null,
            "grid_gap": null,
            "grid_row": null,
            "grid_template_areas": null,
            "grid_template_columns": null,
            "grid_template_rows": null,
            "height": null,
            "justify_content": null,
            "justify_items": null,
            "left": null,
            "margin": null,
            "max_height": null,
            "max_width": null,
            "min_height": null,
            "min_width": null,
            "object_fit": null,
            "object_position": null,
            "order": null,
            "overflow": null,
            "overflow_x": null,
            "overflow_y": null,
            "padding": null,
            "right": null,
            "top": null,
            "visibility": null,
            "width": null
          }
        },
        "73e25d4c34c6402aa2640e89f1a623a2": {
          "model_module": "@jupyter-widgets/controls",
          "model_name": "DescriptionStyleModel",
          "model_module_version": "1.5.0",
          "state": {
            "_model_module": "@jupyter-widgets/controls",
            "_model_module_version": "1.5.0",
            "_model_name": "DescriptionStyleModel",
            "_view_count": null,
            "_view_module": "@jupyter-widgets/base",
            "_view_module_version": "1.2.0",
            "_view_name": "StyleView",
            "description_width": ""
          }
        },
        "72d41d03f20344d79ea690b5e04b0626": {
          "model_module": "@jupyter-widgets/base",
          "model_name": "LayoutModel",
          "model_module_version": "1.2.0",
          "state": {
            "_model_module": "@jupyter-widgets/base",
            "_model_module_version": "1.2.0",
            "_model_name": "LayoutModel",
            "_view_count": null,
            "_view_module": "@jupyter-widgets/base",
            "_view_module_version": "1.2.0",
            "_view_name": "LayoutView",
            "align_content": null,
            "align_items": null,
            "align_self": null,
            "border": null,
            "bottom": null,
            "display": null,
            "flex": null,
            "flex_flow": null,
            "grid_area": null,
            "grid_auto_columns": null,
            "grid_auto_flow": null,
            "grid_auto_rows": null,
            "grid_column": null,
            "grid_gap": null,
            "grid_row": null,
            "grid_template_areas": null,
            "grid_template_columns": null,
            "grid_template_rows": null,
            "height": null,
            "justify_content": null,
            "justify_items": null,
            "left": null,
            "margin": null,
            "max_height": null,
            "max_width": null,
            "min_height": null,
            "min_width": null,
            "object_fit": null,
            "object_position": null,
            "order": null,
            "overflow": null,
            "overflow_x": null,
            "overflow_y": null,
            "padding": null,
            "right": null,
            "top": null,
            "visibility": null,
            "width": null
          }
        },
        "a421b2f090c9452f93c61de10107585b": {
          "model_module": "@jupyter-widgets/controls",
          "model_name": "ProgressStyleModel",
          "model_module_version": "1.5.0",
          "state": {
            "_model_module": "@jupyter-widgets/controls",
            "_model_module_version": "1.5.0",
            "_model_name": "ProgressStyleModel",
            "_view_count": null,
            "_view_module": "@jupyter-widgets/base",
            "_view_module_version": "1.2.0",
            "_view_name": "StyleView",
            "bar_color": null,
            "description_width": ""
          }
        },
        "4e62b9f192b2460b9f9ca3d983ca3f06": {
          "model_module": "@jupyter-widgets/base",
          "model_name": "LayoutModel",
          "model_module_version": "1.2.0",
          "state": {
            "_model_module": "@jupyter-widgets/base",
            "_model_module_version": "1.2.0",
            "_model_name": "LayoutModel",
            "_view_count": null,
            "_view_module": "@jupyter-widgets/base",
            "_view_module_version": "1.2.0",
            "_view_name": "LayoutView",
            "align_content": null,
            "align_items": null,
            "align_self": null,
            "border": null,
            "bottom": null,
            "display": null,
            "flex": null,
            "flex_flow": null,
            "grid_area": null,
            "grid_auto_columns": null,
            "grid_auto_flow": null,
            "grid_auto_rows": null,
            "grid_column": null,
            "grid_gap": null,
            "grid_row": null,
            "grid_template_areas": null,
            "grid_template_columns": null,
            "grid_template_rows": null,
            "height": null,
            "justify_content": null,
            "justify_items": null,
            "left": null,
            "margin": null,
            "max_height": null,
            "max_width": null,
            "min_height": null,
            "min_width": null,
            "object_fit": null,
            "object_position": null,
            "order": null,
            "overflow": null,
            "overflow_x": null,
            "overflow_y": null,
            "padding": null,
            "right": null,
            "top": null,
            "visibility": null,
            "width": null
          }
        },
        "e0cb584d11ca4c21ae5ea6a1c05d8e9b": {
          "model_module": "@jupyter-widgets/controls",
          "model_name": "DescriptionStyleModel",
          "model_module_version": "1.5.0",
          "state": {
            "_model_module": "@jupyter-widgets/controls",
            "_model_module_version": "1.5.0",
            "_model_name": "DescriptionStyleModel",
            "_view_count": null,
            "_view_module": "@jupyter-widgets/base",
            "_view_module_version": "1.2.0",
            "_view_name": "StyleView",
            "description_width": ""
          }
        },
        "12d4060445854891a5103cbc2fa1cafb": {
          "model_module": "@jupyter-widgets/controls",
          "model_name": "HBoxModel",
          "model_module_version": "1.5.0",
          "state": {
            "_dom_classes": [],
            "_model_module": "@jupyter-widgets/controls",
            "_model_module_version": "1.5.0",
            "_model_name": "HBoxModel",
            "_view_count": null,
            "_view_module": "@jupyter-widgets/controls",
            "_view_module_version": "1.5.0",
            "_view_name": "HBoxView",
            "box_style": "",
            "children": [
              "IPY_MODEL_73e50d7c1f3e44309a511f71d69dcd04",
              "IPY_MODEL_acd47a60531c4446802b5ebd6943c497",
              "IPY_MODEL_e98b95c24ced4ec6b9aadb43bbd7e382"
            ],
            "layout": "IPY_MODEL_d91cd080dac4497dbe8aec6709bc54bc"
          }
        },
        "73e50d7c1f3e44309a511f71d69dcd04": {
          "model_module": "@jupyter-widgets/controls",
          "model_name": "HTMLModel",
          "model_module_version": "1.5.0",
          "state": {
            "_dom_classes": [],
            "_model_module": "@jupyter-widgets/controls",
            "_model_module_version": "1.5.0",
            "_model_name": "HTMLModel",
            "_view_count": null,
            "_view_module": "@jupyter-widgets/controls",
            "_view_module_version": "1.5.0",
            "_view_name": "HTMLView",
            "description": "",
            "description_tooltip": null,
            "layout": "IPY_MODEL_b68de151d248426eba5375b7ecee5cee",
            "placeholder": "​",
            "style": "IPY_MODEL_c977e6978ec24cae9acf227f76595836",
            "value": "Downloading (…)lve/main/config.json: 100%"
          }
        },
        "acd47a60531c4446802b5ebd6943c497": {
          "model_module": "@jupyter-widgets/controls",
          "model_name": "FloatProgressModel",
          "model_module_version": "1.5.0",
          "state": {
            "_dom_classes": [],
            "_model_module": "@jupyter-widgets/controls",
            "_model_module_version": "1.5.0",
            "_model_name": "FloatProgressModel",
            "_view_count": null,
            "_view_module": "@jupyter-widgets/controls",
            "_view_module_version": "1.5.0",
            "_view_name": "ProgressView",
            "bar_style": "success",
            "description": "",
            "description_tooltip": null,
            "layout": "IPY_MODEL_50330355561940b9a25be8b51dc8f2f7",
            "max": 580,
            "min": 0,
            "orientation": "horizontal",
            "style": "IPY_MODEL_8a9a99db28cd47d1a3fba7b2fab54a87",
            "value": 580
          }
        },
        "e98b95c24ced4ec6b9aadb43bbd7e382": {
          "model_module": "@jupyter-widgets/controls",
          "model_name": "HTMLModel",
          "model_module_version": "1.5.0",
          "state": {
            "_dom_classes": [],
            "_model_module": "@jupyter-widgets/controls",
            "_model_module_version": "1.5.0",
            "_model_name": "HTMLModel",
            "_view_count": null,
            "_view_module": "@jupyter-widgets/controls",
            "_view_module_version": "1.5.0",
            "_view_name": "HTMLView",
            "description": "",
            "description_tooltip": null,
            "layout": "IPY_MODEL_10a49287ed6d49ba9b48d427dcb8ec5b",
            "placeholder": "​",
            "style": "IPY_MODEL_3df4f2dccc1e4c0daeecb60a08f175d1",
            "value": " 580/580 [00:00&lt;00:00, 42.2kB/s]"
          }
        },
        "d91cd080dac4497dbe8aec6709bc54bc": {
          "model_module": "@jupyter-widgets/base",
          "model_name": "LayoutModel",
          "model_module_version": "1.2.0",
          "state": {
            "_model_module": "@jupyter-widgets/base",
            "_model_module_version": "1.2.0",
            "_model_name": "LayoutModel",
            "_view_count": null,
            "_view_module": "@jupyter-widgets/base",
            "_view_module_version": "1.2.0",
            "_view_name": "LayoutView",
            "align_content": null,
            "align_items": null,
            "align_self": null,
            "border": null,
            "bottom": null,
            "display": null,
            "flex": null,
            "flex_flow": null,
            "grid_area": null,
            "grid_auto_columns": null,
            "grid_auto_flow": null,
            "grid_auto_rows": null,
            "grid_column": null,
            "grid_gap": null,
            "grid_row": null,
            "grid_template_areas": null,
            "grid_template_columns": null,
            "grid_template_rows": null,
            "height": null,
            "justify_content": null,
            "justify_items": null,
            "left": null,
            "margin": null,
            "max_height": null,
            "max_width": null,
            "min_height": null,
            "min_width": null,
            "object_fit": null,
            "object_position": null,
            "order": null,
            "overflow": null,
            "overflow_x": null,
            "overflow_y": null,
            "padding": null,
            "right": null,
            "top": null,
            "visibility": null,
            "width": null
          }
        },
        "b68de151d248426eba5375b7ecee5cee": {
          "model_module": "@jupyter-widgets/base",
          "model_name": "LayoutModel",
          "model_module_version": "1.2.0",
          "state": {
            "_model_module": "@jupyter-widgets/base",
            "_model_module_version": "1.2.0",
            "_model_name": "LayoutModel",
            "_view_count": null,
            "_view_module": "@jupyter-widgets/base",
            "_view_module_version": "1.2.0",
            "_view_name": "LayoutView",
            "align_content": null,
            "align_items": null,
            "align_self": null,
            "border": null,
            "bottom": null,
            "display": null,
            "flex": null,
            "flex_flow": null,
            "grid_area": null,
            "grid_auto_columns": null,
            "grid_auto_flow": null,
            "grid_auto_rows": null,
            "grid_column": null,
            "grid_gap": null,
            "grid_row": null,
            "grid_template_areas": null,
            "grid_template_columns": null,
            "grid_template_rows": null,
            "height": null,
            "justify_content": null,
            "justify_items": null,
            "left": null,
            "margin": null,
            "max_height": null,
            "max_width": null,
            "min_height": null,
            "min_width": null,
            "object_fit": null,
            "object_position": null,
            "order": null,
            "overflow": null,
            "overflow_x": null,
            "overflow_y": null,
            "padding": null,
            "right": null,
            "top": null,
            "visibility": null,
            "width": null
          }
        },
        "c977e6978ec24cae9acf227f76595836": {
          "model_module": "@jupyter-widgets/controls",
          "model_name": "DescriptionStyleModel",
          "model_module_version": "1.5.0",
          "state": {
            "_model_module": "@jupyter-widgets/controls",
            "_model_module_version": "1.5.0",
            "_model_name": "DescriptionStyleModel",
            "_view_count": null,
            "_view_module": "@jupyter-widgets/base",
            "_view_module_version": "1.2.0",
            "_view_name": "StyleView",
            "description_width": ""
          }
        },
        "50330355561940b9a25be8b51dc8f2f7": {
          "model_module": "@jupyter-widgets/base",
          "model_name": "LayoutModel",
          "model_module_version": "1.2.0",
          "state": {
            "_model_module": "@jupyter-widgets/base",
            "_model_module_version": "1.2.0",
            "_model_name": "LayoutModel",
            "_view_count": null,
            "_view_module": "@jupyter-widgets/base",
            "_view_module_version": "1.2.0",
            "_view_name": "LayoutView",
            "align_content": null,
            "align_items": null,
            "align_self": null,
            "border": null,
            "bottom": null,
            "display": null,
            "flex": null,
            "flex_flow": null,
            "grid_area": null,
            "grid_auto_columns": null,
            "grid_auto_flow": null,
            "grid_auto_rows": null,
            "grid_column": null,
            "grid_gap": null,
            "grid_row": null,
            "grid_template_areas": null,
            "grid_template_columns": null,
            "grid_template_rows": null,
            "height": null,
            "justify_content": null,
            "justify_items": null,
            "left": null,
            "margin": null,
            "max_height": null,
            "max_width": null,
            "min_height": null,
            "min_width": null,
            "object_fit": null,
            "object_position": null,
            "order": null,
            "overflow": null,
            "overflow_x": null,
            "overflow_y": null,
            "padding": null,
            "right": null,
            "top": null,
            "visibility": null,
            "width": null
          }
        },
        "8a9a99db28cd47d1a3fba7b2fab54a87": {
          "model_module": "@jupyter-widgets/controls",
          "model_name": "ProgressStyleModel",
          "model_module_version": "1.5.0",
          "state": {
            "_model_module": "@jupyter-widgets/controls",
            "_model_module_version": "1.5.0",
            "_model_name": "ProgressStyleModel",
            "_view_count": null,
            "_view_module": "@jupyter-widgets/base",
            "_view_module_version": "1.2.0",
            "_view_name": "StyleView",
            "bar_color": null,
            "description_width": ""
          }
        },
        "10a49287ed6d49ba9b48d427dcb8ec5b": {
          "model_module": "@jupyter-widgets/base",
          "model_name": "LayoutModel",
          "model_module_version": "1.2.0",
          "state": {
            "_model_module": "@jupyter-widgets/base",
            "_model_module_version": "1.2.0",
            "_model_name": "LayoutModel",
            "_view_count": null,
            "_view_module": "@jupyter-widgets/base",
            "_view_module_version": "1.2.0",
            "_view_name": "LayoutView",
            "align_content": null,
            "align_items": null,
            "align_self": null,
            "border": null,
            "bottom": null,
            "display": null,
            "flex": null,
            "flex_flow": null,
            "grid_area": null,
            "grid_auto_columns": null,
            "grid_auto_flow": null,
            "grid_auto_rows": null,
            "grid_column": null,
            "grid_gap": null,
            "grid_row": null,
            "grid_template_areas": null,
            "grid_template_columns": null,
            "grid_template_rows": null,
            "height": null,
            "justify_content": null,
            "justify_items": null,
            "left": null,
            "margin": null,
            "max_height": null,
            "max_width": null,
            "min_height": null,
            "min_width": null,
            "object_fit": null,
            "object_position": null,
            "order": null,
            "overflow": null,
            "overflow_x": null,
            "overflow_y": null,
            "padding": null,
            "right": null,
            "top": null,
            "visibility": null,
            "width": null
          }
        },
        "3df4f2dccc1e4c0daeecb60a08f175d1": {
          "model_module": "@jupyter-widgets/controls",
          "model_name": "DescriptionStyleModel",
          "model_module_version": "1.5.0",
          "state": {
            "_model_module": "@jupyter-widgets/controls",
            "_model_module_version": "1.5.0",
            "_model_name": "DescriptionStyleModel",
            "_view_count": null,
            "_view_module": "@jupyter-widgets/base",
            "_view_module_version": "1.2.0",
            "_view_name": "StyleView",
            "description_width": ""
          }
        },
        "ec8f4c5ba7304accb189fba376b7aa28": {
          "model_module": "@jupyter-widgets/controls",
          "model_name": "HBoxModel",
          "model_module_version": "1.5.0",
          "state": {
            "_dom_classes": [],
            "_model_module": "@jupyter-widgets/controls",
            "_model_module_version": "1.5.0",
            "_model_name": "HBoxModel",
            "_view_count": null,
            "_view_module": "@jupyter-widgets/controls",
            "_view_module_version": "1.5.0",
            "_view_name": "HBoxView",
            "box_style": "",
            "children": [
              "IPY_MODEL_9177bb6ea6a04a7b8641b2c7f2d34db5",
              "IPY_MODEL_30eba602212b4f8e818005f741ae2116",
              "IPY_MODEL_385aae6b1a07440893afd7ae239a94c1"
            ],
            "layout": "IPY_MODEL_32120dbe0d6c400ea47573e4a712996c"
          }
        },
        "9177bb6ea6a04a7b8641b2c7f2d34db5": {
          "model_module": "@jupyter-widgets/controls",
          "model_name": "HTMLModel",
          "model_module_version": "1.5.0",
          "state": {
            "_dom_classes": [],
            "_model_module": "@jupyter-widgets/controls",
            "_model_module_version": "1.5.0",
            "_model_name": "HTMLModel",
            "_view_count": null,
            "_view_module": "@jupyter-widgets/controls",
            "_view_module_version": "1.5.0",
            "_view_name": "HTMLView",
            "description": "",
            "description_tooltip": null,
            "layout": "IPY_MODEL_c7aeb65717ce48398f5c3684110c78ae",
            "placeholder": "​",
            "style": "IPY_MODEL_2af5f357a6254afaa1b89cde599009da",
            "value": "Downloading spm.model: 100%"
          }
        },
        "30eba602212b4f8e818005f741ae2116": {
          "model_module": "@jupyter-widgets/controls",
          "model_name": "FloatProgressModel",
          "model_module_version": "1.5.0",
          "state": {
            "_dom_classes": [],
            "_model_module": "@jupyter-widgets/controls",
            "_model_module_version": "1.5.0",
            "_model_name": "FloatProgressModel",
            "_view_count": null,
            "_view_module": "@jupyter-widgets/controls",
            "_view_module_version": "1.5.0",
            "_view_name": "ProgressView",
            "bar_style": "success",
            "description": "",
            "description_tooltip": null,
            "layout": "IPY_MODEL_a68f2bc107c04c408be2dc4b27c84111",
            "max": 2464616,
            "min": 0,
            "orientation": "horizontal",
            "style": "IPY_MODEL_a0fe019da86d429ba7d3e2b6a78da9b3",
            "value": 2464616
          }
        },
        "385aae6b1a07440893afd7ae239a94c1": {
          "model_module": "@jupyter-widgets/controls",
          "model_name": "HTMLModel",
          "model_module_version": "1.5.0",
          "state": {
            "_dom_classes": [],
            "_model_module": "@jupyter-widgets/controls",
            "_model_module_version": "1.5.0",
            "_model_name": "HTMLModel",
            "_view_count": null,
            "_view_module": "@jupyter-widgets/controls",
            "_view_module_version": "1.5.0",
            "_view_name": "HTMLView",
            "description": "",
            "description_tooltip": null,
            "layout": "IPY_MODEL_336b522784744c449b8afcc8efbccac2",
            "placeholder": "​",
            "style": "IPY_MODEL_be9ad92476604c00922a64ded0297f12",
            "value": " 2.46M/2.46M [00:00&lt;00:00, 10.8MB/s]"
          }
        },
        "32120dbe0d6c400ea47573e4a712996c": {
          "model_module": "@jupyter-widgets/base",
          "model_name": "LayoutModel",
          "model_module_version": "1.2.0",
          "state": {
            "_model_module": "@jupyter-widgets/base",
            "_model_module_version": "1.2.0",
            "_model_name": "LayoutModel",
            "_view_count": null,
            "_view_module": "@jupyter-widgets/base",
            "_view_module_version": "1.2.0",
            "_view_name": "LayoutView",
            "align_content": null,
            "align_items": null,
            "align_self": null,
            "border": null,
            "bottom": null,
            "display": null,
            "flex": null,
            "flex_flow": null,
            "grid_area": null,
            "grid_auto_columns": null,
            "grid_auto_flow": null,
            "grid_auto_rows": null,
            "grid_column": null,
            "grid_gap": null,
            "grid_row": null,
            "grid_template_areas": null,
            "grid_template_columns": null,
            "grid_template_rows": null,
            "height": null,
            "justify_content": null,
            "justify_items": null,
            "left": null,
            "margin": null,
            "max_height": null,
            "max_width": null,
            "min_height": null,
            "min_width": null,
            "object_fit": null,
            "object_position": null,
            "order": null,
            "overflow": null,
            "overflow_x": null,
            "overflow_y": null,
            "padding": null,
            "right": null,
            "top": null,
            "visibility": null,
            "width": null
          }
        },
        "c7aeb65717ce48398f5c3684110c78ae": {
          "model_module": "@jupyter-widgets/base",
          "model_name": "LayoutModel",
          "model_module_version": "1.2.0",
          "state": {
            "_model_module": "@jupyter-widgets/base",
            "_model_module_version": "1.2.0",
            "_model_name": "LayoutModel",
            "_view_count": null,
            "_view_module": "@jupyter-widgets/base",
            "_view_module_version": "1.2.0",
            "_view_name": "LayoutView",
            "align_content": null,
            "align_items": null,
            "align_self": null,
            "border": null,
            "bottom": null,
            "display": null,
            "flex": null,
            "flex_flow": null,
            "grid_area": null,
            "grid_auto_columns": null,
            "grid_auto_flow": null,
            "grid_auto_rows": null,
            "grid_column": null,
            "grid_gap": null,
            "grid_row": null,
            "grid_template_areas": null,
            "grid_template_columns": null,
            "grid_template_rows": null,
            "height": null,
            "justify_content": null,
            "justify_items": null,
            "left": null,
            "margin": null,
            "max_height": null,
            "max_width": null,
            "min_height": null,
            "min_width": null,
            "object_fit": null,
            "object_position": null,
            "order": null,
            "overflow": null,
            "overflow_x": null,
            "overflow_y": null,
            "padding": null,
            "right": null,
            "top": null,
            "visibility": null,
            "width": null
          }
        },
        "2af5f357a6254afaa1b89cde599009da": {
          "model_module": "@jupyter-widgets/controls",
          "model_name": "DescriptionStyleModel",
          "model_module_version": "1.5.0",
          "state": {
            "_model_module": "@jupyter-widgets/controls",
            "_model_module_version": "1.5.0",
            "_model_name": "DescriptionStyleModel",
            "_view_count": null,
            "_view_module": "@jupyter-widgets/base",
            "_view_module_version": "1.2.0",
            "_view_name": "StyleView",
            "description_width": ""
          }
        },
        "a68f2bc107c04c408be2dc4b27c84111": {
          "model_module": "@jupyter-widgets/base",
          "model_name": "LayoutModel",
          "model_module_version": "1.2.0",
          "state": {
            "_model_module": "@jupyter-widgets/base",
            "_model_module_version": "1.2.0",
            "_model_name": "LayoutModel",
            "_view_count": null,
            "_view_module": "@jupyter-widgets/base",
            "_view_module_version": "1.2.0",
            "_view_name": "LayoutView",
            "align_content": null,
            "align_items": null,
            "align_self": null,
            "border": null,
            "bottom": null,
            "display": null,
            "flex": null,
            "flex_flow": null,
            "grid_area": null,
            "grid_auto_columns": null,
            "grid_auto_flow": null,
            "grid_auto_rows": null,
            "grid_column": null,
            "grid_gap": null,
            "grid_row": null,
            "grid_template_areas": null,
            "grid_template_columns": null,
            "grid_template_rows": null,
            "height": null,
            "justify_content": null,
            "justify_items": null,
            "left": null,
            "margin": null,
            "max_height": null,
            "max_width": null,
            "min_height": null,
            "min_width": null,
            "object_fit": null,
            "object_position": null,
            "order": null,
            "overflow": null,
            "overflow_x": null,
            "overflow_y": null,
            "padding": null,
            "right": null,
            "top": null,
            "visibility": null,
            "width": null
          }
        },
        "a0fe019da86d429ba7d3e2b6a78da9b3": {
          "model_module": "@jupyter-widgets/controls",
          "model_name": "ProgressStyleModel",
          "model_module_version": "1.5.0",
          "state": {
            "_model_module": "@jupyter-widgets/controls",
            "_model_module_version": "1.5.0",
            "_model_name": "ProgressStyleModel",
            "_view_count": null,
            "_view_module": "@jupyter-widgets/base",
            "_view_module_version": "1.2.0",
            "_view_name": "StyleView",
            "bar_color": null,
            "description_width": ""
          }
        },
        "336b522784744c449b8afcc8efbccac2": {
          "model_module": "@jupyter-widgets/base",
          "model_name": "LayoutModel",
          "model_module_version": "1.2.0",
          "state": {
            "_model_module": "@jupyter-widgets/base",
            "_model_module_version": "1.2.0",
            "_model_name": "LayoutModel",
            "_view_count": null,
            "_view_module": "@jupyter-widgets/base",
            "_view_module_version": "1.2.0",
            "_view_name": "LayoutView",
            "align_content": null,
            "align_items": null,
            "align_self": null,
            "border": null,
            "bottom": null,
            "display": null,
            "flex": null,
            "flex_flow": null,
            "grid_area": null,
            "grid_auto_columns": null,
            "grid_auto_flow": null,
            "grid_auto_rows": null,
            "grid_column": null,
            "grid_gap": null,
            "grid_row": null,
            "grid_template_areas": null,
            "grid_template_columns": null,
            "grid_template_rows": null,
            "height": null,
            "justify_content": null,
            "justify_items": null,
            "left": null,
            "margin": null,
            "max_height": null,
            "max_width": null,
            "min_height": null,
            "min_width": null,
            "object_fit": null,
            "object_position": null,
            "order": null,
            "overflow": null,
            "overflow_x": null,
            "overflow_y": null,
            "padding": null,
            "right": null,
            "top": null,
            "visibility": null,
            "width": null
          }
        },
        "be9ad92476604c00922a64ded0297f12": {
          "model_module": "@jupyter-widgets/controls",
          "model_name": "DescriptionStyleModel",
          "model_module_version": "1.5.0",
          "state": {
            "_model_module": "@jupyter-widgets/controls",
            "_model_module_version": "1.5.0",
            "_model_name": "DescriptionStyleModel",
            "_view_count": null,
            "_view_module": "@jupyter-widgets/base",
            "_view_module_version": "1.2.0",
            "_view_name": "StyleView",
            "description_width": ""
          }
        },
        "f36f7128200846c5a60a192a34b8d293": {
          "model_module": "@jupyter-widgets/controls",
          "model_name": "HBoxModel",
          "model_module_version": "1.5.0",
          "state": {
            "_dom_classes": [],
            "_model_module": "@jupyter-widgets/controls",
            "_model_module_version": "1.5.0",
            "_model_name": "HBoxModel",
            "_view_count": null,
            "_view_module": "@jupyter-widgets/controls",
            "_view_module_version": "1.5.0",
            "_view_name": "HBoxView",
            "box_style": "",
            "children": [
              "IPY_MODEL_403f3f69e7a949999f4626b492efbf4a",
              "IPY_MODEL_35cfabbecd77434fbf7d246ea0aa52c2",
              "IPY_MODEL_0dbea45dbde04cc68aad964843dc6f25"
            ],
            "layout": "IPY_MODEL_e441c7c68d104fe3aeef876e58db911b"
          }
        },
        "403f3f69e7a949999f4626b492efbf4a": {
          "model_module": "@jupyter-widgets/controls",
          "model_name": "HTMLModel",
          "model_module_version": "1.5.0",
          "state": {
            "_dom_classes": [],
            "_model_module": "@jupyter-widgets/controls",
            "_model_module_version": "1.5.0",
            "_model_name": "HTMLModel",
            "_view_count": null,
            "_view_module": "@jupyter-widgets/controls",
            "_view_module_version": "1.5.0",
            "_view_name": "HTMLView",
            "description": "",
            "description_tooltip": null,
            "layout": "IPY_MODEL_9c5ea63fefcb4d0ba06f6f0f10be8d08",
            "placeholder": "​",
            "style": "IPY_MODEL_bd1df736815048e6a49421640d13ec49",
            "value": "Map:  99%"
          }
        },
        "35cfabbecd77434fbf7d246ea0aa52c2": {
          "model_module": "@jupyter-widgets/controls",
          "model_name": "FloatProgressModel",
          "model_module_version": "1.5.0",
          "state": {
            "_dom_classes": [],
            "_model_module": "@jupyter-widgets/controls",
            "_model_module_version": "1.5.0",
            "_model_name": "FloatProgressModel",
            "_view_count": null,
            "_view_module": "@jupyter-widgets/controls",
            "_view_module_version": "1.5.0",
            "_view_name": "ProgressView",
            "bar_style": "",
            "description": "",
            "description_tooltip": null,
            "layout": "IPY_MODEL_a0198196f9fe4018a1a44333c3c2bf56",
            "max": 36473,
            "min": 0,
            "orientation": "horizontal",
            "style": "IPY_MODEL_1f0b2829b0ac4cab9a0765d440d549ff",
            "value": 36473
          }
        },
        "0dbea45dbde04cc68aad964843dc6f25": {
          "model_module": "@jupyter-widgets/controls",
          "model_name": "HTMLModel",
          "model_module_version": "1.5.0",
          "state": {
            "_dom_classes": [],
            "_model_module": "@jupyter-widgets/controls",
            "_model_module_version": "1.5.0",
            "_model_name": "HTMLModel",
            "_view_count": null,
            "_view_module": "@jupyter-widgets/controls",
            "_view_module_version": "1.5.0",
            "_view_name": "HTMLView",
            "description": "",
            "description_tooltip": null,
            "layout": "IPY_MODEL_9acdb386374e4354993a7a8ff380c462",
            "placeholder": "​",
            "style": "IPY_MODEL_fefe426a37c14a2182aef93b7f901463",
            "value": " 36000/36473 [00:02&lt;00:00, 16777.47 examples/s]"
          }
        },
        "e441c7c68d104fe3aeef876e58db911b": {
          "model_module": "@jupyter-widgets/base",
          "model_name": "LayoutModel",
          "model_module_version": "1.2.0",
          "state": {
            "_model_module": "@jupyter-widgets/base",
            "_model_module_version": "1.2.0",
            "_model_name": "LayoutModel",
            "_view_count": null,
            "_view_module": "@jupyter-widgets/base",
            "_view_module_version": "1.2.0",
            "_view_name": "LayoutView",
            "align_content": null,
            "align_items": null,
            "align_self": null,
            "border": null,
            "bottom": null,
            "display": null,
            "flex": null,
            "flex_flow": null,
            "grid_area": null,
            "grid_auto_columns": null,
            "grid_auto_flow": null,
            "grid_auto_rows": null,
            "grid_column": null,
            "grid_gap": null,
            "grid_row": null,
            "grid_template_areas": null,
            "grid_template_columns": null,
            "grid_template_rows": null,
            "height": null,
            "justify_content": null,
            "justify_items": null,
            "left": null,
            "margin": null,
            "max_height": null,
            "max_width": null,
            "min_height": null,
            "min_width": null,
            "object_fit": null,
            "object_position": null,
            "order": null,
            "overflow": null,
            "overflow_x": null,
            "overflow_y": null,
            "padding": null,
            "right": null,
            "top": null,
            "visibility": "hidden",
            "width": null
          }
        },
        "9c5ea63fefcb4d0ba06f6f0f10be8d08": {
          "model_module": "@jupyter-widgets/base",
          "model_name": "LayoutModel",
          "model_module_version": "1.2.0",
          "state": {
            "_model_module": "@jupyter-widgets/base",
            "_model_module_version": "1.2.0",
            "_model_name": "LayoutModel",
            "_view_count": null,
            "_view_module": "@jupyter-widgets/base",
            "_view_module_version": "1.2.0",
            "_view_name": "LayoutView",
            "align_content": null,
            "align_items": null,
            "align_self": null,
            "border": null,
            "bottom": null,
            "display": null,
            "flex": null,
            "flex_flow": null,
            "grid_area": null,
            "grid_auto_columns": null,
            "grid_auto_flow": null,
            "grid_auto_rows": null,
            "grid_column": null,
            "grid_gap": null,
            "grid_row": null,
            "grid_template_areas": null,
            "grid_template_columns": null,
            "grid_template_rows": null,
            "height": null,
            "justify_content": null,
            "justify_items": null,
            "left": null,
            "margin": null,
            "max_height": null,
            "max_width": null,
            "min_height": null,
            "min_width": null,
            "object_fit": null,
            "object_position": null,
            "order": null,
            "overflow": null,
            "overflow_x": null,
            "overflow_y": null,
            "padding": null,
            "right": null,
            "top": null,
            "visibility": null,
            "width": null
          }
        },
        "bd1df736815048e6a49421640d13ec49": {
          "model_module": "@jupyter-widgets/controls",
          "model_name": "DescriptionStyleModel",
          "model_module_version": "1.5.0",
          "state": {
            "_model_module": "@jupyter-widgets/controls",
            "_model_module_version": "1.5.0",
            "_model_name": "DescriptionStyleModel",
            "_view_count": null,
            "_view_module": "@jupyter-widgets/base",
            "_view_module_version": "1.2.0",
            "_view_name": "StyleView",
            "description_width": ""
          }
        },
        "a0198196f9fe4018a1a44333c3c2bf56": {
          "model_module": "@jupyter-widgets/base",
          "model_name": "LayoutModel",
          "model_module_version": "1.2.0",
          "state": {
            "_model_module": "@jupyter-widgets/base",
            "_model_module_version": "1.2.0",
            "_model_name": "LayoutModel",
            "_view_count": null,
            "_view_module": "@jupyter-widgets/base",
            "_view_module_version": "1.2.0",
            "_view_name": "LayoutView",
            "align_content": null,
            "align_items": null,
            "align_self": null,
            "border": null,
            "bottom": null,
            "display": null,
            "flex": null,
            "flex_flow": null,
            "grid_area": null,
            "grid_auto_columns": null,
            "grid_auto_flow": null,
            "grid_auto_rows": null,
            "grid_column": null,
            "grid_gap": null,
            "grid_row": null,
            "grid_template_areas": null,
            "grid_template_columns": null,
            "grid_template_rows": null,
            "height": null,
            "justify_content": null,
            "justify_items": null,
            "left": null,
            "margin": null,
            "max_height": null,
            "max_width": null,
            "min_height": null,
            "min_width": null,
            "object_fit": null,
            "object_position": null,
            "order": null,
            "overflow": null,
            "overflow_x": null,
            "overflow_y": null,
            "padding": null,
            "right": null,
            "top": null,
            "visibility": null,
            "width": null
          }
        },
        "1f0b2829b0ac4cab9a0765d440d549ff": {
          "model_module": "@jupyter-widgets/controls",
          "model_name": "ProgressStyleModel",
          "model_module_version": "1.5.0",
          "state": {
            "_model_module": "@jupyter-widgets/controls",
            "_model_module_version": "1.5.0",
            "_model_name": "ProgressStyleModel",
            "_view_count": null,
            "_view_module": "@jupyter-widgets/base",
            "_view_module_version": "1.2.0",
            "_view_name": "StyleView",
            "bar_color": null,
            "description_width": ""
          }
        },
        "9acdb386374e4354993a7a8ff380c462": {
          "model_module": "@jupyter-widgets/base",
          "model_name": "LayoutModel",
          "model_module_version": "1.2.0",
          "state": {
            "_model_module": "@jupyter-widgets/base",
            "_model_module_version": "1.2.0",
            "_model_name": "LayoutModel",
            "_view_count": null,
            "_view_module": "@jupyter-widgets/base",
            "_view_module_version": "1.2.0",
            "_view_name": "LayoutView",
            "align_content": null,
            "align_items": null,
            "align_self": null,
            "border": null,
            "bottom": null,
            "display": null,
            "flex": null,
            "flex_flow": null,
            "grid_area": null,
            "grid_auto_columns": null,
            "grid_auto_flow": null,
            "grid_auto_rows": null,
            "grid_column": null,
            "grid_gap": null,
            "grid_row": null,
            "grid_template_areas": null,
            "grid_template_columns": null,
            "grid_template_rows": null,
            "height": null,
            "justify_content": null,
            "justify_items": null,
            "left": null,
            "margin": null,
            "max_height": null,
            "max_width": null,
            "min_height": null,
            "min_width": null,
            "object_fit": null,
            "object_position": null,
            "order": null,
            "overflow": null,
            "overflow_x": null,
            "overflow_y": null,
            "padding": null,
            "right": null,
            "top": null,
            "visibility": null,
            "width": null
          }
        },
        "fefe426a37c14a2182aef93b7f901463": {
          "model_module": "@jupyter-widgets/controls",
          "model_name": "DescriptionStyleModel",
          "model_module_version": "1.5.0",
          "state": {
            "_model_module": "@jupyter-widgets/controls",
            "_model_module_version": "1.5.0",
            "_model_name": "DescriptionStyleModel",
            "_view_count": null,
            "_view_module": "@jupyter-widgets/base",
            "_view_module_version": "1.2.0",
            "_view_name": "StyleView",
            "description_width": ""
          }
        },
        "6bc279e3c4804256924a004bc3ed76b6": {
          "model_module": "@jupyter-widgets/controls",
          "model_name": "HBoxModel",
          "model_module_version": "1.5.0",
          "state": {
            "_dom_classes": [],
            "_model_module": "@jupyter-widgets/controls",
            "_model_module_version": "1.5.0",
            "_model_name": "HBoxModel",
            "_view_count": null,
            "_view_module": "@jupyter-widgets/controls",
            "_view_module_version": "1.5.0",
            "_view_name": "HBoxView",
            "box_style": "",
            "children": [
              "IPY_MODEL_f6b020df456b4dafbd463b76e16c23d9",
              "IPY_MODEL_9d02356a300d44e3933b307d6b3f1c78",
              "IPY_MODEL_92e9d0bc3d614845ad43f9fd17bdc641"
            ],
            "layout": "IPY_MODEL_b418bf02095b4919bb57703fdad24b63"
          }
        },
        "f6b020df456b4dafbd463b76e16c23d9": {
          "model_module": "@jupyter-widgets/controls",
          "model_name": "HTMLModel",
          "model_module_version": "1.5.0",
          "state": {
            "_dom_classes": [],
            "_model_module": "@jupyter-widgets/controls",
            "_model_module_version": "1.5.0",
            "_model_name": "HTMLModel",
            "_view_count": null,
            "_view_module": "@jupyter-widgets/controls",
            "_view_module_version": "1.5.0",
            "_view_name": "HTMLView",
            "description": "",
            "description_tooltip": null,
            "layout": "IPY_MODEL_4d721cef24184ed39fdc1ef607843d95",
            "placeholder": "​",
            "style": "IPY_MODEL_a75e68adaf5243f7a139e2168da8318e",
            "value": "Map:   0%"
          }
        },
        "9d02356a300d44e3933b307d6b3f1c78": {
          "model_module": "@jupyter-widgets/controls",
          "model_name": "FloatProgressModel",
          "model_module_version": "1.5.0",
          "state": {
            "_dom_classes": [],
            "_model_module": "@jupyter-widgets/controls",
            "_model_module_version": "1.5.0",
            "_model_name": "FloatProgressModel",
            "_view_count": null,
            "_view_module": "@jupyter-widgets/controls",
            "_view_module_version": "1.5.0",
            "_view_name": "ProgressView",
            "bar_style": "",
            "description": "",
            "description_tooltip": null,
            "layout": "IPY_MODEL_e6068404b4064a68836c32792e149cea",
            "max": 36,
            "min": 0,
            "orientation": "horizontal",
            "style": "IPY_MODEL_63188bfaab264555addd0946ecc9f45d",
            "value": 36
          }
        },
        "92e9d0bc3d614845ad43f9fd17bdc641": {
          "model_module": "@jupyter-widgets/controls",
          "model_name": "HTMLModel",
          "model_module_version": "1.5.0",
          "state": {
            "_dom_classes": [],
            "_model_module": "@jupyter-widgets/controls",
            "_model_module_version": "1.5.0",
            "_model_name": "HTMLModel",
            "_view_count": null,
            "_view_module": "@jupyter-widgets/controls",
            "_view_module_version": "1.5.0",
            "_view_name": "HTMLView",
            "description": "",
            "description_tooltip": null,
            "layout": "IPY_MODEL_28a57effae584e3c8c8dc00676c3e3d8",
            "placeholder": "​",
            "style": "IPY_MODEL_bb820c4fc77c4e8aac67765f4a011949",
            "value": " 0/36 [00:00&lt;?, ? examples/s]"
          }
        },
        "b418bf02095b4919bb57703fdad24b63": {
          "model_module": "@jupyter-widgets/base",
          "model_name": "LayoutModel",
          "model_module_version": "1.2.0",
          "state": {
            "_model_module": "@jupyter-widgets/base",
            "_model_module_version": "1.2.0",
            "_model_name": "LayoutModel",
            "_view_count": null,
            "_view_module": "@jupyter-widgets/base",
            "_view_module_version": "1.2.0",
            "_view_name": "LayoutView",
            "align_content": null,
            "align_items": null,
            "align_self": null,
            "border": null,
            "bottom": null,
            "display": null,
            "flex": null,
            "flex_flow": null,
            "grid_area": null,
            "grid_auto_columns": null,
            "grid_auto_flow": null,
            "grid_auto_rows": null,
            "grid_column": null,
            "grid_gap": null,
            "grid_row": null,
            "grid_template_areas": null,
            "grid_template_columns": null,
            "grid_template_rows": null,
            "height": null,
            "justify_content": null,
            "justify_items": null,
            "left": null,
            "margin": null,
            "max_height": null,
            "max_width": null,
            "min_height": null,
            "min_width": null,
            "object_fit": null,
            "object_position": null,
            "order": null,
            "overflow": null,
            "overflow_x": null,
            "overflow_y": null,
            "padding": null,
            "right": null,
            "top": null,
            "visibility": "hidden",
            "width": null
          }
        },
        "4d721cef24184ed39fdc1ef607843d95": {
          "model_module": "@jupyter-widgets/base",
          "model_name": "LayoutModel",
          "model_module_version": "1.2.0",
          "state": {
            "_model_module": "@jupyter-widgets/base",
            "_model_module_version": "1.2.0",
            "_model_name": "LayoutModel",
            "_view_count": null,
            "_view_module": "@jupyter-widgets/base",
            "_view_module_version": "1.2.0",
            "_view_name": "LayoutView",
            "align_content": null,
            "align_items": null,
            "align_self": null,
            "border": null,
            "bottom": null,
            "display": null,
            "flex": null,
            "flex_flow": null,
            "grid_area": null,
            "grid_auto_columns": null,
            "grid_auto_flow": null,
            "grid_auto_rows": null,
            "grid_column": null,
            "grid_gap": null,
            "grid_row": null,
            "grid_template_areas": null,
            "grid_template_columns": null,
            "grid_template_rows": null,
            "height": null,
            "justify_content": null,
            "justify_items": null,
            "left": null,
            "margin": null,
            "max_height": null,
            "max_width": null,
            "min_height": null,
            "min_width": null,
            "object_fit": null,
            "object_position": null,
            "order": null,
            "overflow": null,
            "overflow_x": null,
            "overflow_y": null,
            "padding": null,
            "right": null,
            "top": null,
            "visibility": null,
            "width": null
          }
        },
        "a75e68adaf5243f7a139e2168da8318e": {
          "model_module": "@jupyter-widgets/controls",
          "model_name": "DescriptionStyleModel",
          "model_module_version": "1.5.0",
          "state": {
            "_model_module": "@jupyter-widgets/controls",
            "_model_module_version": "1.5.0",
            "_model_name": "DescriptionStyleModel",
            "_view_count": null,
            "_view_module": "@jupyter-widgets/base",
            "_view_module_version": "1.2.0",
            "_view_name": "StyleView",
            "description_width": ""
          }
        },
        "e6068404b4064a68836c32792e149cea": {
          "model_module": "@jupyter-widgets/base",
          "model_name": "LayoutModel",
          "model_module_version": "1.2.0",
          "state": {
            "_model_module": "@jupyter-widgets/base",
            "_model_module_version": "1.2.0",
            "_model_name": "LayoutModel",
            "_view_count": null,
            "_view_module": "@jupyter-widgets/base",
            "_view_module_version": "1.2.0",
            "_view_name": "LayoutView",
            "align_content": null,
            "align_items": null,
            "align_self": null,
            "border": null,
            "bottom": null,
            "display": null,
            "flex": null,
            "flex_flow": null,
            "grid_area": null,
            "grid_auto_columns": null,
            "grid_auto_flow": null,
            "grid_auto_rows": null,
            "grid_column": null,
            "grid_gap": null,
            "grid_row": null,
            "grid_template_areas": null,
            "grid_template_columns": null,
            "grid_template_rows": null,
            "height": null,
            "justify_content": null,
            "justify_items": null,
            "left": null,
            "margin": null,
            "max_height": null,
            "max_width": null,
            "min_height": null,
            "min_width": null,
            "object_fit": null,
            "object_position": null,
            "order": null,
            "overflow": null,
            "overflow_x": null,
            "overflow_y": null,
            "padding": null,
            "right": null,
            "top": null,
            "visibility": null,
            "width": null
          }
        },
        "63188bfaab264555addd0946ecc9f45d": {
          "model_module": "@jupyter-widgets/controls",
          "model_name": "ProgressStyleModel",
          "model_module_version": "1.5.0",
          "state": {
            "_model_module": "@jupyter-widgets/controls",
            "_model_module_version": "1.5.0",
            "_model_name": "ProgressStyleModel",
            "_view_count": null,
            "_view_module": "@jupyter-widgets/base",
            "_view_module_version": "1.2.0",
            "_view_name": "StyleView",
            "bar_color": null,
            "description_width": ""
          }
        },
        "28a57effae584e3c8c8dc00676c3e3d8": {
          "model_module": "@jupyter-widgets/base",
          "model_name": "LayoutModel",
          "model_module_version": "1.2.0",
          "state": {
            "_model_module": "@jupyter-widgets/base",
            "_model_module_version": "1.2.0",
            "_model_name": "LayoutModel",
            "_view_count": null,
            "_view_module": "@jupyter-widgets/base",
            "_view_module_version": "1.2.0",
            "_view_name": "LayoutView",
            "align_content": null,
            "align_items": null,
            "align_self": null,
            "border": null,
            "bottom": null,
            "display": null,
            "flex": null,
            "flex_flow": null,
            "grid_area": null,
            "grid_auto_columns": null,
            "grid_auto_flow": null,
            "grid_auto_rows": null,
            "grid_column": null,
            "grid_gap": null,
            "grid_row": null,
            "grid_template_areas": null,
            "grid_template_columns": null,
            "grid_template_rows": null,
            "height": null,
            "justify_content": null,
            "justify_items": null,
            "left": null,
            "margin": null,
            "max_height": null,
            "max_width": null,
            "min_height": null,
            "min_width": null,
            "object_fit": null,
            "object_position": null,
            "order": null,
            "overflow": null,
            "overflow_x": null,
            "overflow_y": null,
            "padding": null,
            "right": null,
            "top": null,
            "visibility": null,
            "width": null
          }
        },
        "bb820c4fc77c4e8aac67765f4a011949": {
          "model_module": "@jupyter-widgets/controls",
          "model_name": "DescriptionStyleModel",
          "model_module_version": "1.5.0",
          "state": {
            "_model_module": "@jupyter-widgets/controls",
            "_model_module_version": "1.5.0",
            "_model_name": "DescriptionStyleModel",
            "_view_count": null,
            "_view_module": "@jupyter-widgets/base",
            "_view_module_version": "1.2.0",
            "_view_name": "StyleView",
            "description_width": ""
          }
        },
        "81859c4ffc9148e68b7fe4ac3b86e78b": {
          "model_module": "@jupyter-widgets/controls",
          "model_name": "HBoxModel",
          "model_module_version": "1.5.0",
          "state": {
            "_dom_classes": [],
            "_model_module": "@jupyter-widgets/controls",
            "_model_module_version": "1.5.0",
            "_model_name": "HBoxModel",
            "_view_count": null,
            "_view_module": "@jupyter-widgets/controls",
            "_view_module_version": "1.5.0",
            "_view_name": "HBoxView",
            "box_style": "",
            "children": [
              "IPY_MODEL_6f0df2dad13e4efa959f1e849520dad1",
              "IPY_MODEL_5de204c99a1a4595810d4d124d31ff39",
              "IPY_MODEL_1960d233cc864ed5940091aa1aad7e41"
            ],
            "layout": "IPY_MODEL_6c502f2a4cfb4a1aa34c3798875a4653"
          }
        },
        "6f0df2dad13e4efa959f1e849520dad1": {
          "model_module": "@jupyter-widgets/controls",
          "model_name": "HTMLModel",
          "model_module_version": "1.5.0",
          "state": {
            "_dom_classes": [],
            "_model_module": "@jupyter-widgets/controls",
            "_model_module_version": "1.5.0",
            "_model_name": "HTMLModel",
            "_view_count": null,
            "_view_module": "@jupyter-widgets/controls",
            "_view_module_version": "1.5.0",
            "_view_name": "HTMLView",
            "description": "",
            "description_tooltip": null,
            "layout": "IPY_MODEL_9cdfa8eb7a0145479a9217660b50c2c3",
            "placeholder": "​",
            "style": "IPY_MODEL_8d348c966faa4522af5ea330d8ecaa01",
            "value": "Creating CSV from Arrow format: 100%"
          }
        },
        "5de204c99a1a4595810d4d124d31ff39": {
          "model_module": "@jupyter-widgets/controls",
          "model_name": "FloatProgressModel",
          "model_module_version": "1.5.0",
          "state": {
            "_dom_classes": [],
            "_model_module": "@jupyter-widgets/controls",
            "_model_module_version": "1.5.0",
            "_model_name": "FloatProgressModel",
            "_view_count": null,
            "_view_module": "@jupyter-widgets/controls",
            "_view_module_version": "1.5.0",
            "_view_name": "ProgressView",
            "bar_style": "success",
            "description": "",
            "description_tooltip": null,
            "layout": "IPY_MODEL_d443ddb8d4894ca6b2537448e0431d53",
            "max": 1,
            "min": 0,
            "orientation": "horizontal",
            "style": "IPY_MODEL_eea05225ba33418f9a511b48a91affc2",
            "value": 1
          }
        },
        "1960d233cc864ed5940091aa1aad7e41": {
          "model_module": "@jupyter-widgets/controls",
          "model_name": "HTMLModel",
          "model_module_version": "1.5.0",
          "state": {
            "_dom_classes": [],
            "_model_module": "@jupyter-widgets/controls",
            "_model_module_version": "1.5.0",
            "_model_name": "HTMLModel",
            "_view_count": null,
            "_view_module": "@jupyter-widgets/controls",
            "_view_module_version": "1.5.0",
            "_view_name": "HTMLView",
            "description": "",
            "description_tooltip": null,
            "layout": "IPY_MODEL_cc53c84f76084a6aa105b47a389b0a99",
            "placeholder": "​",
            "style": "IPY_MODEL_6fc82830272c4835b979f00ff41f09bd",
            "value": " 1/1 [00:00&lt;00:00, 26.53ba/s]"
          }
        },
        "6c502f2a4cfb4a1aa34c3798875a4653": {
          "model_module": "@jupyter-widgets/base",
          "model_name": "LayoutModel",
          "model_module_version": "1.2.0",
          "state": {
            "_model_module": "@jupyter-widgets/base",
            "_model_module_version": "1.2.0",
            "_model_name": "LayoutModel",
            "_view_count": null,
            "_view_module": "@jupyter-widgets/base",
            "_view_module_version": "1.2.0",
            "_view_name": "LayoutView",
            "align_content": null,
            "align_items": null,
            "align_self": null,
            "border": null,
            "bottom": null,
            "display": null,
            "flex": null,
            "flex_flow": null,
            "grid_area": null,
            "grid_auto_columns": null,
            "grid_auto_flow": null,
            "grid_auto_rows": null,
            "grid_column": null,
            "grid_gap": null,
            "grid_row": null,
            "grid_template_areas": null,
            "grid_template_columns": null,
            "grid_template_rows": null,
            "height": null,
            "justify_content": null,
            "justify_items": null,
            "left": null,
            "margin": null,
            "max_height": null,
            "max_width": null,
            "min_height": null,
            "min_width": null,
            "object_fit": null,
            "object_position": null,
            "order": null,
            "overflow": null,
            "overflow_x": null,
            "overflow_y": null,
            "padding": null,
            "right": null,
            "top": null,
            "visibility": null,
            "width": null
          }
        },
        "9cdfa8eb7a0145479a9217660b50c2c3": {
          "model_module": "@jupyter-widgets/base",
          "model_name": "LayoutModel",
          "model_module_version": "1.2.0",
          "state": {
            "_model_module": "@jupyter-widgets/base",
            "_model_module_version": "1.2.0",
            "_model_name": "LayoutModel",
            "_view_count": null,
            "_view_module": "@jupyter-widgets/base",
            "_view_module_version": "1.2.0",
            "_view_name": "LayoutView",
            "align_content": null,
            "align_items": null,
            "align_self": null,
            "border": null,
            "bottom": null,
            "display": null,
            "flex": null,
            "flex_flow": null,
            "grid_area": null,
            "grid_auto_columns": null,
            "grid_auto_flow": null,
            "grid_auto_rows": null,
            "grid_column": null,
            "grid_gap": null,
            "grid_row": null,
            "grid_template_areas": null,
            "grid_template_columns": null,
            "grid_template_rows": null,
            "height": null,
            "justify_content": null,
            "justify_items": null,
            "left": null,
            "margin": null,
            "max_height": null,
            "max_width": null,
            "min_height": null,
            "min_width": null,
            "object_fit": null,
            "object_position": null,
            "order": null,
            "overflow": null,
            "overflow_x": null,
            "overflow_y": null,
            "padding": null,
            "right": null,
            "top": null,
            "visibility": null,
            "width": null
          }
        },
        "8d348c966faa4522af5ea330d8ecaa01": {
          "model_module": "@jupyter-widgets/controls",
          "model_name": "DescriptionStyleModel",
          "model_module_version": "1.5.0",
          "state": {
            "_model_module": "@jupyter-widgets/controls",
            "_model_module_version": "1.5.0",
            "_model_name": "DescriptionStyleModel",
            "_view_count": null,
            "_view_module": "@jupyter-widgets/base",
            "_view_module_version": "1.2.0",
            "_view_name": "StyleView",
            "description_width": ""
          }
        },
        "d443ddb8d4894ca6b2537448e0431d53": {
          "model_module": "@jupyter-widgets/base",
          "model_name": "LayoutModel",
          "model_module_version": "1.2.0",
          "state": {
            "_model_module": "@jupyter-widgets/base",
            "_model_module_version": "1.2.0",
            "_model_name": "LayoutModel",
            "_view_count": null,
            "_view_module": "@jupyter-widgets/base",
            "_view_module_version": "1.2.0",
            "_view_name": "LayoutView",
            "align_content": null,
            "align_items": null,
            "align_self": null,
            "border": null,
            "bottom": null,
            "display": null,
            "flex": null,
            "flex_flow": null,
            "grid_area": null,
            "grid_auto_columns": null,
            "grid_auto_flow": null,
            "grid_auto_rows": null,
            "grid_column": null,
            "grid_gap": null,
            "grid_row": null,
            "grid_template_areas": null,
            "grid_template_columns": null,
            "grid_template_rows": null,
            "height": null,
            "justify_content": null,
            "justify_items": null,
            "left": null,
            "margin": null,
            "max_height": null,
            "max_width": null,
            "min_height": null,
            "min_width": null,
            "object_fit": null,
            "object_position": null,
            "order": null,
            "overflow": null,
            "overflow_x": null,
            "overflow_y": null,
            "padding": null,
            "right": null,
            "top": null,
            "visibility": null,
            "width": null
          }
        },
        "eea05225ba33418f9a511b48a91affc2": {
          "model_module": "@jupyter-widgets/controls",
          "model_name": "ProgressStyleModel",
          "model_module_version": "1.5.0",
          "state": {
            "_model_module": "@jupyter-widgets/controls",
            "_model_module_version": "1.5.0",
            "_model_name": "ProgressStyleModel",
            "_view_count": null,
            "_view_module": "@jupyter-widgets/base",
            "_view_module_version": "1.2.0",
            "_view_name": "StyleView",
            "bar_color": null,
            "description_width": ""
          }
        },
        "cc53c84f76084a6aa105b47a389b0a99": {
          "model_module": "@jupyter-widgets/base",
          "model_name": "LayoutModel",
          "model_module_version": "1.2.0",
          "state": {
            "_model_module": "@jupyter-widgets/base",
            "_model_module_version": "1.2.0",
            "_model_name": "LayoutModel",
            "_view_count": null,
            "_view_module": "@jupyter-widgets/base",
            "_view_module_version": "1.2.0",
            "_view_name": "LayoutView",
            "align_content": null,
            "align_items": null,
            "align_self": null,
            "border": null,
            "bottom": null,
            "display": null,
            "flex": null,
            "flex_flow": null,
            "grid_area": null,
            "grid_auto_columns": null,
            "grid_auto_flow": null,
            "grid_auto_rows": null,
            "grid_column": null,
            "grid_gap": null,
            "grid_row": null,
            "grid_template_areas": null,
            "grid_template_columns": null,
            "grid_template_rows": null,
            "height": null,
            "justify_content": null,
            "justify_items": null,
            "left": null,
            "margin": null,
            "max_height": null,
            "max_width": null,
            "min_height": null,
            "min_width": null,
            "object_fit": null,
            "object_position": null,
            "order": null,
            "overflow": null,
            "overflow_x": null,
            "overflow_y": null,
            "padding": null,
            "right": null,
            "top": null,
            "visibility": null,
            "width": null
          }
        },
        "6fc82830272c4835b979f00ff41f09bd": {
          "model_module": "@jupyter-widgets/controls",
          "model_name": "DescriptionStyleModel",
          "model_module_version": "1.5.0",
          "state": {
            "_model_module": "@jupyter-widgets/controls",
            "_model_module_version": "1.5.0",
            "_model_name": "DescriptionStyleModel",
            "_view_count": null,
            "_view_module": "@jupyter-widgets/base",
            "_view_module_version": "1.2.0",
            "_view_name": "StyleView",
            "description_width": ""
          }
        }
      }
    }
  },
  "cells": [
    {
      "cell_type": "markdown",
      "metadata": {
        "id": "view-in-github",
        "colab_type": "text"
      },
      "source": [
        "<a href=\"https://colab.research.google.com/github/bigyunicorn/fastai22/blob/main/lesson04/NLP_Beginner.ipynb\" target=\"_parent\"><img src=\"https://colab.research.google.com/assets/colab-badge.svg\" alt=\"Open In Colab\"/></a>"
      ]
    },
    {
      "cell_type": "code",
      "execution_count": null,
      "metadata": {
        "id": "wUsfjsdJio36",
        "colab": {
          "base_uri": "https://localhost:8080/"
        },
        "outputId": "ab2fd4ee-5250-4a0b-c233-12434be91d9d"
      },
      "outputs": [
        {
          "output_type": "stream",
          "name": "stdout",
          "text": [
            "Looking in indexes: https://pypi.org/simple, https://us-python.pkg.dev/colab-wheels/public/simple/\n",
            "Requirement already satisfied: kaggle in /usr/local/lib/python3.10/dist-packages (1.5.13)\n",
            "Requirement already satisfied: certifi in /usr/local/lib/python3.10/dist-packages (from kaggle) (2022.12.7)\n",
            "Requirement already satisfied: python-dateutil in /usr/local/lib/python3.10/dist-packages (from kaggle) (2.8.2)\n",
            "Requirement already satisfied: urllib3 in /usr/local/lib/python3.10/dist-packages (from kaggle) (1.26.15)\n",
            "Requirement already satisfied: requests in /usr/local/lib/python3.10/dist-packages (from kaggle) (2.27.1)\n",
            "Requirement already satisfied: tqdm in /usr/local/lib/python3.10/dist-packages (from kaggle) (4.65.0)\n",
            "Requirement already satisfied: six>=1.10 in /usr/local/lib/python3.10/dist-packages (from kaggle) (1.16.0)\n",
            "Requirement already satisfied: python-slugify in /usr/local/lib/python3.10/dist-packages (from kaggle) (8.0.1)\n",
            "Requirement already satisfied: text-unidecode>=1.3 in /usr/local/lib/python3.10/dist-packages (from python-slugify->kaggle) (1.3)\n",
            "Requirement already satisfied: idna<4,>=2.5 in /usr/local/lib/python3.10/dist-packages (from requests->kaggle) (3.4)\n",
            "Requirement already satisfied: charset-normalizer~=2.0.0 in /usr/local/lib/python3.10/dist-packages (from requests->kaggle) (2.0.12)\n"
          ]
        }
      ],
      "source": [
        "!pip install kaggle --upgrade"
      ]
    },
    {
      "cell_type": "code",
      "source": [
        "import os\n",
        "iskaggle = os.environ.get('KAGGLE_KERNEL_RUN_TYPE', '')"
      ],
      "metadata": {
        "id": "RZ6xR4dGlbRQ"
      },
      "execution_count": null,
      "outputs": []
    },
    {
      "cell_type": "code",
      "source": [
        "creds = '{\"username\":\"<your kaggle user name>\",\"key\":\"<your kaggle api key>\"}'"
      ],
      "metadata": {
        "id": "Py0ZfZ8EjEeP"
      },
      "execution_count": null,
      "outputs": []
    },
    {
      "cell_type": "code",
      "source": [
        "from pathlib import Path\n",
        "\n",
        "cred_path = Path('~/.kaggle/kaggle.json').expanduser()\n",
        "if not cred_path.exists():\n",
        "    cred_path.parent.mkdir(exist_ok=True)\n",
        "    cred_path.write_text(creds)\n",
        "    cred_path.chmod(0o600)"
      ],
      "metadata": {
        "id": "hZlA_uZkjbu9"
      },
      "execution_count": null,
      "outputs": []
    },
    {
      "cell_type": "code",
      "source": [
        "# !kaggle competitions download -c us-patent-phrase-to-phrase-matching // this is bash command"
      ],
      "metadata": {
        "id": "2C-lenLkkTSA"
      },
      "execution_count": null,
      "outputs": []
    },
    {
      "cell_type": "code",
      "source": [
        "path = Path('us-patent-phrase-to-phrase-matching') #kaggle dataset data tab has this name at the end."
      ],
      "metadata": {
        "id": "mR37p9puk_wC"
      },
      "execution_count": null,
      "outputs": []
    },
    {
      "cell_type": "code",
      "source": [
        "if not iskaggle and not path.exists():\n",
        "    import zipfile,kaggle \n",
        "    kaggle.api.competition_download_cli(str(path)) # this is the kagglge python library API\n",
        "    zipfile.ZipFile(f'{path}.zip').extractall(path) # extract all files from zip"
      ],
      "metadata": {
        "colab": {
          "base_uri": "https://localhost:8080/"
        },
        "id": "Yv28l7fUlNtJ",
        "outputId": "49f03965-3d4b-4d3a-dc62-d753db6d6253"
      },
      "execution_count": null,
      "outputs": [
        {
          "output_type": "stream",
          "name": "stdout",
          "text": [
            "Downloading us-patent-phrase-to-phrase-matching.zip to /content\n"
          ]
        },
        {
          "output_type": "stream",
          "name": "stderr",
          "text": [
            "100%|██████████| 682k/682k [00:00<00:00, 34.7MB/s]"
          ]
        },
        {
          "output_type": "stream",
          "name": "stdout",
          "text": [
            "\n"
          ]
        },
        {
          "output_type": "stream",
          "name": "stderr",
          "text": [
            "\n"
          ]
        }
      ]
    },
    {
      "cell_type": "markdown",
      "source": [
        "What i just did above is loading the kaggle dataset to google colab. The reason I chose this is a) I prefer google colab over kaggle and b) I think i have flexibility to get more GPU if i need to."
      ],
      "metadata": {
        "id": "-HlDCKVzlo5g"
      }
    },
    {
      "cell_type": "code",
      "source": [
        "!ls {path} # to see the file structure of Kaggle downloaded dataset"
      ],
      "metadata": {
        "colab": {
          "base_uri": "https://localhost:8080/"
        },
        "id": "0OTWXZFXB9xo",
        "outputId": "7e214843-1ff4-492b-f5a9-b51199ed449b"
      },
      "execution_count": null,
      "outputs": [
        {
          "output_type": "stream",
          "name": "stdout",
          "text": [
            "sample_submission.csv  test.csv  train.csv\n"
          ]
        }
      ]
    },
    {
      "cell_type": "markdown",
      "source": [
        "Once I confirmed that the files are in csv, I am going to use pandas, as it is for handling csv files. Google Colab already installed pandas so I can skip `pip instal pandas` and directly import the library as pd."
      ],
      "metadata": {
        "id": "d7FKegt4CwCd"
      }
    },
    {
      "cell_type": "code",
      "source": [
        "import pandas as pd #Colab has it installed already)"
      ],
      "metadata": {
        "id": "TCXPyGv-CKtB"
      },
      "execution_count": null,
      "outputs": []
    },
    {
      "cell_type": "markdown",
      "source": [
        "Then we are going to read the csv file into this notebook. "
      ],
      "metadata": {
        "id": "3At6FDmWCmEV"
      }
    },
    {
      "cell_type": "code",
      "source": [
        "df = pd.read_csv(path/'train.csv')"
      ],
      "metadata": {
        "id": "eRMhyogWDEbL"
      },
      "execution_count": null,
      "outputs": []
    },
    {
      "cell_type": "code",
      "source": [
        "df"
      ],
      "metadata": {
        "colab": {
          "base_uri": "https://localhost:8080/",
          "height": 423
        },
        "id": "Byu_e6WNDG8l",
        "outputId": "1601e12f-70db-4035-951c-ae8058c1dadf"
      },
      "execution_count": null,
      "outputs": [
        {
          "output_type": "execute_result",
          "data": {
            "text/plain": [
              "                     id        anchor                  target context  score\n",
              "0      37d61fd2272659b1     abatement  abatement of pollution     A47   0.50\n",
              "1      7b9652b17b68b7a4     abatement          act of abating     A47   0.75\n",
              "2      36d72442aefd8232     abatement         active catalyst     A47   0.25\n",
              "3      5296b0c19e1ce60e     abatement     eliminating process     A47   0.50\n",
              "4      54c1e3b9184cb5b6     abatement           forest region     A47   0.00\n",
              "...                 ...           ...                     ...     ...    ...\n",
              "36468  8e1386cbefd7f245  wood article          wooden article     B44   1.00\n",
              "36469  42d9e032d1cd3242  wood article              wooden box     B44   0.50\n",
              "36470  208654ccb9e14fa3  wood article           wooden handle     B44   0.50\n",
              "36471  756ec035e694722b  wood article         wooden material     B44   0.75\n",
              "36472  8d135da0b55b8c88  wood article        wooden substrate     B44   0.50\n",
              "\n",
              "[36473 rows x 5 columns]"
            ],
            "text/html": [
              "\n",
              "  <div id=\"df-7ae36b2b-4a3c-43f6-abb6-6737dbffe482\">\n",
              "    <div class=\"colab-df-container\">\n",
              "      <div>\n",
              "<style scoped>\n",
              "    .dataframe tbody tr th:only-of-type {\n",
              "        vertical-align: middle;\n",
              "    }\n",
              "\n",
              "    .dataframe tbody tr th {\n",
              "        vertical-align: top;\n",
              "    }\n",
              "\n",
              "    .dataframe thead th {\n",
              "        text-align: right;\n",
              "    }\n",
              "</style>\n",
              "<table border=\"1\" class=\"dataframe\">\n",
              "  <thead>\n",
              "    <tr style=\"text-align: right;\">\n",
              "      <th></th>\n",
              "      <th>id</th>\n",
              "      <th>anchor</th>\n",
              "      <th>target</th>\n",
              "      <th>context</th>\n",
              "      <th>score</th>\n",
              "    </tr>\n",
              "  </thead>\n",
              "  <tbody>\n",
              "    <tr>\n",
              "      <th>0</th>\n",
              "      <td>37d61fd2272659b1</td>\n",
              "      <td>abatement</td>\n",
              "      <td>abatement of pollution</td>\n",
              "      <td>A47</td>\n",
              "      <td>0.50</td>\n",
              "    </tr>\n",
              "    <tr>\n",
              "      <th>1</th>\n",
              "      <td>7b9652b17b68b7a4</td>\n",
              "      <td>abatement</td>\n",
              "      <td>act of abating</td>\n",
              "      <td>A47</td>\n",
              "      <td>0.75</td>\n",
              "    </tr>\n",
              "    <tr>\n",
              "      <th>2</th>\n",
              "      <td>36d72442aefd8232</td>\n",
              "      <td>abatement</td>\n",
              "      <td>active catalyst</td>\n",
              "      <td>A47</td>\n",
              "      <td>0.25</td>\n",
              "    </tr>\n",
              "    <tr>\n",
              "      <th>3</th>\n",
              "      <td>5296b0c19e1ce60e</td>\n",
              "      <td>abatement</td>\n",
              "      <td>eliminating process</td>\n",
              "      <td>A47</td>\n",
              "      <td>0.50</td>\n",
              "    </tr>\n",
              "    <tr>\n",
              "      <th>4</th>\n",
              "      <td>54c1e3b9184cb5b6</td>\n",
              "      <td>abatement</td>\n",
              "      <td>forest region</td>\n",
              "      <td>A47</td>\n",
              "      <td>0.00</td>\n",
              "    </tr>\n",
              "    <tr>\n",
              "      <th>...</th>\n",
              "      <td>...</td>\n",
              "      <td>...</td>\n",
              "      <td>...</td>\n",
              "      <td>...</td>\n",
              "      <td>...</td>\n",
              "    </tr>\n",
              "    <tr>\n",
              "      <th>36468</th>\n",
              "      <td>8e1386cbefd7f245</td>\n",
              "      <td>wood article</td>\n",
              "      <td>wooden article</td>\n",
              "      <td>B44</td>\n",
              "      <td>1.00</td>\n",
              "    </tr>\n",
              "    <tr>\n",
              "      <th>36469</th>\n",
              "      <td>42d9e032d1cd3242</td>\n",
              "      <td>wood article</td>\n",
              "      <td>wooden box</td>\n",
              "      <td>B44</td>\n",
              "      <td>0.50</td>\n",
              "    </tr>\n",
              "    <tr>\n",
              "      <th>36470</th>\n",
              "      <td>208654ccb9e14fa3</td>\n",
              "      <td>wood article</td>\n",
              "      <td>wooden handle</td>\n",
              "      <td>B44</td>\n",
              "      <td>0.50</td>\n",
              "    </tr>\n",
              "    <tr>\n",
              "      <th>36471</th>\n",
              "      <td>756ec035e694722b</td>\n",
              "      <td>wood article</td>\n",
              "      <td>wooden material</td>\n",
              "      <td>B44</td>\n",
              "      <td>0.75</td>\n",
              "    </tr>\n",
              "    <tr>\n",
              "      <th>36472</th>\n",
              "      <td>8d135da0b55b8c88</td>\n",
              "      <td>wood article</td>\n",
              "      <td>wooden substrate</td>\n",
              "      <td>B44</td>\n",
              "      <td>0.50</td>\n",
              "    </tr>\n",
              "  </tbody>\n",
              "</table>\n",
              "<p>36473 rows × 5 columns</p>\n",
              "</div>\n",
              "      <button class=\"colab-df-convert\" onclick=\"convertToInteractive('df-7ae36b2b-4a3c-43f6-abb6-6737dbffe482')\"\n",
              "              title=\"Convert this dataframe to an interactive table.\"\n",
              "              style=\"display:none;\">\n",
              "        \n",
              "  <svg xmlns=\"http://www.w3.org/2000/svg\" height=\"24px\"viewBox=\"0 0 24 24\"\n",
              "       width=\"24px\">\n",
              "    <path d=\"M0 0h24v24H0V0z\" fill=\"none\"/>\n",
              "    <path d=\"M18.56 5.44l.94 2.06.94-2.06 2.06-.94-2.06-.94-.94-2.06-.94 2.06-2.06.94zm-11 1L8.5 8.5l.94-2.06 2.06-.94-2.06-.94L8.5 2.5l-.94 2.06-2.06.94zm10 10l.94 2.06.94-2.06 2.06-.94-2.06-.94-.94-2.06-.94 2.06-2.06.94z\"/><path d=\"M17.41 7.96l-1.37-1.37c-.4-.4-.92-.59-1.43-.59-.52 0-1.04.2-1.43.59L10.3 9.45l-7.72 7.72c-.78.78-.78 2.05 0 2.83L4 21.41c.39.39.9.59 1.41.59.51 0 1.02-.2 1.41-.59l7.78-7.78 2.81-2.81c.8-.78.8-2.07 0-2.86zM5.41 20L4 18.59l7.72-7.72 1.47 1.35L5.41 20z\"/>\n",
              "  </svg>\n",
              "      </button>\n",
              "      \n",
              "  <style>\n",
              "    .colab-df-container {\n",
              "      display:flex;\n",
              "      flex-wrap:wrap;\n",
              "      gap: 12px;\n",
              "    }\n",
              "\n",
              "    .colab-df-convert {\n",
              "      background-color: #E8F0FE;\n",
              "      border: none;\n",
              "      border-radius: 50%;\n",
              "      cursor: pointer;\n",
              "      display: none;\n",
              "      fill: #1967D2;\n",
              "      height: 32px;\n",
              "      padding: 0 0 0 0;\n",
              "      width: 32px;\n",
              "    }\n",
              "\n",
              "    .colab-df-convert:hover {\n",
              "      background-color: #E2EBFA;\n",
              "      box-shadow: 0px 1px 2px rgba(60, 64, 67, 0.3), 0px 1px 3px 1px rgba(60, 64, 67, 0.15);\n",
              "      fill: #174EA6;\n",
              "    }\n",
              "\n",
              "    [theme=dark] .colab-df-convert {\n",
              "      background-color: #3B4455;\n",
              "      fill: #D2E3FC;\n",
              "    }\n",
              "\n",
              "    [theme=dark] .colab-df-convert:hover {\n",
              "      background-color: #434B5C;\n",
              "      box-shadow: 0px 1px 3px 1px rgba(0, 0, 0, 0.15);\n",
              "      filter: drop-shadow(0px 1px 2px rgba(0, 0, 0, 0.3));\n",
              "      fill: #FFFFFF;\n",
              "    }\n",
              "  </style>\n",
              "\n",
              "      <script>\n",
              "        const buttonEl =\n",
              "          document.querySelector('#df-7ae36b2b-4a3c-43f6-abb6-6737dbffe482 button.colab-df-convert');\n",
              "        buttonEl.style.display =\n",
              "          google.colab.kernel.accessAllowed ? 'block' : 'none';\n",
              "\n",
              "        async function convertToInteractive(key) {\n",
              "          const element = document.querySelector('#df-7ae36b2b-4a3c-43f6-abb6-6737dbffe482');\n",
              "          const dataTable =\n",
              "            await google.colab.kernel.invokeFunction('convertToInteractive',\n",
              "                                                     [key], {});\n",
              "          if (!dataTable) return;\n",
              "\n",
              "          const docLinkHtml = 'Like what you see? Visit the ' +\n",
              "            '<a target=\"_blank\" href=https://colab.research.google.com/notebooks/data_table.ipynb>data table notebook</a>'\n",
              "            + ' to learn more about interactive tables.';\n",
              "          element.innerHTML = '';\n",
              "          dataTable['output_type'] = 'display_data';\n",
              "          await google.colab.output.renderOutput(dataTable, element);\n",
              "          const docLink = document.createElement('div');\n",
              "          docLink.innerHTML = docLinkHtml;\n",
              "          element.appendChild(docLink);\n",
              "        }\n",
              "      </script>\n",
              "    </div>\n",
              "  </div>\n",
              "  "
            ]
          },
          "metadata": {},
          "execution_count": 11
        }
      ]
    },
    {
      "cell_type": "markdown",
      "source": [
        "By default describe method only includes numerical value. By having object, I can include string."
      ],
      "metadata": {
        "id": "NhOGrlxHFE-D"
      }
    },
    {
      "cell_type": "code",
      "source": [
        "df.describe(include='object') "
      ],
      "metadata": {
        "colab": {
          "base_uri": "https://localhost:8080/",
          "height": 174
        },
        "id": "WrNMnpKYDHtw",
        "outputId": "912bac88-9bfa-40fd-f10d-e3b3825001bb"
      },
      "execution_count": null,
      "outputs": [
        {
          "output_type": "execute_result",
          "data": {
            "text/plain": [
              "                      id                       anchor       target context\n",
              "count              36473                        36473        36473   36473\n",
              "unique             36473                          733        29340     106\n",
              "top     37d61fd2272659b1  component composite coating  composition     H01\n",
              "freq                   1                          152           24    2186"
            ],
            "text/html": [
              "\n",
              "  <div id=\"df-b7aebfb3-1d60-4b7f-ad8d-b49a55f00611\">\n",
              "    <div class=\"colab-df-container\">\n",
              "      <div>\n",
              "<style scoped>\n",
              "    .dataframe tbody tr th:only-of-type {\n",
              "        vertical-align: middle;\n",
              "    }\n",
              "\n",
              "    .dataframe tbody tr th {\n",
              "        vertical-align: top;\n",
              "    }\n",
              "\n",
              "    .dataframe thead th {\n",
              "        text-align: right;\n",
              "    }\n",
              "</style>\n",
              "<table border=\"1\" class=\"dataframe\">\n",
              "  <thead>\n",
              "    <tr style=\"text-align: right;\">\n",
              "      <th></th>\n",
              "      <th>id</th>\n",
              "      <th>anchor</th>\n",
              "      <th>target</th>\n",
              "      <th>context</th>\n",
              "    </tr>\n",
              "  </thead>\n",
              "  <tbody>\n",
              "    <tr>\n",
              "      <th>count</th>\n",
              "      <td>36473</td>\n",
              "      <td>36473</td>\n",
              "      <td>36473</td>\n",
              "      <td>36473</td>\n",
              "    </tr>\n",
              "    <tr>\n",
              "      <th>unique</th>\n",
              "      <td>36473</td>\n",
              "      <td>733</td>\n",
              "      <td>29340</td>\n",
              "      <td>106</td>\n",
              "    </tr>\n",
              "    <tr>\n",
              "      <th>top</th>\n",
              "      <td>37d61fd2272659b1</td>\n",
              "      <td>component composite coating</td>\n",
              "      <td>composition</td>\n",
              "      <td>H01</td>\n",
              "    </tr>\n",
              "    <tr>\n",
              "      <th>freq</th>\n",
              "      <td>1</td>\n",
              "      <td>152</td>\n",
              "      <td>24</td>\n",
              "      <td>2186</td>\n",
              "    </tr>\n",
              "  </tbody>\n",
              "</table>\n",
              "</div>\n",
              "      <button class=\"colab-df-convert\" onclick=\"convertToInteractive('df-b7aebfb3-1d60-4b7f-ad8d-b49a55f00611')\"\n",
              "              title=\"Convert this dataframe to an interactive table.\"\n",
              "              style=\"display:none;\">\n",
              "        \n",
              "  <svg xmlns=\"http://www.w3.org/2000/svg\" height=\"24px\"viewBox=\"0 0 24 24\"\n",
              "       width=\"24px\">\n",
              "    <path d=\"M0 0h24v24H0V0z\" fill=\"none\"/>\n",
              "    <path d=\"M18.56 5.44l.94 2.06.94-2.06 2.06-.94-2.06-.94-.94-2.06-.94 2.06-2.06.94zm-11 1L8.5 8.5l.94-2.06 2.06-.94-2.06-.94L8.5 2.5l-.94 2.06-2.06.94zm10 10l.94 2.06.94-2.06 2.06-.94-2.06-.94-.94-2.06-.94 2.06-2.06.94z\"/><path d=\"M17.41 7.96l-1.37-1.37c-.4-.4-.92-.59-1.43-.59-.52 0-1.04.2-1.43.59L10.3 9.45l-7.72 7.72c-.78.78-.78 2.05 0 2.83L4 21.41c.39.39.9.59 1.41.59.51 0 1.02-.2 1.41-.59l7.78-7.78 2.81-2.81c.8-.78.8-2.07 0-2.86zM5.41 20L4 18.59l7.72-7.72 1.47 1.35L5.41 20z\"/>\n",
              "  </svg>\n",
              "      </button>\n",
              "      \n",
              "  <style>\n",
              "    .colab-df-container {\n",
              "      display:flex;\n",
              "      flex-wrap:wrap;\n",
              "      gap: 12px;\n",
              "    }\n",
              "\n",
              "    .colab-df-convert {\n",
              "      background-color: #E8F0FE;\n",
              "      border: none;\n",
              "      border-radius: 50%;\n",
              "      cursor: pointer;\n",
              "      display: none;\n",
              "      fill: #1967D2;\n",
              "      height: 32px;\n",
              "      padding: 0 0 0 0;\n",
              "      width: 32px;\n",
              "    }\n",
              "\n",
              "    .colab-df-convert:hover {\n",
              "      background-color: #E2EBFA;\n",
              "      box-shadow: 0px 1px 2px rgba(60, 64, 67, 0.3), 0px 1px 3px 1px rgba(60, 64, 67, 0.15);\n",
              "      fill: #174EA6;\n",
              "    }\n",
              "\n",
              "    [theme=dark] .colab-df-convert {\n",
              "      background-color: #3B4455;\n",
              "      fill: #D2E3FC;\n",
              "    }\n",
              "\n",
              "    [theme=dark] .colab-df-convert:hover {\n",
              "      background-color: #434B5C;\n",
              "      box-shadow: 0px 1px 3px 1px rgba(0, 0, 0, 0.15);\n",
              "      filter: drop-shadow(0px 1px 2px rgba(0, 0, 0, 0.3));\n",
              "      fill: #FFFFFF;\n",
              "    }\n",
              "  </style>\n",
              "\n",
              "      <script>\n",
              "        const buttonEl =\n",
              "          document.querySelector('#df-b7aebfb3-1d60-4b7f-ad8d-b49a55f00611 button.colab-df-convert');\n",
              "        buttonEl.style.display =\n",
              "          google.colab.kernel.accessAllowed ? 'block' : 'none';\n",
              "\n",
              "        async function convertToInteractive(key) {\n",
              "          const element = document.querySelector('#df-b7aebfb3-1d60-4b7f-ad8d-b49a55f00611');\n",
              "          const dataTable =\n",
              "            await google.colab.kernel.invokeFunction('convertToInteractive',\n",
              "                                                     [key], {});\n",
              "          if (!dataTable) return;\n",
              "\n",
              "          const docLinkHtml = 'Like what you see? Visit the ' +\n",
              "            '<a target=\"_blank\" href=https://colab.research.google.com/notebooks/data_table.ipynb>data table notebook</a>'\n",
              "            + ' to learn more about interactive tables.';\n",
              "          element.innerHTML = '';\n",
              "          dataTable['output_type'] = 'display_data';\n",
              "          await google.colab.output.renderOutput(dataTable, element);\n",
              "          const docLink = document.createElement('div');\n",
              "          docLink.innerHTML = docLinkHtml;\n",
              "          element.appendChild(docLink);\n",
              "        }\n",
              "      </script>\n",
              "    </div>\n",
              "  </div>\n",
              "  "
            ]
          },
          "metadata": {},
          "execution_count": 12
        }
      ]
    },
    {
      "cell_type": "markdown",
      "source": [
        "As an effort to convert the problem into NLP classification problem, we are going to concatenate each column value and create a new string per each row. This new string will be saved as a separate column called 'input'. "
      ],
      "metadata": {
        "id": "ne1YrypcDMGv"
      }
    },
    {
      "cell_type": "code",
      "source": [
        "df['input'] = \"TEXT1: \" + df.context +\"; TEXT2: \" + df.target+ \"; ANC1: \" + df.anchor"
      ],
      "metadata": {
        "id": "NEtHR6jHEvXg"
      },
      "execution_count": null,
      "outputs": []
    },
    {
      "cell_type": "code",
      "source": [
        "df.input.head() #dotted notation is one way to access a column in dataframe."
      ],
      "metadata": {
        "colab": {
          "base_uri": "https://localhost:8080/"
        },
        "id": "PsTBXezaGrxY",
        "outputId": "e6ae64d0-3902-4536-8cb5-549352320412"
      },
      "execution_count": null,
      "outputs": [
        {
          "output_type": "execute_result",
          "data": {
            "text/plain": [
              "0    TEXT1: A47; TEXT2: abatement of pollution; ANC...\n",
              "1    TEXT1: A47; TEXT2: act of abating; ANC1: abate...\n",
              "2    TEXT1: A47; TEXT2: active catalyst; ANC1: abat...\n",
              "3    TEXT1: A47; TEXT2: eliminating process; ANC1: ...\n",
              "4    TEXT1: A47; TEXT2: forest region; ANC1: abatement\n",
              "Name: input, dtype: object"
            ]
          },
          "metadata": {},
          "execution_count": 14
        }
      ]
    },
    {
      "cell_type": "code",
      "source": [
        "df['input'].head() #I can also access it like a dictionary"
      ],
      "metadata": {
        "colab": {
          "base_uri": "https://localhost:8080/"
        },
        "id": "0FopzneEGthV",
        "outputId": "a2ff8a5b-691d-4c99-c08c-44287360a10d"
      },
      "execution_count": null,
      "outputs": [
        {
          "output_type": "execute_result",
          "data": {
            "text/plain": [
              "0    TEXT1: A47; TEXT2: abatement of pollution; ANC...\n",
              "1    TEXT1: A47; TEXT2: act of abating; ANC1: abate...\n",
              "2    TEXT1: A47; TEXT2: active catalyst; ANC1: abat...\n",
              "3    TEXT1: A47; TEXT2: eliminating process; ANC1: ...\n",
              "4    TEXT1: A47; TEXT2: forest region; ANC1: abatement\n",
              "Name: input, dtype: object"
            ]
          },
          "metadata": {},
          "execution_count": 15
        }
      ]
    },
    {
      "cell_type": "markdown",
      "source": [
        "Now, we have data that is representing the problem. The next work is to represent this data as number. \n",
        "\n",
        "To convert the text data to be numeric value, we need to go through two processes: tokenization and numericalization. How these processes are handled are very specific to models. So we need to choose a model first.  "
      ],
      "metadata": {
        "id": "Ea92SpI0Gx_B"
      }
    },
    {
      "cell_type": "markdown",
      "source": [
        " In this chapter, the way we are going to use is using HuggingFace Transformers library. This library provides a simple API to apply a wide range of state-of-the art pretrained NLP models to perform tasks (ex: text classification, summarization, translation and more). \n",
        "\n",
        "As such, we need to understand how this Transformers library API works. \n",
        "\n",
        "First and foremost, it accepts the data in the type called Dataset. "
      ],
      "metadata": {
        "id": "8A_x58MmIIyp"
      }
    },
    {
      "cell_type": "markdown",
      "source": [
        "A lot of utilites to work on Dataset are available via Datasets Huggingface library. \n",
        "\n",
        "Datasets library does provide a way to load the csv data simliar to Pands. According to ChatGPT, pandas is a good chocie for a small and simple CSV files (simple in a sense that the data that the file contains are straightforward data type unlike JSONs). As for our data, we confirmed that it is pretty small and the data itself is pretty primitive datatype, we decide to load csv files via pandas. \n",
        "\n",
        "This means we need to convert Dataframe object to Dataset. "
      ],
      "metadata": {
        "id": "KnChBoL0Mjtm"
      }
    },
    {
      "cell_type": "code",
      "source": [
        "!pip install -q datasets #installing huggingface dataset libraries; https://huggingface.co/docs/datasets/index"
      ],
      "metadata": {
        "colab": {
          "base_uri": "https://localhost:8080/"
        },
        "id": "ndjXwvjClzI6",
        "outputId": "edcdb618-77b1-4a70-9453-52386a814ca6"
      },
      "execution_count": null,
      "outputs": [
        {
          "output_type": "stream",
          "name": "stdout",
          "text": [
            "\u001b[2K     \u001b[90m━━━━━━━━━━━━━━━━━━━━━━━━━━━━━━━━━━━━━━━\u001b[0m \u001b[32m474.6/474.6 kB\u001b[0m \u001b[31m7.2 MB/s\u001b[0m eta \u001b[36m0:00:00\u001b[0m\n",
            "\u001b[2K     \u001b[90m━━━━━━━━━━━━━━━━━━━━━━━━━━━━━━━━━━━━━━\u001b[0m \u001b[32m212.5/212.5 kB\u001b[0m \u001b[31m10.7 MB/s\u001b[0m eta \u001b[36m0:00:00\u001b[0m\n",
            "\u001b[2K     \u001b[90m━━━━━━━━━━━━━━━━━━━━━━━━━━━━━━━━━━━━━━\u001b[0m \u001b[32m224.5/224.5 kB\u001b[0m \u001b[31m12.4 MB/s\u001b[0m eta \u001b[36m0:00:00\u001b[0m\n",
            "\u001b[2K     \u001b[90m━━━━━━━━━━━━━━━━━━━━━━━━━━━━━━━━━━━━━━━\u001b[0m \u001b[32m110.5/110.5 kB\u001b[0m \u001b[31m8.7 MB/s\u001b[0m eta \u001b[36m0:00:00\u001b[0m\n",
            "\u001b[2K     \u001b[90m━━━━━━━━━━━━━━━━━━━━━━━━━━━━━━━━━━━━━━━━\u001b[0m \u001b[32m1.0/1.0 MB\u001b[0m \u001b[31m10.0 MB/s\u001b[0m eta \u001b[36m0:00:00\u001b[0m\n",
            "\u001b[2K     \u001b[90m━━━━━━━━━━━━━━━━━━━━━━━━━━━━━━━━━━━━━━━\u001b[0m \u001b[32m134.3/134.3 kB\u001b[0m \u001b[31m2.7 MB/s\u001b[0m eta \u001b[36m0:00:00\u001b[0m\n",
            "\u001b[2K     \u001b[90m━━━━━━━━━━━━━━━━━━━━━━━━━━━━━━━━━━━━━━━\u001b[0m \u001b[32m114.5/114.5 kB\u001b[0m \u001b[31m1.7 MB/s\u001b[0m eta \u001b[36m0:00:00\u001b[0m\n",
            "\u001b[2K     \u001b[90m━━━━━━━━━━━━━━━━━━━━━━━━━━━━━━━━━━━━━━\u001b[0m \u001b[32m149.6/149.6 kB\u001b[0m \u001b[31m16.7 MB/s\u001b[0m eta \u001b[36m0:00:00\u001b[0m\n",
            "\u001b[2K     \u001b[90m━━━━━━━━━━━━━━━━━━━━━━━━━━━━━━━━━━━━━━\u001b[0m \u001b[32m268.8/268.8 kB\u001b[0m \u001b[31m17.0 MB/s\u001b[0m eta \u001b[36m0:00:00\u001b[0m\n",
            "\u001b[?25h"
          ]
        }
      ]
    },
    {
      "cell_type": "code",
      "source": [
        "from datasets import Dataset\n",
        "ds = Dataset.from_pandas(df)"
      ],
      "metadata": {
        "id": "m7AeRvuDHIcJ"
      },
      "execution_count": null,
      "outputs": []
    },
    {
      "cell_type": "code",
      "source": [
        "ds"
      ],
      "metadata": {
        "colab": {
          "base_uri": "https://localhost:8080/"
        },
        "id": "08gwleN2NtBg",
        "outputId": "7db05799-789d-4ad4-f2a5-6fc9f7e2053f"
      },
      "execution_count": null,
      "outputs": [
        {
          "output_type": "execute_result",
          "data": {
            "text/plain": [
              "Dataset({\n",
              "    features: ['id', 'anchor', 'target', 'context', 'score', 'input'],\n",
              "    num_rows: 36473\n",
              "})"
            ]
          },
          "metadata": {},
          "execution_count": 18
        }
      ]
    },
    {
      "cell_type": "markdown",
      "source": [
        "dataset of Transformer library is the same as dataframe of pandas. So I can do the following."
      ],
      "metadata": {
        "id": "G1tHkTXaXiuu"
      }
    },
    {
      "cell_type": "code",
      "source": [
        "ds['input']"
      ],
      "metadata": {
        "colab": {
          "base_uri": "https://localhost:8080/"
        },
        "id": "FSU_avGXXe6K",
        "outputId": "a3974ec5-c258-4762-e1ac-85ca736ce103"
      },
      "execution_count": null,
      "outputs": [
        {
          "output_type": "execute_result",
          "data": {
            "text/plain": [
              "['TEXT1: A47; TEXT2: abatement of pollution; ANC1: abatement',\n",
              " 'TEXT1: A47; TEXT2: act of abating; ANC1: abatement',\n",
              " 'TEXT1: A47; TEXT2: active catalyst; ANC1: abatement',\n",
              " 'TEXT1: A47; TEXT2: eliminating process; ANC1: abatement',\n",
              " 'TEXT1: A47; TEXT2: forest region; ANC1: abatement',\n",
              " 'TEXT1: A47; TEXT2: greenhouse gases; ANC1: abatement',\n",
              " 'TEXT1: A47; TEXT2: increased rate; ANC1: abatement',\n",
              " 'TEXT1: A47; TEXT2: measurement level; ANC1: abatement',\n",
              " 'TEXT1: A47; TEXT2: minimising sounds; ANC1: abatement',\n",
              " 'TEXT1: A47; TEXT2: mixing core materials; ANC1: abatement',\n",
              " 'TEXT1: A47; TEXT2: multi pollution abatement device; ANC1: abatement',\n",
              " 'TEXT1: A47; TEXT2: noise reduction; ANC1: abatement',\n",
              " 'TEXT1: A47; TEXT2: pollution abatement; ANC1: abatement',\n",
              " 'TEXT1: A47; TEXT2: pollution abatement incinerator; ANC1: abatement',\n",
              " 'TEXT1: A47; TEXT2: pollution certificate; ANC1: abatement',\n",
              " 'TEXT1: A47; TEXT2: rent abatement; ANC1: abatement',\n",
              " 'TEXT1: A47; TEXT2: sorbent material; ANC1: abatement',\n",
              " 'TEXT1: A47; TEXT2: source items pollution abatement technology; ANC1: abatement',\n",
              " 'TEXT1: A47; TEXT2: stone abutments; ANC1: abatement',\n",
              " 'TEXT1: A47; TEXT2: tax abatement; ANC1: abatement',\n",
              " 'TEXT1: A47; TEXT2: water bodies; ANC1: abatement',\n",
              " 'TEXT1: A61; TEXT2: emission abatement; ANC1: abatement',\n",
              " 'TEXT1: A61; TEXT2: prevention; ANC1: abatement',\n",
              " 'TEXT1: A61; TEXT2: prophylaxis; ANC1: abatement',\n",
              " 'TEXT1: A62; TEXT2: pollution abatement; ANC1: abatement',\n",
              " 'TEXT1: C01; TEXT2: abatement apparatus; ANC1: abatement',\n",
              " 'TEXT1: F16; TEXT2: treatment; ANC1: abatement',\n",
              " 'TEXT1: F24; TEXT2: abatement apparatus; ANC1: abatement',\n",
              " 'TEXT1: F24; TEXT2: abating; ANC1: abatement',\n",
              " 'TEXT1: F24; TEXT2: central hub; ANC1: abatement',\n",
              " 'TEXT1: F24; TEXT2: control panel; ANC1: abatement',\n",
              " 'TEXT1: F24; TEXT2: deficiency; ANC1: abatement',\n",
              " 'TEXT1: F24; TEXT2: diminished chord; ANC1: abatement',\n",
              " 'TEXT1: F24; TEXT2: diminished image; ANC1: abatement',\n",
              " 'TEXT1: F24; TEXT2: diminishing; ANC1: abatement',\n",
              " 'TEXT1: F24; TEXT2: eliminating; ANC1: abatement',\n",
              " 'TEXT1: F24; TEXT2: eliminating emissions; ANC1: abatement',\n",
              " 'TEXT1: F24; TEXT2: eliminating pollutants; ANC1: abatement',\n",
              " 'TEXT1: F24; TEXT2: increasing; ANC1: abatement',\n",
              " 'TEXT1: F24; TEXT2: increasing order; ANC1: abatement',\n",
              " 'TEXT1: F24; TEXT2: mitigation; ANC1: abatement',\n",
              " 'TEXT1: F24; TEXT2: pollution control; ANC1: abatement',\n",
              " 'TEXT1: F24; TEXT2: processing unit; ANC1: abatement',\n",
              " 'TEXT1: F24; TEXT2: removing air pollutants; ANC1: abatement',\n",
              " 'TEXT1: F24; TEXT2: subsiding; ANC1: abatement',\n",
              " 'TEXT1: F24; TEXT2: treating emissions; ANC1: abatement',\n",
              " 'TEXT1: F28; TEXT2: noise abatement; ANC1: abatement',\n",
              " 'TEXT1: H01; TEXT2: noise abatement; ANC1: abatement',\n",
              " 'TEXT1: H04; TEXT2: emission abatement; ANC1: abatement',\n",
              " 'TEXT1: B23; TEXT2: abnormal position data; ANC1: abnormal position',\n",
              " 'TEXT1: B23; TEXT2: attitude; ANC1: abnormal position',\n",
              " 'TEXT1: B23; TEXT2: closed position shown; ANC1: abnormal position',\n",
              " 'TEXT1: B23; TEXT2: condition illustrated; ANC1: abnormal position',\n",
              " 'TEXT1: B23; TEXT2: condition shown; ANC1: abnormal position',\n",
              " 'TEXT1: B23; TEXT2: data; ANC1: abnormal position',\n",
              " 'TEXT1: B23; TEXT2: information; ANC1: abnormal position',\n",
              " 'TEXT1: B23; TEXT2: inoperative condition; ANC1: abnormal position',\n",
              " 'TEXT1: B23; TEXT2: inoperative position; ANC1: abnormal position',\n",
              " 'TEXT1: B23; TEXT2: open as shown; ANC1: abnormal position',\n",
              " 'TEXT1: B23; TEXT2: open condition; ANC1: abnormal position',\n",
              " 'TEXT1: B23; TEXT2: open position; ANC1: abnormal position',\n",
              " 'TEXT1: B23; TEXT2: open position illustrated; ANC1: abnormal position',\n",
              " 'TEXT1: B23; TEXT2: open position shown; ANC1: abnormal position',\n",
              " 'TEXT1: B23; TEXT2: orientation; ANC1: abnormal position',\n",
              " 'TEXT1: B23; TEXT2: position illustrated; ANC1: abnormal position',\n",
              " 'TEXT1: B23; TEXT2: position shown; ANC1: abnormal position',\n",
              " 'TEXT1: B23; TEXT2: tip data; ANC1: abnormal position',\n",
              " 'TEXT1: B23; TEXT2: tip information; ANC1: abnormal position',\n",
              " 'TEXT1: B23; TEXT2: wear data; ANC1: abnormal position',\n",
              " 'TEXT1: B41; TEXT2: angular position; ANC1: abnormal position',\n",
              " 'TEXT1: B41; TEXT2: positions; ANC1: abnormal position',\n",
              " 'TEXT1: D03; TEXT2: abnormal breathing; ANC1: abnormal position',\n",
              " 'TEXT1: D03; TEXT2: abnormal manner; ANC1: abnormal position',\n",
              " 'TEXT1: D03; TEXT2: abnormal placement; ANC1: abnormal position',\n",
              " 'TEXT1: D03; TEXT2: abnormal posture; ANC1: abnormal position',\n",
              " 'TEXT1: D03; TEXT2: abnormal profit; ANC1: abnormal position',\n",
              " 'TEXT1: D03; TEXT2: abnormal side; ANC1: abnormal position',\n",
              " 'TEXT1: D03; TEXT2: anomaly scan; ANC1: abnormal position',\n",
              " 'TEXT1: D03; TEXT2: depression; ANC1: abnormal position',\n",
              " 'TEXT1: D03; TEXT2: deviated from; ANC1: abnormal position',\n",
              " 'TEXT1: D03; TEXT2: engagement; ANC1: abnormal position',\n",
              " 'TEXT1: D03; TEXT2: implant positioning; ANC1: abnormal position',\n",
              " 'TEXT1: D03; TEXT2: irregular configuration; ANC1: abnormal position',\n",
              " 'TEXT1: D03; TEXT2: locked position; ANC1: abnormal position',\n",
              " 'TEXT1: D03; TEXT2: locked relationship; ANC1: abnormal position',\n",
              " 'TEXT1: D03; TEXT2: normal position; ANC1: abnormal position',\n",
              " 'TEXT1: D03; TEXT2: odd position; ANC1: abnormal position',\n",
              " 'TEXT1: D03; TEXT2: place; ANC1: abnormal position',\n",
              " 'TEXT1: D03; TEXT2: position; ANC1: abnormal position',\n",
              " 'TEXT1: D03; TEXT2: position isomerism; ANC1: abnormal position',\n",
              " 'TEXT1: D03; TEXT2: position vector; ANC1: abnormal position',\n",
              " 'TEXT1: D03; TEXT2: rare placement; ANC1: abnormal position',\n",
              " 'TEXT1: D03; TEXT2: recess; ANC1: abnormal position',\n",
              " 'TEXT1: D03; TEXT2: relative position; ANC1: abnormal position',\n",
              " 'TEXT1: D03; TEXT2: relative relationship; ANC1: abnormal position',\n",
              " 'TEXT1: D03; TEXT2: situation; ANC1: abnormal position',\n",
              " 'TEXT1: D03; TEXT2: unexpected position; ANC1: abnormal position',\n",
              " 'TEXT1: D03; TEXT2: unison; ANC1: abnormal position',\n",
              " 'TEXT1: D03; TEXT2: unusal arrangement; ANC1: abnormal position',\n",
              " 'TEXT1: D03; TEXT2: unusual manner; ANC1: abnormal position',\n",
              " 'TEXT1: E03; TEXT2: abnormal; ANC1: abnormal position',\n",
              " 'TEXT1: E03; TEXT2: abnormal condition; ANC1: abnormal position',\n",
              " 'TEXT1: E03; TEXT2: abnormal molar mass; ANC1: abnormal position',\n",
              " 'TEXT1: E03; TEXT2: abnormal presentations; ANC1: abnormal position',\n",
              " 'TEXT1: E03; TEXT2: abnormal psychology; ANC1: abnormal position',\n",
              " 'TEXT1: E03; TEXT2: abnormality state; ANC1: abnormal position',\n",
              " 'TEXT1: E03; TEXT2: axial position; ANC1: abnormal position',\n",
              " 'TEXT1: E03; TEXT2: elevation; ANC1: abnormal position',\n",
              " 'TEXT1: E03; TEXT2: emergency condition; ANC1: abnormal position',\n",
              " 'TEXT1: E03; TEXT2: emergency position; ANC1: abnormal position',\n",
              " 'TEXT1: E03; TEXT2: extent; ANC1: abnormal position',\n",
              " 'TEXT1: E03; TEXT2: facing forward; ANC1: abnormal position',\n",
              " 'TEXT1: E03; TEXT2: failure; ANC1: abnormal position',\n",
              " 'TEXT1: E03; TEXT2: fault position; ANC1: abnormal position',\n",
              " 'TEXT1: E03; TEXT2: fixed failure; ANC1: abnormal position',\n",
              " 'TEXT1: E03; TEXT2: forward axis; ANC1: abnormal position',\n",
              " 'TEXT1: E03; TEXT2: hardware abnormality; ANC1: abnormal position',\n",
              " 'TEXT1: E03; TEXT2: hardware manufacturer; ANC1: abnormal position',\n",
              " 'TEXT1: E03; TEXT2: inoperative position; ANC1: abnormal position',\n",
              " 'TEXT1: E03; TEXT2: leakage; ANC1: abnormal position',\n",
              " 'TEXT1: E03; TEXT2: normal position; ANC1: abnormal position',\n",
              " 'TEXT1: E03; TEXT2: open position; ANC1: abnormal position',\n",
              " 'TEXT1: E03; TEXT2: operating abnormality; ANC1: abnormal position',\n",
              " 'TEXT1: E03; TEXT2: operative position; ANC1: abnormal position',\n",
              " 'TEXT1: E03; TEXT2: overflow; ANC1: abnormal position',\n",
              " 'TEXT1: E03; TEXT2: position vector; ANC1: abnormal position',\n",
              " 'TEXT1: E03; TEXT2: state name; ANC1: abnormal position',\n",
              " 'TEXT1: E03; TEXT2: unusual position; ANC1: abnormal position',\n",
              " 'TEXT1: E03; TEXT2: unusual state; ANC1: abnormal position',\n",
              " 'TEXT1: E03; TEXT2: upper position; ANC1: abnormal position',\n",
              " 'TEXT1: E03; TEXT2: warning; ANC1: abnormal position',\n",
              " 'TEXT1: C08; TEXT2: adsorbent properties; ANC1: absorbent properties',\n",
              " 'TEXT1: C08; TEXT2: cao; ANC1: absorbent properties',\n",
              " 'TEXT1: C08; TEXT2: characterization; ANC1: absorbent properties',\n",
              " 'TEXT1: C08; TEXT2: collateral properties; ANC1: absorbent properties',\n",
              " 'TEXT1: C08; TEXT2: colligative properties; ANC1: absorbent properties',\n",
              " 'TEXT1: C08; TEXT2: conformational properties; ANC1: absorbent properties',\n",
              " 'TEXT1: C08; TEXT2: dehumidifying properties; ANC1: absorbent properties',\n",
              " 'TEXT1: C08; TEXT2: elastomeric properties; ANC1: absorbent properties',\n",
              " 'TEXT1: C08; TEXT2: evaporated salt; ANC1: absorbent properties',\n",
              " 'TEXT1: C08; TEXT2: fluorescent properties; ANC1: absorbent properties',\n",
              " 'TEXT1: C08; TEXT2: geometrical properties; ANC1: absorbent properties',\n",
              " 'TEXT1: C08; TEXT2: housing properties; ANC1: absorbent properties',\n",
              " 'TEXT1: C08; TEXT2: hygroscopic; ANC1: absorbent properties',\n",
              " 'TEXT1: C08; TEXT2: hygroscopic properties; ANC1: absorbent properties',\n",
              " 'TEXT1: C08; TEXT2: ionic compound; ANC1: absorbent properties',\n",
              " 'TEXT1: C08; TEXT2: liquid holding capacity; ANC1: absorbent properties',\n",
              " 'TEXT1: C08; TEXT2: mechanical characteristics; ANC1: absorbent properties',\n",
              " 'TEXT1: C08; TEXT2: mechanical properties; ANC1: absorbent properties',\n",
              " 'TEXT1: C08; TEXT2: moisture barrier properties; ANC1: absorbent properties',\n",
              " 'TEXT1: C08; TEXT2: moisture proof properties; ANC1: absorbent properties',\n",
              " 'TEXT1: C08; TEXT2: nacl; ANC1: absorbent properties',\n",
              " 'TEXT1: C08; TEXT2: naoh; ANC1: absorbent properties',\n",
              " 'TEXT1: C08; TEXT2: physical properties; ANC1: absorbent properties',\n",
              " 'TEXT1: C08; TEXT2: properties; ANC1: absorbent properties',\n",
              " 'TEXT1: C08; TEXT2: reusable salt; ANC1: absorbent properties',\n",
              " 'TEXT1: C08; TEXT2: soaking properties; ANC1: absorbent properties',\n",
              " 'TEXT1: D01; TEXT2: absorbency; ANC1: absorbent properties',\n",
              " 'TEXT1: D01; TEXT2: absorbent characteristics; ANC1: absorbent properties',\n",
              " 'TEXT1: D01; TEXT2: absorbing polymer; ANC1: absorbent properties',\n",
              " 'TEXT1: D01; TEXT2: absorption characteristics; ANC1: absorbent properties',\n",
              " 'TEXT1: D01; TEXT2: absorption properties; ANC1: absorbent properties',\n",
              " 'TEXT1: D01; TEXT2: adsorbent properties; ANC1: absorbent properties',\n",
              " 'TEXT1: D01; TEXT2: adsorption performance; ANC1: absorbent properties',\n",
              " 'TEXT1: D01; TEXT2: capable of absorbing; ANC1: absorbent properties',\n",
              " 'TEXT1: D01; TEXT2: characteristic; ANC1: absorbent properties',\n",
              " 'TEXT1: D01; TEXT2: desiccant; ANC1: absorbent properties',\n",
              " 'TEXT1: D01; TEXT2: dielectric properties; ANC1: absorbent properties',\n",
              " 'TEXT1: D01; TEXT2: food absorption; ANC1: absorbent properties',\n",
              " 'TEXT1: D01; TEXT2: mechanical properties; ANC1: absorbent properties',\n",
              " 'TEXT1: D01; TEXT2: mechanical resistance; ANC1: absorbent properties',\n",
              " 'TEXT1: D01; TEXT2: metal properties; ANC1: absorbent properties',\n",
              " 'TEXT1: D01; TEXT2: moisture; ANC1: absorbent properties',\n",
              " 'TEXT1: D01; TEXT2: optical properties; ANC1: absorbent properties',\n",
              " 'TEXT1: D01; TEXT2: performance; ANC1: absorbent properties',\n",
              " 'TEXT1: D01; TEXT2: physical properties; ANC1: absorbent properties',\n",
              " 'TEXT1: D01; TEXT2: physical resistance; ANC1: absorbent properties',\n",
              " 'TEXT1: D01; TEXT2: physiological properties; ANC1: absorbent properties',\n",
              " 'TEXT1: D01; TEXT2: plastic properties; ANC1: absorbent properties',\n",
              " 'TEXT1: D01; TEXT2: polymer; ANC1: absorbent properties',\n",
              " 'TEXT1: D01; TEXT2: properties; ANC1: absorbent properties',\n",
              " 'TEXT1: D01; TEXT2: samples; ANC1: absorbent properties',\n",
              " 'TEXT1: D01; TEXT2: soaking; ANC1: absorbent properties',\n",
              " 'TEXT1: D01; TEXT2: soaking properties; ANC1: absorbent properties',\n",
              " 'TEXT1: D01; TEXT2: sponge; ANC1: absorbent properties',\n",
              " 'TEXT1: D01; TEXT2: water; ANC1: absorbent properties',\n",
              " 'TEXT1: D01; TEXT2: water penetration capacity; ANC1: absorbent properties',\n",
              " 'TEXT1: D21; TEXT2: amount; ANC1: absorbent properties',\n",
              " 'TEXT1: D21; TEXT2: formation; ANC1: absorbent properties',\n",
              " 'TEXT1: D21; TEXT2: strength; ANC1: absorbent properties',\n",
              " 'TEXT1: C07; TEXT2: aggrecan core protein; ANC1: acan',\n",
              " 'TEXT1: C07; TEXT2: aggrecan core protein precursor; ANC1: acan',\n",
              " 'TEXT1: C07; TEXT2: cartilage extracellular matrix; ANC1: acan',\n",
              " 'TEXT1: C07; TEXT2: cartilage specific proteoglycan core protein; ANC1: acan',\n",
              " 'TEXT1: C07; TEXT2: chondroitin sulfate proteoglycan 1; ANC1: acan',\n",
              " 'TEXT1: C07; TEXT2: coding language; ANC1: acan',\n",
              " 'TEXT1: C07; TEXT2: coding languages; ANC1: acan',\n",
              " 'TEXT1: C07; TEXT2: coding programming; ANC1: acan',\n",
              " 'TEXT1: C07; TEXT2: core strength; ANC1: acan',\n",
              " 'TEXT1: C07; TEXT2: gene; ANC1: acan',\n",
              " 'TEXT1: C07; TEXT2: genes; ANC1: acan',\n",
              " 'TEXT1: C07; TEXT2: hyalectans; ANC1: acan',\n",
              " 'TEXT1: C07; TEXT2: large aggregating proteoglycan; ANC1: acan',\n",
              " 'TEXT1: C07; TEXT2: lecticans; ANC1: acan',\n",
              " 'TEXT1: C07; TEXT2: machine learning; ANC1: acan',\n",
              " 'TEXT1: C07; TEXT2: neural network; ANC1: acan',\n",
              " 'TEXT1: C07; TEXT2: precursor; ANC1: acan',\n",
              " 'TEXT1: C07; TEXT2: protein; ANC1: acan',\n",
              " 'TEXT1: C07; TEXT2: protein coding gene; ANC1: acan',\n",
              " 'TEXT1: C07; TEXT2: proteins; ANC1: acan',\n",
              " 'TEXT1: C07; TEXT2: proteoglycans; ANC1: acan',\n",
              " 'TEXT1: C07; TEXT2: sox; ANC1: acan',\n",
              " 'TEXT1: C07; TEXT2: tissue expression; ANC1: acan',\n",
              " 'TEXT1: A45; TEXT2: accept the establishment; ANC1: accept information',\n",
              " 'TEXT1: A45; TEXT2: accept this information; ANC1: accept information',\n",
              " 'TEXT1: A45; TEXT2: acceptance angle; ANC1: accept information',\n",
              " 'TEXT1: A45; TEXT2: accepting information from; ANC1: accept information',\n",
              " 'TEXT1: A45; TEXT2: approve information; ANC1: accept information',\n",
              " 'TEXT1: A45; TEXT2: authorization of information; ANC1: accept information',\n",
              " 'TEXT1: A45; TEXT2: behaviour information analysis; ANC1: accept information',\n",
              " 'TEXT1: A45; TEXT2: contain information; ANC1: accept information',\n",
              " 'TEXT1: A45; TEXT2: contain items; ANC1: accept information',\n",
              " 'TEXT1: A45; TEXT2: data accepted; ANC1: accept information',\n",
              " 'TEXT1: A45; TEXT2: data set; ANC1: accept information',\n",
              " 'TEXT1: A45; TEXT2: display; ANC1: accept information',\n",
              " 'TEXT1: A45; TEXT2: display a data; ANC1: accept information',\n",
              " 'TEXT1: A45; TEXT2: display a information; ANC1: accept information',\n",
              " 'TEXT1: A45; TEXT2: display an information; ANC1: accept information',\n",
              " 'TEXT1: A45; TEXT2: display data; ANC1: accept information',\n",
              " 'TEXT1: A45; TEXT2: display information; ANC1: accept information',\n",
              " 'TEXT1: A45; TEXT2: indicate a data; ANC1: accept information',\n",
              " 'TEXT1: A45; TEXT2: indicate data; ANC1: accept information',\n",
              " 'TEXT1: A45; TEXT2: indicate information; ANC1: accept information',\n",
              " 'TEXT1: A45; TEXT2: informal letter; ANC1: accept information',\n",
              " 'TEXT1: A45; TEXT2: information; ANC1: accept information',\n",
              " 'TEXT1: A45; TEXT2: information data; ANC1: accept information',\n",
              " 'TEXT1: A45; TEXT2: information processing apparatus; ANC1: accept information',\n",
              " 'TEXT1: A45; TEXT2: information storage; ANC1: accept information',\n",
              " 'TEXT1: A45; TEXT2: information value; ANC1: accept information',\n",
              " 'TEXT1: A45; TEXT2: price he or she accepts; ANC1: accept information',\n",
              " 'TEXT1: A45; TEXT2: receiving information; ANC1: accept information',\n",
              " 'TEXT1: A45; TEXT2: sanction information; ANC1: accept information',\n",
              " 'TEXT1: A45; TEXT2: third option to accept; ANC1: accept information',\n",
              " 'TEXT1: A45; TEXT2: transaction information; ANC1: accept information',\n",
              " 'TEXT1: A45; TEXT2: undertake information; ANC1: accept information',\n",
              " 'TEXT1: H04; TEXT2: achieve access; ANC1: achieve authentication',\n",
              " 'TEXT1: H04; TEXT2: achieve authentication accuracy; ANC1: achieve authentication',\n",
              " 'TEXT1: H04; TEXT2: achieve authorization; ANC1: achieve authentication',\n",
              " 'TEXT1: H04; TEXT2: achieve goal; ANC1: achieve authentication',\n",
              " 'TEXT1: H04; TEXT2: achieve goals; ANC1: achieve authentication',\n",
              " 'TEXT1: H04; TEXT2: achieve local authentication; ANC1: achieve authentication',\n",
              " 'TEXT1: H04; TEXT2: achieve mutual authentication; ANC1: achieve authentication',\n",
              " 'TEXT1: H04; TEXT2: achieve success; ANC1: achieve authentication',\n",
              " 'TEXT1: H04; TEXT2: achieve target; ANC1: achieve authentication',\n",
              " 'TEXT1: H04; TEXT2: achieve the authentication requirement; ANC1: achieve authentication',\n",
              " 'TEXT1: H04; TEXT2: achieve verification; ANC1: achieve authentication',\n",
              " 'TEXT1: H04; TEXT2: biometric; ANC1: achieve authentication',\n",
              " 'TEXT1: H04; TEXT2: denial of authorization; ANC1: achieve authentication',\n",
              " 'TEXT1: H04; TEXT2: denied access; ANC1: achieve authentication',\n",
              " 'TEXT1: H04; TEXT2: encryption; ANC1: achieve authentication',\n",
              " 'TEXT1: H04; TEXT2: failed authorization request; ANC1: achieve authentication',\n",
              " 'TEXT1: H04; TEXT2: login; ANC1: achieve authentication',\n",
              " 'TEXT1: H04; TEXT2: multi factor authentication; ANC1: achieve authentication',\n",
              " 'TEXT1: H04; TEXT2: signature; ANC1: achieve authentication',\n",
              " 'TEXT1: H04; TEXT2: target achieved; ANC1: achieve authentication',\n",
              " 'TEXT1: H04; TEXT2: vehicle verification; ANC1: achieve authentication',\n",
              " 'TEXT1: B01; TEXT2: absorbent cotton; ANC1: acid absorption',\n",
              " 'TEXT1: B01; TEXT2: absorption spectrum; ANC1: acid absorption',\n",
              " 'TEXT1: B01; TEXT2: acid; ANC1: acid absorption',\n",
              " 'TEXT1: B01; TEXT2: acid absorption column; ANC1: acid absorption',\n",
              " 'TEXT1: B01; TEXT2: acid absorption tower; ANC1: acid absorption',\n",
              " 'TEXT1: B01; TEXT2: acid digestion; ANC1: acid absorption',\n",
              " 'TEXT1: B01; TEXT2: acid distillation; ANC1: acid absorption',\n",
              " 'TEXT1: B01; TEXT2: acid recovery; ANC1: acid absorption',\n",
              " 'TEXT1: B01; TEXT2: acid stripping; ANC1: acid absorption',\n",
              " 'TEXT1: B01; TEXT2: acid wash; ANC1: acid absorption',\n",
              " 'TEXT1: B01; TEXT2: acid wash distillation; ANC1: acid absorption',\n",
              " 'TEXT1: B01; TEXT2: acid water distillation; ANC1: acid absorption',\n",
              " 'TEXT1: B01; TEXT2: acid water wash; ANC1: acid absorption',\n",
              " 'TEXT1: B01; TEXT2: acrylic acid absorption; ANC1: acid absorption',\n",
              " 'TEXT1: B01; TEXT2: amino acids; ANC1: acid absorption',\n",
              " 'TEXT1: B01; TEXT2: catalytic hydrogenation; ANC1: acid absorption',\n",
              " 'TEXT1: B01; TEXT2: catalytic oxidation; ANC1: acid absorption',\n",
              " 'TEXT1: B01; TEXT2: chemical analysis; ANC1: acid absorption',\n",
              " 'TEXT1: B01; TEXT2: chemical inhibition; ANC1: acid absorption',\n",
              " 'TEXT1: B01; TEXT2: h2so4 absorption; ANC1: acid absorption',\n",
              " 'TEXT1: B01; TEXT2: hydro catalytic hydrogenation; ANC1: acid absorption',\n",
              " 'TEXT1: B01; TEXT2: hydro catalytic oxidation; ANC1: acid absorption',\n",
              " 'TEXT1: B01; TEXT2: hydrochloric acid absorption; ANC1: acid absorption',\n",
              " 'TEXT1: B01; TEXT2: hydroformylation; ANC1: acid absorption',\n",
              " 'TEXT1: B01; TEXT2: hydrogenation; ANC1: acid absorption',\n",
              " 'TEXT1: B01; TEXT2: hydroxycarboxylicacid absorption; ANC1: acid absorption',\n",
              " 'TEXT1: B01; TEXT2: membrane catalytic hydrogenation; ANC1: acid absorption',\n",
              " 'TEXT1: B01; TEXT2: membrane catalytic oxidation; ANC1: acid absorption',\n",
              " 'TEXT1: B01; TEXT2: membrane hydrogenation; ANC1: acid absorption',\n",
              " 'TEXT1: B01; TEXT2: membrane oxidation; ANC1: acid absorption',\n",
              " 'TEXT1: B01; TEXT2: near infrared ray absorption; ANC1: acid absorption',\n",
              " 'TEXT1: B01; TEXT2: nitric acid absorption; ANC1: acid absorption',\n",
              " 'TEXT1: B01; TEXT2: oxidation; ANC1: acid absorption',\n",
              " 'TEXT1: B01; TEXT2: oxidative hydrogenation; ANC1: acid absorption',\n",
              " 'TEXT1: B01; TEXT2: oxide; ANC1: acid absorption',\n",
              " 'TEXT1: B01; TEXT2: oxide distillation; ANC1: acid absorption',\n",
              " 'TEXT1: B01; TEXT2: oxide recovery; ANC1: acid absorption',\n",
              " 'TEXT1: B01; TEXT2: oxide stripping; ANC1: acid absorption',\n",
              " 'TEXT1: B01; TEXT2: oxide wash; ANC1: acid absorption',\n",
              " 'TEXT1: B01; TEXT2: photon absorption; ANC1: acid absorption',\n",
              " 'TEXT1: B01; TEXT2: photosynthesis; ANC1: acid absorption',\n",
              " 'TEXT1: B01; TEXT2: phytic acid; ANC1: acid absorption',\n",
              " 'TEXT1: B01; TEXT2: rosmarinic acid; ANC1: acid absorption',\n",
              " 'TEXT1: B01; TEXT2: sulfuric acid; ANC1: acid absorption',\n",
              " 'TEXT1: B01; TEXT2: transdermal absorption; ANC1: acid absorption',\n",
              " 'TEXT1: B08; TEXT2: absorption of acid; ANC1: acid absorption',\n",
              " 'TEXT1: B08; TEXT2: absorption of carbohydrates; ANC1: acid absorption',\n",
              " 'TEXT1: B08; TEXT2: absorption tower; ANC1: acid absorption',\n",
              " 'TEXT1: B08; TEXT2: acid; ANC1: acid absorption',\n",
              " 'TEXT1: B08; TEXT2: acid absorption; ANC1: acid absorption',\n",
              " 'TEXT1: B08; TEXT2: acid adsorption; ANC1: acid absorption',\n",
              " 'TEXT1: B08; TEXT2: acid distillation; ANC1: acid absorption',\n",
              " 'TEXT1: B08; TEXT2: acid exchange; ANC1: acid absorption',\n",
              " 'TEXT1: B08; TEXT2: acid gas distillation; ANC1: acid absorption',\n",
              " 'TEXT1: B08; TEXT2: acid gas exchange; ANC1: acid absorption',\n",
              " 'TEXT1: B08; TEXT2: acid gas scrubbing; ANC1: acid absorption',\n",
              " 'TEXT1: B08; TEXT2: acid immersion; ANC1: acid absorption',\n",
              " 'TEXT1: B08; TEXT2: acid indigestion; ANC1: acid absorption',\n",
              " 'TEXT1: B08; TEXT2: acid oxide distillation; ANC1: acid absorption',\n",
              " 'TEXT1: B08; TEXT2: acid oxide scrubbing; ANC1: acid absorption',\n",
              " 'TEXT1: B08; TEXT2: acid purification; ANC1: acid absorption',\n",
              " 'TEXT1: B08; TEXT2: acid rain; ANC1: acid absorption',\n",
              " 'TEXT1: B08; TEXT2: acid reflux; ANC1: acid absorption',\n",
              " 'TEXT1: B08; TEXT2: acid scrubbing; ANC1: acid absorption',\n",
              " 'TEXT1: B08; TEXT2: acid water; ANC1: acid absorption',\n",
              " 'TEXT1: B08; TEXT2: acid water distillation; ANC1: acid absorption',\n",
              " 'TEXT1: B08; TEXT2: acid water exchange; ANC1: acid absorption',\n",
              " 'TEXT1: B08; TEXT2: acidic foods; ANC1: acid absorption',\n",
              " 'TEXT1: B08; TEXT2: acidic immersion; ANC1: acid absorption',\n",
              " 'TEXT1: B08; TEXT2: amino acid absorption; ANC1: acid absorption',\n",
              " 'TEXT1: B08; TEXT2: chemical absorption; ANC1: acid absorption',\n",
              " 'TEXT1: B08; TEXT2: chemically soaked; ANC1: acid absorption',\n",
              " 'TEXT1: B08; TEXT2: fertilizer absorption; ANC1: acid absorption',\n",
              " 'TEXT1: B08; TEXT2: hcl acid absorption; ANC1: acid absorption',\n",
              " 'TEXT1: B08; TEXT2: multi section connection pipe; ANC1: acid absorption',\n",
              " 'TEXT1: B08; TEXT2: oxide; ANC1: acid absorption',\n",
              " 'TEXT1: B08; TEXT2: oxide acid distillation; ANC1: acid absorption',\n",
              " 'TEXT1: B08; TEXT2: oxide acid exchange; ANC1: acid absorption',\n",
              " 'TEXT1: B08; TEXT2: oxide distillation; ANC1: acid absorption',\n",
              " 'TEXT1: B08; TEXT2: oxide exchange; ANC1: acid absorption',\n",
              " 'TEXT1: B08; TEXT2: oxide gas distillation; ANC1: acid absorption',\n",
              " 'TEXT1: B08; TEXT2: oxide gas exchange; ANC1: acid absorption',\n",
              " 'TEXT1: B08; TEXT2: oxide gas scrubbing; ANC1: acid absorption',\n",
              " 'TEXT1: B08; TEXT2: oxide purification; ANC1: acid absorption',\n",
              " 'TEXT1: B08; TEXT2: oxide scrubbing; ANC1: acid absorption',\n",
              " 'TEXT1: B08; TEXT2: oxide water; ANC1: acid absorption',\n",
              " 'TEXT1: B08; TEXT2: oxide water distillation; ANC1: acid absorption',\n",
              " 'TEXT1: B08; TEXT2: oxide water exchange; ANC1: acid absorption',\n",
              " 'TEXT1: B08; TEXT2: soil water absorption; ANC1: acid absorption',\n",
              " 'TEXT1: B08; TEXT2: spray washing bottle body; ANC1: acid absorption',\n",
              " 'TEXT1: B08; TEXT2: steel structural member cleaning maintenance device; ANC1: acid absorption',\n",
              " 'TEXT1: G04; TEXT2: acknowledgement; ANC1: ack',\n",
              " 'TEXT1: G04; TEXT2: communication protocol; ANC1: ack',\n",
              " 'TEXT1: G04; TEXT2: data; ANC1: ack',\n",
              " 'TEXT1: G04; TEXT2: data network; ANC1: ack',\n",
              " 'TEXT1: G04; TEXT2: data networks; ANC1: ack',\n",
              " 'TEXT1: G04; TEXT2: flad holder pole; ANC1: ack',\n",
              " 'TEXT1: G04; TEXT2: flag; ANC1: ack',\n",
              " 'TEXT1: G04; TEXT2: flag hoist; ANC1: ack',\n",
              " 'TEXT1: G04; TEXT2: frame; ANC1: ack',\n",
              " 'TEXT1: G04; TEXT2: header; ANC1: ack',\n",
              " 'TEXT1: G04; TEXT2: indications of cystoscopy; ANC1: ack',\n",
              " 'TEXT1: G04; TEXT2: indicative device; ANC1: ack',\n",
              " 'TEXT1: G04; TEXT2: indicative message; ANC1: ack',\n",
              " 'TEXT1: G04; TEXT2: indicator; ANC1: ack',\n",
              " 'TEXT1: G04; TEXT2: message; ANC1: ack',\n",
              " 'TEXT1: G04; TEXT2: message ringtone; ANC1: ack',\n",
              " 'TEXT1: G04; TEXT2: red signal; ANC1: ack',\n",
              " 'TEXT1: G04; TEXT2: signal; ANC1: ack',\n",
              " 'TEXT1: G04; TEXT2: telecommunication; ANC1: ack',\n",
              " 'TEXT1: G06; TEXT2: acknowledge; ANC1: ack',\n",
              " 'TEXT1: G06; TEXT2: address id; ANC1: ack',\n",
              " 'TEXT1: G06; TEXT2: bus acknowledge; ANC1: ack',\n",
              " 'TEXT1: G06; TEXT2: bus acknowledgement; ANC1: ack',\n",
              " 'TEXT1: G06; TEXT2: busy acknowledge; ANC1: ack',\n",
              " 'TEXT1: G06; TEXT2: busy path; ANC1: ack',\n",
              " 'TEXT1: G06; TEXT2: data; ANC1: ack',\n",
              " 'TEXT1: G06; TEXT2: flag pole; ANC1: ack',\n",
              " 'TEXT1: G06; TEXT2: frame flag; ANC1: ack',\n",
              " 'TEXT1: G06; TEXT2: header id; ANC1: ack',\n",
              " 'TEXT1: G06; TEXT2: liveness message; ANC1: ack',\n",
              " 'TEXT1: G06; TEXT2: negative acknowledgement; ANC1: ack',\n",
              " 'TEXT1: G06; TEXT2: network; ANC1: ack',\n",
              " 'TEXT1: G06; TEXT2: null data; ANC1: ack',\n",
              " 'TEXT1: G06; TEXT2: positive acknowledgement; ANC1: ack',\n",
              " 'TEXT1: G06; TEXT2: positive acknowledgement packet; ANC1: ack',\n",
              " 'TEXT1: G06; TEXT2: provide for tuning; ANC1: ack',\n",
              " 'TEXT1: G06; TEXT2: provide restoring force; ANC1: ack',\n",
              " 'TEXT1: G06; TEXT2: provided acknowledgement; ANC1: ack',\n",
              " 'TEXT1: G06; TEXT2: provider networks; ANC1: ack',\n",
              " 'TEXT1: G06; TEXT2: server message; ANC1: ack',\n",
              " 'TEXT1: G06; TEXT2: sms acknowledgement; ANC1: ack',\n",
              " 'TEXT1: G06; TEXT2: tcp acknowledgement; ANC1: ack',\n",
              " 'TEXT1: G06; TEXT2: window frame; ANC1: ack',\n",
              " 'TEXT1: H01; TEXT2: acoustic effect; ANC1: acoustooptic modulator',\n",
              " 'TEXT1: H01; TEXT2: acoustic modulator; ANC1: acoustooptic modulator',\n",
              " 'TEXT1: H01; TEXT2: acoustic optical modulator; ANC1: acoustooptic modulator',\n",
              " 'TEXT1: H01; TEXT2: acousto optic element; ANC1: acoustooptic modulator',\n",
              " 'TEXT1: H01; TEXT2: acousto optic modulating element; ANC1: acoustooptic modulator',\n",
              " 'TEXT1: H01; TEXT2: acousto optical element; ANC1: acoustooptic modulator',\n",
              " 'TEXT1: H01; TEXT2: acoustooptic; ANC1: acoustooptic modulator',\n",
              " 'TEXT1: H01; TEXT2: acoustooptic deflector; ANC1: acoustooptic modulator',\n",
              " 'TEXT1: H01; TEXT2: amplifier; ANC1: acoustooptic modulator',\n",
              " 'TEXT1: H01; TEXT2: analog signal; ANC1: acoustooptic modulator',\n",
              " 'TEXT1: H01; TEXT2: beam support; ANC1: acoustooptic modulator',\n",
              " 'TEXT1: H01; TEXT2: electrical drive signal; ANC1: acoustooptic modulator',\n",
              " 'TEXT1: H01; TEXT2: electrooptical; ANC1: acoustooptic modulator',\n",
              " 'TEXT1: H01; TEXT2: electrooptical effect; ANC1: acoustooptic modulator',\n",
              " 'TEXT1: H01; TEXT2: electrooptical modulator; ANC1: acoustooptic modulator',\n",
              " 'TEXT1: H01; TEXT2: isolator; ANC1: acoustooptic modulator',\n",
              " 'TEXT1: H01; TEXT2: laser beam; ANC1: acoustooptic modulator',\n",
              " 'TEXT1: H01; TEXT2: light wave; ANC1: acoustooptic modulator',\n",
              " 'TEXT1: H01; TEXT2: moderator reactor; ANC1: acoustooptic modulator',\n",
              " 'TEXT1: H01; TEXT2: modulator chemistry; ANC1: acoustooptic modulator',\n",
              " 'TEXT1: H01; TEXT2: modulator enzyme; ANC1: acoustooptic modulator',\n",
              " 'TEXT1: H01; TEXT2: modulator medicine; ANC1: acoustooptic modulator',\n",
              " 'TEXT1: H01; TEXT2: optic nerve; ANC1: acoustooptic modulator',\n",
              " 'TEXT1: H01; TEXT2: optical coupler; ANC1: acoustooptic modulator',\n",
              " 'TEXT1: H01; TEXT2: optical frequency shifter; ANC1: acoustooptic modulator',\n",
              " 'TEXT1: H01; TEXT2: optical modulator; ANC1: acoustooptic modulator',\n",
              " 'TEXT1: H01; TEXT2: optical splitter; ANC1: acoustooptic modulator',\n",
              " 'TEXT1: H01; TEXT2: optical splitting coupler; ANC1: acoustooptic modulator',\n",
              " 'TEXT1: H01; TEXT2: optical splitting splitter; ANC1: acoustooptic modulator',\n",
              " 'TEXT1: H01; TEXT2: output coupler; ANC1: acoustooptic modulator',\n",
              " 'TEXT1: H01; TEXT2: output modulator; ANC1: acoustooptic modulator',\n",
              " 'TEXT1: H01; TEXT2: piezoelectric; ANC1: acoustooptic modulator',\n",
              " 'TEXT1: H01; TEXT2: piezoelectric modulator; ANC1: acoustooptic modulator',\n",
              " 'TEXT1: H01; TEXT2: sound signal; ANC1: acoustooptic modulator',\n",
              " 'TEXT1: H01; TEXT2: sound waves; ANC1: acoustooptic modulator',\n",
              " 'TEXT1: D21; TEXT2: acid groups; ANC1: acrylate groups',\n",
              " 'TEXT1: D21; TEXT2: acid units; ANC1: acrylate groups',\n",
              " 'TEXT1: D21; TEXT2: acrylate; ANC1: acrylate groups',\n",
              " 'TEXT1: D21; TEXT2: acrylate functional groups; ANC1: acrylate groups',\n",
              " 'TEXT1: D21; TEXT2: acrylate ion; ANC1: acrylate groups',\n",
              " 'TEXT1: D21; TEXT2: acrylate monomers; ANC1: acrylate groups',\n",
              " 'TEXT1: D21; TEXT2: acrylate units; ANC1: acrylate groups',\n",
              " 'TEXT1: D21; TEXT2: acrylic acid; ANC1: acrylate groups',\n",
              " 'TEXT1: D21; TEXT2: aryl halide; ANC1: acrylate groups',\n",
              " 'TEXT1: D21; TEXT2: carbonyl carbon; ANC1: acrylate groups',\n",
              " 'TEXT1: D21; TEXT2: carboxylic acid groups; ANC1: acrylate groups',\n",
              " 'TEXT1: D21; TEXT2: coametic; ANC1: acrylate groups',\n",
              " 'TEXT1: D21; TEXT2: comonomer; ANC1: acrylate groups',\n",
              " 'TEXT1: D21; TEXT2: contained acrylate groups; ANC1: acrylate groups',\n",
              " 'TEXT1: D21; TEXT2: contained acrylate units; ANC1: acrylate groups',\n",
              " 'TEXT1: D21; TEXT2: contained functional groups; ANC1: acrylate groups',\n",
              " 'TEXT1: D21; TEXT2: contained functional units; ANC1: acrylate groups',\n",
              " 'TEXT1: D21; TEXT2: copolymerized acrylate groups; ANC1: acrylate groups',\n",
              " 'TEXT1: D21; TEXT2: copolymerized acrylate units; ANC1: acrylate groups',\n",
              " 'TEXT1: D21; TEXT2: copolymerized functional groups; ANC1: acrylate groups',\n",
              " 'TEXT1: D21; TEXT2: copolymerized functional units; ANC1: acrylate groups',\n",
              " 'TEXT1: D21; TEXT2: copolymers; ANC1: acrylate groups',\n",
              " 'TEXT1: D21; TEXT2: ester group; ANC1: acrylate groups',\n",
              " 'TEXT1: D21; TEXT2: functional acrylate; ANC1: acrylate groups',\n",
              " 'TEXT1: D21; TEXT2: functional groups; ANC1: acrylate groups',\n",
              " 'TEXT1: D21; TEXT2: group discussion; ANC1: acrylate groups',\n",
              " 'TEXT1: D21; TEXT2: group of students; ANC1: acrylate groups',\n",
              " 'TEXT1: D21; TEXT2: groups; ANC1: acrylate groups',\n",
              " 'TEXT1: D21; TEXT2: interpolymer invention; ANC1: acrylate groups',\n",
              " 'TEXT1: D21; TEXT2: maleic acid groups; ANC1: acrylate groups',\n",
              " 'TEXT1: D21; TEXT2: medical group; ANC1: acrylate groups',\n",
              " 'TEXT1: D21; TEXT2: methacrylate; ANC1: acrylate groups',\n",
              " 'TEXT1: D21; TEXT2: methacrylate groups; ANC1: acrylate groups',\n",
              " 'TEXT1: D21; TEXT2: methacrylate units; ANC1: acrylate groups',\n",
              " 'TEXT1: D21; TEXT2: methyl acrylate; ANC1: acrylate groups',\n",
              " 'TEXT1: D21; TEXT2: methyl methacrylate; ANC1: acrylate groups',\n",
              " 'TEXT1: D21; TEXT2: modified acrylates; ANC1: acrylate groups',\n",
              " 'TEXT1: D21; TEXT2: monomers; ANC1: acrylate groups',\n",
              " 'TEXT1: D21; TEXT2: nitro group; ANC1: acrylate groups',\n",
              " 'TEXT1: D21; TEXT2: paper; ANC1: acrylate groups',\n",
              " 'TEXT1: D21; TEXT2: pendant group; ANC1: acrylate groups',\n",
              " 'TEXT1: D21; TEXT2: polymers; ANC1: acrylate groups',\n",
              " 'TEXT1: D21; TEXT2: prop 2 enoates; ANC1: acrylate groups',\n",
              " 'TEXT1: D21; TEXT2: salts and esters; ANC1: acrylate groups',\n",
              " 'TEXT1: D21; TEXT2: sheet; ANC1: acrylate groups',\n",
              " 'TEXT1: D21; TEXT2: unsaturated groups; ANC1: acrylate groups',\n",
              " 'TEXT1: D21; TEXT2: unsaturated units; ANC1: acrylate groups',\n",
              " 'TEXT1: D21; TEXT2: vinyl group; ANC1: acrylate groups',\n",
              " 'TEXT1: A61; TEXT2: absence; ANC1: activating position',\n",
              " 'TEXT1: A61; TEXT2: activator; ANC1: activating position',\n",
              " 'TEXT1: A61; TEXT2: activator position; ANC1: activating position',\n",
              " 'TEXT1: A61; TEXT2: activator site; ANC1: activating position',\n",
              " 'TEXT1: A61; TEXT2: aperture; ANC1: activating position',\n",
              " 'TEXT1: A61; TEXT2: aperture position; ANC1: activating position',\n",
              " 'TEXT1: A61; TEXT2: aperture site; ANC1: activating position',\n",
              " 'TEXT1: A61; TEXT2: distal extended position; ANC1: activating position',\n",
              " 'TEXT1: A61; TEXT2: distal extended state; ANC1: activating position',\n",
              " 'TEXT1: A61; TEXT2: distal position; ANC1: activating position',\n",
              " 'TEXT1: A61; TEXT2: distal state; ANC1: activating position',\n",
              " 'TEXT1: A61; TEXT2: initial position; ANC1: activating position',\n",
              " 'TEXT1: A61; TEXT2: intermediate position; ANC1: activating position',\n",
              " 'TEXT1: A61; TEXT2: lancing; ANC1: activating position',\n",
              " 'TEXT1: A61; TEXT2: lancing configuration; ANC1: activating position',\n",
              " 'TEXT1: A61; TEXT2: lancing position; ANC1: activating position',\n",
              " 'TEXT1: A61; TEXT2: opening; ANC1: activating position',\n",
              " 'TEXT1: A61; TEXT2: opening position; ANC1: activating position',\n",
              " 'TEXT1: A61; TEXT2: proximal distal position; ANC1: activating position',\n",
              " 'TEXT1: A61; TEXT2: proximal extended position; ANC1: activating position',\n",
              " 'TEXT1: A61; TEXT2: proximal extended state; ANC1: activating position',\n",
              " 'TEXT1: A61; TEXT2: retracted position; ANC1: activating position',\n",
              " 'TEXT1: A61; TEXT2: retracted state; ANC1: activating position',\n",
              " 'TEXT1: A61; TEXT2: use configuration; ANC1: activating position',\n",
              " 'TEXT1: A61; TEXT2: use position; ANC1: activating position',\n",
              " 'TEXT1: B65; TEXT2: activated grid position; ANC1: activating position',\n",
              " 'TEXT1: B65; TEXT2: activated position; ANC1: activating position',\n",
              " 'TEXT1: B65; TEXT2: activating area; ANC1: activating position',\n",
              " 'TEXT1: B65; TEXT2: activating card; ANC1: activating position',\n",
              " 'TEXT1: B65; TEXT2: activating location; ANC1: activating position',\n",
              " 'TEXT1: B65; TEXT2: activating point; ANC1: activating position',\n",
              " 'TEXT1: B65; TEXT2: activating position; ANC1: activating position',\n",
              " 'TEXT1: B65; TEXT2: activating powder; ANC1: activating position',\n",
              " 'TEXT1: B65; TEXT2: activating spot; ANC1: activating position',\n",
              " 'TEXT1: B65; TEXT2: activation function in neural network; ANC1: activating position',\n",
              " 'TEXT1: B65; TEXT2: activation position; ANC1: activating position',\n",
              " 'TEXT1: B65; TEXT2: cell position; ANC1: activating position',\n",
              " 'TEXT1: B65; TEXT2: closed configuration; ANC1: activating position',\n",
              " 'TEXT1: B65; TEXT2: closed position; ANC1: activating position',\n",
              " 'TEXT1: B65; TEXT2: conveyor chain; ANC1: activating position',\n",
              " 'TEXT1: B65; TEXT2: extended position; ANC1: activating position',\n",
              " 'TEXT1: B65; TEXT2: heater tray; ANC1: activating position',\n",
              " 'TEXT1: B65; TEXT2: housing; ANC1: activating position',\n",
              " 'TEXT1: B65; TEXT2: knotter operating mechanism; ANC1: activating position',\n",
              " 'TEXT1: B65; TEXT2: open configuration; ANC1: activating position',\n",
              " 'TEXT1: B65; TEXT2: open point; ANC1: activating position',\n",
              " 'TEXT1: B65; TEXT2: open position; ANC1: activating position',\n",
              " 'TEXT1: B65; TEXT2: operating position; ANC1: activating position',\n",
              " 'TEXT1: B65; TEXT2: outer container; ANC1: activating position',\n",
              " 'TEXT1: B65; TEXT2: position of thyroid gland; ANC1: activating position',\n",
              " 'TEXT1: B65; TEXT2: producing a coil; ANC1: activating position',\n",
              " 'TEXT1: B65; TEXT2: protruding position; ANC1: activating position',\n",
              " 'TEXT1: B65; TEXT2: sealed package; ANC1: activating position',\n",
              " 'TEXT1: B65; TEXT2: spinal cord position; ANC1: activating position',\n",
              " 'TEXT1: G06; TEXT2: activated; ANC1: activating position',\n",
              " 'TEXT1: G06; TEXT2: activated position; ANC1: activating position',\n",
              " 'TEXT1: G06; TEXT2: activating; ANC1: activating position',\n",
              " 'TEXT1: G06; TEXT2: activating condition; ANC1: activating position',\n",
              " 'TEXT1: G06; TEXT2: activating configuration; ANC1: activating position',\n",
              " 'TEXT1: G06; TEXT2: activating positions; ANC1: activating position',\n",
              " 'TEXT1: G06; TEXT2: activation; ANC1: activating position',\n",
              " 'TEXT1: G06; TEXT2: activation condition; ANC1: activating position',\n",
              " 'TEXT1: G06; TEXT2: activation configuration; ANC1: activating position',\n",
              " 'TEXT1: G06; TEXT2: activation position; ANC1: activating position',\n",
              " 'TEXT1: G06; TEXT2: activation state; ANC1: activating position',\n",
              " 'TEXT1: G06; TEXT2: active material; ANC1: activating position',\n",
              " 'TEXT1: G06; TEXT2: active region; ANC1: activating position',\n",
              " 'TEXT1: G06; TEXT2: active transport; ANC1: activating position',\n",
              " 'TEXT1: G06; TEXT2: active working location; ANC1: activating position',\n",
              " 'TEXT1: G06; TEXT2: deactivating position; ANC1: activating position',\n",
              " 'TEXT1: G06; TEXT2: designated port; ANC1: activating position',\n",
              " 'TEXT1: G06; TEXT2: functional location; ANC1: activating position',\n",
              " 'TEXT1: G06; TEXT2: geoposition; ANC1: activating position',\n",
              " 'TEXT1: G06; TEXT2: initial operative position; ANC1: activating position',\n",
              " 'TEXT1: G06; TEXT2: initial runner; ANC1: activating position',\n",
              " 'TEXT1: G06; TEXT2: initial symptoms; ANC1: activating position',\n",
              " 'TEXT1: G06; TEXT2: location finder; ANC1: activating position',\n",
              " 'TEXT1: G06; TEXT2: nodes; ANC1: activating position',\n",
              " 'TEXT1: G06; TEXT2: operating positions; ANC1: activating position',\n",
              " 'TEXT1: G06; TEXT2: operative person; ANC1: activating position',\n",
              " 'TEXT1: G06; TEXT2: positions; ANC1: activating position',\n",
              " 'TEXT1: G06; TEXT2: protected link; ANC1: activating position',\n",
              " 'TEXT1: G06; TEXT2: routing topology; ANC1: activating position',\n",
              " 'TEXT1: G06; TEXT2: working position; ANC1: activating position',\n",
              " 'TEXT1: C07; TEXT2: acetyl chloride; ANC1: acylate with acids',\n",
              " 'TEXT1: C07; TEXT2: acid functionalized acylate; ANC1: acylate with acids',\n",
              " 'TEXT1: C07; TEXT2: acid with acyl introduction; ANC1: acylate with acids',\n",
              " 'TEXT1: C07; TEXT2: acidity; ANC1: acylate with acids',\n",
              " 'TEXT1: C07; TEXT2: acyl groups into acid; ANC1: acylate with acids',\n",
              " 'TEXT1: C07; TEXT2: acylate; ANC1: acylate with acids',\n",
              " 'TEXT1: C07; TEXT2: acylate with chloride; ANC1: acylate with acids',\n",
              " 'TEXT1: C07; TEXT2: acylating agent; ANC1: acylate with acids',\n",
              " 'TEXT1: C07; TEXT2: acylation with acid; ANC1: acylate with acids',\n",
              " 'TEXT1: C07; TEXT2: bouquet; ANC1: acylate with acids',\n",
              " 'TEXT1: C07; TEXT2: cellulose acylate films; ANC1: acylate with acids',\n",
              " 'TEXT1: C07; TEXT2: electrophile; ANC1: acylate with acids',\n",
              " 'TEXT1: C07; TEXT2: fatty acids; ANC1: acylate with acids',\n",
              " 'TEXT1: C07; TEXT2: gastric acidity; ANC1: acylate with acids',\n",
              " 'TEXT1: C07; TEXT2: introduction session; ANC1: acylate with acids',\n",
              " 'TEXT1: C07; TEXT2: metal catalysts; ANC1: acylate with acids',\n",
              " 'TEXT1: C07; TEXT2: modification; ANC1: acylate with acids',\n",
              " 'TEXT1: C07; TEXT2: produce cellulose acylate film; ANC1: acylate with acids',\n",
              " 'TEXT1: C07; TEXT2: self introduction; ANC1: acylate with acids',\n",
              " 'TEXT1: C07; TEXT2: ulcer; ANC1: acylate with acids',\n",
              " 'TEXT1: G16; TEXT2: adapt for training; ANC1: adapt for learning',\n",
              " 'TEXT1: G16; TEXT2: adaptation of polar bear; ANC1: adapt for learning',\n",
              " 'TEXT1: G16; TEXT2: adapted mind; ANC1: adapt for learning',\n",
              " 'TEXT1: G16; TEXT2: adapted vehicle; ANC1: adapt for learning',\n",
              " 'TEXT1: G16; TEXT2: adapter; ANC1: adapt for learning',\n",
              " 'TEXT1: G16; TEXT2: adaptive learning; ANC1: adapt for learning',\n",
              " 'TEXT1: G16; TEXT2: adaptive learning communication; ANC1: adapt for learning',\n",
              " 'TEXT1: G16; TEXT2: channel of communication; ANC1: adapt for learning',\n",
              " 'TEXT1: G16; TEXT2: charger; ANC1: adapt for learning',\n",
              " 'TEXT1: G16; TEXT2: communication channels; ANC1: adapt for learning',\n",
              " 'TEXT1: G16; TEXT2: configured learning; ANC1: adapt for learning',\n",
              " 'TEXT1: G16; TEXT2: constructive learning; ANC1: adapt for learning',\n",
              " 'TEXT1: G16; TEXT2: food adaptation; ANC1: adapt for learning',\n",
              " 'TEXT1: G16; TEXT2: language education; ANC1: adapt for learning',\n",
              " 'TEXT1: G16; TEXT2: language learning; ANC1: adapt for learning',\n",
              " 'TEXT1: G16; TEXT2: provided learning; ANC1: adapt for learning',\n",
              " 'TEXT1: G16; TEXT2: provided learnings; ANC1: adapt for learning',\n",
              " 'TEXT1: G16; TEXT2: speech communication; ANC1: adapt for learning',\n",
              " 'TEXT1: G16; TEXT2: training; ANC1: adapt for learning',\n",
              " 'TEXT1: G16; TEXT2: use for learning; ANC1: adapt for learning',\n",
              " 'TEXT1: G16; TEXT2: verbal communication; ANC1: adapt for learning',\n",
              " 'TEXT1: G01; TEXT2: adaptive; ANC1: adaptive linear',\n",
              " 'TEXT1: G01; TEXT2: adaptive behaviour; ANC1: adaptive linear',\n",
              " 'TEXT1: G01; TEXT2: adaptive equalizer; ANC1: adaptive linear',\n",
              " 'TEXT1: G01; TEXT2: adaptive immunity; ANC1: adaptive linear',\n",
              " 'TEXT1: G01; TEXT2: adaptive linear structured light; ANC1: adaptive linear',\n",
              " 'TEXT1: G01; TEXT2: adaptive modular guideway; ANC1: adaptive linear',\n",
              " 'TEXT1: G01; TEXT2: adaptive radiation; ANC1: adaptive linear',\n",
              " 'TEXT1: G01; TEXT2: adaptive signal; ANC1: adaptive linear',\n",
              " 'TEXT1: G01; TEXT2: adaptive skills; ANC1: adaptive linear',\n",
              " 'TEXT1: G01; TEXT2: adaptive structure; ANC1: adaptive linear',\n",
              " 'TEXT1: G01; TEXT2: adjustable linear; ANC1: adaptive linear',\n",
              " 'TEXT1: G01; TEXT2: array; ANC1: adaptive linear',\n",
              " 'TEXT1: G01; TEXT2: array signal; ANC1: adaptive linear',\n",
              " 'TEXT1: G01; TEXT2: artificial neural network; ANC1: adaptive linear',\n",
              " 'TEXT1: G01; TEXT2: fixed pattern; ANC1: adaptive linear',\n",
              " 'TEXT1: G01; TEXT2: flexible linear; ANC1: adaptive linear',\n",
              " 'TEXT1: G01; TEXT2: interpolation method; ANC1: adaptive linear',\n",
              " 'TEXT1: G01; TEXT2: linear adaptive; ANC1: adaptive linear',\n",
              " 'TEXT1: G01; TEXT2: linear call; ANC1: adaptive linear',\n",
              " 'TEXT1: G01; TEXT2: linear equation; ANC1: adaptive linear',\n",
              " 'TEXT1: G01; TEXT2: machine learning; ANC1: adaptive linear',\n",
              " 'TEXT1: G01; TEXT2: non linear adaptive; ANC1: adaptive linear',\n",
              " 'TEXT1: G01; TEXT2: self adaptive linear; ANC1: adaptive linear',\n",
              " 'TEXT1: G01; TEXT2: signal; ANC1: adaptive linear',\n",
              " 'TEXT1: G01; TEXT2: three dimensional measurement; ANC1: adaptive linear',\n",
              " 'TEXT1: G01; TEXT2: time invariant filter; ANC1: adaptive linear',\n",
              " 'TEXT1: H04; TEXT2: adapting; ANC1: adaptive linear',\n",
              " 'TEXT1: H04; TEXT2: adapting linear; ANC1: adaptive linear',\n",
              " 'TEXT1: H04; TEXT2: adaptive; ANC1: adaptive linear',\n",
              " 'TEXT1: H04; TEXT2: adaptive filter; ANC1: adaptive linear',\n",
              " 'TEXT1: H04; TEXT2: adaptive immunity; ANC1: adaptive linear',\n",
              " 'TEXT1: H04; TEXT2: adaptive linear combiner; ANC1: adaptive linear',\n",
              " 'TEXT1: H04; TEXT2: adaptive linear digital model; ANC1: adaptive linear',\n",
              " 'TEXT1: H04; TEXT2: adaptive linear equalization; ANC1: adaptive linear',\n",
              " 'TEXT1: H04; TEXT2: adaptive linear filter; ANC1: adaptive linear',\n",
              " 'TEXT1: H04; TEXT2: adaptive nature; ANC1: adaptive linear',\n",
              " 'TEXT1: H04; TEXT2: adaptive radiation; ANC1: adaptive linear',\n",
              " 'TEXT1: H04; TEXT2: automatic linear; ANC1: adaptive linear',\n",
              " 'TEXT1: H04; TEXT2: dynamic linear; ANC1: adaptive linear',\n",
              " 'TEXT1: H04; TEXT2: equalizer; ANC1: adaptive linear',\n",
              " 'TEXT1: H04; TEXT2: linear adaptive; ANC1: adaptive linear',\n",
              " 'TEXT1: H04; TEXT2: linear contrast enhancement; ANC1: adaptive linear',\n",
              " 'TEXT1: H04; TEXT2: linear graph; ANC1: adaptive linear',\n",
              " 'TEXT1: H04; TEXT2: linear model; ANC1: adaptive linear',\n",
              " 'TEXT1: H04; TEXT2: linear pair of angles; ANC1: adaptive linear',\n",
              " 'TEXT1: H04; TEXT2: linearly adaptive; ANC1: adaptive linear',\n",
              " 'TEXT1: H04; TEXT2: mp tc; ANC1: adaptive linear',\n",
              " 'TEXT1: H04; TEXT2: network; ANC1: adaptive linear',\n",
              " 'TEXT1: H04; TEXT2: non adaptive speckle filtering; ANC1: adaptive linear',\n",
              " 'TEXT1: H04; TEXT2: non linear model; ANC1: adaptive linear',\n",
              " 'TEXT1: H04; TEXT2: recursion estimator; ANC1: adaptive linear',\n",
              " 'TEXT1: A47; TEXT2: adhering mount; ANC1: adhesive mounting',\n",
              " 'TEXT1: A47; TEXT2: adhesive; ANC1: adhesive mounting',\n",
              " 'TEXT1: A47; TEXT2: adhesive attachment; ANC1: adhesive mounting',\n",
              " 'TEXT1: A47; TEXT2: adhesive bases; ANC1: adhesive mounting',\n",
              " 'TEXT1: A47; TEXT2: adhesive forces; ANC1: adhesive mounting',\n",
              " 'TEXT1: A47; TEXT2: adhesive layer; ANC1: adhesive mounting',\n",
              " 'TEXT1: A47; TEXT2: adhesive mount; ANC1: adhesive mounting',\n",
              " 'TEXT1: A47; TEXT2: bracket mount; ANC1: adhesive mounting',\n",
              " 'TEXT1: A47; TEXT2: cohesive mount; ANC1: adhesive mounting',\n",
              " 'TEXT1: A47; TEXT2: fixation tape; ANC1: adhesive mounting',\n",
              " 'TEXT1: A47; TEXT2: fixed mount; ANC1: adhesive mounting',\n",
              " 'TEXT1: A47; TEXT2: flange; ANC1: adhesive mounting',\n",
              " 'TEXT1: A47; TEXT2: flange comprising including; ANC1: adhesive mounting',\n",
              " 'TEXT1: A47; TEXT2: flange comprising mounting; ANC1: adhesive mounting',\n",
              " 'TEXT1: A47; TEXT2: flange including; ANC1: adhesive mounting',\n",
              " 'TEXT1: A47; TEXT2: flange mounting; ANC1: adhesive mounting',\n",
              " 'TEXT1: A47; TEXT2: glue mounting; ANC1: adhesive mounting',\n",
              " 'TEXT1: A47; TEXT2: lens mount; ANC1: adhesive mounting',\n",
              " 'TEXT1: A47; TEXT2: mountain range; ANC1: adhesive mounting',\n",
              " 'TEXT1: A47; TEXT2: mounting; ANC1: adhesive mounting',\n",
              " 'TEXT1: A47; TEXT2: mounting a mountain; ANC1: adhesive mounting',\n",
              " 'TEXT1: A47; TEXT2: mounting bracket; ANC1: adhesive mounting',\n",
              " 'TEXT1: A47; TEXT2: mounting comprising including; ANC1: adhesive mounting',\n",
              " 'TEXT1: A47; TEXT2: mounting flange including; ANC1: adhesive mounting',\n",
              " 'TEXT1: A47; TEXT2: mounting flange mounting; ANC1: adhesive mounting',\n",
              " 'TEXT1: A47; TEXT2: mounting glues; ANC1: adhesive mounting',\n",
              " 'TEXT1: A47; TEXT2: mounting needle; ANC1: adhesive mounting',\n",
              " 'TEXT1: A47; TEXT2: mounting of file system; ANC1: adhesive mounting',\n",
              " 'TEXT1: A47; TEXT2: mounting using adhesives; ANC1: adhesive mounting',\n",
              " 'TEXT1: A47; TEXT2: rapid drying; ANC1: adhesive mounting',\n",
              " 'TEXT1: A47; TEXT2: releasable mounting; ANC1: adhesive mounting',\n",
              " 'TEXT1: A47; TEXT2: removable adhesive mounting; ANC1: adhesive mounting',\n",
              " 'TEXT1: A47; TEXT2: screw mount; ANC1: adhesive mounting',\n",
              " 'TEXT1: A47; TEXT2: separate adhesive mounting; ANC1: adhesive mounting',\n",
              " 'TEXT1: A47; TEXT2: sticking mount; ANC1: adhesive mounting',\n",
              " 'TEXT1: A47; TEXT2: temporary mounting; ANC1: adhesive mounting',\n",
              " 'TEXT1: A41; TEXT2: adjacent angles; ANC1: adjacent laterally',\n",
              " 'TEXT1: A41; TEXT2: adjacent front; ANC1: adjacent laterally',\n",
              " 'TEXT1: A41; TEXT2: adjacent lateral surface; ANC1: adjacent laterally',\n",
              " 'TEXT1: A41; TEXT2: adjacent lateral surface area; ANC1: adjacent laterally',\n",
              " 'TEXT1: A41; TEXT2: adjacent sides; ANC1: adjacent laterally',\n",
              " 'TEXT1: A41; TEXT2: adjacent to mall; ANC1: adjacent laterally',\n",
              " 'TEXT1: A41; TEXT2: adjacent to office; ANC1: adjacent laterally',\n",
              " 'TEXT1: A41; TEXT2: adjacent to side; ANC1: adjacent laterally',\n",
              " 'TEXT1: A41; TEXT2: adjacent to station; ANC1: adjacent laterally',\n",
              " 'TEXT1: A41; TEXT2: area of the base; ANC1: adjacent laterally',\n",
              " 'TEXT1: A41; TEXT2: arranged laterally; ANC1: adjacent laterally',\n",
              " 'TEXT1: A41; TEXT2: corresponding inwardly; ANC1: adjacent laterally',\n",
              " 'TEXT1: A41; TEXT2: height; ANC1: adjacent laterally',\n",
              " 'TEXT1: A41; TEXT2: inwardly; ANC1: adjacent laterally',\n",
              " 'TEXT1: A41; TEXT2: lateral communication; ANC1: adjacent laterally',\n",
              " 'TEXT1: A41; TEXT2: lateral object; ANC1: adjacent laterally',\n",
              " 'TEXT1: A41; TEXT2: lateral speech; ANC1: adjacent laterally',\n",
              " 'TEXT1: A41; TEXT2: laterally; ANC1: adjacent laterally',\n",
              " 'TEXT1: A41; TEXT2: laterally adjacent; ANC1: adjacent laterally',\n",
              " 'TEXT1: A41; TEXT2: laterally on side; ANC1: adjacent laterally',\n",
              " 'TEXT1: A41; TEXT2: laterally positioned; ANC1: adjacent laterally',\n",
              " 'TEXT1: A41; TEXT2: longitudinally of laterally; ANC1: adjacent laterally',\n",
              " 'TEXT1: A41; TEXT2: longitudinally spaced laterally; ANC1: adjacent laterally',\n",
              " 'TEXT1: A41; TEXT2: opposite sides; ANC1: adjacent laterally',\n",
              " 'TEXT1: A41; TEXT2: radius; ANC1: adjacent laterally',\n",
              " 'TEXT1: A41; TEXT2: respective inwardly; ANC1: adjacent laterally',\n",
              " 'TEXT1: A41; TEXT2: respective outwardly; ANC1: adjacent laterally',\n",
              " 'TEXT1: A41; TEXT2: spaced lateral sides; ANC1: adjacent laterally',\n",
              " 'TEXT1: A41; TEXT2: spaced laterally; ANC1: adjacent laterally',\n",
              " 'TEXT1: A41; TEXT2: upwardly; ANC1: adjacent laterally',\n",
              " 'TEXT1: B23; TEXT2: abutting laterally; ANC1: adjacent laterally',\n",
              " 'TEXT1: B23; TEXT2: adjacent; ANC1: adjacent laterally',\n",
              " 'TEXT1: B23; TEXT2: adjacent buildings; ANC1: adjacent laterally',\n",
              " 'TEXT1: B23; TEXT2: adjacent channel interference; ANC1: adjacent laterally',\n",
              " 'TEXT1: B23; TEXT2: adjacent communications; ANC1: adjacent laterally',\n",
              " 'TEXT1: B23; TEXT2: adjacent laterally; ANC1: adjacent laterally',\n",
              " 'TEXT1: B23; TEXT2: adjacent nerves; ANC1: adjacent laterally',\n",
              " 'TEXT1: B23; TEXT2: adjacent sideways; ANC1: adjacent laterally',\n",
              " 'TEXT1: B23; TEXT2: adjacent system; ANC1: adjacent laterally',\n",
              " 'TEXT1: B23; TEXT2: adjoining laterally; ANC1: adjacent laterally',\n",
              " 'TEXT1: B23; TEXT2: awl tip portion; ANC1: adjacent laterally',\n",
              " 'TEXT1: B23; TEXT2: closely; ANC1: adjacent laterally',\n",
              " 'TEXT1: B23; TEXT2: contiguous laterally; ANC1: adjacent laterally',\n",
              " 'TEXT1: B23; TEXT2: cup units; ANC1: adjacent laterally',\n",
              " 'TEXT1: B23; TEXT2: immediately; ANC1: adjacent laterally',\n",
              " 'TEXT1: B23; TEXT2: insulated metal wire; ANC1: adjacent laterally',\n",
              " 'TEXT1: B23; TEXT2: lateral; ANC1: adjacent laterally',\n",
              " 'TEXT1: B23; TEXT2: lateral communication; ANC1: adjacent laterally',\n",
              " 'TEXT1: B23; TEXT2: laterally; ANC1: adjacent laterally',\n",
              " 'TEXT1: B23; TEXT2: laterally adjacent; ANC1: adjacent laterally',\n",
              " 'TEXT1: B23; TEXT2: laterally restrained beam; ANC1: adjacent laterally',\n",
              " 'TEXT1: B23; TEXT2: separated laterally; ANC1: adjacent laterally',\n",
              " 'TEXT1: B23; TEXT2: successive circumferentially; ANC1: adjacent laterally',\n",
              " 'TEXT1: B23; TEXT2: successive closely; ANC1: adjacent laterally',\n",
              " 'TEXT1: B23; TEXT2: successively; ANC1: adjacent laterally',\n",
              " 'TEXT1: B23; TEXT2: threading tool; ANC1: adjacent laterally',\n",
              " 'TEXT1: B23; TEXT2: welding coated stamped sections; ANC1: adjacent laterally',\n",
              " 'TEXT1: C23; TEXT2: adjust bike speed; ANC1: adjust gas flow',\n",
              " 'TEXT1: C23; TEXT2: adjust flow; ANC1: adjust gas flow',\n",
              " 'TEXT1: C23; TEXT2: adjust in bus; ANC1: adjust gas flow',\n",
              " 'TEXT1: C23; TEXT2: adjust space in home; ANC1: adjust gas flow',\n",
              " 'TEXT1: C23; TEXT2: adjustment cost; ANC1: adjust gas flow',\n",
              " 'TEXT1: C23; TEXT2: alter gas flow; ANC1: adjust gas flow',\n",
              " 'TEXT1: C23; TEXT2: alter the gas flow rate; ANC1: adjust gas flow',\n",
              " 'TEXT1: C23; TEXT2: block gas flow; ANC1: adjust gas flow',\n",
              " 'TEXT1: C23; TEXT2: controlled gas flow; ANC1: adjust gas flow',\n",
              " 'TEXT1: C23; TEXT2: external; ANC1: adjust gas flow',\n",
              " 'TEXT1: C23; TEXT2: flower; ANC1: adjust gas flow',\n",
              " 'TEXT1: C23; TEXT2: gas; ANC1: adjust gas flow',\n",
              " 'TEXT1: C23; TEXT2: gas supply; ANC1: adjust gas flow',\n",
              " 'TEXT1: C23; TEXT2: moderate the gas flow rate; ANC1: adjust gas flow',\n",
              " 'TEXT1: C23; TEXT2: modify gas flow; ANC1: adjust gas flow',\n",
              " 'TEXT1: C23; TEXT2: modify the gas flow rate; ANC1: adjust gas flow',\n",
              " 'TEXT1: C23; TEXT2: pressure; ANC1: adjust gas flow',\n",
              " 'TEXT1: C23; TEXT2: pressurized supply; ANC1: adjust gas flow',\n",
              " 'TEXT1: C23; TEXT2: psychology; ANC1: adjust gas flow',\n",
              " 'TEXT1: C23; TEXT2: regulate gas flow; ANC1: adjust gas flow',\n",
              " 'TEXT1: C23; TEXT2: regulate the gas flow rate; ANC1: adjust gas flow',\n",
              " 'TEXT1: C23; TEXT2: supply gas; ANC1: adjust gas flow',\n",
              " 'TEXT1: C23; TEXT2: supply pressure; ANC1: adjust gas flow',\n",
              " 'TEXT1: C23; TEXT2: supplying gas; ANC1: adjust gas flow',\n",
              " 'TEXT1: C23; TEXT2: supplying pressure; ANC1: adjust gas flow',\n",
              " 'TEXT1: C23; TEXT2: supplying processing gas; ANC1: adjust gas flow',\n",
              " 'TEXT1: C23; TEXT2: supplying processing substrate; ANC1: adjust gas flow',\n",
              " 'TEXT1: C23; TEXT2: supplying the gas; ANC1: adjust gas flow',\n",
              " 'TEXT1: C23; TEXT2: supplying the substrate; ANC1: adjust gas flow',\n",
              " 'TEXT1: C23; TEXT2: transfer; ANC1: adjust gas flow',\n",
              " 'TEXT1: C23; TEXT2: transferring processing gas; ANC1: adjust gas flow',\n",
              " 'TEXT1: C23; TEXT2: transferring processing substrate; ANC1: adjust gas flow',\n",
              " 'TEXT1: C23; TEXT2: transferring the gas; ANC1: adjust gas flow',\n",
              " 'TEXT1: C23; TEXT2: transferring the substrate; ANC1: adjust gas flow',\n",
              " 'TEXT1: C23; TEXT2: water pressure; ANC1: adjust gas flow',\n",
              " 'TEXT1: F23; TEXT2: adjust fan; ANC1: adjust gas flow',\n",
              " 'TEXT1: F23; TEXT2: adjust gas flow rate; ANC1: adjust gas flow',\n",
              " 'TEXT1: F23; TEXT2: adjustable table; ANC1: adjust gas flow',\n",
              " 'TEXT1: F23; TEXT2: adjusting fluid flow; ANC1: adjust gas flow',\n",
              " 'TEXT1: F23; TEXT2: altering gas flow; ANC1: adjust gas flow',\n",
              " 'TEXT1: F23; TEXT2: calibrating adjustment; ANC1: adjust gas flow',\n",
              " 'TEXT1: F23; TEXT2: changing gas flow; ANC1: adjust gas flow',\n",
              " 'TEXT1: F23; TEXT2: control graph; ANC1: adjust gas flow',\n",
              " 'TEXT1: F23; TEXT2: control instruments; ANC1: adjust gas flow',\n",
              " 'TEXT1: F23; TEXT2: control valve; ANC1: adjust gas flow',\n",
              " 'TEXT1: F23; TEXT2: controlling gas flow; ANC1: adjust gas flow',\n",
              " 'TEXT1: F23; TEXT2: flow chart; ANC1: adjust gas flow',\n",
              " 'TEXT1: F23; TEXT2: flow meter; ANC1: adjust gas flow',\n",
              " 'TEXT1: F23; TEXT2: flowing gas; ANC1: adjust gas flow',\n",
              " 'TEXT1: F23; TEXT2: gas flow; ANC1: adjust gas flow',\n",
              " 'TEXT1: F23; TEXT2: gas pressure adjustment; ANC1: adjust gas flow',\n",
              " 'TEXT1: F23; TEXT2: gas regulator; ANC1: adjust gas flow',\n",
              " 'TEXT1: F23; TEXT2: measuring unit; ANC1: adjust gas flow',\n",
              " 'TEXT1: F23; TEXT2: regulating unit; ANC1: adjust gas flow',\n",
              " 'TEXT1: F23; TEXT2: regulator; ANC1: adjust gas flow',\n",
              " 'TEXT1: B23; TEXT2: adjustable; ANC1: adjustable multiple',\n",
              " 'TEXT1: B23; TEXT2: adjustable multi; ANC1: adjustable multiple',\n",
              " 'TEXT1: B23; TEXT2: adjustable multiple; ANC1: adjustable multiple',\n",
              " 'TEXT1: B23; TEXT2: adjustable multiple angles; ANC1: adjustable multiple',\n",
              " 'TEXT1: B23; TEXT2: adjustable multiple blades; ANC1: adjustable multiple',\n",
              " 'TEXT1: B23; TEXT2: adjustable screen brightness; ANC1: adjustable multiple',\n",
              " 'TEXT1: B23; TEXT2: adjustable shunt regulator; ANC1: adjustable multiple',\n",
              " 'TEXT1: B23; TEXT2: adjustable wifi router; ANC1: adjustable multiple',\n",
              " 'TEXT1: B23; TEXT2: adjusted multiple; ANC1: adjustable multiple',\n",
              " 'TEXT1: B23; TEXT2: aim adjustable multiple; ANC1: adjustable multiple',\n",
              " 'TEXT1: B23; TEXT2: composite material workpiece; ANC1: adjustable multiple',\n",
              " 'TEXT1: B23; TEXT2: electronic conductor plates; ANC1: adjustable multiple',\n",
              " 'TEXT1: B23; TEXT2: fixed multiple blades; ANC1: adjustable multiple',\n",
              " 'TEXT1: B23; TEXT2: flexible multiple; ANC1: adjustable multiple',\n",
              " 'TEXT1: B23; TEXT2: grip; ANC1: adjustable multiple',\n",
              " 'TEXT1: B23; TEXT2: improved; ANC1: adjustable multiple',\n",
              " 'TEXT1: B23; TEXT2: improved boring; ANC1: adjustable multiple',\n",
              " 'TEXT1: B23; TEXT2: improved cutting; ANC1: adjustable multiple',\n",
              " 'TEXT1: B23; TEXT2: interchangeable; ANC1: adjustable multiple',\n",
              " 'TEXT1: B23; TEXT2: multiple adjustable; ANC1: adjustable multiple',\n",
              " 'TEXT1: B23; TEXT2: multiple adjustment; ANC1: adjustable multiple',\n",
              " 'TEXT1: B23; TEXT2: multiple alterable; ANC1: adjustable multiple',\n",
              " 'TEXT1: B23; TEXT2: multiple cancer; ANC1: adjustable multiple',\n",
              " 'TEXT1: B23; TEXT2: multiple disease of the brain spinal cord; ANC1: adjustable multiple',\n",
              " 'TEXT1: B23; TEXT2: multiple fixed; ANC1: adjustable multiple',\n",
              " 'TEXT1: B23; TEXT2: multiple lanes; ANC1: adjustable multiple',\n",
              " 'TEXT1: B23; TEXT2: multiple modifiable; ANC1: adjustable multiple',\n",
              " 'TEXT1: B23; TEXT2: sliding panel; ANC1: adjustable multiple',\n",
              " 'TEXT1: B23; TEXT2: various adjustments; ANC1: adjustable multiple',\n",
              " 'TEXT1: B25; TEXT2: adaptable multiple; ANC1: adjustable multiple',\n",
              " 'TEXT1: B25; TEXT2: adjustable; ANC1: adjustable multiple',\n",
              " 'TEXT1: B25; TEXT2: adjustable eye patch; ANC1: adjustable multiple',\n",
              " 'TEXT1: B25; TEXT2: adjustable multiple; ANC1: adjustable multiple',\n",
              " 'TEXT1: B25; TEXT2: adjustable screen brightness; ANC1: adjustable multiple',\n",
              " 'TEXT1: B25; TEXT2: changeable multiple; ANC1: adjustable multiple',\n",
              " 'TEXT1: B25; TEXT2: fixed multiple; ANC1: adjustable multiple',\n",
              " 'TEXT1: B25; TEXT2: flexible multiple; ANC1: adjustable multiple',\n",
              " 'TEXT1: B25; TEXT2: grip; ANC1: adjustable multiple',\n",
              " 'TEXT1: B25; TEXT2: hand machine tool; ANC1: adjustable multiple',\n",
              " 'TEXT1: B25; TEXT2: impact mechanism device; ANC1: adjustable multiple',\n",
              " 'TEXT1: B25; TEXT2: improved; ANC1: adjustable multiple',\n",
              " 'TEXT1: B25; TEXT2: multiple adjustment; ANC1: adjustable multiple',\n",
              " 'TEXT1: B25; TEXT2: multiple alterable; ANC1: adjustable multiple',\n",
              " 'TEXT1: B25; TEXT2: multiple cancer; ANC1: adjustable multiple',\n",
              " 'TEXT1: B25; TEXT2: multiple fixed; ANC1: adjustable multiple',\n",
              " 'TEXT1: B25; TEXT2: multiple lanes; ANC1: adjustable multiple',\n",
              " 'TEXT1: B25; TEXT2: multiple modifiable; ANC1: adjustable multiple',\n",
              " 'TEXT1: B25; TEXT2: multiple personality disorder; ANC1: adjustable multiple',\n",
              " 'TEXT1: B25; TEXT2: multiple sclerosis; ANC1: adjustable multiple',\n",
              " 'TEXT1: B25; TEXT2: sliding panel; ANC1: adjustable multiple',\n",
              " 'TEXT1: B25; TEXT2: various adjustments; ANC1: adjustable multiple',\n",
              " 'TEXT1: A63; TEXT2: adding cool effects; ANC1: aesthetic effects',\n",
              " 'TEXT1: A63; TEXT2: aesthetic objects; ANC1: aesthetic effects',\n",
              " 'TEXT1: A63; TEXT2: aesthetic values; ANC1: aesthetic effects',\n",
              " 'TEXT1: A63; TEXT2: aesthetically pleasing; ANC1: aesthetic effects',\n",
              " 'TEXT1: A63; TEXT2: animation software; ANC1: aesthetic effects',\n",
              " 'TEXT1: A63; TEXT2: artificial sources of aesthetic; ANC1: aesthetic effects',\n",
              " 'TEXT1: A63; TEXT2: beautiful design; ANC1: aesthetic effects',\n",
              " 'TEXT1: A63; TEXT2: beautiful effect; ANC1: aesthetic effects',\n",
              " 'TEXT1: A63; TEXT2: beautiful effects; ANC1: aesthetic effects',\n",
              " 'TEXT1: A63; TEXT2: beauty; ANC1: aesthetic effects',\n",
              " 'TEXT1: A63; TEXT2: branch of philosophy; ANC1: aesthetic effects',\n",
              " 'TEXT1: A63; TEXT2: colorful effect; ANC1: aesthetic effects',\n",
              " 'TEXT1: A63; TEXT2: colorful effects; ANC1: aesthetic effects',\n",
              " 'TEXT1: A63; TEXT2: colorful flash; ANC1: aesthetic effects',\n",
              " 'TEXT1: A63; TEXT2: culture and nature; ANC1: aesthetic effects',\n",
              " 'TEXT1: A63; TEXT2: effective communication; ANC1: aesthetic effects',\n",
              " 'TEXT1: A63; TEXT2: effects of air pollution; ANC1: aesthetic effects',\n",
              " 'TEXT1: A63; TEXT2: effects of smoking; ANC1: aesthetic effects',\n",
              " 'TEXT1: A63; TEXT2: effects of soil pollution; ANC1: aesthetic effects',\n",
              " 'TEXT1: A63; TEXT2: effects of water pollution; ANC1: aesthetic effects',\n",
              " 'TEXT1: A63; TEXT2: esthetics effects; ANC1: aesthetic effects',\n",
              " 'TEXT1: A63; TEXT2: interesting effects; ANC1: aesthetic effects',\n",
              " 'TEXT1: A63; TEXT2: interesting flash; ANC1: aesthetic effects',\n",
              " 'TEXT1: A63; TEXT2: ornamental; ANC1: aesthetic effects',\n",
              " 'TEXT1: A63; TEXT2: reflection on art; ANC1: aesthetic effects',\n",
              " 'TEXT1: A63; TEXT2: side effects; ANC1: aesthetic effects',\n",
              " 'TEXT1: A63; TEXT2: sound mixing; ANC1: aesthetic effects',\n",
              " 'TEXT1: A63; TEXT2: video effects; ANC1: aesthetic effects',\n",
              " 'TEXT1: A63; TEXT2: visual effects; ANC1: aesthetic effects',\n",
              " 'TEXT1: D03; TEXT2: aesthetic effect; ANC1: aesthetic effects',\n",
              " 'TEXT1: D03; TEXT2: anesthesia course; ANC1: aesthetic effects',\n",
              " 'TEXT1: D03; TEXT2: butterfly effect; ANC1: aesthetic effects',\n",
              " 'TEXT1: D03; TEXT2: color mixing; ANC1: aesthetic effects',\n",
              " 'TEXT1: D03; TEXT2: cosmetic effect; ANC1: aesthetic effects',\n",
              " 'TEXT1: D03; TEXT2: cosmetic effects; ANC1: aesthetic effects',\n",
              " 'TEXT1: D03; TEXT2: dyeability; ANC1: aesthetic effects',\n",
              " 'TEXT1: D03; TEXT2: effective rainfall; ANC1: aesthetic effects',\n",
              " 'TEXT1: D03; TEXT2: effects; ANC1: aesthetic effects',\n",
              " 'TEXT1: D03; TEXT2: fabric; ANC1: aesthetic effects',\n",
              " 'TEXT1: D03; TEXT2: fabric aesthetic effect; ANC1: aesthetic effects',\n",
              " 'TEXT1: D03; TEXT2: fiber brightness; ANC1: aesthetic effects',\n",
              " 'TEXT1: D03; TEXT2: fiber size; ANC1: aesthetic effects',\n",
              " 'TEXT1: D03; TEXT2: film like effects; ANC1: aesthetic effects',\n",
              " 'TEXT1: D03; TEXT2: force effect; ANC1: aesthetic effects',\n",
              " 'TEXT1: D03; TEXT2: good appearance; ANC1: aesthetic effects',\n",
              " 'TEXT1: D03; TEXT2: greenhouse effect; ANC1: aesthetic effects',\n",
              " 'TEXT1: D03; TEXT2: high quality; ANC1: aesthetic effects',\n",
              " 'TEXT1: D03; TEXT2: image filtering effects; ANC1: aesthetic effects',\n",
              " 'TEXT1: D03; TEXT2: manufacture; ANC1: aesthetic effects',\n",
              " 'TEXT1: D03; TEXT2: mass effect; ANC1: aesthetic effects',\n",
              " 'TEXT1: D03; TEXT2: properties; ANC1: aesthetic effects',\n",
              " 'TEXT1: D03; TEXT2: results; ANC1: aesthetic effects',\n",
              " 'TEXT1: D03; TEXT2: textile; ANC1: aesthetic effects',\n",
              " 'TEXT1: D03; TEXT2: video editing tools; ANC1: aesthetic effects',\n",
              " 'TEXT1: D03; TEXT2: visual effects; ANC1: aesthetic effects',\n",
              " 'TEXT1: B01; TEXT2: agitate by means; ANC1: agitate means',\n",
              " 'TEXT1: B01; TEXT2: agitated depression; ANC1: agitate means',\n",
              " 'TEXT1: B01; TEXT2: agitating means; ANC1: agitate means',\n",
              " 'TEXT1: B01; TEXT2: agitating technology; ANC1: agitate means',\n",
              " 'TEXT1: B01; TEXT2: apparatus; ANC1: agitate means',\n",
              " 'TEXT1: B01; TEXT2: bipolar disorder; ANC1: agitate means',\n",
              " 'TEXT1: B01; TEXT2: blending means; ANC1: agitate means',\n",
              " 'TEXT1: B01; TEXT2: churning means; ANC1: agitate means',\n",
              " 'TEXT1: B01; TEXT2: means end analysis; ANC1: agitate means',\n",
              " 'TEXT1: B01; TEXT2: mixing means; ANC1: agitate means',\n",
              " 'TEXT1: B01; TEXT2: mixing rod; ANC1: agitate means',\n",
              " 'TEXT1: B01; TEXT2: motion; ANC1: agitate means',\n",
              " 'TEXT1: B01; TEXT2: movement disorder; ANC1: agitate means',\n",
              " 'TEXT1: B01; TEXT2: muscle shivering; ANC1: agitate means',\n",
              " 'TEXT1: B01; TEXT2: parkinson; ANC1: agitate means',\n",
              " 'TEXT1: B01; TEXT2: rotating; ANC1: agitate means',\n",
              " 'TEXT1: B01; TEXT2: shaking; ANC1: agitate means',\n",
              " 'TEXT1: B01; TEXT2: shaking means; ANC1: agitate means',\n",
              " 'TEXT1: B01; TEXT2: stirring means; ANC1: agitate means',\n",
              " 'TEXT1: B01; TEXT2: suspend particles; ANC1: agitate means',\n",
              " 'TEXT1: B01; TEXT2: vibration means; ANC1: agitate means',\n",
              " 'TEXT1: B28; TEXT2: agitate by means; ANC1: agitate means',\n",
              " 'TEXT1: B28; TEXT2: agitate means; ANC1: agitate means',\n",
              " 'TEXT1: B28; TEXT2: agitated person; ANC1: agitate means',\n",
              " 'TEXT1: B28; TEXT2: agitating means; ANC1: agitate means',\n",
              " 'TEXT1: B28; TEXT2: agitation device; ANC1: agitate means',\n",
              " 'TEXT1: B28; TEXT2: blend means; ANC1: agitate means',\n",
              " 'TEXT1: B28; TEXT2: blending means; ANC1: agitate means',\n",
              " 'TEXT1: B28; TEXT2: blending system; ANC1: agitate means',\n",
              " 'TEXT1: B28; TEXT2: blood collection means; ANC1: agitate means',\n",
              " 'TEXT1: B28; TEXT2: blood pressure means; ANC1: agitate means',\n",
              " 'TEXT1: B28; TEXT2: brick products; ANC1: agitate means',\n",
              " 'TEXT1: B28; TEXT2: coloring paste; ANC1: agitate means',\n",
              " 'TEXT1: B28; TEXT2: fuel pumping means; ANC1: agitate means',\n",
              " 'TEXT1: B28; TEXT2: gas purification filter; ANC1: agitate means',\n",
              " 'TEXT1: B28; TEXT2: hexagonal brick forming device; ANC1: agitate means',\n",
              " 'TEXT1: B28; TEXT2: mixing means; ANC1: agitate means',\n",
              " 'TEXT1: B28; TEXT2: nervous agitation; ANC1: agitate means',\n",
              " 'TEXT1: B28; TEXT2: reading means; ANC1: agitate means',\n",
              " 'TEXT1: B28; TEXT2: stir means; ANC1: agitate means',\n",
              " 'TEXT1: B28; TEXT2: thin film solar cell; ANC1: agitate means',\n",
              " 'TEXT1: B28; TEXT2: vibrator; ANC1: agitate means',\n",
              " 'TEXT1: B63; TEXT2: air breathing fish; ANC1: air flow line',\n",
              " 'TEXT1: B63; TEXT2: air chamber; ANC1: air flow line',\n",
              " 'TEXT1: B63; TEXT2: air discharge path; ANC1: air flow line',\n",
              " 'TEXT1: B63; TEXT2: air discharge side; ANC1: air flow line',\n",
              " 'TEXT1: B63; TEXT2: air flow; ANC1: air flow line',\n",
              " 'TEXT1: B63; TEXT2: air flow conduit; ANC1: air flow line',\n",
              " 'TEXT1: B63; TEXT2: air flow line; ANC1: air flow line',\n",
              " 'TEXT1: B63; TEXT2: air flow lines; ANC1: air flow line',\n",
              " 'TEXT1: B63; TEXT2: air flow pipe; ANC1: air flow line',\n",
              " 'TEXT1: B63; TEXT2: air line; ANC1: air flow line',\n",
              " 'TEXT1: B63; TEXT2: air outlet line; ANC1: air flow line',\n",
              " 'TEXT1: B63; TEXT2: air passage; ANC1: air flow line',\n",
              " 'TEXT1: B63; TEXT2: air passage line; ANC1: air flow line',\n",
              " 'TEXT1: B63; TEXT2: air pollution; ANC1: air flow line',\n",
              " 'TEXT1: B63; TEXT2: air side; ANC1: air flow line',\n",
              " 'TEXT1: B63; TEXT2: air spring; ANC1: air flow line',\n",
              " 'TEXT1: B63; TEXT2: air supply conduit; ANC1: air flow line',\n",
              " 'TEXT1: B63; TEXT2: air supply line; ANC1: air flow line',\n",
              " 'TEXT1: B63; TEXT2: air supply lines; ANC1: air flow line',\n",
              " 'TEXT1: B63; TEXT2: air supply path; ANC1: air flow line',\n",
              " 'TEXT1: B63; TEXT2: air supply side; ANC1: air flow line',\n",
              " 'TEXT1: B63; TEXT2: blood flow through the heart; ANC1: air flow line',\n",
              " 'TEXT1: B63; TEXT2: boat stabilizer; ANC1: air flow line',\n",
              " 'TEXT1: B63; TEXT2: flow; ANC1: air flow line',\n",
              " 'TEXT1: B63; TEXT2: flow line; ANC1: air flow line',\n",
              " 'TEXT1: B63; TEXT2: flow lines; ANC1: air flow line',\n",
              " 'TEXT1: B63; TEXT2: flow supply line; ANC1: air flow line',\n",
              " 'TEXT1: B63; TEXT2: flowchart; ANC1: air flow line',\n",
              " 'TEXT1: B63; TEXT2: fluid flow line; ANC1: air flow line',\n",
              " 'TEXT1: B63; TEXT2: gas discharge path; ANC1: air flow line',\n",
              " 'TEXT1: B63; TEXT2: gas discharge side; ANC1: air flow line',\n",
              " 'TEXT1: B63; TEXT2: gas flow line; ANC1: air flow line',\n",
              " 'TEXT1: B63; TEXT2: gas passage; ANC1: air flow line',\n",
              " 'TEXT1: B63; TEXT2: gas side; ANC1: air flow line',\n",
              " 'TEXT1: B63; TEXT2: gas spring; ANC1: air flow line',\n",
              " 'TEXT1: B63; TEXT2: gas supply path; ANC1: air flow line',\n",
              " 'TEXT1: B63; TEXT2: gas supply side; ANC1: air flow line',\n",
              " 'TEXT1: B63; TEXT2: lifeboat; ANC1: air flow line',\n",
              " 'TEXT1: B63; TEXT2: line spectrum; ANC1: air flow line',\n",
              " 'TEXT1: B63; TEXT2: numerical lifting line; ANC1: air flow line',\n",
              " 'TEXT1: B63; TEXT2: passage line system; ANC1: air flow line',\n",
              " 'TEXT1: B63; TEXT2: pneumatic flow line; ANC1: air flow line',\n",
              " 'TEXT1: B63; TEXT2: shallow draft floating vessel; ANC1: air flow line',\n",
              " 'TEXT1: B63; TEXT2: supply unit; ANC1: air flow line',\n",
              " 'TEXT1: B63; TEXT2: three controllable hydrofoil displacement boat; ANC1: air flow line',\n",
              " ...]"
            ]
          },
          "metadata": {},
          "execution_count": 19
        }
      ]
    },
    {
      "cell_type": "markdown",
      "source": [
        "Okay now we have Dataset, we need to choose a model. In this chapter, Jeremy chooses microsoft/deberta-v3-small. \n",
        "\n",
        "I was mainly curious about how to choose a model. And for me, the way I think it will work is checking the available models on HuggingFace. The list of models is available on Transformers documentation. ([link](https://huggingface.co/docs/transformers/v4.28.1/en/model_doc/deberta#overview)). \n",
        "\n",
        "How to find the full name is just using the name and search it and it will pop up. I think if the model is poular enough, i think there wil be a link (ALl model pages) that I can check out. I believe it is the same as the search results.\n",
        "\n",
        "![image.png](data:image/png;base64,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)"
      ],
      "metadata": {
        "id": "1PLLS13TNu8t"
      }
    },
    {
      "cell_type": "code",
      "source": [
        "model_nm = 'microsoft/deberta-v3-small'"
      ],
      "metadata": {
        "id": "kRd_FDY-SCVw"
      },
      "execution_count": null,
      "outputs": []
    },
    {
      "cell_type": "markdown",
      "source": [
        "Aight remember why we chose the model? It is because we want to token the input. But how do we know the right way to tokenize the input for microsoft/deberta-v3-small? \n",
        "\n",
        "This is where HuggingFace Transformers' library AutoTkoenizer class is useful. It is a class from Transformers library that provides a convenient way to automatically load the appropriate tokenizer for a given pre-trained model. "
      ],
      "metadata": {
        "id": "wZf-085cUWmq"
      }
    },
    {
      "cell_type": "code",
      "source": [
        "model_nm2 = 'microsoft/deberta-v3-large' # experiment"
      ],
      "metadata": {
        "id": "DjUcJbGeJZMG"
      },
      "execution_count": null,
      "outputs": []
    },
    {
      "cell_type": "code",
      "source": [
        "!pip install transformers"
      ],
      "metadata": {
        "colab": {
          "base_uri": "https://localhost:8080/"
        },
        "id": "7zCQKVLoVu54",
        "outputId": "d4a55fda-823d-49d8-efe8-4cd464fb7a6c"
      },
      "execution_count": null,
      "outputs": [
        {
          "output_type": "stream",
          "name": "stdout",
          "text": [
            "Looking in indexes: https://pypi.org/simple, https://us-python.pkg.dev/colab-wheels/public/simple/\n",
            "Collecting transformers\n",
            "  Downloading transformers-4.28.1-py3-none-any.whl (7.0 MB)\n",
            "\u001b[2K     \u001b[90m━━━━━━━━━━━━━━━━━━━━━━━━━━━━━━━━━━━━━━━━\u001b[0m \u001b[32m7.0/7.0 MB\u001b[0m \u001b[31m43.1 MB/s\u001b[0m eta \u001b[36m0:00:00\u001b[0m\n",
            "\u001b[?25hRequirement already satisfied: pyyaml>=5.1 in /usr/local/lib/python3.10/dist-packages (from transformers) (6.0)\n",
            "Collecting tokenizers!=0.11.3,<0.14,>=0.11.1\n",
            "  Downloading tokenizers-0.13.3-cp310-cp310-manylinux_2_17_x86_64.manylinux2014_x86_64.whl (7.8 MB)\n",
            "\u001b[2K     \u001b[90m━━━━━━━━━━━━━━━━━━━━━━━━━━━━━━━━━━━━━━━━\u001b[0m \u001b[32m7.8/7.8 MB\u001b[0m \u001b[31m107.0 MB/s\u001b[0m eta \u001b[36m0:00:00\u001b[0m\n",
            "\u001b[?25hRequirement already satisfied: numpy>=1.17 in /usr/local/lib/python3.10/dist-packages (from transformers) (1.22.4)\n",
            "Requirement already satisfied: filelock in /usr/local/lib/python3.10/dist-packages (from transformers) (3.12.0)\n",
            "Requirement already satisfied: packaging>=20.0 in /usr/local/lib/python3.10/dist-packages (from transformers) (23.1)\n",
            "Requirement already satisfied: regex!=2019.12.17 in /usr/local/lib/python3.10/dist-packages (from transformers) (2022.10.31)\n",
            "Requirement already satisfied: tqdm>=4.27 in /usr/local/lib/python3.10/dist-packages (from transformers) (4.65.0)\n",
            "Requirement already satisfied: huggingface-hub<1.0,>=0.11.0 in /usr/local/lib/python3.10/dist-packages (from transformers) (0.14.1)\n",
            "Requirement already satisfied: requests in /usr/local/lib/python3.10/dist-packages (from transformers) (2.27.1)\n",
            "Requirement already satisfied: typing-extensions>=3.7.4.3 in /usr/local/lib/python3.10/dist-packages (from huggingface-hub<1.0,>=0.11.0->transformers) (4.5.0)\n",
            "Requirement already satisfied: fsspec in /usr/local/lib/python3.10/dist-packages (from huggingface-hub<1.0,>=0.11.0->transformers) (2023.4.0)\n",
            "Requirement already satisfied: certifi>=2017.4.17 in /usr/local/lib/python3.10/dist-packages (from requests->transformers) (2022.12.7)\n",
            "Requirement already satisfied: urllib3<1.27,>=1.21.1 in /usr/local/lib/python3.10/dist-packages (from requests->transformers) (1.26.15)\n",
            "Requirement already satisfied: charset-normalizer~=2.0.0 in /usr/local/lib/python3.10/dist-packages (from requests->transformers) (2.0.12)\n",
            "Requirement already satisfied: idna<4,>=2.5 in /usr/local/lib/python3.10/dist-packages (from requests->transformers) (3.4)\n",
            "Installing collected packages: tokenizers, transformers\n",
            "Successfully installed tokenizers-0.13.3 transformers-4.28.1\n"
          ]
        }
      ]
    },
    {
      "cell_type": "code",
      "source": [
        "!pip install sentencepiece #https://github.com/huggingface/transformers/issues/9750 & restart the runtime"
      ],
      "metadata": {
        "colab": {
          "base_uri": "https://localhost:8080/"
        },
        "id": "vf8unM-wWSWD",
        "outputId": "653a5ef2-844f-4591-a23e-f23ad1020c4f"
      },
      "execution_count": null,
      "outputs": [
        {
          "output_type": "stream",
          "name": "stdout",
          "text": [
            "Looking in indexes: https://pypi.org/simple, https://us-python.pkg.dev/colab-wheels/public/simple/\n",
            "Collecting sentencepiece\n",
            "  Downloading sentencepiece-0.1.99-cp310-cp310-manylinux_2_17_x86_64.manylinux2014_x86_64.whl (1.3 MB)\n",
            "\u001b[2K     \u001b[90m━━━━━━━━━━━━━━━━━━━━━━━━━━━━━━━━━━━━━━━━\u001b[0m \u001b[32m1.3/1.3 MB\u001b[0m \u001b[31m14.3 MB/s\u001b[0m eta \u001b[36m0:00:00\u001b[0m\n",
            "\u001b[?25hInstalling collected packages: sentencepiece\n",
            "Successfully installed sentencepiece-0.1.99\n"
          ]
        }
      ]
    },
    {
      "cell_type": "code",
      "source": [
        "from transformers import AutoTokenizer\n",
        "tokz = AutoTokenizer.from_pretrained(model_nm)"
      ],
      "metadata": {
        "colab": {
          "base_uri": "https://localhost:8080/",
          "height": 258,
          "referenced_widgets": [
            "11f89dd0aa2f4b75bb8335676c63d610",
            "3d368b6daee54471b24011c488a24376",
            "d70bafefb091430987bc22bfba7eaf53",
            "b0051d94159c499ab7c2534d33285797",
            "3bd45bd81f794874ae17c9960cd90194",
            "50501ef91e3345debb148bc374de3411",
            "f9bccaf0f9a94f1eb1dbcb29c1db3348",
            "c30b7e7a7ca6495d9f8f95616c80dbd4",
            "ba32919546604cd1a7d0e93aa533ef9f",
            "35898d00fcd940ff94e30a4b3aea4f19",
            "ba93678cc6d54ee2926712cd4afdf0c7",
            "3301f69803d541b0a64a87318ac3e543",
            "9856fc853ca9479c9d0278aea979064b",
            "3b2d854c0c0448ed90c3adeec7abf4bc",
            "043bd471688c44c1aa15b3dcca92f0f7",
            "972b545fafdc4d95aa9f8d18ac84f9e3",
            "2ace16c7b64546399a9ee455f4830e5b",
            "a88ea5cb3725422a84d1855a02343390",
            "6cf5a2d27cee4e6792f564664005ea51",
            "c40d384a47f448709fcda8e9a3f2c6a5",
            "4d46635738ec40498aa80839b8a5f90a",
            "ccae21cb64f24b01b2b6f5445f88a8da",
            "412522ba367c47fc917bb7ff3eec22ff",
            "37a0eebaf9054550a1854e703c6cbe6d",
            "19d8c36e37d7401cb067e09dbb57eebe",
            "a99a61a3f13242f5ac5b41faf3fb83c6",
            "473bd798988e4302ba16263795b744ce",
            "40896c2ce33e43f3ae0ccac969141a85",
            "383cb9341bdc4750942ea88a81776827",
            "72f2becc1da94bd29d79b1d30340b607",
            "047ef66c7573471d85593d379cdc6597",
            "d4250ee35e3f477bb92a0f866f918766",
            "fcd7b32a14ca4506baf121feee3e1b66"
          ]
        },
        "id": "R10xvJbiVJJ0",
        "outputId": "6998a764-726c-43eb-e14f-87afb6a5cb48"
      },
      "execution_count": null,
      "outputs": [
        {
          "output_type": "display_data",
          "data": {
            "text/plain": [
              "Downloading (…)okenizer_config.json:   0%|          | 0.00/52.0 [00:00<?, ?B/s]"
            ],
            "application/vnd.jupyter.widget-view+json": {
              "version_major": 2,
              "version_minor": 0,
              "model_id": "11f89dd0aa2f4b75bb8335676c63d610"
            }
          },
          "metadata": {}
        },
        {
          "output_type": "display_data",
          "data": {
            "text/plain": [
              "Downloading (…)lve/main/config.json:   0%|          | 0.00/578 [00:00<?, ?B/s]"
            ],
            "application/vnd.jupyter.widget-view+json": {
              "version_major": 2,
              "version_minor": 0,
              "model_id": "3301f69803d541b0a64a87318ac3e543"
            }
          },
          "metadata": {}
        },
        {
          "output_type": "display_data",
          "data": {
            "text/plain": [
              "Downloading spm.model:   0%|          | 0.00/2.46M [00:00<?, ?B/s]"
            ],
            "application/vnd.jupyter.widget-view+json": {
              "version_major": 2,
              "version_minor": 0,
              "model_id": "412522ba367c47fc917bb7ff3eec22ff"
            }
          },
          "metadata": {}
        },
        {
          "output_type": "stream",
          "name": "stderr",
          "text": [
            "Special tokens have been added in the vocabulary, make sure the associated word embeddings are fine-tuned or trained.\n",
            "/usr/local/lib/python3.10/dist-packages/transformers/convert_slow_tokenizer.py:454: UserWarning: The sentencepiece tokenizer that you are converting to a fast tokenizer uses the byte fallback option which is not implemented in the fast tokenizers. In practice this means that the fast version of the tokenizer can produce unknown tokens whereas the sentencepiece version would have converted these unknown tokens into a sequence of byte tokens matching the original piece of text.\n",
            "  warnings.warn(\n",
            "Special tokens have been added in the vocabulary, make sure the associated word embeddings are fine-tuned or trained.\n"
          ]
        }
      ]
    },
    {
      "cell_type": "code",
      "source": [
        "tokz = AutoTokenizer.from_pretrained(model_nm2)"
      ],
      "metadata": {
        "colab": {
          "base_uri": "https://localhost:8080/",
          "height": 258,
          "referenced_widgets": [
            "3d56743a122f4ddab82bcb6cda8f4c45",
            "ffe9a15d03c74588bad0bbe04bb85935",
            "f980d028d48c4f7199a9cd4651a1d286",
            "b1c3845debec46328ca435f29a8da411",
            "77b85d7da087410999457fe06b622c49",
            "98056b387b824fa8835b81c8cb6e1bc8",
            "73e25d4c34c6402aa2640e89f1a623a2",
            "72d41d03f20344d79ea690b5e04b0626",
            "a421b2f090c9452f93c61de10107585b",
            "4e62b9f192b2460b9f9ca3d983ca3f06",
            "e0cb584d11ca4c21ae5ea6a1c05d8e9b",
            "12d4060445854891a5103cbc2fa1cafb",
            "73e50d7c1f3e44309a511f71d69dcd04",
            "acd47a60531c4446802b5ebd6943c497",
            "e98b95c24ced4ec6b9aadb43bbd7e382",
            "d91cd080dac4497dbe8aec6709bc54bc",
            "b68de151d248426eba5375b7ecee5cee",
            "c977e6978ec24cae9acf227f76595836",
            "50330355561940b9a25be8b51dc8f2f7",
            "8a9a99db28cd47d1a3fba7b2fab54a87",
            "10a49287ed6d49ba9b48d427dcb8ec5b",
            "3df4f2dccc1e4c0daeecb60a08f175d1",
            "ec8f4c5ba7304accb189fba376b7aa28",
            "9177bb6ea6a04a7b8641b2c7f2d34db5",
            "30eba602212b4f8e818005f741ae2116",
            "385aae6b1a07440893afd7ae239a94c1",
            "32120dbe0d6c400ea47573e4a712996c",
            "c7aeb65717ce48398f5c3684110c78ae",
            "2af5f357a6254afaa1b89cde599009da",
            "a68f2bc107c04c408be2dc4b27c84111",
            "a0fe019da86d429ba7d3e2b6a78da9b3",
            "336b522784744c449b8afcc8efbccac2",
            "be9ad92476604c00922a64ded0297f12"
          ]
        },
        "id": "6GcdaSWIJcqY",
        "outputId": "82c01cb2-2f04-409c-a72a-4a2b32f48232"
      },
      "execution_count": null,
      "outputs": [
        {
          "output_type": "display_data",
          "data": {
            "text/plain": [
              "Downloading (…)okenizer_config.json:   0%|          | 0.00/52.0 [00:00<?, ?B/s]"
            ],
            "application/vnd.jupyter.widget-view+json": {
              "version_major": 2,
              "version_minor": 0,
              "model_id": "3d56743a122f4ddab82bcb6cda8f4c45"
            }
          },
          "metadata": {}
        },
        {
          "output_type": "display_data",
          "data": {
            "text/plain": [
              "Downloading (…)lve/main/config.json:   0%|          | 0.00/580 [00:00<?, ?B/s]"
            ],
            "application/vnd.jupyter.widget-view+json": {
              "version_major": 2,
              "version_minor": 0,
              "model_id": "12d4060445854891a5103cbc2fa1cafb"
            }
          },
          "metadata": {}
        },
        {
          "output_type": "display_data",
          "data": {
            "text/plain": [
              "Downloading spm.model:   0%|          | 0.00/2.46M [00:00<?, ?B/s]"
            ],
            "application/vnd.jupyter.widget-view+json": {
              "version_major": 2,
              "version_minor": 0,
              "model_id": "ec8f4c5ba7304accb189fba376b7aa28"
            }
          },
          "metadata": {}
        },
        {
          "output_type": "stream",
          "name": "stderr",
          "text": [
            "Special tokens have been added in the vocabulary, make sure the associated word embeddings are fine-tuned or trained.\n",
            "/usr/local/lib/python3.10/dist-packages/transformers/convert_slow_tokenizer.py:454: UserWarning: The sentencepiece tokenizer that you are converting to a fast tokenizer uses the byte fallback option which is not implemented in the fast tokenizers. In practice this means that the fast version of the tokenizer can produce unknown tokens whereas the sentencepiece version would have converted these unknown tokens into a sequence of byte tokens matching the original piece of text.\n",
            "  warnings.warn(\n",
            "Special tokens have been added in the vocabulary, make sure the associated word embeddings are fine-tuned or trained.\n"
          ]
        }
      ]
    },
    {
      "cell_type": "code",
      "source": [
        "tokz #name_or_path='microsoft/deberta-v3-small'"
      ],
      "metadata": {
        "colab": {
          "base_uri": "https://localhost:8080/"
        },
        "id": "B82HkFchVUEr",
        "outputId": "86216159-3656-41cd-a296-4a5969ef39e8"
      },
      "execution_count": null,
      "outputs": [
        {
          "output_type": "execute_result",
          "data": {
            "text/plain": [
              "DebertaV2TokenizerFast(name_or_path='microsoft/deberta-v3-small', vocab_size=128000, model_max_length=1000000000000000019884624838656, is_fast=True, padding_side='right', truncation_side='right', special_tokens={'bos_token': '[CLS]', 'eos_token': '[SEP]', 'unk_token': '[UNK]', 'sep_token': '[SEP]', 'pad_token': '[PAD]', 'cls_token': '[CLS]', 'mask_token': '[MASK]'}, clean_up_tokenization_spaces=True)"
            ]
          },
          "metadata": {},
          "execution_count": 24
        }
      ]
    },
    {
      "cell_type": "code",
      "source": [
        "tokz #microsoft/deberta-v3-large"
      ],
      "metadata": {
        "colab": {
          "base_uri": "https://localhost:8080/"
        },
        "id": "wss4835RJpBZ",
        "outputId": "6fef6e82-8686-4f98-e0cf-27125511cdc7"
      },
      "execution_count": null,
      "outputs": [
        {
          "output_type": "execute_result",
          "data": {
            "text/plain": [
              "DebertaV2TokenizerFast(name_or_path='microsoft/deberta-v3-large', vocab_size=128000, model_max_length=1000000000000000019884624838656, is_fast=True, padding_side='right', truncation_side='right', special_tokens={'bos_token': '[CLS]', 'eos_token': '[SEP]', 'unk_token': '[UNK]', 'sep_token': '[SEP]', 'pad_token': '[PAD]', 'cls_token': '[CLS]', 'mask_token': '[MASK]'}, clean_up_tokenization_spaces=True)"
            ]
          },
          "metadata": {},
          "execution_count": 54
        }
      ]
    },
    {
      "cell_type": "code",
      "source": [
        "tokz.tokenize(\"hi my name is Yunny, and this is my own GoogleColab based on my own understanding.\") #name_or_path='microsoft/deberta-v3-small'"
      ],
      "metadata": {
        "colab": {
          "base_uri": "https://localhost:8080/"
        },
        "id": "FB56_k95W-3F",
        "outputId": "3dc6a75f-371c-4833-e692-23332b03c6b1"
      },
      "execution_count": null,
      "outputs": [
        {
          "output_type": "execute_result",
          "data": {
            "text/plain": [
              "['▁hi',\n",
              " '▁my',\n",
              " '▁name',\n",
              " '▁is',\n",
              " '▁Yun',\n",
              " 'ny',\n",
              " ',',\n",
              " '▁and',\n",
              " '▁this',\n",
              " '▁is',\n",
              " '▁my',\n",
              " '▁own',\n",
              " '▁Google',\n",
              " 'Cola',\n",
              " 'b',\n",
              " '▁based',\n",
              " '▁on',\n",
              " '▁my',\n",
              " '▁own',\n",
              " '▁understanding',\n",
              " '.']"
            ]
          },
          "metadata": {},
          "execution_count": 25
        }
      ]
    },
    {
      "cell_type": "code",
      "source": [
        "tokz.tokenize(\"hi my name is Yunny, and this is my own GoogleColab based on my own understanding.\") #microsoft/deberta-v3-large"
      ],
      "metadata": {
        "colab": {
          "base_uri": "https://localhost:8080/"
        },
        "id": "0_8tIB94Jyk6",
        "outputId": "704f02da-5106-4579-9612-30518533af94"
      },
      "execution_count": null,
      "outputs": [
        {
          "output_type": "execute_result",
          "data": {
            "text/plain": [
              "['▁hi',\n",
              " '▁my',\n",
              " '▁name',\n",
              " '▁is',\n",
              " '▁Yun',\n",
              " 'ny',\n",
              " ',',\n",
              " '▁and',\n",
              " '▁this',\n",
              " '▁is',\n",
              " '▁my',\n",
              " '▁own',\n",
              " '▁Google',\n",
              " 'Cola',\n",
              " 'b',\n",
              " '▁based',\n",
              " '▁on',\n",
              " '▁my',\n",
              " '▁own',\n",
              " '▁understanding',\n",
              " '.']"
            ]
          },
          "metadata": {},
          "execution_count": 55
        }
      ]
    },
    {
      "cell_type": "markdown",
      "source": [
        "Aight so now we have a tokenizer for the model we are going to use! But as you can see, the tokenizer's tokenize function accetps a text. \n",
        "\n",
        "The input data we have is a table(dataset). The text we want to use is available in its column, 'input'. So let's create a function based on this."
      ],
      "metadata": {
        "id": "_10kq6ZtXLoY"
      }
    },
    {
      "cell_type": "code",
      "source": [
        "def tok_func(x): return tokz(x[\"input\"])"
      ],
      "metadata": {
        "id": "nkOc1l6bXELF"
      },
      "execution_count": null,
      "outputs": []
    },
    {
      "cell_type": "markdown",
      "source": [],
      "metadata": {
        "id": "32PKLUOabvqU"
      }
    },
    {
      "cell_type": "markdown",
      "source": [
        "this batched is important. We are familiar with map in python library. It is basically applying the given function to each element. But if you think about it, when there are a lot of elements, this can be a lot. So we want to apply the functino in a batch and do this in parallel.\n",
        "\n",
        "And also remember, ds.map creates a new dataset."
      ],
      "metadata": {
        "id": "QCJHdfN3bvJv"
      }
    },
    {
      "cell_type": "code",
      "source": [
        "tok_ds = ds.map(tok_func, batched=True)"
      ],
      "metadata": {
        "colab": {
          "base_uri": "https://localhost:8080/",
          "height": 17,
          "referenced_widgets": [
            "f36f7128200846c5a60a192a34b8d293",
            "403f3f69e7a949999f4626b492efbf4a",
            "35cfabbecd77434fbf7d246ea0aa52c2",
            "0dbea45dbde04cc68aad964843dc6f25",
            "e441c7c68d104fe3aeef876e58db911b",
            "9c5ea63fefcb4d0ba06f6f0f10be8d08",
            "bd1df736815048e6a49421640d13ec49",
            "a0198196f9fe4018a1a44333c3c2bf56",
            "1f0b2829b0ac4cab9a0765d440d549ff",
            "9acdb386374e4354993a7a8ff380c462",
            "fefe426a37c14a2182aef93b7f901463"
          ]
        },
        "id": "2VtLG3uwXbtr",
        "outputId": "6cf0d31a-6ac8-4a0e-da3d-85aea56614bc"
      },
      "execution_count": null,
      "outputs": [
        {
          "output_type": "display_data",
          "data": {
            "text/plain": [
              "Map:   0%|          | 0/36473 [00:00<?, ? examples/s]"
            ],
            "application/vnd.jupyter.widget-view+json": {
              "version_major": 2,
              "version_minor": 0,
              "model_id": "f36f7128200846c5a60a192a34b8d293"
            }
          },
          "metadata": {}
        }
      ]
    },
    {
      "cell_type": "code",
      "source": [
        "tok_ds"
      ],
      "metadata": {
        "colab": {
          "base_uri": "https://localhost:8080/"
        },
        "id": "94fsBM50av8Z",
        "outputId": "10e4d767-6c99-4c63-efc9-68f38aa7f8a0"
      },
      "execution_count": null,
      "outputs": [
        {
          "output_type": "execute_result",
          "data": {
            "text/plain": [
              "Dataset({\n",
              "    features: ['id', 'anchor', 'target', 'context', 'score', 'input', 'input_ids', 'token_type_ids', 'attention_mask'],\n",
              "    num_rows: 36473\n",
              "})"
            ]
          },
          "metadata": {},
          "execution_count": 57
        }
      ]
    },
    {
      "cell_type": "code",
      "source": [
        "row = tok_ds[0]\n",
        "row['input']"
      ],
      "metadata": {
        "colab": {
          "base_uri": "https://localhost:8080/",
          "height": 35
        },
        "id": "bTvtwtlyar4x",
        "outputId": "f7ee41f8-fc86-486d-8b89-3ad2f7a55bf4"
      },
      "execution_count": null,
      "outputs": [
        {
          "output_type": "execute_result",
          "data": {
            "text/plain": [
              "'TEXT1: A47; TEXT2: abatement of pollution; ANC1: abatement'"
            ],
            "application/vnd.google.colaboratory.intrinsic+json": {
              "type": "string"
            }
          },
          "metadata": {},
          "execution_count": 58
        }
      ]
    },
    {
      "cell_type": "code",
      "source": [
        "row['input_ids']"
      ],
      "metadata": {
        "colab": {
          "base_uri": "https://localhost:8080/"
        },
        "id": "UatZUri6auIZ",
        "outputId": "b7ebc6f8-9482-4789-827d-4ebd25e3051a"
      },
      "execution_count": null,
      "outputs": [
        {
          "output_type": "execute_result",
          "data": {
            "text/plain": [
              "[1,\n",
              " 54453,\n",
              " 435,\n",
              " 294,\n",
              " 336,\n",
              " 5753,\n",
              " 346,\n",
              " 54453,\n",
              " 445,\n",
              " 294,\n",
              " 47284,\n",
              " 265,\n",
              " 6435,\n",
              " 346,\n",
              " 23702,\n",
              " 435,\n",
              " 294,\n",
              " 47284,\n",
              " 2]"
            ]
          },
          "metadata": {},
          "execution_count": 59
        }
      ]
    },
    {
      "cell_type": "code",
      "source": [
        "tokz.vocab['▁of']"
      ],
      "metadata": {
        "colab": {
          "base_uri": "https://localhost:8080/"
        },
        "id": "BK0Uvvp-tq6R",
        "outputId": "3ea477bd-375c-4c7b-ed27-d2214852e259"
      },
      "execution_count": null,
      "outputs": [
        {
          "output_type": "execute_result",
          "data": {
            "text/plain": [
              "265"
            ]
          },
          "metadata": {},
          "execution_count": 60
        }
      ]
    },
    {
      "cell_type": "code",
      "source": [
        "tok_ds = tok_ds.rename_columns({'score':'labels'})"
      ],
      "metadata": {
        "id": "HTq0PDQPttHm"
      },
      "execution_count": null,
      "outputs": []
    },
    {
      "cell_type": "markdown",
      "source": [
        "Transformers always assumes that your labels has the column name labels, but in our dataset it's currently score. Therefore, we need to rename it:"
      ],
      "metadata": {
        "id": "YCBDoFVRuR24"
      }
    },
    {
      "cell_type": "code",
      "source": [
        "tok_ds"
      ],
      "metadata": {
        "colab": {
          "base_uri": "https://localhost:8080/"
        },
        "id": "tvpUE_sMuNAK",
        "outputId": "e9976315-71e2-4aca-e9a3-bcd480ea22c9"
      },
      "execution_count": null,
      "outputs": [
        {
          "output_type": "execute_result",
          "data": {
            "text/plain": [
              "Dataset({\n",
              "    features: ['id', 'anchor', 'target', 'context', 'labels', 'input', 'input_ids', 'token_type_ids', 'attention_mask'],\n",
              "    num_rows: 36473\n",
              "})"
            ]
          },
          "metadata": {},
          "execution_count": 62
        }
      ]
    },
    {
      "cell_type": "markdown",
      "source": [
        "okay now so far.. what we did are:\n",
        "(1) Get the data from the kaggle\n",
        "(2) Change the data to dataset\n",
        "(3) choose a model\n",
        "(4) tokenize the input. (so the data is ready)\n",
        "\n",
        "Now the next step is.. we need to split the data for training between training and validation to avoid making our model to overfit into our training data. "
      ],
      "metadata": {
        "id": "y9i1z6Dnuj6q"
      }
    },
    {
      "cell_type": "markdown",
      "source": [
        "In Transformers library, it uses DatasetDict for holding training and validation sets. "
      ],
      "metadata": {
        "id": "4pXssgtRumn3"
      }
    },
    {
      "cell_type": "code",
      "source": [
        "dds = tok_ds.train_test_split(0.25, seed=42)"
      ],
      "metadata": {
        "id": "v5DzZMFavT9W"
      },
      "execution_count": null,
      "outputs": []
    },
    {
      "cell_type": "code",
      "source": [
        "dds"
      ],
      "metadata": {
        "colab": {
          "base_uri": "https://localhost:8080/"
        },
        "id": "SixwxqtOvXqL",
        "outputId": "60845111-71a4-4a06-fa91-6088b6123ef4"
      },
      "execution_count": null,
      "outputs": [
        {
          "output_type": "execute_result",
          "data": {
            "text/plain": [
              "DatasetDict({\n",
              "    train: Dataset({\n",
              "        features: ['id', 'anchor', 'target', 'context', 'labels', 'input', 'input_ids', 'token_type_ids', 'attention_mask'],\n",
              "        num_rows: 27354\n",
              "    })\n",
              "    test: Dataset({\n",
              "        features: ['id', 'anchor', 'target', 'context', 'labels', 'input', 'input_ids', 'token_type_ids', 'attention_mask'],\n",
              "        num_rows: 9119\n",
              "    })\n",
              "})"
            ]
          },
          "metadata": {},
          "execution_count": 64
        }
      ]
    },
    {
      "cell_type": "code",
      "source": [
        "eval_df = pd.read_csv(path/'test.csv')\n",
        "eval_df.describe()"
      ],
      "metadata": {
        "colab": {
          "base_uri": "https://localhost:8080/",
          "height": 174
        },
        "id": "pPuy_swrv9Vn",
        "outputId": "825ec16a-c5c5-4fbc-9c2b-313f30efd8f9"
      },
      "execution_count": null,
      "outputs": [
        {
          "output_type": "execute_result",
          "data": {
            "text/plain": [
              "                      id      anchor                         target context\n",
              "count                 36          36                             36      36\n",
              "unique                36          34                             36      29\n",
              "top     4112d61851461f60  el display  inorganic photoconductor drum     G02\n",
              "freq                   1           2                              1       3"
            ],
            "text/html": [
              "\n",
              "  <div id=\"df-81a99599-45df-42a8-83b9-4fdd3d5a49ff\">\n",
              "    <div class=\"colab-df-container\">\n",
              "      <div>\n",
              "<style scoped>\n",
              "    .dataframe tbody tr th:only-of-type {\n",
              "        vertical-align: middle;\n",
              "    }\n",
              "\n",
              "    .dataframe tbody tr th {\n",
              "        vertical-align: top;\n",
              "    }\n",
              "\n",
              "    .dataframe thead th {\n",
              "        text-align: right;\n",
              "    }\n",
              "</style>\n",
              "<table border=\"1\" class=\"dataframe\">\n",
              "  <thead>\n",
              "    <tr style=\"text-align: right;\">\n",
              "      <th></th>\n",
              "      <th>id</th>\n",
              "      <th>anchor</th>\n",
              "      <th>target</th>\n",
              "      <th>context</th>\n",
              "    </tr>\n",
              "  </thead>\n",
              "  <tbody>\n",
              "    <tr>\n",
              "      <th>count</th>\n",
              "      <td>36</td>\n",
              "      <td>36</td>\n",
              "      <td>36</td>\n",
              "      <td>36</td>\n",
              "    </tr>\n",
              "    <tr>\n",
              "      <th>unique</th>\n",
              "      <td>36</td>\n",
              "      <td>34</td>\n",
              "      <td>36</td>\n",
              "      <td>29</td>\n",
              "    </tr>\n",
              "    <tr>\n",
              "      <th>top</th>\n",
              "      <td>4112d61851461f60</td>\n",
              "      <td>el display</td>\n",
              "      <td>inorganic photoconductor drum</td>\n",
              "      <td>G02</td>\n",
              "    </tr>\n",
              "    <tr>\n",
              "      <th>freq</th>\n",
              "      <td>1</td>\n",
              "      <td>2</td>\n",
              "      <td>1</td>\n",
              "      <td>3</td>\n",
              "    </tr>\n",
              "  </tbody>\n",
              "</table>\n",
              "</div>\n",
              "      <button class=\"colab-df-convert\" onclick=\"convertToInteractive('df-81a99599-45df-42a8-83b9-4fdd3d5a49ff')\"\n",
              "              title=\"Convert this dataframe to an interactive table.\"\n",
              "              style=\"display:none;\">\n",
              "        \n",
              "  <svg xmlns=\"http://www.w3.org/2000/svg\" height=\"24px\"viewBox=\"0 0 24 24\"\n",
              "       width=\"24px\">\n",
              "    <path d=\"M0 0h24v24H0V0z\" fill=\"none\"/>\n",
              "    <path d=\"M18.56 5.44l.94 2.06.94-2.06 2.06-.94-2.06-.94-.94-2.06-.94 2.06-2.06.94zm-11 1L8.5 8.5l.94-2.06 2.06-.94-2.06-.94L8.5 2.5l-.94 2.06-2.06.94zm10 10l.94 2.06.94-2.06 2.06-.94-2.06-.94-.94-2.06-.94 2.06-2.06.94z\"/><path d=\"M17.41 7.96l-1.37-1.37c-.4-.4-.92-.59-1.43-.59-.52 0-1.04.2-1.43.59L10.3 9.45l-7.72 7.72c-.78.78-.78 2.05 0 2.83L4 21.41c.39.39.9.59 1.41.59.51 0 1.02-.2 1.41-.59l7.78-7.78 2.81-2.81c.8-.78.8-2.07 0-2.86zM5.41 20L4 18.59l7.72-7.72 1.47 1.35L5.41 20z\"/>\n",
              "  </svg>\n",
              "      </button>\n",
              "      \n",
              "  <style>\n",
              "    .colab-df-container {\n",
              "      display:flex;\n",
              "      flex-wrap:wrap;\n",
              "      gap: 12px;\n",
              "    }\n",
              "\n",
              "    .colab-df-convert {\n",
              "      background-color: #E8F0FE;\n",
              "      border: none;\n",
              "      border-radius: 50%;\n",
              "      cursor: pointer;\n",
              "      display: none;\n",
              "      fill: #1967D2;\n",
              "      height: 32px;\n",
              "      padding: 0 0 0 0;\n",
              "      width: 32px;\n",
              "    }\n",
              "\n",
              "    .colab-df-convert:hover {\n",
              "      background-color: #E2EBFA;\n",
              "      box-shadow: 0px 1px 2px rgba(60, 64, 67, 0.3), 0px 1px 3px 1px rgba(60, 64, 67, 0.15);\n",
              "      fill: #174EA6;\n",
              "    }\n",
              "\n",
              "    [theme=dark] .colab-df-convert {\n",
              "      background-color: #3B4455;\n",
              "      fill: #D2E3FC;\n",
              "    }\n",
              "\n",
              "    [theme=dark] .colab-df-convert:hover {\n",
              "      background-color: #434B5C;\n",
              "      box-shadow: 0px 1px 3px 1px rgba(0, 0, 0, 0.15);\n",
              "      filter: drop-shadow(0px 1px 2px rgba(0, 0, 0, 0.3));\n",
              "      fill: #FFFFFF;\n",
              "    }\n",
              "  </style>\n",
              "\n",
              "      <script>\n",
              "        const buttonEl =\n",
              "          document.querySelector('#df-81a99599-45df-42a8-83b9-4fdd3d5a49ff button.colab-df-convert');\n",
              "        buttonEl.style.display =\n",
              "          google.colab.kernel.accessAllowed ? 'block' : 'none';\n",
              "\n",
              "        async function convertToInteractive(key) {\n",
              "          const element = document.querySelector('#df-81a99599-45df-42a8-83b9-4fdd3d5a49ff');\n",
              "          const dataTable =\n",
              "            await google.colab.kernel.invokeFunction('convertToInteractive',\n",
              "                                                     [key], {});\n",
              "          if (!dataTable) return;\n",
              "\n",
              "          const docLinkHtml = 'Like what you see? Visit the ' +\n",
              "            '<a target=\"_blank\" href=https://colab.research.google.com/notebooks/data_table.ipynb>data table notebook</a>'\n",
              "            + ' to learn more about interactive tables.';\n",
              "          element.innerHTML = '';\n",
              "          dataTable['output_type'] = 'display_data';\n",
              "          await google.colab.output.renderOutput(dataTable, element);\n",
              "          const docLink = document.createElement('div');\n",
              "          docLink.innerHTML = docLinkHtml;\n",
              "          element.appendChild(docLink);\n",
              "        }\n",
              "      </script>\n",
              "    </div>\n",
              "  </div>\n",
              "  "
            ]
          },
          "metadata": {},
          "execution_count": 65
        }
      ]
    },
    {
      "cell_type": "code",
      "source": [
        "eval_df['input'] = 'TEXT1: ' + eval_df.context + '; TEXT2: ' + eval_df.target + '; ANC1: ' + eval_df.anchor\n",
        "eval_ds = Dataset.from_pandas(eval_df).map(tok_func, batched=True)"
      ],
      "metadata": {
        "colab": {
          "base_uri": "https://localhost:8080/",
          "height": 17,
          "referenced_widgets": [
            "6bc279e3c4804256924a004bc3ed76b6",
            "f6b020df456b4dafbd463b76e16c23d9",
            "9d02356a300d44e3933b307d6b3f1c78",
            "92e9d0bc3d614845ad43f9fd17bdc641",
            "b418bf02095b4919bb57703fdad24b63",
            "4d721cef24184ed39fdc1ef607843d95",
            "a75e68adaf5243f7a139e2168da8318e",
            "e6068404b4064a68836c32792e149cea",
            "63188bfaab264555addd0946ecc9f45d",
            "28a57effae584e3c8c8dc00676c3e3d8",
            "bb820c4fc77c4e8aac67765f4a011949"
          ]
        },
        "id": "edBY69NS35KF",
        "outputId": "dc902236-353b-4bc0-edc9-c8f366e31ca2"
      },
      "execution_count": null,
      "outputs": [
        {
          "output_type": "display_data",
          "data": {
            "text/plain": [
              "Map:   0%|          | 0/36 [00:00<?, ? examples/s]"
            ],
            "application/vnd.jupyter.widget-view+json": {
              "version_major": 2,
              "version_minor": 0,
              "model_id": "6bc279e3c4804256924a004bc3ed76b6"
            }
          },
          "metadata": {}
        }
      ]
    },
    {
      "cell_type": "markdown",
      "source": [
        "\n",
        "okay now we have training set, validation set and test set, let's figure out a metric. So make sure to check each competition's evaluation part. \n",
        "\n",
        "At least for kaggle, it is given. In real life, it is our job to define and it can be harder. \n",
        "\n"
      ],
      "metadata": {
        "id": "c3RkJBds05ye"
      }
    },
    {
      "cell_type": "markdown",
      "source": [
        "So for this particular, US Patent compeition, they are evaluating each model's prediction and the actual result on the Pearson correlation coefficient (r). \n",
        "I don't know the details about this from mathematically perspective, but the important information for me is that it tells me how two variables are related. -1 means perfect inverse correlation and +1 is perfect positive correlation. \n",
        "\n",
        "To calculate this value, we need numpy library as we are going to use np.corrcoef function."
      ],
      "metadata": {
        "id": "u5JZh6_61dw8"
      }
    },
    {
      "cell_type": "code",
      "source": [
        "import numpy as np"
      ],
      "metadata": {
        "id": "4nXd7u_uw3fA"
      },
      "execution_count": null,
      "outputs": []
    },
    {
      "cell_type": "code",
      "source": [
        "def corr(x,y): return np.corrcoef(x,y)[0][1]"
      ],
      "metadata": {
        "id": "r2X7JNEyw7Lz"
      },
      "execution_count": null,
      "outputs": []
    },
    {
      "cell_type": "code",
      "source": [
        "def corr_d(eval_pred): return {'pearson': corr(*eval_pred)} #the * in front of the variable gives the flexibility of # of parmaeters. "
      ],
      "metadata": {
        "id": "kSWDpH-5xX7I"
      },
      "execution_count": null,
      "outputs": []
    },
    {
      "cell_type": "code",
      "source": [
        "from transformers import TrainingArguments,Trainer"
      ],
      "metadata": {
        "id": "o9F0IKZhxb7Y"
      },
      "execution_count": null,
      "outputs": []
    },
    {
      "cell_type": "code",
      "source": [
        "bs = 128\n",
        "epochs = 4"
      ],
      "metadata": {
        "id": "r_xLNPSPx4VA"
      },
      "execution_count": null,
      "outputs": []
    },
    {
      "cell_type": "code",
      "source": [
        "lr = 8e-5"
      ],
      "metadata": {
        "id": "LWTuOVOGx8ka"
      },
      "execution_count": null,
      "outputs": []
    },
    {
      "cell_type": "code",
      "source": [
        "args = TrainingArguments('outputs', learning_rate=lr, warmup_ratio=0.1, lr_scheduler_type='cosine', fp16=True,\n",
        "    evaluation_strategy=\"epoch\", per_device_train_batch_size=bs, per_device_eval_batch_size=bs*2,\n",
        "    num_train_epochs=epochs, weight_decay=0.01, report_to='none') #similar to data block + dataloaders "
      ],
      "metadata": {
        "id": "X7_OPlOSx9nR"
      },
      "execution_count": null,
      "outputs": []
    },
    {
      "cell_type": "code",
      "source": [
        "from transformers import AutoModelForSequenceClassification\n",
        "model = AutoModelForSequenceClassification.from_pretrained(model_nm2, num_labels=1)\n",
        "trainer = Trainer(model, args, train_dataset=dds['train'], eval_dataset=dds['test'],\n",
        "                  tokenizer=tokz, compute_metrics=corr_d) #learner (model, data, metrics)\n",
        "                "
      ],
      "metadata": {
        "colab": {
          "base_uri": "https://localhost:8080/"
        },
        "id": "DARglUdcyCrN",
        "outputId": "e93b9467-d2e5-486f-e300-13ba6b002c56"
      },
      "execution_count": null,
      "outputs": [
        {
          "output_type": "stream",
          "name": "stderr",
          "text": [
            "Some weights of the model checkpoint at microsoft/deberta-v3-large were not used when initializing DebertaV2ForSequenceClassification: ['lm_predictions.lm_head.dense.bias', 'lm_predictions.lm_head.bias', 'lm_predictions.lm_head.LayerNorm.bias', 'mask_predictions.dense.weight', 'lm_predictions.lm_head.dense.weight', 'mask_predictions.LayerNorm.weight', 'mask_predictions.dense.bias', 'mask_predictions.classifier.bias', 'mask_predictions.LayerNorm.bias', 'lm_predictions.lm_head.LayerNorm.weight', 'mask_predictions.classifier.weight']\n",
            "- This IS expected if you are initializing DebertaV2ForSequenceClassification from the checkpoint of a model trained on another task or with another architecture (e.g. initializing a BertForSequenceClassification model from a BertForPreTraining model).\n",
            "- This IS NOT expected if you are initializing DebertaV2ForSequenceClassification from the checkpoint of a model that you expect to be exactly identical (initializing a BertForSequenceClassification model from a BertForSequenceClassification model).\n",
            "Some weights of DebertaV2ForSequenceClassification were not initialized from the model checkpoint at microsoft/deberta-v3-large and are newly initialized: ['pooler.dense.bias', 'classifier.bias', 'pooler.dense.weight', 'classifier.weight']\n",
            "You should probably TRAIN this model on a down-stream task to be able to use it for predictions and inference.\n"
          ]
        }
      ]
    },
    {
      "cell_type": "code",
      "source": [
        "trainer.train(); # it is learner.learn, #name_or_path='microsoft/deberta-v3-small'"
      ],
      "metadata": {
        "colab": {
          "base_uri": "https://localhost:8080/",
          "height": 273
        },
        "id": "uJvSNIiryhKf",
        "outputId": "00d890a2-fb2a-4d34-a979-e6fb3037ee1f"
      },
      "execution_count": null,
      "outputs": [
        {
          "output_type": "stream",
          "name": "stderr",
          "text": [
            "/usr/local/lib/python3.10/dist-packages/transformers/optimization.py:391: FutureWarning: This implementation of AdamW is deprecated and will be removed in a future version. Use the PyTorch implementation torch.optim.AdamW instead, or set `no_deprecation_warning=True` to disable this warning\n",
            "  warnings.warn(\n",
            "You're using a DebertaV2TokenizerFast tokenizer. Please note that with a fast tokenizer, using the `__call__` method is faster than using a method to encode the text followed by a call to the `pad` method to get a padded encoding.\n"
          ]
        },
        {
          "output_type": "display_data",
          "data": {
            "text/plain": [
              "<IPython.core.display.HTML object>"
            ],
            "text/html": [
              "\n",
              "    <div>\n",
              "      \n",
              "      <progress value='856' max='856' style='width:300px; height:20px; vertical-align: middle;'></progress>\n",
              "      [856/856 03:26, Epoch 4/4]\n",
              "    </div>\n",
              "    <table border=\"1\" class=\"dataframe\">\n",
              "  <thead>\n",
              " <tr style=\"text-align: left;\">\n",
              "      <th>Epoch</th>\n",
              "      <th>Training Loss</th>\n",
              "      <th>Validation Loss</th>\n",
              "      <th>Pearson</th>\n",
              "    </tr>\n",
              "  </thead>\n",
              "  <tbody>\n",
              "    <tr>\n",
              "      <td>1</td>\n",
              "      <td>No log</td>\n",
              "      <td>0.029247</td>\n",
              "      <td>0.797091</td>\n",
              "    </tr>\n",
              "    <tr>\n",
              "      <td>2</td>\n",
              "      <td>No log</td>\n",
              "      <td>0.025410</td>\n",
              "      <td>0.819541</td>\n",
              "    </tr>\n",
              "    <tr>\n",
              "      <td>3</td>\n",
              "      <td>0.037200</td>\n",
              "      <td>0.023342</td>\n",
              "      <td>0.828610</td>\n",
              "    </tr>\n",
              "    <tr>\n",
              "      <td>4</td>\n",
              "      <td>0.037200</td>\n",
              "      <td>0.022763</td>\n",
              "      <td>0.829926</td>\n",
              "    </tr>\n",
              "  </tbody>\n",
              "</table><p>"
            ]
          },
          "metadata": {}
        }
      ]
    },
    {
      "cell_type": "code",
      "source": [
        "import torch\n",
        "torch.cuda.empty_cache()"
      ],
      "metadata": {
        "id": "cBsw7JN9LcAC"
      },
      "execution_count": null,
      "outputs": []
    },
    {
      "cell_type": "code",
      "source": [
        "torch.cuda.memory_summary(device=None, abbreviated=False)"
      ],
      "metadata": {
        "colab": {
          "base_uri": "https://localhost:8080/",
          "height": 694
        },
        "id": "DR7UJnvWLixm",
        "outputId": "a557036e-f6a7-4e21-9c25-bd6486d05cd4"
      },
      "execution_count": null,
      "outputs": [
        {
          "output_type": "execute_result",
          "data": {
            "text/plain": [
              "'|===========================================================================|\\n|                  PyTorch CUDA memory summary, device ID 0                 |\\n|---------------------------------------------------------------------------|\\n|            CUDA OOMs: 2            |        cudaMalloc retries: 4         |\\n|===========================================================================|\\n|        Metric         | Cur Usage  | Peak Usage | Tot Alloc  | Tot Freed  |\\n|---------------------------------------------------------------------------|\\n| Allocated memory      |  14031 MiB |  14167 MiB |   7785 GiB |   7771 GiB |\\n|       from large pool |  13986 MiB |  14104 MiB |   7675 GiB |   7662 GiB |\\n|       from small pool |     45 MiB |     65 MiB |    109 GiB |    109 GiB |\\n|---------------------------------------------------------------------------|\\n| Active memory         |  14031 MiB |  14167 MiB |   7785 GiB |   7771 GiB |\\n|       from large pool |  13986 MiB |  14104 MiB |   7675 GiB |   7662 GiB |\\n|       from small pool |     45 MiB |     65 MiB |    109 GiB |    109 GiB |\\n|---------------------------------------------------------------------------|\\n| Requested memory      |  13975 MiB |  14058 MiB |   7677 GiB |   7663 GiB |\\n|       from large pool |  13930 MiB |  13995 MiB |   7568 GiB |   7554 GiB |\\n|       from small pool |     45 MiB |     65 MiB |    109 GiB |    109 GiB |\\n|---------------------------------------------------------------------------|\\n| GPU reserved memory   |  14296 MiB |  14298 MiB |  23214 MiB |   8918 MiB |\\n|       from large pool |  14250 MiB |  14250 MiB |  23106 MiB |   8856 MiB |\\n|       from small pool |     46 MiB |     66 MiB |    108 MiB |     62 MiB |\\n|---------------------------------------------------------------------------|\\n| Non-releasable memory | 270655 KiB |   2680 MiB |   4950 GiB |   4950 GiB |\\n|       from large pool | 269688 KiB |   2674 MiB |   4833 GiB |   4833 GiB |\\n|       from small pool |    967 KiB |     13 MiB |    117 GiB |    117 GiB |\\n|---------------------------------------------------------------------------|\\n| Allocations           |    1789    |    1879    |    1260 K  |    1258 K  |\\n|       from large pool |     887    |     889    |     751 K  |     750 K  |\\n|       from small pool |     902    |     996    |     508 K  |     507 K  |\\n|---------------------------------------------------------------------------|\\n| Active allocs         |    1789    |    1879    |    1260 K  |    1258 K  |\\n|       from large pool |     887    |     889    |     751 K  |     750 K  |\\n|       from small pool |     902    |     996    |     508 K  |     507 K  |\\n|---------------------------------------------------------------------------|\\n| GPU reserved segments |     291    |     308    |     480    |     189    |\\n|       from large pool |     268    |     275    |     426    |     158    |\\n|       from small pool |      23    |      33    |      54    |      31    |\\n|---------------------------------------------------------------------------|\\n| Non-releasable allocs |     119    |     124    |  739354    |  739235    |\\n|       from large pool |      64    |      74    |  511482    |  511418    |\\n|       from small pool |      55    |      86    |  227872    |  227817    |\\n|---------------------------------------------------------------------------|\\n| Oversize allocations  |       0    |       0    |       0    |       0    |\\n|---------------------------------------------------------------------------|\\n| Oversize GPU segments |       0    |       0    |       0    |       0    |\\n|===========================================================================|\\n'"
            ],
            "application/vnd.google.colaboratory.intrinsic+json": {
              "type": "string"
            }
          },
          "metadata": {},
          "execution_count": 81
        }
      ]
    },
    {
      "cell_type": "code",
      "source": [
        "trainer.train(); # it is learner.learn, #microsoft/deberta-v3-large"
      ],
      "metadata": {
        "colab": {
          "base_uri": "https://localhost:8080/",
          "height": 200
        },
        "id": "Pf88wptdKZ70",
        "outputId": "c123f35e-7586-44fa-8d16-b7bfad2310dd"
      },
      "execution_count": null,
      "outputs": [
        {
          "output_type": "display_data",
          "data": {
            "text/plain": [
              "<IPython.core.display.HTML object>"
            ],
            "text/html": [
              "\n",
              "    <div>\n",
              "      \n",
              "      <progress value='3420' max='3420' style='width:300px; height:20px; vertical-align: middle;'></progress>\n",
              "      [3420/3420 28:24, Epoch 4/4]\n",
              "    </div>\n",
              "    <table border=\"1\" class=\"dataframe\">\n",
              "  <thead>\n",
              " <tr style=\"text-align: left;\">\n",
              "      <th>Epoch</th>\n",
              "      <th>Training Loss</th>\n",
              "      <th>Validation Loss</th>\n",
              "      <th>Pearson</th>\n",
              "    </tr>\n",
              "  </thead>\n",
              "  <tbody>\n",
              "    <tr>\n",
              "      <td>1</td>\n",
              "      <td>0.046700</td>\n",
              "      <td>0.065751</td>\n",
              "      <td>0.009389</td>\n",
              "    </tr>\n",
              "    <tr>\n",
              "      <td>2</td>\n",
              "      <td>0.069900</td>\n",
              "      <td>0.066111</td>\n",
              "      <td>0.001826</td>\n",
              "    </tr>\n",
              "    <tr>\n",
              "      <td>3</td>\n",
              "      <td>0.068200</td>\n",
              "      <td>0.065691</td>\n",
              "      <td>0.019403</td>\n",
              "    </tr>\n",
              "    <tr>\n",
              "      <td>4</td>\n",
              "      <td>0.067900</td>\n",
              "      <td>0.065576</td>\n",
              "      <td>0.000742</td>\n",
              "    </tr>\n",
              "  </tbody>\n",
              "</table><p>"
            ]
          },
          "metadata": {}
        }
      ]
    },
    {
      "cell_type": "code",
      "source": [
        "preds = trainer.predict(eval_ds).predictions.astype(float)\n",
        "preds"
      ],
      "metadata": {
        "colab": {
          "base_uri": "https://localhost:8080/",
          "height": 642
        },
        "id": "pqWjSuduyiSO",
        "outputId": "127feea6-0d32-4efa-a3ef-c7838d274680"
      },
      "execution_count": null,
      "outputs": [
        {
          "output_type": "display_data",
          "data": {
            "text/plain": [
              "<IPython.core.display.HTML object>"
            ],
            "text/html": []
          },
          "metadata": {}
        },
        {
          "output_type": "execute_result",
          "data": {
            "text/plain": [
              "array([[ 0.44775391],\n",
              "       [ 0.68310547],\n",
              "       [ 0.56201172],\n",
              "       [ 0.33276367],\n",
              "       [-0.0067749 ],\n",
              "       [ 0.54833984],\n",
              "       [ 0.53271484],\n",
              "       [-0.01809692],\n",
              "       [ 0.26342773],\n",
              "       [ 1.08007812],\n",
              "       [ 0.21899414],\n",
              "       [ 0.28417969],\n",
              "       [ 0.77392578],\n",
              "       [ 0.87451172],\n",
              "       [ 0.7265625 ],\n",
              "       [ 0.46459961],\n",
              "       [ 0.31787109],\n",
              "       [-0.02246094],\n",
              "       [ 0.66357422],\n",
              "       [ 0.35253906],\n",
              "       [ 0.40576172],\n",
              "       [ 0.23913574],\n",
              "       [ 0.21228027],\n",
              "       [ 0.23974609],\n",
              "       [ 0.57470703],\n",
              "       [-0.01445007],\n",
              "       [-0.0295105 ],\n",
              "       [-0.03277588],\n",
              "       [-0.0352478 ],\n",
              "       [ 0.65722656],\n",
              "       [ 0.37866211],\n",
              "       [ 0.07519531],\n",
              "       [ 0.67773438],\n",
              "       [ 0.48657227],\n",
              "       [ 0.44433594],\n",
              "       [ 0.23400879]])"
            ]
          },
          "metadata": {},
          "execution_count": 47
        }
      ]
    },
    {
      "cell_type": "code",
      "source": [
        "preds = np.clip(preds, 0, 1) #this is simliar to using sigmoid function."
      ],
      "metadata": {
        "id": "L-uuk-dpym4z"
      },
      "execution_count": null,
      "outputs": []
    },
    {
      "cell_type": "code",
      "source": [
        "preds"
      ],
      "metadata": {
        "colab": {
          "base_uri": "https://localhost:8080/"
        },
        "id": "i8UrABXXyn_S",
        "outputId": "f4f6e8f3-7ef2-42ee-cedd-e9c6e835be56"
      },
      "execution_count": null,
      "outputs": [
        {
          "output_type": "execute_result",
          "data": {
            "text/plain": [
              "array([[0.44775391],\n",
              "       [0.68310547],\n",
              "       [0.56201172],\n",
              "       [0.33276367],\n",
              "       [0.        ],\n",
              "       [0.54833984],\n",
              "       [0.53271484],\n",
              "       [0.        ],\n",
              "       [0.26342773],\n",
              "       [1.        ],\n",
              "       [0.21899414],\n",
              "       [0.28417969],\n",
              "       [0.77392578],\n",
              "       [0.87451172],\n",
              "       [0.7265625 ],\n",
              "       [0.46459961],\n",
              "       [0.31787109],\n",
              "       [0.        ],\n",
              "       [0.66357422],\n",
              "       [0.35253906],\n",
              "       [0.40576172],\n",
              "       [0.23913574],\n",
              "       [0.21228027],\n",
              "       [0.23974609],\n",
              "       [0.57470703],\n",
              "       [0.        ],\n",
              "       [0.        ],\n",
              "       [0.        ],\n",
              "       [0.        ],\n",
              "       [0.65722656],\n",
              "       [0.37866211],\n",
              "       [0.07519531],\n",
              "       [0.67773438],\n",
              "       [0.48657227],\n",
              "       [0.44433594],\n",
              "       [0.23400879]])"
            ]
          },
          "metadata": {},
          "execution_count": 49
        }
      ]
    },
    {
      "cell_type": "code",
      "source": [
        "import datasets\n",
        "\n",
        "submission = datasets.Dataset.from_dict({\n",
        "    'id': eval_ds['id'],\n",
        "    'score': preds\n",
        "})\n",
        "\n",
        "submission.to_csv('submission.csv', index=False)"
      ],
      "metadata": {
        "colab": {
          "base_uri": "https://localhost:8080/",
          "height": 66,
          "referenced_widgets": [
            "81859c4ffc9148e68b7fe4ac3b86e78b",
            "6f0df2dad13e4efa959f1e849520dad1",
            "5de204c99a1a4595810d4d124d31ff39",
            "1960d233cc864ed5940091aa1aad7e41",
            "6c502f2a4cfb4a1aa34c3798875a4653",
            "9cdfa8eb7a0145479a9217660b50c2c3",
            "8d348c966faa4522af5ea330d8ecaa01",
            "d443ddb8d4894ca6b2537448e0431d53",
            "eea05225ba33418f9a511b48a91affc2",
            "cc53c84f76084a6aa105b47a389b0a99",
            "6fc82830272c4835b979f00ff41f09bd"
          ]
        },
        "id": "NtI8qWl34JAR",
        "outputId": "cb6d8690-2ff4-4e70-956c-6228a3300a55"
      },
      "execution_count": null,
      "outputs": [
        {
          "output_type": "display_data",
          "data": {
            "text/plain": [
              "Creating CSV from Arrow format:   0%|          | 0/1 [00:00<?, ?ba/s]"
            ],
            "application/vnd.jupyter.widget-view+json": {
              "version_major": 2,
              "version_minor": 0,
              "model_id": "81859c4ffc9148e68b7fe4ac3b86e78b"
            }
          },
          "metadata": {}
        },
        {
          "output_type": "execute_result",
          "data": {
            "text/plain": [
              "1024"
            ]
          },
          "metadata": {},
          "execution_count": 50
        }
      ]
    }
  ]
}