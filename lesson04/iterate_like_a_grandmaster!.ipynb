{
  "cells": [
    {
      "cell_type": "markdown",
      "metadata": {
        "id": "view-in-github",
        "colab_type": "text"
      },
      "source": [
        "<a href=\"https://colab.research.google.com/github/bigyunicorn/fastai22/blob/main/lesson04/iterate_like_a_grandmaster!.ipynb\" target=\"_parent\"><img src=\"https://colab.research.google.com/assets/colab-badge.svg\" alt=\"Open In Colab\"/></a>"
      ]
    },
    {
      "cell_type": "markdown",
      "metadata": {
        "id": "nv0yIiDIEF0u"
      },
      "source": [
        "Let's first import the data from the kaggle! \n",
        "The below shows the pseudocode of how to do so:\n",
        "1. install kaggle python package as we need to use its API to get the dataset. \n",
        "2. Get the kaggle developer credentials (how to do so is available in both Jeremy's textbook and or link to the other source). This will download kaggle.json file to your local machine. \n",
        "3. Run the code to create a kaggle.json on the cloud.\n",
        "4. Donwload the file. "
      ]
    },
    {
      "cell_type": "code",
      "execution_count": null,
      "metadata": {
        "colab": {
          "base_uri": "https://localhost:8080/"
        },
        "id": "JibbJrgsjVDk",
        "outputId": "19121183-172b-4c98-e139-7aa0d88f4066"
      },
      "outputs": [
        {
          "output_type": "stream",
          "name": "stdout",
          "text": [
            "Looking in indexes: https://pypi.org/simple, https://us-python.pkg.dev/colab-wheels/public/simple/\n",
            "Requirement already satisfied: kaggle in /usr/local/lib/python3.10/dist-packages (1.5.13)\n",
            "Requirement already satisfied: six>=1.10 in /usr/local/lib/python3.10/dist-packages (from kaggle) (1.16.0)\n",
            "Requirement already satisfied: certifi in /usr/local/lib/python3.10/dist-packages (from kaggle) (2022.12.7)\n",
            "Requirement already satisfied: python-dateutil in /usr/local/lib/python3.10/dist-packages (from kaggle) (2.8.2)\n",
            "Requirement already satisfied: requests in /usr/local/lib/python3.10/dist-packages (from kaggle) (2.27.1)\n",
            "Requirement already satisfied: tqdm in /usr/local/lib/python3.10/dist-packages (from kaggle) (4.65.0)\n",
            "Requirement already satisfied: python-slugify in /usr/local/lib/python3.10/dist-packages (from kaggle) (8.0.1)\n",
            "Requirement already satisfied: urllib3 in /usr/local/lib/python3.10/dist-packages (from kaggle) (1.26.15)\n",
            "Requirement already satisfied: text-unidecode>=1.3 in /usr/local/lib/python3.10/dist-packages (from python-slugify->kaggle) (1.3)\n",
            "Requirement already satisfied: charset-normalizer~=2.0.0 in /usr/local/lib/python3.10/dist-packages (from requests->kaggle) (2.0.12)\n",
            "Requirement already satisfied: idna<4,>=2.5 in /usr/local/lib/python3.10/dist-packages (from requests->kaggle) (3.4)\n"
          ]
        }
      ],
      "source": [
        "!pip install kaggle"
      ]
    },
    {
      "cell_type": "code",
      "execution_count": null,
      "metadata": {
        "id": "1LbzVahDmvK6"
      },
      "outputs": [],
      "source": [
        "creds = '{\"username\":\"<your user name>\",\"key\":\"<your kaggle api key>\"}'"
      ]
    },
    {
      "cell_type": "code",
      "execution_count": null,
      "metadata": {
        "colab": {
          "base_uri": "https://localhost:8080/"
        },
        "id": "4gJQV8Vym5Fs",
        "outputId": "bbb330e9-9b73-421e-ad9f-a8c7d1216ecd"
      },
      "outputs": [
        {
          "output_type": "stream",
          "name": "stdout",
          "text": [
            "/root/.kaggle/kaggle.json\n"
          ]
        }
      ],
      "source": [
        "from pathlib import Path\n",
        "\n",
        "cred_path = Path('~/.kaggle/kaggle.json').expanduser()\n",
        "print(cred_path)\n",
        "if not cred_path.exists():\n",
        "    cred_path.parent.mkdir(exist_ok=True)\n",
        "    cred_path.write_text(creds)\n",
        "    cred_path.chmod(0o600) #deciding the permission level. Ask chat gpt what this means, and it will tell you well!"
      ]
    },
    {
      "cell_type": "code",
      "execution_count": null,
      "metadata": {
        "colab": {
          "base_uri": "https://localhost:8080/"
        },
        "id": "5OXLPwSKibS3",
        "outputId": "6dac5759-ec75-440f-8f81-48ad899a2023"
      },
      "outputs": [
        {
          "output_type": "stream",
          "name": "stdout",
          "text": [
            "us-patent-phrase-to-phrase-matching.zip: Skipping, found more recently modified local copy (use --force to force download)\n"
          ]
        }
      ],
      "source": [
        "from pathlib import Path\n",
        "\n",
        "import zipfile, kaggle\n",
        "path = Path('us-patent-phrase-to-phrase-matching')\n",
        "kaggle.api.competition_download_cli(str(path))\n",
        "zipfile.ZipFile(f'{path}.zip').extractall(path)"
      ]
    },
    {
      "cell_type": "markdown",
      "source": [
        "Okay let's see what data is in the folder. "
      ],
      "metadata": {
        "id": "YGNJtqzCi0js"
      }
    },
    {
      "cell_type": "code",
      "execution_count": null,
      "metadata": {
        "colab": {
          "base_uri": "https://localhost:8080/"
        },
        "id": "bmh8PC5KnHPR",
        "outputId": "badbb406-83db-48e5-881f-8f465dd4d7d8"
      },
      "outputs": [
        {
          "output_type": "execute_result",
          "data": {
            "text/plain": [
              "(#3) [Path('us-patent-phrase-to-phrase-matching/train.csv'),Path('us-patent-phrase-to-phrase-matching/sample_submission.csv'),Path('us-patent-phrase-to-phrase-matching/test.csv')]"
            ]
          },
          "metadata": {},
          "execution_count": 5
        }
      ],
      "source": [
        "from fastai.imports import * \n",
        "path.ls()"
      ]
    },
    {
      "cell_type": "markdown",
      "source": [
        "Let's see explore the data. This is how I am going to explore.\n",
        "- (1) Check each train and test files. How does the data look like? How is it organized? \n",
        "- (2) You know the problem is asking the similarity between anchor and target. So we know these are important columns. Let's explore the distribution of data in these two columns. How the data is distributed is useful info as later on when we are going to split the train data into training and validation sets, we can decide how to do so.    \n",
        "- (3) Also let's see other columns' disbrituion to see what the data is there. It might be useful to use it later. \n",
        "- (4) We know the score is the prediction value we need to provide. "
      ],
      "metadata": {
        "id": "FoxR49-uph-9"
      }
    },
    {
      "cell_type": "code",
      "execution_count": null,
      "metadata": {
        "colab": {
          "base_uri": "https://localhost:8080/",
          "height": 423
        },
        "id": "FuVymVBwnMMp",
        "outputId": "f4e9f58d-f07c-43b8-bea9-1fbc4c252767"
      },
      "outputs": [
        {
          "output_type": "execute_result",
          "data": {
            "text/plain": [
              "                     id        anchor                  target context  score\n",
              "0      37d61fd2272659b1     abatement  abatement of pollution     A47   0.50\n",
              "1      7b9652b17b68b7a4     abatement          act of abating     A47   0.75\n",
              "2      36d72442aefd8232     abatement         active catalyst     A47   0.25\n",
              "3      5296b0c19e1ce60e     abatement     eliminating process     A47   0.50\n",
              "4      54c1e3b9184cb5b6     abatement           forest region     A47   0.00\n",
              "...                 ...           ...                     ...     ...    ...\n",
              "36468  8e1386cbefd7f245  wood article          wooden article     B44   1.00\n",
              "36469  42d9e032d1cd3242  wood article              wooden box     B44   0.50\n",
              "36470  208654ccb9e14fa3  wood article           wooden handle     B44   0.50\n",
              "36471  756ec035e694722b  wood article         wooden material     B44   0.75\n",
              "36472  8d135da0b55b8c88  wood article        wooden substrate     B44   0.50\n",
              "\n",
              "[36473 rows x 5 columns]"
            ],
            "text/html": [
              "\n",
              "  <div id=\"df-41973482-84c9-4f16-b35a-447a81bc4988\">\n",
              "    <div class=\"colab-df-container\">\n",
              "      <div>\n",
              "<style scoped>\n",
              "    .dataframe tbody tr th:only-of-type {\n",
              "        vertical-align: middle;\n",
              "    }\n",
              "\n",
              "    .dataframe tbody tr th {\n",
              "        vertical-align: top;\n",
              "    }\n",
              "\n",
              "    .dataframe thead th {\n",
              "        text-align: right;\n",
              "    }\n",
              "</style>\n",
              "<table border=\"1\" class=\"dataframe\">\n",
              "  <thead>\n",
              "    <tr style=\"text-align: right;\">\n",
              "      <th></th>\n",
              "      <th>id</th>\n",
              "      <th>anchor</th>\n",
              "      <th>target</th>\n",
              "      <th>context</th>\n",
              "      <th>score</th>\n",
              "    </tr>\n",
              "  </thead>\n",
              "  <tbody>\n",
              "    <tr>\n",
              "      <th>0</th>\n",
              "      <td>37d61fd2272659b1</td>\n",
              "      <td>abatement</td>\n",
              "      <td>abatement of pollution</td>\n",
              "      <td>A47</td>\n",
              "      <td>0.50</td>\n",
              "    </tr>\n",
              "    <tr>\n",
              "      <th>1</th>\n",
              "      <td>7b9652b17b68b7a4</td>\n",
              "      <td>abatement</td>\n",
              "      <td>act of abating</td>\n",
              "      <td>A47</td>\n",
              "      <td>0.75</td>\n",
              "    </tr>\n",
              "    <tr>\n",
              "      <th>2</th>\n",
              "      <td>36d72442aefd8232</td>\n",
              "      <td>abatement</td>\n",
              "      <td>active catalyst</td>\n",
              "      <td>A47</td>\n",
              "      <td>0.25</td>\n",
              "    </tr>\n",
              "    <tr>\n",
              "      <th>3</th>\n",
              "      <td>5296b0c19e1ce60e</td>\n",
              "      <td>abatement</td>\n",
              "      <td>eliminating process</td>\n",
              "      <td>A47</td>\n",
              "      <td>0.50</td>\n",
              "    </tr>\n",
              "    <tr>\n",
              "      <th>4</th>\n",
              "      <td>54c1e3b9184cb5b6</td>\n",
              "      <td>abatement</td>\n",
              "      <td>forest region</td>\n",
              "      <td>A47</td>\n",
              "      <td>0.00</td>\n",
              "    </tr>\n",
              "    <tr>\n",
              "      <th>...</th>\n",
              "      <td>...</td>\n",
              "      <td>...</td>\n",
              "      <td>...</td>\n",
              "      <td>...</td>\n",
              "      <td>...</td>\n",
              "    </tr>\n",
              "    <tr>\n",
              "      <th>36468</th>\n",
              "      <td>8e1386cbefd7f245</td>\n",
              "      <td>wood article</td>\n",
              "      <td>wooden article</td>\n",
              "      <td>B44</td>\n",
              "      <td>1.00</td>\n",
              "    </tr>\n",
              "    <tr>\n",
              "      <th>36469</th>\n",
              "      <td>42d9e032d1cd3242</td>\n",
              "      <td>wood article</td>\n",
              "      <td>wooden box</td>\n",
              "      <td>B44</td>\n",
              "      <td>0.50</td>\n",
              "    </tr>\n",
              "    <tr>\n",
              "      <th>36470</th>\n",
              "      <td>208654ccb9e14fa3</td>\n",
              "      <td>wood article</td>\n",
              "      <td>wooden handle</td>\n",
              "      <td>B44</td>\n",
              "      <td>0.50</td>\n",
              "    </tr>\n",
              "    <tr>\n",
              "      <th>36471</th>\n",
              "      <td>756ec035e694722b</td>\n",
              "      <td>wood article</td>\n",
              "      <td>wooden material</td>\n",
              "      <td>B44</td>\n",
              "      <td>0.75</td>\n",
              "    </tr>\n",
              "    <tr>\n",
              "      <th>36472</th>\n",
              "      <td>8d135da0b55b8c88</td>\n",
              "      <td>wood article</td>\n",
              "      <td>wooden substrate</td>\n",
              "      <td>B44</td>\n",
              "      <td>0.50</td>\n",
              "    </tr>\n",
              "  </tbody>\n",
              "</table>\n",
              "<p>36473 rows × 5 columns</p>\n",
              "</div>\n",
              "      <button class=\"colab-df-convert\" onclick=\"convertToInteractive('df-41973482-84c9-4f16-b35a-447a81bc4988')\"\n",
              "              title=\"Convert this dataframe to an interactive table.\"\n",
              "              style=\"display:none;\">\n",
              "        \n",
              "  <svg xmlns=\"http://www.w3.org/2000/svg\" height=\"24px\"viewBox=\"0 0 24 24\"\n",
              "       width=\"24px\">\n",
              "    <path d=\"M0 0h24v24H0V0z\" fill=\"none\"/>\n",
              "    <path d=\"M18.56 5.44l.94 2.06.94-2.06 2.06-.94-2.06-.94-.94-2.06-.94 2.06-2.06.94zm-11 1L8.5 8.5l.94-2.06 2.06-.94-2.06-.94L8.5 2.5l-.94 2.06-2.06.94zm10 10l.94 2.06.94-2.06 2.06-.94-2.06-.94-.94-2.06-.94 2.06-2.06.94z\"/><path d=\"M17.41 7.96l-1.37-1.37c-.4-.4-.92-.59-1.43-.59-.52 0-1.04.2-1.43.59L10.3 9.45l-7.72 7.72c-.78.78-.78 2.05 0 2.83L4 21.41c.39.39.9.59 1.41.59.51 0 1.02-.2 1.41-.59l7.78-7.78 2.81-2.81c.8-.78.8-2.07 0-2.86zM5.41 20L4 18.59l7.72-7.72 1.47 1.35L5.41 20z\"/>\n",
              "  </svg>\n",
              "      </button>\n",
              "      \n",
              "  <style>\n",
              "    .colab-df-container {\n",
              "      display:flex;\n",
              "      flex-wrap:wrap;\n",
              "      gap: 12px;\n",
              "    }\n",
              "\n",
              "    .colab-df-convert {\n",
              "      background-color: #E8F0FE;\n",
              "      border: none;\n",
              "      border-radius: 50%;\n",
              "      cursor: pointer;\n",
              "      display: none;\n",
              "      fill: #1967D2;\n",
              "      height: 32px;\n",
              "      padding: 0 0 0 0;\n",
              "      width: 32px;\n",
              "    }\n",
              "\n",
              "    .colab-df-convert:hover {\n",
              "      background-color: #E2EBFA;\n",
              "      box-shadow: 0px 1px 2px rgba(60, 64, 67, 0.3), 0px 1px 3px 1px rgba(60, 64, 67, 0.15);\n",
              "      fill: #174EA6;\n",
              "    }\n",
              "\n",
              "    [theme=dark] .colab-df-convert {\n",
              "      background-color: #3B4455;\n",
              "      fill: #D2E3FC;\n",
              "    }\n",
              "\n",
              "    [theme=dark] .colab-df-convert:hover {\n",
              "      background-color: #434B5C;\n",
              "      box-shadow: 0px 1px 3px 1px rgba(0, 0, 0, 0.15);\n",
              "      filter: drop-shadow(0px 1px 2px rgba(0, 0, 0, 0.3));\n",
              "      fill: #FFFFFF;\n",
              "    }\n",
              "  </style>\n",
              "\n",
              "      <script>\n",
              "        const buttonEl =\n",
              "          document.querySelector('#df-41973482-84c9-4f16-b35a-447a81bc4988 button.colab-df-convert');\n",
              "        buttonEl.style.display =\n",
              "          google.colab.kernel.accessAllowed ? 'block' : 'none';\n",
              "\n",
              "        async function convertToInteractive(key) {\n",
              "          const element = document.querySelector('#df-41973482-84c9-4f16-b35a-447a81bc4988');\n",
              "          const dataTable =\n",
              "            await google.colab.kernel.invokeFunction('convertToInteractive',\n",
              "                                                     [key], {});\n",
              "          if (!dataTable) return;\n",
              "\n",
              "          const docLinkHtml = 'Like what you see? Visit the ' +\n",
              "            '<a target=\"_blank\" href=https://colab.research.google.com/notebooks/data_table.ipynb>data table notebook</a>'\n",
              "            + ' to learn more about interactive tables.';\n",
              "          element.innerHTML = '';\n",
              "          dataTable['output_type'] = 'display_data';\n",
              "          await google.colab.output.renderOutput(dataTable, element);\n",
              "          const docLink = document.createElement('div');\n",
              "          docLink.innerHTML = docLinkHtml;\n",
              "          element.appendChild(docLink);\n",
              "        }\n",
              "      </script>\n",
              "    </div>\n",
              "  </div>\n",
              "  "
            ]
          },
          "metadata": {},
          "execution_count": 6
        }
      ],
      "source": [
        "df = pd.read_csv(path/'train.csv')\n",
        "df"
      ]
    },
    {
      "cell_type": "markdown",
      "source": [
        "Here I am just taking some notes on a few characteristics. I see there are about 36.5K unique values, and the data seems to be in the alphabetically order for `anchor` column. "
      ],
      "metadata": {
        "id": "kCec_te0s4mJ"
      }
    },
    {
      "cell_type": "code",
      "execution_count": null,
      "metadata": {
        "colab": {
          "base_uri": "https://localhost:8080/",
          "height": 1000
        },
        "id": "wthbD0ubnSb9",
        "outputId": "c5872b61-2737-404f-e35f-0a53241572f5"
      },
      "outputs": [
        {
          "output_type": "execute_result",
          "data": {
            "text/plain": [
              "                  id                       anchor  \\\n",
              "0   4112d61851461f60                     opc drum   \n",
              "1   09e418c93a776564              adjust gas flow   \n",
              "2   36baf228038e314b               lower trunnion   \n",
              "3   1f37ead645e7f0c8                cap component   \n",
              "4   71a5b6ad068d531f           neural stimulation   \n",
              "5   474c874d0c07bd21                     dry corn   \n",
              "6   442c114ed5c4e3c9          tunneling capacitor   \n",
              "7   b8ae62ea5e1d8bdb      angular contact bearing   \n",
              "8   faaddaf8fcba8a3f  produce liquid hydrocarbons   \n",
              "9   ae0262c02566d2ce             diesel fuel tank   \n",
              "10  a8808e31641e856d            chemical activity   \n",
              "11  16ae4b99d3601e60         transmit to platform   \n",
              "12  25c555ca3d5a2092                  oil tankers   \n",
              "13  5203a36c501f1b7c            generate in layer   \n",
              "14  b9fdc772bb8fd61c                 slip segment   \n",
              "15  7aa5908a77a7ec24                   el display   \n",
              "16  d19ef3979396d47e              overflow device   \n",
              "17  fd83613b7843f5e1     beam traveling direction   \n",
              "18  2a619016908bfa45                   el display   \n",
              "19  733979d75f59770d               equipment unit   \n",
              "20  6546846df17f9800                   halocarbyl   \n",
              "21  3ff0e7a35015be69         perfluoroalkyl group   \n",
              "22  12ca31f018a2e2b9          speed control means   \n",
              "23  03ba802ed4029e4d                   arm design   \n",
              "24  c404f8b378cbb008               hybrid bearing   \n",
              "25  78243984c02a72e4                     end pins   \n",
              "26  de51114bc0faec3e             organic starting   \n",
              "27  7e3aff857f056bf9                make of slabs   \n",
              "28  26c3c6dc6174b589                   seal teeth   \n",
              "29  b892011ab2e2cabc            carry by platform   \n",
              "30  8247ff562ca185cc                        polls   \n",
              "31  c057aecbba832387              upper clamp arm   \n",
              "32  9f2279ce667b21dc              clocked storage   \n",
              "33  b9ea2b06a878df6f              coupling factor   \n",
              "34  79795133c30ef097       different conductivity   \n",
              "35  25522ee5411e63e9               hybrid bearing   \n",
              "\n",
              "                           target context  \n",
              "0   inorganic photoconductor drum     G02  \n",
              "1               altering gas flow     F23  \n",
              "2                  lower locating     B60  \n",
              "3                   upper portion     D06  \n",
              "4       artificial neural network     H04  \n",
              "5                 dry corn starch     C12  \n",
              "6               capacitor housing     G11  \n",
              "7       contact therapy radiation     B23  \n",
              "8        produce a treated stream     C10  \n",
              "9               diesel fuel tanks     F02  \n",
              "10     dielectric characteristics     B01  \n",
              "11               direct receiving     H04  \n",
              "12                   oil carriers     B63  \n",
              "13              generate by layer     G02  \n",
              "14                   slip portion     B22  \n",
              "15                   illumination     G02  \n",
              "16                     oil filler     E04  \n",
              "17                  concrete beam     H05  \n",
              "18             electroluminescent     C23  \n",
              "19                power detection     H02  \n",
              "20      halogen addition reaction     C07  \n",
              "21                        hydroxy     A63  \n",
              "22                   control loop     G05  \n",
              "23                    steel plate     F16  \n",
              "24                 bearing system     F04  \n",
              "25                       end days     A44  \n",
              "26                organic farming     B61  \n",
              "27                    making cake     E04  \n",
              "28                teeth whitening     F01  \n",
              "29              carry on platform     B60  \n",
              "30                 pooling device     B21  \n",
              "31                     end visual     A61  \n",
              "32         clocked storage device     G01  \n",
              "33                turns impedance     G01  \n",
              "34               carrier polarity     H03  \n",
              "35            corrosion resistant     F16  "
            ],
            "text/html": [
              "\n",
              "  <div id=\"df-45d3348c-452b-479f-b23f-f7ade8f11b14\">\n",
              "    <div class=\"colab-df-container\">\n",
              "      <div>\n",
              "<style scoped>\n",
              "    .dataframe tbody tr th:only-of-type {\n",
              "        vertical-align: middle;\n",
              "    }\n",
              "\n",
              "    .dataframe tbody tr th {\n",
              "        vertical-align: top;\n",
              "    }\n",
              "\n",
              "    .dataframe thead th {\n",
              "        text-align: right;\n",
              "    }\n",
              "</style>\n",
              "<table border=\"1\" class=\"dataframe\">\n",
              "  <thead>\n",
              "    <tr style=\"text-align: right;\">\n",
              "      <th></th>\n",
              "      <th>id</th>\n",
              "      <th>anchor</th>\n",
              "      <th>target</th>\n",
              "      <th>context</th>\n",
              "    </tr>\n",
              "  </thead>\n",
              "  <tbody>\n",
              "    <tr>\n",
              "      <th>0</th>\n",
              "      <td>4112d61851461f60</td>\n",
              "      <td>opc drum</td>\n",
              "      <td>inorganic photoconductor drum</td>\n",
              "      <td>G02</td>\n",
              "    </tr>\n",
              "    <tr>\n",
              "      <th>1</th>\n",
              "      <td>09e418c93a776564</td>\n",
              "      <td>adjust gas flow</td>\n",
              "      <td>altering gas flow</td>\n",
              "      <td>F23</td>\n",
              "    </tr>\n",
              "    <tr>\n",
              "      <th>2</th>\n",
              "      <td>36baf228038e314b</td>\n",
              "      <td>lower trunnion</td>\n",
              "      <td>lower locating</td>\n",
              "      <td>B60</td>\n",
              "    </tr>\n",
              "    <tr>\n",
              "      <th>3</th>\n",
              "      <td>1f37ead645e7f0c8</td>\n",
              "      <td>cap component</td>\n",
              "      <td>upper portion</td>\n",
              "      <td>D06</td>\n",
              "    </tr>\n",
              "    <tr>\n",
              "      <th>4</th>\n",
              "      <td>71a5b6ad068d531f</td>\n",
              "      <td>neural stimulation</td>\n",
              "      <td>artificial neural network</td>\n",
              "      <td>H04</td>\n",
              "    </tr>\n",
              "    <tr>\n",
              "      <th>5</th>\n",
              "      <td>474c874d0c07bd21</td>\n",
              "      <td>dry corn</td>\n",
              "      <td>dry corn starch</td>\n",
              "      <td>C12</td>\n",
              "    </tr>\n",
              "    <tr>\n",
              "      <th>6</th>\n",
              "      <td>442c114ed5c4e3c9</td>\n",
              "      <td>tunneling capacitor</td>\n",
              "      <td>capacitor housing</td>\n",
              "      <td>G11</td>\n",
              "    </tr>\n",
              "    <tr>\n",
              "      <th>7</th>\n",
              "      <td>b8ae62ea5e1d8bdb</td>\n",
              "      <td>angular contact bearing</td>\n",
              "      <td>contact therapy radiation</td>\n",
              "      <td>B23</td>\n",
              "    </tr>\n",
              "    <tr>\n",
              "      <th>8</th>\n",
              "      <td>faaddaf8fcba8a3f</td>\n",
              "      <td>produce liquid hydrocarbons</td>\n",
              "      <td>produce a treated stream</td>\n",
              "      <td>C10</td>\n",
              "    </tr>\n",
              "    <tr>\n",
              "      <th>9</th>\n",
              "      <td>ae0262c02566d2ce</td>\n",
              "      <td>diesel fuel tank</td>\n",
              "      <td>diesel fuel tanks</td>\n",
              "      <td>F02</td>\n",
              "    </tr>\n",
              "    <tr>\n",
              "      <th>10</th>\n",
              "      <td>a8808e31641e856d</td>\n",
              "      <td>chemical activity</td>\n",
              "      <td>dielectric characteristics</td>\n",
              "      <td>B01</td>\n",
              "    </tr>\n",
              "    <tr>\n",
              "      <th>11</th>\n",
              "      <td>16ae4b99d3601e60</td>\n",
              "      <td>transmit to platform</td>\n",
              "      <td>direct receiving</td>\n",
              "      <td>H04</td>\n",
              "    </tr>\n",
              "    <tr>\n",
              "      <th>12</th>\n",
              "      <td>25c555ca3d5a2092</td>\n",
              "      <td>oil tankers</td>\n",
              "      <td>oil carriers</td>\n",
              "      <td>B63</td>\n",
              "    </tr>\n",
              "    <tr>\n",
              "      <th>13</th>\n",
              "      <td>5203a36c501f1b7c</td>\n",
              "      <td>generate in layer</td>\n",
              "      <td>generate by layer</td>\n",
              "      <td>G02</td>\n",
              "    </tr>\n",
              "    <tr>\n",
              "      <th>14</th>\n",
              "      <td>b9fdc772bb8fd61c</td>\n",
              "      <td>slip segment</td>\n",
              "      <td>slip portion</td>\n",
              "      <td>B22</td>\n",
              "    </tr>\n",
              "    <tr>\n",
              "      <th>15</th>\n",
              "      <td>7aa5908a77a7ec24</td>\n",
              "      <td>el display</td>\n",
              "      <td>illumination</td>\n",
              "      <td>G02</td>\n",
              "    </tr>\n",
              "    <tr>\n",
              "      <th>16</th>\n",
              "      <td>d19ef3979396d47e</td>\n",
              "      <td>overflow device</td>\n",
              "      <td>oil filler</td>\n",
              "      <td>E04</td>\n",
              "    </tr>\n",
              "    <tr>\n",
              "      <th>17</th>\n",
              "      <td>fd83613b7843f5e1</td>\n",
              "      <td>beam traveling direction</td>\n",
              "      <td>concrete beam</td>\n",
              "      <td>H05</td>\n",
              "    </tr>\n",
              "    <tr>\n",
              "      <th>18</th>\n",
              "      <td>2a619016908bfa45</td>\n",
              "      <td>el display</td>\n",
              "      <td>electroluminescent</td>\n",
              "      <td>C23</td>\n",
              "    </tr>\n",
              "    <tr>\n",
              "      <th>19</th>\n",
              "      <td>733979d75f59770d</td>\n",
              "      <td>equipment unit</td>\n",
              "      <td>power detection</td>\n",
              "      <td>H02</td>\n",
              "    </tr>\n",
              "    <tr>\n",
              "      <th>20</th>\n",
              "      <td>6546846df17f9800</td>\n",
              "      <td>halocarbyl</td>\n",
              "      <td>halogen addition reaction</td>\n",
              "      <td>C07</td>\n",
              "    </tr>\n",
              "    <tr>\n",
              "      <th>21</th>\n",
              "      <td>3ff0e7a35015be69</td>\n",
              "      <td>perfluoroalkyl group</td>\n",
              "      <td>hydroxy</td>\n",
              "      <td>A63</td>\n",
              "    </tr>\n",
              "    <tr>\n",
              "      <th>22</th>\n",
              "      <td>12ca31f018a2e2b9</td>\n",
              "      <td>speed control means</td>\n",
              "      <td>control loop</td>\n",
              "      <td>G05</td>\n",
              "    </tr>\n",
              "    <tr>\n",
              "      <th>23</th>\n",
              "      <td>03ba802ed4029e4d</td>\n",
              "      <td>arm design</td>\n",
              "      <td>steel plate</td>\n",
              "      <td>F16</td>\n",
              "    </tr>\n",
              "    <tr>\n",
              "      <th>24</th>\n",
              "      <td>c404f8b378cbb008</td>\n",
              "      <td>hybrid bearing</td>\n",
              "      <td>bearing system</td>\n",
              "      <td>F04</td>\n",
              "    </tr>\n",
              "    <tr>\n",
              "      <th>25</th>\n",
              "      <td>78243984c02a72e4</td>\n",
              "      <td>end pins</td>\n",
              "      <td>end days</td>\n",
              "      <td>A44</td>\n",
              "    </tr>\n",
              "    <tr>\n",
              "      <th>26</th>\n",
              "      <td>de51114bc0faec3e</td>\n",
              "      <td>organic starting</td>\n",
              "      <td>organic farming</td>\n",
              "      <td>B61</td>\n",
              "    </tr>\n",
              "    <tr>\n",
              "      <th>27</th>\n",
              "      <td>7e3aff857f056bf9</td>\n",
              "      <td>make of slabs</td>\n",
              "      <td>making cake</td>\n",
              "      <td>E04</td>\n",
              "    </tr>\n",
              "    <tr>\n",
              "      <th>28</th>\n",
              "      <td>26c3c6dc6174b589</td>\n",
              "      <td>seal teeth</td>\n",
              "      <td>teeth whitening</td>\n",
              "      <td>F01</td>\n",
              "    </tr>\n",
              "    <tr>\n",
              "      <th>29</th>\n",
              "      <td>b892011ab2e2cabc</td>\n",
              "      <td>carry by platform</td>\n",
              "      <td>carry on platform</td>\n",
              "      <td>B60</td>\n",
              "    </tr>\n",
              "    <tr>\n",
              "      <th>30</th>\n",
              "      <td>8247ff562ca185cc</td>\n",
              "      <td>polls</td>\n",
              "      <td>pooling device</td>\n",
              "      <td>B21</td>\n",
              "    </tr>\n",
              "    <tr>\n",
              "      <th>31</th>\n",
              "      <td>c057aecbba832387</td>\n",
              "      <td>upper clamp arm</td>\n",
              "      <td>end visual</td>\n",
              "      <td>A61</td>\n",
              "    </tr>\n",
              "    <tr>\n",
              "      <th>32</th>\n",
              "      <td>9f2279ce667b21dc</td>\n",
              "      <td>clocked storage</td>\n",
              "      <td>clocked storage device</td>\n",
              "      <td>G01</td>\n",
              "    </tr>\n",
              "    <tr>\n",
              "      <th>33</th>\n",
              "      <td>b9ea2b06a878df6f</td>\n",
              "      <td>coupling factor</td>\n",
              "      <td>turns impedance</td>\n",
              "      <td>G01</td>\n",
              "    </tr>\n",
              "    <tr>\n",
              "      <th>34</th>\n",
              "      <td>79795133c30ef097</td>\n",
              "      <td>different conductivity</td>\n",
              "      <td>carrier polarity</td>\n",
              "      <td>H03</td>\n",
              "    </tr>\n",
              "    <tr>\n",
              "      <th>35</th>\n",
              "      <td>25522ee5411e63e9</td>\n",
              "      <td>hybrid bearing</td>\n",
              "      <td>corrosion resistant</td>\n",
              "      <td>F16</td>\n",
              "    </tr>\n",
              "  </tbody>\n",
              "</table>\n",
              "</div>\n",
              "      <button class=\"colab-df-convert\" onclick=\"convertToInteractive('df-45d3348c-452b-479f-b23f-f7ade8f11b14')\"\n",
              "              title=\"Convert this dataframe to an interactive table.\"\n",
              "              style=\"display:none;\">\n",
              "        \n",
              "  <svg xmlns=\"http://www.w3.org/2000/svg\" height=\"24px\"viewBox=\"0 0 24 24\"\n",
              "       width=\"24px\">\n",
              "    <path d=\"M0 0h24v24H0V0z\" fill=\"none\"/>\n",
              "    <path d=\"M18.56 5.44l.94 2.06.94-2.06 2.06-.94-2.06-.94-.94-2.06-.94 2.06-2.06.94zm-11 1L8.5 8.5l.94-2.06 2.06-.94-2.06-.94L8.5 2.5l-.94 2.06-2.06.94zm10 10l.94 2.06.94-2.06 2.06-.94-2.06-.94-.94-2.06-.94 2.06-2.06.94z\"/><path d=\"M17.41 7.96l-1.37-1.37c-.4-.4-.92-.59-1.43-.59-.52 0-1.04.2-1.43.59L10.3 9.45l-7.72 7.72c-.78.78-.78 2.05 0 2.83L4 21.41c.39.39.9.59 1.41.59.51 0 1.02-.2 1.41-.59l7.78-7.78 2.81-2.81c.8-.78.8-2.07 0-2.86zM5.41 20L4 18.59l7.72-7.72 1.47 1.35L5.41 20z\"/>\n",
              "  </svg>\n",
              "      </button>\n",
              "      \n",
              "  <style>\n",
              "    .colab-df-container {\n",
              "      display:flex;\n",
              "      flex-wrap:wrap;\n",
              "      gap: 12px;\n",
              "    }\n",
              "\n",
              "    .colab-df-convert {\n",
              "      background-color: #E8F0FE;\n",
              "      border: none;\n",
              "      border-radius: 50%;\n",
              "      cursor: pointer;\n",
              "      display: none;\n",
              "      fill: #1967D2;\n",
              "      height: 32px;\n",
              "      padding: 0 0 0 0;\n",
              "      width: 32px;\n",
              "    }\n",
              "\n",
              "    .colab-df-convert:hover {\n",
              "      background-color: #E2EBFA;\n",
              "      box-shadow: 0px 1px 2px rgba(60, 64, 67, 0.3), 0px 1px 3px 1px rgba(60, 64, 67, 0.15);\n",
              "      fill: #174EA6;\n",
              "    }\n",
              "\n",
              "    [theme=dark] .colab-df-convert {\n",
              "      background-color: #3B4455;\n",
              "      fill: #D2E3FC;\n",
              "    }\n",
              "\n",
              "    [theme=dark] .colab-df-convert:hover {\n",
              "      background-color: #434B5C;\n",
              "      box-shadow: 0px 1px 3px 1px rgba(0, 0, 0, 0.15);\n",
              "      filter: drop-shadow(0px 1px 2px rgba(0, 0, 0, 0.3));\n",
              "      fill: #FFFFFF;\n",
              "    }\n",
              "  </style>\n",
              "\n",
              "      <script>\n",
              "        const buttonEl =\n",
              "          document.querySelector('#df-45d3348c-452b-479f-b23f-f7ade8f11b14 button.colab-df-convert');\n",
              "        buttonEl.style.display =\n",
              "          google.colab.kernel.accessAllowed ? 'block' : 'none';\n",
              "\n",
              "        async function convertToInteractive(key) {\n",
              "          const element = document.querySelector('#df-45d3348c-452b-479f-b23f-f7ade8f11b14');\n",
              "          const dataTable =\n",
              "            await google.colab.kernel.invokeFunction('convertToInteractive',\n",
              "                                                     [key], {});\n",
              "          if (!dataTable) return;\n",
              "\n",
              "          const docLinkHtml = 'Like what you see? Visit the ' +\n",
              "            '<a target=\"_blank\" href=https://colab.research.google.com/notebooks/data_table.ipynb>data table notebook</a>'\n",
              "            + ' to learn more about interactive tables.';\n",
              "          element.innerHTML = '';\n",
              "          dataTable['output_type'] = 'display_data';\n",
              "          await google.colab.output.renderOutput(dataTable, element);\n",
              "          const docLink = document.createElement('div');\n",
              "          docLink.innerHTML = docLinkHtml;\n",
              "          element.appendChild(docLink);\n",
              "        }\n",
              "      </script>\n",
              "    </div>\n",
              "  </div>\n",
              "  "
            ]
          },
          "metadata": {},
          "execution_count": 7
        }
      ],
      "source": [
        "eval_df = pd.read_csv(path/'test.csv')\n",
        "eval_df"
      ]
    },
    {
      "cell_type": "markdown",
      "source": [
        "For test data, I don't quite see any alphabetical order or `anchor` column. Maybe when I am training the data, I think I should change the alphabetical order part. "
      ],
      "metadata": {
        "id": "dg6U7g6AtSdv"
      }
    },
    {
      "cell_type": "markdown",
      "source": [
        "Okay now let me explore the training data to get some idea on the features of data. Knolwedge on this part will be helpful to come up with how to divide the data etc. "
      ],
      "metadata": {
        "id": "Sfvyqpw8ttpK"
      }
    },
    {
      "cell_type": "code",
      "execution_count": null,
      "metadata": {
        "colab": {
          "base_uri": "https://localhost:8080/"
        },
        "id": "YYT5gQfPnaJv",
        "outputId": "ae770d48-369c-423a-f957-4594959be6b6"
      },
      "outputs": [
        {
          "output_type": "execute_result",
          "data": {
            "text/plain": [
              "composition                    24\n",
              "data                           22\n",
              "metal                          22\n",
              "motor                          22\n",
              "assembly                       21\n",
              "                               ..\n",
              "switching switch over valve     1\n",
              "switching switch off valve      1\n",
              "switching over valve            1\n",
              "switching off valve             1\n",
              "wooden substrate                1\n",
              "Name: target, Length: 29340, dtype: int64"
            ]
          },
          "metadata": {},
          "execution_count": 8
        }
      ],
      "source": [
        "df.target.value_counts() #check the distribution of the data as it can be helpful to decide how to split the data. "
      ]
    },
    {
      "cell_type": "markdown",
      "source": [],
      "metadata": {
        "id": "ywGOfIkRuAvx"
      }
    },
    {
      "cell_type": "code",
      "execution_count": null,
      "metadata": {
        "colab": {
          "base_uri": "https://localhost:8080/"
        },
        "id": "fyz8UKcnnkcQ",
        "outputId": "0c53c1e9-d411-4bfe-f064-8e4340b3d1c7"
      },
      "outputs": [
        {
          "output_type": "execute_result",
          "data": {
            "text/plain": [
              "component composite coating              152\n",
              "sheet supply roller                      150\n",
              "source voltage                           140\n",
              "perfluoroalkyl group                     136\n",
              "el display                               135\n",
              "                                        ... \n",
              "plug nozzle                                2\n",
              "shannon                                    2\n",
              "dry coating composition1                   2\n",
              "peripheral nervous system stimulation      1\n",
              "conduct conducting material                1\n",
              "Name: anchor, Length: 733, dtype: int64"
            ]
          },
          "metadata": {},
          "execution_count": 9
        }
      ],
      "source": [
        "df.anchor.value_counts()"
      ]
    },
    {
      "cell_type": "code",
      "execution_count": null,
      "metadata": {
        "colab": {
          "base_uri": "https://localhost:8080/"
        },
        "id": "Cs1-4zAMnxou",
        "outputId": "8efa1636-db7f-45ce-b3cd-dc2bbfc8f167"
      },
      "outputs": [
        {
          "output_type": "execute_result",
          "data": {
            "text/plain": [
              "H01    2186\n",
              "H04    2177\n",
              "G01    1812\n",
              "A61    1477\n",
              "F16    1091\n",
              "       ... \n",
              "B03      47\n",
              "F17      33\n",
              "B31      24\n",
              "A62      23\n",
              "F26      18\n",
              "Name: context, Length: 106, dtype: int64"
            ]
          },
          "metadata": {},
          "execution_count": 10
        }
      ],
      "source": [
        "df.context.value_counts()"
      ]
    },
    {
      "cell_type": "code",
      "execution_count": null,
      "metadata": {
        "colab": {
          "base_uri": "https://localhost:8080/"
        },
        "id": "_KEFW0Iun5B5",
        "outputId": "b9ce9446-dedf-459d-a3ac-35b44913c9f3"
      },
      "outputs": [
        {
          "output_type": "execute_result",
          "data": {
            "text/plain": [
              "0        A\n",
              "1        A\n",
              "2        A\n",
              "3        A\n",
              "4        A\n",
              "        ..\n",
              "36468    B\n",
              "36469    B\n",
              "36470    B\n",
              "36471    B\n",
              "36472    B\n",
              "Name: section, Length: 36473, dtype: object"
            ]
          },
          "metadata": {},
          "execution_count": 11
        }
      ],
      "source": [
        "df['section'] = df.context.str[0]\n",
        "df['section']"
      ]
    },
    {
      "cell_type": "code",
      "execution_count": null,
      "metadata": {
        "colab": {
          "base_uri": "https://localhost:8080/"
        },
        "id": "QyhU7M6poGkC",
        "outputId": "19d2c073-2189-4ee4-fe50-f13124114e84"
      },
      "outputs": [
        {
          "output_type": "execute_result",
          "data": {
            "text/plain": [
              "B    8019\n",
              "H    6195\n",
              "G    6013\n",
              "C    5288\n",
              "A    4094\n",
              "F    4054\n",
              "E    1531\n",
              "D    1279\n",
              "Name: section, dtype: int64"
            ]
          },
          "metadata": {},
          "execution_count": 12
        }
      ],
      "source": [
        "df.section.value_counts() #It seems likely that these sections might be useful, since they've got quite a bit more data in each."
      ]
    },
    {
      "cell_type": "code",
      "execution_count": null,
      "metadata": {
        "colab": {
          "base_uri": "https://localhost:8080/",
          "height": 447
        },
        "id": "MKuW9AceoKUZ",
        "outputId": "522ab53e-0588-4b56-9c2f-844b47713299"
      },
      "outputs": [
        {
          "output_type": "execute_result",
          "data": {
            "text/plain": [
              "<Axes: >"
            ]
          },
          "metadata": {},
          "execution_count": 13
        },
        {
          "output_type": "display_data",
          "data": {
            "text/plain": [
              "<Figure size 640x480 with 1 Axes>"
            ],
            "image/png": "[encoded data removed]"
          },
          "metadata": {}
        }
      ],
      "source": [
        "df.score.hist()"
      ]
    },
    {
      "cell_type": "code",
      "execution_count": null,
      "metadata": {
        "colab": {
          "base_uri": "https://localhost:8080/",
          "height": 423
        },
        "id": "rcsjqfnXoOPm",
        "outputId": "4c132a42-30b9-47b9-97e9-03a35f79d161"
      },
      "outputs": [
        {
          "output_type": "execute_result",
          "data": {
            "text/plain": [
              "                     id                anchor                     target  \\\n",
              "28     473137168ebf7484             abatement                    abating   \n",
              "158    621b048d70aa8867  absorbent properties  absorbent characteristics   \n",
              "161    bc20a1c961cb073a  absorbent properties      absorption properties   \n",
              "311    e955700dffd68624       acid absorption         absorption of acid   \n",
              "315    3a09aba546aac675       acid absorption            acid absorption   \n",
              "...                 ...                   ...                        ...   \n",
              "36398  913141526432f1d6         wiring trough             wiring troughs   \n",
              "36435  ee0746f2a8ecef97          wood article              wood articles   \n",
              "36440  ecaf479135cf0dfd          wood article             wooden article   \n",
              "36464  8ceaa2b5c2d56250          wood article               wood article   \n",
              "36468  8e1386cbefd7f245          wood article             wooden article   \n",
              "\n",
              "      context  score section  \n",
              "28        F24    1.0       F  \n",
              "158       D01    1.0       D  \n",
              "161       D01    1.0       D  \n",
              "311       B08    1.0       B  \n",
              "315       B08    1.0       B  \n",
              "...       ...    ...     ...  \n",
              "36398     F16    1.0       F  \n",
              "36435     B05    1.0       B  \n",
              "36440     B05    1.0       B  \n",
              "36464     B44    1.0       B  \n",
              "36468     B44    1.0       B  \n",
              "\n",
              "[1154 rows x 6 columns]"
            ],
            "text/html": [
              "\n",
              "  <div id=\"df-c1855b7c-a937-4f3e-ae26-677c477b1d9d\">\n",
              "    <div class=\"colab-df-container\">\n",
              "      <div>\n",
              "<style scoped>\n",
              "    .dataframe tbody tr th:only-of-type {\n",
              "        vertical-align: middle;\n",
              "    }\n",
              "\n",
              "    .dataframe tbody tr th {\n",
              "        vertical-align: top;\n",
              "    }\n",
              "\n",
              "    .dataframe thead th {\n",
              "        text-align: right;\n",
              "    }\n",
              "</style>\n",
              "<table border=\"1\" class=\"dataframe\">\n",
              "  <thead>\n",
              "    <tr style=\"text-align: right;\">\n",
              "      <th></th>\n",
              "      <th>id</th>\n",
              "      <th>anchor</th>\n",
              "      <th>target</th>\n",
              "      <th>context</th>\n",
              "      <th>score</th>\n",
              "      <th>section</th>\n",
              "    </tr>\n",
              "  </thead>\n",
              "  <tbody>\n",
              "    <tr>\n",
              "      <th>28</th>\n",
              "      <td>473137168ebf7484</td>\n",
              "      <td>abatement</td>\n",
              "      <td>abating</td>\n",
              "      <td>F24</td>\n",
              "      <td>1.0</td>\n",
              "      <td>F</td>\n",
              "    </tr>\n",
              "    <tr>\n",
              "      <th>158</th>\n",
              "      <td>621b048d70aa8867</td>\n",
              "      <td>absorbent properties</td>\n",
              "      <td>absorbent characteristics</td>\n",
              "      <td>D01</td>\n",
              "      <td>1.0</td>\n",
              "      <td>D</td>\n",
              "    </tr>\n",
              "    <tr>\n",
              "      <th>161</th>\n",
              "      <td>bc20a1c961cb073a</td>\n",
              "      <td>absorbent properties</td>\n",
              "      <td>absorption properties</td>\n",
              "      <td>D01</td>\n",
              "      <td>1.0</td>\n",
              "      <td>D</td>\n",
              "    </tr>\n",
              "    <tr>\n",
              "      <th>311</th>\n",
              "      <td>e955700dffd68624</td>\n",
              "      <td>acid absorption</td>\n",
              "      <td>absorption of acid</td>\n",
              "      <td>B08</td>\n",
              "      <td>1.0</td>\n",
              "      <td>B</td>\n",
              "    </tr>\n",
              "    <tr>\n",
              "      <th>315</th>\n",
              "      <td>3a09aba546aac675</td>\n",
              "      <td>acid absorption</td>\n",
              "      <td>acid absorption</td>\n",
              "      <td>B08</td>\n",
              "      <td>1.0</td>\n",
              "      <td>B</td>\n",
              "    </tr>\n",
              "    <tr>\n",
              "      <th>...</th>\n",
              "      <td>...</td>\n",
              "      <td>...</td>\n",
              "      <td>...</td>\n",
              "      <td>...</td>\n",
              "      <td>...</td>\n",
              "      <td>...</td>\n",
              "    </tr>\n",
              "    <tr>\n",
              "      <th>36398</th>\n",
              "      <td>913141526432f1d6</td>\n",
              "      <td>wiring trough</td>\n",
              "      <td>wiring troughs</td>\n",
              "      <td>F16</td>\n",
              "      <td>1.0</td>\n",
              "      <td>F</td>\n",
              "    </tr>\n",
              "    <tr>\n",
              "      <th>36435</th>\n",
              "      <td>ee0746f2a8ecef97</td>\n",
              "      <td>wood article</td>\n",
              "      <td>wood articles</td>\n",
              "      <td>B05</td>\n",
              "      <td>1.0</td>\n",
              "      <td>B</td>\n",
              "    </tr>\n",
              "    <tr>\n",
              "      <th>36440</th>\n",
              "      <td>ecaf479135cf0dfd</td>\n",
              "      <td>wood article</td>\n",
              "      <td>wooden article</td>\n",
              "      <td>B05</td>\n",
              "      <td>1.0</td>\n",
              "      <td>B</td>\n",
              "    </tr>\n",
              "    <tr>\n",
              "      <th>36464</th>\n",
              "      <td>8ceaa2b5c2d56250</td>\n",
              "      <td>wood article</td>\n",
              "      <td>wood article</td>\n",
              "      <td>B44</td>\n",
              "      <td>1.0</td>\n",
              "      <td>B</td>\n",
              "    </tr>\n",
              "    <tr>\n",
              "      <th>36468</th>\n",
              "      <td>8e1386cbefd7f245</td>\n",
              "      <td>wood article</td>\n",
              "      <td>wooden article</td>\n",
              "      <td>B44</td>\n",
              "      <td>1.0</td>\n",
              "      <td>B</td>\n",
              "    </tr>\n",
              "  </tbody>\n",
              "</table>\n",
              "<p>1154 rows × 6 columns</p>\n",
              "</div>\n",
              "      <button class=\"colab-df-convert\" onclick=\"convertToInteractive('df-c1855b7c-a937-4f3e-ae26-677c477b1d9d')\"\n",
              "              title=\"Convert this dataframe to an interactive table.\"\n",
              "              style=\"display:none;\">\n",
              "        \n",
              "  <svg xmlns=\"http://www.w3.org/2000/svg\" height=\"24px\"viewBox=\"0 0 24 24\"\n",
              "       width=\"24px\">\n",
              "    <path d=\"M0 0h24v24H0V0z\" fill=\"none\"/>\n",
              "    <path d=\"M18.56 5.44l.94 2.06.94-2.06 2.06-.94-2.06-.94-.94-2.06-.94 2.06-2.06.94zm-11 1L8.5 8.5l.94-2.06 2.06-.94-2.06-.94L8.5 2.5l-.94 2.06-2.06.94zm10 10l.94 2.06.94-2.06 2.06-.94-2.06-.94-.94-2.06-.94 2.06-2.06.94z\"/><path d=\"M17.41 7.96l-1.37-1.37c-.4-.4-.92-.59-1.43-.59-.52 0-1.04.2-1.43.59L10.3 9.45l-7.72 7.72c-.78.78-.78 2.05 0 2.83L4 21.41c.39.39.9.59 1.41.59.51 0 1.02-.2 1.41-.59l7.78-7.78 2.81-2.81c.8-.78.8-2.07 0-2.86zM5.41 20L4 18.59l7.72-7.72 1.47 1.35L5.41 20z\"/>\n",
              "  </svg>\n",
              "      </button>\n",
              "      \n",
              "  <style>\n",
              "    .colab-df-container {\n",
              "      display:flex;\n",
              "      flex-wrap:wrap;\n",
              "      gap: 12px;\n",
              "    }\n",
              "\n",
              "    .colab-df-convert {\n",
              "      background-color: #E8F0FE;\n",
              "      border: none;\n",
              "      border-radius: 50%;\n",
              "      cursor: pointer;\n",
              "      display: none;\n",
              "      fill: #1967D2;\n",
              "      height: 32px;\n",
              "      padding: 0 0 0 0;\n",
              "      width: 32px;\n",
              "    }\n",
              "\n",
              "    .colab-df-convert:hover {\n",
              "      background-color: #E2EBFA;\n",
              "      box-shadow: 0px 1px 2px rgba(60, 64, 67, 0.3), 0px 1px 3px 1px rgba(60, 64, 67, 0.15);\n",
              "      fill: #174EA6;\n",
              "    }\n",
              "\n",
              "    [theme=dark] .colab-df-convert {\n",
              "      background-color: #3B4455;\n",
              "      fill: #D2E3FC;\n",
              "    }\n",
              "\n",
              "    [theme=dark] .colab-df-convert:hover {\n",
              "      background-color: #434B5C;\n",
              "      box-shadow: 0px 1px 3px 1px rgba(0, 0, 0, 0.15);\n",
              "      filter: drop-shadow(0px 1px 2px rgba(0, 0, 0, 0.3));\n",
              "      fill: #FFFFFF;\n",
              "    }\n",
              "  </style>\n",
              "\n",
              "      <script>\n",
              "        const buttonEl =\n",
              "          document.querySelector('#df-c1855b7c-a937-4f3e-ae26-677c477b1d9d button.colab-df-convert');\n",
              "        buttonEl.style.display =\n",
              "          google.colab.kernel.accessAllowed ? 'block' : 'none';\n",
              "\n",
              "        async function convertToInteractive(key) {\n",
              "          const element = document.querySelector('#df-c1855b7c-a937-4f3e-ae26-677c477b1d9d');\n",
              "          const dataTable =\n",
              "            await google.colab.kernel.invokeFunction('convertToInteractive',\n",
              "                                                     [key], {});\n",
              "          if (!dataTable) return;\n",
              "\n",
              "          const docLinkHtml = 'Like what you see? Visit the ' +\n",
              "            '<a target=\"_blank\" href=https://colab.research.google.com/notebooks/data_table.ipynb>data table notebook</a>'\n",
              "            + ' to learn more about interactive tables.';\n",
              "          element.innerHTML = '';\n",
              "          dataTable['output_type'] = 'display_data';\n",
              "          await google.colab.output.renderOutput(dataTable, element);\n",
              "          const docLink = document.createElement('div');\n",
              "          docLink.innerHTML = docLinkHtml;\n",
              "          element.appendChild(docLink);\n",
              "        }\n",
              "      </script>\n",
              "    </div>\n",
              "  </div>\n",
              "  "
            ]
          },
          "metadata": {},
          "execution_count": 14
        }
      ],
      "source": [
        "df[df.score==1]"
      ]
    },
    {
      "cell_type": "markdown",
      "source": [
        "Aight good enough with exploring the data. Let's now train tehe model with the data. To do so, I am going to use the hugging face transfomrers. And transformers work well with datasets."
      ],
      "metadata": {
        "id": "FU3YjtU2uRHu"
      }
    },
    {
      "cell_type": "code",
      "execution_count": null,
      "metadata": {
        "colab": {
          "base_uri": "https://localhost:8080/"
        },
        "id": "pNOH3U7XqLW5",
        "outputId": "5b078d5e-df94-4f2e-b802-0d08a5866dcc"
      },
      "outputs": [
        {
          "output_type": "stream",
          "name": "stdout",
          "text": [
            "Looking in indexes: https://pypi.org/simple, https://us-python.pkg.dev/colab-wheels/public/simple/\n",
            "Requirement already satisfied: datasets in /usr/local/lib/python3.10/dist-packages (2.12.0)\n",
            "Requirement already satisfied: transformers in /usr/local/lib/python3.10/dist-packages (4.29.1)\n",
            "Requirement already satisfied: numpy>=1.17 in /usr/local/lib/python3.10/dist-packages (from datasets) (1.22.4)\n",
            "Requirement already satisfied: pyarrow>=8.0.0 in /usr/local/lib/python3.10/dist-packages (from datasets) (9.0.0)\n",
            "Requirement already satisfied: dill<0.3.7,>=0.3.0 in /usr/local/lib/python3.10/dist-packages (from datasets) (0.3.6)\n",
            "Requirement already satisfied: pandas in /usr/local/lib/python3.10/dist-packages (from datasets) (1.5.3)\n",
            "Requirement already satisfied: requests>=2.19.0 in /usr/local/lib/python3.10/dist-packages (from datasets) (2.27.1)\n",
            "Requirement already satisfied: tqdm>=4.62.1 in /usr/local/lib/python3.10/dist-packages (from datasets) (4.65.0)\n",
            "Requirement already satisfied: xxhash in /usr/local/lib/python3.10/dist-packages (from datasets) (3.2.0)\n",
            "Requirement already satisfied: multiprocess in /usr/local/lib/python3.10/dist-packages (from datasets) (0.70.14)\n",
            "Requirement already satisfied: fsspec[http]>=2021.11.1 in /usr/local/lib/python3.10/dist-packages (from datasets) (2023.4.0)\n",
            "Requirement already satisfied: aiohttp in /usr/local/lib/python3.10/dist-packages (from datasets) (3.8.4)\n",
            "Requirement already satisfied: huggingface-hub<1.0.0,>=0.11.0 in /usr/local/lib/python3.10/dist-packages (from datasets) (0.14.1)\n",
            "Requirement already satisfied: packaging in /usr/local/lib/python3.10/dist-packages (from datasets) (23.1)\n",
            "Requirement already satisfied: responses<0.19 in /usr/local/lib/python3.10/dist-packages (from datasets) (0.18.0)\n",
            "Requirement already satisfied: pyyaml>=5.1 in /usr/local/lib/python3.10/dist-packages (from datasets) (6.0)\n",
            "Requirement already satisfied: filelock in /usr/local/lib/python3.10/dist-packages (from transformers) (3.12.0)\n",
            "Requirement already satisfied: regex!=2019.12.17 in /usr/local/lib/python3.10/dist-packages (from transformers) (2022.10.31)\n",
            "Requirement already satisfied: tokenizers!=0.11.3,<0.14,>=0.11.1 in /usr/local/lib/python3.10/dist-packages (from transformers) (0.13.3)\n",
            "Requirement already satisfied: attrs>=17.3.0 in /usr/local/lib/python3.10/dist-packages (from aiohttp->datasets) (23.1.0)\n",
            "Requirement already satisfied: charset-normalizer<4.0,>=2.0 in /usr/local/lib/python3.10/dist-packages (from aiohttp->datasets) (2.0.12)\n",
            "Requirement already satisfied: multidict<7.0,>=4.5 in /usr/local/lib/python3.10/dist-packages (from aiohttp->datasets) (6.0.4)\n",
            "Requirement already satisfied: async-timeout<5.0,>=4.0.0a3 in /usr/local/lib/python3.10/dist-packages (from aiohttp->datasets) (4.0.2)\n",
            "Requirement already satisfied: yarl<2.0,>=1.0 in /usr/local/lib/python3.10/dist-packages (from aiohttp->datasets) (1.9.2)\n",
            "Requirement already satisfied: frozenlist>=1.1.1 in /usr/local/lib/python3.10/dist-packages (from aiohttp->datasets) (1.3.3)\n",
            "Requirement already satisfied: aiosignal>=1.1.2 in /usr/local/lib/python3.10/dist-packages (from aiohttp->datasets) (1.3.1)\n",
            "Requirement already satisfied: typing-extensions>=3.7.4.3 in /usr/local/lib/python3.10/dist-packages (from huggingface-hub<1.0.0,>=0.11.0->datasets) (4.5.0)\n",
            "Requirement already satisfied: urllib3<1.27,>=1.21.1 in /usr/local/lib/python3.10/dist-packages (from requests>=2.19.0->datasets) (1.26.15)\n",
            "Requirement already satisfied: certifi>=2017.4.17 in /usr/local/lib/python3.10/dist-packages (from requests>=2.19.0->datasets) (2022.12.7)\n",
            "Requirement already satisfied: idna<4,>=2.5 in /usr/local/lib/python3.10/dist-packages (from requests>=2.19.0->datasets) (3.4)\n",
            "Requirement already satisfied: python-dateutil>=2.8.1 in /usr/local/lib/python3.10/dist-packages (from pandas->datasets) (2.8.2)\n",
            "Requirement already satisfied: pytz>=2020.1 in /usr/local/lib/python3.10/dist-packages (from pandas->datasets) (2022.7.1)\n",
            "Requirement already satisfied: six>=1.5 in /usr/local/lib/python3.10/dist-packages (from python-dateutil>=2.8.1->pandas->datasets) (1.16.0)\n"
          ]
        }
      ],
      "source": [
        "!pip install datasets transformers"
      ]
    },
    {
      "cell_type": "code",
      "execution_count": null,
      "metadata": {
        "id": "KCPTL7YioSvP"
      },
      "outputs": [],
      "source": [
        "from transformers import TrainingArguments,Trainer\n",
        "from transformers import AutoModelForSequenceClassification,AutoTokenizer"
      ]
    },
    {
      "cell_type": "code",
      "execution_count": null,
      "metadata": {
        "id": "eodfvs5jrfas"
      },
      "outputs": [],
      "source": [
        "model_nm = 'microsoft/deberta-v3-small'"
      ]
    },
    {
      "cell_type": "code",
      "execution_count": null,
      "metadata": {
        "colab": {
          "base_uri": "https://localhost:8080/"
        },
        "id": "RB49-ISOsXXh",
        "outputId": "f4dc22ff-083a-4a67-ca5b-ba8503170fa4"
      },
      "outputs": [
        {
          "output_type": "stream",
          "name": "stdout",
          "text": [
            "Looking in indexes: https://pypi.org/simple, https://us-python.pkg.dev/colab-wheels/public/simple/\n",
            "Requirement already satisfied: sentencepiece in /usr/local/lib/python3.10/dist-packages (0.1.99)\n"
          ]
        }
      ],
      "source": [
        "!pip install sentencepiece #https://github.com/huggingface/transformers/issues/9750 & restart the runtime"
      ]
    },
    {
      "cell_type": "code",
      "execution_count": null,
      "metadata": {
        "colab": {
          "base_uri": "https://localhost:8080/"
        },
        "id": "oz1uYcqlrnCV",
        "outputId": "fdb0df17-02e6-412e-82e9-063d55cf563e"
      },
      "outputs": [
        {
          "output_type": "stream",
          "name": "stderr",
          "text": [
            "Special tokens have been added in the vocabulary, make sure the associated word embeddings are fine-tuned or trained.\n",
            "/usr/local/lib/python3.10/dist-packages/transformers/convert_slow_tokenizer.py:454: UserWarning: The sentencepiece tokenizer that you are converting to a fast tokenizer uses the byte fallback option which is not implemented in the fast tokenizers. In practice this means that the fast version of the tokenizer can produce unknown tokens whereas the sentencepiece version would have converted these unknown tokens into a sequence of byte tokens matching the original piece of text.\n",
            "  warnings.warn(\n",
            "Special tokens have been added in the vocabulary, make sure the associated word embeddings are fine-tuned or trained.\n"
          ]
        }
      ],
      "source": [
        "tokz =AutoTokenizer.from_pretrained(model_nm)"
      ]
    },
    {
      "cell_type": "code",
      "source": [
        "type(tokz)"
      ],
      "metadata": {
        "colab": {
          "base_uri": "https://localhost:8080/"
        },
        "id": "PRbsGRoNvlGY",
        "outputId": "76eef316-dd0e-4481-f1ef-c4729bd1bbdd"
      },
      "execution_count": null,
      "outputs": [
        {
          "output_type": "execute_result",
          "data": {
            "text/plain": [
              "transformers.models.deberta_v2.tokenization_deberta_v2_fast.DebertaV2TokenizerFast"
            ]
          },
          "metadata": {},
          "execution_count": 20
        }
      ]
    },
    {
      "cell_type": "code",
      "execution_count": null,
      "metadata": {
        "colab": {
          "base_uri": "https://localhost:8080/"
        },
        "id": "kgwGhxBdtEeC",
        "outputId": "16a381a7-2e36-4995-9116-978d06d177bf"
      },
      "outputs": [
        {
          "output_type": "execute_result",
          "data": {
            "text/plain": [
              "['▁hi']"
            ]
          },
          "metadata": {},
          "execution_count": 21
        }
      ],
      "source": [
        "tokz.tokenize(\"hi\") # this is to show how to pass a string to tokenize it."
      ]
    },
    {
      "cell_type": "code",
      "source": [
        "tokz(\"hi\") # when you pass an input to the tokenizer, it returns a dic with some data. "
      ],
      "metadata": {
        "colab": {
          "base_uri": "https://localhost:8080/"
        },
        "id": "bFuKpg-KvDcD",
        "outputId": "35fe0c06-79dd-4dfa-f469-5690d4c4e21f"
      },
      "execution_count": null,
      "outputs": [
        {
          "output_type": "execute_result",
          "data": {
            "text/plain": [
              "{'input_ids': [1, 8595, 2], 'token_type_ids': [0, 0, 0], 'attention_mask': [1, 1, 1]}"
            ]
          },
          "metadata": {},
          "execution_count": 22
        }
      ]
    },
    {
      "cell_type": "code",
      "source": [
        "tokz.vocab['▁hi'] #you can use input_ids value to find the corresponding numerical value for a token."
      ],
      "metadata": {
        "colab": {
          "base_uri": "https://localhost:8080/"
        },
        "id": "PXBLxZ6vvT-p",
        "outputId": "552ffeac-6ace-4afa-e14a-248edea86b5d"
      },
      "execution_count": null,
      "outputs": [
        {
          "output_type": "execute_result",
          "data": {
            "text/plain": [
              "8595"
            ]
          },
          "metadata": {},
          "execution_count": 23
        }
      ]
    },
    {
      "cell_type": "markdown",
      "metadata": {
        "id": "5lD9b0OttIom"
      },
      "source": [
        "Now we have a tokenizer for deberta model, let's transform our data that is consumable by HuggingFace transformers. "
      ]
    },
    {
      "cell_type": "markdown",
      "metadata": {
        "id": "zax2g-uuttU0"
      },
      "source": [
        "Step 1: convert the data into number. \n",
        "\n"
      ]
    },
    {
      "cell_type": "code",
      "execution_count": null,
      "metadata": {
        "id": "wcCWjoCft4Kj"
      },
      "outputs": [],
      "source": [
        "sep = tokz.sep_token"
      ]
    },
    {
      "cell_type": "code",
      "execution_count": null,
      "metadata": {
        "id": "sPmabti0t-kE"
      },
      "outputs": [],
      "source": [
        "df['inputs'] = df.context + sep + df.anchor + sep + df.target"
      ]
    },
    {
      "cell_type": "markdown",
      "metadata": {
        "id": "3l-Qb-hVuEwZ"
      },
      "source": [
        "Changing PanDas DataFrames to HuggingFace Datasets as it is more performant. I think next time reading the csv direclty as a dataset makes more sense. "
      ]
    },
    {
      "cell_type": "code",
      "execution_count": null,
      "metadata": {
        "id": "HdvDG6rdp_ER"
      },
      "outputs": [],
      "source": [
        "import datasets\n",
        "from datasets import Dataset"
      ]
    },
    {
      "cell_type": "code",
      "execution_count": null,
      "metadata": {
        "id": "dkVEjOaKuTaD"
      },
      "outputs": [],
      "source": [
        "ds = Dataset.from_pandas(df).rename_column('score', 'label') #datasets of the training data. \n",
        "eval_ds = Dataset.from_pandas(eval_df) #dataset for evaluation. "
      ]
    },
    {
      "cell_type": "code",
      "execution_count": null,
      "metadata": {
        "id": "O5crAMRBrQdR"
      },
      "outputs": [],
      "source": [
        "def tok_func(x): return tokz(x[\"inputs\"])"
      ]
    },
    {
      "cell_type": "code",
      "execution_count": null,
      "metadata": {
        "colab": {
          "base_uri": "https://localhost:8080/"
        },
        "id": "IOvnumMwut-s",
        "outputId": "17ad526c-3de5-44f9-acb0-daecd08a1e3d"
      },
      "outputs": [
        {
          "output_type": "execute_result",
          "data": {
            "text/plain": [
              "{'id': '37d61fd2272659b1',\n",
              " 'anchor': 'abatement',\n",
              " 'target': 'abatement of pollution',\n",
              " 'context': 'A47',\n",
              " 'label': 0.5,\n",
              " 'section': 'A',\n",
              " 'inputs': 'A47[SEP]abatement[SEP]abatement of pollution'}"
            ]
          },
          "metadata": {},
          "execution_count": 29
        }
      ],
      "source": [
        "ds[0]"
      ]
    },
    {
      "cell_type": "code",
      "execution_count": null,
      "metadata": {
        "colab": {
          "base_uri": "https://localhost:8080/"
        },
        "id": "_hhSjBWluu9g",
        "outputId": "cc723d55-4ee9-4a59-a05f-c55dbf23256d"
      },
      "outputs": [
        {
          "output_type": "execute_result",
          "data": {
            "text/plain": [
              "{'input_ids': [1, 336, 5753, 2, 47284, 2, 47284, 265, 6435, 2], 'token_type_ids': [0, 0, 0, 0, 0, 0, 0, 0, 0, 0], 'attention_mask': [1, 1, 1, 1, 1, 1, 1, 1, 1, 1]}"
            ]
          },
          "metadata": {},
          "execution_count": 30
        }
      ],
      "source": [
        "tok_func(ds[0])"
      ]
    },
    {
      "cell_type": "code",
      "execution_count": null,
      "metadata": {
        "colab": {
          "base_uri": "https://localhost:8080/"
        },
        "id": "mpoj_t-nuy6S",
        "outputId": "29941166-6fc7-4315-c2c8-3530eebcba08"
      },
      "outputs": [
        {
          "output_type": "execute_result",
          "data": {
            "text/plain": [
              "['[CLS]', '[SEP]', '[UNK]', '[PAD]', '[MASK]']"
            ]
          },
          "metadata": {},
          "execution_count": 31
        }
      ],
      "source": [
        "tokz.all_special_tokens"
      ]
    },
    {
      "cell_type": "code",
      "execution_count": null,
      "metadata": {
        "id": "HG7sZVcbu2Go"
      },
      "outputs": [],
      "source": [
        "inps = \"anchor\", \"target\", \"context\", \"section\", \"inputs\", \"id\""
      ]
    },
    {
      "cell_type": "code",
      "execution_count": null,
      "metadata": {
        "colab": {
          "base_uri": "https://localhost:8080/",
          "height": 17,
          "referenced_widgets": [
            "055a688e036e4097a265b768277cfbcd",
            "bbaf7a2d084c4bf287296c3c8e3ce0d3",
            "1c420d336ff8402493c2100a9dcbd4f9",
            "96e768d5681b4d15a8c6e18aef68bb12",
            "92539726eb21466ab9af6305833a1d50",
            "d9f7c042d7df47d0a043c6cb5f97c676",
            "727beec4ebb14019b050b8b4c5e9cd43",
            "075606869b944fc9b89273405e257555",
            "839550a73a074f39a13ff909984b38ad",
            "f82e75489dcd414e94ff1b8dc948354a",
            "f9aa2753994d49b3a42fc435e3f63a64"
          ]
        },
        "id": "P4F62nJOu83g",
        "outputId": "b8915243-7f0b-4432-a430-c56132cd7ca7"
      },
      "outputs": [
        {
          "output_type": "display_data",
          "data": {
            "text/plain": [
              "Map:   0%|          | 0/36473 [00:00<?, ? examples/s]"
            ],
            "application/vnd.jupyter.widget-view+json": {
              "version_major": 2,
              "version_minor": 0,
              "model_id": "055a688e036e4097a265b768277cfbcd"
            }
          },
          "metadata": {}
        }
      ],
      "source": [
        "tok_ds = ds.map(tok_func, batched=True, remove_columns = inps)"
      ]
    },
    {
      "cell_type": "code",
      "execution_count": null,
      "metadata": {
        "colab": {
          "base_uri": "https://localhost:8080/"
        },
        "id": "AYcsWpdAvud4",
        "outputId": "4601bb73-636a-4e79-8d53-3d216e22c61d"
      },
      "outputs": [
        {
          "output_type": "execute_result",
          "data": {
            "text/plain": [
              "Dataset({\n",
              "    features: ['label', 'input_ids', 'token_type_ids', 'attention_mask'],\n",
              "    num_rows: 36473\n",
              "})"
            ]
          },
          "metadata": {},
          "execution_count": 34
        }
      ],
      "source": [
        "tok_ds # this is the tokenized training data. "
      ]
    },
    {
      "cell_type": "code",
      "execution_count": null,
      "metadata": {
        "id": "YYDxCqib1s-4"
      },
      "outputs": [],
      "source": [
        "#tok_ds.select([0])"
      ]
    },
    {
      "cell_type": "code",
      "execution_count": null,
      "metadata": {
        "id": "hfIIBwzevw3q"
      },
      "outputs": [],
      "source": [
        "#tok_ds[0]"
      ]
    },
    {
      "cell_type": "markdown",
      "source": [
        "Now we are done with representing our input as numbers. Then now let's explore how to split the training data into the data for training and the data for validation. "
      ],
      "metadata": {
        "id": "lTnTygFawaQQ"
      }
    },
    {
      "cell_type": "code",
      "execution_count": null,
      "metadata": {
        "colab": {
          "base_uri": "https://localhost:8080/"
        },
        "id": "lPHF3q_4vzoe",
        "outputId": "2f5e6227-f91a-4052-85d1-7c9d3bfa0bbc"
      },
      "outputs": [
        {
          "output_type": "execute_result",
          "data": {
            "text/plain": [
              "733"
            ]
          },
          "metadata": {},
          "execution_count": 37
        }
      ],
      "source": [
        "anchors = df.anchor.unique()\n",
        "len(anchors)"
      ]
    },
    {
      "cell_type": "code",
      "source": [
        "targets = df.target.unique()\n",
        "len(targets)"
      ],
      "metadata": {
        "colab": {
          "base_uri": "https://localhost:8080/"
        },
        "id": "P8O0b_Faw6_b",
        "outputId": "49259b4e-1d4d-4685-ecb5-b5ac44c3c9bf"
      },
      "execution_count": null,
      "outputs": [
        {
          "output_type": "execute_result",
          "data": {
            "text/plain": [
              "29340"
            ]
          },
          "metadata": {},
          "execution_count": 38
        }
      ]
    },
    {
      "cell_type": "code",
      "source": [
        "type(anchors), type(targets)"
      ],
      "metadata": {
        "colab": {
          "base_uri": "https://localhost:8080/"
        },
        "id": "OiUgGYq8zNwB",
        "outputId": "ae6ef475-94fc-4710-8506-0723672ef427"
      },
      "execution_count": null,
      "outputs": [
        {
          "output_type": "execute_result",
          "data": {
            "text/plain": [
              "(numpy.ndarray, numpy.ndarray)"
            ]
          },
          "metadata": {},
          "execution_count": 39
        }
      ]
    },
    {
      "cell_type": "code",
      "source": [
        "anchors[:5], targets[:5]"
      ],
      "metadata": {
        "colab": {
          "base_uri": "https://localhost:8080/"
        },
        "id": "TZpM9WVvxUsJ",
        "outputId": "c8728a9a-f915-4b22-bcc1-b551a1dd5870"
      },
      "execution_count": null,
      "outputs": [
        {
          "output_type": "execute_result",
          "data": {
            "text/plain": [
              "(array(['abatement', 'abnormal position', 'absorbent properties', 'acan',\n",
              "        'accept information'], dtype=object),\n",
              " array(['abatement of pollution', 'act of abating', 'active catalyst',\n",
              "        'eliminating process', 'forest region'], dtype=object))"
            ]
          },
          "metadata": {},
          "execution_count": 40
        }
      ]
    },
    {
      "cell_type": "code",
      "execution_count": null,
      "metadata": {
        "id": "o2JNl-JVw8KS"
      },
      "outputs": [],
      "source": [
        "np.random.seed(42)"
      ]
    },
    {
      "cell_type": "code",
      "execution_count": null,
      "metadata": {
        "id": "SCJ2RfjsxJIW"
      },
      "outputs": [],
      "source": [
        "np.random.shuffle(anchors)\n",
        "np.random.shuffle(targets)"
      ]
    },
    {
      "cell_type": "code",
      "execution_count": null,
      "metadata": {
        "colab": {
          "base_uri": "https://localhost:8080/"
        },
        "id": "LkeM5mwVxL1K",
        "outputId": "bc471578-9a48-4d47-c77e-4c0dfb8fb519"
      },
      "outputs": [
        {
          "output_type": "execute_result",
          "data": {
            "text/plain": [
              "(array(['time digital signal', 'antiatherosclerotic', 'filled interior',\n",
              "        'dispersed powder', 'locking formation'], dtype=object),\n",
              " array(['project onto exterior', 'display map', 'actuator operatively',\n",
              "        'closed terrarium layers', 'image detection'], dtype=object))"
            ]
          },
          "metadata": {},
          "execution_count": 43
        }
      ],
      "source": [
        "anchors[:5], targets[:5] # verify that it is shuffled now."
      ]
    },
    {
      "cell_type": "markdown",
      "source": [
        "Let's use 25% of the training data as the validation data set. "
      ],
      "metadata": {
        "id": "DdmzHCROyZW_"
      }
    },
    {
      "cell_type": "code",
      "execution_count": null,
      "metadata": {
        "id": "62q1ki_VxbbI",
        "colab": {
          "base_uri": "https://localhost:8080/"
        },
        "outputId": "e26ac519-6bef-49e1-d039-24e57bec4e9c"
      },
      "outputs": [
        {
          "output_type": "execute_result",
          "data": {
            "text/plain": [
              "(183, 7335)"
            ]
          },
          "metadata": {},
          "execution_count": 44
        }
      ],
      "source": [
        "val_prop = 0.25\n",
        "val_sz_anchors = int(len(anchors)*val_prop) #this gives us the index that we can use for anchors. \n",
        "val_sz_targets = int(len(targets)*val_prop) # this gives us the index that we can sue for targets. \n",
        "val_sz_anchors, val_sz_targets"
      ]
    },
    {
      "cell_type": "code",
      "execution_count": null,
      "metadata": {
        "id": "iWpEBi89xqI-"
      },
      "outputs": [],
      "source": [
        "val_anchors = anchors[:val_sz_anchors] # this is the list of anchor value that I am going to use for the validation set. \n",
        "val_targets = targets[:val_sz_targets] # this is the list of target value that I am going to use for the validation set."
      ]
    },
    {
      "cell_type": "code",
      "execution_count": null,
      "metadata": {
        "id": "pRcazB09zBZb"
      },
      "outputs": [],
      "source": [
        "is_val_anchors = np.isin(df.anchor, val_anchors) #is the data in val_anchors in the df.anchor? If so we are not going to use it for training. \n",
        "is_val_targets = np.isin(df.target, val_targets)\n",
        "#is_val_anchors is the list whose size is the same as the training data. But it contains the values that indicate whether each anchor  is in the evaluation dataset. \n",
        "#is_valtargets is the same as is_val_anchors but use target value to check. "
      ]
    },
    {
      "cell_type": "code",
      "execution_count": null,
      "metadata": {
        "colab": {
          "base_uri": "https://localhost:8080/"
        },
        "id": "mnb29azDzYwp",
        "outputId": "4c97d151-f727-4505-f08a-317cebaf2a64"
      },
      "outputs": [
        {
          "output_type": "execute_result",
          "data": {
            "text/plain": [
              "(array([False, False, False, ..., False, False, False]),\n",
              " array([False, False, False, ..., False, False, False]))"
            ]
          },
          "metadata": {},
          "execution_count": 47
        }
      ],
      "source": [
        "is_val_anchors, is_val_targets"
      ]
    },
    {
      "cell_type": "code",
      "execution_count": null,
      "metadata": {
        "colab": {
          "base_uri": "https://localhost:8080/"
        },
        "id": "YogKDONBzZm_",
        "outputId": "8c465dbc-67e1-4df4-cf5c-0966e418a896"
      },
      "outputs": [
        {
          "output_type": "execute_result",
          "data": {
            "text/plain": [
              "(36473, 36473, 36473, 36473)"
            ]
          },
          "metadata": {},
          "execution_count": 48
        }
      ],
      "source": [
        "len(df.anchor), len(df.target), len(is_val_anchors), len(is_val_targets)"
      ]
    },
    {
      "cell_type": "code",
      "execution_count": null,
      "metadata": {
        "id": "vxVn4syczge_"
      },
      "outputs": [],
      "source": [
        "idxs = np.arange(len(df)) # create an array of index that is the same as the training data. It is to figure out indices that contain the data that I am going to use for the validation est. "
      ]
    },
    {
      "cell_type": "code",
      "execution_count": null,
      "metadata": {
        "id": "igD_tEaazsvv"
      },
      "outputs": [],
      "source": [
        "val_idxs_anchors = idxs[is_val_anchors]  \n",
        "trn_idxs_anchors = idxs[~is_val_anchors]\n",
        "val_idxs_targets = idxs[is_val_targets]\n",
        "trn_idxs_targets = idxs[~is_val_targets]"
      ]
    },
    {
      "cell_type": "code",
      "execution_count": null,
      "metadata": {
        "colab": {
          "base_uri": "https://localhost:8080/"
        },
        "id": "9No1Jpj9z3Q3",
        "outputId": "78c07eac-b164-4552-adf7-5a97a664ad45"
      },
      "outputs": [
        {
          "output_type": "execute_result",
          "data": {
            "text/plain": [
              "(array([  131,   132,   133, ..., 36414, 36415, 36416]),\n",
              " array([    3,     6,     7, ..., 36451, 36456, 36457]),\n",
              " 9116,\n",
              " 9168)"
            ]
          },
          "metadata": {},
          "execution_count": 51
        }
      ],
      "source": [
        "val_idxs_anchors, val_idxs_targets, len(val_idxs_anchors), len(val_idxs_targets)"
      ]
    },
    {
      "cell_type": "code",
      "execution_count": null,
      "metadata": {
        "colab": {
          "base_uri": "https://localhost:8080/"
        },
        "id": "9iDHJ3mr0iqv",
        "outputId": "17b5fd73-25ac-4cd4-ed45-1ae585a91884"
      },
      "outputs": [
        {
          "output_type": "execute_result",
          "data": {
            "text/plain": [
              "(array([    0,     1,     2, ..., 36470, 36471, 36472]),\n",
              " array([    0,     1,     2, ..., 36470, 36471, 36472]),\n",
              " 27357,\n",
              " 27305)"
            ]
          },
          "metadata": {},
          "execution_count": 52
        }
      ],
      "source": [
        "trn_idxs_anchors, trn_idxs_targets, len(trn_idxs_anchors), len(trn_idxs_targets)  # list of indices for training data. Slightly different based on which column I used. "
      ]
    },
    {
      "cell_type": "code",
      "execution_count": null,
      "metadata": {
        "colab": {
          "base_uri": "https://localhost:8080/"
        },
        "id": "xglIcWP70lHH",
        "outputId": "8508f763-5982-4fae-80e8-62cc7c9de7fc"
      },
      "outputs": [
        {
          "output_type": "execute_result",
          "data": {
            "text/plain": [
              "(9116, 27357)"
            ]
          },
          "metadata": {},
          "execution_count": 53
        }
      ],
      "source": [
        "len(val_idxs_anchors),len(trn_idxs_anchors)"
      ]
    },
    {
      "cell_type": "code",
      "source": [
        "len(val_idxs_targets), len(trn_idxs_targets)"
      ],
      "metadata": {
        "colab": {
          "base_uri": "https://localhost:8080/"
        },
        "id": "ZoCAoOIw0nQc",
        "outputId": "f555b1be-cecc-4763-a97e-e7600fbef2a5"
      },
      "execution_count": null,
      "outputs": [
        {
          "output_type": "execute_result",
          "data": {
            "text/plain": [
              "(9168, 27305)"
            ]
          },
          "metadata": {},
          "execution_count": 54
        }
      ]
    },
    {
      "cell_type": "markdown",
      "source": [
        "Okay now we have validation data set and training data set. To use these data sets with Huggnigface Transformers, we need to make it as DatasetDict. "
      ],
      "metadata": {
        "id": "M9ocxCJX4h4P"
      }
    },
    {
      "cell_type": "code",
      "source": [
        "from datasets import DatasetDict\n",
        "dds_anchors = DatasetDict({\n",
        "    \"train\": tok_ds.select(trn_idxs_anchors),\n",
        "    \"test\": tok_ds.select(val_idxs_anchors)\n",
        "})\n",
        "\n",
        "dds_targets = DatasetDict({\n",
        "    \"train\": tok_ds.select(trn_idxs_targets),\n",
        "    \"test\": tok_ds.select(val_idxs_targets)\n",
        "})\n",
        "\n",
        "\n",
        "dds_using_validation = DatasetDict({\n",
        "    \"train\": tok_ds.select(trn_idxs_anchors),\n",
        "    \"validation\":tok_ds.select(val_idxs_anchors)\n",
        "})\n",
        "\n",
        "dds_using_noTokenizedInput = DatasetDict({\n",
        "    \"train\":ds.select(trn_idxs_anchors),\n",
        "    \"test\":ds.select(val_idxs_anchors)\n",
        "})"
      ],
      "metadata": {
        "id": "eZxuJayU7xYE"
      },
      "execution_count": null,
      "outputs": []
    },
    {
      "cell_type": "markdown",
      "source": [
        "Now we have the dataset ready, we somehow use this data to train our model. \n",
        "\n",
        "We know we are going to use the huggingface transformer. With the transformer, to train the model, we need to create a trainer object. \n",
        "\n",
        "Let's see the definition of the train on the hugging face doc.\n"
      ],
      "metadata": {
        "id": "ajuxn7Nk93n3"
      }
    },
    {
      "cell_type": "markdown",
      "source": [
        "I think the below shows what we need to create a trainer class the best. [link](https://huggingface.co/docs/transformers/training#trainer) \n",
        "![image.png](data:image/png;base64,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)"
      ],
      "metadata": {
        "id": "zGmYwS9JANhs"
      }
    },
    {
      "cell_type": "markdown",
      "source": [
        "If you think about it, we already have values to give for these parameters. \n",
        "(1) We have a model.\n",
        "(2) We have a train_dataset.\n",
        "(3) We have a eval_dataset. \n",
        "What we don't have is something called tarining_args, and compute_metrics. Let's learn how to get these one by one. "
      ],
      "metadata": {
        "id": "JFqh0Mb9BkeR"
      }
    },
    {
      "cell_type": "markdown",
      "source": [
        "First, trainging_args type is TrainingArugments. This is the class which contains all the hyperparameters you can tune as well as flags for activating different training options.\n",
        "\n",
        "For this one, i am just following what Jeremy set up with some understanding of what each field means. "
      ],
      "metadata": {
        "id": "eX1tUrfpByfF"
      }
    },
    {
      "cell_type": "code",
      "source": [
        "lr,bs = 8e-5,128 #leraning rate, and batch size.\n",
        "wd,epochs = 0.01,4 #weight decay and small epochs only for the experiment. "
      ],
      "metadata": {
        "id": "EIh5wIqwFATJ"
      },
      "execution_count": null,
      "outputs": []
    },
    {
      "cell_type": "code",
      "source": [
        "#!pip install transformers[torch]"
      ],
      "metadata": {
        "id": "QHSnJf8QJP--"
      },
      "execution_count": null,
      "outputs": []
    },
    {
      "cell_type": "code",
      "source": [
        "args = TrainingArguments('outputs', learning_rate=lr, warmup_ratio=0.1, lr_scheduler_type='cosine', fp16=True,\n",
        "        evaluation_strategy=\"epoch\", per_device_train_batch_size=bs, per_device_eval_batch_size=bs*2,\n",
        "        num_train_epochs=epochs, weight_decay=wd, report_to='none')\n",
        "model = AutoModelForSequenceClassification.from_pretrained(model_nm, num_labels=1)"
      ],
      "metadata": {
        "colab": {
          "base_uri": "https://localhost:8080/",
          "height": 156,
          "referenced_widgets": [
            "9a70d093f483403e88962e25dd87fcea",
            "a53f84c5009e48d3b3187df1d7aeef5f",
            "34b9fa50094945ca9c9d3315f0e88c60",
            "3841331a0b544060a738613104d09064",
            "beb99e0828ed4d70a4f405ad5432b5b1",
            "6c83896b60e74f0bbccc8ecdab91e06d",
            "b2033c7d369b4d88b16a45e4da9038b2",
            "45faca77fa2a4b6484f6f9e2877faa26",
            "840d08565bdb4bd494dfbac95820f7ef",
            "5fb824b407194c658d1e922608b0970d",
            "2eb41293d7c3441db9123dfc8f80f92d"
          ]
        },
        "id": "nRA-7HeYIBf5",
        "outputId": "c95b95df-0ffc-4819-8ec8-53d9c8f69b5b"
      },
      "execution_count": null,
      "outputs": [
        {
          "output_type": "display_data",
          "data": {
            "text/plain": [
              "Downloading pytorch_model.bin:   0%|          | 0.00/286M [00:00<?, ?B/s]"
            ],
            "application/vnd.jupyter.widget-view+json": {
              "version_major": 2,
              "version_minor": 0,
              "model_id": "9a70d093f483403e88962e25dd87fcea"
            }
          },
          "metadata": {}
        },
        {
          "output_type": "stream",
          "name": "stderr",
          "text": [
            "Some weights of the model checkpoint at microsoft/deberta-v3-small were not used when initializing DebertaV2ForSequenceClassification: ['mask_predictions.dense.bias', 'lm_predictions.lm_head.dense.weight', 'mask_predictions.classifier.weight', 'lm_predictions.lm_head.dense.bias', 'lm_predictions.lm_head.LayerNorm.bias', 'lm_predictions.lm_head.LayerNorm.weight', 'mask_predictions.dense.weight', 'mask_predictions.LayerNorm.weight', 'lm_predictions.lm_head.bias', 'mask_predictions.classifier.bias', 'mask_predictions.LayerNorm.bias']\n",
            "- This IS expected if you are initializing DebertaV2ForSequenceClassification from the checkpoint of a model trained on another task or with another architecture (e.g. initializing a BertForSequenceClassification model from a BertForPreTraining model).\n",
            "- This IS NOT expected if you are initializing DebertaV2ForSequenceClassification from the checkpoint of a model that you expect to be exactly identical (initializing a BertForSequenceClassification model from a BertForSequenceClassification model).\n",
            "Some weights of DebertaV2ForSequenceClassification were not initialized from the model checkpoint at microsoft/deberta-v3-small and are newly initialized: ['pooler.dense.bias', 'classifier.weight', 'classifier.bias', 'pooler.dense.weight']\n",
            "You should probably TRAIN this model on a down-stream task to be able to use it for predictions and inference.\n"
          ]
        }
      ]
    },
    {
      "cell_type": "code",
      "source": [
        "# args = TrainingArguments('outputs', \n",
        "#                          learning_rate=lr, #learning rate\n",
        "#                          warmup_ratio=0.1, #some technique. \n",
        "#                          lr_scheduler_type='cosine', # a technique wtih applying the learning rate. FastAi found this is pretty reliable. \n",
        "#                          fp16=True, #using floating 16 on GPU to improve performance\n",
        "#                          evaluation_strategy=\"epoch\", #when to do evaluation. \n",
        "#                          per_device_train_batch_size=bs, \n",
        "#                          per_device_eval_batch_size=bs*2, #no gradients are stored during the evaluation so we have more memory. \n",
        "#                          num_train_epochs=epochs, \n",
        "#                          weight_decay=wd, #technique that  helps with model generalization. \n",
        "#                          report_to='none') #if i have any integrations with ML platform? i think we can use this to reprot th results/logging. "
      ],
      "metadata": {
        "id": "oNEc0XVHE42W"
      },
      "execution_count": null,
      "outputs": []
    },
    {
      "cell_type": "markdown",
      "source": [
        "Okay now we have TrainingArguments, let's figure out how to define and get compute_metrics. \n",
        "\n",
        "Metrics is for us to use how well our model is doing. In my case, the model will calculate the similarity between targets and anchors and return the value in the format of score. And we are going to compare this result with the score that is givin in CSV file. [Question: how does the model extract anchor & target and calculate the similarity? That is still hidden. The language model is actually guessing the next word. I amde the whole column as a text including the score. OH it is basically learning the pattern and predict the score. It is not actually calculating??!!] \n",
        "\n",
        "If we go to Kaggle for this competition, the kaggle mentions that they are using Pearson correlation coefficient. (https://www.kaggle.com/competitions/us-patent-phrase-to-phrase-matching/overview/evaluation)\n",
        "\n",
        "For me, I didn't spend much time to understand the mathematical term. But I know that this value is used to show the relationship between two variables. The smaller the value is, it means two variables are not similar/related. \n",
        "\n",
        "How to calculate is handled by numpy. Numpy has corrcoef method we can use (reference). if we read the doc.. I need to pass the two variables. In my competition it is going to be 'label' column that is associated with 'input_id' (this is the expected result), and the value that was probably predicted by BERT model. I think how these values are passed is going to be figued out by huggingface transformers. I just need to define the function. "
      ],
      "metadata": {
        "id": "EaN7DIhII28K"
      }
    },
    {
      "cell_type": "code",
      "source": [
        "def corr(eval_pred): return {'pearson': np.corrcoef(*eval_pred)[0][1]} \n",
        "# what is eval_pred..? how will it look like? Let's see how transformer will extract this...? \n",
        "# ideally it will be np.corrcoef(calculatedPrediction, label)[0][1]. but somehow eval_pred will work?"
      ],
      "metadata": {
        "id": "fEx1icPBPABq"
      },
      "execution_count": null,
      "outputs": []
    },
    {
      "cell_type": "markdown",
      "source": [
        "Let's put everything together. \n",
        "\n"
      ],
      "metadata": {
        "id": "eNRefb99EXdr"
      }
    },
    {
      "cell_type": "code",
      "source": [
        "# trainer = Trainer(\n",
        "#     model= model,\n",
        "#     args = args, \n",
        "#     train_dataset = dds_anchors['train'],\n",
        "#     eval_dataset = dds_anchors['test'],\n",
        "#     tokenizer=tokz,\n",
        "#     compute_metrics = corr\n",
        "# )"
      ],
      "metadata": {
        "id": "_JStpeSyEd_j"
      },
      "execution_count": null,
      "outputs": []
    },
    {
      "cell_type": "markdown",
      "source": [
        "Let's train :) "
      ],
      "metadata": {
        "id": "ocFgSwJEJtBB"
      }
    },
    {
      "cell_type": "code",
      "execution_count": null,
      "metadata": {
        "id": "AdVlggUC0qav"
      },
      "outputs": [],
      "source": [
        "#cross validation: how to get the man of four metrics\n",
        "# when I am training the data, try it without passing the tokenizer as the datasets is already tokenized and see whether I can get the same result. \n",
        "# check datasets documentation and see whether I can pass data without processing it with the tokenizer. "
      ]
    },
    {
      "cell_type": "code",
      "source": [
        "#trainer.train()"
      ],
      "metadata": {
        "id": "aSKkLOkQJwlH"
      },
      "execution_count": null,
      "outputs": []
    },
    {
      "cell_type": "markdown",
      "source": [
        "Let's try it with dataset that is using target. \n",
        "\n"
      ],
      "metadata": {
        "id": "f0i7hfqML6l-"
      }
    },
    {
      "cell_type": "code",
      "source": [
        "trainer = Trainer(\n",
        "    model= model,\n",
        "    args = args, \n",
        "    train_dataset = dds_targets['train'],\n",
        "    eval_dataset = dds_targets['test'],\n",
        "    tokenizer=tokz,\n",
        "    compute_metrics = corr\n",
        ") # this is better"
      ],
      "metadata": {
        "id": "E5w3n3WcJxwt"
      },
      "execution_count": null,
      "outputs": []
    },
    {
      "cell_type": "code",
      "source": [
        "trainer.train()"
      ],
      "metadata": {
        "colab": {
          "base_uri": "https://localhost:8080/",
          "height": 307
        },
        "id": "4fCJZIv6KWdt",
        "outputId": "0fa927c3-b416-4f80-dbab-c0a142be5b7e"
      },
      "execution_count": null,
      "outputs": [
        {
          "output_type": "stream",
          "name": "stderr",
          "text": [
            "/usr/local/lib/python3.10/dist-packages/transformers/optimization.py:407: FutureWarning: This implementation of AdamW is deprecated and will be removed in a future version. Use the PyTorch implementation torch.optim.AdamW instead, or set `no_deprecation_warning=True` to disable this warning\n",
            "  warnings.warn(\n",
            "You're using a DebertaV2TokenizerFast tokenizer. Please note that with a fast tokenizer, using the `__call__` method is faster than using a method to encode the text followed by a call to the `pad` method to get a padded encoding.\n"
          ]
        },
        {
          "output_type": "display_data",
          "data": {
            "text/plain": [
              "<IPython.core.display.HTML object>"
            ],
            "text/html": [
              "\n",
              "    <div>\n",
              "      \n",
              "      <progress value='856' max='856' style='width:300px; height:20px; vertical-align: middle;'></progress>\n",
              "      [856/856 01:01, Epoch 4/4]\n",
              "    </div>\n",
              "    <table border=\"1\" class=\"dataframe\">\n",
              "  <thead>\n",
              " <tr style=\"text-align: left;\">\n",
              "      <th>Epoch</th>\n",
              "      <th>Training Loss</th>\n",
              "      <th>Validation Loss</th>\n",
              "      <th>Pearson</th>\n",
              "    </tr>\n",
              "  </thead>\n",
              "  <tbody>\n",
              "    <tr>\n",
              "      <td>1</td>\n",
              "      <td>No log</td>\n",
              "      <td>0.030034</td>\n",
              "      <td>0.785127</td>\n",
              "    </tr>\n",
              "    <tr>\n",
              "      <td>2</td>\n",
              "      <td>No log</td>\n",
              "      <td>0.024824</td>\n",
              "      <td>0.816296</td>\n",
              "    </tr>\n",
              "    <tr>\n",
              "      <td>3</td>\n",
              "      <td>0.034100</td>\n",
              "      <td>0.023931</td>\n",
              "      <td>0.827368</td>\n",
              "    </tr>\n",
              "    <tr>\n",
              "      <td>4</td>\n",
              "      <td>0.034100</td>\n",
              "      <td>0.023327</td>\n",
              "      <td>0.828686</td>\n",
              "    </tr>\n",
              "  </tbody>\n",
              "</table><p>"
            ]
          },
          "metadata": {}
        },
        {
          "output_type": "execute_result",
          "data": {
            "text/plain": [
              "TrainOutput(global_step=856, training_loss=0.02552469701410454, metrics={'train_runtime': 65.0893, 'train_samples_per_second': 1678.002, 'train_steps_per_second': 13.151, 'total_flos': 467284990499280.0, 'train_loss': 0.02552469701410454, 'epoch': 4.0})"
            ]
          },
          "metadata": {},
          "execution_count": 65
        }
      ]
    },
    {
      "cell_type": "code",
      "source": [
        "# trainer = Trainer(\n",
        "#     model= model,\n",
        "#     args = args, \n",
        "#     train_dataset = dds_using_validation['train'],\n",
        "#     eval_dataset = dds_using_validation['validation'],\n",
        "#     tokenizer=tokz,\n",
        "#     compute_metrics = corr\n",
        "# )\n",
        "# trainer.train() #this isn't better. "
      ],
      "metadata": {
        "id": "haADEa44MN7N"
      },
      "execution_count": null,
      "outputs": []
    },
    {
      "cell_type": "code",
      "source": [
        "# trainer = Trainer(\n",
        "#     model= model,\n",
        "#     args = args, \n",
        "#     train_dataset = dds_using_noTokenizedInput['train'],\n",
        "#     eval_dataset = dds_using_noTokenizedInput['test'],\n",
        "#     tokenizer=tokz,\n",
        "#     compute_metrics = corr\n",
        "# )\n",
        "# trainer.train() #getting errors. ValueError: You should supply an encoding or a list of encodings to this method that includes input_ids, but you \n",
        "#provided ['label']. This tells me that input_ids is an important part of it, and that's why we do tokenization. And we also pas in tokenizer as it does more magic on the input (guess)"
      ],
      "metadata": {
        "id": "snnveVqmNpvq"
      },
      "execution_count": null,
      "outputs": []
    },
    {
      "cell_type": "markdown",
      "source": [
        "I see the metric value is pretty stable, so I think now I have a good basic to start with. Let's explore a few ways to improve the restuls. We are going to experiment, and usually we change the data or model. To expedite the process, let's create functions to get the datasets andt trainer easily.\n"
      ],
      "metadata": {
        "id": "EuFg0hMdTKn9"
      }
    },
    {
      "cell_type": "code",
      "source": [
        "def get_dds(df):\n",
        "    ds = Dataset.from_pandas(df).rename_column('score', 'label')\n",
        "    tok_ds = ds.map(tok_func, batched=True, remove_columns=inps)\n",
        "    return DatasetDict({\"train\":tok_ds.select(trn_idxs_targets), \"test\": tok_ds.select(val_idxs_targets)})\n",
        "\n",
        "def get_model(): return AutoModelForSequenceClassification.from_pretrained(model_nm, num_labels=1)\n",
        "\n",
        "def get_trainer(dds, model=None):\n",
        "    if model is None: model = get_model()\n",
        "    args = TrainingArguments('outputs', learning_rate=lr, warmup_ratio=0.1, lr_scheduler_type='cosine', fp16=True,\n",
        "        evaluation_strategy=\"epoch\", per_device_train_batch_size=bs, per_device_eval_batch_size=bs*2,\n",
        "        num_train_epochs=epochs, weight_decay=wd, report_to='none')\n",
        "    return Trainer(model, args, train_dataset=dds['train'], eval_dataset=dds['test'],tokenizer=tokz, compute_metrics=corr)"
      ],
      "metadata": {
        "id": "JAD7b6aTUfVi"
      },
      "execution_count": null,
      "outputs": []
    },
    {
      "cell_type": "markdown",
      "source": [
        "For expriments, I am just going to follow Jeremy's ways as I am just learning. ( i guess trying out with target instead of anchor was my idea). I am going to still use target and let's see how the result is going to be different. "
      ],
      "metadata": {
        "id": "lSgfHUO9VLEl"
      }
    },
    {
      "cell_type": "markdown",
      "source": [
        "Idea 1: Using a different separator"
      ],
      "metadata": {
        "id": "vf4G1NrZVYOv"
      }
    },
    {
      "cell_type": "code",
      "source": [
        "sep = \" [s] \"\n",
        "df['inputs'] = df.context + sep + df.anchor + sep + df.target\n",
        "dds = get_dds(df)"
      ],
      "metadata": {
        "colab": {
          "base_uri": "https://localhost:8080/",
          "height": 17,
          "referenced_widgets": [
            "82ba27cdc8d944c7bda56d192331bb6e",
            "db377314bf564ac1b51492bb4d232703",
            "49b521493e7945b7aecbcb9bffc28643",
            "ab6191c5b10240988ac5f8e62f1a3af8",
            "ba0c5d2a1545404a987a6791d15c65f3",
            "4d5f1ce07e9e472e8076d2a1325b77df",
            "5deb133ae8cc4eefa7b2912a38026394",
            "c34ac0af463b43bc843e7ca2e0ca764e",
            "04ca7b5ac508488ca6e1eb1aa4bad25a",
            "2e9e90d660014d4a8d533ea5705f1903",
            "1b744c9ba32445bca24e25e975b861f0"
          ]
        },
        "id": "VgeKSAGeVbnB",
        "outputId": "da1876f6-2145-40c3-9076-a3167de4ddff"
      },
      "execution_count": null,
      "outputs": [
        {
          "output_type": "display_data",
          "data": {
            "text/plain": [
              "Map:   0%|          | 0/36473 [00:00<?, ? examples/s]"
            ],
            "application/vnd.jupyter.widget-view+json": {
              "version_major": 2,
              "version_minor": 0,
              "model_id": "82ba27cdc8d944c7bda56d192331bb6e"
            }
          },
          "metadata": {}
        }
      ]
    },
    {
      "cell_type": "code",
      "source": [
        "get_trainer(dds).train() #for me it is not quite better, but let's keep it."
      ],
      "metadata": {
        "colab": {
          "base_uri": "https://localhost:8080/",
          "height": 377
        },
        "id": "5Q6tSkFSVgYw",
        "outputId": "e0067d87-fd71-43ff-c3c8-fce2bcc7b9e4"
      },
      "execution_count": null,
      "outputs": [
        {
          "output_type": "stream",
          "name": "stderr",
          "text": [
            "Some weights of the model checkpoint at microsoft/deberta-v3-small were not used when initializing DebertaV2ForSequenceClassification: ['mask_predictions.dense.bias', 'lm_predictions.lm_head.dense.weight', 'mask_predictions.classifier.weight', 'lm_predictions.lm_head.dense.bias', 'lm_predictions.lm_head.LayerNorm.bias', 'lm_predictions.lm_head.LayerNorm.weight', 'mask_predictions.dense.weight', 'mask_predictions.LayerNorm.weight', 'lm_predictions.lm_head.bias', 'mask_predictions.classifier.bias', 'mask_predictions.LayerNorm.bias']\n",
            "- This IS expected if you are initializing DebertaV2ForSequenceClassification from the checkpoint of a model trained on another task or with another architecture (e.g. initializing a BertForSequenceClassification model from a BertForPreTraining model).\n",
            "- This IS NOT expected if you are initializing DebertaV2ForSequenceClassification from the checkpoint of a model that you expect to be exactly identical (initializing a BertForSequenceClassification model from a BertForSequenceClassification model).\n",
            "Some weights of DebertaV2ForSequenceClassification were not initialized from the model checkpoint at microsoft/deberta-v3-small and are newly initialized: ['pooler.dense.bias', 'classifier.weight', 'classifier.bias', 'pooler.dense.weight']\n",
            "You should probably TRAIN this model on a down-stream task to be able to use it for predictions and inference.\n",
            "/usr/local/lib/python3.10/dist-packages/transformers/optimization.py:407: FutureWarning: This implementation of AdamW is deprecated and will be removed in a future version. Use the PyTorch implementation torch.optim.AdamW instead, or set `no_deprecation_warning=True` to disable this warning\n",
            "  warnings.warn(\n"
          ]
        },
        {
          "output_type": "display_data",
          "data": {
            "text/plain": [
              "<IPython.core.display.HTML object>"
            ],
            "text/html": [
              "\n",
              "    <div>\n",
              "      \n",
              "      <progress value='856' max='856' style='width:300px; height:20px; vertical-align: middle;'></progress>\n",
              "      [856/856 01:03, Epoch 4/4]\n",
              "    </div>\n",
              "    <table border=\"1\" class=\"dataframe\">\n",
              "  <thead>\n",
              " <tr style=\"text-align: left;\">\n",
              "      <th>Epoch</th>\n",
              "      <th>Training Loss</th>\n",
              "      <th>Validation Loss</th>\n",
              "      <th>Pearson</th>\n",
              "    </tr>\n",
              "  </thead>\n",
              "  <tbody>\n",
              "    <tr>\n",
              "      <td>1</td>\n",
              "      <td>No log</td>\n",
              "      <td>0.029258</td>\n",
              "      <td>0.796114</td>\n",
              "    </tr>\n",
              "    <tr>\n",
              "      <td>2</td>\n",
              "      <td>No log</td>\n",
              "      <td>0.022912</td>\n",
              "      <td>0.822653</td>\n",
              "    </tr>\n",
              "    <tr>\n",
              "      <td>3</td>\n",
              "      <td>0.031700</td>\n",
              "      <td>0.023438</td>\n",
              "      <td>0.828892</td>\n",
              "    </tr>\n",
              "    <tr>\n",
              "      <td>4</td>\n",
              "      <td>0.031700</td>\n",
              "      <td>0.022860</td>\n",
              "      <td>0.830627</td>\n",
              "    </tr>\n",
              "  </tbody>\n",
              "</table><p>"
            ]
          },
          "metadata": {}
        },
        {
          "output_type": "execute_result",
          "data": {
            "text/plain": [
              "TrainOutput(global_step=856, training_loss=0.024062187315147615, metrics={'train_runtime': 63.896, 'train_samples_per_second': 1709.34, 'train_steps_per_second': 13.397, 'total_flos': 580318948530480.0, 'train_loss': 0.024062187315147615, 'epoch': 4.0})"
            ]
          },
          "metadata": {},
          "execution_count": 70
        }
      ]
    },
    {
      "cell_type": "markdown",
      "source": [
        "Often changing to lowercase is helpful. Let's see if that helps too:"
      ],
      "metadata": {
        "id": "KrCWeLA9WwYf"
      }
    },
    {
      "cell_type": "code",
      "source": [
        "df['inputs'] = df.inputs.str.lower()\n",
        "dds = get_dds(df)\n",
        "get_trainer(dds).train() #hmm not much bettter when I just ran the lower case without using a different sept. With different sept + lower case, I am getting pretty good reuslt but not as good as the target itself."
      ],
      "metadata": {
        "colab": {
          "base_uri": "https://localhost:8080/",
          "height": 377,
          "referenced_widgets": [
            "437a35ece544484b978987923e957ec4",
            "86d6e92b8bf044e59511848ce72ee082",
            "3948ddb0e5b04edd95ea75a5a71180bb",
            "b573d29ea56148cba0a0ad58bd685326",
            "9c3a7d98513046dfa22a39634a0f946d",
            "ef53e3edd7de4edabfbf9a7f39584d14",
            "99e44aacf6d741c2b425cb596bc8152b",
            "1a18456a59bf4657af16e5fa88934649",
            "f726df9697af4002b92552e718d41fdb",
            "fa3c40edbece4ed4a200357750ced501",
            "133dd1255426426fa380443042f9eed4"
          ]
        },
        "id": "vqjvS0Q5Vhrj",
        "outputId": "4229c5ba-781d-46e1-991e-845f2547bd32"
      },
      "execution_count": null,
      "outputs": [
        {
          "output_type": "display_data",
          "data": {
            "text/plain": [
              "Map:   0%|          | 0/36473 [00:00<?, ? examples/s]"
            ],
            "application/vnd.jupyter.widget-view+json": {
              "version_major": 2,
              "version_minor": 0,
              "model_id": "437a35ece544484b978987923e957ec4"
            }
          },
          "metadata": {}
        },
        {
          "output_type": "stream",
          "name": "stderr",
          "text": [
            "Some weights of the model checkpoint at microsoft/deberta-v3-small were not used when initializing DebertaV2ForSequenceClassification: ['mask_predictions.dense.bias', 'lm_predictions.lm_head.dense.weight', 'mask_predictions.classifier.weight', 'lm_predictions.lm_head.dense.bias', 'lm_predictions.lm_head.LayerNorm.bias', 'lm_predictions.lm_head.LayerNorm.weight', 'mask_predictions.dense.weight', 'mask_predictions.LayerNorm.weight', 'lm_predictions.lm_head.bias', 'mask_predictions.classifier.bias', 'mask_predictions.LayerNorm.bias']\n",
            "- This IS expected if you are initializing DebertaV2ForSequenceClassification from the checkpoint of a model trained on another task or with another architecture (e.g. initializing a BertForSequenceClassification model from a BertForPreTraining model).\n",
            "- This IS NOT expected if you are initializing DebertaV2ForSequenceClassification from the checkpoint of a model that you expect to be exactly identical (initializing a BertForSequenceClassification model from a BertForSequenceClassification model).\n",
            "Some weights of DebertaV2ForSequenceClassification were not initialized from the model checkpoint at microsoft/deberta-v3-small and are newly initialized: ['pooler.dense.bias', 'classifier.weight', 'classifier.bias', 'pooler.dense.weight']\n",
            "You should probably TRAIN this model on a down-stream task to be able to use it for predictions and inference.\n",
            "/usr/local/lib/python3.10/dist-packages/transformers/optimization.py:407: FutureWarning: This implementation of AdamW is deprecated and will be removed in a future version. Use the PyTorch implementation torch.optim.AdamW instead, or set `no_deprecation_warning=True` to disable this warning\n",
            "  warnings.warn(\n"
          ]
        },
        {
          "output_type": "display_data",
          "data": {
            "text/plain": [
              "<IPython.core.display.HTML object>"
            ],
            "text/html": [
              "\n",
              "    <div>\n",
              "      \n",
              "      <progress value='856' max='856' style='width:300px; height:20px; vertical-align: middle;'></progress>\n",
              "      [856/856 01:03, Epoch 4/4]\n",
              "    </div>\n",
              "    <table border=\"1\" class=\"dataframe\">\n",
              "  <thead>\n",
              " <tr style=\"text-align: left;\">\n",
              "      <th>Epoch</th>\n",
              "      <th>Training Loss</th>\n",
              "      <th>Validation Loss</th>\n",
              "      <th>Pearson</th>\n",
              "    </tr>\n",
              "  </thead>\n",
              "  <tbody>\n",
              "    <tr>\n",
              "      <td>1</td>\n",
              "      <td>No log</td>\n",
              "      <td>0.026815</td>\n",
              "      <td>0.800112</td>\n",
              "    </tr>\n",
              "    <tr>\n",
              "      <td>2</td>\n",
              "      <td>No log</td>\n",
              "      <td>0.022828</td>\n",
              "      <td>0.820041</td>\n",
              "    </tr>\n",
              "    <tr>\n",
              "      <td>3</td>\n",
              "      <td>0.031300</td>\n",
              "      <td>0.023093</td>\n",
              "      <td>0.828741</td>\n",
              "    </tr>\n",
              "    <tr>\n",
              "      <td>4</td>\n",
              "      <td>0.031300</td>\n",
              "      <td>0.022584</td>\n",
              "      <td>0.831513</td>\n",
              "    </tr>\n",
              "  </tbody>\n",
              "</table><p>"
            ]
          },
          "metadata": {}
        },
        {
          "output_type": "execute_result",
          "data": {
            "text/plain": [
              "TrainOutput(global_step=856, training_loss=0.02379544260345887, metrics={'train_runtime': 63.7424, 'train_samples_per_second': 1713.46, 'train_steps_per_second': 13.429, 'total_flos': 580318948530480.0, 'train_loss': 0.02379544260345887, 'epoch': 4.0})"
            ]
          },
          "metadata": {},
          "execution_count": 71
        }
      ]
    },
    {
      "cell_type": "markdown",
      "source": [
        "What if we made the patent section a special token? Then potentially the model might learn to recognize that different sections need to be handled in different ways."
      ],
      "metadata": {
        "id": "KNNY6CglYT2m"
      }
    },
    {
      "cell_type": "code",
      "source": [
        "df['sectok'] = '[' + df.section + ']'\n",
        "sectoks = list(df.sectok.unique())\n",
        "tokz"
      ],
      "metadata": {
        "colab": {
          "base_uri": "https://localhost:8080/"
        },
        "id": "qeMlqRQ_YX1g",
        "outputId": "c76fd18c-4875-42ca-9b50-92471e3e50c7"
      },
      "execution_count": null,
      "outputs": [
        {
          "output_type": "execute_result",
          "data": {
            "text/plain": [
              "DebertaV2TokenizerFast(name_or_path='microsoft/deberta-v3-small', vocab_size=128000, model_max_length=1000000000000000019884624838656, is_fast=True, padding_side='right', truncation_side='right', special_tokens={'bos_token': '[CLS]', 'eos_token': '[SEP]', 'unk_token': '[UNK]', 'sep_token': '[SEP]', 'pad_token': '[PAD]', 'cls_token': '[CLS]', 'mask_token': '[MASK]'}, clean_up_tokenization_spaces=True)"
            ]
          },
          "metadata": {},
          "execution_count": 72
        }
      ]
    },
    {
      "cell_type": "code",
      "source": [
        "tokz.add_special_tokens({'additional_special_tokens': sectoks})\n",
        "tokz"
      ],
      "metadata": {
        "colab": {
          "base_uri": "https://localhost:8080/"
        },
        "id": "W3glvCjZYieg",
        "outputId": "05aed6eb-efbb-4b2a-a1e7-cd466b403dbc"
      },
      "execution_count": null,
      "outputs": [
        {
          "output_type": "execute_result",
          "data": {
            "text/plain": [
              "DebertaV2TokenizerFast(name_or_path='microsoft/deberta-v3-small', vocab_size=128000, model_max_length=1000000000000000019884624838656, is_fast=True, padding_side='right', truncation_side='right', special_tokens={'bos_token': '[CLS]', 'eos_token': '[SEP]', 'unk_token': '[UNK]', 'sep_token': '[SEP]', 'pad_token': '[PAD]', 'cls_token': '[CLS]', 'mask_token': '[MASK]', 'additional_special_tokens': ['[A]', '[C]', '[F]', '[H]', '[B]', '[D]', '[E]', '[G]']}, clean_up_tokenization_spaces=True)"
            ]
          },
          "metadata": {},
          "execution_count": 73
        }
      ]
    },
    {
      "cell_type": "code",
      "source": [
        "df['inputs'] = df.sectok + sep + df.context + sep + df.anchor.str.lower() + sep + df.target\n",
        "dds = get_dds(df)"
      ],
      "metadata": {
        "colab": {
          "base_uri": "https://localhost:8080/",
          "height": 17,
          "referenced_widgets": [
            "b068406985c242feaec8bfd41c84e14c",
            "37dff66290e5459ca58974f5dcecd79c",
            "a84dd213c0624b428bd0263116e3197d",
            "fb122d6edd8242c0a97fb4af923fe69a",
            "c74374fd274545d9995b0ebc05e71faf",
            "7eaf8cadf25c4bbca80e1594a62c7520",
            "ab01fe5811c94fcda86d7f6fa6e73d9f",
            "a87fd5bd0a164f99b5646f20d97f36e7",
            "f079ca070c1142ff9ef2aa2ec9066180",
            "5477f24f93ac4dc48376540bccc23c00",
            "8080ce0516174456a66b519c41f2a38e"
          ]
        },
        "id": "2uLYyJYkYmr1",
        "outputId": "c0833434-ae1d-4877-f3d7-33c9a4b383de"
      },
      "execution_count": null,
      "outputs": [
        {
          "output_type": "display_data",
          "data": {
            "text/plain": [
              "Map:   0%|          | 0/36473 [00:00<?, ? examples/s]"
            ],
            "application/vnd.jupyter.widget-view+json": {
              "version_major": 2,
              "version_minor": 0,
              "model_id": "b068406985c242feaec8bfd41c84e14c"
            }
          },
          "metadata": {}
        }
      ]
    },
    {
      "cell_type": "markdown",
      "source": [
        "Since we've added more tokens, we need to resize the embedding matrix in the model: (not quite sure about the concept of embedding matrix)\n",
        "\n"
      ],
      "metadata": {
        "id": "SaJ7eYbHYvSC"
      }
    },
    {
      "cell_type": "code",
      "source": [
        "model = get_model()\n",
        "model.resize_token_embeddings(len(tokz))"
      ],
      "metadata": {
        "colab": {
          "base_uri": "https://localhost:8080/"
        },
        "id": "eZhqvDftY2qe",
        "outputId": "eae3141f-454a-4bfb-960a-ec4bfd443eb1"
      },
      "execution_count": null,
      "outputs": [
        {
          "output_type": "stream",
          "name": "stderr",
          "text": [
            "Some weights of the model checkpoint at microsoft/deberta-v3-small were not used when initializing DebertaV2ForSequenceClassification: ['mask_predictions.dense.bias', 'lm_predictions.lm_head.dense.weight', 'mask_predictions.classifier.weight', 'lm_predictions.lm_head.dense.bias', 'lm_predictions.lm_head.LayerNorm.bias', 'lm_predictions.lm_head.LayerNorm.weight', 'mask_predictions.dense.weight', 'mask_predictions.LayerNorm.weight', 'lm_predictions.lm_head.bias', 'mask_predictions.classifier.bias', 'mask_predictions.LayerNorm.bias']\n",
            "- This IS expected if you are initializing DebertaV2ForSequenceClassification from the checkpoint of a model trained on another task or with another architecture (e.g. initializing a BertForSequenceClassification model from a BertForPreTraining model).\n",
            "- This IS NOT expected if you are initializing DebertaV2ForSequenceClassification from the checkpoint of a model that you expect to be exactly identical (initializing a BertForSequenceClassification model from a BertForSequenceClassification model).\n",
            "Some weights of DebertaV2ForSequenceClassification were not initialized from the model checkpoint at microsoft/deberta-v3-small and are newly initialized: ['pooler.dense.bias', 'classifier.weight', 'classifier.bias', 'pooler.dense.weight']\n",
            "You should probably TRAIN this model on a down-stream task to be able to use it for predictions and inference.\n"
          ]
        },
        {
          "output_type": "execute_result",
          "data": {
            "text/plain": [
              "Embedding(128009, 768)"
            ]
          },
          "metadata": {},
          "execution_count": 75
        }
      ]
    },
    {
      "cell_type": "code",
      "source": [
        "trainer = get_trainer(dds, model=model)\n",
        "trainer.train()"
      ],
      "metadata": {
        "colab": {
          "base_uri": "https://localhost:8080/",
          "height": 290
        },
        "id": "KXt7rDmlY386",
        "outputId": "7e31a274-74f6-4992-be40-b2f86046192e"
      },
      "execution_count": null,
      "outputs": [
        {
          "output_type": "stream",
          "name": "stderr",
          "text": [
            "/usr/local/lib/python3.10/dist-packages/transformers/optimization.py:407: FutureWarning: This implementation of AdamW is deprecated and will be removed in a future version. Use the PyTorch implementation torch.optim.AdamW instead, or set `no_deprecation_warning=True` to disable this warning\n",
            "  warnings.warn(\n"
          ]
        },
        {
          "output_type": "display_data",
          "data": {
            "text/plain": [
              "<IPython.core.display.HTML object>"
            ],
            "text/html": [
              "\n",
              "    <div>\n",
              "      \n",
              "      <progress value='856' max='856' style='width:300px; height:20px; vertical-align: middle;'></progress>\n",
              "      [856/856 01:07, Epoch 4/4]\n",
              "    </div>\n",
              "    <table border=\"1\" class=\"dataframe\">\n",
              "  <thead>\n",
              " <tr style=\"text-align: left;\">\n",
              "      <th>Epoch</th>\n",
              "      <th>Training Loss</th>\n",
              "      <th>Validation Loss</th>\n",
              "      <th>Pearson</th>\n",
              "    </tr>\n",
              "  </thead>\n",
              "  <tbody>\n",
              "    <tr>\n",
              "      <td>1</td>\n",
              "      <td>No log</td>\n",
              "      <td>0.026610</td>\n",
              "      <td>0.797117</td>\n",
              "    </tr>\n",
              "    <tr>\n",
              "      <td>2</td>\n",
              "      <td>No log</td>\n",
              "      <td>0.022896</td>\n",
              "      <td>0.819984</td>\n",
              "    </tr>\n",
              "    <tr>\n",
              "      <td>3</td>\n",
              "      <td>0.031900</td>\n",
              "      <td>0.023397</td>\n",
              "      <td>0.832268</td>\n",
              "    </tr>\n",
              "    <tr>\n",
              "      <td>4</td>\n",
              "      <td>0.031900</td>\n",
              "      <td>0.022692</td>\n",
              "      <td>0.831982</td>\n",
              "    </tr>\n",
              "  </tbody>\n",
              "</table><p>"
            ]
          },
          "metadata": {}
        },
        {
          "output_type": "execute_result",
          "data": {
            "text/plain": [
              "TrainOutput(global_step=856, training_loss=0.024042385760868822, metrics={'train_runtime': 67.5633, 'train_samples_per_second': 1616.558, 'train_steps_per_second': 12.67, 'total_flos': 693352906561680.0, 'train_loss': 0.024042385760868822, 'epoch': 4.0})"
            ]
          },
          "metadata": {},
          "execution_count": 76
        }
      ]
    },
    {
      "cell_type": "markdown",
      "source": [
        "Cross-validation - not quite sure....i understood...? hope it comes up.\n"
      ],
      "metadata": {
        "id": "-dM5t6vKaUvl"
      }
    },
    {
      "cell_type": "code",
      "source": [
        "model_nm = \"anferico/bert-for-patents\"\n",
        "bs = 16\n",
        "model = get_model()\n",
        "trainer = get_trainer(dds, model=model)\n",
        "trainer.train()"
      ],
      "metadata": {
        "colab": {
          "base_uri": "https://localhost:8080/",
          "height": 1000
        },
        "id": "WD9T0s17azuv",
        "outputId": "c72a01d5-4d66-43be-a1c1-912003078c8e"
      },
      "execution_count": null,
      "outputs": [
        {
          "output_type": "stream",
          "name": "stderr",
          "text": [
            "Some weights of the model checkpoint at anferico/bert-for-patents were not used when initializing BertForSequenceClassification: ['cls.predictions.decoder.bias', 'cls.predictions.bias', 'cls.predictions.transform.dense.weight', 'cls.seq_relationship.weight', 'cls.predictions.transform.dense.bias', 'cls.predictions.transform.LayerNorm.bias', 'cls.predictions.transform.LayerNorm.weight', 'cls.predictions.decoder.weight', 'cls.seq_relationship.bias']\n",
            "- This IS expected if you are initializing BertForSequenceClassification from the checkpoint of a model trained on another task or with another architecture (e.g. initializing a BertForSequenceClassification model from a BertForPreTraining model).\n",
            "- This IS NOT expected if you are initializing BertForSequenceClassification from the checkpoint of a model that you expect to be exactly identical (initializing a BertForSequenceClassification model from a BertForSequenceClassification model).\n",
            "Some weights of BertForSequenceClassification were not initialized from the model checkpoint at anferico/bert-for-patents and are newly initialized: ['classifier.weight', 'classifier.bias']\n",
            "You should probably TRAIN this model on a down-stream task to be able to use it for predictions and inference.\n"
          ]
        },
        {
          "output_type": "display_data",
          "data": {
            "text/plain": [
              "\u001b[31m╭─\u001b[0m\u001b[31m──────────────────────────────\u001b[0m\u001b[31m \u001b[0m\u001b[1;31mTraceback \u001b[0m\u001b[1;2;31m(most recent call last)\u001b[0m\u001b[31m \u001b[0m\u001b[31m───────────────────────────────\u001b[0m\u001b[31m─╮\u001b[0m\n",
              "\u001b[31m│\u001b[0m in \u001b[92m<cell line: 4>\u001b[0m:\u001b[94m4\u001b[0m                                                                              \u001b[31m│\u001b[0m\n",
              "\u001b[31m│\u001b[0m in \u001b[92mget_trainer\u001b[0m:\u001b[94m13\u001b[0m                                                                                \u001b[31m│\u001b[0m\n",
              "\u001b[31m│\u001b[0m                                                                                                  \u001b[31m│\u001b[0m\n",
              "\u001b[31m│\u001b[0m \u001b[2;33m/usr/local/lib/python3.10/dist-packages/transformers/\u001b[0m\u001b[1;33mtrainer.py\u001b[0m:\u001b[94m335\u001b[0m in \u001b[92m__init__\u001b[0m                  \u001b[31m│\u001b[0m\n",
              "\u001b[31m│\u001b[0m                                                                                                  \u001b[31m│\u001b[0m\n",
              "\u001b[31m│\u001b[0m   \u001b[2m 332 \u001b[0m\u001b[2m│   │   │   \u001b[0margs = TrainingArguments(output_dir=output_dir)                               \u001b[31m│\u001b[0m\n",
              "\u001b[31m│\u001b[0m   \u001b[2m 333 \u001b[0m\u001b[2m│   │   \u001b[0m\u001b[96mself\u001b[0m.args = args                                                                  \u001b[31m│\u001b[0m\n",
              "\u001b[31m│\u001b[0m   \u001b[2m 334 \u001b[0m\u001b[2m│   │   \u001b[0m\u001b[2m# Seed must be set before instantiating the model when using model\u001b[0m                \u001b[31m│\u001b[0m\n",
              "\u001b[31m│\u001b[0m \u001b[31m❱ \u001b[0m 335 \u001b[2m│   │   \u001b[0menable_full_determinism(\u001b[96mself\u001b[0m.args.seed) \u001b[94mif\u001b[0m \u001b[96mself\u001b[0m.args.full_determinism \u001b[94melse\u001b[0m set_s  \u001b[31m│\u001b[0m\n",
              "\u001b[31m│\u001b[0m   \u001b[2m 336 \u001b[0m\u001b[2m│   │   \u001b[0m\u001b[96mself\u001b[0m.hp_name = \u001b[94mNone\u001b[0m                                                               \u001b[31m│\u001b[0m\n",
              "\u001b[31m│\u001b[0m   \u001b[2m 337 \u001b[0m\u001b[2m│   │   \u001b[0m\u001b[96mself\u001b[0m.deepspeed = \u001b[94mNone\u001b[0m                                                             \u001b[31m│\u001b[0m\n",
              "\u001b[31m│\u001b[0m   \u001b[2m 338 \u001b[0m\u001b[2m│   │   \u001b[0m\u001b[96mself\u001b[0m.is_in_train = \u001b[94mFalse\u001b[0m                                                          \u001b[31m│\u001b[0m\n",
              "\u001b[31m│\u001b[0m                                                                                                  \u001b[31m│\u001b[0m\n",
              "\u001b[31m│\u001b[0m \u001b[2;33m/usr/local/lib/python3.10/dist-packages/transformers/\u001b[0m\u001b[1;33mtrainer_utils.py\u001b[0m:\u001b[94m93\u001b[0m in \u001b[92mset_seed\u001b[0m             \u001b[31m│\u001b[0m\n",
              "\u001b[31m│\u001b[0m                                                                                                  \u001b[31m│\u001b[0m\n",
              "\u001b[31m│\u001b[0m   \u001b[2m 90 \u001b[0m\u001b[2m│   \u001b[0mrandom.seed(seed)                                                                      \u001b[31m│\u001b[0m\n",
              "\u001b[31m│\u001b[0m   \u001b[2m 91 \u001b[0m\u001b[2m│   \u001b[0mnp.random.seed(seed)                                                                   \u001b[31m│\u001b[0m\n",
              "\u001b[31m│\u001b[0m   \u001b[2m 92 \u001b[0m\u001b[2m│   \u001b[0m\u001b[94mif\u001b[0m is_torch_available():                                                               \u001b[31m│\u001b[0m\n",
              "\u001b[31m│\u001b[0m \u001b[31m❱ \u001b[0m 93 \u001b[2m│   │   \u001b[0mtorch.manual_seed(seed)                                                            \u001b[31m│\u001b[0m\n",
              "\u001b[31m│\u001b[0m   \u001b[2m 94 \u001b[0m\u001b[2m│   │   \u001b[0mtorch.cuda.manual_seed_all(seed)                                                   \u001b[31m│\u001b[0m\n",
              "\u001b[31m│\u001b[0m   \u001b[2m 95 \u001b[0m\u001b[2m│   │   \u001b[0m\u001b[2m# ^^ safe to call this function even if cuda is not available\u001b[0m                      \u001b[31m│\u001b[0m\n",
              "\u001b[31m│\u001b[0m   \u001b[2m 96 \u001b[0m\u001b[2m│   \u001b[0m\u001b[94mif\u001b[0m is_tf_available():                                                                  \u001b[31m│\u001b[0m\n",
              "\u001b[31m│\u001b[0m                                                                                                  \u001b[31m│\u001b[0m\n",
              "\u001b[31m│\u001b[0m \u001b[2;33m/usr/local/lib/python3.10/dist-packages/torch/\u001b[0m\u001b[1;33mrandom.py\u001b[0m:\u001b[94m40\u001b[0m in \u001b[92mmanual_seed\u001b[0m                        \u001b[31m│\u001b[0m\n",
              "\u001b[31m│\u001b[0m                                                                                                  \u001b[31m│\u001b[0m\n",
              "\u001b[31m│\u001b[0m   \u001b[2m 37 \u001b[0m\u001b[2m│   \u001b[0m\u001b[94mimport\u001b[0m \u001b[4;96mtorch\u001b[0m\u001b[4;96m.\u001b[0m\u001b[4;96mcuda\u001b[0m                                                                      \u001b[31m│\u001b[0m\n",
              "\u001b[31m│\u001b[0m   \u001b[2m 38 \u001b[0m\u001b[2m│   \u001b[0m                                                                                       \u001b[31m│\u001b[0m\n",
              "\u001b[31m│\u001b[0m   \u001b[2m 39 \u001b[0m\u001b[2m│   \u001b[0m\u001b[94mif\u001b[0m \u001b[95mnot\u001b[0m torch.cuda._is_in_bad_fork():                                                   \u001b[31m│\u001b[0m\n",
              "\u001b[31m│\u001b[0m \u001b[31m❱ \u001b[0m 40 \u001b[2m│   │   \u001b[0mtorch.cuda.manual_seed_all(seed)                                                   \u001b[31m│\u001b[0m\n",
              "\u001b[31m│\u001b[0m   \u001b[2m 41 \u001b[0m\u001b[2m│   \u001b[0m                                                                                       \u001b[31m│\u001b[0m\n",
              "\u001b[31m│\u001b[0m   \u001b[2m 42 \u001b[0m\u001b[2m│   \u001b[0m\u001b[94mimport\u001b[0m \u001b[4;96mtorch\u001b[0m\u001b[4;96m.\u001b[0m\u001b[4;96mmps\u001b[0m                                                                       \u001b[31m│\u001b[0m\n",
              "\u001b[31m│\u001b[0m   \u001b[2m 43 \u001b[0m\u001b[2m│   \u001b[0m\u001b[94mif\u001b[0m \u001b[95mnot\u001b[0m torch.mps._is_in_bad_fork():                                                    \u001b[31m│\u001b[0m\n",
              "\u001b[31m│\u001b[0m                                                                                                  \u001b[31m│\u001b[0m\n",
              "\u001b[31m│\u001b[0m \u001b[2;33m/usr/local/lib/python3.10/dist-packages/torch/cuda/\u001b[0m\u001b[1;33mrandom.py\u001b[0m:\u001b[94m113\u001b[0m in \u001b[92mmanual_seed_all\u001b[0m              \u001b[31m│\u001b[0m\n",
              "\u001b[31m│\u001b[0m                                                                                                  \u001b[31m│\u001b[0m\n",
              "\u001b[31m│\u001b[0m   \u001b[2m110 \u001b[0m\u001b[2m│   │   │   \u001b[0mdefault_generator = torch.cuda.default_generators[i]                           \u001b[31m│\u001b[0m\n",
              "\u001b[31m│\u001b[0m   \u001b[2m111 \u001b[0m\u001b[2m│   │   │   \u001b[0mdefault_generator.manual_seed(seed)                                            \u001b[31m│\u001b[0m\n",
              "\u001b[31m│\u001b[0m   \u001b[2m112 \u001b[0m\u001b[2m│   \u001b[0m                                                                                       \u001b[31m│\u001b[0m\n",
              "\u001b[31m│\u001b[0m \u001b[31m❱ \u001b[0m113 \u001b[2m│   \u001b[0m_lazy_call(cb, seed_all=\u001b[94mTrue\u001b[0m)                                                          \u001b[31m│\u001b[0m\n",
              "\u001b[31m│\u001b[0m   \u001b[2m114 \u001b[0m                                                                                           \u001b[31m│\u001b[0m\n",
              "\u001b[31m│\u001b[0m   \u001b[2m115 \u001b[0m                                                                                           \u001b[31m│\u001b[0m\n",
              "\u001b[31m│\u001b[0m   \u001b[2m116 \u001b[0m\u001b[94mdef\u001b[0m \u001b[92mseed\u001b[0m() -> \u001b[94mNone\u001b[0m:                                                                        \u001b[31m│\u001b[0m\n",
              "\u001b[31m│\u001b[0m                                                                                                  \u001b[31m│\u001b[0m\n",
              "\u001b[31m│\u001b[0m \u001b[2;33m/usr/local/lib/python3.10/dist-packages/torch/cuda/\u001b[0m\u001b[1;33m__init__.py\u001b[0m:\u001b[94m183\u001b[0m in \u001b[92m_lazy_call\u001b[0m                 \u001b[31m│\u001b[0m\n",
              "\u001b[31m│\u001b[0m                                                                                                  \u001b[31m│\u001b[0m\n",
              "\u001b[31m│\u001b[0m   \u001b[2m 180 \u001b[0m                                                                                          \u001b[31m│\u001b[0m\n",
              "\u001b[31m│\u001b[0m   \u001b[2m 181 \u001b[0m\u001b[94mdef\u001b[0m \u001b[92m_lazy_call\u001b[0m(callable, **kwargs):                                                       \u001b[31m│\u001b[0m\n",
              "\u001b[31m│\u001b[0m   \u001b[2m 182 \u001b[0m\u001b[2m│   \u001b[0m\u001b[94mif\u001b[0m is_initialized():                                                                  \u001b[31m│\u001b[0m\n",
              "\u001b[31m│\u001b[0m \u001b[31m❱ \u001b[0m 183 \u001b[2m│   │   \u001b[0mcallable()                                                                        \u001b[31m│\u001b[0m\n",
              "\u001b[31m│\u001b[0m   \u001b[2m 184 \u001b[0m\u001b[2m│   \u001b[0m\u001b[94melse\u001b[0m:                                                                                 \u001b[31m│\u001b[0m\n",
              "\u001b[31m│\u001b[0m   \u001b[2m 185 \u001b[0m\u001b[2m│   │   \u001b[0m\u001b[2m# TODO(torch_deploy): this accesses linecache, which attempts to read the\u001b[0m         \u001b[31m│\u001b[0m\n",
              "\u001b[31m│\u001b[0m   \u001b[2m 186 \u001b[0m\u001b[2m│   │   \u001b[0m\u001b[2m# file system to get traceback info. Patch linecache or do something\u001b[0m              \u001b[31m│\u001b[0m\n",
              "\u001b[31m│\u001b[0m                                                                                                  \u001b[31m│\u001b[0m\n",
              "\u001b[31m│\u001b[0m \u001b[2;33m/usr/local/lib/python3.10/dist-packages/torch/cuda/\u001b[0m\u001b[1;33mrandom.py\u001b[0m:\u001b[94m111\u001b[0m in \u001b[92mcb\u001b[0m                           \u001b[31m│\u001b[0m\n",
              "\u001b[31m│\u001b[0m                                                                                                  \u001b[31m│\u001b[0m\n",
              "\u001b[31m│\u001b[0m   \u001b[2m108 \u001b[0m\u001b[2m│   \u001b[0m\u001b[94mdef\u001b[0m \u001b[92mcb\u001b[0m():                                                                              \u001b[31m│\u001b[0m\n",
              "\u001b[31m│\u001b[0m   \u001b[2m109 \u001b[0m\u001b[2m│   │   \u001b[0m\u001b[94mfor\u001b[0m i \u001b[95min\u001b[0m \u001b[96mrange\u001b[0m(device_count()):                                                    \u001b[31m│\u001b[0m\n",
              "\u001b[31m│\u001b[0m   \u001b[2m110 \u001b[0m\u001b[2m│   │   │   \u001b[0mdefault_generator = torch.cuda.default_generators[i]                           \u001b[31m│\u001b[0m\n",
              "\u001b[31m│\u001b[0m \u001b[31m❱ \u001b[0m111 \u001b[2m│   │   │   \u001b[0mdefault_generator.manual_seed(seed)                                            \u001b[31m│\u001b[0m\n",
              "\u001b[31m│\u001b[0m   \u001b[2m112 \u001b[0m\u001b[2m│   \u001b[0m                                                                                       \u001b[31m│\u001b[0m\n",
              "\u001b[31m│\u001b[0m   \u001b[2m113 \u001b[0m\u001b[2m│   \u001b[0m_lazy_call(cb, seed_all=\u001b[94mTrue\u001b[0m)                                                          \u001b[31m│\u001b[0m\n",
              "\u001b[31m│\u001b[0m   \u001b[2m114 \u001b[0m                                                                                           \u001b[31m│\u001b[0m\n",
              "\u001b[31m╰──────────────────────────────────────────────────────────────────────────────────────────────────╯\u001b[0m\n",
              "\u001b[1;91mRuntimeError: \u001b[0mCUDA error: device-side assert triggered\n",
              "CUDA kernel errors might be asynchronously reported at some other API call, so the stacktrace below might be \n",
              "incorrect.\n",
              "For debugging consider passing \u001b[33mCUDA_LAUNCH_BLOCKING\u001b[0m=\u001b[1;36m1\u001b[0m.\n",
              "Compile with `TORCH_USE_CUDA_DSA` to enable device-side assertions.\n",
              "\n"
            ],
            "text/html": [
              "<pre style=\"white-space:pre;overflow-x:auto;line-height:normal;font-family:Menlo,'DejaVu Sans Mono',consolas,'Courier New',monospace\"><span style=\"color: #800000; text-decoration-color: #800000\">╭─────────────────────────────── </span><span style=\"color: #800000; text-decoration-color: #800000; font-weight: bold\">Traceback </span><span style=\"color: #bf7f7f; text-decoration-color: #bf7f7f; font-weight: bold\">(most recent call last)</span><span style=\"color: #800000; text-decoration-color: #800000\"> ────────────────────────────────╮</span>\n",
              "<span style=\"color: #800000; text-decoration-color: #800000\">│</span> in <span style=\"color: #00ff00; text-decoration-color: #00ff00\">&lt;cell line: 4&gt;</span>:<span style=\"color: #0000ff; text-decoration-color: #0000ff\">4</span>                                                                              <span style=\"color: #800000; text-decoration-color: #800000\">│</span>\n",
              "<span style=\"color: #800000; text-decoration-color: #800000\">│</span> in <span style=\"color: #00ff00; text-decoration-color: #00ff00\">get_trainer</span>:<span style=\"color: #0000ff; text-decoration-color: #0000ff\">13</span>                                                                                <span style=\"color: #800000; text-decoration-color: #800000\">│</span>\n",
              "<span style=\"color: #800000; text-decoration-color: #800000\">│</span>                                                                                                  <span style=\"color: #800000; text-decoration-color: #800000\">│</span>\n",
              "<span style=\"color: #800000; text-decoration-color: #800000\">│</span> <span style=\"color: #bfbf7f; text-decoration-color: #bfbf7f\">/usr/local/lib/python3.10/dist-packages/transformers/</span><span style=\"color: #808000; text-decoration-color: #808000; font-weight: bold\">trainer.py</span>:<span style=\"color: #0000ff; text-decoration-color: #0000ff\">335</span> in <span style=\"color: #00ff00; text-decoration-color: #00ff00\">__init__</span>                  <span style=\"color: #800000; text-decoration-color: #800000\">│</span>\n",
              "<span style=\"color: #800000; text-decoration-color: #800000\">│</span>                                                                                                  <span style=\"color: #800000; text-decoration-color: #800000\">│</span>\n",
              "<span style=\"color: #800000; text-decoration-color: #800000\">│</span>   <span style=\"color: #7f7f7f; text-decoration-color: #7f7f7f\"> 332 │   │   │   </span>args = TrainingArguments(output_dir=output_dir)                               <span style=\"color: #800000; text-decoration-color: #800000\">│</span>\n",
              "<span style=\"color: #800000; text-decoration-color: #800000\">│</span>   <span style=\"color: #7f7f7f; text-decoration-color: #7f7f7f\"> 333 │   │   </span><span style=\"color: #00ffff; text-decoration-color: #00ffff\">self</span>.args = args                                                                  <span style=\"color: #800000; text-decoration-color: #800000\">│</span>\n",
              "<span style=\"color: #800000; text-decoration-color: #800000\">│</span>   <span style=\"color: #7f7f7f; text-decoration-color: #7f7f7f\"> 334 │   │   # Seed must be set before instantiating the model when using model</span>                <span style=\"color: #800000; text-decoration-color: #800000\">│</span>\n",
              "<span style=\"color: #800000; text-decoration-color: #800000\">│</span> <span style=\"color: #800000; text-decoration-color: #800000\">❱ </span> 335 <span style=\"color: #7f7f7f; text-decoration-color: #7f7f7f\">│   │   </span>enable_full_determinism(<span style=\"color: #00ffff; text-decoration-color: #00ffff\">self</span>.args.seed) <span style=\"color: #0000ff; text-decoration-color: #0000ff\">if</span> <span style=\"color: #00ffff; text-decoration-color: #00ffff\">self</span>.args.full_determinism <span style=\"color: #0000ff; text-decoration-color: #0000ff\">else</span> set_s  <span style=\"color: #800000; text-decoration-color: #800000\">│</span>\n",
              "<span style=\"color: #800000; text-decoration-color: #800000\">│</span>   <span style=\"color: #7f7f7f; text-decoration-color: #7f7f7f\"> 336 │   │   </span><span style=\"color: #00ffff; text-decoration-color: #00ffff\">self</span>.hp_name = <span style=\"color: #0000ff; text-decoration-color: #0000ff\">None</span>                                                               <span style=\"color: #800000; text-decoration-color: #800000\">│</span>\n",
              "<span style=\"color: #800000; text-decoration-color: #800000\">│</span>   <span style=\"color: #7f7f7f; text-decoration-color: #7f7f7f\"> 337 │   │   </span><span style=\"color: #00ffff; text-decoration-color: #00ffff\">self</span>.deepspeed = <span style=\"color: #0000ff; text-decoration-color: #0000ff\">None</span>                                                             <span style=\"color: #800000; text-decoration-color: #800000\">│</span>\n",
              "<span style=\"color: #800000; text-decoration-color: #800000\">│</span>   <span style=\"color: #7f7f7f; text-decoration-color: #7f7f7f\"> 338 │   │   </span><span style=\"color: #00ffff; text-decoration-color: #00ffff\">self</span>.is_in_train = <span style=\"color: #0000ff; text-decoration-color: #0000ff\">False</span>                                                          <span style=\"color: #800000; text-decoration-color: #800000\">│</span>\n",
              "<span style=\"color: #800000; text-decoration-color: #800000\">│</span>                                                                                                  <span style=\"color: #800000; text-decoration-color: #800000\">│</span>\n",
              "<span style=\"color: #800000; text-decoration-color: #800000\">│</span> <span style=\"color: #bfbf7f; text-decoration-color: #bfbf7f\">/usr/local/lib/python3.10/dist-packages/transformers/</span><span style=\"color: #808000; text-decoration-color: #808000; font-weight: bold\">trainer_utils.py</span>:<span style=\"color: #0000ff; text-decoration-color: #0000ff\">93</span> in <span style=\"color: #00ff00; text-decoration-color: #00ff00\">set_seed</span>             <span style=\"color: #800000; text-decoration-color: #800000\">│</span>\n",
              "<span style=\"color: #800000; text-decoration-color: #800000\">│</span>                                                                                                  <span style=\"color: #800000; text-decoration-color: #800000\">│</span>\n",
              "<span style=\"color: #800000; text-decoration-color: #800000\">│</span>   <span style=\"color: #7f7f7f; text-decoration-color: #7f7f7f\"> 90 │   </span>random.seed(seed)                                                                      <span style=\"color: #800000; text-decoration-color: #800000\">│</span>\n",
              "<span style=\"color: #800000; text-decoration-color: #800000\">│</span>   <span style=\"color: #7f7f7f; text-decoration-color: #7f7f7f\"> 91 │   </span>np.random.seed(seed)                                                                   <span style=\"color: #800000; text-decoration-color: #800000\">│</span>\n",
              "<span style=\"color: #800000; text-decoration-color: #800000\">│</span>   <span style=\"color: #7f7f7f; text-decoration-color: #7f7f7f\"> 92 │   </span><span style=\"color: #0000ff; text-decoration-color: #0000ff\">if</span> is_torch_available():                                                               <span style=\"color: #800000; text-decoration-color: #800000\">│</span>\n",
              "<span style=\"color: #800000; text-decoration-color: #800000\">│</span> <span style=\"color: #800000; text-decoration-color: #800000\">❱ </span> 93 <span style=\"color: #7f7f7f; text-decoration-color: #7f7f7f\">│   │   </span>torch.manual_seed(seed)                                                            <span style=\"color: #800000; text-decoration-color: #800000\">│</span>\n",
              "<span style=\"color: #800000; text-decoration-color: #800000\">│</span>   <span style=\"color: #7f7f7f; text-decoration-color: #7f7f7f\"> 94 │   │   </span>torch.cuda.manual_seed_all(seed)                                                   <span style=\"color: #800000; text-decoration-color: #800000\">│</span>\n",
              "<span style=\"color: #800000; text-decoration-color: #800000\">│</span>   <span style=\"color: #7f7f7f; text-decoration-color: #7f7f7f\"> 95 │   │   # ^^ safe to call this function even if cuda is not available</span>                      <span style=\"color: #800000; text-decoration-color: #800000\">│</span>\n",
              "<span style=\"color: #800000; text-decoration-color: #800000\">│</span>   <span style=\"color: #7f7f7f; text-decoration-color: #7f7f7f\"> 96 │   </span><span style=\"color: #0000ff; text-decoration-color: #0000ff\">if</span> is_tf_available():                                                                  <span style=\"color: #800000; text-decoration-color: #800000\">│</span>\n",
              "<span style=\"color: #800000; text-decoration-color: #800000\">│</span>                                                                                                  <span style=\"color: #800000; text-decoration-color: #800000\">│</span>\n",
              "<span style=\"color: #800000; text-decoration-color: #800000\">│</span> <span style=\"color: #bfbf7f; text-decoration-color: #bfbf7f\">/usr/local/lib/python3.10/dist-packages/torch/</span><span style=\"color: #808000; text-decoration-color: #808000; font-weight: bold\">random.py</span>:<span style=\"color: #0000ff; text-decoration-color: #0000ff\">40</span> in <span style=\"color: #00ff00; text-decoration-color: #00ff00\">manual_seed</span>                        <span style=\"color: #800000; text-decoration-color: #800000\">│</span>\n",
              "<span style=\"color: #800000; text-decoration-color: #800000\">│</span>                                                                                                  <span style=\"color: #800000; text-decoration-color: #800000\">│</span>\n",
              "<span style=\"color: #800000; text-decoration-color: #800000\">│</span>   <span style=\"color: #7f7f7f; text-decoration-color: #7f7f7f\"> 37 │   </span><span style=\"color: #0000ff; text-decoration-color: #0000ff\">import</span> <span style=\"color: #00ffff; text-decoration-color: #00ffff; text-decoration: underline\">torch.cuda</span>                                                                      <span style=\"color: #800000; text-decoration-color: #800000\">│</span>\n",
              "<span style=\"color: #800000; text-decoration-color: #800000\">│</span>   <span style=\"color: #7f7f7f; text-decoration-color: #7f7f7f\"> 38 │   </span>                                                                                       <span style=\"color: #800000; text-decoration-color: #800000\">│</span>\n",
              "<span style=\"color: #800000; text-decoration-color: #800000\">│</span>   <span style=\"color: #7f7f7f; text-decoration-color: #7f7f7f\"> 39 │   </span><span style=\"color: #0000ff; text-decoration-color: #0000ff\">if</span> <span style=\"color: #ff00ff; text-decoration-color: #ff00ff\">not</span> torch.cuda._is_in_bad_fork():                                                   <span style=\"color: #800000; text-decoration-color: #800000\">│</span>\n",
              "<span style=\"color: #800000; text-decoration-color: #800000\">│</span> <span style=\"color: #800000; text-decoration-color: #800000\">❱ </span> 40 <span style=\"color: #7f7f7f; text-decoration-color: #7f7f7f\">│   │   </span>torch.cuda.manual_seed_all(seed)                                                   <span style=\"color: #800000; text-decoration-color: #800000\">│</span>\n",
              "<span style=\"color: #800000; text-decoration-color: #800000\">│</span>   <span style=\"color: #7f7f7f; text-decoration-color: #7f7f7f\"> 41 │   </span>                                                                                       <span style=\"color: #800000; text-decoration-color: #800000\">│</span>\n",
              "<span style=\"color: #800000; text-decoration-color: #800000\">│</span>   <span style=\"color: #7f7f7f; text-decoration-color: #7f7f7f\"> 42 │   </span><span style=\"color: #0000ff; text-decoration-color: #0000ff\">import</span> <span style=\"color: #00ffff; text-decoration-color: #00ffff; text-decoration: underline\">torch.mps</span>                                                                       <span style=\"color: #800000; text-decoration-color: #800000\">│</span>\n",
              "<span style=\"color: #800000; text-decoration-color: #800000\">│</span>   <span style=\"color: #7f7f7f; text-decoration-color: #7f7f7f\"> 43 │   </span><span style=\"color: #0000ff; text-decoration-color: #0000ff\">if</span> <span style=\"color: #ff00ff; text-decoration-color: #ff00ff\">not</span> torch.mps._is_in_bad_fork():                                                    <span style=\"color: #800000; text-decoration-color: #800000\">│</span>\n",
              "<span style=\"color: #800000; text-decoration-color: #800000\">│</span>                                                                                                  <span style=\"color: #800000; text-decoration-color: #800000\">│</span>\n",
              "<span style=\"color: #800000; text-decoration-color: #800000\">│</span> <span style=\"color: #bfbf7f; text-decoration-color: #bfbf7f\">/usr/local/lib/python3.10/dist-packages/torch/cuda/</span><span style=\"color: #808000; text-decoration-color: #808000; font-weight: bold\">random.py</span>:<span style=\"color: #0000ff; text-decoration-color: #0000ff\">113</span> in <span style=\"color: #00ff00; text-decoration-color: #00ff00\">manual_seed_all</span>              <span style=\"color: #800000; text-decoration-color: #800000\">│</span>\n",
              "<span style=\"color: #800000; text-decoration-color: #800000\">│</span>                                                                                                  <span style=\"color: #800000; text-decoration-color: #800000\">│</span>\n",
              "<span style=\"color: #800000; text-decoration-color: #800000\">│</span>   <span style=\"color: #7f7f7f; text-decoration-color: #7f7f7f\">110 │   │   │   </span>default_generator = torch.cuda.default_generators[i]                           <span style=\"color: #800000; text-decoration-color: #800000\">│</span>\n",
              "<span style=\"color: #800000; text-decoration-color: #800000\">│</span>   <span style=\"color: #7f7f7f; text-decoration-color: #7f7f7f\">111 │   │   │   </span>default_generator.manual_seed(seed)                                            <span style=\"color: #800000; text-decoration-color: #800000\">│</span>\n",
              "<span style=\"color: #800000; text-decoration-color: #800000\">│</span>   <span style=\"color: #7f7f7f; text-decoration-color: #7f7f7f\">112 │   </span>                                                                                       <span style=\"color: #800000; text-decoration-color: #800000\">│</span>\n",
              "<span style=\"color: #800000; text-decoration-color: #800000\">│</span> <span style=\"color: #800000; text-decoration-color: #800000\">❱ </span>113 <span style=\"color: #7f7f7f; text-decoration-color: #7f7f7f\">│   </span>_lazy_call(cb, seed_all=<span style=\"color: #0000ff; text-decoration-color: #0000ff\">True</span>)                                                          <span style=\"color: #800000; text-decoration-color: #800000\">│</span>\n",
              "<span style=\"color: #800000; text-decoration-color: #800000\">│</span>   <span style=\"color: #7f7f7f; text-decoration-color: #7f7f7f\">114 </span>                                                                                           <span style=\"color: #800000; text-decoration-color: #800000\">│</span>\n",
              "<span style=\"color: #800000; text-decoration-color: #800000\">│</span>   <span style=\"color: #7f7f7f; text-decoration-color: #7f7f7f\">115 </span>                                                                                           <span style=\"color: #800000; text-decoration-color: #800000\">│</span>\n",
              "<span style=\"color: #800000; text-decoration-color: #800000\">│</span>   <span style=\"color: #7f7f7f; text-decoration-color: #7f7f7f\">116 </span><span style=\"color: #0000ff; text-decoration-color: #0000ff\">def</span> <span style=\"color: #00ff00; text-decoration-color: #00ff00\">seed</span>() -&gt; <span style=\"color: #0000ff; text-decoration-color: #0000ff\">None</span>:                                                                        <span style=\"color: #800000; text-decoration-color: #800000\">│</span>\n",
              "<span style=\"color: #800000; text-decoration-color: #800000\">│</span>                                                                                                  <span style=\"color: #800000; text-decoration-color: #800000\">│</span>\n",
              "<span style=\"color: #800000; text-decoration-color: #800000\">│</span> <span style=\"color: #bfbf7f; text-decoration-color: #bfbf7f\">/usr/local/lib/python3.10/dist-packages/torch/cuda/</span><span style=\"color: #808000; text-decoration-color: #808000; font-weight: bold\">__init__.py</span>:<span style=\"color: #0000ff; text-decoration-color: #0000ff\">183</span> in <span style=\"color: #00ff00; text-decoration-color: #00ff00\">_lazy_call</span>                 <span style=\"color: #800000; text-decoration-color: #800000\">│</span>\n",
              "<span style=\"color: #800000; text-decoration-color: #800000\">│</span>                                                                                                  <span style=\"color: #800000; text-decoration-color: #800000\">│</span>\n",
              "<span style=\"color: #800000; text-decoration-color: #800000\">│</span>   <span style=\"color: #7f7f7f; text-decoration-color: #7f7f7f\"> 180 </span>                                                                                          <span style=\"color: #800000; text-decoration-color: #800000\">│</span>\n",
              "<span style=\"color: #800000; text-decoration-color: #800000\">│</span>   <span style=\"color: #7f7f7f; text-decoration-color: #7f7f7f\"> 181 </span><span style=\"color: #0000ff; text-decoration-color: #0000ff\">def</span> <span style=\"color: #00ff00; text-decoration-color: #00ff00\">_lazy_call</span>(callable, **kwargs):                                                       <span style=\"color: #800000; text-decoration-color: #800000\">│</span>\n",
              "<span style=\"color: #800000; text-decoration-color: #800000\">│</span>   <span style=\"color: #7f7f7f; text-decoration-color: #7f7f7f\"> 182 │   </span><span style=\"color: #0000ff; text-decoration-color: #0000ff\">if</span> is_initialized():                                                                  <span style=\"color: #800000; text-decoration-color: #800000\">│</span>\n",
              "<span style=\"color: #800000; text-decoration-color: #800000\">│</span> <span style=\"color: #800000; text-decoration-color: #800000\">❱ </span> 183 <span style=\"color: #7f7f7f; text-decoration-color: #7f7f7f\">│   │   </span>callable()                                                                        <span style=\"color: #800000; text-decoration-color: #800000\">│</span>\n",
              "<span style=\"color: #800000; text-decoration-color: #800000\">│</span>   <span style=\"color: #7f7f7f; text-decoration-color: #7f7f7f\"> 184 │   </span><span style=\"color: #0000ff; text-decoration-color: #0000ff\">else</span>:                                                                                 <span style=\"color: #800000; text-decoration-color: #800000\">│</span>\n",
              "<span style=\"color: #800000; text-decoration-color: #800000\">│</span>   <span style=\"color: #7f7f7f; text-decoration-color: #7f7f7f\"> 185 │   │   # TODO(torch_deploy): this accesses linecache, which attempts to read the</span>         <span style=\"color: #800000; text-decoration-color: #800000\">│</span>\n",
              "<span style=\"color: #800000; text-decoration-color: #800000\">│</span>   <span style=\"color: #7f7f7f; text-decoration-color: #7f7f7f\"> 186 │   │   # file system to get traceback info. Patch linecache or do something</span>              <span style=\"color: #800000; text-decoration-color: #800000\">│</span>\n",
              "<span style=\"color: #800000; text-decoration-color: #800000\">│</span>                                                                                                  <span style=\"color: #800000; text-decoration-color: #800000\">│</span>\n",
              "<span style=\"color: #800000; text-decoration-color: #800000\">│</span> <span style=\"color: #bfbf7f; text-decoration-color: #bfbf7f\">/usr/local/lib/python3.10/dist-packages/torch/cuda/</span><span style=\"color: #808000; text-decoration-color: #808000; font-weight: bold\">random.py</span>:<span style=\"color: #0000ff; text-decoration-color: #0000ff\">111</span> in <span style=\"color: #00ff00; text-decoration-color: #00ff00\">cb</span>                           <span style=\"color: #800000; text-decoration-color: #800000\">│</span>\n",
              "<span style=\"color: #800000; text-decoration-color: #800000\">│</span>                                                                                                  <span style=\"color: #800000; text-decoration-color: #800000\">│</span>\n",
              "<span style=\"color: #800000; text-decoration-color: #800000\">│</span>   <span style=\"color: #7f7f7f; text-decoration-color: #7f7f7f\">108 │   </span><span style=\"color: #0000ff; text-decoration-color: #0000ff\">def</span> <span style=\"color: #00ff00; text-decoration-color: #00ff00\">cb</span>():                                                                              <span style=\"color: #800000; text-decoration-color: #800000\">│</span>\n",
              "<span style=\"color: #800000; text-decoration-color: #800000\">│</span>   <span style=\"color: #7f7f7f; text-decoration-color: #7f7f7f\">109 │   │   </span><span style=\"color: #0000ff; text-decoration-color: #0000ff\">for</span> i <span style=\"color: #ff00ff; text-decoration-color: #ff00ff\">in</span> <span style=\"color: #00ffff; text-decoration-color: #00ffff\">range</span>(device_count()):                                                    <span style=\"color: #800000; text-decoration-color: #800000\">│</span>\n",
              "<span style=\"color: #800000; text-decoration-color: #800000\">│</span>   <span style=\"color: #7f7f7f; text-decoration-color: #7f7f7f\">110 │   │   │   </span>default_generator = torch.cuda.default_generators[i]                           <span style=\"color: #800000; text-decoration-color: #800000\">│</span>\n",
              "<span style=\"color: #800000; text-decoration-color: #800000\">│</span> <span style=\"color: #800000; text-decoration-color: #800000\">❱ </span>111 <span style=\"color: #7f7f7f; text-decoration-color: #7f7f7f\">│   │   │   </span>default_generator.manual_seed(seed)                                            <span style=\"color: #800000; text-decoration-color: #800000\">│</span>\n",
              "<span style=\"color: #800000; text-decoration-color: #800000\">│</span>   <span style=\"color: #7f7f7f; text-decoration-color: #7f7f7f\">112 │   </span>                                                                                       <span style=\"color: #800000; text-decoration-color: #800000\">│</span>\n",
              "<span style=\"color: #800000; text-decoration-color: #800000\">│</span>   <span style=\"color: #7f7f7f; text-decoration-color: #7f7f7f\">113 │   </span>_lazy_call(cb, seed_all=<span style=\"color: #0000ff; text-decoration-color: #0000ff\">True</span>)                                                          <span style=\"color: #800000; text-decoration-color: #800000\">│</span>\n",
              "<span style=\"color: #800000; text-decoration-color: #800000\">│</span>   <span style=\"color: #7f7f7f; text-decoration-color: #7f7f7f\">114 </span>                                                                                           <span style=\"color: #800000; text-decoration-color: #800000\">│</span>\n",
              "<span style=\"color: #800000; text-decoration-color: #800000\">╰──────────────────────────────────────────────────────────────────────────────────────────────────╯</span>\n",
              "<span style=\"color: #ff0000; text-decoration-color: #ff0000; font-weight: bold\">RuntimeError: </span>CUDA error: device-side assert triggered\n",
              "CUDA kernel errors might be asynchronously reported at some other API call, so the stacktrace below might be \n",
              "incorrect.\n",
              "For debugging consider passing <span style=\"color: #808000; text-decoration-color: #808000\">CUDA_LAUNCH_BLOCKING</span>=<span style=\"color: #008080; text-decoration-color: #008080; font-weight: bold\">1</span>.\n",
              "Compile with `TORCH_USE_CUDA_DSA` to enable device-side assertions.\n",
              "\n",
              "</pre>\n"
            ]
          },
          "metadata": {}
        }
      ]
    },
    {
      "cell_type": "code",
      "source": [
        "n_folds = 4\n",
        "from sklearn.model_selection import StratifiedGroupKFold\n",
        "cv = StratifiedGroupKFold(n_splits=n_folds)\n",
        "df = df.sample(frac=1, random_state=42)\n",
        "scores = (df.score*100).astype(int)\n",
        "folds = list(cv.split(idxs, scores, df.anchor))\n",
        "folds"
      ],
      "metadata": {
        "colab": {
          "base_uri": "https://localhost:8080/"
        },
        "id": "jECp3I47ZJxs",
        "outputId": "cc46a7b1-603c-4494-b5f3-94986ca6f17f"
      },
      "execution_count": null,
      "outputs": [
        {
          "output_type": "execute_result",
          "data": {
            "text/plain": [
              "[(array([    0,     1,     2, ..., 36469, 36471, 36472]),\n",
              "  array([    8,    13,    14, ..., 36453, 36464, 36470])),\n",
              " (array([    0,     1,     5, ..., 36470, 36471, 36472]),\n",
              "  array([    2,     3,     4, ..., 36459, 36461, 36462])),\n",
              " (array([    1,     2,     3, ..., 36467, 36470, 36472]),\n",
              "  array([    0,     7,    11, ..., 36468, 36469, 36471])),\n",
              " (array([    0,     2,     3, ..., 36469, 36470, 36471]),\n",
              "  array([    1,     5,     9, ..., 36465, 36467, 36472]))]"
            ]
          },
          "metadata": {},
          "execution_count": 77
        }
      ]
    },
    {
      "cell_type": "code",
      "source": [
        "def get_fold(folds, fold_num):\n",
        "    trn,val = folds[fold_num]\n",
        "    return DatasetDict({\"train\":tok_ds.select(trn), \"test\": tok_ds.select(val)})"
      ],
      "metadata": {
        "id": "ArMJ5F06aHeO"
      },
      "execution_count": null,
      "outputs": []
    },
    {
      "cell_type": "code",
      "source": [
        "metrics = [o['eval_pearson'] for o in trainer.state.log_history if 'eval_pearson' in o]\n",
        "metrics[-1]"
      ],
      "metadata": {
        "colab": {
          "base_uri": "https://localhost:8080/"
        },
        "id": "b4_JQyRhaMOR",
        "outputId": "a2d5898f-c6af-4811-eb2a-9e723bf57c58"
      },
      "execution_count": null,
      "outputs": [
        {
          "output_type": "execute_result",
          "data": {
            "text/plain": [
              "0.8319822865975671"
            ]
          },
          "metadata": {},
          "execution_count": 79
        }
      ]
    },
    {
      "cell_type": "markdown",
      "source": [
        "Try out a different model."
      ],
      "metadata": {
        "id": "va-QTg8daxAs"
      }
    }
  ],
  "metadata": {
    "accelerator": "GPU",
    "colab": {
      "machine_shape": "hm",
      "provenance": [],
      "gpuType": "A100",
      "authorship_tag": "ABX9TyMiThVAp4KdqggAPpM5h4X0",
      "include_colab_link": true
    },
    "gpuClass": "standard",
    "kernelspec": {
      "display_name": "Python 3",
      "name": "python3"
    },
    "language_info": {
      "name": "python"
    },
    "widgets": {
      "application/vnd.jupyter.widget-state+json": {
        "055a688e036e4097a265b768277cfbcd": {
          "model_module": "@jupyter-widgets/controls",
          "model_name": "HBoxModel",
          "model_module_version": "1.5.0",
          "state": {
            "_dom_classes": [],
            "_model_module": "@jupyter-widgets/controls",
            "_model_module_version": "1.5.0",
            "_model_name": "HBoxModel",
            "_view_count": null,
            "_view_module": "@jupyter-widgets/controls",
            "_view_module_version": "1.5.0",
            "_view_name": "HBoxView",
            "box_style": "",
            "children": [
              "IPY_MODEL_bbaf7a2d084c4bf287296c3c8e3ce0d3",
              "IPY_MODEL_1c420d336ff8402493c2100a9dcbd4f9",
              "IPY_MODEL_96e768d5681b4d15a8c6e18aef68bb12"
            ],
            "layout": "IPY_MODEL_92539726eb21466ab9af6305833a1d50"
          }
        },
        "bbaf7a2d084c4bf287296c3c8e3ce0d3": {
          "model_module": "@jupyter-widgets/controls",
          "model_name": "HTMLModel",
          "model_module_version": "1.5.0",
          "state": {
            "_dom_classes": [],
            "_model_module": "@jupyter-widgets/controls",
            "_model_module_version": "1.5.0",
            "_model_name": "HTMLModel",
            "_view_count": null,
            "_view_module": "@jupyter-widgets/controls",
            "_view_module_version": "1.5.0",
            "_view_name": "HTMLView",
            "description": "",
            "description_tooltip": null,
            "layout": "IPY_MODEL_d9f7c042d7df47d0a043c6cb5f97c676",
            "placeholder": "​",
            "style": "IPY_MODEL_727beec4ebb14019b050b8b4c5e9cd43",
            "value": "Map:  96%"
          }
        },
        "1c420d336ff8402493c2100a9dcbd4f9": {
          "model_module": "@jupyter-widgets/controls",
          "model_name": "FloatProgressModel",
          "model_module_version": "1.5.0",
          "state": {
            "_dom_classes": [],
            "_model_module": "@jupyter-widgets/controls",
            "_model_module_version": "1.5.0",
            "_model_name": "FloatProgressModel",
            "_view_count": null,
            "_view_module": "@jupyter-widgets/controls",
            "_view_module_version": "1.5.0",
            "_view_name": "ProgressView",
            "bar_style": "",
            "description": "",
            "description_tooltip": null,
            "layout": "IPY_MODEL_075606869b944fc9b89273405e257555",
            "max": 36473,
            "min": 0,
            "orientation": "horizontal",
            "style": "IPY_MODEL_839550a73a074f39a13ff909984b38ad",
            "value": 36473
          }
        },
        "96e768d5681b4d15a8c6e18aef68bb12": {
          "model_module": "@jupyter-widgets/controls",
          "model_name": "HTMLModel",
          "model_module_version": "1.5.0",
          "state": {
            "_dom_classes": [],
            "_model_module": "@jupyter-widgets/controls",
            "_model_module_version": "1.5.0",
            "_model_name": "HTMLModel",
            "_view_count": null,
            "_view_module": "@jupyter-widgets/controls",
            "_view_module_version": "1.5.0",
            "_view_name": "HTMLView",
            "description": "",
            "description_tooltip": null,
            "layout": "IPY_MODEL_f82e75489dcd414e94ff1b8dc948354a",
            "placeholder": "​",
            "style": "IPY_MODEL_f9aa2753994d49b3a42fc435e3f63a64",
            "value": " 35000/36473 [00:00&lt;00:00, 34907.03 examples/s]"
          }
        },
        "92539726eb21466ab9af6305833a1d50": {
          "model_module": "@jupyter-widgets/base",
          "model_name": "LayoutModel",
          "model_module_version": "1.2.0",
          "state": {
            "_model_module": "@jupyter-widgets/base",
            "_model_module_version": "1.2.0",
            "_model_name": "LayoutModel",
            "_view_count": null,
            "_view_module": "@jupyter-widgets/base",
            "_view_module_version": "1.2.0",
            "_view_name": "LayoutView",
            "align_content": null,
            "align_items": null,
            "align_self": null,
            "border": null,
            "bottom": null,
            "display": null,
            "flex": null,
            "flex_flow": null,
            "grid_area": null,
            "grid_auto_columns": null,
            "grid_auto_flow": null,
            "grid_auto_rows": null,
            "grid_column": null,
            "grid_gap": null,
            "grid_row": null,
            "grid_template_areas": null,
            "grid_template_columns": null,
            "grid_template_rows": null,
            "height": null,
            "justify_content": null,
            "justify_items": null,
            "left": null,
            "margin": null,
            "max_height": null,
            "max_width": null,
            "min_height": null,
            "min_width": null,
            "object_fit": null,
            "object_position": null,
            "order": null,
            "overflow": null,
            "overflow_x": null,
            "overflow_y": null,
            "padding": null,
            "right": null,
            "top": null,
            "visibility": "hidden",
            "width": null
          }
        },
        "d9f7c042d7df47d0a043c6cb5f97c676": {
          "model_module": "@jupyter-widgets/base",
          "model_name": "LayoutModel",
          "model_module_version": "1.2.0",
          "state": {
            "_model_module": "@jupyter-widgets/base",
            "_model_module_version": "1.2.0",
            "_model_name": "LayoutModel",
            "_view_count": null,
            "_view_module": "@jupyter-widgets/base",
            "_view_module_version": "1.2.0",
            "_view_name": "LayoutView",
            "align_content": null,
            "align_items": null,
            "align_self": null,
            "border": null,
            "bottom": null,
            "display": null,
            "flex": null,
            "flex_flow": null,
            "grid_area": null,
            "grid_auto_columns": null,
            "grid_auto_flow": null,
            "grid_auto_rows": null,
            "grid_column": null,
            "grid_gap": null,
            "grid_row": null,
            "grid_template_areas": null,
            "grid_template_columns": null,
            "grid_template_rows": null,
            "height": null,
            "justify_content": null,
            "justify_items": null,
            "left": null,
            "margin": null,
            "max_height": null,
            "max_width": null,
            "min_height": null,
            "min_width": null,
            "object_fit": null,
            "object_position": null,
            "order": null,
            "overflow": null,
            "overflow_x": null,
            "overflow_y": null,
            "padding": null,
            "right": null,
            "top": null,
            "visibility": null,
            "width": null
          }
        },
        "727beec4ebb14019b050b8b4c5e9cd43": {
          "model_module": "@jupyter-widgets/controls",
          "model_name": "DescriptionStyleModel",
          "model_module_version": "1.5.0",
          "state": {
            "_model_module": "@jupyter-widgets/controls",
            "_model_module_version": "1.5.0",
            "_model_name": "DescriptionStyleModel",
            "_view_count": null,
            "_view_module": "@jupyter-widgets/base",
            "_view_module_version": "1.2.0",
            "_view_name": "StyleView",
            "description_width": ""
          }
        },
        "075606869b944fc9b89273405e257555": {
          "model_module": "@jupyter-widgets/base",
          "model_name": "LayoutModel",
          "model_module_version": "1.2.0",
          "state": {
            "_model_module": "@jupyter-widgets/base",
            "_model_module_version": "1.2.0",
            "_model_name": "LayoutModel",
            "_view_count": null,
            "_view_module": "@jupyter-widgets/base",
            "_view_module_version": "1.2.0",
            "_view_name": "LayoutView",
            "align_content": null,
            "align_items": null,
            "align_self": null,
            "border": null,
            "bottom": null,
            "display": null,
            "flex": null,
            "flex_flow": null,
            "grid_area": null,
            "grid_auto_columns": null,
            "grid_auto_flow": null,
            "grid_auto_rows": null,
            "grid_column": null,
            "grid_gap": null,
            "grid_row": null,
            "grid_template_areas": null,
            "grid_template_columns": null,
            "grid_template_rows": null,
            "height": null,
            "justify_content": null,
            "justify_items": null,
            "left": null,
            "margin": null,
            "max_height": null,
            "max_width": null,
            "min_height": null,
            "min_width": null,
            "object_fit": null,
            "object_position": null,
            "order": null,
            "overflow": null,
            "overflow_x": null,
            "overflow_y": null,
            "padding": null,
            "right": null,
            "top": null,
            "visibility": null,
            "width": null
          }
        },
        "839550a73a074f39a13ff909984b38ad": {
          "model_module": "@jupyter-widgets/controls",
          "model_name": "ProgressStyleModel",
          "model_module_version": "1.5.0",
          "state": {
            "_model_module": "@jupyter-widgets/controls",
            "_model_module_version": "1.5.0",
            "_model_name": "ProgressStyleModel",
            "_view_count": null,
            "_view_module": "@jupyter-widgets/base",
            "_view_module_version": "1.2.0",
            "_view_name": "StyleView",
            "bar_color": null,
            "description_width": ""
          }
        },
        "f82e75489dcd414e94ff1b8dc948354a": {
          "model_module": "@jupyter-widgets/base",
          "model_name": "LayoutModel",
          "model_module_version": "1.2.0",
          "state": {
            "_model_module": "@jupyter-widgets/base",
            "_model_module_version": "1.2.0",
            "_model_name": "LayoutModel",
            "_view_count": null,
            "_view_module": "@jupyter-widgets/base",
            "_view_module_version": "1.2.0",
            "_view_name": "LayoutView",
            "align_content": null,
            "align_items": null,
            "align_self": null,
            "border": null,
            "bottom": null,
            "display": null,
            "flex": null,
            "flex_flow": null,
            "grid_area": null,
            "grid_auto_columns": null,
            "grid_auto_flow": null,
            "grid_auto_rows": null,
            "grid_column": null,
            "grid_gap": null,
            "grid_row": null,
            "grid_template_areas": null,
            "grid_template_columns": null,
            "grid_template_rows": null,
            "height": null,
            "justify_content": null,
            "justify_items": null,
            "left": null,
            "margin": null,
            "max_height": null,
            "max_width": null,
            "min_height": null,
            "min_width": null,
            "object_fit": null,
            "object_position": null,
            "order": null,
            "overflow": null,
            "overflow_x": null,
            "overflow_y": null,
            "padding": null,
            "right": null,
            "top": null,
            "visibility": null,
            "width": null
          }
        },
        "f9aa2753994d49b3a42fc435e3f63a64": {
          "model_module": "@jupyter-widgets/controls",
          "model_name": "DescriptionStyleModel",
          "model_module_version": "1.5.0",
          "state": {
            "_model_module": "@jupyter-widgets/controls",
            "_model_module_version": "1.5.0",
            "_model_name": "DescriptionStyleModel",
            "_view_count": null,
            "_view_module": "@jupyter-widgets/base",
            "_view_module_version": "1.2.0",
            "_view_name": "StyleView",
            "description_width": ""
          }
        },
        "9a70d093f483403e88962e25dd87fcea": {
          "model_module": "@jupyter-widgets/controls",
          "model_name": "HBoxModel",
          "model_module_version": "1.5.0",
          "state": {
            "_dom_classes": [],
            "_model_module": "@jupyter-widgets/controls",
            "_model_module_version": "1.5.0",
            "_model_name": "HBoxModel",
            "_view_count": null,
            "_view_module": "@jupyter-widgets/controls",
            "_view_module_version": "1.5.0",
            "_view_name": "HBoxView",
            "box_style": "",
            "children": [
              "IPY_MODEL_a53f84c5009e48d3b3187df1d7aeef5f",
              "IPY_MODEL_34b9fa50094945ca9c9d3315f0e88c60",
              "IPY_MODEL_3841331a0b544060a738613104d09064"
            ],
            "layout": "IPY_MODEL_beb99e0828ed4d70a4f405ad5432b5b1"
          }
        },
        "a53f84c5009e48d3b3187df1d7aeef5f": {
          "model_module": "@jupyter-widgets/controls",
          "model_name": "HTMLModel",
          "model_module_version": "1.5.0",
          "state": {
            "_dom_classes": [],
            "_model_module": "@jupyter-widgets/controls",
            "_model_module_version": "1.5.0",
            "_model_name": "HTMLModel",
            "_view_count": null,
            "_view_module": "@jupyter-widgets/controls",
            "_view_module_version": "1.5.0",
            "_view_name": "HTMLView",
            "description": "",
            "description_tooltip": null,
            "layout": "IPY_MODEL_6c83896b60e74f0bbccc8ecdab91e06d",
            "placeholder": "​",
            "style": "IPY_MODEL_b2033c7d369b4d88b16a45e4da9038b2",
            "value": "Downloading pytorch_model.bin: 100%"
          }
        },
        "34b9fa50094945ca9c9d3315f0e88c60": {
          "model_module": "@jupyter-widgets/controls",
          "model_name": "FloatProgressModel",
          "model_module_version": "1.5.0",
          "state": {
            "_dom_classes": [],
            "_model_module": "@jupyter-widgets/controls",
            "_model_module_version": "1.5.0",
            "_model_name": "FloatProgressModel",
            "_view_count": null,
            "_view_module": "@jupyter-widgets/controls",
            "_view_module_version": "1.5.0",
            "_view_name": "ProgressView",
            "bar_style": "success",
            "description": "",
            "description_tooltip": null,
            "layout": "IPY_MODEL_45faca77fa2a4b6484f6f9e2877faa26",
            "max": 286059269,
            "min": 0,
            "orientation": "horizontal",
            "style": "IPY_MODEL_840d08565bdb4bd494dfbac95820f7ef",
            "value": 286059269
          }
        },
        "3841331a0b544060a738613104d09064": {
          "model_module": "@jupyter-widgets/controls",
          "model_name": "HTMLModel",
          "model_module_version": "1.5.0",
          "state": {
            "_dom_classes": [],
            "_model_module": "@jupyter-widgets/controls",
            "_model_module_version": "1.5.0",
            "_model_name": "HTMLModel",
            "_view_count": null,
            "_view_module": "@jupyter-widgets/controls",
            "_view_module_version": "1.5.0",
            "_view_name": "HTMLView",
            "description": "",
            "description_tooltip": null,
            "layout": "IPY_MODEL_5fb824b407194c658d1e922608b0970d",
            "placeholder": "​",
            "style": "IPY_MODEL_2eb41293d7c3441db9123dfc8f80f92d",
            "value": " 286M/286M [00:00&lt;00:00, 483MB/s]"
          }
        },
        "beb99e0828ed4d70a4f405ad5432b5b1": {
          "model_module": "@jupyter-widgets/base",
          "model_name": "LayoutModel",
          "model_module_version": "1.2.0",
          "state": {
            "_model_module": "@jupyter-widgets/base",
            "_model_module_version": "1.2.0",
            "_model_name": "LayoutModel",
            "_view_count": null,
            "_view_module": "@jupyter-widgets/base",
            "_view_module_version": "1.2.0",
            "_view_name": "LayoutView",
            "align_content": null,
            "align_items": null,
            "align_self": null,
            "border": null,
            "bottom": null,
            "display": null,
            "flex": null,
            "flex_flow": null,
            "grid_area": null,
            "grid_auto_columns": null,
            "grid_auto_flow": null,
            "grid_auto_rows": null,
            "grid_column": null,
            "grid_gap": null,
            "grid_row": null,
            "grid_template_areas": null,
            "grid_template_columns": null,
            "grid_template_rows": null,
            "height": null,
            "justify_content": null,
            "justify_items": null,
            "left": null,
            "margin": null,
            "max_height": null,
            "max_width": null,
            "min_height": null,
            "min_width": null,
            "object_fit": null,
            "object_position": null,
            "order": null,
            "overflow": null,
            "overflow_x": null,
            "overflow_y": null,
            "padding": null,
            "right": null,
            "top": null,
            "visibility": null,
            "width": null
          }
        },
        "6c83896b60e74f0bbccc8ecdab91e06d": {
          "model_module": "@jupyter-widgets/base",
          "model_name": "LayoutModel",
          "model_module_version": "1.2.0",
          "state": {
            "_model_module": "@jupyter-widgets/base",
            "_model_module_version": "1.2.0",
            "_model_name": "LayoutModel",
            "_view_count": null,
            "_view_module": "@jupyter-widgets/base",
            "_view_module_version": "1.2.0",
            "_view_name": "LayoutView",
            "align_content": null,
            "align_items": null,
            "align_self": null,
            "border": null,
            "bottom": null,
            "display": null,
            "flex": null,
            "flex_flow": null,
            "grid_area": null,
            "grid_auto_columns": null,
            "grid_auto_flow": null,
            "grid_auto_rows": null,
            "grid_column": null,
            "grid_gap": null,
            "grid_row": null,
            "grid_template_areas": null,
            "grid_template_columns": null,
            "grid_template_rows": null,
            "height": null,
            "justify_content": null,
            "justify_items": null,
            "left": null,
            "margin": null,
            "max_height": null,
            "max_width": null,
            "min_height": null,
            "min_width": null,
            "object_fit": null,
            "object_position": null,
            "order": null,
            "overflow": null,
            "overflow_x": null,
            "overflow_y": null,
            "padding": null,
            "right": null,
            "top": null,
            "visibility": null,
            "width": null
          }
        },
        "b2033c7d369b4d88b16a45e4da9038b2": {
          "model_module": "@jupyter-widgets/controls",
          "model_name": "DescriptionStyleModel",
          "model_module_version": "1.5.0",
          "state": {
            "_model_module": "@jupyter-widgets/controls",
            "_model_module_version": "1.5.0",
            "_model_name": "DescriptionStyleModel",
            "_view_count": null,
            "_view_module": "@jupyter-widgets/base",
            "_view_module_version": "1.2.0",
            "_view_name": "StyleView",
            "description_width": ""
          }
        },
        "45faca77fa2a4b6484f6f9e2877faa26": {
          "model_module": "@jupyter-widgets/base",
          "model_name": "LayoutModel",
          "model_module_version": "1.2.0",
          "state": {
            "_model_module": "@jupyter-widgets/base",
            "_model_module_version": "1.2.0",
            "_model_name": "LayoutModel",
            "_view_count": null,
            "_view_module": "@jupyter-widgets/base",
            "_view_module_version": "1.2.0",
            "_view_name": "LayoutView",
            "align_content": null,
            "align_items": null,
            "align_self": null,
            "border": null,
            "bottom": null,
            "display": null,
            "flex": null,
            "flex_flow": null,
            "grid_area": null,
            "grid_auto_columns": null,
            "grid_auto_flow": null,
            "grid_auto_rows": null,
            "grid_column": null,
            "grid_gap": null,
            "grid_row": null,
            "grid_template_areas": null,
            "grid_template_columns": null,
            "grid_template_rows": null,
            "height": null,
            "justify_content": null,
            "justify_items": null,
            "left": null,
            "margin": null,
            "max_height": null,
            "max_width": null,
            "min_height": null,
            "min_width": null,
            "object_fit": null,
            "object_position": null,
            "order": null,
            "overflow": null,
            "overflow_x": null,
            "overflow_y": null,
            "padding": null,
            "right": null,
            "top": null,
            "visibility": null,
            "width": null
          }
        },
        "840d08565bdb4bd494dfbac95820f7ef": {
          "model_module": "@jupyter-widgets/controls",
          "model_name": "ProgressStyleModel",
          "model_module_version": "1.5.0",
          "state": {
            "_model_module": "@jupyter-widgets/controls",
            "_model_module_version": "1.5.0",
            "_model_name": "ProgressStyleModel",
            "_view_count": null,
            "_view_module": "@jupyter-widgets/base",
            "_view_module_version": "1.2.0",
            "_view_name": "StyleView",
            "bar_color": null,
            "description_width": ""
          }
        },
        "5fb824b407194c658d1e922608b0970d": {
          "model_module": "@jupyter-widgets/base",
          "model_name": "LayoutModel",
          "model_module_version": "1.2.0",
          "state": {
            "_model_module": "@jupyter-widgets/base",
            "_model_module_version": "1.2.0",
            "_model_name": "LayoutModel",
            "_view_count": null,
            "_view_module": "@jupyter-widgets/base",
            "_view_module_version": "1.2.0",
            "_view_name": "LayoutView",
            "align_content": null,
            "align_items": null,
            "align_self": null,
            "border": null,
            "bottom": null,
            "display": null,
            "flex": null,
            "flex_flow": null,
            "grid_area": null,
            "grid_auto_columns": null,
            "grid_auto_flow": null,
            "grid_auto_rows": null,
            "grid_column": null,
            "grid_gap": null,
            "grid_row": null,
            "grid_template_areas": null,
            "grid_template_columns": null,
            "grid_template_rows": null,
            "height": null,
            "justify_content": null,
            "justify_items": null,
            "left": null,
            "margin": null,
            "max_height": null,
            "max_width": null,
            "min_height": null,
            "min_width": null,
            "object_fit": null,
            "object_position": null,
            "order": null,
            "overflow": null,
            "overflow_x": null,
            "overflow_y": null,
            "padding": null,
            "right": null,
            "top": null,
            "visibility": null,
            "width": null
          }
        },
        "2eb41293d7c3441db9123dfc8f80f92d": {
          "model_module": "@jupyter-widgets/controls",
          "model_name": "DescriptionStyleModel",
          "model_module_version": "1.5.0",
          "state": {
            "_model_module": "@jupyter-widgets/controls",
            "_model_module_version": "1.5.0",
            "_model_name": "DescriptionStyleModel",
            "_view_count": null,
            "_view_module": "@jupyter-widgets/base",
            "_view_module_version": "1.2.0",
            "_view_name": "StyleView",
            "description_width": ""
          }
        },
        "82ba27cdc8d944c7bda56d192331bb6e": {
          "model_module": "@jupyter-widgets/controls",
          "model_name": "HBoxModel",
          "model_module_version": "1.5.0",
          "state": {
            "_dom_classes": [],
            "_model_module": "@jupyter-widgets/controls",
            "_model_module_version": "1.5.0",
            "_model_name": "HBoxModel",
            "_view_count": null,
            "_view_module": "@jupyter-widgets/controls",
            "_view_module_version": "1.5.0",
            "_view_name": "HBoxView",
            "box_style": "",
            "children": [
              "IPY_MODEL_db377314bf564ac1b51492bb4d232703",
              "IPY_MODEL_49b521493e7945b7aecbcb9bffc28643",
              "IPY_MODEL_ab6191c5b10240988ac5f8e62f1a3af8"
            ],
            "layout": "IPY_MODEL_ba0c5d2a1545404a987a6791d15c65f3"
          }
        },
        "db377314bf564ac1b51492bb4d232703": {
          "model_module": "@jupyter-widgets/controls",
          "model_name": "HTMLModel",
          "model_module_version": "1.5.0",
          "state": {
            "_dom_classes": [],
            "_model_module": "@jupyter-widgets/controls",
            "_model_module_version": "1.5.0",
            "_model_name": "HTMLModel",
            "_view_count": null,
            "_view_module": "@jupyter-widgets/controls",
            "_view_module_version": "1.5.0",
            "_view_name": "HTMLView",
            "description": "",
            "description_tooltip": null,
            "layout": "IPY_MODEL_4d5f1ce07e9e472e8076d2a1325b77df",
            "placeholder": "​",
            "style": "IPY_MODEL_5deb133ae8cc4eefa7b2912a38026394",
            "value": "Map: 100%"
          }
        },
        "49b521493e7945b7aecbcb9bffc28643": {
          "model_module": "@jupyter-widgets/controls",
          "model_name": "FloatProgressModel",
          "model_module_version": "1.5.0",
          "state": {
            "_dom_classes": [],
            "_model_module": "@jupyter-widgets/controls",
            "_model_module_version": "1.5.0",
            "_model_name": "FloatProgressModel",
            "_view_count": null,
            "_view_module": "@jupyter-widgets/controls",
            "_view_module_version": "1.5.0",
            "_view_name": "ProgressView",
            "bar_style": "",
            "description": "",
            "description_tooltip": null,
            "layout": "IPY_MODEL_c34ac0af463b43bc843e7ca2e0ca764e",
            "max": 36473,
            "min": 0,
            "orientation": "horizontal",
            "style": "IPY_MODEL_04ca7b5ac508488ca6e1eb1aa4bad25a",
            "value": 36473
          }
        },
        "ab6191c5b10240988ac5f8e62f1a3af8": {
          "model_module": "@jupyter-widgets/controls",
          "model_name": "HTMLModel",
          "model_module_version": "1.5.0",
          "state": {
            "_dom_classes": [],
            "_model_module": "@jupyter-widgets/controls",
            "_model_module_version": "1.5.0",
            "_model_name": "HTMLModel",
            "_view_count": null,
            "_view_module": "@jupyter-widgets/controls",
            "_view_module_version": "1.5.0",
            "_view_name": "HTMLView",
            "description": "",
            "description_tooltip": null,
            "layout": "IPY_MODEL_2e9e90d660014d4a8d533ea5705f1903",
            "placeholder": "​",
            "style": "IPY_MODEL_1b744c9ba32445bca24e25e975b861f0",
            "value": " 36473/36473 [00:00&lt;00:00, 45481.49 examples/s]"
          }
        },
        "ba0c5d2a1545404a987a6791d15c65f3": {
          "model_module": "@jupyter-widgets/base",
          "model_name": "LayoutModel",
          "model_module_version": "1.2.0",
          "state": {
            "_model_module": "@jupyter-widgets/base",
            "_model_module_version": "1.2.0",
            "_model_name": "LayoutModel",
            "_view_count": null,
            "_view_module": "@jupyter-widgets/base",
            "_view_module_version": "1.2.0",
            "_view_name": "LayoutView",
            "align_content": null,
            "align_items": null,
            "align_self": null,
            "border": null,
            "bottom": null,
            "display": null,
            "flex": null,
            "flex_flow": null,
            "grid_area": null,
            "grid_auto_columns": null,
            "grid_auto_flow": null,
            "grid_auto_rows": null,
            "grid_column": null,
            "grid_gap": null,
            "grid_row": null,
            "grid_template_areas": null,
            "grid_template_columns": null,
            "grid_template_rows": null,
            "height": null,
            "justify_content": null,
            "justify_items": null,
            "left": null,
            "margin": null,
            "max_height": null,
            "max_width": null,
            "min_height": null,
            "min_width": null,
            "object_fit": null,
            "object_position": null,
            "order": null,
            "overflow": null,
            "overflow_x": null,
            "overflow_y": null,
            "padding": null,
            "right": null,
            "top": null,
            "visibility": "hidden",
            "width": null
          }
        },
        "4d5f1ce07e9e472e8076d2a1325b77df": {
          "model_module": "@jupyter-widgets/base",
          "model_name": "LayoutModel",
          "model_module_version": "1.2.0",
          "state": {
            "_model_module": "@jupyter-widgets/base",
            "_model_module_version": "1.2.0",
            "_model_name": "LayoutModel",
            "_view_count": null,
            "_view_module": "@jupyter-widgets/base",
            "_view_module_version": "1.2.0",
            "_view_name": "LayoutView",
            "align_content": null,
            "align_items": null,
            "align_self": null,
            "border": null,
            "bottom": null,
            "display": null,
            "flex": null,
            "flex_flow": null,
            "grid_area": null,
            "grid_auto_columns": null,
            "grid_auto_flow": null,
            "grid_auto_rows": null,
            "grid_column": null,
            "grid_gap": null,
            "grid_row": null,
            "grid_template_areas": null,
            "grid_template_columns": null,
            "grid_template_rows": null,
            "height": null,
            "justify_content": null,
            "justify_items": null,
            "left": null,
            "margin": null,
            "max_height": null,
            "max_width": null,
            "min_height": null,
            "min_width": null,
            "object_fit": null,
            "object_position": null,
            "order": null,
            "overflow": null,
            "overflow_x": null,
            "overflow_y": null,
            "padding": null,
            "right": null,
            "top": null,
            "visibility": null,
            "width": null
          }
        },
        "5deb133ae8cc4eefa7b2912a38026394": {
          "model_module": "@jupyter-widgets/controls",
          "model_name": "DescriptionStyleModel",
          "model_module_version": "1.5.0",
          "state": {
            "_model_module": "@jupyter-widgets/controls",
            "_model_module_version": "1.5.0",
            "_model_name": "DescriptionStyleModel",
            "_view_count": null,
            "_view_module": "@jupyter-widgets/base",
            "_view_module_version": "1.2.0",
            "_view_name": "StyleView",
            "description_width": ""
          }
        },
        "c34ac0af463b43bc843e7ca2e0ca764e": {
          "model_module": "@jupyter-widgets/base",
          "model_name": "LayoutModel",
          "model_module_version": "1.2.0",
          "state": {
            "_model_module": "@jupyter-widgets/base",
            "_model_module_version": "1.2.0",
            "_model_name": "LayoutModel",
            "_view_count": null,
            "_view_module": "@jupyter-widgets/base",
            "_view_module_version": "1.2.0",
            "_view_name": "LayoutView",
            "align_content": null,
            "align_items": null,
            "align_self": null,
            "border": null,
            "bottom": null,
            "display": null,
            "flex": null,
            "flex_flow": null,
            "grid_area": null,
            "grid_auto_columns": null,
            "grid_auto_flow": null,
            "grid_auto_rows": null,
            "grid_column": null,
            "grid_gap": null,
            "grid_row": null,
            "grid_template_areas": null,
            "grid_template_columns": null,
            "grid_template_rows": null,
            "height": null,
            "justify_content": null,
            "justify_items": null,
            "left": null,
            "margin": null,
            "max_height": null,
            "max_width": null,
            "min_height": null,
            "min_width": null,
            "object_fit": null,
            "object_position": null,
            "order": null,
            "overflow": null,
            "overflow_x": null,
            "overflow_y": null,
            "padding": null,
            "right": null,
            "top": null,
            "visibility": null,
            "width": null
          }
        },
        "04ca7b5ac508488ca6e1eb1aa4bad25a": {
          "model_module": "@jupyter-widgets/controls",
          "model_name": "ProgressStyleModel",
          "model_module_version": "1.5.0",
          "state": {
            "_model_module": "@jupyter-widgets/controls",
            "_model_module_version": "1.5.0",
            "_model_name": "ProgressStyleModel",
            "_view_count": null,
            "_view_module": "@jupyter-widgets/base",
            "_view_module_version": "1.2.0",
            "_view_name": "StyleView",
            "bar_color": null,
            "description_width": ""
          }
        },
        "2e9e90d660014d4a8d533ea5705f1903": {
          "model_module": "@jupyter-widgets/base",
          "model_name": "LayoutModel",
          "model_module_version": "1.2.0",
          "state": {
            "_model_module": "@jupyter-widgets/base",
            "_model_module_version": "1.2.0",
            "_model_name": "LayoutModel",
            "_view_count": null,
            "_view_module": "@jupyter-widgets/base",
            "_view_module_version": "1.2.0",
            "_view_name": "LayoutView",
            "align_content": null,
            "align_items": null,
            "align_self": null,
            "border": null,
            "bottom": null,
            "display": null,
            "flex": null,
            "flex_flow": null,
            "grid_area": null,
            "grid_auto_columns": null,
            "grid_auto_flow": null,
            "grid_auto_rows": null,
            "grid_column": null,
            "grid_gap": null,
            "grid_row": null,
            "grid_template_areas": null,
            "grid_template_columns": null,
            "grid_template_rows": null,
            "height": null,
            "justify_content": null,
            "justify_items": null,
            "left": null,
            "margin": null,
            "max_height": null,
            "max_width": null,
            "min_height": null,
            "min_width": null,
            "object_fit": null,
            "object_position": null,
            "order": null,
            "overflow": null,
            "overflow_x": null,
            "overflow_y": null,
            "padding": null,
            "right": null,
            "top": null,
            "visibility": null,
            "width": null
          }
        },
        "1b744c9ba32445bca24e25e975b861f0": {
          "model_module": "@jupyter-widgets/controls",
          "model_name": "DescriptionStyleModel",
          "model_module_version": "1.5.0",
          "state": {
            "_model_module": "@jupyter-widgets/controls",
            "_model_module_version": "1.5.0",
            "_model_name": "DescriptionStyleModel",
            "_view_count": null,
            "_view_module": "@jupyter-widgets/base",
            "_view_module_version": "1.2.0",
            "_view_name": "StyleView",
            "description_width": ""
          }
        },
        "437a35ece544484b978987923e957ec4": {
          "model_module": "@jupyter-widgets/controls",
          "model_name": "HBoxModel",
          "model_module_version": "1.5.0",
          "state": {
            "_dom_classes": [],
            "_model_module": "@jupyter-widgets/controls",
            "_model_module_version": "1.5.0",
            "_model_name": "HBoxModel",
            "_view_count": null,
            "_view_module": "@jupyter-widgets/controls",
            "_view_module_version": "1.5.0",
            "_view_name": "HBoxView",
            "box_style": "",
            "children": [
              "IPY_MODEL_86d6e92b8bf044e59511848ce72ee082",
              "IPY_MODEL_3948ddb0e5b04edd95ea75a5a71180bb",
              "IPY_MODEL_b573d29ea56148cba0a0ad58bd685326"
            ],
            "layout": "IPY_MODEL_9c3a7d98513046dfa22a39634a0f946d"
          }
        },
        "86d6e92b8bf044e59511848ce72ee082": {
          "model_module": "@jupyter-widgets/controls",
          "model_name": "HTMLModel",
          "model_module_version": "1.5.0",
          "state": {
            "_dom_classes": [],
            "_model_module": "@jupyter-widgets/controls",
            "_model_module_version": "1.5.0",
            "_model_name": "HTMLModel",
            "_view_count": null,
            "_view_module": "@jupyter-widgets/controls",
            "_view_module_version": "1.5.0",
            "_view_name": "HTMLView",
            "description": "",
            "description_tooltip": null,
            "layout": "IPY_MODEL_ef53e3edd7de4edabfbf9a7f39584d14",
            "placeholder": "​",
            "style": "IPY_MODEL_99e44aacf6d741c2b425cb596bc8152b",
            "value": "Map:  88%"
          }
        },
        "3948ddb0e5b04edd95ea75a5a71180bb": {
          "model_module": "@jupyter-widgets/controls",
          "model_name": "FloatProgressModel",
          "model_module_version": "1.5.0",
          "state": {
            "_dom_classes": [],
            "_model_module": "@jupyter-widgets/controls",
            "_model_module_version": "1.5.0",
            "_model_name": "FloatProgressModel",
            "_view_count": null,
            "_view_module": "@jupyter-widgets/controls",
            "_view_module_version": "1.5.0",
            "_view_name": "ProgressView",
            "bar_style": "",
            "description": "",
            "description_tooltip": null,
            "layout": "IPY_MODEL_1a18456a59bf4657af16e5fa88934649",
            "max": 36473,
            "min": 0,
            "orientation": "horizontal",
            "style": "IPY_MODEL_f726df9697af4002b92552e718d41fdb",
            "value": 36473
          }
        },
        "b573d29ea56148cba0a0ad58bd685326": {
          "model_module": "@jupyter-widgets/controls",
          "model_name": "HTMLModel",
          "model_module_version": "1.5.0",
          "state": {
            "_dom_classes": [],
            "_model_module": "@jupyter-widgets/controls",
            "_model_module_version": "1.5.0",
            "_model_name": "HTMLModel",
            "_view_count": null,
            "_view_module": "@jupyter-widgets/controls",
            "_view_module_version": "1.5.0",
            "_view_name": "HTMLView",
            "description": "",
            "description_tooltip": null,
            "layout": "IPY_MODEL_fa3c40edbece4ed4a200357750ced501",
            "placeholder": "​",
            "style": "IPY_MODEL_133dd1255426426fa380443042f9eed4",
            "value": " 32000/36473 [00:00&lt;00:00, 32067.13 examples/s]"
          }
        },
        "9c3a7d98513046dfa22a39634a0f946d": {
          "model_module": "@jupyter-widgets/base",
          "model_name": "LayoutModel",
          "model_module_version": "1.2.0",
          "state": {
            "_model_module": "@jupyter-widgets/base",
            "_model_module_version": "1.2.0",
            "_model_name": "LayoutModel",
            "_view_count": null,
            "_view_module": "@jupyter-widgets/base",
            "_view_module_version": "1.2.0",
            "_view_name": "LayoutView",
            "align_content": null,
            "align_items": null,
            "align_self": null,
            "border": null,
            "bottom": null,
            "display": null,
            "flex": null,
            "flex_flow": null,
            "grid_area": null,
            "grid_auto_columns": null,
            "grid_auto_flow": null,
            "grid_auto_rows": null,
            "grid_column": null,
            "grid_gap": null,
            "grid_row": null,
            "grid_template_areas": null,
            "grid_template_columns": null,
            "grid_template_rows": null,
            "height": null,
            "justify_content": null,
            "justify_items": null,
            "left": null,
            "margin": null,
            "max_height": null,
            "max_width": null,
            "min_height": null,
            "min_width": null,
            "object_fit": null,
            "object_position": null,
            "order": null,
            "overflow": null,
            "overflow_x": null,
            "overflow_y": null,
            "padding": null,
            "right": null,
            "top": null,
            "visibility": "hidden",
            "width": null
          }
        },
        "ef53e3edd7de4edabfbf9a7f39584d14": {
          "model_module": "@jupyter-widgets/base",
          "model_name": "LayoutModel",
          "model_module_version": "1.2.0",
          "state": {
            "_model_module": "@jupyter-widgets/base",
            "_model_module_version": "1.2.0",
            "_model_name": "LayoutModel",
            "_view_count": null,
            "_view_module": "@jupyter-widgets/base",
            "_view_module_version": "1.2.0",
            "_view_name": "LayoutView",
            "align_content": null,
            "align_items": null,
            "align_self": null,
            "border": null,
            "bottom": null,
            "display": null,
            "flex": null,
            "flex_flow": null,
            "grid_area": null,
            "grid_auto_columns": null,
            "grid_auto_flow": null,
            "grid_auto_rows": null,
            "grid_column": null,
            "grid_gap": null,
            "grid_row": null,
            "grid_template_areas": null,
            "grid_template_columns": null,
            "grid_template_rows": null,
            "height": null,
            "justify_content": null,
            "justify_items": null,
            "left": null,
            "margin": null,
            "max_height": null,
            "max_width": null,
            "min_height": null,
            "min_width": null,
            "object_fit": null,
            "object_position": null,
            "order": null,
            "overflow": null,
            "overflow_x": null,
            "overflow_y": null,
            "padding": null,
            "right": null,
            "top": null,
            "visibility": null,
            "width": null
          }
        },
        "99e44aacf6d741c2b425cb596bc8152b": {
          "model_module": "@jupyter-widgets/controls",
          "model_name": "DescriptionStyleModel",
          "model_module_version": "1.5.0",
          "state": {
            "_model_module": "@jupyter-widgets/controls",
            "_model_module_version": "1.5.0",
            "_model_name": "DescriptionStyleModel",
            "_view_count": null,
            "_view_module": "@jupyter-widgets/base",
            "_view_module_version": "1.2.0",
            "_view_name": "StyleView",
            "description_width": ""
          }
        },
        "1a18456a59bf4657af16e5fa88934649": {
          "model_module": "@jupyter-widgets/base",
          "model_name": "LayoutModel",
          "model_module_version": "1.2.0",
          "state": {
            "_model_module": "@jupyter-widgets/base",
            "_model_module_version": "1.2.0",
            "_model_name": "LayoutModel",
            "_view_count": null,
            "_view_module": "@jupyter-widgets/base",
            "_view_module_version": "1.2.0",
            "_view_name": "LayoutView",
            "align_content": null,
            "align_items": null,
            "align_self": null,
            "border": null,
            "bottom": null,
            "display": null,
            "flex": null,
            "flex_flow": null,
            "grid_area": null,
            "grid_auto_columns": null,
            "grid_auto_flow": null,
            "grid_auto_rows": null,
            "grid_column": null,
            "grid_gap": null,
            "grid_row": null,
            "grid_template_areas": null,
            "grid_template_columns": null,
            "grid_template_rows": null,
            "height": null,
            "justify_content": null,
            "justify_items": null,
            "left": null,
            "margin": null,
            "max_height": null,
            "max_width": null,
            "min_height": null,
            "min_width": null,
            "object_fit": null,
            "object_position": null,
            "order": null,
            "overflow": null,
            "overflow_x": null,
            "overflow_y": null,
            "padding": null,
            "right": null,
            "top": null,
            "visibility": null,
            "width": null
          }
        },
        "f726df9697af4002b92552e718d41fdb": {
          "model_module": "@jupyter-widgets/controls",
          "model_name": "ProgressStyleModel",
          "model_module_version": "1.5.0",
          "state": {
            "_model_module": "@jupyter-widgets/controls",
            "_model_module_version": "1.5.0",
            "_model_name": "ProgressStyleModel",
            "_view_count": null,
            "_view_module": "@jupyter-widgets/base",
            "_view_module_version": "1.2.0",
            "_view_name": "StyleView",
            "bar_color": null,
            "description_width": ""
          }
        },
        "fa3c40edbece4ed4a200357750ced501": {
          "model_module": "@jupyter-widgets/base",
          "model_name": "LayoutModel",
          "model_module_version": "1.2.0",
          "state": {
            "_model_module": "@jupyter-widgets/base",
            "_model_module_version": "1.2.0",
            "_model_name": "LayoutModel",
            "_view_count": null,
            "_view_module": "@jupyter-widgets/base",
            "_view_module_version": "1.2.0",
            "_view_name": "LayoutView",
            "align_content": null,
            "align_items": null,
            "align_self": null,
            "border": null,
            "bottom": null,
            "display": null,
            "flex": null,
            "flex_flow": null,
            "grid_area": null,
            "grid_auto_columns": null,
            "grid_auto_flow": null,
            "grid_auto_rows": null,
            "grid_column": null,
            "grid_gap": null,
            "grid_row": null,
            "grid_template_areas": null,
            "grid_template_columns": null,
            "grid_template_rows": null,
            "height": null,
            "justify_content": null,
            "justify_items": null,
            "left": null,
            "margin": null,
            "max_height": null,
            "max_width": null,
            "min_height": null,
            "min_width": null,
            "object_fit": null,
            "object_position": null,
            "order": null,
            "overflow": null,
            "overflow_x": null,
            "overflow_y": null,
            "padding": null,
            "right": null,
            "top": null,
            "visibility": null,
            "width": null
          }
        },
        "133dd1255426426fa380443042f9eed4": {
          "model_module": "@jupyter-widgets/controls",
          "model_name": "DescriptionStyleModel",
          "model_module_version": "1.5.0",
          "state": {
            "_model_module": "@jupyter-widgets/controls",
            "_model_module_version": "1.5.0",
            "_model_name": "DescriptionStyleModel",
            "_view_count": null,
            "_view_module": "@jupyter-widgets/base",
            "_view_module_version": "1.2.0",
            "_view_name": "StyleView",
            "description_width": ""
          }
        },
        "b068406985c242feaec8bfd41c84e14c": {
          "model_module": "@jupyter-widgets/controls",
          "model_name": "HBoxModel",
          "model_module_version": "1.5.0",
          "state": {
            "_dom_classes": [],
            "_model_module": "@jupyter-widgets/controls",
            "_model_module_version": "1.5.0",
            "_model_name": "HBoxModel",
            "_view_count": null,
            "_view_module": "@jupyter-widgets/controls",
            "_view_module_version": "1.5.0",
            "_view_name": "HBoxView",
            "box_style": "",
            "children": [
              "IPY_MODEL_37dff66290e5459ca58974f5dcecd79c",
              "IPY_MODEL_a84dd213c0624b428bd0263116e3197d",
              "IPY_MODEL_fb122d6edd8242c0a97fb4af923fe69a"
            ],
            "layout": "IPY_MODEL_c74374fd274545d9995b0ebc05e71faf"
          }
        },
        "37dff66290e5459ca58974f5dcecd79c": {
          "model_module": "@jupyter-widgets/controls",
          "model_name": "HTMLModel",
          "model_module_version": "1.5.0",
          "state": {
            "_dom_classes": [],
            "_model_module": "@jupyter-widgets/controls",
            "_model_module_version": "1.5.0",
            "_model_name": "HTMLModel",
            "_view_count": null,
            "_view_module": "@jupyter-widgets/controls",
            "_view_module_version": "1.5.0",
            "_view_name": "HTMLView",
            "description": "",
            "description_tooltip": null,
            "layout": "IPY_MODEL_7eaf8cadf25c4bbca80e1594a62c7520",
            "placeholder": "​",
            "style": "IPY_MODEL_ab01fe5811c94fcda86d7f6fa6e73d9f",
            "value": "Map:  96%"
          }
        },
        "a84dd213c0624b428bd0263116e3197d": {
          "model_module": "@jupyter-widgets/controls",
          "model_name": "FloatProgressModel",
          "model_module_version": "1.5.0",
          "state": {
            "_dom_classes": [],
            "_model_module": "@jupyter-widgets/controls",
            "_model_module_version": "1.5.0",
            "_model_name": "FloatProgressModel",
            "_view_count": null,
            "_view_module": "@jupyter-widgets/controls",
            "_view_module_version": "1.5.0",
            "_view_name": "ProgressView",
            "bar_style": "",
            "description": "",
            "description_tooltip": null,
            "layout": "IPY_MODEL_a87fd5bd0a164f99b5646f20d97f36e7",
            "max": 36473,
            "min": 0,
            "orientation": "horizontal",
            "style": "IPY_MODEL_f079ca070c1142ff9ef2aa2ec9066180",
            "value": 36473
          }
        },
        "fb122d6edd8242c0a97fb4af923fe69a": {
          "model_module": "@jupyter-widgets/controls",
          "model_name": "HTMLModel",
          "model_module_version": "1.5.0",
          "state": {
            "_dom_classes": [],
            "_model_module": "@jupyter-widgets/controls",
            "_model_module_version": "1.5.0",
            "_model_name": "HTMLModel",
            "_view_count": null,
            "_view_module": "@jupyter-widgets/controls",
            "_view_module_version": "1.5.0",
            "_view_name": "HTMLView",
            "description": "",
            "description_tooltip": null,
            "layout": "IPY_MODEL_5477f24f93ac4dc48376540bccc23c00",
            "placeholder": "​",
            "style": "IPY_MODEL_8080ce0516174456a66b519c41f2a38e",
            "value": " 35000/36473 [00:00&lt;00:00, 41998.00 examples/s]"
          }
        },
        "c74374fd274545d9995b0ebc05e71faf": {
          "model_module": "@jupyter-widgets/base",
          "model_name": "LayoutModel",
          "model_module_version": "1.2.0",
          "state": {
            "_model_module": "@jupyter-widgets/base",
            "_model_module_version": "1.2.0",
            "_model_name": "LayoutModel",
            "_view_count": null,
            "_view_module": "@jupyter-widgets/base",
            "_view_module_version": "1.2.0",
            "_view_name": "LayoutView",
            "align_content": null,
            "align_items": null,
            "align_self": null,
            "border": null,
            "bottom": null,
            "display": null,
            "flex": null,
            "flex_flow": null,
            "grid_area": null,
            "grid_auto_columns": null,
            "grid_auto_flow": null,
            "grid_auto_rows": null,
            "grid_column": null,
            "grid_gap": null,
            "grid_row": null,
            "grid_template_areas": null,
            "grid_template_columns": null,
            "grid_template_rows": null,
            "height": null,
            "justify_content": null,
            "justify_items": null,
            "left": null,
            "margin": null,
            "max_height": null,
            "max_width": null,
            "min_height": null,
            "min_width": null,
            "object_fit": null,
            "object_position": null,
            "order": null,
            "overflow": null,
            "overflow_x": null,
            "overflow_y": null,
            "padding": null,
            "right": null,
            "top": null,
            "visibility": "hidden",
            "width": null
          }
        },
        "7eaf8cadf25c4bbca80e1594a62c7520": {
          "model_module": "@jupyter-widgets/base",
          "model_name": "LayoutModel",
          "model_module_version": "1.2.0",
          "state": {
            "_model_module": "@jupyter-widgets/base",
            "_model_module_version": "1.2.0",
            "_model_name": "LayoutModel",
            "_view_count": null,
            "_view_module": "@jupyter-widgets/base",
            "_view_module_version": "1.2.0",
            "_view_name": "LayoutView",
            "align_content": null,
            "align_items": null,
            "align_self": null,
            "border": null,
            "bottom": null,
            "display": null,
            "flex": null,
            "flex_flow": null,
            "grid_area": null,
            "grid_auto_columns": null,
            "grid_auto_flow": null,
            "grid_auto_rows": null,
            "grid_column": null,
            "grid_gap": null,
            "grid_row": null,
            "grid_template_areas": null,
            "grid_template_columns": null,
            "grid_template_rows": null,
            "height": null,
            "justify_content": null,
            "justify_items": null,
            "left": null,
            "margin": null,
            "max_height": null,
            "max_width": null,
            "min_height": null,
            "min_width": null,
            "object_fit": null,
            "object_position": null,
            "order": null,
            "overflow": null,
            "overflow_x": null,
            "overflow_y": null,
            "padding": null,
            "right": null,
            "top": null,
            "visibility": null,
            "width": null
          }
        },
        "ab01fe5811c94fcda86d7f6fa6e73d9f": {
          "model_module": "@jupyter-widgets/controls",
          "model_name": "DescriptionStyleModel",
          "model_module_version": "1.5.0",
          "state": {
            "_model_module": "@jupyter-widgets/controls",
            "_model_module_version": "1.5.0",
            "_model_name": "DescriptionStyleModel",
            "_view_count": null,
            "_view_module": "@jupyter-widgets/base",
            "_view_module_version": "1.2.0",
            "_view_name": "StyleView",
            "description_width": ""
          }
        },
        "a87fd5bd0a164f99b5646f20d97f36e7": {
          "model_module": "@jupyter-widgets/base",
          "model_name": "LayoutModel",
          "model_module_version": "1.2.0",
          "state": {
            "_model_module": "@jupyter-widgets/base",
            "_model_module_version": "1.2.0",
            "_model_name": "LayoutModel",
            "_view_count": null,
            "_view_module": "@jupyter-widgets/base",
            "_view_module_version": "1.2.0",
            "_view_name": "LayoutView",
            "align_content": null,
            "align_items": null,
            "align_self": null,
            "border": null,
            "bottom": null,
            "display": null,
            "flex": null,
            "flex_flow": null,
            "grid_area": null,
            "grid_auto_columns": null,
            "grid_auto_flow": null,
            "grid_auto_rows": null,
            "grid_column": null,
            "grid_gap": null,
            "grid_row": null,
            "grid_template_areas": null,
            "grid_template_columns": null,
            "grid_template_rows": null,
            "height": null,
            "justify_content": null,
            "justify_items": null,
            "left": null,
            "margin": null,
            "max_height": null,
            "max_width": null,
            "min_height": null,
            "min_width": null,
            "object_fit": null,
            "object_position": null,
            "order": null,
            "overflow": null,
            "overflow_x": null,
            "overflow_y": null,
            "padding": null,
            "right": null,
            "top": null,
            "visibility": null,
            "width": null
          }
        },
        "f079ca070c1142ff9ef2aa2ec9066180": {
          "model_module": "@jupyter-widgets/controls",
          "model_name": "ProgressStyleModel",
          "model_module_version": "1.5.0",
          "state": {
            "_model_module": "@jupyter-widgets/controls",
            "_model_module_version": "1.5.0",
            "_model_name": "ProgressStyleModel",
            "_view_count": null,
            "_view_module": "@jupyter-widgets/base",
            "_view_module_version": "1.2.0",
            "_view_name": "StyleView",
            "bar_color": null,
            "description_width": ""
          }
        },
        "5477f24f93ac4dc48376540bccc23c00": {
          "model_module": "@jupyter-widgets/base",
          "model_name": "LayoutModel",
          "model_module_version": "1.2.0",
          "state": {
            "_model_module": "@jupyter-widgets/base",
            "_model_module_version": "1.2.0",
            "_model_name": "LayoutModel",
            "_view_count": null,
            "_view_module": "@jupyter-widgets/base",
            "_view_module_version": "1.2.0",
            "_view_name": "LayoutView",
            "align_content": null,
            "align_items": null,
            "align_self": null,
            "border": null,
            "bottom": null,
            "display": null,
            "flex": null,
            "flex_flow": null,
            "grid_area": null,
            "grid_auto_columns": null,
            "grid_auto_flow": null,
            "grid_auto_rows": null,
            "grid_column": null,
            "grid_gap": null,
            "grid_row": null,
            "grid_template_areas": null,
            "grid_template_columns": null,
            "grid_template_rows": null,
            "height": null,
            "justify_content": null,
            "justify_items": null,
            "left": null,
            "margin": null,
            "max_height": null,
            "max_width": null,
            "min_height": null,
            "min_width": null,
            "object_fit": null,
            "object_position": null,
            "order": null,
            "overflow": null,
            "overflow_x": null,
            "overflow_y": null,
            "padding": null,
            "right": null,
            "top": null,
            "visibility": null,
            "width": null
          }
        },
        "8080ce0516174456a66b519c41f2a38e": {
          "model_module": "@jupyter-widgets/controls",
          "model_name": "DescriptionStyleModel",
          "model_module_version": "1.5.0",
          "state": {
            "_model_module": "@jupyter-widgets/controls",
            "_model_module_version": "1.5.0",
            "_model_name": "DescriptionStyleModel",
            "_view_count": null,
            "_view_module": "@jupyter-widgets/base",
            "_view_module_version": "1.2.0",
            "_view_name": "StyleView",
            "description_width": ""
          }
        }
      }
    }
  },
  "nbformat": 4,
  "nbformat_minor": 0
}